{
 "cells": [
  {
   "cell_type": "markdown",
   "metadata": {},
   "source": [
    "Engy-4390 Fall 2024 UMass Lowell; Prof. V. F. de Almeida **04Sep2024**\n",
    "\n",
    "# [Engy-4390: Nuclear Systems Design and Analysis](https://www.uml.edu/catalog/courses/ENGY/4390)"
   ]
  },
  {
   "cell_type": "markdown",
   "metadata": {},
   "source": [
    "### Instructors: Prof. Valmor F. de Almeida (PI), Prof. Subash Sharma (SI)             \n",
    "**Office:**    Southwick 201B North Campus. <br> \n",
    "**Email:**     valmor_dealmeida@uml.edu. <br>\n",
    "**Web:**       https://www.uml.edu/Engineering/Chemical/faculty/de-Almeida-Valmor.aspx <br>   \n",
    "**Lectures:** \n",
    " + Mon/Wed 5:00 – 6:15 pm, **Ball Hall 323 North Campus**. <br> \n",
    " \n",
    "**Days meetings total :** 27+1. <br>\n",
    "**Week meetings total:** 15/16. <br>\n",
    "\n",
    "<font color=\"red\"><b>Website:</b></font> On-line course [repository](https://github.com/dpploy/engy-4340) and UMass Lowell Blackboard System. <br>\n",
    "\n",
    "**Office hours and location:** <font color=\"red\">Thursdays and Fridays 12 to 1 pm or by appointment</font>. <br>\n",
    "**Additional office hours:**  email prof. de Almeida for appointment. <br>\n",
    "**Additional help:** <font color=\"red\"><b>UML Linux Club meetings, Fridays 5 to 6 pm</b></font>, email prof. de Almeida\n",
    "\n",
    "**Teaching assistant:** None. <br>\n",
    "    \n",
    "**Catalog description:** <br>\n",
    "A design course that focuses on the use of modern computer analysis tools for the design and analysis of nuclear systems. Reactor physics and shielding codes and thermal and transient analysis of nuclear systems are completed by small design teams with individual responsibility for a particular aspect of the design. Oral and written communication skills are emphasized.<br>\n",
    "\n",
    "**Pre-requisites:** Currently none, but highly recommended: Engy-3310 Fund. of Nuclear Science & Engineering, Math-2360 Eng. Differential Equations, ChEn-3170 Computational Methods in Chemical Engineering, and Engy-4350 Nuclear Reactor Engineering.<br>\n",
    "**Course designation:** Core undergraduate. <br>\n",
    "\n",
    "**Helful:** [ChEn-3170 Computational Methods in Chemical Engineering](https://github.com/dpploy/engy-3170).<br>\n",
    "\n",
    "**Textbooks and Notes:**<br>\n",
    "Course notes are provided; these textbooks are used in Engy-4340 and Engy-3310.\n",
    " 1. *Classroom course notes and repository (updated during the semester)*\n",
    " 1. <font color=\"red\">[LB]</font> [*Introduction to Nuclear Engineering*](https://www.amazon.com/Introduction-Nuclear-Engineering-John-Lamarsh/dp/0134570057/ref=pd_sbs_1/146-5808479-2236508?pd_rd_w=dGx67&pf_rd_p=0a3ad226-8a77-4898-9a99-63ffeb1aef90&pf_rd_r=S4HSREX10HTZZHGAT1JR&pd_rd_r=5a3989e3-d824-4845-903a-3b2686e1a28a&pd_rd_wg=jUXXe&pd_rd_i=0134570057&psc=1), John R. Lamarsh and Anthony J. Baratta, Pearson, 2018 Fourth Edition (or Third Edition), 802 pp.\n",
    " 1. <font color=\"red\">[SF]</font> [*Fundamentals of Nuclear Science and Engineering*](https://www.amazon.com/Fundamentals-Nuclear-Science-Engineering-Kenneth/dp/1498769292/ref=sr_1_3?crid=29XAMFC5G6VFL&keywords=J.+Kenneth+Shultis+and+Richard+E.+Faw&qid=1642140584&s=books&sprefix=j.+kenneth+shultis+and+richard+e.+faw%2Cstripbooks%2C95&sr=1-3), J. Kenneth Shultis and Richard E. Faw, CRC Press, 2017 Third Edition (or a recent previous edition), 638 pp.\n",
    " <br>\n",
    " \n",
    " \n",
    " **Other books not required for this course (for information only):**<br>\n",
    " 1. [*Introduction to Nuclear Reactor Theory*](https://www.amazon.com/Introduction-Nuclear-Reactor-Theory-Lamarsh/dp/0894480405/ref=sr_1_1?crid=1H5TTNWYSEH3G&keywords=Introduction+to+Nuclear+Reactor+Theory+lamarsh&qid=1642140895&s=books&sprefix=introduction+to+nuclear+reactor+theory+lamarsh%2Cstripbooks%2C111&sr=1-1), John R. Lamarsh, ANS, 2002 (1966), 585 pp.\n",
    " 1. [*Nuclear Reactor Theory*](https://www.abebooks.com/Nuclear-Reactor-Theory-Bell-George-Samuel/31480578736/bd), George I. Bell and Samuel Glasstone, Van Nonstrand Rheinhold, 1970, 619 pp.\n",
    " 1. [*Computational Methods of Neutron Transport*](https://www.amazon.com/Computational-Methods-Neutron-Transport-Lewis/dp/0471092452/ref=sr_1_1?crid=XCFK4UI3256D&keywords=Computational+Methods+of+Neutron+Transport&qid=1642143637&s=books&sprefix=computational+methods+of+neutron+transport%2Cstripbooks%2C211&sr=1-1#customerReviews),  Elmer E. Lewis and Warren F. Miller Jr., ANS, 1993, 401 pp. \n",
    " 1. [*Introductory Nuclear Reactor Theory*](https://www.amazon.com/Introductory-Nuclear-Reinhold-Chemical-Engineering/dp/B0007DP8ES/ref=sr_1_1?crid=2UJVE8311FPB2&keywords=Introductory+Nuclear+Reactor+Theory&qid=1642144892&s=books&sprefix=introductory+nuclear+reactor+theory%2Cstripbooks%2C97&sr=1-1),  Herbert S. Isbin, Reinhold Chemical Engineering Series, 1963, 624 pp. \n",
    " 1. [*The Physical Theory of Neutron Chain Reactors*](https://www.amazon.com/Physical-Theory-Neutron-Chain-Reactors/dp/0226885178/ref=sr_1_1?crid=AJPWMZHHTG2T&keywords=The+Physical+Theory+of+Neutron+Chain+Reactors%2C&qid=1642144941&s=books&sprefix=the+physical+theory+of+neutron+chain+reactors%2C%2Cstripbooks%2C92&sr=1-1),  Alvin M. Weinberg and Eugene P. Wigner, University of Chicago Press, 1958, 801 pp.\n",
    " 1. [*Nuclear Reactor Analysis*](https://www.amazon.com/Nuclear-Reactor-Analysis-James-Duderstadt/dp/0471223638),  James J. Duderstadt and Louis J. Hamilton, John Wiley  Sons, Inc., 1976, 650 pp. \n",
    " 1. [*Applied Reactor Physics*](https://www.amazon.com/Applied-Reactor-Physics-Alain-H%C3%A9bert/dp/2553017359),  Alain Hebert, Presses internationales Polytechnique, Third Edition 2020, 410 pp. \n",
    " \n",
    "<font color=\"red\"><b>Software used in this course and homework:</b></font> Jupyter notebook access options for this course<br>\n",
    "\n",
    " 1. <font color=\"red\"><b>Preferred way:</b></font> [Anaconda](https://docs.anaconda.com/anaconda/install/#) free download (use the Python 3 version) for Mac OS X or Windows (Linux too in case you are a rare die-hard programmer; if this is your case come talk to me). After install, use [Anaconda-Navigator](https://docs.anaconda.com/anaconda/navigator/) to start a Jupyter Notebook server.\n",
    " \n",
    " 1. Use the [UMass Lowell vLabs](https://www.uml.edu/IT/Services/vLabs/) Learning Commons machine. Download the VMWare Horizon Client and install on your computer. Login with your academic credentials. Anaconda is pre-installed, use the Anaconda-Navigator to start the Jupyter Notebook application.\n",
    " \n",
    " 1. Use Binder at the course [repository](https://github.com/dpploy/engy-4340)\n",
    " \n",
    "<font color=\"red\"><b>Instructive background</b></font> **on programming environment, review of undergraduate computational methods:** [ChEn-3170](https://github.com/dpploy/chen-3170)<br>\n",
    "\n",
    "**Suplement materials:** On-line course [repository: https://github.com/dpploy/engy-4390](https://github.com/dpploy/engy-4390)."
   ]
  },
  {
   "cell_type": "markdown",
   "metadata": {},
   "source": [
    "**Course Projects Offered:**\n",
    " - [NuScale Small Modular Nuclear Reactor Extended BoP Simulation](https://github.com/dpploy/engy-4390/tree/main/projects/sm-pwr)\n",
    " - [Uranium Mill Network Dynamics Simulation](https://github.com/dpploy/engy-4390/tree/main/projects/u-mill)\n",
    " - [Fluoride Salt Cooled High-Temperature Channel Flow](https://github.com/dpploy/engy-5330/tree/main/projects-past/fhr)\n",
    " - [Neutron Diffusion on a Spherical Domain in Vacuum](https://github.com/dpploy/engy-5330/tree/main/projects-past/neutron-ball)\n",
    " - [A Diffusion Drift-Flux Model for Two-Phase Mixture Flow](https://github.com/dpploy/engy-5330/tree/main/projects-past/steamer)\n",
    " - [Tritium Calculation for MSR](https://github.com/dpploy/engy-5330/tree/main/projects-past/tritium)\n",
    " - [Xenon-135 Removal from Molten Salt Reactors by Helium Gas Bubbles](https://github.com/dpploy/engy-5330/tree/main/projects-past/xenon-removal)\n",
    " - [Heated Plate](https://github.com/dpploy/engy-5330/tree/main/projects/heated-plate)\n",
    " - [FIRES Brick](https://github.com/dpploy/engy-5330/tree/main/projects/fires-brick)\n",
    " - [Fuel Plate](https://github.com/dpploy/engy-5330/tree/main/projects/fuel-plate)\n",
    " \n",
    " \n",
    "**Grading:** for grading purposes the requirements for this course include\n",
    " + Partial presentation of progress on project during the semester.\n",
    " + Final oral project presentation and report.\n",
    " \n",
    "|**Course Grading** |**Value**|         \n",
    "|:------------------|---------|\n",
    "| Progress presentation 1 | 25/100  |\n",
    "| Progress presentation 2 | 25/100  |\n",
    "| Final presentation      | 50/100  |\n",
    "\n",
    "|**Letter Grade Scale** |**Value**|\n",
    "|:----------------------|:-------:|\n",
    "| A                     | 92+     |\n",
    "| A-                    | 87–91.9 |\n",
    "| B+                    | 82–86.9 |\n",
    "| B                     | 77–81.9 |\n",
    "| B-                    | 72–76.9 |\n",
    "| C+                    | 67–71.9 |\n",
    "| C                     | 62–66.9 |\n",
    "| C-                    | 58–61.9 |\n",
    "| D+                    | 54–57.9 |\n",
    "| D                     | 50–53.9 |\n",
    "| F                     | <50     |"
   ]
  },
  {
   "cell_type": "markdown",
   "metadata": {},
   "source": [
    "**Learning outcomes:** Upon completion of this course, a student should be able to\n",
    "1. Understand a nuclear system and its mathematical model.\n",
    "1. Design specific features of the system.\n",
    "1. Quantify behavior of the chosen system.\n",
    "1. Present and discuss results and their importance."
   ]
  },
  {
   "cell_type": "markdown",
   "metadata": {},
   "source": [
    "**Schedule (updated weekly):**\n",
    "\n",
    "|**Week**|Day| **Date**  |**Notebook**|**Assessment**|**Note**|\n",
    "|:-------|:-:|:---------:|:-----------|:-------------|:------:|\n",
    "|-       |-  | <font color=\"blue\"><b>September</b></font>|-           |-             |-       |\n",
    "|**1**|**W**|**04Sep24**|[00](https://nbviewer.jupyter.org/github/dpploy/engy-4390/blob/main/notebooks/00-syllabus.ipynb)|-|Syllabus/Project Description<font color=\"blue\"><b> Projects Links in Syllabus</b></font>|"
   ]
  },
  {
   "cell_type": "markdown",
   "metadata": {},
   "source": [
    "### General Information    \n",
    "\n",
    "**Attendance:** Students are expected to attend all classes.\n",
    "\n",
    "**Credit hour policy:** A credit hour requires a minimum of 2 hours of out-of-class student **deep work** per 1 hour of instructor-led course activity.\n",
    "\n",
    "**Student conduct code:** [UMass Lowell](https://www.uml.edu/student-services/student-conduct/conduct-code/#university-of-massachusetts-lowell-student-conduct)\n",
    "\n",
    "**Classroom/Online Conduct:** <font color=\"red\">Students are expected to exhibit professional and respectful behavior that is conducive to a mutually beneficial learning environment in the classroom. Examples of inappropriate behavior include: text messaging, listening to music, cell phone use (other than the campus alert system), late arrivals, early departures, use of laptops for other than class purposes, disrespectful comments or behavior, intentional disruptions, failure to follow faculty directives, etc. Students in violation of these standards may be asked to leave class and/or be referred to the Dean of Students for disciplinary action.</font>\n",
    "\n",
    "**Academic Integrity:** <font color=\"red\">Cheating and plagiarism will not be tolerated. A first offense will result in a failing grade for the assignment/exam in question and a formal filing with the Office of Provost according to the Academic Integrity Policy. A second offense could lead to a failing grade in the course, suspension or expulsion, as detailed in the policy, defined [here](https://www.uml.edu/Catalog/Undergraduate/Policies/Academic-Policies/Academic-Integrity.aspx).</font>\n",
    "\n",
    "**Instructional Resources:**  The Centers for Learning and Academic Support Services provide many tutoring resources; more details are available [here](https://www.uml.edu/class/)\n",
    "Technology Resources: For a listing of available computing and software resources available to students, [visit here]( https://www.uml.edu/IT/Services/DLC/).\n",
    "\n",
    "**Accommodations:** In accordance with University policy and the ADA, accommodations are provided for students with documented disabilities. If you have a disability, please contact the Office of Disability Services as soon as possible. Their office is in UC 220 (978-934-4574, Disability@uml.edu). Documentation of disability is confidential. Requests for accommodation for religious reasons should be directed to Equal Opportunity and Outreach at 978-934-3565, Wannalancit Mills, Suite 301. \n",
    "\n",
    "**Counseling Services:** As part of the Wellness Center, Counseling Services at UMass Lowell provide mental health counseling, consultation and referrals to help students achieve personal and academic success. They also assist students in better understanding and coping with their feelings, relationships, and choices surrounding their academic success. [Visit](https://www.uml.edu/student-services/Counseling/)\n",
    "Veterans’ Services: UMass Lowell is committed to helping our military students take full advantage of all the educational benefits available through the federal and state governments. For complete information on the services and resources available please visit our [website](https://www.uml.edu/student-services/Veterans/).\n",
    "University Cancellation Information: If campus is closed (most likely for weather), visit the website for announcements relevant to the class."
   ]
  }
 ],
 "metadata": {
  "kernelspec": {
   "display_name": "Python 3 (ipykernel)",
   "language": "python",
   "name": "python3"
  },
  "language_info": {
   "codemirror_mode": {
    "name": "ipython",
    "version": 3
   },
   "file_extension": ".py",
   "mimetype": "text/x-python",
   "name": "python",
   "nbconvert_exporter": "python",
   "pygments_lexer": "ipython3",
   "version": "3.12.3"
  },
  "latex_envs": {
   "LaTeX_envs_menu_present": true,
   "autoclose": false,
   "autocomplete": true,
   "bibliofile": "biblio.bib",
   "cite_by": "apalike",
   "current_citInitial": 1,
   "eqLabelWithNumbers": true,
   "eqNumInitial": 1,
   "hotkeys": {
    "equation": "Ctrl-E",
    "itemize": "Ctrl-I"
   },
   "labels_anchors": false,
   "latex_user_defs": false,
   "report_style_numbering": false,
   "user_envs_cfg": false
  },
  "toc": {
   "base_numbering": 1,
   "nav_menu": {},
   "number_sections": true,
   "sideBar": true,
   "skip_h1_title": false,
   "title_cell": "Table of Contents",
   "title_sidebar": "Contents",
   "toc_cell": false,
   "toc_position": {},
   "toc_section_display": true,
   "toc_window_display": false
  }
 },
 "nbformat": 4,
 "nbformat_minor": 4
}
