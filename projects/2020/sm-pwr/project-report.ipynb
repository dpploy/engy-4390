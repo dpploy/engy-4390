{
 "cells": [
  {
   "cell_type": "markdown",
   "metadata": {},
   "source": [
    "**Engy-4390** Nuclear Systems Design and Analysis, UMass Lowell, Chem. Eng. Nuclear Program Fall 2020\n",
    "\n",
    "# NuScale Small Modular Reactor Extended BoP Simulation Report\n",
    "$  \n",
    "  \\newcommand{\\Amtrx}{\\boldsymbol{\\mathsf{A}}}\n",
    "  \\newcommand{\\Bmtrx}{\\boldsymbol{\\mathsf{B}}}\n",
    "  \\newcommand{\\Mmtrx}{\\boldsymbol{\\mathsf{M}}}\n",
    "  \\newcommand{\\Imtrx}{\\boldsymbol{\\mathsf{I}}}\n",
    "  \\newcommand{\\Pmtrx}{\\boldsymbol{\\mathsf{P}}}\n",
    "  \\newcommand{\\Lmtrx}{\\boldsymbol{\\mathsf{L}}}\n",
    "  \\newcommand{\\Umtrx}{\\boldsymbol{\\mathsf{U}}}\n",
    "  \\newcommand{\\Smtrx}{\\boldsymbol{\\mathsf{S}}}\n",
    "  \\newcommand{\\xvec}{\\boldsymbol{\\mathsf{x}}}\n",
    "  \\newcommand{\\uvar}{\\boldsymbol{u}}\n",
    "  \\newcommand{\\fvar}{\\boldsymbol{f}}\n",
    "  \\newcommand{\\avec}{\\boldsymbol{\\mathsf{a}}}\n",
    "  \\newcommand{\\bvec}{\\boldsymbol{\\mathsf{b}}}\n",
    "  \\newcommand{\\cvec}{\\boldsymbol{\\mathsf{c}}}\n",
    "  \\newcommand{\\rvec}{\\boldsymbol{\\mathsf{r}}}\n",
    "  \\newcommand{\\mvec}{\\boldsymbol{\\mathsf{m}}}\n",
    "  \\newcommand{\\gvec}{\\boldsymbol{\\mathsf{g}}}\n",
    "  \\newcommand{\\zerovec}{\\boldsymbol{\\mathsf{0}}}\n",
    "  \\newcommand{\\norm}[1]{\\bigl\\lVert{#1}\\bigr\\rVert}\n",
    "  \\newcommand{\\transpose}[1]{{#1}^\\top}\n",
    "  \\DeclareMathOperator{\\rank}{rank}\n",
    "  \\newcommand{\\Power}{\\mathcal{P}}\n",
    "$"
   ]
  },
  {
   "cell_type": "markdown",
   "metadata": {},
   "source": [
    "**Students:** Jack Kennedy and Nik Kemper <br>\n",
    "**Course:** Engy-4390 Nuclear Systems Design and Analysis  <br>\n",
    "**Mentor:** Prof. Valmor F. de Almeida\n",
    "\n",
    "UMass Lowell, Dept. of Chemical Engineering, Nuclear Energy Program \n",
    "<br>\n",
    "**14Dec2020**"
   ]
  },
  {
   "cell_type": "markdown",
   "metadata": {},
   "source": [
    "---\n",
    "## Table of Contents<a id=\"toc\"></a>\n",
    "* [Introduction](#intro)\n",
    "* [Objectives](#obj)\n",
    "* [Approach](#app)\n",
    "* [Balance of Plant](#bop)\n",
    "  + [Reactor](#reactor)\n",
    "  + [Steam Generator](#steamgen)\n",
    "  + [Turbine](#turbine)\n",
    "  + [Condenser](#condenser)\n",
    "  + [Water Heater](#watheater)\n",
    "  + [Network](#net)\n",
    "* [Startup](#su)\n",
    "* [Steady-State](#ss)\n",
    "* [Water Heater Malfunction](#malfunction)\n",
    "* [Shutdown](#sd)\n",
    "* [References](#refs)\n",
    "---"
   ]
  },
  {
   "cell_type": "markdown",
   "metadata": {},
   "source": [
    "## [Introduction](#toc)<a id=\"intro\"></a>"
   ]
  },
  {
   "cell_type": "markdown",
   "metadata": {},
   "source": [
    "- As nuclear power continues to find its niche in the energy market, we are seeing an increasing trend towards Small Modular Reactors (SMRs). The benefit to SMRs is their small plant area, modularized reactor design allowing for more cost effective manufacturing, and their low level of operator interaction. "
   ]
  },
  {
   "cell_type": "markdown",
   "metadata": {},
   "source": [
    "- The NuScale 720 integral PWR has been under design for close to two decades. The 720 offers a safe design which uses no active components. Instead, the design relies primarily on gravity and natural convection which decreases the maintenance requirements of the system. NuScale Power Modules™ will be manufactured in factories, allowing for a monumental increase in production - the likes of which has never been seen by any other nuclear power plant design. With 2027 being the projected year for the first commercially operated plant, the NuScale 720 looks to become a mainstay in power generation for the U.S. "
   ]
  },
  {
   "cell_type": "markdown",
   "metadata": {},
   "source": [
    "- In the NuScale 720 design, the 12 modular reactors are submerged in a pool of water that acts as a heat sink. This pool is designed to respond to reactor conditions by drying up when external power is shut off. This leads to an air cooling mode that can be used in the case of long term (< 30 days) power shutdown. This is the only point where the different reactors influence each other, so it is imperative that each of our cores relates back to this water basin."
   ]
  },
  {
   "cell_type": "markdown",
   "metadata": {},
   "source": [
    "- The NuScale 720 has core inlet and outlet coolant temperatures of 265℃ and 321 ℃, respectively. The plant has 12 total reactor modules that split into two turbine buildings, each housing six turbines. Each core produces 200 MWt and 60 MWe for a total capacity to the grid, after considering plant consumption, of 685 MWe. The nominal coolant flow rate for one primary loop is 666 kg/s, whilst the nominal flow rate for the secondary loop is 87 kg/s."
   ]
  },
  {
   "cell_type": "markdown",
   "metadata": {},
   "source": [
    "- A balance of plant (BoP) is used to illustrate all components that are involved in energy production. A BoP includes systems like the core, steam generator, turbine, pressurizer, feed water system, and condenser. A BoP can be used to see how each part of the plant plays a role in the overall production of energy. The real time changes of key factors in each part of the reactor, such as changing the control rod level in the reactor, to see how it affects all the other parts of the plant over time. "
   ]
  },
  {
   "cell_type": "markdown",
   "metadata": {},
   "source": [
    "## [Objectives](#toc)<a id=\"obj\"></a>"
   ]
  },
  {
   "cell_type": "markdown",
   "metadata": {},
   "source": [
    "- A BoP will be created for the NuScale 720 reactor system using Python. We will use modules to mimic specific elements such as: the cores, condensers, steam generators, and turbines. A single point kinetics method will be used for modeling the core. A two temperature approach will be used to model the heat transfer meaning we only consider the inlet and outlet temperature of the module. We will be developing the model in Python with the use of the network modeling and HPC simulation library CORTIX. CORTIX will be used in conjunction with the Python modules to allow for dynamic modeling of the plant during start up and shut down of the reactors."
   ]
  },
  {
   "cell_type": "markdown",
   "metadata": {},
   "source": [
    "- Our goal for the project is to create a Balance of Plant dynamic system for the NuScale720 12 modular reactor plant. The following accident scenarios will be modeled: melting scenarios, primary loop breaking, and temperature rates during loss of cooling (LOCA) scenarios."
   ]
  },
  {
   "cell_type": "markdown",
   "metadata": {},
   "source": [
    "## [Approach](#toc)<a id=\"app\"></a>"
   ]
  },
  {
   "cell_type": "markdown",
   "metadata": {},
   "source": [
    "- Figure 3 shows how each of the components of our model will feed into each other. The first step to building our model is to outline the inputs, outputs, and equations that govern each individual module in our simulation. Starting at our reactor, information about the tank (such as the level and temperature) go into our reactor module along with instructions from the controller, and feedback from the pressurizer. The reactor then outputs information about the primary loop flow to the steam generator which converts that input information into a steam output. This output steam information is then fed into the turbine system which calculates High, Intermediate, and Low condensate pressures as well as sending excess steam to a condenser that has feedback from a cooling tower. These different condensates from the turbine and the condenser feed into each other until they get to a high pressure feedwater heater tank that outputs information back into the starting reactor."
   ]
  },
  {
   "cell_type": "markdown",
   "metadata": {},
   "source": [
    "- A module for the integral plant components including the core, turbine, pressurizer, steam generator, condenser, and feed water system will be modeled using Python. Most information will be obtained from Nuclear Systems Volume 1 and Professor de Almeida’s previous work on making BoP systems for nuclear reactors. "
   ]
  },
  {
   "cell_type": "markdown",
   "metadata": {},
   "source": [
    "|     **Module**        |      **Inputs**      |      **Outputs**       |     **Legend**     |\n",
    "|:----------------------|:---------------------|:-----------------------|:-------------------|\n",
    "| Core (CR)             |-F,T,P from SG        |-F,T,P, to SG           |-F: Flowrate        |\n",
    "|                       |-F,T,P from PR        |-F,T,P, to PR           |-T: Temperature     |\n",
    "|                       |-H from OWP           |-Q to OWP               |-P: Pressure        |\n",
    "|Pressurizer (PR)       |-F,T,P from CR        |-F,T,P to CR            |-Q: Heat rate       |\n",
    "|                       |                      |                        |-X: Steam quality   |\n",
    "|                       |                      |                        |-H: Height          |\n",
    "|                       |                      |                        |-E: Electrical power|\n",
    "|Steam Generator (SG)   |-F,T,P from CR and FWS|-F,T,P to CR            |                    |\n",
    "|                       |                      |-F,T,P,X to TU          |                    |\n",
    "|Turbine (TU)           |-F,T,P,X from TU      |-E output as electricity|                    |\n",
    "|                       |                      |-F,T,P,X to CD and FWS  |                    |\n",
    "|Condenser (CD)         |-F,T,P,X from TU      |-F,T,P to FWS           |                    |\n",
    "|                       |-Q from cooling tower |                        |                    |\n",
    "|Feed Water System (FWS)|-F,T,P from CD and TU |-F,T,P to CR            |                    |\n",
    "|Open Water Pool (OWP)  |-Q from CR            |-H to all CRs           |                    |"
   ]
  },
  {
   "cell_type": "markdown",
   "metadata": {},
   "source": [
    "- Because we are only a two man group. We will be sharing most of the work and the work will be recorded through weekly progress reports. A schedule of our planned work is shown in table 2."
   ]
  },
  {
   "cell_type": "markdown",
   "metadata": {},
   "source": [
    "## [Balance of Plant](#toc)<a id=\"bop\"></a>"
   ]
  },
  {
   "cell_type": "code",
   "execution_count": 1,
   "metadata": {
    "scrolled": true
   },
   "outputs": [
    {
     "name": "stderr",
     "output_type": "stream",
     "text": [
      "[6201] 2024-03-26 16:56:07,227 - cortix - INFO - Created Cortix object \n",
      "_____________________________________________________________________________\n",
      "                             L A U N C H I N G                               \n",
      "_____________________________________________________________________________\n",
      "      ...                                        s       .     (TAAG Fraktur)\n",
      "   xH88\"`~ .x8X                                 :8      @88>\n",
      " :8888   .f\"8888Hf        u.      .u    .      .88      %8P      uL   ..\n",
      ":8888>  X8L  ^\"\"`   ...ue888b   .d88B :@8c    :888ooo    .     .@88b  @88R\n",
      "X8888  X888h        888R Y888r =\"8888f8888r -*8888888  .@88u  \"\"Y888k/\"*P\n",
      "88888  !88888.      888R I888>   4888>\"88\"    8888    888E`    Y888L\n",
      "88888   %88888      888R I888>   4888> \"      8888      888E      8888\n",
      "88888 `> `8888>     888R I888>   4888>        8888      888E      `888N\n",
      "`8888L %  ?888   ! u8888cJ888   .d888L .+    .8888Lu=   888E   .u./\"888&\n",
      " `8888  `-*\"\"   /   \"*888*P\"    ^\"8888*\"     ^%888*     888&  d888\" Y888*\"\n",
      "   \"888.      :\"      \"Y\"          \"Y\"         \"Y\"      R888\" ` \"Y   Y\"\n",
      "     `\"\"***~\"`                                           \"\"\n",
      "                             https://cortix.org                              \n",
      "_____________________________________________________________________________\n"
     ]
    }
   ],
   "source": [
    "'''Setup a Cortix plant'''\n",
    "\n",
    "from cortix import Cortix\n",
    "from cortix import Network\n",
    "\n",
    "plant = Cortix(use_mpi=False, splash=True) # System top level\n",
    "plant_net = plant.network = Network() # Network"
   ]
  },
  {
   "cell_type": "markdown",
   "metadata": {},
   "source": [
    "### [Reactor](#toc)<a id=\"reactor\"></a>"
   ]
  },
  {
   "cell_type": "code",
   "execution_count": 2,
   "metadata": {},
   "outputs": [
    {
     "name": "stdout",
     "output_type": "stream",
     "text": [
      "Requirement already satisfied: iapws in /home/dealmeida/jupyter-env/lib/python3.11/site-packages (1.5.3)\n",
      "Requirement already satisfied: scipy>=1.2 in /home/dealmeida/jupyter-env/lib/python3.11/site-packages (from iapws) (1.11.3)\n",
      "Requirement already satisfied: numpy<1.28.0,>=1.21.6 in /home/dealmeida/jupyter-env/lib/python3.11/site-packages (from scipy>=1.2->iapws) (1.25.0)\n"
     ]
    }
   ],
   "source": [
    "'''Setup Reactor'''\n",
    "!pip install iapws\n",
    "from bop.reactor import SMPWR\n",
    "reactor = SMPWR()  # Create reactor module\n",
    "reactor.name = 'SM-PWR'\n",
    "\n",
    "plant_net.module(reactor)  # Add reactor module to network"
   ]
  },
  {
   "cell_type": "markdown",
   "metadata": {},
   "source": [
    "### [Steam Generator](#toc)<a id=\"steamgen\"></a>"
   ]
  },
  {
   "cell_type": "code",
   "execution_count": 3,
   "metadata": {},
   "outputs": [],
   "source": [
    "'''Setup Steamer'''\n",
    "\n",
    "from bop.steamer import Steamer\n",
    "steamer = Steamer()  # Create steamer module\n",
    "\n",
    "plant_net.module(steamer)  # Add steamer module to network"
   ]
  },
  {
   "cell_type": "markdown",
   "metadata": {},
   "source": [
    "### [Turbine](#toc)<a id=\"turbine\"></a>"
   ]
  },
  {
   "cell_type": "code",
   "execution_count": 4,
   "metadata": {},
   "outputs": [],
   "source": [
    "'''Setup Turbine'''\n",
    "\n",
    "from bop.turbine import Turbine\n",
    "turbine = Turbine()  # Create turbine module\n",
    "\n",
    "plant_net.module(turbine)  # Add turbine module to network"
   ]
  },
  {
   "cell_type": "markdown",
   "metadata": {},
   "source": [
    "### [Condenser](#toc)<a id=\"condenser\"></a>"
   ]
  },
  {
   "cell_type": "code",
   "execution_count": 5,
   "metadata": {},
   "outputs": [],
   "source": [
    "'''Setup Condenser'''\n",
    "\n",
    "from bop.condenser import Condenser\n",
    "condenser = Condenser()  # Create condenser module\n",
    "\n",
    "plant_net.module(condenser)  # Add condenser module to network"
   ]
  },
  {
   "cell_type": "markdown",
   "metadata": {},
   "source": [
    "### [Water Heater](#toc)<a id=\"watheater\"></a>"
   ]
  },
  {
   "cell_type": "code",
   "execution_count": 6,
   "metadata": {},
   "outputs": [],
   "source": [
    "'''Setup Water Heater system'''\n",
    "\n",
    "from bop.water_heater import WaterHeater\n",
    "water_heater = WaterHeater()  # Create water_heater module\n",
    "\n",
    "plant_net.module(water_heater)  # Add water_heater module to network"
   ]
  },
  {
   "cell_type": "markdown",
   "metadata": {},
   "source": [
    "### [Network](#toc)<a id=\"net\"></a>"
   ]
  },
  {
   "cell_type": "code",
   "execution_count": 7,
   "metadata": {},
   "outputs": [],
   "source": [
    "'''Balance of Plant Network Connectivity'''\n",
    "\n",
    "plant_net.connect([reactor, 'coolant-outflow'], [steamer, 'primary-inflow'])\n",
    "plant_net.connect([steamer, 'primary-outflow'], [reactor, 'coolant-inflow'])\n",
    "plant_net.connect([steamer, 'secondary-outflow'], [turbine, 'inflow'])\n",
    "plant_net.connect([turbine, 'outflow'], [condenser, 'inflow'])\n",
    "plant_net.connect([turbine, 'process-heat'], [water_heater, 'external-heat'])\n",
    "plant_net.connect([condenser, 'outflow'], [water_heater, 'inflow'])\n",
    "plant_net.connect([water_heater, 'outflow'], [steamer, 'secondary-inflow'])"
   ]
  },
  {
   "cell_type": "code",
   "execution_count": 8,
   "metadata": {},
   "outputs": [
    {
     "name": "stderr",
     "output_type": "stream",
     "text": [
      "Warning: some nodes with margin (3.20,3.20) touch - falling back to straight line edges\n",
      "Warning: some nodes with margin (3.20,3.20) touch - falling back to straight line edges\n"
     ]
    },
    {
     "data": {
      "image/svg+xml": [
       "<?xml version=\"1.0\" encoding=\"UTF-8\" standalone=\"no\"?>\n",
       "<!DOCTYPE svg PUBLIC \"-//W3C//DTD SVG 1.1//EN\"\n",
       " \"http://www.w3.org/Graphics/SVG/1.1/DTD/svg11.dtd\">\n",
       "<!-- Generated by graphviz version 9.0.0 (20230911.1827)\n",
       " -->\n",
       "<!-- Title: network&#45;0 Pages: 1 -->\n",
       "<svg width=\"93pt\" height=\"44pt\"\n",
       " viewBox=\"0.00 0.00 93.00 44.00\" xmlns=\"http://www.w3.org/2000/svg\" xmlns:xlink=\"http://www.w3.org/1999/xlink\">\n",
       "<g id=\"graph0\" class=\"graph\" transform=\"scale(1 1) rotate(0) translate(4 40)\">\n",
       "<title>network&#45;0</title>\n",
       "<polygon fill=\"white\" stroke=\"none\" points=\"-4,4 -4,-40 89,-40 89,4 -4,4\"/>\n",
       "<!-- 0 -->\n",
       "<g id=\"node1\" class=\"node\">\n",
       "<title>0</title>\n",
       "<polygon fill=\"lightgrey\" stroke=\"black\" points=\"77.88,-36 74.88,-40 53.88,-40 50.88,-36 7.12,-36 7.12,0 77.88,0 77.88,-36\"/>\n",
       "<text text-anchor=\"middle\" x=\"42.5\" y=\"-12.95\" font-family=\"Times,serif\" font-size=\"14.00\">SM&#45;PWR</text>\n",
       "</g>\n",
       "<!-- 1 -->\n",
       "<g id=\"node2\" class=\"node\">\n",
       "<title>1</title>\n",
       "<polygon fill=\"lightgrey\" stroke=\"black\" points=\"73,-36 70,-40 49,-40 46,-36 12,-36 12,0 73,0 73,-36\"/>\n",
       "<text text-anchor=\"middle\" x=\"42.5\" y=\"-12.95\" font-family=\"Times,serif\" font-size=\"14.00\">Steamer</text>\n",
       "</g>\n",
       "<!-- 0&#45;&#45;1 -->\n",
       "<g id=\"edge1\" class=\"edge\">\n",
       "<title>0&#45;&#45;1</title>\n",
       "<path fill=\"none\" stroke=\"black\" d=\"M42.5,-18C42.5,-18 42.5,-18 42.5,-18\"/>\n",
       "</g>\n",
       "<!-- 1&#45;&#45;0 -->\n",
       "<g id=\"edge2\" class=\"edge\">\n",
       "<title>1&#45;&#45;0</title>\n",
       "<path fill=\"none\" stroke=\"black\" d=\"M42.5,-18C42.5,-18 42.5,-18 42.5,-18\"/>\n",
       "</g>\n",
       "<!-- 2 -->\n",
       "<g id=\"node3\" class=\"node\">\n",
       "<title>2</title>\n",
       "<polygon fill=\"lightgrey\" stroke=\"black\" points=\"71.88,-36 68.88,-40 47.88,-40 44.88,-36 13.12,-36 13.12,0 71.88,0 71.88,-36\"/>\n",
       "<text text-anchor=\"middle\" x=\"42.5\" y=\"-12.95\" font-family=\"Times,serif\" font-size=\"14.00\">Turbine</text>\n",
       "</g>\n",
       "<!-- 1&#45;&#45;2 -->\n",
       "<g id=\"edge3\" class=\"edge\">\n",
       "<title>1&#45;&#45;2</title>\n",
       "<path fill=\"none\" stroke=\"black\" d=\"M42.5,-18C42.5,-18 42.5,-18 42.5,-18\"/>\n",
       "</g>\n",
       "<!-- 3 -->\n",
       "<g id=\"node4\" class=\"node\">\n",
       "<title>3</title>\n",
       "<polygon fill=\"lightgrey\" stroke=\"black\" points=\"79.38,-36 76.38,-40 55.38,-40 52.38,-36 5.62,-36 5.62,0 79.38,0 79.38,-36\"/>\n",
       "<text text-anchor=\"middle\" x=\"42.5\" y=\"-12.95\" font-family=\"Times,serif\" font-size=\"14.00\">Condenser</text>\n",
       "</g>\n",
       "<!-- 2&#45;&#45;3 -->\n",
       "<g id=\"edge4\" class=\"edge\">\n",
       "<title>2&#45;&#45;3</title>\n",
       "<path fill=\"none\" stroke=\"black\" d=\"M42.5,-18C42.5,-18 42.5,-18 42.5,-18\"/>\n",
       "</g>\n",
       "<!-- 4 -->\n",
       "<g id=\"node5\" class=\"node\">\n",
       "<title>4</title>\n",
       "<polygon fill=\"lightgrey\" stroke=\"black\" points=\"85,-36 82,-40 61,-40 58,-36 0,-36 0,0 85,0 85,-36\"/>\n",
       "<text text-anchor=\"middle\" x=\"42.5\" y=\"-12.95\" font-family=\"Times,serif\" font-size=\"14.00\">WaterHeater</text>\n",
       "</g>\n",
       "<!-- 2&#45;&#45;4 -->\n",
       "<g id=\"edge5\" class=\"edge\">\n",
       "<title>2&#45;&#45;4</title>\n",
       "<path fill=\"none\" stroke=\"black\" d=\"M42.5,-18C42.5,-18 42.5,-18 42.5,-18\"/>\n",
       "</g>\n",
       "<!-- 3&#45;&#45;4 -->\n",
       "<g id=\"edge6\" class=\"edge\">\n",
       "<title>3&#45;&#45;4</title>\n",
       "<path fill=\"none\" stroke=\"black\" d=\"M42.5,-18C42.5,-18 42.5,-18 42.5,-18\"/>\n",
       "</g>\n",
       "<!-- 4&#45;&#45;1 -->\n",
       "<g id=\"edge7\" class=\"edge\">\n",
       "<title>4&#45;&#45;1</title>\n",
       "<path fill=\"none\" stroke=\"black\" d=\"M42.5,-18C42.5,-18 42.5,-18 42.5,-18\"/>\n",
       "</g>\n",
       "</g>\n",
       "</svg>\n"
      ],
      "text/plain": [
       "<graphviz.graphs.Graph at 0x7fdc41082790>"
      ]
     },
     "execution_count": 8,
     "metadata": {},
     "output_type": "execute_result"
    }
   ],
   "source": [
    "plant_net.draw(engine='circo', node_shape='folder')"
   ]
  },
  {
   "cell_type": "markdown",
   "metadata": {},
   "source": [
    "## [Startup](#toc)<a id=\"su\"></a>"
   ]
  },
  {
   "cell_type": "markdown",
   "metadata": {},
   "source": [
    "This is a time-consuming run, typically ~15 to 30 minutes (depending on the machine this is running on; load on the machine, etc.). The steam/water property calculations consume a big portion of the runtime. This is a point of improvement for the future."
   ]
  },
  {
   "cell_type": "code",
   "execution_count": 9,
   "metadata": {
    "scrolled": false
   },
   "outputs": [
    {
     "name": "stderr",
     "output_type": "stream",
     "text": [
      "[6201] 2024-03-26 16:56:17,906 - cortix - INFO - Launching Module <bop.reactor.SMPWR object at 0x7fdc67f41510>\n",
      "[6201] 2024-03-26 16:56:17,911 - cortix - INFO - Launching Module <bop.steamer.Steamer object at 0x7fdc410beb10>\n",
      "[6201] 2024-03-26 16:56:17,913 - cortix - INFO - SM-PWR::run():time[m]=0.0\n",
      "[6201] 2024-03-26 16:56:17,918 - cortix - INFO - Launching Module <bop.turbine.Turbine object at 0x7fdc40cd7190>\n",
      "[6201] 2024-03-26 16:56:17,919 - cortix - INFO - Steamer::run():time[m]=0.0\n",
      "[6201] 2024-03-26 16:56:17,924 - cortix - INFO - Launching Module <bop.condenser.Condenser object at 0x7fdc390fefd0>\n",
      "[6201] 2024-03-26 16:56:17,925 - cortix - INFO - Turbine::run():time[m]=0.0\n",
      "[6201] 2024-03-26 16:56:17,931 - cortix - INFO - Launching Module <bop.water_heater.WaterHeater object at 0x7fdc39106e10>\n",
      "[6201] 2024-03-26 16:56:17,932 - cortix - INFO - Condenser::run():time[m]=0.0\n",
      "[6201] 2024-03-26 16:56:17,940 - cortix - INFO - WaterHeater::run():time[m]=0.0\n",
      "[6201] 2024-03-26 17:03:11,678 - cortix - INFO - SM-PWR::run():time[m]=5.0\n",
      "[6201] 2024-03-26 17:03:11,679 - cortix - INFO - Steamer::run():time[m]=5.0\n",
      "[6201] 2024-03-26 17:03:11,681 - cortix - INFO - Condenser::run():time[m]=5.0\n",
      "[6201] 2024-03-26 17:03:11,682 - cortix - INFO - Turbine::run():time[m]=5.0\n",
      "[6201] 2024-03-26 17:03:11,682 - cortix - INFO - WaterHeater::run():time[m]=5.0\n",
      "[6201] 2024-03-26 17:06:14,005 - cortix - INFO - SM-PWR::run():time[m]=10.0\n",
      "[6201] 2024-03-26 17:06:14,006 - cortix - INFO - Steamer::run():time[m]=10.0\n",
      "[6201] 2024-03-26 17:06:14,009 - cortix - INFO - Condenser::run():time[m]=10.0\n",
      "[6201] 2024-03-26 17:06:14,009 - cortix - INFO - Turbine::run():time[m]=10.0\n",
      "[6201] 2024-03-26 17:06:14,009 - cortix - INFO - WaterHeater::run():time[m]=10.0\n",
      "[6201] 2024-03-26 17:06:14,841 - cortix - INFO - run()::Elapsed wall clock time [s]: 607.61\n",
      "[6201] 2024-03-26 17:06:14,842 - cortix - INFO - Closed Cortix object.\n",
      "_____________________________________________________________________________\n",
      "                           T E R M I N A T I N G                             \n",
      "_____________________________________________________________________________\n",
      "      ...                                        s       .     (TAAG Fraktur)\n",
      "   xH88\"`~ .x8X                                 :8      @88>\n",
      " :8888   .f\"8888Hf        u.      .u    .      .88      %8P      uL   ..\n",
      ":8888>  X8L  ^\"\"`   ...ue888b   .d88B :@8c    :888ooo    .     .@88b  @88R\n",
      "X8888  X888h        888R Y888r =\"8888f8888r -*8888888  .@88u  \"\"Y888k/\"*P\n",
      "88888  !88888.      888R I888>   4888>\"88\"    8888    888E`    Y888L\n",
      "88888   %88888      888R I888>   4888> \"      8888      888E      8888\n",
      "88888 `> `8888>     888R I888>   4888>        8888      888E      `888N\n",
      "`8888L %  ?888   ! u8888cJ888   .d888L .+    .8888Lu=   888E   .u./\"888&\n",
      " `8888  `-*\"\"   /   \"*888*P\"    ^\"8888*\"     ^%888*     888&  d888\" Y888*\"\n",
      "   \"888.      :\"      \"Y\"          \"Y\"         \"Y\"      R888\" ` \"Y   Y\"\n",
      "     `\"\"***~\"`                                           \"\"\n",
      "                             https://cortix.org                              \n",
      "_____________________________________________________________________________\n",
      "[6201] 2024-03-26 17:06:14,843 - cortix - INFO - close()::Elapsed wall clock time [s]: 607.61\n"
     ]
    }
   ],
   "source": [
    "'''Run'''\n",
    "\n",
    "import unit\n",
    "end_time = 10*unit.minute \n",
    "time_step = 1.5*unit.second\n",
    "show_time = (True, 5*unit.minute)\n",
    "\n",
    "for module in plant_net.modules:\n",
    "    module.time_step = time_step\n",
    "    module.end_time = end_time\n",
    "    module.show_time = show_time\n",
    "\n",
    "#reactor.shutdown = (True, 60*unit.minute)\n",
    "\n",
    "plant.run()   # Run network dynamics simulation\n",
    "plant.close() # Close run"
   ]
  },
  {
   "cell_type": "code",
   "execution_count": 10,
   "metadata": {},
   "outputs": [],
   "source": [
    "'''Collect multiprocessing data'''\n",
    "\n",
    "reactor = plant_net.modules[0]\n",
    "steamer = plant_net.modules[1]\n",
    "turbine = plant_net.modules[2]\n",
    "condenser = plant_net.modules[3]\n",
    "water_heater = plant_net.modules[4]"
   ]
  },
  {
   "cell_type": "code",
   "execution_count": 11,
   "metadata": {},
   "outputs": [
    {
     "ename": "TypeError",
     "evalue": "object of type 'NoneType' has no len()",
     "output_type": "error",
     "traceback": [
      "\u001b[0;31m---------------------------------------------------------------------------\u001b[0m",
      "\u001b[0;31mTypeError\u001b[0m                                 Traceback (most recent call last)",
      "Cell \u001b[0;32mIn[11], line 3\u001b[0m\n\u001b[1;32m      1\u001b[0m \u001b[38;5;124;03m'''Reactor data'''\u001b[39;00m\n\u001b[1;32m      2\u001b[0m \u001b[38;5;66;03m#reactor.state_phase.plot(show=True, figsize=[14,8])\u001b[39;00m\n\u001b[0;32m----> 3\u001b[0m \u001b[43mreactor\u001b[49m\u001b[38;5;241;43m.\u001b[39;49m\u001b[43mstate_phase\u001b[49m\u001b[38;5;241;43m.\u001b[39;49m\u001b[43mplot\u001b[49m\u001b[43m(\u001b[49m\u001b[43mactors\u001b[49m\u001b[38;5;241;43m=\u001b[39;49m\u001b[43m[\u001b[49m\u001b[38;5;124;43m'\u001b[39;49m\u001b[38;5;124;43mpower\u001b[39;49m\u001b[38;5;124;43m'\u001b[39;49m\u001b[43m,\u001b[49m\u001b[38;5;124;43m'\u001b[39;49m\u001b[38;5;124;43minlet-temp\u001b[39;49m\u001b[38;5;124;43m'\u001b[39;49m\u001b[43m]\u001b[49m\u001b[43m,\u001b[49m\u001b[43m \u001b[49m\u001b[43mshow\u001b[49m\u001b[38;5;241;43m=\u001b[39;49m\u001b[38;5;28;43;01mTrue\u001b[39;49;00m\u001b[43m,\u001b[49m\u001b[43mfigsize\u001b[49m\u001b[38;5;241;43m=\u001b[39;49m\u001b[43m[\u001b[49m\u001b[38;5;241;43m14\u001b[39;49m\u001b[43m,\u001b[49m\u001b[38;5;241;43m8\u001b[39;49m\u001b[43m]\u001b[49m\u001b[43m)\u001b[49m\n\u001b[1;32m      4\u001b[0m reactor\u001b[38;5;241m.\u001b[39mcoolant_outflow_phase\u001b[38;5;241m.\u001b[39mplot(actors\u001b[38;5;241m=\u001b[39m[\u001b[38;5;124m'\u001b[39m\u001b[38;5;124mtemp\u001b[39m\u001b[38;5;124m'\u001b[39m,\u001b[38;5;124m'\u001b[39m\u001b[38;5;124mflowrate\u001b[39m\u001b[38;5;124m'\u001b[39m], show\u001b[38;5;241m=\u001b[39m\u001b[38;5;28;01mTrue\u001b[39;00m,figsize\u001b[38;5;241m=\u001b[39m[\u001b[38;5;241m14\u001b[39m,\u001b[38;5;241m8\u001b[39m])\n",
      "File \u001b[0;32m~/gentoo-home/work/codes/reprocessing/cortix-dev/cortix/cortix/support/phase_new.py:914\u001b[0m, in \u001b[0;36mPhaseNew.plot\u001b[0;34m(self, actors, name, var_unit, legend, nrows, ncols, figsize, show, dpi)\u001b[0m\n\u001b[1;32m    912\u001b[0m         \u001b[38;5;28;01massert\u001b[39;00m \u001b[38;5;28mself\u001b[39m\u001b[38;5;241m.\u001b[39m__quantities[i_var]\u001b[38;5;241m.\u001b[39mname \u001b[38;5;241m==\u001b[39m \u001b[38;5;28mself\u001b[39m\u001b[38;5;241m.\u001b[39m__df\u001b[38;5;241m.\u001b[39mcolumns[i_var]\n\u001b[1;32m    913\u001b[0m \u001b[38;5;28;01melif\u001b[39;00m quantity:\n\u001b[0;32m--> 914\u001b[0m     \u001b[38;5;28;01mif\u001b[39;00m i_var \u001b[38;5;241m>\u001b[39m \u001b[38;5;28;43mlen\u001b[39;49m\u001b[43m(\u001b[49m\u001b[38;5;28;43mself\u001b[39;49m\u001b[38;5;241;43m.\u001b[39;49m\u001b[43m__species\u001b[49m\u001b[43m)\u001b[49m:\n\u001b[1;32m    915\u001b[0m         \u001b[38;5;28;01massert\u001b[39;00m \u001b[38;5;28mself\u001b[39m\u001b[38;5;241m.\u001b[39m__quantities[i_var]\u001b[38;5;241m.\u001b[39mname \u001b[38;5;241m==\u001b[39m \u001b[38;5;28mself\u001b[39m\u001b[38;5;241m.\u001b[39m__df\u001b[38;5;241m.\u001b[39mcolumns[i_var], \\\n\u001b[1;32m    916\u001b[0m            \u001b[38;5;124m'\u001b[39m\u001b[38;5;124mivar=\u001b[39m\u001b[38;5;132;01m%r\u001b[39;00m\u001b[38;5;124m; __quant[i]=\u001b[39m\u001b[38;5;132;01m%r\u001b[39;00m\u001b[38;5;124m; __df.col[i]=\u001b[39m\u001b[38;5;132;01m%r\u001b[39;00m\u001b[38;5;124m; __quant=\u001b[39m\u001b[38;5;132;01m%r\u001b[39;00m\u001b[38;5;124m; __df.col=\u001b[39m\u001b[38;5;132;01m%r\u001b[39;00m\u001b[38;5;124m'\u001b[39m\u001b[38;5;241m%\u001b[39m(i_var, \u001b[38;5;28mself\u001b[39m\u001b[38;5;241m.\u001b[39m__quantities[i_var]\u001b[38;5;241m.\u001b[39mname, \u001b[38;5;28mself\u001b[39m\u001b[38;5;241m.\u001b[39m__df\u001b[38;5;241m.\u001b[39mcolumns[i_var], \u001b[38;5;28mself\u001b[39m\u001b[38;5;241m.\u001b[39m__quantities, \u001b[38;5;28mself\u001b[39m\u001b[38;5;241m.\u001b[39m__df\u001b[38;5;241m.\u001b[39mcolumns)\n\u001b[1;32m    918\u001b[0m \u001b[38;5;250m\u001b[39m\u001b[38;5;124;03m'''\u001b[39;00m\n\u001b[1;32m    919\u001b[0m \u001b[38;5;124;03mif varUnit == 'gram':\u001b[39;00m\n\u001b[1;32m    920\u001b[0m \u001b[38;5;124;03m    varUnit = 'g'\u001b[39;00m\n\u001b[0;32m   (...)\u001b[0m\n\u001b[1;32m    930\u001b[0m \u001b[38;5;124;03m    varUnit = 's'\u001b[39;00m\n\u001b[1;32m    931\u001b[0m \u001b[38;5;124;03m'''\u001b[39;00m\n",
      "\u001b[0;31mTypeError\u001b[0m: object of type 'NoneType' has no len()"
     ]
    },
    {
     "data": {
      "image/png": "[encoded data removed]",
      "text/plain": [
       "<Figure size 1400x800 with 2 Axes>"
      ]
     },
     "metadata": {},
     "output_type": "display_data"
    }
   ],
   "source": [
    "'''Reactor data'''\n",
    "#reactor.state_phase.plot(show=True, figsize=[14,8])\n",
    "reactor.state_phase.plot(actors=['power','inlet-temp'], show=True,figsize=[14,8])\n",
    "reactor.coolant_outflow_phase.plot(actors=['temp','flowrate'], show=True,figsize=[14,8])"
   ]
  },
  {
   "cell_type": "code",
   "execution_count": 12,
   "metadata": {},
   "outputs": [
    {
     "ename": "TypeError",
     "evalue": "object of type 'NoneType' has no len()",
     "output_type": "error",
     "traceback": [
      "\u001b[0;31m---------------------------------------------------------------------------\u001b[0m",
      "\u001b[0;31mTypeError\u001b[0m                                 Traceback (most recent call last)",
      "Cell \u001b[0;32mIn[12], line 2\u001b[0m\n\u001b[1;32m      1\u001b[0m \u001b[38;5;124;03m'''Steamer data'''\u001b[39;00m\n\u001b[0;32m----> 2\u001b[0m \u001b[43msteamer\u001b[49m\u001b[38;5;241;43m.\u001b[39;49m\u001b[43mprimary_outflow_phase\u001b[49m\u001b[38;5;241;43m.\u001b[39;49m\u001b[43mplot\u001b[49m\u001b[43m(\u001b[49m\u001b[43mshow\u001b[49m\u001b[38;5;241;43m=\u001b[39;49m\u001b[38;5;28;43;01mTrue\u001b[39;49;00m\u001b[43m,\u001b[49m\u001b[43m \u001b[49m\u001b[43mfigsize\u001b[49m\u001b[38;5;241;43m=\u001b[39;49m\u001b[43m[\u001b[49m\u001b[38;5;241;43m14\u001b[39;49m\u001b[43m,\u001b[49m\u001b[38;5;241;43m8\u001b[39;49m\u001b[43m]\u001b[49m\u001b[43m)\u001b[49m\n\u001b[1;32m      3\u001b[0m steamer\u001b[38;5;241m.\u001b[39msecondary_outflow_phase\u001b[38;5;241m.\u001b[39mplot(actors\u001b[38;5;241m=\u001b[39m[\u001b[38;5;124m'\u001b[39m\u001b[38;5;124mtemp\u001b[39m\u001b[38;5;124m'\u001b[39m,\u001b[38;5;124m'\u001b[39m\u001b[38;5;124mquality\u001b[39m\u001b[38;5;124m'\u001b[39m], show\u001b[38;5;241m=\u001b[39m\u001b[38;5;28;01mTrue\u001b[39;00m, figsize\u001b[38;5;241m=\u001b[39m[\u001b[38;5;241m14\u001b[39m,\u001b[38;5;241m8\u001b[39m])\n\u001b[1;32m      4\u001b[0m steamer\u001b[38;5;241m.\u001b[39mstate_phase\u001b[38;5;241m.\u001b[39mplot(actors\u001b[38;5;241m=\u001b[39m[\u001b[38;5;124m'\u001b[39m\u001b[38;5;124mheatflux\u001b[39m\u001b[38;5;124m'\u001b[39m], show\u001b[38;5;241m=\u001b[39m\u001b[38;5;28;01mTrue\u001b[39;00m, figsize\u001b[38;5;241m=\u001b[39m[\u001b[38;5;241m14\u001b[39m,\u001b[38;5;241m8\u001b[39m])\n",
      "File \u001b[0;32m~/gentoo-home/work/codes/reprocessing/cortix-dev/cortix/cortix/support/phase_new.py:914\u001b[0m, in \u001b[0;36mPhaseNew.plot\u001b[0;34m(self, actors, name, var_unit, legend, nrows, ncols, figsize, show, dpi)\u001b[0m\n\u001b[1;32m    912\u001b[0m         \u001b[38;5;28;01massert\u001b[39;00m \u001b[38;5;28mself\u001b[39m\u001b[38;5;241m.\u001b[39m__quantities[i_var]\u001b[38;5;241m.\u001b[39mname \u001b[38;5;241m==\u001b[39m \u001b[38;5;28mself\u001b[39m\u001b[38;5;241m.\u001b[39m__df\u001b[38;5;241m.\u001b[39mcolumns[i_var]\n\u001b[1;32m    913\u001b[0m \u001b[38;5;28;01melif\u001b[39;00m quantity:\n\u001b[0;32m--> 914\u001b[0m     \u001b[38;5;28;01mif\u001b[39;00m i_var \u001b[38;5;241m>\u001b[39m \u001b[38;5;28;43mlen\u001b[39;49m\u001b[43m(\u001b[49m\u001b[38;5;28;43mself\u001b[39;49m\u001b[38;5;241;43m.\u001b[39;49m\u001b[43m__species\u001b[49m\u001b[43m)\u001b[49m:\n\u001b[1;32m    915\u001b[0m         \u001b[38;5;28;01massert\u001b[39;00m \u001b[38;5;28mself\u001b[39m\u001b[38;5;241m.\u001b[39m__quantities[i_var]\u001b[38;5;241m.\u001b[39mname \u001b[38;5;241m==\u001b[39m \u001b[38;5;28mself\u001b[39m\u001b[38;5;241m.\u001b[39m__df\u001b[38;5;241m.\u001b[39mcolumns[i_var], \\\n\u001b[1;32m    916\u001b[0m            \u001b[38;5;124m'\u001b[39m\u001b[38;5;124mivar=\u001b[39m\u001b[38;5;132;01m%r\u001b[39;00m\u001b[38;5;124m; __quant[i]=\u001b[39m\u001b[38;5;132;01m%r\u001b[39;00m\u001b[38;5;124m; __df.col[i]=\u001b[39m\u001b[38;5;132;01m%r\u001b[39;00m\u001b[38;5;124m; __quant=\u001b[39m\u001b[38;5;132;01m%r\u001b[39;00m\u001b[38;5;124m; __df.col=\u001b[39m\u001b[38;5;132;01m%r\u001b[39;00m\u001b[38;5;124m'\u001b[39m\u001b[38;5;241m%\u001b[39m(i_var, \u001b[38;5;28mself\u001b[39m\u001b[38;5;241m.\u001b[39m__quantities[i_var]\u001b[38;5;241m.\u001b[39mname, \u001b[38;5;28mself\u001b[39m\u001b[38;5;241m.\u001b[39m__df\u001b[38;5;241m.\u001b[39mcolumns[i_var], \u001b[38;5;28mself\u001b[39m\u001b[38;5;241m.\u001b[39m__quantities, \u001b[38;5;28mself\u001b[39m\u001b[38;5;241m.\u001b[39m__df\u001b[38;5;241m.\u001b[39mcolumns)\n\u001b[1;32m    918\u001b[0m \u001b[38;5;250m\u001b[39m\u001b[38;5;124;03m'''\u001b[39;00m\n\u001b[1;32m    919\u001b[0m \u001b[38;5;124;03mif varUnit == 'gram':\u001b[39;00m\n\u001b[1;32m    920\u001b[0m \u001b[38;5;124;03m    varUnit = 'g'\u001b[39;00m\n\u001b[0;32m   (...)\u001b[0m\n\u001b[1;32m    930\u001b[0m \u001b[38;5;124;03m    varUnit = 's'\u001b[39;00m\n\u001b[1;32m    931\u001b[0m \u001b[38;5;124;03m'''\u001b[39;00m\n",
      "\u001b[0;31mTypeError\u001b[0m: object of type 'NoneType' has no len()"
     ]
    },
    {
     "data": {
      "image/png": "[encoded data removed]",
      "text/plain": [
       "<Figure size 1400x800 with 2 Axes>"
      ]
     },
     "metadata": {},
     "output_type": "display_data"
    }
   ],
   "source": [
    "'''Steamer data'''\n",
    "steamer.primary_outflow_phase.plot(show=True, figsize=[14,8])\n",
    "steamer.secondary_outflow_phase.plot(actors=['temp','quality'], show=True, figsize=[14,8])\n",
    "steamer.state_phase.plot(actors=['heatflux'], show=True, figsize=[14,8])"
   ]
  },
  {
   "cell_type": "markdown",
   "metadata": {},
   "source": [
    "## [Steady State](#toc)<a id=\"ss\"></a>"
   ]
  },
  {
   "cell_type": "code",
   "execution_count": 13,
   "metadata": {},
   "outputs": [],
   "source": [
    "'''Continue simulation'''\n",
    "\n",
    "end_time += 10*unit.minute\n",
    "\n",
    "for module in plant_net.modules:\n",
    "    module.initial_time = module.end_time\n",
    "    module.end_time = end_time\n",
    "    \n",
    "plant_net.connect([reactor, 'coolant-outflow'], [steamer, 'primary-inflow'])\n",
    "plant_net.connect([steamer, 'primary-outflow'], [reactor, 'coolant-inflow'])\n",
    "plant_net.connect([steamer, 'secondary-outflow'], [turbine, 'inflow'])\n",
    "plant_net.connect([turbine, 'outflow'], [condenser, 'inflow'])\n",
    "plant_net.connect([turbine, 'process-heat'], [water_heater, 'external-heat'])\n",
    "plant_net.connect([condenser, 'outflow'], [water_heater, 'inflow'])\n",
    "plant_net.connect([water_heater, 'outflow'], [steamer, 'secondary-inflow'])"
   ]
  },
  {
   "cell_type": "code",
   "execution_count": 14,
   "metadata": {},
   "outputs": [
    {
     "name": "stderr",
     "output_type": "stream",
     "text": [
      "[6201] 2024-03-26 17:47:56,981 - cortix - INFO - Launching Module <bop.reactor.SMPWR object at 0x7fdc40cd4990>\n",
      "[6201] 2024-03-26 17:47:56,986 - cortix - INFO - Launching Module <bop.steamer.Steamer object at 0x7fdc3a0e9fd0>\n",
      "[6201] 2024-03-26 17:47:56,988 - cortix - INFO - SM-PWR::run():time[m]=10.0\n",
      "[6201] 2024-03-26 17:47:56,993 - cortix - INFO - Launching Module <bop.turbine.Turbine object at 0x7fdc39117350>\n",
      "[6201] 2024-03-26 17:47:56,995 - cortix - INFO - Steamer::run():time[m]=10.0\n",
      "[6201] 2024-03-26 17:47:57,001 - cortix - INFO - Launching Module <bop.condenser.Condenser object at 0x7fdc3a130f50>\n",
      "[6201] 2024-03-26 17:47:57,003 - cortix - INFO - Turbine::run():time[m]=10.0\n",
      "[6201] 2024-03-26 17:47:57,008 - cortix - INFO - Launching Module <bop.water_heater.WaterHeater object at 0x7fdc3911cc50>\n",
      "[6201] 2024-03-26 17:47:57,010 - cortix - INFO - Condenser::run():time[m]=10.0\n",
      "[6201] 2024-03-26 17:47:57,018 - cortix - INFO - WaterHeater::run():time[m]=10.0\n",
      "[6201] 2024-03-26 17:50:06,317 - cortix - INFO - SM-PWR::run():time[m]=15.0\n",
      "[6201] 2024-03-26 17:50:06,319 - cortix - INFO - Steamer::run():time[m]=15.0\n",
      "[6201] 2024-03-26 17:50:06,321 - cortix - INFO - Condenser::run():time[m]=15.0\n",
      "[6201] 2024-03-26 17:50:06,321 - cortix - INFO - WaterHeater::run():time[m]=15.0\n",
      "[6201] 2024-03-26 17:50:06,321 - cortix - INFO - Turbine::run():time[m]=15.0\n",
      "[6201] 2024-03-26 17:51:48,459 - cortix - INFO - run()::Elapsed wall clock time [s]: 3341.23\n",
      "[6201] 2024-03-26 17:51:48,460 - cortix - INFO - Closed Cortix object.\n",
      "_____________________________________________________________________________\n",
      "                           T E R M I N A T I N G                             \n",
      "_____________________________________________________________________________\n",
      "      ...                                        s       .     (TAAG Fraktur)\n",
      "   xH88\"`~ .x8X                                 :8      @88>\n",
      " :8888   .f\"8888Hf        u.      .u    .      .88      %8P      uL   ..\n",
      ":8888>  X8L  ^\"\"`   ...ue888b   .d88B :@8c    :888ooo    .     .@88b  @88R\n",
      "X8888  X888h        888R Y888r =\"8888f8888r -*8888888  .@88u  \"\"Y888k/\"*P\n",
      "88888  !88888.      888R I888>   4888>\"88\"    8888    888E`    Y888L\n",
      "88888   %88888      888R I888>   4888> \"      8888      888E      8888\n",
      "88888 `> `8888>     888R I888>   4888>        8888      888E      `888N\n",
      "`8888L %  ?888   ! u8888cJ888   .d888L .+    .8888Lu=   888E   .u./\"888&\n",
      " `8888  `-*\"\"   /   \"*888*P\"    ^\"8888*\"     ^%888*     888&  d888\" Y888*\"\n",
      "   \"888.      :\"      \"Y\"          \"Y\"         \"Y\"      R888\" ` \"Y   Y\"\n",
      "     `\"\"***~\"`                                           \"\"\n",
      "                             https://cortix.org                              \n",
      "_____________________________________________________________________________\n",
      "[6201] 2024-03-26 17:51:48,461 - cortix - INFO - close()::Elapsed wall clock time [s]: 3341.23\n"
     ]
    }
   ],
   "source": [
    "plant.run()   # Run network dynamics simulation\n",
    "plant.close() # Close run"
   ]
  },
  {
   "cell_type": "code",
   "execution_count": 15,
   "metadata": {},
   "outputs": [],
   "source": [
    "'''Collect multiprocessing data'''\n",
    "\n",
    "reactor = plant_net.modules[0]\n",
    "steamer = plant_net.modules[1]\n",
    "turbine = plant_net.modules[2]\n",
    "condenser = plant_net.modules[3]\n",
    "water_heater = plant_net.modules[4]"
   ]
  },
  {
   "cell_type": "code",
   "execution_count": 16,
   "metadata": {},
   "outputs": [
    {
     "ename": "TypeError",
     "evalue": "object of type 'NoneType' has no len()",
     "output_type": "error",
     "traceback": [
      "\u001b[0;31m---------------------------------------------------------------------------\u001b[0m",
      "\u001b[0;31mTypeError\u001b[0m                                 Traceback (most recent call last)",
      "Cell \u001b[0;32mIn[16], line 3\u001b[0m\n\u001b[1;32m      1\u001b[0m \u001b[38;5;124;03m'''Reactor data'''\u001b[39;00m\n\u001b[1;32m      2\u001b[0m \u001b[38;5;66;03m#reactor.state_phase.plot(show=True, figsize=[14,8])\u001b[39;00m\n\u001b[0;32m----> 3\u001b[0m \u001b[43mreactor\u001b[49m\u001b[38;5;241;43m.\u001b[39;49m\u001b[43mstate_phase\u001b[49m\u001b[38;5;241;43m.\u001b[39;49m\u001b[43mplot\u001b[49m\u001b[43m(\u001b[49m\u001b[43mactors\u001b[49m\u001b[38;5;241;43m=\u001b[39;49m\u001b[43m[\u001b[49m\u001b[38;5;124;43m'\u001b[39;49m\u001b[38;5;124;43mpower\u001b[39;49m\u001b[38;5;124;43m'\u001b[39;49m\u001b[43m,\u001b[49m\u001b[38;5;124;43m'\u001b[39;49m\u001b[38;5;124;43minlet-temp\u001b[39;49m\u001b[38;5;124;43m'\u001b[39;49m\u001b[43m]\u001b[49m\u001b[43m,\u001b[49m\u001b[43m \u001b[49m\u001b[43mshow\u001b[49m\u001b[38;5;241;43m=\u001b[39;49m\u001b[38;5;28;43;01mTrue\u001b[39;49;00m\u001b[43m,\u001b[49m\u001b[43mfigsize\u001b[49m\u001b[38;5;241;43m=\u001b[39;49m\u001b[43m[\u001b[49m\u001b[38;5;241;43m14\u001b[39;49m\u001b[43m,\u001b[49m\u001b[38;5;241;43m8\u001b[39;49m\u001b[43m]\u001b[49m\u001b[43m)\u001b[49m\n\u001b[1;32m      4\u001b[0m reactor\u001b[38;5;241m.\u001b[39mcoolant_outflow_phase\u001b[38;5;241m.\u001b[39mplot(actors\u001b[38;5;241m=\u001b[39m[\u001b[38;5;124m'\u001b[39m\u001b[38;5;124mtemp\u001b[39m\u001b[38;5;124m'\u001b[39m,\u001b[38;5;124m'\u001b[39m\u001b[38;5;124mflowrate\u001b[39m\u001b[38;5;124m'\u001b[39m], show\u001b[38;5;241m=\u001b[39m\u001b[38;5;28;01mTrue\u001b[39;00m,figsize\u001b[38;5;241m=\u001b[39m[\u001b[38;5;241m14\u001b[39m,\u001b[38;5;241m8\u001b[39m])\n",
      "File \u001b[0;32m~/gentoo-home/work/codes/reprocessing/cortix-dev/cortix/cortix/support/phase_new.py:914\u001b[0m, in \u001b[0;36mPhaseNew.plot\u001b[0;34m(self, actors, name, var_unit, legend, nrows, ncols, figsize, show, dpi)\u001b[0m\n\u001b[1;32m    912\u001b[0m         \u001b[38;5;28;01massert\u001b[39;00m \u001b[38;5;28mself\u001b[39m\u001b[38;5;241m.\u001b[39m__quantities[i_var]\u001b[38;5;241m.\u001b[39mname \u001b[38;5;241m==\u001b[39m \u001b[38;5;28mself\u001b[39m\u001b[38;5;241m.\u001b[39m__df\u001b[38;5;241m.\u001b[39mcolumns[i_var]\n\u001b[1;32m    913\u001b[0m \u001b[38;5;28;01melif\u001b[39;00m quantity:\n\u001b[0;32m--> 914\u001b[0m     \u001b[38;5;28;01mif\u001b[39;00m i_var \u001b[38;5;241m>\u001b[39m \u001b[38;5;28;43mlen\u001b[39;49m\u001b[43m(\u001b[49m\u001b[38;5;28;43mself\u001b[39;49m\u001b[38;5;241;43m.\u001b[39;49m\u001b[43m__species\u001b[49m\u001b[43m)\u001b[49m:\n\u001b[1;32m    915\u001b[0m         \u001b[38;5;28;01massert\u001b[39;00m \u001b[38;5;28mself\u001b[39m\u001b[38;5;241m.\u001b[39m__quantities[i_var]\u001b[38;5;241m.\u001b[39mname \u001b[38;5;241m==\u001b[39m \u001b[38;5;28mself\u001b[39m\u001b[38;5;241m.\u001b[39m__df\u001b[38;5;241m.\u001b[39mcolumns[i_var], \\\n\u001b[1;32m    916\u001b[0m            \u001b[38;5;124m'\u001b[39m\u001b[38;5;124mivar=\u001b[39m\u001b[38;5;132;01m%r\u001b[39;00m\u001b[38;5;124m; __quant[i]=\u001b[39m\u001b[38;5;132;01m%r\u001b[39;00m\u001b[38;5;124m; __df.col[i]=\u001b[39m\u001b[38;5;132;01m%r\u001b[39;00m\u001b[38;5;124m; __quant=\u001b[39m\u001b[38;5;132;01m%r\u001b[39;00m\u001b[38;5;124m; __df.col=\u001b[39m\u001b[38;5;132;01m%r\u001b[39;00m\u001b[38;5;124m'\u001b[39m\u001b[38;5;241m%\u001b[39m(i_var, \u001b[38;5;28mself\u001b[39m\u001b[38;5;241m.\u001b[39m__quantities[i_var]\u001b[38;5;241m.\u001b[39mname, \u001b[38;5;28mself\u001b[39m\u001b[38;5;241m.\u001b[39m__df\u001b[38;5;241m.\u001b[39mcolumns[i_var], \u001b[38;5;28mself\u001b[39m\u001b[38;5;241m.\u001b[39m__quantities, \u001b[38;5;28mself\u001b[39m\u001b[38;5;241m.\u001b[39m__df\u001b[38;5;241m.\u001b[39mcolumns)\n\u001b[1;32m    918\u001b[0m \u001b[38;5;250m\u001b[39m\u001b[38;5;124;03m'''\u001b[39;00m\n\u001b[1;32m    919\u001b[0m \u001b[38;5;124;03mif varUnit == 'gram':\u001b[39;00m\n\u001b[1;32m    920\u001b[0m \u001b[38;5;124;03m    varUnit = 'g'\u001b[39;00m\n\u001b[0;32m   (...)\u001b[0m\n\u001b[1;32m    930\u001b[0m \u001b[38;5;124;03m    varUnit = 's'\u001b[39;00m\n\u001b[1;32m    931\u001b[0m \u001b[38;5;124;03m'''\u001b[39;00m\n",
      "\u001b[0;31mTypeError\u001b[0m: object of type 'NoneType' has no len()"
     ]
    },
    {
     "data": {
      "image/png": "[encoded data removed]",
      "text/plain": [
       "<Figure size 1400x800 with 2 Axes>"
      ]
     },
     "metadata": {},
     "output_type": "display_data"
    }
   ],
   "source": [
    "'''Reactor data'''\n",
    "#reactor.state_phase.plot(show=True, figsize=[14,8])\n",
    "reactor.state_phase.plot(actors=['power','inlet-temp'], show=True,figsize=[14,8])\n",
    "reactor.coolant_outflow_phase.plot(actors=['temp','flowrate'], show=True,figsize=[14,8])"
   ]
  },
  {
   "cell_type": "code",
   "execution_count": 17,
   "metadata": {},
   "outputs": [
    {
     "ename": "TypeError",
     "evalue": "object of type 'NoneType' has no len()",
     "output_type": "error",
     "traceback": [
      "\u001b[0;31m---------------------------------------------------------------------------\u001b[0m",
      "\u001b[0;31mTypeError\u001b[0m                                 Traceback (most recent call last)",
      "Cell \u001b[0;32mIn[17], line 2\u001b[0m\n\u001b[1;32m      1\u001b[0m \u001b[38;5;124;03m'''Turbine data'''\u001b[39;00m\n\u001b[0;32m----> 2\u001b[0m \u001b[43mturbine\u001b[49m\u001b[38;5;241;43m.\u001b[39;49m\u001b[43mstate_phase\u001b[49m\u001b[38;5;241;43m.\u001b[39;49m\u001b[43mplot\u001b[49m\u001b[43m(\u001b[49m\u001b[43mshow\u001b[49m\u001b[38;5;241;43m=\u001b[39;49m\u001b[38;5;28;43;01mTrue\u001b[39;49;00m\u001b[43m,\u001b[49m\u001b[43m \u001b[49m\u001b[43mfigsize\u001b[49m\u001b[38;5;241;43m=\u001b[39;49m\u001b[43m[\u001b[49m\u001b[38;5;241;43m14\u001b[39;49m\u001b[43m,\u001b[49m\u001b[38;5;241;43m8\u001b[39;49m\u001b[43m]\u001b[49m\u001b[43m)\u001b[49m\n\u001b[1;32m      3\u001b[0m turbine\u001b[38;5;241m.\u001b[39moutflow_phase\u001b[38;5;241m.\u001b[39mplot(actors\u001b[38;5;241m=\u001b[39m[\u001b[38;5;124m'\u001b[39m\u001b[38;5;124mtemp\u001b[39m\u001b[38;5;124m'\u001b[39m,\u001b[38;5;124m'\u001b[39m\u001b[38;5;124mquality\u001b[39m\u001b[38;5;124m'\u001b[39m], show\u001b[38;5;241m=\u001b[39m\u001b[38;5;28;01mTrue\u001b[39;00m,figsize\u001b[38;5;241m=\u001b[39m[\u001b[38;5;241m14\u001b[39m,\u001b[38;5;241m8\u001b[39m])\n",
      "File \u001b[0;32m~/gentoo-home/work/codes/reprocessing/cortix-dev/cortix/cortix/support/phase_new.py:914\u001b[0m, in \u001b[0;36mPhaseNew.plot\u001b[0;34m(self, actors, name, var_unit, legend, nrows, ncols, figsize, show, dpi)\u001b[0m\n\u001b[1;32m    912\u001b[0m         \u001b[38;5;28;01massert\u001b[39;00m \u001b[38;5;28mself\u001b[39m\u001b[38;5;241m.\u001b[39m__quantities[i_var]\u001b[38;5;241m.\u001b[39mname \u001b[38;5;241m==\u001b[39m \u001b[38;5;28mself\u001b[39m\u001b[38;5;241m.\u001b[39m__df\u001b[38;5;241m.\u001b[39mcolumns[i_var]\n\u001b[1;32m    913\u001b[0m \u001b[38;5;28;01melif\u001b[39;00m quantity:\n\u001b[0;32m--> 914\u001b[0m     \u001b[38;5;28;01mif\u001b[39;00m i_var \u001b[38;5;241m>\u001b[39m \u001b[38;5;28mlen\u001b[39m(\u001b[38;5;28mself\u001b[39m\u001b[38;5;241m.\u001b[39m__species):\n\u001b[1;32m    915\u001b[0m         \u001b[38;5;28;01massert\u001b[39;00m \u001b[38;5;28mself\u001b[39m\u001b[38;5;241m.\u001b[39m__quantities[i_var]\u001b[38;5;241m.\u001b[39mname \u001b[38;5;241m==\u001b[39m \u001b[38;5;28mself\u001b[39m\u001b[38;5;241m.\u001b[39m__df\u001b[38;5;241m.\u001b[39mcolumns[i_var], \\\n\u001b[1;32m    916\u001b[0m            \u001b[38;5;124m'\u001b[39m\u001b[38;5;124mivar=\u001b[39m\u001b[38;5;132;01m%r\u001b[39;00m\u001b[38;5;124m; __quant[i]=\u001b[39m\u001b[38;5;132;01m%r\u001b[39;00m\u001b[38;5;124m; __df.col[i]=\u001b[39m\u001b[38;5;132;01m%r\u001b[39;00m\u001b[38;5;124m; __quant=\u001b[39m\u001b[38;5;132;01m%r\u001b[39;00m\u001b[38;5;124m; __df.col=\u001b[39m\u001b[38;5;132;01m%r\u001b[39;00m\u001b[38;5;124m'\u001b[39m\u001b[38;5;241m%\u001b[39m(i_var, \u001b[38;5;28mself\u001b[39m\u001b[38;5;241m.\u001b[39m__quantities[i_var]\u001b[38;5;241m.\u001b[39mname, \u001b[38;5;28mself\u001b[39m\u001b[38;5;241m.\u001b[39m__df\u001b[38;5;241m.\u001b[39mcolumns[i_var], \u001b[38;5;28mself\u001b[39m\u001b[38;5;241m.\u001b[39m__quantities, \u001b[38;5;28mself\u001b[39m\u001b[38;5;241m.\u001b[39m__df\u001b[38;5;241m.\u001b[39mcolumns)\n\u001b[1;32m    918\u001b[0m \u001b[38;5;250m\u001b[39m\u001b[38;5;124;03m'''\u001b[39;00m\n\u001b[1;32m    919\u001b[0m \u001b[38;5;124;03mif varUnit == 'gram':\u001b[39;00m\n\u001b[1;32m    920\u001b[0m \u001b[38;5;124;03m    varUnit = 'g'\u001b[39;00m\n\u001b[0;32m   (...)\u001b[0m\n\u001b[1;32m    930\u001b[0m \u001b[38;5;124;03m    varUnit = 's'\u001b[39;00m\n\u001b[1;32m    931\u001b[0m \u001b[38;5;124;03m'''\u001b[39;00m\n",
      "\u001b[0;31mTypeError\u001b[0m: object of type 'NoneType' has no len()"
     ]
    },
    {
     "data": {
      "image/png": "[encoded data removed]",
      "text/plain": [
       "<Figure size 1400x800 with 2 Axes>"
      ]
     },
     "metadata": {},
     "output_type": "display_data"
    }
   ],
   "source": [
    "'''Turbine data'''\n",
    "turbine.state_phase.plot(show=True, figsize=[14,8])\n",
    "turbine.outflow_phase.plot(actors=['temp','quality'], show=True,figsize=[14,8])"
   ]
  },
  {
   "cell_type": "markdown",
   "metadata": {},
   "source": [
    "## [Water Heater Malfunction](#toc)<a id=\"malfunction\"></a>"
   ]
  },
  {
   "cell_type": "code",
   "execution_count": 18,
   "metadata": {},
   "outputs": [],
   "source": [
    "'''Continue simulation with malfunction of water heater'''\n",
    "\n",
    "end_time += 25*unit.minute\n",
    "\n",
    "for module in plant_net.modules:\n",
    "    module.initial_time = module.end_time\n",
    "    module.end_time = end_time\n",
    "    \n",
    "plant_net.connect([reactor, 'coolant-outflow'], [steamer, 'primary-inflow'])\n",
    "plant_net.connect([steamer, 'primary-outflow'], [reactor, 'coolant-inflow'])\n",
    "plant_net.connect([steamer, 'secondary-outflow'], [turbine, 'inflow'])\n",
    "plant_net.connect([turbine, 'outflow'], [condenser, 'inflow'])\n",
    "plant_net.connect([turbine, 'process-heat'], [water_heater, 'external-heat'])\n",
    "plant_net.connect([condenser, 'outflow'], [water_heater, 'inflow'])\n",
    "plant_net.connect([water_heater, 'outflow'], [steamer, 'secondary-inflow'])"
   ]
  },
  {
   "cell_type": "code",
   "execution_count": null,
   "metadata": {},
   "outputs": [],
   "source": [
    "initial_malfunction_time = water_heater.initial_time + 5*unit.minute\n",
    "final_malfunction_time = initial_malfunction_time + 15*unit.minute\n",
    "\n",
    "water_heater.malfunction = (True, initial_malfunction_time, final_malfunction_time)\n",
    "\n",
    "plant.run()   # Run network dynamics simulation\n",
    "plant.close() # Close run"
   ]
  },
  {
   "cell_type": "code",
   "execution_count": null,
   "metadata": {},
   "outputs": [],
   "source": [
    "'''Collect multiprocessing data'''\n",
    "\n",
    "reactor = plant_net.modules[0]\n",
    "steamer = plant_net.modules[1]\n",
    "turbine = plant_net.modules[2]\n",
    "condenser = plant_net.modules[3]\n",
    "water_heater = plant_net.modules[4]"
   ]
  },
  {
   "cell_type": "code",
   "execution_count": null,
   "metadata": {},
   "outputs": [],
   "source": [
    "'''Reactor data'''\n",
    "#reactor.state_phase.plot(show=True, figsize=[14,8])\n",
    "reactor.state_phase.plot(actors=['power','inlet-temp'], show=True,figsize=[14,8])\n",
    "reactor.coolant_outflow_phase.plot(actors=['temp','flowrate'], show=True,figsize=[14,8])"
   ]
  },
  {
   "cell_type": "code",
   "execution_count": null,
   "metadata": {},
   "outputs": [],
   "source": [
    "'''Turbine data'''\n",
    "turbine.state_phase.plot(show=True, figsize=[14,8])\n",
    "turbine.outflow_phase.plot(actors=['temp','quality'], show=True,figsize=[14,8])"
   ]
  },
  {
   "cell_type": "code",
   "execution_count": null,
   "metadata": {},
   "outputs": [],
   "source": [
    "'''Water heater data'''\n",
    "water_heater.inflow_phase.plot(actors=['external-heat'], show=True,figsize=[14,8])\n",
    "water_heater.outflow_phase.plot(actors=['temp','flowrate'], show=True,figsize=[14,8])"
   ]
  },
  {
   "cell_type": "code",
   "execution_count": null,
   "metadata": {},
   "outputs": [],
   "source": [
    "'''Steamer data'''\n",
    "steamer.primary_outflow_phase.plot(show=True, figsize=[14,8])\n",
    "steamer.secondary_outflow_phase.plot(actors=['temp','quality'], show=True, figsize=[14,8])\n",
    "steamer.state_phase.plot(actors=['heatflux'], show=True, figsize=[14,8])"
   ]
  },
  {
   "cell_type": "markdown",
   "metadata": {},
   "source": [
    "## [Shutdown](#toc)<a id=\"sd\"></a>"
   ]
  },
  {
   "cell_type": "code",
   "execution_count": null,
   "metadata": {},
   "outputs": [],
   "source": [
    "'''Continue simulation with malfunction of water heater'''\n",
    "\n",
    "end_time += 15*unit.minute\n",
    "\n",
    "for module in plant_net.modules:\n",
    "    module.initial_time = module.end_time\n",
    "    module.end_time = end_time\n",
    "    \n",
    "plant_net.connect([reactor, 'coolant-outflow'], [steamer, 'primary-inflow'])\n",
    "plant_net.connect([steamer, 'primary-outflow'], [reactor, 'coolant-inflow'])\n",
    "plant_net.connect([steamer, 'secondary-outflow'], [turbine, 'inflow'])\n",
    "plant_net.connect([turbine, 'outflow'], [condenser, 'inflow'])\n",
    "plant_net.connect([turbine, 'process-heat'], [water_heater, 'external-heat'])\n",
    "plant_net.connect([condenser, 'outflow'], [water_heater, 'inflow'])\n",
    "plant_net.connect([water_heater, 'outflow'], [steamer, 'secondary-inflow'])"
   ]
  },
  {
   "cell_type": "code",
   "execution_count": null,
   "metadata": {},
   "outputs": [],
   "source": [
    "shutdown_time = reactor.initial_time + 5*unit.minute\n",
    "\n",
    "reactor.shutdown = (True, shutdown_time)\n",
    "\n",
    "plant.run()   # Run network dynamics simulation\n",
    "plant.close() # Close run"
   ]
  },
  {
   "cell_type": "code",
   "execution_count": null,
   "metadata": {},
   "outputs": [],
   "source": [
    "'''Collect multiprocessing data'''\n",
    "\n",
    "reactor = plant_net.modules[0]\n",
    "steamer = plant_net.modules[1]\n",
    "turbine = plant_net.modules[2]\n",
    "condenser = plant_net.modules[3]\n",
    "water_heater = plant_net.modules[4]"
   ]
  },
  {
   "cell_type": "code",
   "execution_count": null,
   "metadata": {},
   "outputs": [],
   "source": [
    "'''Reactor data'''\n",
    "#reactor.state_phase.plot(show=True, figsize=[14,8])\n",
    "reactor.state_phase.plot(actors=['power','inlet-temp'], show=True,figsize=[14,8])\n",
    "reactor.coolant_outflow_phase.plot(actors=['temp','flowrate'], show=True,figsize=[14,8])\n",
    "reactor.neutron_phase.plot(actors=['neutron-dens'], show=True, figsize=[14,8])"
   ]
  },
  {
   "cell_type": "code",
   "execution_count": null,
   "metadata": {},
   "outputs": [],
   "source": [
    "'''Turbine data'''\n",
    "turbine.state_phase.plot(show=True, figsize=[14,8])\n",
    "turbine.outflow_phase.plot(actors=['temp','quality'], show=True,figsize=[14,8])"
   ]
  },
  {
   "cell_type": "code",
   "execution_count": null,
   "metadata": {},
   "outputs": [],
   "source": [
    "'''Steamer data'''\n",
    "steamer.primary_outflow_phase.plot(show=True, figsize=[14,8])\n",
    "steamer.secondary_outflow_phase.plot(actors=['temp','quality'], show=True, figsize=[14,8])\n",
    "steamer.state_phase.plot(actors=['heatflux'], show=True, figsize=[14,8])"
   ]
  },
  {
   "cell_type": "code",
   "execution_count": null,
   "metadata": {},
   "outputs": [],
   "source": [
    "'''Water heater data'''\n",
    "water_heater.inflow_phase.plot(actors=['external-heat'], show=True,figsize=[14,8])\n",
    "water_heater.outflow_phase.plot(actors=['temp','flowrate'], show=True,figsize=[14,8])"
   ]
  },
  {
   "cell_type": "markdown",
   "metadata": {},
   "source": [
    "## [References](#toc)<a id=\"refs\"></a>\n",
    "\n",
    "- [1] J. Kennedy, N. Kemper, V. F. de Almeida, [Engy-4390: Small Modular Pressurized Water Reactor](https://github.com/dpploy/engy-4390/tree/main/projects/sm-pwr).\n",
    "- [2] Dale Atkinson, “NuScale update for NASEO” Nuscale power, May 2019. Retrieved at:https://naseo.org/Data/Sites/1/atkinson_naseo-may-22,-2019.pdf \n",
    "- [3] V. F. de Almeida, [Cortix](https://cortix.org), *Network Dynamics Simulation*, University of Massachusetts Lowell, Dept. of Chemical Engineering (Nuclear program).\n",
    "- [4] V. F. de Almeida, [*Engy-4350: Nuclear Reactor Engineering*](https://github.com/dpploy/engy-4350), University of Massachusetts Lowell, Dept. of Chemical Engineering (Nuclear Program).\n",
    "- [5] NuScale, \"NuScale Standard PlantDesign Certification Application, Chapter Four, Reactor, Revision 5\", July 2020.Retrieved at:https://www.nrc.gov/docs/ML2022/ML20224A492.pdf\n",
    "- [6] NuScale, \"NuScale Standard PlantDesign Certification Application, Chapter Five, Reactor Coolant Systems and Connecting Systems, Revision 5\", July 2020.Retrieved at:https://www.nrc.gov/docs/ML2022/ML20224A493.pdf\n",
    "- [7] NuScale, \"NuScale Standard PlantDesign Certification Application, Chapter Ten, Steam and Power Conversion System, Revision 5\", July 2020.Retrieved at:https://www.nrc.gov/docs/ML2022/ML20224A499.pdf"
   ]
  },
  {
   "cell_type": "code",
   "execution_count": null,
   "metadata": {},
   "outputs": [],
   "source": []
  }
 ],
 "metadata": {
  "kernelspec": {
   "display_name": "Python 3 (ipykernel)",
   "language": "python",
   "name": "python3"
  },
  "language_info": {
   "codemirror_mode": {
    "name": "ipython",
    "version": 3
   },
   "file_extension": ".py",
   "mimetype": "text/x-python",
   "name": "python",
   "nbconvert_exporter": "python",
   "pygments_lexer": "ipython3",
   "version": "3.11.8"
  },
  "latex_envs": {
   "LaTeX_envs_menu_present": true,
   "autoclose": false,
   "autocomplete": true,
   "bibliofile": "biblio.bib",
   "cite_by": "apalike",
   "current_citInitial": 1,
   "eqLabelWithNumbers": true,
   "eqNumInitial": 1,
   "hotkeys": {
    "equation": "Ctrl-E",
    "itemize": "Ctrl-I"
   },
   "labels_anchors": false,
   "latex_user_defs": false,
   "report_style_numbering": false,
   "user_envs_cfg": false
  }
 },
 "nbformat": 4,
 "nbformat_minor": 2
}
