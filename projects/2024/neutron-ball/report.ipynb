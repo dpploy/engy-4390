{
 "cells": [
  {
   "cell_type": "markdown",
   "metadata": {},
   "source": [
    "**ENGY-4390** Nuclear Systems Design and Analysis, UMass Lowell, Chem. Eng. Nuclear Program Fall 2024; Prof. V. F. de Almeida\n",
    "\n",
    "# Neutron Diffusion on a Spherical Domain in Vacuum\n",
    "$  \n",
    "  \\newcommand{\\Amtrx}{\\boldsymbol{\\mathsf{A}}}\n",
    "  \\newcommand{\\Bmtrx}{\\boldsymbol{\\mathsf{B}}}\n",
    "  \\newcommand{\\Mmtrx}{\\boldsymbol{\\mathsf{M}}}\n",
    "  \\newcommand{\\Imtrx}{\\boldsymbol{\\mathsf{I}}}\n",
    "  \\newcommand{\\Pmtrx}{\\boldsymbol{\\mathsf{P}}}\n",
    "  \\newcommand{\\Lmtrx}{\\boldsymbol{\\mathsf{L}}}\n",
    "  \\newcommand{\\Umtrx}{\\boldsymbol{\\mathsf{U}}}\n",
    "  \\newcommand{\\Smtrx}{\\boldsymbol{\\mathsf{S}}}\n",
    "  \\newcommand{\\xvec}{\\boldsymbol{\\mathsf{x}}}\n",
    "  \\newcommand{\\avec}{\\boldsymbol{\\mathsf{a}}}\n",
    "  \\newcommand{\\bvec}{\\boldsymbol{\\mathsf{b}}}\n",
    "  \\newcommand{\\cvec}{\\boldsymbol{\\mathsf{c}}}\n",
    "  \\newcommand{\\rvec}{\\boldsymbol{\\mathsf{r}}}\n",
    "  \\newcommand{\\fvec}{\\boldsymbol{\\mathsf{f}}}\n",
    "  \\newcommand{\\mvec}{\\boldsymbol{\\mathsf{m}}}\n",
    "  \\newcommand{\\gvec}{\\boldsymbol{\\mathsf{g}}}\n",
    "  \\newcommand{\\zerovec}{\\boldsymbol{\\mathsf{0}}}\n",
    "  \\newcommand{\\norm}[1]{\\bigl\\lVert{#1}\\bigr\\rVert}\n",
    "  \\newcommand{\\transpose}[1]{{#1}^\\top}\n",
    "  \\DeclareMathOperator{\\rank}{rank}\n",
    "  \\newcommand{\\Reals}{\\mathbb{R}}\n",
    "  \\newcommand{\\thetavec}{\\boldsymbol{\\theta}}\n",
    "$"
   ]
  },
  {
   "cell_type": "markdown",
   "metadata": {},
   "source": [
    "**Student: Melanie Breeze**  <br>\n",
    "**Course:** ENGY-4390 Nuclear Systems Design and Analysis  <br>\n",
    "**Mentor: Valmor F. de Almeida** \n",
    "\n",
    "UMass Lowell, Dept. of Chemical Engineering, Nuclear Energy Program \n",
    "<br>\n",
    "**09Oct2024**"
   ]
  },
  {
   "cell_type": "markdown",
   "metadata": {},
   "source": [
    "---\n",
    "## Table of Contents<a id=\"toc\"></a>\n",
    "* [Introduction](#intro)\n",
    "* [Problem Statement](#problem)\n",
    "* [Objectives](#obj)\n",
    "* [Approach](#app)\n",
    "  + [Analytical Solution](#analyticalsol)\n",
    "  + [Weak Form of Problem Statement](#weakform)\n",
    "  + [MOOSE Kernels](#kernels)\n",
    "  + [Setup](#setup)\n",
    "    - [One-Group Energy](#onegroupenergy)\n",
    "* [Results and Analysis](#ranalysis)\n",
    "* [Conclusions](#conclusions)\n",
    "* [References](#refs)\n",
    "---"
   ]
  },
  {
   "cell_type": "markdown",
   "metadata": {},
   "source": [
    "## [Introduction](#toc)<a id=\"intro\"></a>"
   ]
  },
  {
   "cell_type": "markdown",
   "metadata": {},
   "source": [
    "- Introduction to motivation for neutron transport problems"
   ]
  },
  {
   "cell_type": "markdown",
   "metadata": {},
   "source": [
    "### [Summary of Parameters](#toc)<a id=\"parameters\"></a>\n",
    "\n",
    "\n",
    "\n",
    "$$\n",
    "\\begin{aligned}\n",
    "& \\text {Table 1. Parameter summary}\\\\\n",
    "&\\begin{array}{l|c|r}\n",
    "\\hline \\hline \\text { Parameter } & \\text { Definition } & \\text { Units } \\\\\n",
    "\\hline\n",
    "r & \\text{Radius} & \\mathrm{cm} \\\\\n",
    "r_\\mathrm{i} & \\text{Inner radius} & \\mathrm{cm} \\\\\n",
    "r_\\mathrm{o} & \\text{Outer radius} & \\mathrm{cm} \\\\\n",
    "\\Phi(r) & \\text{Neutron scalar flux} & \\mathrm{n~cm^{-2}~s^{-1}}  \\\\\n",
    "D & \\text{Diffusion} & ? \\\\\n",
    "q & ? & ? \\\\\n",
    "S & \\text{Source term(?)}& ? \\\\\n",
    "A & \\text{Surface area} & \\mathrm{cm^2} \\\\\n",
    "V & \\text{Volume} & \\mathrm{cm^3} \\\\\n",
    "\\alpha & ? & ? \\\\\n",
    "\\Sigma & \\text{Macroscopic cross section} & \\mathrm{cm^{-1}} \\\\\n",
    "\\Sigma_\\mathrm{tot} & \\text{Total macroscopic cross section} & \\mathrm{cm^{-1}} \\\\\n",
    "\\Sigma_\\mathrm{s} & \\text{Macroscopic cross section for scattering} & \\mathrm{cm^{-1}} \\\\\n",
    "\\Sigma_\\mathrm{el} & \\text{Macroscopic cross section for elastic scattering} & \\mathrm{cm^{-1}} \\\\\n",
    "\\Sigma_\\mathrm{non-el} & \\text{Macroscopic cross section for non-elastic scattering} & \\mathrm{cm^{-1}} \\\\\n",
    "\\Sigma_\\mathrm{abs} & \\text{???} & \\mathrm{cm^{-1}} \\\\\n",
    "\\mu & ? & ? \\\\\n",
    "\\bar{\\mu} & ? & ? \\\\\n",
    "\\Omega & \\text{Solid angle} & \\mathrm{cm~cm^{-1}} \\\\\n",
    "Q\\mathrm{^{fis}_{ext}} & ? & ? \\\\\n",
    "Q\\mathrm{^{sc}_{in}} & ? & ? \\\\\n",
    "\\kappa & ? & ? \\\\\n",
    "v & ? & ? \\\\\n",
    "n(r) & ? & ? \\\\\n",
    "n_\\mathrm{b} & ? & ? \\\\\n",
    "\\Gamma^\\pm & ? & ? \\\\\n",
    "J_\\mathrm{in} & ? & ? \\\\\n",
    "J_\\mathrm{out} & ? & ? \\\\\n",
    "\\hline\n",
    "\\end{array}\n",
    "\\end{aligned}\n",
    "$$\n",
    "\n"
   ]
  },
  {
   "cell_type": "markdown",
   "metadata": {},
   "source": [
    "## [Problem Statement](#toc)<a id=\"problem\"></a>"
   ]
  },
  {
   "cell_type": "markdown",
   "metadata": {},
   "source": [
    "### [Strong Form of Problem Statement](#toc)<a id=\"strongform\"></a>\n",
    "\n",
    "This investigation looks to determine how FEM computation of the neutron diffusion equation compare to linear transport theory given standard assumptions about the definition of the diffusion coefficient in homogenous mediums far from and close to voids. Defining diffusion coefficients for neutron transport is an active field of research and includes approximations such as isotropic scattering, linear in angle, nonlocal weighting of nearby average transport properties, Monte Carlo study and experiment.\n",
    "\n",
    "Understanding the connection between linear transport theory and diffusion theory is important for analysis of radiative transfer and neutron transport under certain physical conditions for reactor research and dosimetry studies. Here we will compare the analytic linear transport result for non-absorbing and moderately absorbing mediums given a point source in spherical geometry.\n",
    "\n",
    "The multi-group (energy group) time independent neutron diffusion equation (NDE) in written assuming azimuthal symmetry as\n",
    "\n",
    "Compute $\\Phi_g:[r_\\text{i},r_\\text{o}]\\subset\\Reals\\rightarrow\\Reals$ such that:\n",
    "\n",
    "\\begin{align*}\n",
    "  \\nabla \\cdot D_g \\nabla \\Phi_g(r) - \\Sigma_{g,r} \\Phi_g(r) + S_{g'\\rightarrow g} &= 0 \\\\\n",
    "   q_{n,g}(r_\\text{i}) &= A_g, \\\\\n",
    "   q_{n,g}(r_\\text{o}) &= \\frac{\\alpha}{2}\\Phi_g(r_\\text{o}).\n",
    "\\end{align*}\n",
    "\n",
    "where the source term $S_{g'\\rightarrow g} := \\sum_{g'=1}^{G} \\int_\\Omega \\Sigma_{s,g'\\rightarrow g}\\, f_{s,g'\\rightarrow g}(\\mu)\\,d\\Omega$ is the group down-scattering contribution for each group $g$.\n",
    "\n",
    "The neutron scalar flux is: $\\Phi(r)\\ [n/cm^2 s]$ \n",
    "\n",
    "The total macroscopic cross section is: $\\Sigma_{tot} = \\Sigma_{non-el} + \\Sigma_{el} \\approx \\Sigma_{abs} + \\Sigma_{el}$\n",
    "\n",
    "And the removal cross section for the multi group cross section is $ \\Sigma_{r} = \\Sigma_{tot} - \\bar{\\mu}\\Sigma_{s} $\n",
    "\n",
    "For brevity, $S' = Q^{fis}_{ext} + Q^{sc}_{in}$, is written as the combined source for exterior sources and fission sources or scatter in from out of group (up and down scatter). The full _scatter in term_ requires a _group averaged scatter cross section_ that further requires a _transfer function_ differential in post collision direction $\\Omega \\cdot \\Omega '$. \n",
    "\n",
    "Here for the free surface (vacuum) boundary condition. The neutron density at the outer boundary $\\Phi(r) = |v| n(r) = 0$ if $ n_b\\cdot \\Omega < 0 $.\n",
    "\n"
   ]
  },
  {
   "cell_type": "markdown",
   "metadata": {},
   "source": [
    "### Domain\n",
    "Describe domain here."
   ]
  },
  {
   "cell_type": "code",
   "execution_count": 1,
   "metadata": {
    "code_folding": []
   },
   "outputs": [],
   "source": [
    "def show_domain(screenshot=False):\n",
    "    import pyvista as pv\n",
    "    pv.set_plot_theme('paraview')\n",
    "\n",
    "    radius_i = 1\n",
    "    radius_o = 20 * radius_i\n",
    "    outer = pv.Sphere(center=(0,0,0), direction=(0,0,1), radius=radius_o)\n",
    "    inner = pv.Sphere(center=(0,0,0), direction=(0,0,1), radius=radius_i)\n",
    "\n",
    "    plo = pv.Plotter(notebook=True, shape=(1,1)) \n",
    "    plo.subplot(0,0)\n",
    "    plo.add_mesh(outer, color='yellow', opacity=0.99,)\n",
    "    plo.add_mesh(inner, color='red', opacity=1)\n",
    "    plo.add_axes(xlabel='R', ylabel='Theta', zlabel='Phi')\n",
    "\n",
    "    cpos = plo.show(window_size=[800, 600])\n",
    "    if screenshot:\n",
    "        plo.screenshot('domain.png')"
   ]
  },
  {
   "cell_type": "code",
   "execution_count": null,
   "metadata": {},
   "outputs": [],
   "source": [
    "show_domain()"
   ]
  },
  {
   "cell_type": "markdown",
   "metadata": {},
   "source": [
    "- Text... "
   ]
  },
  {
   "cell_type": "markdown",
   "metadata": {},
   "source": [
    "## [Objectives](#toc)<a id=\"obj\"></a>"
   ]
  },
  {
   "cell_type": "markdown",
   "metadata": {},
   "source": [
    "1. Gather Cross Section Data to provide study parameters\n",
    "2. Set up two analytical solutions\n",
    "    - Set up the non-asymptotic analytic solution __complete__  \n",
    "    - Set up the asymptotic analytic solution with transient __almost complete__  \n",
    "3. Code a MOOSE application to solve the neutron diffusion [problem](#strongform) using Galerkin's method with finite element basis functions\n",
    "    - Set up spherical coordinate system: __complete__\n",
    "    - Identify best test functions for problem domain: __unknown__  \n",
    "    - \"Absorption\" term $\\Sigma_{tot}\\Phi $ is causing strong oscillations when included __unknown__  \n",
    "    "
   ]
  },
  {
   "cell_type": "markdown",
   "metadata": {},
   "source": [
    "## [Approach](#toc)<a id=\"app\"></a>"
   ]
  },
  {
   "cell_type": "markdown",
   "metadata": {},
   "source": [
    "### [Analytic Solution](#toc)<a id=\"analyticalsol\"></a> \n",
    "\n",
    "A general solution is commonly given without the asymptotic condition as:\n",
    "\n",
    "\\begin{align*}\n",
    "    \\Phi(r) =  \\frac{S_0 e^{-\\kappa r}}{4\\pi Dr} \\ \\ \\ (2)\n",
    "\\end{align*}\n",
    "\n",
    "On the other hand, linear transport theory does provide a result at the asymptotic limit for moderately absorbing mediums given that the source flux is not infinity. The integral transport equation is written:\n",
    "\n",
    "\n",
    "\\begin{align*}\n",
    "    \\Phi(r) = \\int dV\\  \\frac{S_0 e^{- \\Sigma_t r}}{4 \\pi r^2} [c \\Sigma_t \\Phi(r') + S_0 \\delta(r')] \\ \\ \\ (3)\n",
    "\\end{align*}\n",
    "\n",
    "In this solution we will currently assume $S_0 = \\Phi_0$ for a single distributed source."
   ]
  },
  {
   "cell_type": "markdown",
   "metadata": {},
   "source": [
    "### [Weak Form of Problem Statement](#toc)<a id=\"weakform\"></a> \n",
    "\n",
    "The Galerkin weak formulation of the [strong form](#strongform) is as follows. Find $\\Phi_g \\in H^1\\!\\bigl([r_\\text{i},r_\\text{o}]\\bigr)$ and $u_2 \\in H^1\\!\\bigl([a,b]\\bigr)$\n",
    "so that \n",
    "\n",
    "\\begin{align*}\n",
    "\\int\\limits_a^b D\\, u_1'(x)\\,w'(x)\\,dx - \\int\\limits_a^b S(u_1, u_2)\\,w(x)\\,dx &= 0 \\quad \\forall \\quad v \\in H^1_0\\!\\bigl([a,b]\\bigr), \\text{and}\n",
    " \\\\\n",
    "  \\int\\limits_a^b v\\, u_2'(x)\\, w(x)\\,dx + \\int\\limits_a^b D\\, u_2'(x)\\,w'(x)\\,dx + \\int\\limits_a^b S(u_1, u_2)\\,w(x)\\,dx &= 0 \\quad \\forall \\quad v \\in H^1_0\\!\\bigl([a,b]\\bigr),\n",
    "\\end{align*}\n",
    "\n",
    "where $H^1\\!\\bigl([a,b]\\bigr) := \\bigl\\{ u:[a,b]\\subset\\Reals\\rightarrow \\Reals \\mid \\int_a^b u'^2\\,dx < \\infty\\bigr\\}$ and $H^1_0\\!\\bigl([a,b]\\bigr) := \\bigl\\{ w \\mid w \\in H^1(a,b), w(a) = 0, w(b) =0 \\bigr\\}$. Both function sets as just defined are Hilbert spaces. The function $w$ is called a test function. Because $w$, $u_1$, $u_2$ are sought in very similar sets of functions, this weak form is called Galerkin's weak form.\n",
    "\n",
    "1. Multiply NDE by a test function $\\phi$.\n",
    "2. Integrate over spatial and angular domain.\n",
    "3. Use divergence theorem to set the boundary condition across the domain surface.\n",
    "\n",
    "The weak form and boundary condition becomes:\n",
    "\n",
    "\\begin{align*}\n",
    "    ( \\nabla \\phi, D \\nabla \\Phi  )\\ - < \\phi, D \\nabla \\Phi \\cdot \\bar{n_b} > +\\ (\\phi , \\Sigma_{tot} \\Phi) = 0 \\ \\ \\ (1B)\n",
    "\\end{align*}\n",
    "\n",
    "This weak form contains the volume and surface integral as written with parenthesis and brackets respectively. The boundary conditions for the partial currents at the surface given as $\\Gamma^{\\pm}$ must be solved for:\n",
    "\n",
    "\\begin{align*}\n",
    "    \\Gamma^{+} = J^{out}({R_S}) = \\nabla \\Phi \\cdot \\bar{n_b}\n",
    "\\end{align*}\n",
    "\n",
    "\\begin{align*}\n",
    "    \\Gamma^{-} = J^{in}({R_S}) = 0\n",
    "\\end{align*}\n",
    "\n",
    "Here we will use the homogenous Neumann boundary condition, which is equivalent to the Robin boundary condition such that the reflectivity at the boundary is 0 as:\n",
    "\n",
    "\\begin{align*}\n",
    "    \\frac{1}{4} \\Phi + \\frac{1}{2} D \\nabla \\Phi \\cdot \\bar{n_b} = J^{-} = \\frac{\\Phi}{4} - \\frac{J}{2} = \\frac{\\Phi}{4} - \\frac{D \\nabla \\Phi}{2}\n",
    "\\end{align*}\n",
    "\n",
    "Solving for the weak form boundary condition and multiplying our test function $\\phi$:\n",
    "\n",
    "\\begin{align*}\n",
    "     \\phi (D \\nabla \\Phi \\cdot \\bar{n_b}) = \\phi( \\frac{1}{2} D \\nabla \\Phi)\n",
    "\\end{align*}\n",
    "\n",
    "#### 2 Group NDE  Weak Form:\n",
    "\n",
    "Assuming no upscattering from group 2 to group 1:\n",
    "\n",
    "\\begin{align*}\n",
    "    -\\nabla \\cdot D_1 \\nabla \\Phi_1(r)  + \\Sigma_{r,1} \\Phi(r) =  0 \\ \\ \\ (X) \n",
    "\\end{align*}\n",
    "\n",
    "\\begin{align*}\n",
    "    -\\nabla \\cdot D_2 \\nabla \\Phi_2(r)  + \\Sigma_{r,2} \\Phi(r) =  \\Sigma_{s,1 \\rightarrow 2} \\Phi_1(r) \\ \\ \\ (X) \n",
    "\\end{align*}\n"
   ]
  },
  {
   "cell_type": "code",
   "execution_count": 1,
   "metadata": {},
   "outputs": [
    {
     "ename": "FileNotFoundError",
     "evalue": "./SigTot_Al.csv not found.",
     "output_type": "error",
     "traceback": [
      "\u001b[0;31m---------------------------------------------------------------------------\u001b[0m",
      "\u001b[0;31mFileNotFoundError\u001b[0m                         Traceback (most recent call last)",
      "Cell \u001b[0;32mIn[1], line 3\u001b[0m\n\u001b[1;32m      1\u001b[0m \u001b[38;5;28;01mimport\u001b[39;00m \u001b[38;5;21;01mnumpy\u001b[39;00m \u001b[38;5;28;01mas\u001b[39;00m \u001b[38;5;21;01mnp\u001b[39;00m\n\u001b[1;32m      2\u001b[0m \u001b[38;5;28;01mimport\u001b[39;00m \u001b[38;5;21;01mmatplotlib\u001b[39;00m\u001b[38;5;21;01m.\u001b[39;00m\u001b[38;5;21;01mpyplot\u001b[39;00m \u001b[38;5;28;01mas\u001b[39;00m \u001b[38;5;21;01mplt\u001b[39;00m\n\u001b[0;32m----> 3\u001b[0m file2 \u001b[38;5;241m=\u001b[39m np\u001b[38;5;241m.\u001b[39mgenfromtxt(\u001b[38;5;124m'\u001b[39m\u001b[38;5;124m./SigTot_Al.csv\u001b[39m\u001b[38;5;124m'\u001b[39m,delimiter\u001b[38;5;241m=\u001b[39m\u001b[38;5;124m\"\u001b[39m\u001b[38;5;124m,\u001b[39m\u001b[38;5;124m\"\u001b[39m,comments \u001b[38;5;241m=\u001b[39m \u001b[38;5;124m'\u001b[39m\u001b[38;5;124m#\u001b[39m\u001b[38;5;124m'\u001b[39m)\n\u001b[1;32m      4\u001b[0m file1 \u001b[38;5;241m=\u001b[39m np\u001b[38;5;241m.\u001b[39mgenfromtxt(\u001b[38;5;124m'\u001b[39m\u001b[38;5;124m./SigEl_Al.csv\u001b[39m\u001b[38;5;124m'\u001b[39m,delimiter\u001b[38;5;241m=\u001b[39m\u001b[38;5;124m\"\u001b[39m\u001b[38;5;124m,\u001b[39m\u001b[38;5;124m\"\u001b[39m,comments \u001b[38;5;241m=\u001b[39m \u001b[38;5;124m'\u001b[39m\u001b[38;5;124m#\u001b[39m\u001b[38;5;124m'\u001b[39m)\n\u001b[1;32m      5\u001b[0m plt\u001b[38;5;241m.\u001b[39mxscale(\u001b[38;5;124m\"\u001b[39m\u001b[38;5;124mlinear\u001b[39m\u001b[38;5;124m\"\u001b[39m)\n",
      "File \u001b[0;32m~/miniconda3/envs/engy/lib/python3.12/site-packages/numpy/lib/npyio.py:1980\u001b[0m, in \u001b[0;36mgenfromtxt\u001b[0;34m(fname, dtype, comments, delimiter, skip_header, skip_footer, converters, missing_values, filling_values, usecols, names, excludelist, deletechars, replace_space, autostrip, case_sensitive, defaultfmt, unpack, usemask, loose, invalid_raise, max_rows, encoding, ndmin, like)\u001b[0m\n\u001b[1;32m   1978\u001b[0m     fname \u001b[38;5;241m=\u001b[39m os_fspath(fname)\n\u001b[1;32m   1979\u001b[0m \u001b[38;5;28;01mif\u001b[39;00m \u001b[38;5;28misinstance\u001b[39m(fname, \u001b[38;5;28mstr\u001b[39m):\n\u001b[0;32m-> 1980\u001b[0m     fid \u001b[38;5;241m=\u001b[39m np\u001b[38;5;241m.\u001b[39mlib\u001b[38;5;241m.\u001b[39m_datasource\u001b[38;5;241m.\u001b[39mopen(fname, \u001b[38;5;124m'\u001b[39m\u001b[38;5;124mrt\u001b[39m\u001b[38;5;124m'\u001b[39m, encoding\u001b[38;5;241m=\u001b[39mencoding)\n\u001b[1;32m   1981\u001b[0m     fid_ctx \u001b[38;5;241m=\u001b[39m contextlib\u001b[38;5;241m.\u001b[39mclosing(fid)\n\u001b[1;32m   1982\u001b[0m \u001b[38;5;28;01melse\u001b[39;00m:\n",
      "File \u001b[0;32m~/miniconda3/envs/engy/lib/python3.12/site-packages/numpy/lib/_datasource.py:193\u001b[0m, in \u001b[0;36mopen\u001b[0;34m(path, mode, destpath, encoding, newline)\u001b[0m\n\u001b[1;32m    156\u001b[0m \u001b[38;5;250m\u001b[39m\u001b[38;5;124;03m\"\"\"\u001b[39;00m\n\u001b[1;32m    157\u001b[0m \u001b[38;5;124;03mOpen `path` with `mode` and return the file object.\u001b[39;00m\n\u001b[1;32m    158\u001b[0m \n\u001b[0;32m   (...)\u001b[0m\n\u001b[1;32m    189\u001b[0m \n\u001b[1;32m    190\u001b[0m \u001b[38;5;124;03m\"\"\"\u001b[39;00m\n\u001b[1;32m    192\u001b[0m ds \u001b[38;5;241m=\u001b[39m DataSource(destpath)\n\u001b[0;32m--> 193\u001b[0m \u001b[38;5;28;01mreturn\u001b[39;00m ds\u001b[38;5;241m.\u001b[39mopen(path, mode, encoding\u001b[38;5;241m=\u001b[39mencoding, newline\u001b[38;5;241m=\u001b[39mnewline)\n",
      "File \u001b[0;32m~/miniconda3/envs/engy/lib/python3.12/site-packages/numpy/lib/_datasource.py:533\u001b[0m, in \u001b[0;36mDataSource.open\u001b[0;34m(self, path, mode, encoding, newline)\u001b[0m\n\u001b[1;32m    530\u001b[0m     \u001b[38;5;28;01mreturn\u001b[39;00m _file_openers[ext](found, mode\u001b[38;5;241m=\u001b[39mmode,\n\u001b[1;32m    531\u001b[0m                               encoding\u001b[38;5;241m=\u001b[39mencoding, newline\u001b[38;5;241m=\u001b[39mnewline)\n\u001b[1;32m    532\u001b[0m \u001b[38;5;28;01melse\u001b[39;00m:\n\u001b[0;32m--> 533\u001b[0m     \u001b[38;5;28;01mraise\u001b[39;00m \u001b[38;5;167;01mFileNotFoundError\u001b[39;00m(\u001b[38;5;124mf\u001b[39m\u001b[38;5;124m\"\u001b[39m\u001b[38;5;132;01m{\u001b[39;00mpath\u001b[38;5;132;01m}\u001b[39;00m\u001b[38;5;124m not found.\u001b[39m\u001b[38;5;124m\"\u001b[39m)\n",
      "\u001b[0;31mFileNotFoundError\u001b[0m: ./SigTot_Al.csv not found."
     ]
    }
   ],
   "source": [
    "import numpy as np\n",
    "import matplotlib.pyplot as plt\n",
    "file2 = np.genfromtxt('./SigTot_Al.csv',delimiter=\",\",comments = '#')\n",
    "file1 = np.genfromtxt('./SigEl_Al.csv',delimiter=\",\",comments = '#')\n",
    "plt.xscale(\"linear\")\n",
    "plt.yscale(\"linear\")\n",
    "plt.xlim([1, 3])\n",
    "plt.ylim([1, 6])\n",
    "plt.xlabel(r'Energy [MeV]', fontsize=18)\n",
    "plt.ylabel(r'Cross Section [barns]', fontsize=18)\n",
    "plt.plot(file1[1:,0]*1e-6, file1[1:,1],label=\"Elastic Sc. C.S. - Avg. 2.225 b\")\n",
    "plt.plot(file2[1:,0]*1e-6, file2[1:,1],label=\"Total Sc. C.S. - Avg. 2.767 b\")\n",
    "plt.legend()\n",
    "plt.show()"
   ]
  },
  {
   "cell_type": "markdown",
   "metadata": {},
   "source": [
    "### [MOOSE Kernels](#toc)<a id=\"kernels\"></a>\n",
    "\n",
    "The following MOOSE kernels were implemented to solve the [weak form](#weakform):\n",
    "1. Diffusion term: $D \\nabla \\Phi \\cdot \\nabla \\phi$\n",
    " + [interface](./include/kernels/DiffusionTerm.h) and [implementation](./src/kernels/DiffusionTerm.C)."
   ]
  },
  {
   "cell_type": "markdown",
   "metadata": {},
   "source": [
    "### [Setup](#toc)<a id=\"setup\"></a>"
   ]
  },
  {
   "cell_type": "markdown",
   "metadata": {},
   "source": [
    "#### [One-Group Energy](#toc)<a id=\"onegroupenergy\"></a>"
   ]
  },
  {
   "cell_type": "markdown",
   "metadata": {},
   "source": [
    "## [Results and Analysis](#toc)<a id=\"ranalysis\"></a>"
   ]
  },
  {
   "cell_type": "markdown",
   "metadata": {},
   "source": [
    "- Text..."
   ]
  },
  {
   "cell_type": "code",
   "execution_count": 2,
   "metadata": {
    "ExecuteTime": {
     "end_time": "2021-12-18T22:14:28.847155Z",
     "start_time": "2021-12-18T22:14:28.839125Z"
    },
    "code_folding": []
   },
   "outputs": [],
   "source": [
    "'''Plot function for FEM Solution'''\n",
    "\n",
    "def plot_solution(df, \n",
    "                  title='No Title', \n",
    "                  basis_functions_type='No basis functions type',\n",
    "                  flux_basis_functions_type='No basis functions type'):\n",
    "    \n",
    "    import matplotlib.pyplot as plt\n",
    "    %matplotlib inline\n",
    "    plt.style.use('dark_background')\n",
    "\n",
    "    (fig, ax1) = plt.subplots(1, figsize=(14, 5))\n",
    "\n",
    "    #ax1.plot(df['x'], df['u'].abs()*2.4e9,'r*-',label=basis_functions_type)\n",
    "    ax1.plot(df['x'], df['u'].abs()*2.4e9,'r*-',label=basis_functions_type)\n",
    "\n",
    "    ax1.set_xlabel(r'$x$ [cm]', fontsize=18)\n",
    "    ax1.set_ylabel(r'$u_h(x)$ [g/cc]', fontsize=18, color='red')\n",
    "    ax1.set_xscale('log')\n",
    "    ax1.set_yscale('log')\n",
    "\n",
    "    ax1.tick_params(axis='y', labelcolor='red', labelsize=14)\n",
    "    ax1.tick_params(axis='x', labelsize=14)\n",
    "    ax1.legend(loc='center left', fontsize=12)\n",
    "    ax1.set_ylim(1e-12,1e12)\n",
    "    ax1.grid(True)\n",
    "\n",
    "    plt.title(title, fontsize=20)\n",
    "    fig.tight_layout()  # otherwise the right y-label is slightly clipped\n",
    "    plt.show()\n",
    "    print('')"
   ]
  },
  {
   "cell_type": "code",
   "execution_count": 3,
   "metadata": {},
   "outputs": [],
   "source": [
    "import numpy as np\n",
    "#!./neutron-ball-opt -i input2G.hit\n",
    "#mooOut1G = np.genfromtxt('./output2G_x-data_0002.csv',delimiter=\",\",comments = '#')\n",
    "#!./neutron-ball-opt -i input1G.hit\n",
    "mooOut1G = np.genfromtxt('./output1G_x-data_0002.csv',delimiter=\",\",comments = '#')"
   ]
  },
  {
   "cell_type": "code",
   "execution_count": 4,
   "metadata": {},
   "outputs": [
    {
     "ename": "KeyError",
     "evalue": "'u'",
     "output_type": "error",
     "traceback": [
      "\u001b[0;31m---------------------------------------------------------------------------\u001b[0m",
      "\u001b[0;31mKeyError\u001b[0m                                  Traceback (most recent call last)",
      "File \u001b[0;32m~/miniconda3/envs/engy/lib/python3.12/site-packages/pandas/core/indexes/base.py:3805\u001b[0m, in \u001b[0;36mIndex.get_loc\u001b[0;34m(self, key)\u001b[0m\n\u001b[1;32m   3804\u001b[0m \u001b[38;5;28;01mtry\u001b[39;00m:\n\u001b[0;32m-> 3805\u001b[0m     \u001b[38;5;28;01mreturn\u001b[39;00m \u001b[38;5;28mself\u001b[39m\u001b[38;5;241m.\u001b[39m_engine\u001b[38;5;241m.\u001b[39mget_loc(casted_key)\n\u001b[1;32m   3806\u001b[0m \u001b[38;5;28;01mexcept\u001b[39;00m \u001b[38;5;167;01mKeyError\u001b[39;00m \u001b[38;5;28;01mas\u001b[39;00m err:\n",
      "File \u001b[0;32mindex.pyx:167\u001b[0m, in \u001b[0;36mpandas._libs.index.IndexEngine.get_loc\u001b[0;34m()\u001b[0m\n",
      "File \u001b[0;32mindex.pyx:196\u001b[0m, in \u001b[0;36mpandas._libs.index.IndexEngine.get_loc\u001b[0;34m()\u001b[0m\n",
      "File \u001b[0;32mpandas/_libs/hashtable_class_helper.pxi:7081\u001b[0m, in \u001b[0;36mpandas._libs.hashtable.PyObjectHashTable.get_item\u001b[0;34m()\u001b[0m\n",
      "File \u001b[0;32mpandas/_libs/hashtable_class_helper.pxi:7089\u001b[0m, in \u001b[0;36mpandas._libs.hashtable.PyObjectHashTable.get_item\u001b[0;34m()\u001b[0m\n",
      "\u001b[0;31mKeyError\u001b[0m: 'u'",
      "\nThe above exception was the direct cause of the following exception:\n",
      "\u001b[0;31mKeyError\u001b[0m                                  Traceback (most recent call last)",
      "Cell \u001b[0;32mIn[4], line 3\u001b[0m\n\u001b[1;32m      1\u001b[0m \u001b[38;5;28;01mimport\u001b[39;00m \u001b[38;5;21;01mpandas\u001b[39;00m \u001b[38;5;28;01mas\u001b[39;00m \u001b[38;5;21;01mpd\u001b[39;00m\n\u001b[1;32m      2\u001b[0m df \u001b[38;5;241m=\u001b[39m pd\u001b[38;5;241m.\u001b[39mread_csv(\u001b[38;5;124m'\u001b[39m\u001b[38;5;124moutput1G_x-data_0002.csv\u001b[39m\u001b[38;5;124m'\u001b[39m)\n\u001b[0;32m----> 3\u001b[0m plot_solution(df, title\u001b[38;5;241m=\u001b[39m\u001b[38;5;124m'\u001b[39m\u001b[38;5;124mDirichlet BC FEM Solution\u001b[39m\u001b[38;5;124m'\u001b[39m, basis_functions_type\u001b[38;5;241m=\u001b[39m\u001b[38;5;124m'\u001b[39m\u001b[38;5;124mLinear Lagrange\u001b[39m\u001b[38;5;124m'\u001b[39m, flux_basis_functions_type\u001b[38;5;241m=\u001b[39m\u001b[38;5;124m'\u001b[39m\u001b[38;5;124mConstant Monomial\u001b[39m\u001b[38;5;124m'\u001b[39m)\n",
      "Cell \u001b[0;32mIn[2], line 15\u001b[0m, in \u001b[0;36mplot_solution\u001b[0;34m(df, title, basis_functions_type, flux_basis_functions_type)\u001b[0m\n\u001b[1;32m     12\u001b[0m (fig, ax1) \u001b[38;5;241m=\u001b[39m plt\u001b[38;5;241m.\u001b[39msubplots(\u001b[38;5;241m1\u001b[39m, figsize\u001b[38;5;241m=\u001b[39m(\u001b[38;5;241m14\u001b[39m, \u001b[38;5;241m5\u001b[39m))\n\u001b[1;32m     14\u001b[0m \u001b[38;5;66;03m#ax1.plot(df['x'], df['u'].abs()*2.4e9,'r*-',label=basis_functions_type)\u001b[39;00m\n\u001b[0;32m---> 15\u001b[0m ax1\u001b[38;5;241m.\u001b[39mplot(df[\u001b[38;5;124m'\u001b[39m\u001b[38;5;124mx\u001b[39m\u001b[38;5;124m'\u001b[39m], df[\u001b[38;5;124m'\u001b[39m\u001b[38;5;124mu\u001b[39m\u001b[38;5;124m'\u001b[39m]\u001b[38;5;241m.\u001b[39mabs()\u001b[38;5;241m*\u001b[39m\u001b[38;5;241m2.4e9\u001b[39m,\u001b[38;5;124m'\u001b[39m\u001b[38;5;124mr*-\u001b[39m\u001b[38;5;124m'\u001b[39m,label\u001b[38;5;241m=\u001b[39mbasis_functions_type)\n\u001b[1;32m     17\u001b[0m ax1\u001b[38;5;241m.\u001b[39mset_xlabel(\u001b[38;5;124mr\u001b[39m\u001b[38;5;124m'\u001b[39m\u001b[38;5;124m$x$ [cm]\u001b[39m\u001b[38;5;124m'\u001b[39m, fontsize\u001b[38;5;241m=\u001b[39m\u001b[38;5;241m18\u001b[39m)\n\u001b[1;32m     18\u001b[0m ax1\u001b[38;5;241m.\u001b[39mset_ylabel(\u001b[38;5;124mr\u001b[39m\u001b[38;5;124m'\u001b[39m\u001b[38;5;124m$u_h(x)$ [g/cc]\u001b[39m\u001b[38;5;124m'\u001b[39m, fontsize\u001b[38;5;241m=\u001b[39m\u001b[38;5;241m18\u001b[39m, color\u001b[38;5;241m=\u001b[39m\u001b[38;5;124m'\u001b[39m\u001b[38;5;124mred\u001b[39m\u001b[38;5;124m'\u001b[39m)\n",
      "File \u001b[0;32m~/miniconda3/envs/engy/lib/python3.12/site-packages/pandas/core/frame.py:4102\u001b[0m, in \u001b[0;36mDataFrame.__getitem__\u001b[0;34m(self, key)\u001b[0m\n\u001b[1;32m   4100\u001b[0m \u001b[38;5;28;01mif\u001b[39;00m \u001b[38;5;28mself\u001b[39m\u001b[38;5;241m.\u001b[39mcolumns\u001b[38;5;241m.\u001b[39mnlevels \u001b[38;5;241m>\u001b[39m \u001b[38;5;241m1\u001b[39m:\n\u001b[1;32m   4101\u001b[0m     \u001b[38;5;28;01mreturn\u001b[39;00m \u001b[38;5;28mself\u001b[39m\u001b[38;5;241m.\u001b[39m_getitem_multilevel(key)\n\u001b[0;32m-> 4102\u001b[0m indexer \u001b[38;5;241m=\u001b[39m \u001b[38;5;28mself\u001b[39m\u001b[38;5;241m.\u001b[39mcolumns\u001b[38;5;241m.\u001b[39mget_loc(key)\n\u001b[1;32m   4103\u001b[0m \u001b[38;5;28;01mif\u001b[39;00m is_integer(indexer):\n\u001b[1;32m   4104\u001b[0m     indexer \u001b[38;5;241m=\u001b[39m [indexer]\n",
      "File \u001b[0;32m~/miniconda3/envs/engy/lib/python3.12/site-packages/pandas/core/indexes/base.py:3812\u001b[0m, in \u001b[0;36mIndex.get_loc\u001b[0;34m(self, key)\u001b[0m\n\u001b[1;32m   3807\u001b[0m     \u001b[38;5;28;01mif\u001b[39;00m \u001b[38;5;28misinstance\u001b[39m(casted_key, \u001b[38;5;28mslice\u001b[39m) \u001b[38;5;129;01mor\u001b[39;00m (\n\u001b[1;32m   3808\u001b[0m         \u001b[38;5;28misinstance\u001b[39m(casted_key, abc\u001b[38;5;241m.\u001b[39mIterable)\n\u001b[1;32m   3809\u001b[0m         \u001b[38;5;129;01mand\u001b[39;00m \u001b[38;5;28many\u001b[39m(\u001b[38;5;28misinstance\u001b[39m(x, \u001b[38;5;28mslice\u001b[39m) \u001b[38;5;28;01mfor\u001b[39;00m x \u001b[38;5;129;01min\u001b[39;00m casted_key)\n\u001b[1;32m   3810\u001b[0m     ):\n\u001b[1;32m   3811\u001b[0m         \u001b[38;5;28;01mraise\u001b[39;00m InvalidIndexError(key)\n\u001b[0;32m-> 3812\u001b[0m     \u001b[38;5;28;01mraise\u001b[39;00m \u001b[38;5;167;01mKeyError\u001b[39;00m(key) \u001b[38;5;28;01mfrom\u001b[39;00m \u001b[38;5;21;01merr\u001b[39;00m\n\u001b[1;32m   3813\u001b[0m \u001b[38;5;28;01mexcept\u001b[39;00m \u001b[38;5;167;01mTypeError\u001b[39;00m:\n\u001b[1;32m   3814\u001b[0m     \u001b[38;5;66;03m# If we have a listlike key, _check_indexing_error will raise\u001b[39;00m\n\u001b[1;32m   3815\u001b[0m     \u001b[38;5;66;03m#  InvalidIndexError. Otherwise we fall through and re-raise\u001b[39;00m\n\u001b[1;32m   3816\u001b[0m     \u001b[38;5;66;03m#  the TypeError.\u001b[39;00m\n\u001b[1;32m   3817\u001b[0m     \u001b[38;5;28mself\u001b[39m\u001b[38;5;241m.\u001b[39m_check_indexing_error(key)\n",
      "\u001b[0;31mKeyError\u001b[0m: 'u'"
     ]
    }
   ],
   "source": [
    "import pandas as pd\n",
    "df = pd.read_csv('output1G_x-data_0002.csv')\n",
    "plot_solution(df, title='Dirichlet BC FEM Solution', basis_functions_type='Linear Lagrange', flux_basis_functions_type='Constant Monomial')"
   ]
  },
  {
   "cell_type": "markdown",
   "metadata": {},
   "source": [
    "- Text..."
   ]
  },
  {
   "cell_type": "markdown",
   "metadata": {},
   "source": [
    "## [Conclusions](#toc)<a id=\"conclusions\"></a>"
   ]
  },
  {
   "cell_type": "markdown",
   "metadata": {},
   "source": [
    "- Text..."
   ]
  },
  {
   "cell_type": "markdown",
   "metadata": {},
   "source": [
    "## [References](#toc)<a id=\"refs\"></a>\n",
    "\n",
    "- [1] V. F. de Almeida, [*Engy-5310: Computational Continuum Transport Phenomena*](https://github.com/dpploy/engy-5310), University of Massachusetts Lowell, Dept. of Chemical Engineering (Nuclear Energy Program).\n",
    "- [2] Multiphysics Object-Oriented Simulation Environment [(MOOSE)](https://mooseframework.org)\n",
    "- [3] author, [reference]()\n",
    "- [4] author, [reference]()"
   ]
  }
 ],
 "metadata": {
  "kernelspec": {
   "display_name": "Python 3 (ipykernel)",
   "language": "python",
   "name": "python3"
  },
  "language_info": {
   "codemirror_mode": {
    "name": "ipython",
    "version": 3
   },
   "file_extension": ".py",
   "mimetype": "text/x-python",
   "name": "python",
   "nbconvert_exporter": "python",
   "pygments_lexer": "ipython3",
   "version": "3.12.5"
  },
  "latex_envs": {
   "LaTeX_envs_menu_present": true,
   "autoclose": false,
   "autocomplete": true,
   "bibliofile": "biblio.bib",
   "cite_by": "apalike",
   "current_citInitial": 1,
   "eqLabelWithNumbers": true,
   "eqNumInitial": 1,
   "hotkeys": {
    "equation": "Ctrl-E",
    "itemize": "Ctrl-I"
   },
   "labels_anchors": false,
   "latex_user_defs": false,
   "report_style_numbering": false,
   "user_envs_cfg": false
  }
 },
 "nbformat": 4,
 "nbformat_minor": 4
}
