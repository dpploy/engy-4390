{
 "cells": [
  {
   "cell_type": "markdown",
   "metadata": {},
   "source": [
    "**ENGY-4390** Nuclear Systems Design and Analysis, UMass Lowell, Chem. Eng. Nuclear Program Fall 2024; Prof. V. F. de Almeida\n",
    "\n",
    "# Neutron Diffusion on a Spherical Domain\n",
    "$  \n",
    "  \\newcommand{\\Amtrx}{\\boldsymbol{\\mathsf{A}}}\n",
    "  \\newcommand{\\Bmtrx}{\\boldsymbol{\\mathsf{B}}}\n",
    "  \\newcommand{\\Mmtrx}{\\boldsymbol{\\mathsf{M}}}\n",
    "  \\newcommand{\\Imtrx}{\\boldsymbol{\\mathsf{I}}}\n",
    "  \\newcommand{\\Pmtrx}{\\boldsymbol{\\mathsf{P}}}\n",
    "  \\newcommand{\\Lmtrx}{\\boldsymbol{\\mathsf{L}}}\n",
    "  \\newcommand{\\Umtrx}{\\boldsymbol{\\mathsf{U}}}\n",
    "  \\newcommand{\\Smtrx}{\\boldsymbol{\\mathsf{S}}}\n",
    "  \\newcommand{\\xvec}{\\boldsymbol{\\mathsf{x}}}\n",
    "  \\newcommand{\\avec}{\\boldsymbol{\\mathsf{a}}}\n",
    "  \\newcommand{\\bvec}{\\boldsymbol{\\mathsf{b}}}\n",
    "  \\newcommand{\\cvec}{\\boldsymbol{\\mathsf{c}}}\n",
    "  \\newcommand{\\rvec}{\\boldsymbol{\\mathsf{r}}}\n",
    "  \\newcommand{\\fvec}{\\boldsymbol{\\mathsf{f}}}\n",
    "  \\newcommand{\\mvec}{\\boldsymbol{\\mathsf{m}}}\n",
    "  \\newcommand{\\gvec}{\\boldsymbol{\\mathsf{g}}}\n",
    "  \\newcommand{\\zerovec}{\\boldsymbol{\\mathsf{0}}}\n",
    "  \\newcommand{\\norm}[1]{\\bigl\\lVert{#1}\\bigr\\rVert}\n",
    "  \\newcommand{\\transpose}[1]{{#1}^\\top}\n",
    "  \\newcommand{\\Reals}{\\mathbb{R}}\n",
    "  \\newcommand{\\thetavec}{\\boldsymbol{\\theta}}\n",
    "  \\newcommand{\\normal}{\\boldsymbol{n}}\n",
    "  \\newcommand{\\flux}{\\boldsymbol{q}}\n",
    "  \\newcommand{\\ihat}{\\hat{\\boldsymbol{i}}}\n",
    "  \\newcommand{\\rhat}{\\hat{\\boldsymbol{r}}}\n",
    "  \\DeclareMathOperator{\\rank}{rank}\n",
    "$"
   ]
  },
  {
   "cell_type": "markdown",
   "metadata": {},
   "source": [
    "**Student: Melanie Breeze**  <br>\n",
    "**Course:** ENGY-4390 Nuclear Systems Design and Analysis  <br>\n",
    "**Advisor and Collaborator: Valmor F. de Almeida** \n",
    "\n",
    "UMass Lowell, Dept. of Chemical Engineering, Nuclear Energy Program \n",
    "<br>\n",
    "**07Oct2024**"
   ]
  },
  {
   "cell_type": "markdown",
   "metadata": {},
   "source": [
    "## Introduction"
   ]
  },
  {
   "cell_type": "markdown",
   "metadata": {},
   "source": [
    "Neutron diffusion from a spherical source is a classical problem in neutron transport. This project investigates the solution of the source problem using 2 different approaches, namely the analyical solution, and the finite element method using a Python implementation from the Engy-5330 course."
   ]
  },
  {
   "cell_type": "markdown",
   "metadata": {},
   "source": [
    "### Summary of Parameters\n",
    "\n",
    "$$\n",
    "\\begin{aligned}\n",
    "& \\text {Table 1. Parameter summary}\\\\\n",
    "&\\begin{array}{l|c|r}\n",
    "\\hline \\hline \\text { Parameter } & \\text { Definition } & \\text { Units } \\\\\n",
    "\\hline\n",
    "r & \\text{Radius} & \\mathrm{cm} \\\\\n",
    "R & \\text{Outer radius of region 1} & \\mathrm{cm} \\\\\n",
    "R_\\infty & \\text{Outer radius of region 2} & \\mathrm{cm} \\\\\n",
    "D & \\text{Diffusion coefficient} & \\mathrm{cm} \\\\\n",
    "\\Sigma_\\mathrm{a} & \\text{Macroscopic cross section} & \\mathrm{cm^{-1}} \\\\\n",
    "L & \\text{Length term, } L = \\sqrt{D/\\Sigma_\\mathrm{a}} & \\mathrm{cm} \\\\\n",
    "u & \\text{Neutron velocity} & \\mathrm{s^{-1}~cm^{-2}} \\\\\n",
    "q & \\text{Neutron normal flux} & \\mathrm{cm~s^{-1}} \\\\\n",
    "s_0 & \\text{Source term}& \\mathrm{cm^3~s^{-1}} \\\\\n",
    "c & \\text{Constants of integration} & \\mathrm{cm^{-1}~s^{-1}} \\\\\n",
    "A & \\text{Surface area} & \\mathrm{cm^2} \\\\\n",
    "V & \\text{Volume} & \\mathrm{cm^3} \\\\\n",
    "\\hline\n",
    "\\end{array}\n",
    "\\end{aligned}\n",
    "$$"
   ]
  },
  {
   "cell_type": "markdown",
   "metadata": {},
   "source": [
    "## Objectives\n",
    "\n",
    " + Solve a 1-D neutron diffusion from a point source problem using two regions in spherical coordinates.\n",
    "   - Region 1 is the sphere source (with finite radius)\n",
    "   - Region 2 is the universe around the source (finite but very large to represent a boundless region)  "
   ]
  },
  {
   "cell_type": "markdown",
   "metadata": {},
   "source": [
    "## Boundary-Value Problem Statement\n",
    "Solve the heterogeneous spatial neutron flux magnitude diffusion problem. Find the spatial neutron flux magnitude in the region 1, $u_1:[0,R]\\subset\\Reals\\rightarrow\\Reals$, and the spatial neutron flux magnitude in the region 2, $u_2:[R,R_\\infty]\\subset\\Reals\\rightarrow\\Reals$\n",
    "such that:\n",
    " \n",
    "\\begin{align*}\n",
    " -\\frac{1}{r^2}\\bigl(-D_1\\, r^2 u_1'\\bigr)'(r) - \\Sigma_{a,1}\\,u_1(r) + s_0^{(1)} &= 0 \\quad\\quad \\forall \\quad\\quad r\\in\\ ]0,R[, \\\\\n",
    " -\\frac{1}{r^2}\\bigl(-D_2\\, r^2 u_2'\\bigr)'(r) - \\Sigma_{a,2}\\,u_2(r) + s_0^{(2)} &= 0 \\quad\\quad \\forall \\quad\\quad r\\in\\ ]R,R_\\infty[, \\\\\n",
    " q_{1,n}(0) &= 0, \\\\\n",
    " q_{2,n}(\\infty) &= q_{2,n\\infty}, \\\\\n",
    " u_1(R) &= u_2(R), \\\\\n",
    " q_{1,n}(R) &= q_{2,n}(R), \\\\\n",
    "\\end{align*}\n",
    "   \n",
    "Given data: diffusion coefficients, $D$, macroscopic absorption cross sections, $\\Sigma_a$, source $s_0$, boundary conditions of normal flux, and continuity conditions at the interfaces (both normal flux and solution). Where $q_{i,n}(r) = \\flux_{i}(r)\\cdot\\normal(r) = -D_i\\,u_i'(r)\\,\\rhat \\cdot \\normal(r) \\ \\forall \\ i=1,2$."
   ]
  },
  {
   "cell_type": "markdown",
   "metadata": {},
   "source": [
    "## Alternative Boundary-Value Problem Statement\n",
    "\n",
    "Solve the equivalent heterogeneous spatial neutron flux magnitude diffusion problem. Find the spatial neutron flux magnitude on all regions, $u:[0,R_\\infty]\\subset\\Reals\\rightarrow\\Reals$ such that:\n",
    "\n",
    "\\begin{align*}\n",
    " -\\frac{1}{r^2}\\bigl(-D(r)\\, r^2 u'\\bigr)'(r) - \\Sigma_a(r)\\,u(r) + s_0(r) &= 0 \\quad\\quad \\forall \\quad\\quad r\\in\\ ]0,R_\\infty[, \\\\\n",
    " q_n(0) &= 0, \\\\\n",
    " q_n(R_\\infty) &= q_{nR_\\infty}, \\\\\n",
    "\\end{align*}\n",
    "   \n",
    "Given data: diffusion coefficient, $D(r)$, macroscopic absorption cross section, $\\Sigma_a(r)$, source $s_0(r)$, and normal flux boundary conditions. Where $q_n(r) = \\flux(r)\\cdot\\normal(r) = -D(r)\\,u_i'(r)\\,\\rhat \\cdot \\normal(r)$."
   ]
  },
  {
   "cell_type": "markdown",
   "metadata": {},
   "source": [
    "## Finite Sphere in an Infinite Domain\n",
    "\n",
    "Consider an inner sphere source with a given radius surrounded by annular region with a large radius. This scenario mimics a spherical source case in an infinite domain. We cannot have a real infinite domain in a simulation, therefore a large outer radius will do it."
   ]
  },
  {
   "cell_type": "code",
   "execution_count": null,
   "metadata": {},
   "outputs": [],
   "source": [
    "'''SI units'''\n",
    "from scipy import constants as unit\n",
    "unit.second = 1.0\n",
    "unit.meter = 1.0\n",
    "unit.cm = unit.centi*unit.meter\n",
    "unit.mm = unit.milli*unit.meter\n",
    "unit.um = unit.micro*unit.meter"
   ]
  },
  {
   "cell_type": "code",
   "execution_count": null,
   "metadata": {},
   "outputs": [],
   "source": [
    "'''Domain'''\n",
    "# case 1\n",
    "case_1 = False\n",
    "if case_1:\n",
    "    r_0 = 0*unit.cm \n",
    "    r_R = 10*unit.cm\n",
    "    r_oo = 100*unit.cm  # infinity\n",
    "\n",
    "# case 2\n",
    "case_2 = True\n",
    "if case_2:\n",
    "    r_0 = 0*unit.cm \n",
    "    r_R = 100*unit.cm\n",
    "    r_oo = 300*unit.cm  # infinity\n",
    "\n",
    "assert case_1 is False or case_2 is False"
   ]
  },
  {
   "cell_type": "code",
   "execution_count": null,
   "metadata": {},
   "outputs": [],
   "source": [
    "'''Domain'''\n",
    "def show_domain(r_R, r_oo):\n",
    "    import pyvista as pv\n",
    "    pv.set_plot_theme('paraview')\n",
    "\n",
    "    radius_i = r_R\n",
    "    radius_o = r_oo\n",
    "    outer = pv.Sphere(center=(0,0,0), direction=(0,0,1), radius=radius_o)\n",
    "    inner = pv.Sphere(center=(0,0,0), direction=(0,0,1), radius=radius_i)\n",
    "\n",
    "    plo = pv.Plotter(notebook=True, shape=(1,1), off_screen=True) \n",
    "    plo.subplot(0,0)\n",
    "    plo.add_mesh(outer, color='yellow', opacity=0.59,)\n",
    "    plo.add_mesh(inner, color='red', opacity=1)\n",
    "    plo.add_axes(xlabel='R', ylabel='Theta', zlabel='Phi')\n",
    "    plo.screenshot('domain.png', window_size=(1000,400))\n",
    "    plo.camera.zoom(1.8)\n",
    "    #cpos = plo.show(window_size=(1000, 400), auto_close=False)\n",
    "    return plo"
   ]
  },
  {
   "cell_type": "code",
   "execution_count": null,
   "metadata": {},
   "outputs": [],
   "source": [
    "plo = show_domain(r_R, r_oo)"
   ]
  },
  {
   "cell_type": "code",
   "execution_count": null,
   "metadata": {},
   "outputs": [],
   "source": [
    "import matplotlib.pyplot as plt\n",
    "plt.figure(1, figsize=(50, 5))\n",
    "plt.imshow(plo.image)\n",
    "plt.show()"
   ]
  },
  {
   "cell_type": "markdown",
   "metadata": {},
   "source": [
    "### Data\n",
    "\n",
    "Solve problem with parameter values:\n",
    "\n",
    "> + $R$, $R_\\infty$\n",
    "> + $D_1$, $\\Sigma_{a1}$, $s_{01}$\n",
    "> + $D_2$, $\\Sigma_{a2}$, $s_{02}$\n",
    "> + $q_{nR_\\infty}$"
   ]
  },
  {
   "cell_type": "markdown",
   "metadata": {},
   "source": [
    "## Galerkin Method w/ Finite Element Basis Functions\n",
    "\n",
    "The Galerkin weak formulation is as follows. Find $u \\in H^1\\!\\bigl([0,R_\\infty]\\bigr)$ so that \n",
    "\n",
    "\\begin{align*}\n",
    "\\bigl(-D\\, u',v'\\bigr) - \\bigl(\\Sigma_a\\,u,v\\bigr) + \\bigl(s_0,v\\bigr) + q_n(R_\\infty)\\,v(R_\\infty)\\,R^2_\\infty &= 0 \\quad\\quad \\forall \\quad\\quad v \\in H^1\\!\\bigl([0,R_\\infty]\\bigr), \n",
    "\\end{align*}\n",
    "\n",
    "where $H^1\\!\\bigl([0,R_\\infty]\\bigr) := \\bigl\\{ u:[0,R_\\infty]\\subset\\Reals\\rightarrow \\Reals \\mid \\bigl(u',u'\\bigr) + \\bigl(u,u\\bigr) < \\infty\\bigr\\}$. Because $u$ and $v$ belong to the same space of functions, this variational form is called the Galerkin's variational form. Choosing a finite dimensional subspace of $H^1\\!\\bigl([0,R_\\infty]\\bigr)$, say $V_N([0,R_\\infty]) := \\bigl\\{ u_N = \\sum\\limits_{i=1}^N\\,c_i\\,\\phi_i \\bigr\\} \\subset H^1\\!\\bigl([0,R_\\infty]\\bigr)$, where $\\{\\phi_i\\mid i=1\\ldots,N\\}$ is a basis of $V_N(0,R_\\infty)$, the coefficients $\\cvec := \\{c_i\\mid i=1,\\ldots,N\\}$ can be computed by solving the linear system of algebraic equations\n",
    "\n",
    "\\begin{equation*}\n",
    " \\overset{(N\\times N)}{\\Amtrx}\\,\\overset{(N\\times 1)}{\\cvec} = \\overset{(N\\times 1)}\\bvec ,\n",
    "\\end{equation*}\n",
    "\n",
    "where:\n",
    "  + $A_{i,j} = (D\\,\\phi'_j,\\phi'_i) + (\\Sigma_a\\,\\phi_j,\\phi_i) $\n",
    "  + $b_i = (s_0,\\phi_i) - q_{nR_\\infty}\\,\\phi_i(R_\\infty)\\,R^2_\\infty$\n",
    "  \n",
    "Note: this method is identical to the Rayleigh-Ritz method, therefore the approximate solution  $u_N = \\sum\\limits_{i=1}^N\\,c_i\\,\\phi_i$ is a minimizer of a particular norm (*i.e.* the energy norm). In addition, in spherical coordinates, the inner products read\n",
    "\n",
    "\\begin{align*}\n",
    "\\bigl(-D\\, u',v'\\bigr) &= \\int\\limits_0^{R_\\infty} D(r)\\, u'(r)\\,v'(r)\\, r^2\\,dr  \\\\\n",
    "\\bigl(\\Sigma_a\\,u,v\\bigr) &= \\int\\limits_0^{R_\\infty} \\Sigma_a(r)\\,u(r)\\,v(r)\\,r^2\\,dr \\\\\n",
    "\\bigl(s_0,v\\bigr) &= \\int\\limits_0^{R_\\infty} s_0(r)\\,v(r)\\,r^2\\,dr\n",
    "\\end{align*}"
   ]
  },
  {
   "cell_type": "code",
   "execution_count": null,
   "metadata": {},
   "outputs": [],
   "source": [
    "'''Parameters and data'''\n",
    "import math\n",
    "\n",
    "# Source\n",
    "diffusion_coeff_1 = 1.5*unit.cm\n",
    "sigma_a_1 = 0.005/unit.cm\n",
    "source_1_dot = 1/unit.second\n",
    "volume = 4/3*math.pi*(r_R)**3\n",
    "source_1 = source_1_dot/volume\n",
    "\n",
    "# Right side material\n",
    "diffusion_coeff_2 = 1.0*unit.cm\n",
    "sigma_a_2 = 0.01/unit.cm\n",
    "source_2 = 0./unit.cm**3/unit.second\n",
    "\n",
    "# normal flux\n",
    "q_noo = 0.0*unit.cm**2/unit.second"
   ]
  },
  {
   "cell_type": "code",
   "execution_count": null,
   "metadata": {},
   "outputs": [],
   "source": [
    "print('s_1 [#/cm^3-s] = ', source_1*unit.cm**3*unit.second)"
   ]
  },
  {
   "cell_type": "code",
   "execution_count": null,
   "metadata": {},
   "outputs": [],
   "source": [
    "'''Diffusion lengths'''\n",
    "import math\n",
    "diffusion_length_1 = math.sqrt(diffusion_coeff_1/sigma_a_1)\n",
    "print('L1 [cm] = %2.3e'%(diffusion_length_1/unit.cm))\n",
    "diffusion_length_2 = math.sqrt(diffusion_coeff_2/sigma_a_2)\n",
    "print('L2 [cm] = %2.3e'%(diffusion_length_2/unit.cm))"
   ]
  },
  {
   "cell_type": "code",
   "execution_count": null,
   "metadata": {},
   "outputs": [],
   "source": [
    "'''Diffusion coefficient function'''\n",
    "from pyfem1d.toolkit import TargetFunction   \n",
    "\n",
    "shape_pts = [(r_0, diffusion_coeff_1), (r_R, diffusion_coeff_1), \n",
    "             (r_R, diffusion_coeff_2), (r_oo, diffusion_coeff_2)]\n",
    "\n",
    "diffusion_coeff = TargetFunction(shape_pts, type='linear')\n",
    "  \n",
    "diffusion_coeff.plot(n_plot_pts=500, show_shape_pts=True, \n",
    "                title='Diffusion Coefficient', y_label=r'D(x) [cm]', x_label='x [cm]', \n",
    "                x_scale=1/unit.cm, y_scale=1/unit.cm,\n",
    "                ylim=[min(diffusion_coeff_1, diffusion_coeff_2)/unit.cm*.9, \n",
    "                      max(diffusion_coeff_1, diffusion_coeff_2)/unit.cm*1.1])"
   ]
  },
  {
   "cell_type": "code",
   "execution_count": null,
   "metadata": {},
   "outputs": [],
   "source": [
    "'''Absoption cross section function'''\n",
    "from pyfem1d.toolkit import TargetFunction   \n",
    "\n",
    "shape_pts = [(r_0, sigma_a_1), (r_R, sigma_a_1), \n",
    "             (r_R, sigma_a_2), (r_oo, sigma_a_2)]\n",
    "\n",
    "sigma_a = TargetFunction(shape_pts, type='linear')\n",
    "  \n",
    "sigma_a.plot(n_plot_pts=500, show_shape_pts=True, \n",
    "             title='Absorption Cross Section', y_label=r'$\\Sigma_a(x)$ [1/cm]', x_label='x [cm]', \n",
    "             x_scale=1/unit.cm, y_scale=unit.cm,\n",
    "             ylim=[min(sigma_a_1, sigma_a_2)*unit.cm*.9, \n",
    "                   max(sigma_a_1, sigma_a_2)*unit.cm*1.1])"
   ]
  },
  {
   "cell_type": "code",
   "execution_count": null,
   "metadata": {},
   "outputs": [],
   "source": [
    "'''Source function'''\n",
    "from pyfem1d.toolkit import TargetFunction\n",
    "\n",
    "shape_pts = [(r_0, source_1), (r_R, source_1), \n",
    "             (r_R, source_2), (r_oo, source_2)]\n",
    "\n",
    "source = TargetFunction(shape_pts, type='linear')\n",
    "  \n",
    "source.plot(n_plot_pts=500, show_shape_pts=True, \n",
    "             title='Source', y_label=r'$s_0(x)$ [1/(cm^3 s)]', x_label='x [cm]', \n",
    "             x_scale=1/unit.cm, y_scale=unit.cm**3*unit.second,\n",
    "             ylim=[min(source_1, source_2)*unit.cm**3*unit.second*.9, \n",
    "                   max(source_1, source_2)*unit.cm**3*unit.second*1.1])"
   ]
  },
  {
   "cell_type": "markdown",
   "metadata": {},
   "source": [
    "### Finite Element Basis Functions\n",
    "\n",
    "Specify basis functions distribution on the material domain and degree."
   ]
  },
  {
   "cell_type": "code",
   "execution_count": null,
   "metadata": {},
   "outputs": [],
   "source": [
    "'''Build basis functions'''\n",
    "from pyfem1d.toolkit import LagrangeFEMBasis \n",
    "\n",
    "degree = [2,2,2]\n",
    "if case_1:\n",
    "    n_elem = [7,12,32]\n",
    "elif case_2:\n",
    "    n_elem = [16,12,15]\n",
    "else:\n",
    "    assert False\n",
    "\n",
    "if case_1:\n",
    "    femlb = LagrangeFEMBasis(degree=degree, n_elem=n_elem, x_partition=[r_0, r_R, r_R+20*unit.cm, r_oo]) # (0, 10, 100 case)\n",
    "elif case_2:\n",
    "    femlb = LagrangeFEMBasis(degree=degree, n_elem=n_elem, x_partition=[r_0, r_R, r_R+50*unit.cm, r_oo])# (0, 100, 300 case)\n",
    "else:\n",
    "    assert False\n",
    "femlb.plot(n_plot_pts=500, n_legend_cols=15)"
   ]
  },
  {
   "cell_type": "markdown",
   "metadata": {},
   "source": [
    "  + $A_{i,j} = (D\\,\\phi'_j,\\phi'_i) + (\\Sigma_a\\,\\phi_j,\\phi_i) $"
   ]
  },
  {
   "cell_type": "code",
   "execution_count": null,
   "metadata": {},
   "outputs": [],
   "source": [
    "'''Build the matrix of coefficients of the linear system'''\n",
    "\n",
    "d_mtrx = femlb.inner_product_matrix(diffusion_coeff, \"u'\", \"v'\", coord_sys='spherical')\n",
    "a_mtrx = femlb.inner_product_matrix(sigma_a, 'u', 'v', coord_sys='spherical')\n",
    "\n",
    "a_mtrx = d_mtrx + a_mtrx"
   ]
  },
  {
   "cell_type": "code",
   "execution_count": null,
   "metadata": {},
   "outputs": [],
   "source": [
    "try:    \n",
    "    from pyfem1d.toolkit import matrix_rank\n",
    "except ModuleNotFoundError:\n",
    "    assert False, 'You need to provide your own code here. Bailing out.'\n",
    "    \n",
    "if matrix_rank(a_mtrx, tol=1e-6) == min(a_mtrx.shape):\n",
    "    print('matrix is full rank.')\n",
    "else:\n",
    "    print('matrix is rank deficient.')\n",
    "\n",
    "import numpy as np\n",
    "print(np.linalg.matrix_rank(a_mtrx), a_mtrx.shape)"
   ]
  },
  {
   "cell_type": "markdown",
   "metadata": {},
   "source": [
    " + $b_i = (s_0,\\phi_i) - q_{nR_\\infty}\\,\\phi_i(R_\\infty)\\,R^2_\\infty$"
   ]
  },
  {
   "cell_type": "code",
   "execution_count": null,
   "metadata": {},
   "outputs": [],
   "source": [
    "'''Build the load vector'''\n",
    "\n",
    "s_vec = femlb.inner_product_vector(source, 'v', coord_sys='spherical')\n",
    "qnoo_vec = femlb.boundary_inner_product_vector('right', lambda x: q_noo * r_oo**2, 'v')\n",
    "\n",
    "b_vec = s_vec - qnoo_vec"
   ]
  },
  {
   "cell_type": "code",
   "execution_count": null,
   "metadata": {},
   "outputs": [],
   "source": [
    "'''Compute optimal coefficient eigenvectors'''\n",
    "import numpy as np\n",
    "c_star_vec = np.linalg.solve(a_mtrx, b_vec)"
   ]
  },
  {
   "cell_type": "code",
   "execution_count": null,
   "metadata": {},
   "outputs": [],
   "source": [
    "'''Build the best approximation function in V_N'''\n",
    "\n",
    "def u_star(x):\n",
    "    u = femlb.evaluation_matrix(x)@c_star_vec\n",
    "    return u"
   ]
  },
  {
   "cell_type": "code",
   "execution_count": null,
   "metadata": {},
   "outputs": [],
   "source": [
    "'''Build the best approximation function in V_N'''\n",
    "\n",
    "def u_prime_star(x):\n",
    "    u_prime = femlb.evaluation_matrix(x, derivative=True)@c_star_vec\n",
    "    return u_prime"
   ]
  },
  {
   "cell_type": "markdown",
   "metadata": {},
   "source": [
    "## Results and Analysis\n",
    "Much can be exercised in terms of results by varying the parameters of the problem."
   ]
  },
  {
   "cell_type": "code",
   "execution_count": null,
   "metadata": {},
   "outputs": [],
   "source": [
    "'''Plot solution'''\n",
    "\n",
    "def plot_solution(x, u_values, q_values, \n",
    "                  u_legend='Solution w/ Neumann BC', \n",
    "                  q_legend='Flux w/ Neumann BC'):\n",
    "    \n",
    "    import matplotlib.pyplot as plt\n",
    "    (fig, ax1) = plt.subplots(1, figsize=(14, 6))\n",
    "\n",
    "    ax1.plot(x/unit.cm, u_values*unit.cm**2*unit.second, 'r-', label=u_legend)\n",
    "\n",
    "    ax1.set_xlabel(r'$r$ [cm]', fontsize=18)\n",
    "    ax1.set_ylabel(r'$u_h(x)$', fontsize=18, color='red')\n",
    "    ax1.tick_params(axis='y', labelcolor='red', labelsize=14)\n",
    "    ax1.tick_params(axis='x', labelsize=14)\n",
    "    ax1.legend(loc='best', fontsize=12)\n",
    "    #ax1.set_ylim(0,1)\n",
    "    ax1.grid(True)\n",
    "\n",
    "    # create a twin x axis to be shared\n",
    "    ax2 = ax1.twinx()\n",
    "\n",
    "    ax2.plot(x/unit.cm, q_values*unit.cm**2*unit.second, 'b-', label=q_legend)\n",
    "\n",
    "    ax2.set_ylabel(r\"$q_h(x)$\", fontsize=18, color='blue')\n",
    "    ax2.tick_params(axis='y', labelcolor='blue', labelsize=14)\n",
    "    ax2.legend(loc='center right', fontsize=12)\n",
    "    #ax2.set_ylim(0,2)\n",
    "    #ax2.grid(True)\n",
    "\n",
    "    plt.title(r'Galerkin Method with Finite Element Lagrange Basis Functions (n='+str(len(femlb.basis_func_list))+')', fontsize=20)\n",
    "    fig.tight_layout()  # otherwise the right y-label is slightly clipped\n",
    "    plt.show()\n",
    "    print('')"
   ]
  },
  {
   "cell_type": "code",
   "execution_count": null,
   "metadata": {},
   "outputs": [],
   "source": [
    "n_pts = 500\n",
    "x = np.linspace(0, r_oo, n_pts)\n",
    "u_values = u_star(x)\n",
    "q_values = -diffusion_coeff(x)*u_prime_star(x)\n",
    "\n",
    "plot_solution(x, u_values, q_values)"
   ]
  },
  {
   "cell_type": "code",
   "execution_count": null,
   "metadata": {},
   "outputs": [],
   "source": [
    "'''Rayleigh-Ritz solution evaluated at the boundaries'''\n",
    "\n",
    "np.set_printoptions(precision=5)\n",
    "print('u^*_N:')\n",
    "print('u^*_N(0) [cm^2/s]= ', u_star(0)*unit.cm**2*unit.second, '  u^*_N(Roo) [cm^2/s]= ', u_star(r_oo)*unit.cm**2*unit.second)\n",
    "print('')\n",
    "print(\"u^*'_N\")\n",
    "print(\"u^*'_N(0) [cm/s]= \", u_prime_star(0)*unit.cm*unit.second, \" u^*'_N(Roo) [cm/s]= \", u_prime_star(r_oo)*unit.cm*unit.second)\n",
    "print('')\n",
    "print('x=0')\n",
    "print('u^*_N(0) [cm^2/s]= ', u_star(0.0)*unit.cm**2*unit.second)\n",
    "print(\"u^*'_N(0) [cm/s]= \", u_prime_star(0.0)*unit.cm*unit.second)"
   ]
  },
  {
   "cell_type": "code",
   "execution_count": null,
   "metadata": {},
   "outputs": [],
   "source": [
    "'''Flux at origin boundary'''\n",
    "\n",
    "print('q_n0 given    [cm2/s]= ', 0)\n",
    "print('q_n0 computed [cm2/s]= ', -(-diffusion_coeff(0)*u_prime_star(0))*unit.cm**2*unit.second)\n",
    "#print('flux error [%]= ',(diffusion_coeff(x_a)*u_prime_star(x_a) - q_na)/q_na*100*unit.cm**2*unit.second)"
   ]
  },
  {
   "cell_type": "code",
   "execution_count": null,
   "metadata": {},
   "outputs": [],
   "source": [
    "'''Flux at right boundary'''\n",
    "\n",
    "print('q_noo given    [cm^2/s]= ', q_noo)\n",
    "print('q_noo computed [cm^2/s]= ', -diffusion_coeff(r_oo)*u_prime_star(r_oo)*unit.cm**2*unit.second)\n",
    "#print('flux error [%]= ',(-diffusion_coeff(x_b)*u_prime_star(x_b) - q_nb)/q_nb*100*unit.cm**2*unit.second)"
   ]
  },
  {
   "cell_type": "code",
   "execution_count": null,
   "metadata": {},
   "outputs": [],
   "source": [
    "x_vec = np.linspace(0, r_oo, 21)\n",
    "u_n_vec = u_star(x_vec)*unit.cm**2*unit.second\n",
    "q_N_vec = -diffusion_coeff(x_vec)*u_prime_star(x_vec)*unit.cm**2*unit.second\n",
    "\n",
    "print('r [cm]        u_n [#/cm^2/s]    q_N [#/cm^2/s]')\n",
    "for (x, u_n, q_N) in zip(x_vec, u_n_vec, q_N_vec):\n",
    "    print('%+2.5e   %+2.5e     %+2.5e'%(x/unit.cm, u_n, q_N))"
   ]
  },
  {
   "cell_type": "code",
   "execution_count": null,
   "metadata": {},
   "outputs": [],
   "source": [
    "x_vec/unit.cm"
   ]
  },
  {
   "cell_type": "code",
   "execution_count": null,
   "metadata": {},
   "outputs": [],
   "source": [
    "u_n_vec"
   ]
  },
  {
   "cell_type": "code",
   "execution_count": null,
   "metadata": {},
   "outputs": [],
   "source": [
    "q_N_vec"
   ]
  },
  {
   "cell_type": "code",
   "execution_count": null,
   "metadata": {},
   "outputs": [],
   "source": [
    "'''Save text file with values'''\n",
    "\n",
    "x_vec = np.linspace(0, r_oo, 5000)\n",
    "u_n_vec = u_star(x_vec)*unit.cm**2*unit.second\n",
    "q_N_vec = -diffusion_coeff(x_vec)*u_prime_star(x_vec)*unit.cm**2*unit.second\n",
    "\n",
    "if case_1:\n",
    "    filename = '10-100-neutron-ball-source-inf.txt'\n",
    "elif case_2:\n",
    "    filename = '100-300-neutron-ball-source-inf.txt'\n",
    "else:\n",
    "    assert False\n",
    "np.savetxt('gold-data/'+filename, (x_vec/unit.cm, u_n_vec, q_N_vec), delimiter=' ', fmt='%2.6e') \n",
    "\n",
    "# For reading do: (x,u,q) = np.loadtxt('line-source-inf.txt')"
   ]
  },
  {
   "cell_type": "markdown",
   "metadata": {},
   "source": [
    "## Conclusions"
   ]
  },
  {
   "cell_type": "markdown",
   "metadata": {},
   "source": [
    "- Text..."
   ]
  },
  {
   "cell_type": "markdown",
   "metadata": {},
   "source": [
    "## References\n",
    "\n",
    "- [1] V. F. de Almeida, [*Engy-5330: Computational Continuum Transport Phenomena*](https://github.com/dpploy/engy-5310), University of Massachusetts Lowell, Dept. of Chemical Engineering (Nuclear Energy Program).\n",
    "- [2] V. F. de Almeida, [*Engy-5050: Nuclear Reactor Physics: Neutron Diffusion from a Point Source*](https://nbviewer.org/github/dpploy/engy-5050/blob/main/notebooks/03-diff-point-source.ipynb), University of Massachusetts Lowell, Dept. of Chemical Engineering (Nuclear Energy Program)."
   ]
  }
 ],
 "metadata": {
  "kernelspec": {
   "display_name": "Python 3 (ipykernel)",
   "language": "python",
   "name": "python3"
  },
  "language_info": {
   "codemirror_mode": {
    "name": "ipython",
    "version": 3
   },
   "file_extension": ".py",
   "mimetype": "text/x-python",
   "name": "python",
   "nbconvert_exporter": "python",
   "pygments_lexer": "ipython3",
   "version": "3.12.6"
  },
  "latex_envs": {
   "LaTeX_envs_menu_present": true,
   "autoclose": false,
   "autocomplete": true,
   "bibliofile": "biblio.bib",
   "cite_by": "apalike",
   "current_citInitial": 1,
   "eqLabelWithNumbers": true,
   "eqNumInitial": 1,
   "hotkeys": {
    "equation": "Ctrl-E",
    "itemize": "Ctrl-I"
   },
   "labels_anchors": false,
   "latex_user_defs": false,
   "report_style_numbering": false,
   "user_envs_cfg": false
  }
 },
 "nbformat": 4,
 "nbformat_minor": 4
}
