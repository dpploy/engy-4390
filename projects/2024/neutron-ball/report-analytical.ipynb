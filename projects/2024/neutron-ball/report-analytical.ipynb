{
 "cells": [
  {
   "cell_type": "markdown",
   "metadata": {},
   "source": [
    "**ENGY-4390** Nuclear Systems Design and Analysis, UMass Lowell, Chem. Eng. Nuclear Program Fall 2024; Prof. V. F. de Almeida\n",
    "\n",
    "# Neutron Diffusion on a Spherical Domain\n",
    "$  \n",
    "  \\newcommand{\\Amtrx}{\\boldsymbol{\\mathsf{A}}}\n",
    "  \\newcommand{\\Bmtrx}{\\boldsymbol{\\mathsf{B}}}\n",
    "  \\newcommand{\\Mmtrx}{\\boldsymbol{\\mathsf{M}}}\n",
    "  \\newcommand{\\Imtrx}{\\boldsymbol{\\mathsf{I}}}\n",
    "  \\newcommand{\\Pmtrx}{\\boldsymbol{\\mathsf{P}}}\n",
    "  \\newcommand{\\Lmtrx}{\\boldsymbol{\\mathsf{L}}}\n",
    "  \\newcommand{\\Umtrx}{\\boldsymbol{\\mathsf{U}}}\n",
    "  \\newcommand{\\Smtrx}{\\boldsymbol{\\mathsf{S}}}\n",
    "  \\newcommand{\\xvec}{\\boldsymbol{\\mathsf{x}}}\n",
    "  \\newcommand{\\avec}{\\boldsymbol{\\mathsf{a}}}\n",
    "  \\newcommand{\\bvec}{\\boldsymbol{\\mathsf{b}}}\n",
    "  \\newcommand{\\cvec}{\\boldsymbol{\\mathsf{c}}}\n",
    "  \\newcommand{\\rvec}{\\boldsymbol{\\mathsf{r}}}\n",
    "  \\newcommand{\\fvec}{\\boldsymbol{\\mathsf{f}}}\n",
    "  \\newcommand{\\mvec}{\\boldsymbol{\\mathsf{m}}}\n",
    "  \\newcommand{\\gvec}{\\boldsymbol{\\mathsf{g}}}\n",
    "  \\newcommand{\\zerovec}{\\boldsymbol{\\mathsf{0}}}\n",
    "  \\newcommand{\\norm}[1]{\\bigl\\lVert{#1}\\bigr\\rVert}\n",
    "  \\newcommand{\\transpose}[1]{{#1}^\\top}\n",
    "  \\DeclareMathOperator{\\rank}{rank}\n",
    "  \\newcommand{\\Reals}{\\mathbb{R}}\n",
    "  \\newcommand{\\thetavec}{\\boldsymbol{\\theta}}\n",
    "  \\newcommand{\\normal}{\\boldsymbol{n}}\n",
    "  \\newcommand{\\flux}{\\boldsymbol{q}}\n",
    "  \\newcommand{\\ihat}{\\hat{\\boldsymbol{i}}}\n",
    "  \\newcommand{\\rhat}{\\hat{\\boldsymbol{r}}}\n",
    "$"
   ]
  },
  {
   "cell_type": "markdown",
   "metadata": {},
   "source": [
    "**Student: Melanie Breeze**  <br>\n",
    "**Course:** ENGY-4390 Nuclear Systems Design and Analysis  <br>\n",
    "**Advisor and Collaborator: Valmor F. de Almeida** \n",
    "\n",
    "UMass Lowell, Dept. of Chemical Engineering, Nuclear Energy Program \n",
    "<br>\n",
    "**07Oct2024**"
   ]
  },
  {
   "cell_type": "markdown",
   "metadata": {},
   "source": [
    "**Student: Melanie Breeze**  <br>\n",
    "**Course:** ENGY-4390 Nuclear Systems Design and Analysis  <br>\n",
    "**Advisor and Collaborator: Valmor F. de Almeida** \n",
    "\n",
    "UMass Lowell, Dept. of Chemical Engineering, Nuclear Energy Program \n",
    "<br>\n",
    "**07Oct2024**"
   ]
  },
  {
   "cell_type": "markdown",
   "metadata": {},
   "source": [
    "## Table of Contents<a id=\"toc\"></a>\n",
    "* [Introduction](#intro)\n",
    "* [Summary of Parameters](#parameters)\n",
    "* [Problem Statement](#problem)\n",
    "* [Objectives](#obj)\n",
    "* [Boundary-Value Problem Statement](#p1)\n",
    "* [Analytical Solution](#analyticalsolution)\n",
    "  + [Boundary Conditions](#boundarycond)\n",
    "  + [Analytic Solution in Code](#analyticalsolcode) \n",
    "* [Results and Analysis](#ranalysis)\n",
    "* [Conclusions](#conclusions)\n",
    "* [References](#refs)\n",
    "---"
   ]
  },
  {
   "cell_type": "markdown",
   "metadata": {},
   "source": [
    "# [Introduction](#toc)<a id=\"intro\"></a>"
   ]
  },
  {
   "cell_type": "markdown",
   "metadata": {},
   "source": [
    "Neutron diffusion from a spherical source is a classical problem in neutron transport. This project investigates the solution of the source problem using 3 different approaches, namely the analyical solution, the finite element method using a Python implementation from the Engy-5330 course, and the MOOSE finite element framework."
   ]
  },
  {
   "cell_type": "markdown",
   "metadata": {},
   "source": [
    "### [Summary of Parameters](#toc)<a id=\"parameters\"></a>\n",
    "\n",
    "<!-- $$\n",
    "\\begin{aligned}\n",
    "& \\text {Table 1. Parameter summary}\\\\\n",
    "&\\begin{array}{r|c|l}\n",
    "\\hline \\hline \\text { Parameter } & \\text { Definition } & \\text { Units } \\\\\n",
    "\\hline\n",
    "r & \\text{Radius} & \\mathrm{cm} \\\\\n",
    "R & \\text{Outer radius of region 1} & \\mathrm{cm} \\\\\n",
    "R_\\infty & \\text{Outer radius of region 2} & \\mathrm{cm} \\\\\n",
    "D & \\text{Diffusion coefficient} & \\mathrm{cm} \\\\\n",
    "\\Sigma_\\mathrm{a} & \\text{Macroscopic cross section} & \\mathrm{cm^{-1}} \\\\\n",
    "L & \\text{Length term, } L = \\sqrt{D/\\Sigma_\\mathrm{a}} & \\mathrm{cm} \\\\\n",
    "u & \\text{Neutron density} & \\mathrm{cm^{-2}~s^{-1}} \\\\\n",
    "q & \\text{Neutron normal flux} & \\mathrm{cm^{-2}~s^{-1}} \\\\\n",
    "s_0 & \\text{Source term}& \\mathrm{cm^{-3}~s^{-1}} \\\\\n",
    "c & \\text{Constants of integration} & \\mathrm{cm^{-1}~s^{-1}} \\\\\n",
    "A & \\text{Surface area} & \\mathrm{cm^2} \\\\\n",
    "V & \\text{Volume} & \\mathrm{cm^3} \\\\\n",
    "\\hline\n",
    "\\end{array}\n",
    "\\end{aligned}\n",
    "$$ -->\n",
    "\n",
    "$$\n",
    "\\begin{aligned}\n",
    "& \\text {Table 1. Parameter summary}\\\\\n",
    "&\\begin{array}{r|c|l}\n",
    "\\hline \\hline \\text { Parameter } & \\text { Definition } & \\text { Units } \\\\\n",
    "\\hline\n",
    "r & \\text{Radius} & \\mathrm{m} \\\\\n",
    "R & \\text{Outer radius of region 1} & \\mathrm{m} \\\\\n",
    "R_\\infty & \\text{Outer radius of region 2} & \\mathrm{m} \\\\\n",
    "D & \\text{Diffusion coefficient} & \\mathrm{m} \\\\\n",
    "\\Sigma_\\mathrm{a} & \\text{Macroscopic cross section} & \\mathrm{m^{-1}} \\\\\n",
    "L & \\text{Length term, } L = \\sqrt{D/\\Sigma_\\mathrm{a}} & \\mathrm{m} \\\\\n",
    "u & \\text{Neutron density} & \\mathrm{m^{-2}~s^{-1}} \\\\\n",
    "q & \\text{Neutron normal flux} & \\mathrm{m^{-2}~s^{-1}} \\\\\n",
    "s_0 & \\text{Source term}& \\mathrm{m^{-3}~s^{-1}} \\\\\n",
    "c & \\text{Constants of integration} & \\mathrm{m^{-1}~s^{-1}} \\\\\n",
    "A & \\text{Surface area} & \\mathrm{m^2} \\\\\n",
    "V & \\text{Volume} & \\mathrm{m^3} \\\\\n",
    "\\hline\n",
    "\\end{array}\n",
    "\\end{aligned}\n",
    "$$"
   ]
  },
  {
   "cell_type": "markdown",
   "metadata": {},
   "source": [
    "## [Objectives](#toc)<a id=\"obj\"></a>\n",
    "\n",
    " + Solve the 1-D, spherical coordinates, neutron diffusion from a point source problem using two regions.\n",
    "   - Region 1 is the point source (a finite but very small radius)\n",
    "   - Region 2 is the universe around the source (finite but very large to represent a boundless region)\n",
    "\n",
    "This is old and needs revision\n",
    "1. Gather Cross Section Data to provide study parameters\n",
    "2. Set up two analytical solutions\n",
    "    - Set up the non-asymptotic analytic solution __complete__  \n",
    "    - Set up the asymptotic analytic solution with transient __almost complete__  \n",
    "3. Code a MOOSE application to solve the neutron diffusion [problem](#strongform) using Galerkin's method with finite element basis functions\n",
    "    - Set up spherical coordinate system: __complete__\n",
    "    - Identify best test functions for problem domain: __unknown__  \n",
    "    - \"Absorption\" term $\\Sigma_{tot}\\Phi $ is causing strong oscillations when included __unknown__  \n",
    "    "
   ]
  },
  {
   "cell_type": "markdown",
   "metadata": {},
   "source": [
    "## [Boundary-Value Problem Statement](#toc)<a id=\"p1\"></a>\n",
    "\n",
    "Solve the heterogeneous spatial neutron flux magnitude diffusion problem. Find $u_1:[0,R]\\subset\\Reals\\rightarrow\\Reals$, $u_2:[R,R_\\infty]\\subset\\Reals\\rightarrow\\Reals$\n",
    "such that:\n",
    "\n",
    "\\begin{align*}\n",
    " -\\frac{1}{r^2}\\bigl(-D_1\\, r^2 u_1'\\bigr)'(r) - \\Sigma_{a,1}\\,u_1(r) + s_{0,1} &= 0 \\quad\\quad \\forall \\quad\\quad r\\in\\ ]0,R[, \\\\\n",
    " -\\frac{1}{r^2}\\bigl(-D_2\\, r^2 u_2'\\bigr)'(r) - \\Sigma_{a,2}\\,u_2(r) + s_{0,1} &= 0 \\quad\\quad \\forall \\quad\\quad r\\in\\ ]R,R_\\infty[, \\\\\n",
    " q_{1,n}(0) &= 0, \\\\\n",
    " q_{2,n}(\\infty) &= 0, \\\\\n",
    " u_1(R) &= u_2(R), \\\\\n",
    " q_{1,n}(R) &= q_{2,n}(R), \\\\\n",
    "\\end{align*}\n",
    "   \n",
    "Given data: diffusion coefficients, $D$, macroscopic absorption cross sections, $\\Sigma_a$, source $s_0$, boundary conditions of normal flux, and continuity conditions at the interfaces (both normal flux and solution). Where $q_{i,n}(r) = \\flux_{i}(r)\\cdot\\normal(r) = -D_i\\,u_i'(r)\\,\\rhat \\cdot \\normal(r) \\ \\forall \\ i=1,2$."
   ]
  },
  {
   "cell_type": "markdown",
   "metadata": {},
   "source": [
    "## [Analytical Solution](#toc)<a id=\"analyticalsolution\"></a>\n",
    "Each one of the neutron diffusion equations have an analytical solution, as follows:\n",
    "\\begin{align*}\n",
<<<<<<< HEAD
    "-\\frac{D_i}{r^2} \\left(r^2 u_i^\\prime\\right)^\\prime - \\Sigma_{a,i}u_i + s_{0,i} = 0 \\ \\forall \\ i=1,2 \\\\\n",
    "\\left(r^2 u_i^\\prime\\right)^\\prime -r^2\\frac{\\Sigma_{a,i}u_i}{D_i} = - r^2\\frac{s_{0,i}}{D_i}\n",
=======
    "-\\frac{D_i}{r^2} \\left(r^2 u_i^\\prime\\right)^\\prime - \\Sigma_{a,i}u_i + s_{0,i} &= 0 \\qquad  i=1,2 , \\\\\n",
    "\\frac{1}{r}\\left(r^2 u_i^\\prime\\right)^\\prime -r\\frac{\\Sigma_{a,i}\\,u_i}{D_i} &= - r\\frac{s_{0,i}}{D_i}\n",
>>>>>>> main
    "\\end{align*}\n",
    "\n",
    "The latter are both in the form\n",
    "\n",
    "\\begin{align*}\n",
    "y^{\\prime\\prime} + a y^\\prime + by = R\\left( x \\right)\n",
    "\\end{align*}\n",
    "\n",
    "with solution\n",
    "\n",
    "\\begin{align*}\n",
<<<<<<< HEAD
    "m^2 - \\frac{\\Sigma_{a,i}}{D_i} = 0 \\\\ \n",
    "m = \\pm \\sqrt{\\frac{\\Sigma_{a,i}}{D_i}} = \\pm L_i^{-1} \\\\\n",
    "m_1 = L_i^{-1},\\, m_2 = -L_i^{-1}\n",
=======
    "y = c_1 e^{m_1x} + c_2 e^{m_2 x} \n",
    "    + \\frac{e^{m_1x}}{m_1-m_2} \\int R\\left(x\\right) e^{-m_1x} \\, dx\n",
    "    + \\frac{e^{m_2x}}{m_2-m_1} \\int R\\left(x\\right) e^{-m_2x} \\, dx,\n",
>>>>>>> main
    "\\end{align*}\n",
    "\n",
    "where $a$ and $b$ are constants, and $m_1$ and $m_2$ are the real and distinct roots of $m^2+am+b=0$.\n",
    "\n",
    "Thus, for $w_i=r\\,u_i$, $a=0$, $b=-\\frac{\\Sigma_{a,i}}{D_i}$, $R=- r\\frac{s_{0,i}}{D_i}$, and the roots are\n",
    "\n",
    "\\begin{align*}\n",
<<<<<<< HEAD
    "w=ru_i=c_1 e^{rL_i^{-1}}+c_2 e^{-rL_i^{-1}} + \\frac{e^{rL_i^{-1}}}{L_i^{-1}-(-L_i^{-1})} \\int - \\frac{s_{0,i}r}{D_i} e^{-rL_i^{-1}} \\mathrm{dr} + \\frac{e^{-rL_i^{-1}}}{-L_i^{-1}-L_i^{-1}} \\int - \\frac{s_{0,i}r}{D_i} e^{rL_i^{-1}} \\mathrm{dr}\n",
    "\\\\\n",
    "u_i=c_1 \\frac{e^{r/L_i}}{r}+c_2 \\frac{e^{-r/L_i}}{r} - \\frac{s_{0,i}e^{rL_i^{-1}}}{2rL_i^{-1}D_i} \\int r e^{-rL_i^{-1}} \\mathrm{dr} +\\frac{s_{0,i}e^{-rL_i^{-1}}}{2rD_i} \\int r e^{rL_i^{-1}} \\mathrm{dr}\n",
    "\\end{align*}\n",
    "\n",
    "\\begin{align*}\n",
    "u_i=c_1 \\frac{e^{r/L_i}}{r}+c_2 \\frac{e^{-r/L_i}}{r} - \\frac{s_{0,i}e^{rL_i^{-1}}}{2rL_i^{-1}D_i} \\int r e^{-rL_i^{-1}} \\mathrm{dr} +\\frac{s_{0,i}e^{-rL_i^{-1}}}{2rD_i} \\int r e^{rL_i^{-1}} \\mathrm{dr}\n",
=======
    "m^2 - \\frac{\\Sigma_{a,i}}{D_i} = 0, \\\\ \n",
    "m = \\pm \\sqrt{\\frac{\\Sigma_{a,i}}{D_i}} = \\pm \\frac{1}{L_i}, \\\\\n",
    "m_1 = \\frac{1}{L_i}, \\\\ \n",
    "m_2 = -\\frac{1}{L_i}\n",
    "\\end{align*}\n",
    "\n",
    "Therefore\n",
    "\n",
    "\\begin{align*}\n",
    "w_i = ru_i = c_{1,i}\\, e^{r/L_i} + c_{2,i}\\, e^{-r/L_i} \n",
    "             + \\frac{e^{r/L_i}}{L_i^{-1}-(-L_i^{-1})} \\int - \\frac{s_{0,i}\\,r}{D_i} e^{-r/L_i} \\,dr \n",
    "             + \\frac{e^{-r/L_i}}{-L_i^{-1}-L_i^{-1}} \\int - \\frac{s_{0,i}\\,r}{D_i} e^{r/L_i} \\,dr\n",
    "\\\\\n",
    "u_i = c_{1,i}\\, \\frac{e^{r/L_i}}{r} + c_{2,i}\\, \\frac{e^{-r/L_i}}{r} \n",
    "      - \\frac{s_{0,i}\\,L_i\\,e^{r/L_i}}{2rD_i} \\int r\\, e^{-r/L_i} \\, dr\n",
    "      + \\frac{s_{0,i}\\,L_i\\,e^{-r/L_i}}{2rD_i} \\int r\\, e^{r/L_i} \\, dr\n",
    "\\end{align*}\n",
    "\n",
    "Note that\n",
    "\n",
    "\\begin{align*}\n",
    "\\int r\\, e^{-r/L_i} \\, dr = - L_i\\bigl(x + L_i\\bigr)\\,e^{-r/L_i},\n",
    "\\\\\n",
    " \\int r\\, e^{-r/L_i} \\, dr = L_i\\bigl(x-L_i\\bigr)\\,e^{r/L_i},\n",
    "\\end{align*}\n",
    "\n",
    "and upon substitution, the final 2 terms on the right side of the above formula for $u_i$ simplifies to\n",
    "\n",
    "\\begin{equation*}\n",
    "\\frac{s_{0,i}\\,L_i^2}{D_i}.\n",
    "\\end{equation*}"
   ]
  },
  {
   "cell_type": "markdown",
   "metadata": {},
   "source": [
    "Hence, finally:\n",
    "\\begin{align*}\n",
    "\\boxed{ u_i=c_{1,i} \\, \\frac{e^{r/L_i}}{r} + c_{2,i} \\, \\frac{e^{-r/L_i}}{r} + \\frac{L_i^2 \\, s_{0,i}}{D_i} },\n",
    "\\end{align*}\n",
    "\n",
    "and\n",
    "\n",
    "\\begin{align*}\n",
    "u_i^\\prime = c_{1,i}\\, \\frac{e^{r/L_i}}{r}\\bigl( \\frac{1}{L_i} - \\frac{1}{r} \\bigr) \n",
    "           - c_{2,i}\\, \\frac{e^{-r/L_i}}{r}\\bigl(\\frac{1}{L_i} + \\frac{1}{r} \\bigr),\n",
    "\\end{align*}\n",
    "\n",
    "or a better form for evaluating the derivative at $r=0$,\n",
    "\n",
    "\\begin{align*}\n",
    "\\boxed{ u_i^\\prime = c_{1,i}\\, \\frac{e^{r/L_i}}{r^2}\\bigl( \\frac{r}{L_i} - 1 \\bigr) \n",
    "           - c_{2,i}\\, \\frac{e^{-r/L_i}}{r^2}\\bigl(\\frac{r}{L_i} + 1 \\bigr)}.\n",
>>>>>>> main
    "\\end{align*}"
   ]
  },
  {
   "cell_type": "markdown",
   "metadata": {},
   "source": [
<<<<<<< HEAD
    "#### And, finally:\n",
    "\\begin{align*}\n",
    "u_i=c_1 \\frac{e^{r/L_i}}{r}+c_2 \\frac{e^{-r/L_i}}{r} + \\frac{L_i^2 s_{0,i}}{D_i}\n",
    "\\end{align*}\n",
    "And\n",
    "\\begin{align*}\n",
    "u_i^\\prime=c_1 e^{r/L_i}\\left( \\frac{1}{L_ir} - \\frac{1}{r^2} \\right)    -c_2 e^{-r/L_i}\\left( \\frac{1}{L_ir} + \\frac{1}{r^2} \\right)\n",
    "\\end{align*}\n"
   ]
  },
  {
   "cell_type": "markdown",
   "metadata": {},
   "source": [
    "## [Boundary Conditions](#toc)<a id=\"#boundarycond\"></a>\n",
=======
    "## Boundary and Interface conditions\n",
    "\n",
    "The boundary and interface conditions will define the coefficents of integration.\n",
    "\n",
>>>>>>> main
    "### For $u_1$\n",
    "\n",
    "Then, taking the boundary condition $q_{n,1} = -D_1u_1^{\\prime}(0) = 0$, that is, $u_1^{\\prime}(0) = 0$, then from the formula above,\n",
    "\n",
    "\\begin{align*}\n",
    "u_1^\\prime(0) = 0 = \\lim_{r=0} \\frac{1}{r^2} \\bigl( - c_{1,1}- c_{2,1} \\bigr) = 0\n",
    "\\end{align*}\n",
    "\n",
    "if and only if $c_{1,1} + c_{2,1} = 0$. Thus,\n",
    "\n",
    "\\begin{align*}\n",
    "u_1 = \\frac{c_{1,1}}{r} \\bigl(e^{r/L_1} - e^{-r/L_1} \\bigr) + \\frac{L_1^2 s_{0,1}}{D_1} \\tag{1-1}\n",
    "\\end{align*}\n",
    "\n",
    "And\n",
    "\n",
    "\\begin{align*}\n",
    "u_1^\\prime = c_{1,1} \\biggl(\\frac{e^{r/L_1}}{r^2}\\Bigl(\\frac{r}{L_1} - 1 \\Bigr) \n",
    "                        + \\frac{e^{-r/L_1}}{r^2}\\Bigl(\\frac{r}{L_1} + 1 \\Bigr) \\biggr) \\tag{1-2}\n",
    "\\end{align*}"
   ]
  },
  {
   "cell_type": "markdown",
   "metadata": {},
   "source": [
<<<<<<< HEAD
    "Because of the boundary condition $q_{1,n}(R) = q_{2,n}(R)$, this means that $\\left. -D_1u_1^\\prime \\right|_R = \\left. -D_2u_2^\\prime \\right|_R$.\n",
    "\n",
    "The equations now are:\n",
    "\n",
    "\\begin{align*}\n",
    "u_1 = \\frac{c_1}{r} \\left(e^{r/L_1} - e^{-r/L_1} \\right) + \\frac{L_1^2 s_{0,1}}{D_1} \\tag{1-1}\n",
    "\\end{align*}\n",
    "\n",
    "\\begin{align*}\n",
    "q_1= -D_1c_1 \\left( e^{r/L_1}\\left[ \\frac{1}{L_1r} - \\frac{1}{r^2} \\right]    + e^{-r/L_1}\\left[ \\frac{1}{L_1r} + \\frac{1}{r^2} \\right] \\right) \\tag{1-2}\n",
    "\\end{align*}\n",
    "\n",
    "\\begin{align*}\n",
    "u_2=c_2 \\frac{e^{-r/L_2}}{r} \\tag{2-1}\n",
    "\\end{align*}\n",
    "\\begin{align*}\n",
    "q_2= D_2c_2e^{-r/L_2}\\left( \\frac{1}{L_2r} + \\frac{1}{r^2} \\right)  \\tag{2-2}\n",
    "\\end{align*}\n",
    "\n",
    "\n",
    "From this, we can construct the following matrix:\n",
=======
    "### For $u_2$\n",
    "Taking the boundary condition $q_{2,n}(\\infty) = 0 = -D_2 \\,u_2^\\prime(\\infty)$, hence\n",
    "\n",
    "\\begin{align*}\n",
    " u_2^\\prime(\\infty) = 0 = \\lim_{r=\\infty} \\, c_{1,2} \\frac{e^{r/L_2}}{r^2}\\Bigl( \\frac{r}{L_2} - 1 \\Bigr) \n",
    "                                 - c_{2,2} \\frac{e^{-r/L_2}}{r^2}\\Bigl( \\frac{r}{L_2} + 1 \\Bigr)\n",
    "\\end{align*}\n",
    "\n",
    "One obtains $c_{1,2} = 0$ resulting in\n",
>>>>>>> main
    "\n",
    "\\begin{align*}\n",
    "u_2 = c_{2,2} \\, \\frac{e^{-r/L_2}}{r} + \\frac{L_2^2 \\, s_{0,2}}{D_2} \\tag{2-1}\n",
    "\\end{align*}\n",
    "\n",
    "And\n",
    "\\begin{align*}\n",
    "u_i^\\prime = - c_{2,2}\\, \\frac{e^{-r/L_2}}{r^2}\\Bigl(\\frac{r}{L_2} + 1 \\Bigr) \\tag{2-2}\n",
    "\\end{align*}"
   ]
  },
  {
   "cell_type": "markdown",
   "metadata": {},
   "source": [
    "### For $u_1$ and $u_2$\n",
    "The innterface conditions are two, so the remaining constants, $c_{1,1}$ and $c_{2,2}$ can be found. \n",
    "First, the spatial neutron flux magnitude needs to matched at the interface $r=R$. That is, $u_1(R) = u_2(R)$, therefore\n",
    "\n",
    "\\begin{align}\n",
    "\\frac{c_{1,1}}{R} \\bigl(e^{R/L_1} - e^{-R/L_1} \\bigr) + \\frac{L_1^2 s_{0,1}}{D_1} \n",
    "= \n",
    "c_{2,2} \\, \\frac{e^{-R/L_2}}{R} + \\frac{L_2^2 \\, s_{0,2}}{D_2} . \\tag{3-1}\n",
    "\\end{align}\n",
    "\n",
    "Second, continuity of the normal flux, $q_{1,n}(R) = q_{2,n}(R)$, and  this means that $D_1\\,u_1^\\prime(R)= D_2\\,u_2^\\prime(R)$, that is\n",
    "\n",
    "\\begin{align}\n",
    "D_1\\, c_{1,1} \\biggl(\\frac{e^{R/L_1}}{R^2}\\Bigl(\\frac{R}{L_1} - 1 \\Bigr) \n",
    "                        + \\frac{e^{-R/L_1}}{R^2}\\Bigl(\\frac{R}{L_1} + 1 \\Bigr) \\biggr)\n",
    "=\n",
    "- D_2\\, c_{2,2}\\, \\frac{e^{-R/L_2}}{R^2}\\Bigl(\\frac{R}{L_2} + 1 \\Bigr). \\tag{3-2}\n",
    "\\end{align}\n",
    "\n",
    "From this, the coupled equations arise\n",
    "\n",
    "\\begin{align}\n",
    "\\bigl(e^{R/L_1} - e^{-R/L_1} \\bigr)\\,c_{1,1} - e^{-R/L_2} \\, c_{2,2}\n",
    "&=  \n",
    " R\\Bigl( \\frac{L_2^2 \\, s_{0,2}}{D_2} - \\frac{L_1^2 s_{0,1}}{D_1} \\Bigr).\n",
    "\\\\\n",
    "D_1\\, \\biggl(e^{R/L_1}\\Bigl(\\frac{R}{L_1} - 1 \\Bigr) + e^{-R/L_1}\\Bigl(\\frac{R}{L_1} + 1 \\Bigr) \\biggr)\\, c_{1,1} + D_2\\, e^{-R/L_2}\\Bigl(\\frac{R}{L_2} + 1 \\Bigr)\\, c_{2,2} \n",
    "&=\n",
    "0 . \n",
    "\\end{align}\n",
    "\n",
    "which can be solved analytically for $c_{1,1}$ and $c_{2,2}$. Or in matrix form\n",
    "\n"
   ]
  },
  {
   "cell_type": "markdown",
   "metadata": {},
   "source": [
    "$$\\begin{pmatrix}\n",
    "\\bigl(e^{R/L_1} - e^{-R/L_1} \\bigr)  & - e^{-R/L_2}  \\\\\n",
    "D_1\\, \\biggl(e^{R/L_1}\\Bigl(\\frac{R}{L_1} - 1 \\Bigr) + e^{-R/L_1}\\Bigl(\\frac{R}{L_1} + 1 \\Bigr) \\biggr) & D_2\\, e^{-R/L_2}\\Bigl(\\frac{R}{L_2} + 1 \\Bigr)\n",
    "\\end{pmatrix}\n",
    "\\,\n",
    "\\begin{pmatrix}\n",
    " c_{1,1} \\\\\n",
    " c_{2,2}\n",
    "\\end{pmatrix}\n",
    "=\n",
    "\\begin{pmatrix}\n",
    "R\\Bigl( \\frac{L_2^2 \\, s_{0,2}}{D_2} - \\frac{L_1^2 s_{0,1}}{D_1} \\Bigr) \\\\\n",
    "0\n",
    "\\end{pmatrix}\n",
    "$$"
   ]
  },
  {
   "cell_type": "markdown",
   "metadata": {},
   "source": [
    "## [\"Point Source in an Infinite Domain\"](#toc)<a id=\"inf-case\"></a>\n",
    "\n",
    "Consider an inner sphere source with a very small radius surrounded by annular region with a large radius. This scenario mimics the ideal point source case in an infinite domain. We cannot have a real infinite domain in a simulation, therefore a large outer radius will do it."
   ]
  },
  {
   "cell_type": "code",
<<<<<<< HEAD
   "execution_count": 38,
=======
   "execution_count": 3,
>>>>>>> main
   "metadata": {},
   "outputs": [],
   "source": [
    "'''SI units'''\n",
    "from scipy import constants as unit\n",
    "unit.second = 1.0\n",
    "unit.meter = 1.0\n",
    "unit.s = unit.second\n",
    "unit.m = unit.meter\n",
    "unit.cm = unit.centi*unit.m\n",
    "unit.mm = unit.milli*unit.m\n",
    "unit.um = unit.micro*unit.m"
   ]
  },
  {
   "cell_type": "code",
<<<<<<< HEAD
   "execution_count": 42,
=======
   "execution_count": 32,
>>>>>>> main
   "metadata": {},
   "outputs": [],
   "source": [
    "'''Domain'''\n",
<<<<<<< HEAD
    "# r_0 = 0*unit.cm \n",
    "# r_R = 100*unit.cm\n",
    "# r_oo = 300*unit.cm  # infinity\n",
=======
    "\n",
    "r_0 = 0*unit.cm \n",
    "r_R = 100*unit.cm\n",
    "r_oo = 1000*unit.cm  # infinity\n",
>>>>>>> main
    "\n",
    "r_0 = 0*unit.cm \n",
    "r_R = 10*unit.cm\n",
    "r_oo = 100*unit.cm  # infinity"
   ]
  },
  {
   "cell_type": "code",
<<<<<<< HEAD
   "execution_count": 43,
=======
   "execution_count": 33,
>>>>>>> main
   "metadata": {},
   "outputs": [],
   "source": [
    "'''Domain'''\n",
    "def show_domain(r_R, r_oo):\n",
    "    import pyvista as pv\n",
    "    pv.set_plot_theme('paraview')\n",
    "\n",
    "    radius_i = r_R\n",
    "    radius_o = r_oo\n",
    "    outer = pv.Sphere(center=(0,0,0), direction=(0,0,1), radius=radius_o)\n",
    "    inner = pv.Sphere(center=(0,0,0), direction=(0,0,1), radius=radius_i)\n",
    "\n",
    "    plo = pv.Plotter(notebook=True, shape=(1,1), off_screen=True) \n",
    "    plo.subplot(0,0)\n",
    "    plo.add_mesh(outer, color='yellow', opacity=0.59,)\n",
    "    plo.add_mesh(inner, color='red', opacity=1)\n",
    "    plo.add_axes(xlabel='R', ylabel='Theta', zlabel='Phi')\n",
    "    plo.screenshot('domain.png', window_size=(1000,400))\n",
    "    plo.camera.zoom(1.8)\n",
    "    cpos = plo.show(window_size=(1000, 400), auto_close=False)\n",
    "    return plo"
   ]
  },
  {
   "cell_type": "code",
<<<<<<< HEAD
   "execution_count": 44,
=======
   "execution_count": 34,
>>>>>>> main
   "metadata": {},
   "outputs": [],
   "source": [
    "#plo = show_domain(r_R, r_oo)"
   ]
  },
  {
   "cell_type": "code",
<<<<<<< HEAD
   "execution_count": 45,
=======
   "execution_count": 35,
>>>>>>> main
   "metadata": {},
   "outputs": [],
   "source": [
    "# import matplotlib.pyplot as plt\n",
    "# plt.figure(1, figsize=(100, 10))\n",
    "# plt.imshow(plo.image)\n",
    "# plt.show()"
   ]
  },
  {
   "cell_type": "markdown",
   "metadata": {},
   "source": [
    "### [Data](#toc)<a id=\"data-sym\"></a>\n",
    "\n",
    "Solve problem with parameter values:\n",
    "\n",
    "> + a, b, s\n",
    "> + $D_1$, $\\Sigma_{a1}$, $s_{01}$\n",
    "> + $D_2$, $\\Sigma_{a2}$, $s_{02}$\n",
    "> + $q_{nR_\\infty}$"
   ]
  },
  {
   "cell_type": "markdown",
   "metadata": {},
   "source": [
    "### [Analytic Solution in Code](#toc)<a id=\"analyticalsolcode\"></a> "
   ]
  },
  {
   "cell_type": "code",
<<<<<<< HEAD
   "execution_count": 46,
=======
   "execution_count": 36,
>>>>>>> main
   "metadata": {},
   "outputs": [],
   "source": [
    "'''Gathering variables'''\n",
    "import math\n",
    "import numpy as np\n",
    "from scipy import constants as unit\n",
    "\n",
    "# Source\n",
    "diffusion_coeff_1 = 1.5*unit.cm\n",
    "sigma_a_1 = 0.005/unit.cm\n",
    "source_1_dot = 1/unit.second\n",
    "volume = 4/3*math.pi*(r_R)**3\n",
    "source_1 = source_1_dot/volume\n",
    "l_1 = (diffusion_coeff_1/sigma_a_1)**0.5\n",
    "\n",
    "# Right side material\n",
    "diffusion_coeff_2 = 1.0*unit.cm\n",
    "sigma_a_2 = 0.01/unit.cm\n",
    "source_2 = 0./unit.cm**3/unit.second\n",
    "l_2 = (diffusion_coeff_1/sigma_a_1)**0.5\n",
    "\n",
    "# normal flux\n",
    "q_noo = 0.0*unit.cm**2/unit.second"
   ]
  },
  {
   "cell_type": "code",
<<<<<<< HEAD
   "execution_count": 47,
=======
   "execution_count": 37,
>>>>>>> main
   "metadata": {},
   "outputs": [],
   "source": [
    "'''Matrix solution'''\n",
    "#u_1\n",
    "a_11 = np.e**(r_R/l_1) - np.e**(- r_R/l_1) \n",
    "a_12 = -np.e**(-r_R/l_2)\n",
    "\n",
    "#u_1^\\prime\n",
    "\n",
    "a_21 = diffusion_coeff_1 * ( np.e**(r_R/l_1) * (1/l_1 - 1/r_R) +  np.e**(-r_R/l_1) * ( 1/l_1 + 1/r_R) )\n",
    "a_22 = diffusion_coeff_2 * np.e**(-r_R/l_2) * (1/l_2 + 1/r_R) \n",
    "\n",
    "mtrx_a = np.array([[a_11, a_12],\n",
    "                  [a_21, a_22]])\n",
    "\n",
    "#units: [ s^{-1} * cm^{-2}]\n",
    "y_1 = source_1*(l_1**2)/diffusion_coeff_1\n",
    "y_2 = source_2*(l_2**2)/diffusion_coeff_2\n",
    "\n",
    "rightside = r_R* (y_2 - y_1)\n",
    "vec_y = np.array([rightside,0])\n",
    "\n",
    "from scipy.linalg import solve\n",
    "[c_1,c_2] = solve(mtrx_a,vec_y) #units: [cm^{-1}~s^{-1}]"
   ]
  },
  {
   "cell_type": "markdown",
   "metadata": {},
   "source": [
    "\\begin{align*}\n",
    "u_1 = \\frac{c_1}{r} \\left(e^{r/L_1} - e^{-r/L_1} \\right) + \\frac{L_1^2 s_{0,1}}{D_1} \\tag{1-1}\n",
    "\\end{align*}\n",
    "\\begin{align*}\n",
    "u_2=c_2 \\frac{e^{-r/L_2}}{r} \\tag{2-1}\n",
    "\\end{align*}\n",
    "\n",
    "\\begin{align*}\n",
    "q_1= -D_1c_1 \\left( e^{r/L_1}\\left[ \\frac{1}{L_1r} - \\frac{1}{r^2} \\right]    + e^{-r/L_1}\\left[ \\frac{1}{L_1r} + \\frac{1}{r^2} \\right] \\right) \\tag{1-2}\n",
    "\\end{align*}\n",
    "\n",
    "\\begin{align*}\n",
    "q_2= D_2c_2e^{-r/L_2}\\left( \\frac{1}{L_2r} + \\frac{1}{r^2} \\right)  \\tag{2-2}\n",
    "\\end{align*}"
   ]
  },
  {
   "cell_type": "code",
<<<<<<< HEAD
   "execution_count": 55,
   "metadata": {},
   "outputs": [],
=======
   "execution_count": 38,
   "metadata": {},
   "outputs": [
    {
     "data": {
      "text/plain": [
       "2.842170943040401e-14"
      ]
     },
     "execution_count": 38,
     "metadata": {},
     "output_type": "execute_result"
    }
   ],
>>>>>>> main
   "source": [
    "'''Functions'''\n",
    "def u_1(r):\n",
    "    '''Values of u_1 over distance r'''\n",
    "    return (c_1/r)* (np.e**(r/l_1) - np.e**(-r/l_1))  + y_1\n",
    "\n",
    "def u_2(r):\n",
    "    '''Values of u_2 over distance r'''\n",
    "    return (c_2/r)* np.e**(-r/l_2)  + y_2\n",
    "\n",
    "def q_1(r):\n",
    "    '''Flux of region 1 over distance r'''\n",
    "    return - c_1* diffusion_coeff_1 * (  np.e**(r/l_1) * ( 1/(l_1*r) - r**-2)  + np.e**(-r/l_1) * ( 1/(l_1*r) + r**-2) )\n",
    "\n",
    "def q_2(r):\n",
    "    '''Flux of region 2 over distance r'''\n",
    "    return c_2* diffusion_coeff_2 *np.e**(-r/l_2) * ( 1/(l_2*r) + r**-2)"
   ]
  },
  {
   "cell_type": "code",
<<<<<<< HEAD
   "execution_count": 56,
=======
   "execution_count": 39,
>>>>>>> main
   "metadata": {},
   "outputs": [
    {
     "data": {
      "text/plain": [
<<<<<<< HEAD
       "<matplotlib.legend.Legend at 0x71ec5645e660>"
      ]
     },
     "execution_count": 56,
=======
       "<matplotlib.legend.Legend at 0x7fd02b419040>"
      ]
     },
     "execution_count": 39,
>>>>>>> main
     "metadata": {},
     "output_type": "execute_result"
    },
    {
     "data": {
      "image/png": "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",
      "text/plain": [
       "<Figure size 640x480 with 2 Axes>"
      ]
     },
     "metadata": {},
     "output_type": "display_data"
    }
   ],
   "source": [
    "'''Plotting'''\n",
    "import matplotlib.pyplot as plt\n",
    "\n",
    "r_range_1 = np.linspace(r_0, r_R)[1:]\n",
    "r_range_2 = np.linspace(r_R, r_oo)\n",
    "\n",
    "fig, ax = plt.subplots(2,1, sharex=True)\n",
    "ax[0].errorbar(x = r_range_1/unit.cm, y = u_1(r_range_1)/(unit.cm**-2 * unit.second**-1)*1e5, label = r'$u_1$',\n",
    "            color = 'k')\n",
    "ax[0].errorbar(x = r_range_2/unit.cm, y = u_2(r_range_2)/(unit.cm**-2 * unit.second**-1)*1e5, label = r'$u_2$',\n",
    "            color = 'r')\n",
    "ax[0].set_xlabel(r'$r/\\mathrm{cm}$')\n",
    "ax[0].set_ylabel(r'$u/(\\mathrm{cm^{-2}~s^{-1}})$')\n",
    "ax[0].legend()\n",
    "\n",
    "ax[1].errorbar(x = r_range_1/unit.cm, y = q_1(r_range_1)/(unit.cm * unit.second**-1), label = r'$q_{1,n}$',\n",
    "            color = 'k')\n",
    "ax[1].errorbar(x = r_range_2/unit.cm, y = q_2(r_range_2)/(unit.cm * unit.second**-1), label = r'$q_{2,n}$',\n",
    "            color = 'r')\n",
    "ax[1].set_xlabel(r'$r/\\mathrm{cm}$')\n",
    "ax[1].set_ylabel(r'$q_n/(\\mathrm{cm^{-2}~s^{-1}})$')\n",
    "ax[1].legend()\n",
    "\n"
   ]
  },
  {
   "cell_type": "markdown",
   "metadata": {},
   "source": [
    "## Comparison to numerical"
   ]
  },
  {
   "cell_type": "code",
<<<<<<< HEAD
   "execution_count": 57,
=======
   "execution_count": 40,
>>>>>>> main
   "metadata": {},
   "outputs": [],
   "source": [
    "[x_vec, u_n_vec, q_n_vec] = np.genfromtxt(fname='data/10-100-neutron-ball-source-inf.txt')\n",
    "\n",
    "# #usable range wher where u_1 doesn't diverge terribly and don't include r = 0\n",
    "# ri_range = np.where(x_vec<=r_R/unit.cm)[0][1:]\n",
    "# dummy = np.where(x_vec<80)\n",
    "# ro_range = np.where(x_vec[dummy]>r_R)[0]\n",
    "\n",
    "# def errgen(uq1, uq2, uq_vec, r_range):\n",
    "#     r1 = np.abs(uq1/(unit.cm**-2 * unit.second**-1)- uq_vec[r_range[0]])/uq_vec[r_range[0]]\n",
    "#     r2 = np.abs(uq2/(unit.cm**-2 * unit.second**-1)- uq_vec[r_range[1]])/uq_vec[r_range[1]]\n",
    "#     return np.append(r1,r2)\n",
    "\n",
    "# uerr = errgen(u_1(x_vec[ri_range]), u_2(x_vec[ro_range]), u_n_vec, [ri_range, ro_range])\n",
    "# qerr = errgen(q_1(x_vec[ri_range]), q_2(x_vec[ro_range]), q_n_vec, [ri_range, ro_range])\n",
    "\n",
    "# r_range = np.append(x_vec[ri_range], x_vec[ro_range])\n",
    "\n",
    "# fig, ax = plt.subplots(1,1, sharex=True)\n",
    "\n",
    "\n",
    "# ax.errorbar(x = r_range, y = qerr, label = r'$u_{err}$', color = 'g')\n",
    "# # ax.errorbar(x = r_range_2, y = u_n_vec[ri_range], label = r'$u_{err}$', color = 'g')\n",
    "\n",
    "# ax.set_xlabel(r'$r/\\mathrm{cm}$')\n",
    "# ax.set_ylabel(r'$u/(\\mathrm{cm^{-2}~s^{-1}})$')\n",
    "# ax.legend()\n"
   ]
  },
  {
   "cell_type": "code",
<<<<<<< HEAD
   "execution_count": 58,
=======
   "execution_count": 41,
>>>>>>> main
   "metadata": {},
   "outputs": [
    {
     "ename": "NameError",
     "evalue": "name 'x_vec' is not defined",
     "output_type": "error",
     "traceback": [
      "\u001b[0;31m---------------------------------------------------------------------------\u001b[0m",
      "\u001b[0;31mNameError\u001b[0m                                 Traceback (most recent call last)",
      "Cell \u001b[0;32mIn[41], line 9\u001b[0m\n\u001b[1;32m      5\u001b[0m ax[\u001b[38;5;241m0\u001b[39m]\u001b[38;5;241m.\u001b[39merrorbar(x \u001b[38;5;241m=\u001b[39m r_range_1\u001b[38;5;241m/\u001b[39munit\u001b[38;5;241m.\u001b[39mcm, y \u001b[38;5;241m=\u001b[39m u_1(r_range_1)\u001b[38;5;241m/\u001b[39m(unit\u001b[38;5;241m.\u001b[39mcm\u001b[38;5;241m*\u001b[39m\u001b[38;5;241m*\u001b[39m\u001b[38;5;241m-\u001b[39m\u001b[38;5;241m2\u001b[39m \u001b[38;5;241m*\u001b[39m unit\u001b[38;5;241m.\u001b[39msecond\u001b[38;5;241m*\u001b[39m\u001b[38;5;241m*\u001b[39m\u001b[38;5;241m-\u001b[39m\u001b[38;5;241m1\u001b[39m), label \u001b[38;5;241m=\u001b[39m \u001b[38;5;124mr\u001b[39m\u001b[38;5;124m'\u001b[39m\u001b[38;5;124m$u_1$\u001b[39m\u001b[38;5;124m'\u001b[39m,\n\u001b[1;32m      6\u001b[0m             color \u001b[38;5;241m=\u001b[39m \u001b[38;5;124m'\u001b[39m\u001b[38;5;124mk\u001b[39m\u001b[38;5;124m'\u001b[39m)\n\u001b[1;32m      7\u001b[0m ax[\u001b[38;5;241m0\u001b[39m]\u001b[38;5;241m.\u001b[39merrorbar(x \u001b[38;5;241m=\u001b[39m r_range_2\u001b[38;5;241m/\u001b[39munit\u001b[38;5;241m.\u001b[39mcm, y \u001b[38;5;241m=\u001b[39m u_2(r_range_2)\u001b[38;5;241m/\u001b[39m(unit\u001b[38;5;241m.\u001b[39mcm\u001b[38;5;241m*\u001b[39m\u001b[38;5;241m*\u001b[39m\u001b[38;5;241m-\u001b[39m\u001b[38;5;241m2\u001b[39m \u001b[38;5;241m*\u001b[39m unit\u001b[38;5;241m.\u001b[39msecond\u001b[38;5;241m*\u001b[39m\u001b[38;5;241m*\u001b[39m\u001b[38;5;241m-\u001b[39m\u001b[38;5;241m1\u001b[39m), label \u001b[38;5;241m=\u001b[39m \u001b[38;5;124mr\u001b[39m\u001b[38;5;124m'\u001b[39m\u001b[38;5;124m$u_2$\u001b[39m\u001b[38;5;124m'\u001b[39m,\n\u001b[1;32m      8\u001b[0m             color \u001b[38;5;241m=\u001b[39m \u001b[38;5;124m'\u001b[39m\u001b[38;5;124mr\u001b[39m\u001b[38;5;124m'\u001b[39m)\n\u001b[0;32m----> 9\u001b[0m ax[\u001b[38;5;241m0\u001b[39m]\u001b[38;5;241m.\u001b[39merrorbar(x \u001b[38;5;241m=\u001b[39m \u001b[43mx_vec\u001b[49m, y \u001b[38;5;241m=\u001b[39m u_n_vec, label \u001b[38;5;241m=\u001b[39m \u001b[38;5;124mr\u001b[39m\u001b[38;5;124m'\u001b[39m\u001b[38;5;124m$u_\u001b[39m\u001b[38;5;132;01m{num}\u001b[39;00m\u001b[38;5;124m$\u001b[39m\u001b[38;5;124m'\u001b[39m,\n\u001b[1;32m     10\u001b[0m             color \u001b[38;5;241m=\u001b[39m \u001b[38;5;124m'\u001b[39m\u001b[38;5;124mg\u001b[39m\u001b[38;5;124m'\u001b[39m)\n\u001b[1;32m     11\u001b[0m ax[\u001b[38;5;241m0\u001b[39m]\u001b[38;5;241m.\u001b[39mset_xlabel(\u001b[38;5;124mr\u001b[39m\u001b[38;5;124m'\u001b[39m\u001b[38;5;124m$r/\u001b[39m\u001b[38;5;124m\\\u001b[39m\u001b[38;5;124mmathrm\u001b[39m\u001b[38;5;132;01m{cm}\u001b[39;00m\u001b[38;5;124m$\u001b[39m\u001b[38;5;124m'\u001b[39m)\n\u001b[1;32m     12\u001b[0m ax[\u001b[38;5;241m0\u001b[39m]\u001b[38;5;241m.\u001b[39mset_ylabel(\u001b[38;5;124mr\u001b[39m\u001b[38;5;124m'\u001b[39m\u001b[38;5;124m$u/(\u001b[39m\u001b[38;5;124m\\\u001b[39m\u001b[38;5;124mmathrm\u001b[39m\u001b[38;5;124m{\u001b[39m\u001b[38;5;124mcm^\u001b[39m\u001b[38;5;124m{\u001b[39m\u001b[38;5;124m-2}~s^\u001b[39m\u001b[38;5;124m{\u001b[39m\u001b[38;5;124m-1}})$\u001b[39m\u001b[38;5;124m'\u001b[39m)\n",
      "\u001b[0;31mNameError\u001b[0m: name 'x_vec' is not defined"
     ]
    },
    {
     "data": {
<<<<<<< HEAD
      "text/plain": [
       "<matplotlib.legend.Legend at 0x71ec563aff80>"
      ]
     },
     "execution_count": 58,
     "metadata": {},
     "output_type": "execute_result"
    },
    {
     "data": {
      "image/png": "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",
=======
      "image/png": "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",
>>>>>>> main
      "text/plain": [
       "<Figure size 640x480 with 2 Axes>"
      ]
     },
     "metadata": {},
     "output_type": "display_data"
    }
   ],
   "source": [
    "r_range_1 = np.linspace(r_0, r_R)[1:]\n",
    "r_range_2 = np.linspace(r_R, r_oo)\n",
    "\n",
    "fig, ax = plt.subplots(2,1, sharex=True)\n",
    "ax[0].errorbar(x = r_range_1/unit.cm, y = u_1(r_range_1)/(unit.cm**-2 * unit.second**-1), label = r'$u_1$',\n",
    "            color = 'k')\n",
    "ax[0].errorbar(x = r_range_2/unit.cm, y = u_2(r_range_2)/(unit.cm**-2 * unit.second**-1), label = r'$u_2$',\n",
    "            color = 'r')\n",
    "ax[0].errorbar(x = x_vec, y = u_n_vec, label = r'$u_{num}$',\n",
    "            color = 'g')\n",
    "ax[0].set_xlabel(r'$r/\\mathrm{cm}$')\n",
    "ax[0].set_ylabel(r'$u/(\\mathrm{cm^{-2}~s^{-1}})$')\n",
    "ax[0].legend()\n",
    "\n",
    "ax[1].errorbar(x = r_range_1/unit.cm, y = q_1(r_range_1)/(unit.cm**-2 * unit.second**-1), label = r'$q_{1,n}$',\n",
    "            color = 'k')\n",
    "ax[1].errorbar(x = r_range_2/unit.cm, y = q_2(r_range_2)/(unit.cm**-2 * unit.second**-1), label = r'$q_{2,n}$',\n",
    "            color = 'r')\n",
    "ax[1].errorbar(x = x_vec, y = q_n_vec, label = r'$q_{num,n}$',\n",
    "            color = 'g')\n",
    "ax[1].set_xlabel(r'$r/\\mathrm{cm}$')\n",
    "ax[1].set_ylabel(r'$q_n/(\\mathrm{cm^{-2}~s^{-1}})$')\n",
    "ax[1].legend()\n",
    "\n",
    "\n",
    "# plt.savefig('./pics/uq_numer_analyt_compare.png')"
   ]
  },
  {
   "cell_type": "markdown",
   "metadata": {},
   "source": [
    "## [Conclusions](#toc)<a id=\"conclusions\"></a>"
   ]
  },
  {
   "cell_type": "markdown",
   "metadata": {},
   "source": [
    "- Text..."
   ]
  },
  {
   "cell_type": "markdown",
   "metadata": {},
   "source": [
    "## [References](#toc)<a id=\"refs\"></a>\n",
    "\n",
    "- [1] V. F. de Almeida, [*Engy-5330: Computational Continuum Transport Phenomena*](https://github.com/dpploy/engy-5310), University of Massachusetts Lowell, Dept. of Chemical Engineering (Nuclear Energy Program).\n",
    "- [2] V. F. de Almeida, [*Engy-5050: Nuclear Reactor Physics: Neutron Diffusion from a Point Source*](https://nbviewer.org/github/dpploy/engy-5050/blob/main/notebooks/03-diff-point-source.ipynb), University of Massachusetts Lowell, Dept. of Chemical Engineering (Nuclear Energy Program).\n",
    "<!-- - [1] author, [reference]()\n",
    "- [1] author, [reference]() -->"
   ]
  },
  {
   "cell_type": "code",
   "execution_count": null,
   "metadata": {},
   "outputs": [],
   "source": []
  }
 ],
 "metadata": {
  "kernelspec": {
   "display_name": "Python 3 (ipykernel)",
   "language": "python",
   "name": "python3"
  },
  "language_info": {
   "codemirror_mode": {
    "name": "ipython",
    "version": 3
   },
   "file_extension": ".py",
   "mimetype": "text/x-python",
   "name": "python",
   "nbconvert_exporter": "python",
   "pygments_lexer": "ipython3",
   "version": "3.12.6"
  },
  "latex_envs": {
   "LaTeX_envs_menu_present": true,
   "autoclose": false,
   "autocomplete": true,
   "bibliofile": "biblio.bib",
   "cite_by": "apalike",
   "current_citInitial": 1,
   "eqLabelWithNumbers": true,
   "eqNumInitial": 1,
   "hotkeys": {
    "equation": "Ctrl-E",
    "itemize": "Ctrl-I"
   },
   "labels_anchors": false,
   "latex_user_defs": false,
   "report_style_numbering": false,
   "user_envs_cfg": false
  }
 },
 "nbformat": 4,
 "nbformat_minor": 4
}
