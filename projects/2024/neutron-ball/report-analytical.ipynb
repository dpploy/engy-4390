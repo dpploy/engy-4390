{
 "cells": [
  {
   "cell_type": "markdown",
   "metadata": {},
   "source": [
    "**ENGY-4390** Nuclear Systems Design and Analysis, UMass Lowell, Chem. Eng. Nuclear Program Fall 2024; Prof. V. F. de Almeida\n",
    "\n",
    "# Neutron Diffusion on a Spherical Domain\n",
    "$  \n",
    "  \\newcommand{\\Amtrx}{\\boldsymbol{\\mathsf{A}}}\n",
    "  \\newcommand{\\Bmtrx}{\\boldsymbol{\\mathsf{B}}}\n",
    "  \\newcommand{\\Mmtrx}{\\boldsymbol{\\mathsf{M}}}\n",
    "  \\newcommand{\\Imtrx}{\\boldsymbol{\\mathsf{I}}}\n",
    "  \\newcommand{\\Pmtrx}{\\boldsymbol{\\mathsf{P}}}\n",
    "  \\newcommand{\\Lmtrx}{\\boldsymbol{\\mathsf{L}}}\n",
    "  \\newcommand{\\Umtrx}{\\boldsymbol{\\mathsf{U}}}\n",
    "  \\newcommand{\\Smtrx}{\\boldsymbol{\\mathsf{S}}}\n",
    "  \\newcommand{\\xvec}{\\boldsymbol{\\mathsf{x}}}\n",
    "  \\newcommand{\\avec}{\\boldsymbol{\\mathsf{a}}}\n",
    "  \\newcommand{\\bvec}{\\boldsymbol{\\mathsf{b}}}\n",
    "  \\newcommand{\\cvec}{\\boldsymbol{\\mathsf{c}}}\n",
    "  \\newcommand{\\rvec}{\\boldsymbol{\\mathsf{r}}}\n",
    "  \\newcommand{\\fvec}{\\boldsymbol{\\mathsf{f}}}\n",
    "  \\newcommand{\\mvec}{\\boldsymbol{\\mathsf{m}}}\n",
    "  \\newcommand{\\gvec}{\\boldsymbol{\\mathsf{g}}}\n",
    "  \\newcommand{\\zerovec}{\\boldsymbol{\\mathsf{0}}}\n",
    "  \\newcommand{\\norm}[1]{\\bigl\\lVert{#1}\\bigr\\rVert}\n",
    "  \\newcommand{\\transpose}[1]{{#1}^\\top}\n",
    "  \\DeclareMathOperator{\\rank}{rank}\n",
    "  \\newcommand{\\Reals}{\\mathbb{R}}\n",
    "  \\newcommand{\\thetavec}{\\boldsymbol{\\theta}}\n",
    "  \\newcommand{\\normal}{\\boldsymbol{n}}\n",
    "  \\newcommand{\\flux}{\\boldsymbol{q}}\n",
    "  \\newcommand{\\ihat}{\\hat{\\boldsymbol{i}}}\n",
    "  \\newcommand{\\rhat}{\\hat{\\boldsymbol{r}}}\n",
    "$"
   ]
  },
  {
   "cell_type": "markdown",
   "metadata": {},
   "source": [
    "**Student: Melanie Breeze**  <br>\n",
    "**Course:** ENGY-4390 Nuclear Systems Design and Analysis  <br>\n",
    "**Advisor and Collaborator: Valmor F. de Almeida** \n",
    "\n",
    "UMass Lowell, Dept. of Chemical Engineering, Nuclear Energy Program \n",
    "<br>\n",
    "**07Oct2024**"
   ]
  },
  {
   "cell_type": "markdown",
   "metadata": {},
   "source": [
    "**Student: Melanie Breeze**  <br>\n",
    "**Course:** ENGY-4390 Nuclear Systems Design and Analysis  <br>\n",
    "**Advisor and Collaborator: Valmor F. de Almeida** \n",
    "\n",
    "UMass Lowell, Dept. of Chemical Engineering, Nuclear Energy Program \n",
    "<br>\n",
    "**07Oct2024**"
   ]
  },
  {
   "cell_type": "markdown",
   "metadata": {},
   "source": [
    "## Table of Contents<a id=\"toc\"></a>\n",
    "* [Introduction](#intro)\n",
    "* [Summary of Parameters](#parameters)\n",
    "* [Problem Statement](#problem)\n",
    "* [Objectives](#obj)\n",
    "* [Boundary-Value Problem Statement](#p1)\n",
    "* [Analytical Solution](#analyticalsolution)\n",
    "* [Old](#old)\n",
    "  + [Alternative Boundary-Value Problem Statement](#p2)\n",
    "  + [Galerkin Method w/ Finite Element Basis Functions](#p3)\n",
    "  + [Weak Form of Problem Statement](#weakform)\n",
    "  + [MOOSE Kernels](#kernels)\n",
    "  + [Setup](#setup)\n",
    "    - [One-Group Energy](#onegroupenergy)\n",
    "* [Results and Analysis](#ranalysis)\n",
    "* [Conclusions](#conclusions)\n",
    "* [References](#refs)\n",
    "---"
   ]
  },
  {
   "cell_type": "markdown",
   "metadata": {},
   "source": [
    "# [Introduction](#toc)<a id=\"intro\"></a>"
   ]
  },
  {
   "cell_type": "markdown",
   "metadata": {},
   "source": [
    "Neutron diffusion from a spherical source is a classical problem in neutron transport. This project investigates the solution of the source problem using 3 different approaches, namely the analyical solution, the finite element method using a Python implementation from the Engy-5330 course, and the MOOSE finite element framework."
   ]
  },
  {
   "cell_type": "markdown",
   "metadata": {},
   "source": [
    "### [Summary of Parameters](#toc)<a id=\"parameters\"></a>\n",
    "\n",
    "$$\n",
    "\\begin{aligned}\n",
    "& \\text {Table 1. Parameter summary}\\\\\n",
    "&\\begin{array}{r|c|l}\n",
    "\\hline \\hline \\text { Parameter } & \\text { Definition } & \\text { Units } \\\\\n",
    "\\hline\n",
    "r & \\text{Radius} & \\mathrm{cm} \\\\\n",
    "R & \\text{Outer radius of region 1} & \\mathrm{cm} \\\\\n",
    "R_\\infty & \\text{Outer radius of region 2} & \\mathrm{cm} \\\\\n",
    "D & \\text{Diffusion coefficient} & \\mathrm{cm} \\\\\n",
    "\\Sigma_\\mathrm{a} & \\text{Macroscopic cross section} & \\mathrm{cm^{-1}} \\\\\n",
    "L & \\text{Length term, } L = \\sqrt{D/\\Sigma_\\mathrm{a}} & \\mathrm{cm} \\\\\n",
    "u & \\text{Neutron velocity} & \\mathrm{cm^{-2}~s^{-1}} \\\\\n",
    "q & \\text{Neutron normal flux} & \\mathrm{cm^{-2}~s^{-1}} \\\\\n",
    "s_0 & \\text{Source term}& \\mathrm{cm^{-3}~s^{-1}} \\\\\n",
    "c & \\text{Constants of integration} & \\mathrm{cm^{-1}~s^{-1}} \\\\\n",
    "A & \\text{Surface area} & \\mathrm{cm^2} \\\\\n",
    "V & \\text{Volume} & \\mathrm{cm^3} \\\\\n",
    "\\hline\n",
    "\\end{array}\n",
    "\\end{aligned}\n",
    "$$\n",
    "\n"
   ]
  },
  {
   "cell_type": "markdown",
   "metadata": {},
   "source": [
    "## [Objectives](#toc)<a id=\"obj\"></a>\n",
    "\n",
    " + Solve the 1-D, spherical coordinates, neutron diffusion from a point source problem using two regions.\n",
    "   - Region 1 is the point source (a finite but very small radius)\n",
    "   - Region 2 is the universe around the source (finite but very large to represent a boundless region)\n",
    "\n",
    "This is old and needs revision\n",
    "1. Gather Cross Section Data to provide study parameters\n",
    "2. Set up two analytical solutions\n",
    "    - Set up the non-asymptotic analytic solution __complete__  \n",
    "    - Set up the asymptotic analytic solution with transient __almost complete__  \n",
    "3. Code a MOOSE application to solve the neutron diffusion [problem](#strongform) using Galerkin's method with finite element basis functions\n",
    "    - Set up spherical coordinate system: __complete__\n",
    "    - Identify best test functions for problem domain: __unknown__  \n",
    "    - \"Absorption\" term $\\Sigma_{tot}\\Phi $ is causing strong oscillations when included __unknown__  \n",
    "    "
   ]
  },
  {
   "cell_type": "markdown",
   "metadata": {},
   "source": [
    "## [Boundary-Value Problem Statement](#toc)<a id=\"p1\"></a>\n",
    "\n",
    "Solve the heterogeneous spatial neutron flux magnitude diffusion problem. Find $u_1:[0,R]\\subset\\Reals\\rightarrow\\Reals$, $u_2:[R,R_\\infty]\\subset\\Reals\\rightarrow\\Reals$\n",
    "such that:\n",
    "\n",
    "\\begin{align*}\n",
    " -\\frac{1}{r^2}\\bigl(-D_1\\, r^2 u_1'\\bigr)'(r) - \\Sigma_{a,1}\\,u_1(r) + s_{0,1} &= 0 \\quad\\quad \\forall \\quad\\quad r\\in\\ ]0,R[, \\\\\n",
    " -\\frac{1}{r^2}\\bigl(-D_2\\, r^2 u_2'\\bigr)'(r) - \\Sigma_{a,2}\\,u_2(r) + s_{0,1} &= 0 \\quad\\quad \\forall \\quad\\quad r\\in\\ ]R,R_\\infty[, \\\\\n",
    " q_{1,n}(0) &= 0, \\\\\n",
    " q_{2,n}(\\infty) &= 0, \\\\\n",
    " u_1(R) &= u_2(R), \\\\\n",
    " q_{1,n}(R) &= q_{2,n}(R), \\\\\n",
    "\\end{align*}\n",
    "   \n",
    "Given data: diffusion coefficients, $D$, macroscopic absorption cross sections, $\\Sigma_a$, source $s_0$, boundary conditions of normal flux, and continuity conditions at the interfaces (both normal flux and solution). Where $q_{i,n}(r) = \\flux_{i}(r)\\cdot\\normal(r) = -D_i\\,u_i'(r)\\,\\rhat \\cdot \\normal(r) \\ \\forall \\ i=1,2$."
   ]
  },
  {
   "cell_type": "markdown",
   "metadata": {},
   "source": [
    "## [Analytical Solution](#toc)<a id=\"analyticalsolution\"></a>\n",
    "Each one of the neutron diffusion equations have an analytical solution, as follows:\n",
    "\\begin{align*}\n",
    "-\\frac{D_i}{r^2} \\left(r^2 u_i^\\prime\\right)^\\prime - \\Sigma_{a,i}u_i + s_{0,i} &= 0 \\qquad  i=1,2 , \\\\\n",
    "\\frac{1}{r}\\left(r^2 u_i^\\prime\\right)^\\prime -r\\frac{\\Sigma_{a,i}\\,u_i}{D_i} &= - r\\frac{s_{0,i}}{D_i}\n",
    "\\end{align*}\n",
    "\n",
    "The latter are both in the form\n",
    "\n",
    "\\begin{align*}\n",
    "y^{\\prime\\prime} + a y^\\prime + by = R\\left( x \\right)\n",
    "\\end{align*}\n",
    "\n",
    "with solution\n",
    "\n",
    "\\begin{align*}\n",
    "y = c_1 e^{m_1x} + c_2 e^{m_2 x} \n",
    "    + \\frac{e^{m_1x}}{m_1-m_2} \\int R\\left(x\\right) e^{-m_1x} \\, dx\n",
    "    + \\frac{e^{m_2x}}{m_2-m_1} \\int R\\left(x\\right) e^{-m_2x} \\, dx,\n",
    "\\end{align*}\n",
    "\n",
    "where $a$ and $b$ are constants, and $m_1$ and $m_2$ are the real and distinct roots of $m^2+am+b=0$.\n",
    "\n",
    "Thus, for $w_i=r\\,u_i$, $a=0$, $b=-\\frac{\\Sigma_{a,i}}{D_i}$, $R=- r\\frac{s_{0,i}}{D_i}$, and the roots are\n",
    "\n",
    "\\begin{align*}\n",
    "m^2 - \\frac{\\Sigma_{a,i}}{D_i} = 0, \\\\ \n",
    "m = \\pm \\sqrt{\\frac{\\Sigma_{a,i}}{D_i}} = \\pm \\frac{1}{L_i}, \\\\\n",
    "m_1 = \\frac{1}{L_i}, \\\\ \n",
    "m_2 = -\\frac{1}{L_i}\n",
    "\\end{align*}\n",
    "\n",
    "Therefore\n",
    "\n",
    "\\begin{align*}\n",
    "w_i = ru_i = c_{1,i}\\, e^{r/L_i} + c_{2,i}\\, e^{-r/L_i} \n",
    "             + \\frac{e^{r/L_i}}{L_i^{-1}-(-L_i^{-1})} \\int - \\frac{s_{0,i}\\,r}{D_i} e^{-r/L_i} \\,dr \n",
    "             + \\frac{e^{-r/L_i}}{-L_i^{-1}-L_i^{-1}} \\int - \\frac{s_{0,i}\\,r}{D_i} e^{r/L_i} \\,dr\n",
    "\\\\\n",
    "u_i = c_{1,i}\\, \\frac{e^{r/L_i}}{r} + c_{2,i}\\, \\frac{e^{-r/L_i}}{r} \n",
    "      - \\frac{s_{0,i}\\,L_i\\,e^{r/L_i}}{2rD_i} \\int r\\, e^{-r/L_i} \\, dr\n",
    "      + \\frac{s_{0,i}\\,L_i\\,e^{-r/L_i}}{2rD_i} \\int r\\, e^{r/L_i} \\, dr\n",
    "\\end{align*}\n",
    "\n",
    "Note that\n",
    "\n",
    "\\begin{align*}\n",
    "\\int r\\, e^{-r/L_i} \\, dr = - L_i\\bigl(x + L_i\\bigr)\\,e^{-r/L_i},\n",
    "\\\\\n",
    " \\int r\\, e^{-r/L_i} \\, dr = L_i\\bigl(x-L_i\\bigr)\\,e^{r/L_i},\n",
    "\\end{align*}\n",
    "\n",
    "and upon substitution, the final 2 terms on the right side of the above formula for $u_i$ simplifies to\n",
    "\n",
    "\\begin{equation*}\n",
    "\\frac{s_{0,i}\\,L_i^2}{D_i}.\n",
    "\\end{equation*}"
   ]
  },
  {
   "cell_type": "markdown",
   "metadata": {},
   "source": [
    "Hence, finally:\n",
    "\\begin{align*}\n",
    "\\boxed{ u_i=c_{1,i} \\, \\frac{e^{r/L_i}}{r} + c_{2,i} \\, \\frac{e^{-r/L_i}}{r} + \\frac{L_i^2 \\, s_{0,i}}{D_i} },\n",
    "\\end{align*}\n",
    "\n",
    "and\n",
    "\n",
    "\\begin{align*}\n",
    "u_i^\\prime = c_{1,i}\\, \\frac{e^{r/L_i}}{r}\\bigl( \\frac{1}{L_i} - \\frac{1}{r} \\bigr) \n",
    "           - c_{2,i}\\, \\frac{e^{-r/L_i}}{r}\\bigl(\\frac{1}{L_i} + \\frac{1}{r} \\bigr),\n",
    "\\end{align*}\n",
    "\n",
    "or a better form for evaluating the derivative at $r=0$,\n",
    "\n",
    "\\begin{align*}\n",
    "\\boxed{ u_i^\\prime = c_{1,i}\\, \\frac{e^{r/L_i}}{r^2}\\bigl( \\frac{r}{L_i} - 1 \\bigr) \n",
    "           - c_{2,i}\\, \\frac{e^{-r/L_i}}{r^2}\\bigl(\\frac{r}{L_i} + 1 \\bigr)}.\n",
    "\\end{align*}"
   ]
  },
  {
   "cell_type": "markdown",
   "metadata": {},
   "source": [
    "## Boundary and Interface conditions\n",
    "\n",
    "The boundary and interface conditions will define the coefficents of integration.\n",
    "\n",
    "### For $u_1$\n",
    "\n",
    "Then, taking the boundary condition $q_{n,1} = -D_1u_1^{\\prime}(0) = 0$, that is, $u_1^{\\prime}(0) = 0$, then from the formula above,\n",
    "\n",
    "\\begin{align*}\n",
    "u_1^\\prime(0) = 0 = \\lim_{r=0} \\frac{1}{r^2} \\bigl( - c_{1,1}- c_{2,1} \\bigr) = 0\n",
    "\\end{align*}\n",
    "\n",
    "if and only if $c_{1,1} + c_{2,1} = 0$. Thus,\n",
    "\n",
    "\\begin{align*}\n",
    "u_1 = \\frac{c_{1,1}}{r} \\bigl(e^{r/L_1} - e^{-r/L_1} \\bigr) + \\frac{L_1^2 s_{0,1}}{D_1} \\tag{1-1}\n",
    "\\end{align*}\n",
    "\n",
    "And\n",
    "\n",
    "\\begin{align*}\n",
    "u_1^\\prime = c_{1,1} \\biggl(\\frac{e^{r/L_1}}{r^2}\\Bigl(\\frac{r}{L_1} - 1 \\Bigr) \n",
    "                        + \\frac{e^{-r/L_1}}{r^2}\\Bigl(\\frac{r}{L_1} + 1 \\Bigr) \\biggr) \\tag{1-2}\n",
    "\\end{align*}"
   ]
  },
  {
   "cell_type": "markdown",
   "metadata": {},
   "source": [
    "### For $u_2$\n",
    "Taking the boundary condition $q_{2,n}(\\infty) = 0 = -D_2 \\,u_2^\\prime(\\infty)$, hence\n",
    "\n",
    "\\begin{align*}\n",
    " u_2^\\prime(\\infty) = 0 = \\lim_{r=\\infty} \\, c_{1,2} \\frac{e^{r/L_2}}{r^2}\\Bigl( \\frac{r}{L_2} - 1 \\Bigr) \n",
    "                                 - c_{2,2} \\frac{e^{-r/L_2}}{r^2}\\Bigl( \\frac{r}{L_2} + 1 \\Bigr)\n",
    "\\end{align*}\n",
    "\n",
    "One obtains $c_{1,2} = 0$ resulting in\n",
    "\n",
    "\\begin{align*}\n",
    "u_2 = c_{2,2} \\, \\frac{e^{-r/L_2}}{r} + \\frac{L_2^2 \\, s_{0,2}}{D_2} \\tag{2-1}\n",
    "\\end{align*}\n",
    "\n",
    "And\n",
    "\\begin{align*}\n",
    "u_i^\\prime = - c_{2,2}\\, \\frac{e^{-r/L_2}}{r^2}\\Bigl(\\frac{r}{L_2} + 1 \\Bigr) \\tag{2-2}\n",
    "\\end{align*}"
   ]
  },
  {
   "cell_type": "markdown",
   "metadata": {},
   "source": [
    "### For $u_1$ and $u_2$\n",
    "The innterface conditions are two, so the remaining constants, $c_{1,1}$ and $c_{2,2}$ can be found. \n",
    "First, the spatial neutron flux magnitude needs to matched at the interface $r=R$. That is, $u_1(R) = u_2(R)$, therefore\n",
    "\n",
    "\\begin{align}\n",
    "\\frac{c_{1,1}}{R} \\bigl(e^{R/L_1} - e^{-R/L_1} \\bigr) + \\frac{L_1^2 s_{0,1}}{D_1} \n",
    "= \n",
    "c_{2,2} \\, \\frac{e^{-R/L_2}}{R} + \\frac{L_2^2 \\, s_{0,2}}{D_2} . \\tag{3-1}\n",
    "\\end{align}\n",
    "\n",
    "Second, continuity of the normal flux, $q_{1,n}(R) = q_{2,n}(R)$, and  this means that $D_1\\,u_1^\\prime(R)= D_2\\,u_2^\\prime(R)$, that is\n",
    "\n",
    "\\begin{align}\n",
    "D_1\\, c_{1,1} \\biggl(\\frac{e^{R/L_1}}{R^2}\\Bigl(\\frac{R}{L_1} - 1 \\Bigr) \n",
    "                        + \\frac{e^{-R/L_1}}{R^2}\\Bigl(\\frac{R}{L_1} + 1 \\Bigr) \\biggr)\n",
    "=\n",
    "- D_2\\, c_{2,2}\\, \\frac{e^{-R/L_2}}{R^2}\\Bigl(\\frac{R}{L_2} + 1 \\Bigr). \\tag{3-2}\n",
    "\\end{align}\n",
    "\n",
    "From this, the coupled equations arise\n",
    "\n",
    "\\begin{align}\n",
    "\\bigl(e^{R/L_1} - e^{-R/L_1} \\bigr)\\,c_{1,1} - e^{-R/L_2} \\, c_{2,2}\n",
    "&=  \n",
    " R\\Bigl( \\frac{L_2^2 \\, s_{0,2}}{D_2} - \\frac{L_1^2 s_{0,1}}{D_1} \\Bigr).\n",
    "\\\\\n",
    "D_1\\, \\biggl(e^{R/L_1}\\Bigl(\\frac{R}{L_1} - 1 \\Bigr) + e^{-R/L_1}\\Bigl(\\frac{R}{L_1} + 1 \\Bigr) \\biggr)\\, c_{1,1} + D_2\\, e^{-R/L_2}\\Bigl(\\frac{R}{L_2} + 1 \\Bigr)\\, c_{2,2} \n",
    "&=\n",
    "0 . \n",
    "\\end{align}\n",
    "\n",
    "which can be solved analytically for $c_{1,1}$ and $c_{2,2}$. Or in matrix form\n",
    "\n"
   ]
  },
  {
   "cell_type": "markdown",
   "metadata": {},
   "source": [
    "$$\\begin{pmatrix}\n",
    "\\bigl(e^{R/L_1} - e^{-R/L_1} \\bigr)  & - e^{-R/L_2}  \\\\\n",
    "D_1\\, \\biggl(e^{R/L_1}\\Bigl(\\frac{R}{L_1} - 1 \\Bigr) + e^{-R/L_1}\\Bigl(\\frac{R}{L_1} + 1 \\Bigr) \\biggr) & D_2\\, e^{-R/L_2}\\Bigl(\\frac{R}{L_2} + 1 \\Bigr)\n",
    "\\end{pmatrix}\n",
    "\\,\n",
    "\\begin{pmatrix}\n",
    " c_{1,1} \\\\\n",
    " c_{2,2}\n",
    "\\end{pmatrix}\n",
    "=\n",
    "\\begin{pmatrix}\n",
    "R\\Bigl( \\frac{L_2^2 \\, s_{0,2}}{D_2} - \\frac{L_1^2 s_{0,1}}{D_1} \\Bigr) \\\\\n",
    "0\n",
    "\\end{pmatrix}\n",
    "$$"
   ]
  },
  {
   "cell_type": "markdown",
   "metadata": {},
   "source": [
    "## [\"Point Source in an Infinite Domain\"](#toc)<a id=\"inf-case\"></a>\n",
    "\n",
    "Consider an inner sphere source with a very small radius surrounded by annular region with a large radius. This scenario mimics the ideal point source case in an infinite domain. We cannot have a real infinite domain in a simulation, therefore a large outer radius will do it."
   ]
  },
  {
   "cell_type": "code",
   "execution_count": 3,
   "metadata": {},
   "outputs": [],
   "source": [
    "'''SI units'''\n",
    "from scipy import constants as unit\n",
    "unit.second = 1.0\n",
    "unit.meter = 1.0\n",
    "unit.cm = unit.centi*unit.meter\n",
    "unit.mm = unit.milli*unit.meter\n",
    "unit.um = unit.micro*unit.meter"
   ]
  },
  {
   "cell_type": "code",
   "execution_count": 32,
   "metadata": {},
   "outputs": [],
   "source": [
    "'''Domain'''\n",
    "\n",
    "r_0 = 0*unit.cm \n",
    "r_R = 100*unit.cm\n",
    "r_oo = 1000*unit.cm  # infinity\n",
    "\n",
    "r_0 = 0*unit.cm \n",
    "r_R = 10*unit.cm\n",
    "r_oo = 100*unit.cm  # infinity"
   ]
  },
  {
   "cell_type": "code",
   "execution_count": 33,
   "metadata": {},
   "outputs": [],
   "source": [
    "'''Domain'''\n",
    "def show_domain(r_R, r_oo):\n",
    "    import pyvista as pv\n",
    "    pv.set_plot_theme('paraview')\n",
    "\n",
    "    radius_i = r_R\n",
    "    radius_o = r_oo\n",
    "    outer = pv.Sphere(center=(0,0,0), direction=(0,0,1), radius=radius_o)\n",
    "    inner = pv.Sphere(center=(0,0,0), direction=(0,0,1), radius=radius_i)\n",
    "\n",
    "    plo = pv.Plotter(notebook=True, shape=(1,1), off_screen=True) \n",
    "    plo.subplot(0,0)\n",
    "    plo.add_mesh(outer, color='yellow', opacity=0.59,)\n",
    "    plo.add_mesh(inner, color='red', opacity=1)\n",
    "    plo.add_axes(xlabel='R', ylabel='Theta', zlabel='Phi')\n",
    "    plo.screenshot('domain.png', window_size=(1000,400))\n",
    "    plo.camera.zoom(1.8)\n",
    "    cpos = plo.show(window_size=(1000, 400), auto_close=False)\n",
    "    return plo"
   ]
  },
  {
   "cell_type": "code",
   "execution_count": 34,
   "metadata": {},
   "outputs": [],
   "source": [
    "#plo = show_domain(r_R, r_oo)"
   ]
  },
  {
   "cell_type": "code",
   "execution_count": 35,
   "metadata": {},
   "outputs": [],
   "source": [
    "# import matplotlib.pyplot as plt\n",
    "# plt.figure(1, figsize=(100, 10))\n",
    "# plt.imshow(plo.image)\n",
    "# plt.show()"
   ]
  },
  {
   "cell_type": "markdown",
   "metadata": {},
   "source": [
    "### [Data](#toc)<a id=\"data-sym\"></a>\n",
    "\n",
    "Solve problem with parameter values:\n",
    "\n",
    "> + a, b, s\n",
    "> + $D_1$, $\\Sigma_{a1}$, $s_{01}$\n",
    "> + $D_2$, $\\Sigma_{a2}$, $s_{02}$\n",
    "> + $q_{nR_\\infty}$"
   ]
  },
  {
   "cell_type": "markdown",
   "metadata": {},
   "source": [
    "### [Analytic Solution](#toc)<a id=\"analyticalsol\"></a> \n",
    "\n",
    "Analytical solution goes here..."
   ]
  },
  {
   "cell_type": "code",
   "execution_count": 36,
   "metadata": {},
   "outputs": [],
   "source": [
    "'''Gathering variables'''\n",
    "import math\n",
    "import numpy as np\n",
    "from scipy import constants as unit\n",
    "\n",
    "# Source\n",
    "diffusion_coeff_1 = 1.5*unit.cm\n",
    "sigma_a_1 = 0.005/unit.cm\n",
    "source_1_dot = 1/unit.second\n",
    "volume = 4/3*math.pi*(r_R)**3\n",
    "source_1 = source_1_dot/volume\n",
    "l_1 = (diffusion_coeff_1/sigma_a_1)**0.5\n",
    "\n",
    "# Right side material\n",
    "diffusion_coeff_2 = 1.0*unit.cm\n",
    "sigma_a_2 = 0.01/unit.cm\n",
    "source_2 = 0./unit.cm**3/unit.second\n",
    "l_2 = (diffusion_coeff_1/sigma_a_1)**0.5\n",
    "\n",
    "# normal flux\n",
    "q_noo = 0.0*unit.cm**2/unit.second"
   ]
  },
  {
   "cell_type": "code",
   "execution_count": 37,
   "metadata": {},
   "outputs": [],
   "source": [
    "'''Matrix solution'''\n",
    "#u_1\n",
    "a_11 = np.e**(r_R/l_1) - np.e**(- r_R/l_1) \n",
    "a_12 = -np.e**(-r_R/l_2)\n",
    "\n",
    "#u_1^\\prime\n",
    "\n",
    "a_21 = diffusion_coeff_1 * ( np.e**(r_R/l_1) * (1/l_1 - 1/r_R) +  np.e**(-r_R/l_1) * ( 1/l_1 + 1/r_R) )\n",
    "a_22 = diffusion_coeff_2 * np.e**(-r_R/l_2) * (1/l_2 + 1/r_R) \n",
    "\n",
    "mtrx_a = np.array([[a_11, a_12],\n",
    "                  [a_21, a_22]])\n",
    "\n",
    "#units: [ s^{-1} * cm^{-2}]\n",
    "y_1 = source_1*(l_1**2)/diffusion_coeff_1\n",
    "y_2 = source_2*(l_2**2)/diffusion_coeff_2\n",
    "\n",
    "rightside = r_R* (y_2 - y_1)\n",
    "vec_y = np.array([rightside,0])\n",
    "\n",
    "from scipy.linalg import solve\n",
    "[c_1,c_2] = solve(mtrx_a,vec_y) #units: [m^2~s^{-1}]\n",
    "\n",
    "#for i in [c_1, c_2]:\n",
    "#    print(i/(1/unit.second * 1/unit.cm))"
   ]
  },
  {
   "cell_type": "markdown",
   "metadata": {},
   "source": [
    "Chekc u_2 and u_1 eqns below"
   ]
  },
  {
   "cell_type": "code",
   "execution_count": 38,
   "metadata": {},
   "outputs": [
    {
     "data": {
      "text/plain": [
       "2.842170943040401e-14"
      ]
     },
     "execution_count": 38,
     "metadata": {},
     "output_type": "execute_result"
    }
   ],
   "source": [
    "'''Functions'''\n",
    "def u_1(r):\n",
    "    '''Values of u_1 over distance r'''\n",
    "    return (c_1/r)* (np.e**(r/l_1) - np.e**(-r/l_1))  + y_1\n",
    "\n",
    "def u_2(r):\n",
    "    '''Values of u_2 over distance r'''\n",
    "    return (c_2/r)* np.e**(-r/l_2)  + y_2\n",
    "\n",
    "def q_1(r):\n",
    "    '''Flux of region 1 over distance r'''\n",
    "    return - c_1* diffusion_coeff_1 * (  np.e**(r/l_1) * ( 1/(l_1*r) - r**-2)  + np.e**(-r/l_1) * ( 1/(l_1*r) + r**-2) )\n",
    "\n",
    "def q_2(r):\n",
    "    '''Flux of region 2 over distance r'''\n",
    "    return c_2* diffusion_coeff_2 *np.e**(-r/l_2) * ( 1/(l_1*r) + r**-2)\n",
    "\n",
    "u_1(r_R)-u_2(r_R)"
   ]
  },
  {
   "cell_type": "code",
   "execution_count": 39,
   "metadata": {},
   "outputs": [
    {
     "data": {
      "text/plain": [
       "<matplotlib.legend.Legend at 0x7fd02b419040>"
      ]
     },
     "execution_count": 39,
     "metadata": {},
     "output_type": "execute_result"
    },
    {
     "data": {
      "image/png": "[encoded data removed]",
      "text/plain": [
       "<Figure size 640x480 with 2 Axes>"
      ]
     },
     "metadata": {},
     "output_type": "display_data"
    }
   ],
   "source": [
    "'''Plotting'''\n",
    "import matplotlib.pyplot as plt\n",
    "\n",
    "r_range_1 = np.linspace(r_0, r_R)[1:]\n",
    "r_range_2 = np.linspace(r_R, r_oo)\n",
    "\n",
    "fig, ax = plt.subplots(2,1, sharex=True)\n",
    "ax[0].errorbar(x = r_range_1/unit.cm, y = u_1(r_range_1)/(unit.cm**-2 * unit.second**-1)*1e5, label = r'$u_1$',\n",
    "            color = 'k')\n",
    "ax[0].errorbar(x = r_range_2/unit.cm, y = u_2(r_range_2)/(unit.cm**-2 * unit.second**-1)*1e5, label = r'$u_2$',\n",
    "            color = 'r')\n",
    "ax[0].set_xlabel(r'$r/\\mathrm{cm}$')\n",
    "ax[0].set_ylabel(r'$u/(\\mathrm{cm^{-2}~s^{-1}})$')\n",
    "ax[0].legend()\n",
    "\n",
    "ax[1].errorbar(x = r_range_1/unit.cm, y = q_1(r_range_1)/(unit.cm * unit.second**-1), label = r'$q_{1,n}$',\n",
    "            color = 'k')\n",
    "ax[1].errorbar(x = r_range_2/unit.cm, y = q_2(r_range_2)/(unit.cm * unit.second**-1), label = r'$q_{2,n}$',\n",
    "            color = 'r')\n",
    "ax[1].set_xlabel(r'$r/\\mathrm{cm}$')\n",
    "ax[1].set_ylabel(r'$q_n/(\\mathrm{cm^{-2}~s^{-1}})$')\n",
    "ax[1].legend()\n",
    "\n"
   ]
  },
  {
   "cell_type": "markdown",
   "metadata": {},
   "source": [
    "## Comparison to numerical"
   ]
  },
  {
   "cell_type": "code",
   "execution_count": 40,
   "metadata": {},
   "outputs": [],
   "source": [
    "# [x_vec, u_n_vec, q_n_vec] = np.genfromtxt(fname='data/10-100-neutron-ball-source-inf.txt')\n",
    "\n",
    "# #usable range wher where u_1 doesn't diverge terribly and don't include r = 0\n",
    "# ri_range = np.where(x_vec<=r_R/unit.cm)[0][1:]\n",
    "# dummy = np.where(x_vec<80)\n",
    "# ro_range = np.where(x_vec[dummy]>r_R)[0]\n",
    "\n",
    "# def errgen(uq1, uq2, uq_vec, r_range):\n",
    "#     r1 = np.abs(uq1/(unit.cm**-2 * unit.second**-1)- uq_vec[r_range[0]])/uq_vec[r_range[0]]\n",
    "#     r2 = np.abs(uq2/(unit.cm**-2 * unit.second**-1)- uq_vec[r_range[1]])/uq_vec[r_range[1]]\n",
    "#     return np.append(r1,r2)\n",
    "\n",
    "# uerr = errgen(u_1(x_vec[ri_range]), u_2(x_vec[ro_range]), u_n_vec, [ri_range, ro_range])\n",
    "# qerr = errgen(q_1(x_vec[ri_range]), q_2(x_vec[ro_range]), q_n_vec, [ri_range, ro_range])\n",
    "\n",
    "# r_range = np.append(x_vec[ri_range], x_vec[ro_range])\n",
    "\n",
    "# fig, ax = plt.subplots(1,1, sharex=True)\n",
    "\n",
    "\n",
    "# ax.errorbar(x = r_range, y = qerr, label = r'$u_{err}$', color = 'g')\n",
    "# # ax.errorbar(x = r_range_2, y = u_n_vec[ri_range], label = r'$u_{err}$', color = 'g')\n",
    "\n",
    "# ax.set_xlabel(r'$r/\\mathrm{cm}$')\n",
    "# ax.set_ylabel(r'$u/(\\mathrm{cm^{-2}~s^{-1}})$')\n",
    "# ax.legend()\n"
   ]
  },
  {
   "cell_type": "code",
   "execution_count": 41,
   "metadata": {},
   "outputs": [
    {
     "ename": "NameError",
     "evalue": "name 'x_vec' is not defined",
     "output_type": "error",
     "traceback": [
      "\u001b[0;31m---------------------------------------------------------------------------\u001b[0m",
      "\u001b[0;31mNameError\u001b[0m                                 Traceback (most recent call last)",
      "Cell \u001b[0;32mIn[41], line 9\u001b[0m\n\u001b[1;32m      5\u001b[0m ax[\u001b[38;5;241m0\u001b[39m]\u001b[38;5;241m.\u001b[39merrorbar(x \u001b[38;5;241m=\u001b[39m r_range_1\u001b[38;5;241m/\u001b[39munit\u001b[38;5;241m.\u001b[39mcm, y \u001b[38;5;241m=\u001b[39m u_1(r_range_1)\u001b[38;5;241m/\u001b[39m(unit\u001b[38;5;241m.\u001b[39mcm\u001b[38;5;241m*\u001b[39m\u001b[38;5;241m*\u001b[39m\u001b[38;5;241m-\u001b[39m\u001b[38;5;241m2\u001b[39m \u001b[38;5;241m*\u001b[39m unit\u001b[38;5;241m.\u001b[39msecond\u001b[38;5;241m*\u001b[39m\u001b[38;5;241m*\u001b[39m\u001b[38;5;241m-\u001b[39m\u001b[38;5;241m1\u001b[39m), label \u001b[38;5;241m=\u001b[39m \u001b[38;5;124mr\u001b[39m\u001b[38;5;124m'\u001b[39m\u001b[38;5;124m$u_1$\u001b[39m\u001b[38;5;124m'\u001b[39m,\n\u001b[1;32m      6\u001b[0m             color \u001b[38;5;241m=\u001b[39m \u001b[38;5;124m'\u001b[39m\u001b[38;5;124mk\u001b[39m\u001b[38;5;124m'\u001b[39m)\n\u001b[1;32m      7\u001b[0m ax[\u001b[38;5;241m0\u001b[39m]\u001b[38;5;241m.\u001b[39merrorbar(x \u001b[38;5;241m=\u001b[39m r_range_2\u001b[38;5;241m/\u001b[39munit\u001b[38;5;241m.\u001b[39mcm, y \u001b[38;5;241m=\u001b[39m u_2(r_range_2)\u001b[38;5;241m/\u001b[39m(unit\u001b[38;5;241m.\u001b[39mcm\u001b[38;5;241m*\u001b[39m\u001b[38;5;241m*\u001b[39m\u001b[38;5;241m-\u001b[39m\u001b[38;5;241m2\u001b[39m \u001b[38;5;241m*\u001b[39m unit\u001b[38;5;241m.\u001b[39msecond\u001b[38;5;241m*\u001b[39m\u001b[38;5;241m*\u001b[39m\u001b[38;5;241m-\u001b[39m\u001b[38;5;241m1\u001b[39m), label \u001b[38;5;241m=\u001b[39m \u001b[38;5;124mr\u001b[39m\u001b[38;5;124m'\u001b[39m\u001b[38;5;124m$u_2$\u001b[39m\u001b[38;5;124m'\u001b[39m,\n\u001b[1;32m      8\u001b[0m             color \u001b[38;5;241m=\u001b[39m \u001b[38;5;124m'\u001b[39m\u001b[38;5;124mr\u001b[39m\u001b[38;5;124m'\u001b[39m)\n\u001b[0;32m----> 9\u001b[0m ax[\u001b[38;5;241m0\u001b[39m]\u001b[38;5;241m.\u001b[39merrorbar(x \u001b[38;5;241m=\u001b[39m \u001b[43mx_vec\u001b[49m, y \u001b[38;5;241m=\u001b[39m u_n_vec, label \u001b[38;5;241m=\u001b[39m \u001b[38;5;124mr\u001b[39m\u001b[38;5;124m'\u001b[39m\u001b[38;5;124m$u_\u001b[39m\u001b[38;5;132;01m{num}\u001b[39;00m\u001b[38;5;124m$\u001b[39m\u001b[38;5;124m'\u001b[39m,\n\u001b[1;32m     10\u001b[0m             color \u001b[38;5;241m=\u001b[39m \u001b[38;5;124m'\u001b[39m\u001b[38;5;124mg\u001b[39m\u001b[38;5;124m'\u001b[39m)\n\u001b[1;32m     11\u001b[0m ax[\u001b[38;5;241m0\u001b[39m]\u001b[38;5;241m.\u001b[39mset_xlabel(\u001b[38;5;124mr\u001b[39m\u001b[38;5;124m'\u001b[39m\u001b[38;5;124m$r/\u001b[39m\u001b[38;5;124m\\\u001b[39m\u001b[38;5;124mmathrm\u001b[39m\u001b[38;5;132;01m{cm}\u001b[39;00m\u001b[38;5;124m$\u001b[39m\u001b[38;5;124m'\u001b[39m)\n\u001b[1;32m     12\u001b[0m ax[\u001b[38;5;241m0\u001b[39m]\u001b[38;5;241m.\u001b[39mset_ylabel(\u001b[38;5;124mr\u001b[39m\u001b[38;5;124m'\u001b[39m\u001b[38;5;124m$u/(\u001b[39m\u001b[38;5;124m\\\u001b[39m\u001b[38;5;124mmathrm\u001b[39m\u001b[38;5;124m{\u001b[39m\u001b[38;5;124mcm^\u001b[39m\u001b[38;5;124m{\u001b[39m\u001b[38;5;124m-2}~s^\u001b[39m\u001b[38;5;124m{\u001b[39m\u001b[38;5;124m-1}})$\u001b[39m\u001b[38;5;124m'\u001b[39m)\n",
      "\u001b[0;31mNameError\u001b[0m: name 'x_vec' is not defined"
     ]
    },
    {
     "data": {
      "image/png": "[encoded data removed]",
      "text/plain": [
       "<Figure size 640x480 with 2 Axes>"
      ]
     },
     "metadata": {},
     "output_type": "display_data"
    }
   ],
   "source": [
    "r_range_1 = np.linspace(r_0, r_R)[1:]\n",
    "r_range_2 = np.linspace(r_R, r_oo)\n",
    "\n",
    "fig, ax = plt.subplots(2,1, sharex=True)\n",
    "ax[0].errorbar(x = r_range_1/unit.cm, y = u_1(r_range_1)/(unit.cm**-2 * unit.second**-1), label = r'$u_1$',\n",
    "            color = 'k')\n",
    "ax[0].errorbar(x = r_range_2/unit.cm, y = u_2(r_range_2)/(unit.cm**-2 * unit.second**-1), label = r'$u_2$',\n",
    "            color = 'r')\n",
    "ax[0].errorbar(x = x_vec, y = u_n_vec, label = r'$u_{num}$',\n",
    "            color = 'g')\n",
    "ax[0].set_xlabel(r'$r/\\mathrm{cm}$')\n",
    "ax[0].set_ylabel(r'$u/(\\mathrm{cm^{-2}~s^{-1}})$')\n",
    "ax[0].legend()\n",
    "\n",
    "ax[1].errorbar(x = r_range_1/unit.cm, y = q_1(r_range_1)/(unit.cm**-2 * unit.second**-1), label = r'$q_{1,n}$',\n",
    "            color = 'k')\n",
    "ax[1].errorbar(x = r_range_2/unit.cm, y = q_2(r_range_2)/(unit.cm**-2 * unit.second**-1), label = r'$q_{2,n}$',\n",
    "            color = 'r')\n",
    "ax[1].errorbar(x = x_vec, y = q_n_vec, label = r'$q_{num,n}$',\n",
    "            color = 'g')\n",
    "ax[1].set_xlabel(r'$r/\\mathrm{cm}$')\n",
    "ax[1].set_ylabel(r'$q_n/(\\mathrm{cm^{-2}~s^{-1}})$')\n",
    "ax[1].legend()\n",
    "\n",
    "\n",
    "# plt.savefig('./pics/uq_numer_analyt_compare.png')"
   ]
  },
  {
   "cell_type": "markdown",
   "metadata": {},
   "source": [
    "## [Conclusions](#toc)<a id=\"conclusions\"></a>"
   ]
  },
  {
   "cell_type": "markdown",
   "metadata": {},
   "source": [
    "- Text..."
   ]
  },
  {
   "cell_type": "markdown",
   "metadata": {},
   "source": [
    "## [References](#toc)<a id=\"refs\"></a>\n",
    "\n",
    "- [1] V. F. de Almeida, [*Engy-5330: Computational Continuum Transport Phenomena*](https://github.com/dpploy/engy-5310), University of Massachusetts Lowell, Dept. of Chemical Engineering (Nuclear Energy Program).\n",
    "- [1] V. F. de Almeida, [*Engy-5050: Nuclear Reactor Physics: Neutron Diffusion from a Point Source*](https://nbviewer.org/github/dpploy/engy-5050/blob/main/notebooks/03-diff-point-source.ipynb), University of Massachusetts Lowell, Dept. of Chemical Engineering (Nuclear Energy Program).\n",
    "- [2] Multiphysics Object-Oriented Simulation Environment [(MOOSE)](https://mooseframework.org)\n",
    "- [3] author, [reference]()\n",
    "- [4] author, [reference]()"
   ]
  },
  {
   "cell_type": "code",
   "execution_count": null,
   "metadata": {},
   "outputs": [],
   "source": []
  }
 ],
 "metadata": {
  "kernelspec": {
   "display_name": "Python 3 (ipykernel)",
   "language": "python",
   "name": "python3"
  },
  "language_info": {
   "codemirror_mode": {
    "name": "ipython",
    "version": 3
   },
   "file_extension": ".py",
   "mimetype": "text/x-python",
   "name": "python",
   "nbconvert_exporter": "python",
   "pygments_lexer": "ipython3",
   "version": "3.12.5"
  },
  "latex_envs": {
   "LaTeX_envs_menu_present": true,
   "autoclose": false,
   "autocomplete": true,
   "bibliofile": "biblio.bib",
   "cite_by": "apalike",
   "current_citInitial": 1,
   "eqLabelWithNumbers": true,
   "eqNumInitial": 1,
   "hotkeys": {
    "equation": "Ctrl-E",
    "itemize": "Ctrl-I"
   },
   "labels_anchors": false,
   "latex_user_defs": false,
   "report_style_numbering": false,
   "user_envs_cfg": false
  }
 },
 "nbformat": 4,
 "nbformat_minor": 4
}
