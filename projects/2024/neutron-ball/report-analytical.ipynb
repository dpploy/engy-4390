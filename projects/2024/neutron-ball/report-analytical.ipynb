{
 "cells": [
  {
   "cell_type": "markdown",
   "metadata": {},
   "source": [
    "**ENGY-4390** Nuclear Systems Design and Analysis, UMass Lowell, Chem. Eng. Nuclear Program Fall 2024; Prof. V. F. de Almeida\n",
    "\n",
    "# Neutron Diffusion on a Spherical Domain\n",
    "$  \n",
    "  \\newcommand{\\Amtrx}{\\boldsymbol{\\mathsf{A}}}\n",
    "  \\newcommand{\\Bmtrx}{\\boldsymbol{\\mathsf{B}}}\n",
    "  \\newcommand{\\Mmtrx}{\\boldsymbol{\\mathsf{M}}}\n",
    "  \\newcommand{\\Imtrx}{\\boldsymbol{\\mathsf{I}}}\n",
    "  \\newcommand{\\Pmtrx}{\\boldsymbol{\\mathsf{P}}}\n",
    "  \\newcommand{\\Lmtrx}{\\boldsymbol{\\mathsf{L}}}\n",
    "  \\newcommand{\\Umtrx}{\\boldsymbol{\\mathsf{U}}}\n",
    "  \\newcommand{\\Smtrx}{\\boldsymbol{\\mathsf{S}}}\n",
    "  \\newcommand{\\xvec}{\\boldsymbol{\\mathsf{x}}}\n",
    "  \\newcommand{\\avec}{\\boldsymbol{\\mathsf{a}}}\n",
    "  \\newcommand{\\bvec}{\\boldsymbol{\\mathsf{b}}}\n",
    "  \\newcommand{\\cvec}{\\boldsymbol{\\mathsf{c}}}\n",
    "  \\newcommand{\\rvec}{\\boldsymbol{\\mathsf{r}}}\n",
    "  \\newcommand{\\fvec}{\\boldsymbol{\\mathsf{f}}}\n",
    "  \\newcommand{\\mvec}{\\boldsymbol{\\mathsf{m}}}\n",
    "  \\newcommand{\\gvec}{\\boldsymbol{\\mathsf{g}}}\n",
    "  \\newcommand{\\zerovec}{\\boldsymbol{\\mathsf{0}}}\n",
    "  \\newcommand{\\norm}[1]{\\bigl\\lVert{#1}\\bigr\\rVert}\n",
    "  \\newcommand{\\transpose}[1]{{#1}^\\top}\n",
    "  \\DeclareMathOperator{\\rank}{rank}\n",
    "  \\newcommand{\\Reals}{\\mathbb{R}}\n",
    "  \\newcommand{\\thetavec}{\\boldsymbol{\\theta}}\n",
    "  \\newcommand{\\normal}{\\boldsymbol{n}}\n",
    "  \\newcommand{\\flux}{\\boldsymbol{q}}\n",
    "  \\newcommand{\\ihat}{\\hat{\\boldsymbol{i}}}\n",
    "  \\newcommand{\\rhat}{\\hat{\\boldsymbol{r}}}\n",
    "$"
   ]
  },
  {
   "cell_type": "markdown",
   "metadata": {},
   "source": [
    "**Student: Melanie Breeze**  <br>\n",
    "**Course:** ENGY-4390 Nuclear Systems Design and Analysis  <br>\n",
    "**Advisor and Collaborator: Valmor F. de Almeida** \n",
    "\n",
    "UMass Lowell, Dept. of Chemical Engineering, Nuclear Energy Program \n",
    "<br>\n",
    "**07Oct2024**"
   ]
  },
  {
   "cell_type": "markdown",
   "metadata": {},
   "source": [
    "---\n",
    "## Table of Contents<a id=\"toc\"></a>\n",
    "* [Introduction](#intro)\n",
    "* [Problem Statement](#problem)\n",
    "* [Objectives](#obj)\n",
    "* [Approach](#app)\n",
    "  + [Analytical Solution](#analyticalsol)\n",
    "  + [Weak Form of Problem Statement](#weakform)\n",
    "  + [MOOSE Kernels](#kernels)\n",
    "  + [Setup](#setup)\n",
    "    - [One-Group Energy](#onegroupenergy)\n",
    "* [Results and Analysis](#ranalysis)\n",
    "* [Conclusions](#conclusions)\n",
    "* [References](#refs)\n",
    "---"
   ]
  },
  {
   "cell_type": "markdown",
   "metadata": {},
   "source": [
    "## Introduction"
   ]
  },
  {
   "cell_type": "markdown",
   "metadata": {},
   "source": [
    "Neutron diffusion from a spherical source is a classical problem in neutron transport. This project investigates the solution of the source problem using 3 different approaches, namely the analyical solution, the finite element method using a Python implementation from the Engy-5330 course, and the MOOSE finite element framework."
   ]
  },
  {
   "cell_type": "markdown",
   "metadata": {},
   "source": [
    "### [Summary of Parameters](#toc)<a id=\"parameters\"></a>\n",
    "\n",
    "This needs to be revised.\n",
    "\n",
    "$$\n",
    "\\begin{aligned}\n",
    "& \\text {Table 1. Parameter summary}\\\\\n",
    "&\\begin{array}{l|c|r}\n",
    "\\hline \\hline \\text { Parameter } & \\text { Definition } & \\text { Units } \\\\\n",
    "\\hline\n",
    "r & \\text{Radius} & \\mathrm{m} \\\\\n",
    "R & \\text{Outer radius of region 1} & \\mathrm{m} \\\\\n",
    "R_\\infty & \\text{Outer radius of region 2} & \\mathrm{m} \\\\\n",
    "D & \\text{Diffusion coefficient} & \\mathrm{m} \\\\\n",
    "\\Sigma_\\mathrm{a} & \\text{Macroscopic cross section} & \\mathrm{m^{-1}} \\\\\n",
    "L & \\text{Length term, } L = \\sqrt{D/\\Sigma_\\mathrm{a}} & \\mathrm{m} \\\\\n",
    "u & \\text{Neutron velocity} & \\mathrm{s^{-1}~m^{-2}} \\\\\n",
    "q & \\text{Neutron normal flux} & \\mathrm{m~s^{-1}} \\\\\n",
    "s_0 & \\text{Source term}& \\mathrm{m^3~s^{-1}} \\\\\n",
    "c & \\text{Constants of integration} & \\mathrm{m^{-1}~s^{-1}} \\\\\n",
    "A & \\text{Surface area} & \\mathrm{m^2} \\\\\n",
    "V & \\text{Volume} & \\mathrm{m^3} \\\\\n",
    "\\hline\n",
    "\\end{array}\n",
    "\\end{aligned}\n",
    "$$\n",
    "\n"
   ]
  },
  {
   "cell_type": "markdown",
   "metadata": {},
   "source": [
    "## Objectives\n",
    "\n",
    " + Solve the 1-D, spherical coordinates, neutron diffusion from a point source problem using two regions.\n",
    "   - Region 1 is the point source (a finite but very small radius)\n",
    "   - Region 2 is the universe around the source (finite but very large to represent a boundless region)\n",
    "\n",
    "This is old and needs revision\n",
    "1. Gather Cross Section Data to provide study parameters\n",
    "2. Set up two analytical solutions\n",
    "    - Set up the non-asymptotic analytic solution __complete__  \n",
    "    - Set up the asymptotic analytic solution with transient __almost complete__  \n",
    "3. Code a MOOSE application to solve the neutron diffusion [problem](#strongform) using Galerkin's method with finite element basis functions\n",
    "    - Set up spherical coordinate system: __complete__\n",
    "    - Identify best test functions for problem domain: __unknown__  \n",
    "    - \"Absorption\" term $\\Sigma_{tot}\\Phi $ is causing strong oscillations when included __unknown__  \n",
    "    "
   ]
  },
  {
   "cell_type": "markdown",
   "metadata": {},
   "source": [
    "## [Boundary-Value Problem Statement](#toc)<a id=\"p1\"></a>\n",
    "\n",
    "Solve the heterogeneous spatial neutron flux magnitude diffusion problem. Find $u_1:[0,R]\\subset\\Reals\\rightarrow\\Reals$, $u_2:[R,R_\\infty]\\subset\\Reals\\rightarrow\\Reals$\n",
    "such that:\n",
    "\n",
    "\\begin{align*}\n",
    " -\\frac{1}{r^2}\\bigl(-D_1\\, r^2 u_1'\\bigr)'(r) - \\Sigma_{a,1}\\,u_1(r) + s_0^{(1)} &= 0 \\quad\\quad \\forall \\quad\\quad r\\in\\ ]0,R[, \\\\\n",
    " -\\frac{1}{r^2}\\bigl(-D_2\\, r^2 u_2'\\bigr)'(r) - \\Sigma_{a,2}\\,u_2(r) + s_0^{(2)} &= 0 \\quad\\quad \\forall \\quad\\quad r\\in\\ ]R,R_\\infty[, \\\\\n",
    " q_{1,n}(0) &= 0, \\\\\n",
    " q_{2,n}(\\infty) &= q_{2,n\\infty}, \\\\\n",
    " u_1(R) &= u_2(R), \\\\\n",
    " q_{1,n}(R) &= q_{2,n}(R), \\\\\n",
    "\\end{align*}\n",
    "   \n",
    "Given data: diffusion coefficients, $D$, macroscopic absorption cross sections, $\\Sigma_a$, source $s_0$, boundary conditions of normal flux, and continuity conditions at the interfaces (both normal flux and solution). Where $q_{i,n}(r) = \\flux_{i}(r)\\cdot\\normal(r) = -D_i\\,u_i'(r)\\,\\rhat \\cdot \\normal(r) \\ \\forall \\ i=1,2$."
   ]
  },
  {
   "cell_type": "markdown",
   "metadata": {},
   "source": [
    "\\begin{align*}\n",
    "-\\frac{D_i}{r^2} \\left(r^2 u_i^\\prime\\right)^\\prime - \\Sigma_{a,i}u_i + s_{0,i} = 0 \\\\\n",
    "\\frac{1}{r}\\left(r^2 u_i^\\prime\\right)^\\prime -r\\frac{\\Sigma_{a,i}u_i}{D_i} = - r\\frac{s_{0,i}}{D_i}\n",
    "\\end{align*}\n",
    "\n",
    "And because the solution to\n",
    "\\begin{align*}\n",
    "y^{\\prime\\prime} + a y^\\prime + by = R\\left( x \\right)\n",
    "\\end{align*}\n",
    "is\n",
    "\\begin{align*}\n",
    "y=c_1 e^{m_1x}+c_2 e^{m_2 x} + \\frac{e^{m_1x}}{m_1-m_2} \\int R\\left(x\\right) e^{-m_1x} \\mathrm{dx} + \\frac{e^{m_2x}}{m_2-m_1} \\int R\\left(x\\right) e^{-m_2x} \\mathrm{dx}\n",
    "\\end{align*}\n",
    "Where $a$ and $b$ are constants, and $m_1$ and $m_2$ are the real and distinct solutions to $m^2+am+b=0$.\n",
    "\n",
    "\n",
    "Thus, for $w=ru_i$, $a=0$, $b=-\\frac{\\Sigma_{a,i}}{D_i}$, and $R=- r\\frac{s_{0,i}}{D_i}$:\n",
    "\n",
    "\\begin{align*}\n",
    "m^2 + 0m + \\frac{\\Sigma_{a,i}}{D_i} = 0 \\\\ \n",
    "m = \\pm \\sqrt{\\frac{\\Sigma_{a,i}}{D_i}} = \\pm \\frac{1}{L_i} \\\\\n",
    "m_1 = \\frac{1}{L_i},\\, m_2 = -\\frac{1}{L_i}\n",
    "\\end{align*}\n",
    "\n",
    "\\begin{align*}\n",
    "w=ru_i=c_1 e^{r/L_i}+c_2 e^{-r/L_i} + \\frac{e^{r/L_i}}{L_i^{-1}-(-L_i^{-1})} \\int - \\frac{s_{0,i}r}{D_i} e^{-r/L_i} \\mathrm{dr} + \\frac{e^{-r/L_i}}{-L_i^{-1}-L_i^{-1}} \\int - \\frac{s_{0,i}r}{D_i} e^{r/L_i} \\mathrm{dr}\n",
    "\\\\\n",
    "u_i=c_1 \\frac{e^{r/L_i}}{r}+c_2 \\frac{e^{-r/L_i}}{r} - \\frac{s_{0,i}L_ie^{L_i^{-1}r}}{2rD_i} \\int r e^{-r/L_i} \\mathrm{dr} +\\frac{s_{0,i}e^{-r/L_i}}{2rD_i} \\int r e^{r/L_i} \\mathrm{dr}\n",
    "\\end{align*}\n"
   ]
  },
  {
   "cell_type": "markdown",
   "metadata": {},
   "source": [
    "#### And, finally:\n",
    "\\begin{align*}\n",
    "u_i=c_1 \\frac{e^{r/L_i}}{r}+c_2 \\frac{e^{-r/L_i}}{r} + \\frac{L_i^2 s_{0,i}}{D_i}\n",
    "\\end{align*}\n",
    "And\n",
    "\\begin{align*}\n",
    "u_i^\\prime=c_1 e^{r/L_i}\\left( \\frac{1}{L_ir} - \\frac{1}{r^2} \\right)    -c_2 e^{-r/L_i}\\left( \\frac{1}{L_ir} + \\frac{1}{r^2} \\right)\n",
    "\\end{align*}\n"
   ]
  },
  {
   "cell_type": "markdown",
   "metadata": {},
   "source": [
    "## Boundary conditions\n",
    "### For $u_1$\n",
    "\n",
    "Then, taking the boundary condition $q_{n,1} = \\left. -D_1u_1^{\\prime} \\right|_{r=0} =0 \\to \\left. u_1^{\\prime} \\right|_{r=0} = 0$,\n",
    "\n",
    "\\begin{align*}\n",
    "\\left. u_1^\\prime \\right|_{r=0} = 0 =c_1 e^{r/L_i}\\left( \\frac{1}{Lr} - \\frac{1}{r^2} \\right)    -c_2 e^{r/L_i}\\left( \\frac{1}{Lr} + \\frac{1}{r^2} \\right)\n",
    "\\end{align*}\n",
    "\\begin{align*}\n",
    "\\left. \\left[ c_1 e^{r/L_i}\\left( \\frac{r^2}{L_1} - r \\right)    -c_2 e^{r/L_i}\\left( \\frac{r^2}{L_1} + r \\right) \\right]\\right|_{r=0} =  0\n",
    "\\end{align*}\n",
    "\n",
    "From here, we can see that $c_1 = -c_2$. Replacing $c_2$ with $-c_1$ leads to:\n",
    "\n",
    "\\begin{align*}\n",
    "u_1^\\prime = c_1 \\left[ e^{r/L_1}\\left( \\frac{1}{Lr} - \\frac{1}{r^2} \\right) + e^{-r/L_1}\\left( \\frac{1}{Lr} + \\frac{1}{r^2} \\right) \\right]\n",
    "\\end{align*}\n",
    "And\n",
    "\\begin{align*}\n",
    "u_1=\\frac{c_1}{r} \\left( e^{r/L_1} - e^{-r/L_1} \\right) + \\frac{L_1^2 s_{0,1}}{D_1}\n",
    "\\end{align*}\n",
    "\n",
    "### For $u_2$\n",
    "Taking the boundary condition $q_{2,n}(\\infty) = q_{2,n,\\infty} = \\left.-D_2 u_2^\\prime\\right|_{r=\\infty}$\n",
    "\n",
    "\n",
    "\\begin{align*}\n",
    "\\frac{q_{2,n}}{-D_2}= c_3 e^{r/L_2}\\left( \\frac{1}{L_2r} - \\frac{1}{r^2} \\right) -c_4 e^{-r/L_2}\\left( \\frac{1}{L_2r} + \\frac{1}{r^2} \\right) \\\\\n",
    "\\frac{q_{2,n}}{-D_2} re^{-r/L_2} =c_3 \\left( \\frac{1}{L_2} - \\frac{1}{r} \\right) -c_4 e^{-2r/L_2}\\left( \\frac{1}{L_2} + \\frac{1}{r} \\right)\n",
    "\\end{align*}\n",
    "\n",
    "Then, taking the limit on the left side and invoking L'Hôpital's rule:\n",
    "\\begin{align*}\n",
    "\\lim_{r \\to \\infty}\\frac{q_{2,n}}{-D_2} re^{-r/L_2} = \\frac{q_{2,n,\\infty}}{-D_2} \\lim_{r \\to \\infty} \\left( -L_2 e^{-r/L_2} \\right) = 0\n",
    "\\end{align*}\n",
    "\\begin{align*}\n",
    "0 = \\lim_{r \\to \\infty} \\left( c_3 \\left( \\frac{1}{L_2} - \\frac{1}{r} \\right) -c_4 e^{-2r/L_2}\\left( \\frac{1}{L_2} + \\frac{1}{r} \\right) \\right) = \\frac{c_3}{L_2} = 0\n",
    "\\end{align*}\n",
    "\n",
    "From the result of $c_3 = 0$, and renaming $c_4$ to $c_2$, we can finally make:\n",
    "\n",
    "\\begin{align*}\n",
    "u_2=c_2 \\frac{e^{-r/L_2}}{r} \\tag{1}\n",
    "\\end{align*}\n",
    "\n",
    "And\n",
    "\\begin{align*}\n",
    "u_2^\\prime= -c_2 e^{-r/L_2}\\left( \\frac{1}{L_2r} + \\frac{1}{r^2} \\right)  \n",
    "\\end{align*}"
   ]
  },
  {
   "cell_type": "markdown",
   "metadata": {},
   "source": [
    "Boundary conditions\n",
    "\n",
    "Because of the boundary condition $q_{1,n}(R) = q_{2,n}(R)$, this means that $\\left. D_1u_1^\\prime \\right|_R = \\left. D_2u_2^\\prime \\right|_R$.\n",
    "\n",
    "From this, we can construct the following equations:\n",
    "\n",
    "\\begin{align}\n",
    "\\frac{c_1}{R}  \\left( e^{R/L_1}-e^{- R/L_1} \\right) + \\frac{L_1^2s_{0,1}}{D_1} = c_2 \\frac{e^{R/L_2}}{R} + \\frac{L_2^2s_{0,2}}{D_2}  \\\\\n",
    "\\to \\\\\n",
    "c_1  \\left( e^{R/L_1}-e^{- R/L_1} \\right) - c_2 e^{R/L_2} = R\\left( \\frac{L_2^2s_{0,2}}{D_2} - \\frac{L_1^2s_{0,1}}{D_1} \\right)\n",
    "\\end{align}\n",
    "\n",
    "\n",
    "\n",
    "And \n",
    "\n",
    "\\begin{align}\n",
    "c_1 D_1 \\left[ e^{R/L_1}\\left( \\frac{1}{L_1R} - \\frac{1}{R^2} \\right) + e^{-R/L_1}\\left( \\frac{1}{L_1R} + \\frac{1}{R^2} \\right) \\right] - c_2 D_2 e^{R/L_2}\\left( \\frac{1}{L_2R} - \\frac{1}{R^2} \\right)  = 0 \\\\\n",
    "c_1 D_1 \\left[ e^{R/L_1}\\left( L_1^{-1} - R^{-1} \\right) + e^{-R/L_1}\\left( L_1^{-1} + R^{-1} \\right) \\right] + c_2 D_2 e^{R/L_2}\\left( L_2^{-1} - R^{-1} \\right)  = 0\n",
    "\\end{align}"
   ]
  },
  {
   "cell_type": "markdown",
   "metadata": {},
   "source": [
    "$$\n",
    "\\begin{bmatrix}\n",
    "\\left( e^{R/L_1}-e^{- R/L_1} \\right) & - e^{R/L_2} \\\\\n",
    "D_1 \\left[ e^{R/L_1}\\left( L_1^{-1} - R^{-1} \\right) + e^{-R/L_1}\\left( L_1^{-1} + R^{-1} \\right) \\right] & D_2 e^{R/L_2}\\left( L_2^{-1} - R^{-1} \\right)\n",
    "\\end{bmatrix}\n",
    "\\begin{bmatrix}\n",
    " c_1 \\\\\n",
    " c_3\n",
    "\\end{bmatrix}\n",
    "=\n",
    "\\begin{bmatrix}\n",
    " R\\left( \\frac{L_2^2s_{0,2}}{D_2} - \\frac{L_1^2s_{0,1}}{D_1} \\right) \\\\\n",
    " 0\n",
    "\\end{bmatrix}\\tag{3-3}\n",
    "$$\n",
    "\n",
    "\\begin{align}\n",
    "\\bf{A} \\bf{c} = \\bf{y} \\\\\n",
    "\\bf{c} = \\bf{A}^{-1} \\bf{y}\n",
    "\\end{align}"
   ]
  },
  {
   "cell_type": "markdown",
   "metadata": {},
   "source": [
    "## [Alternative Boundary-Value Problem Statement](#toc)<a id=\"p2\"></a>\n",
    "\n",
    "Solve the equivalent heterogeneous spatial neutron flux magnitude diffusion problem. Find $u:[0,R_\\infty]\\subset\\Reals\\rightarrow\\Reals$ such that:\n",
    "\n",
    "\\begin{align*}\n",
    " -\\frac{1}{r^2}\\bigl(-D(r)\\, r^2 u'\\bigr)'(r) - \\Sigma_a(r)\\,u(r) + s_0(r) &= 0 \\quad\\quad \\forall \\quad\\quad r\\in\\ ]0,R_\\infty[, \\\\\n",
    " q_n(0) &= 0, \\\\\n",
    " q_n(R_\\infty) &= q_{nR_\\infty}, \\\\\n",
    "\\end{align*}\n",
    "   \n",
    "Given data: diffusion coefficient, $D(r)$, macroscopic absorption cross section, $\\Sigma_a(r)$, source $s_0(r)$, and normal flux boundary conditions. Where $q_n(r) = \\flux(r)\\cdot\\normal(r) = -D(r)\\,u_i'(r)\\,\\rhat \\cdot \\normal(r)$."
   ]
  },
  {
   "cell_type": "markdown",
   "metadata": {},
   "source": [
    "## [\"Point Source in an Infinite Domain\"](#toc)<a id=\"inf-case\"></a>\n",
    "\n",
    "Consider an inner sphere source with a very small radius surrounded by annular region with a large radius. This scenario mimics the ideal point source case in an infinite domain. We cannot have a real infinite domain in a simulation, therefore a large outer radius will do it."
   ]
  },
  {
   "cell_type": "code",
   "execution_count": 1,
   "metadata": {},
   "outputs": [],
   "source": [
    "'''SI units'''\n",
    "from scipy import constants as unit\n",
    "unit.second = 1.0\n",
    "unit.meter = 1.0\n",
    "unit.cm = unit.centi*unit.meter\n",
    "unit.mm = unit.milli*unit.meter\n",
    "unit.um = unit.micro*unit.meter"
   ]
  },
  {
   "cell_type": "code",
   "execution_count": 2,
   "metadata": {},
   "outputs": [],
   "source": [
    "'''Domain'''\n",
    "r_0 = 0*unit.cm \n",
    "r_R = 1*unit.cm\n",
    "r_oo = 25*unit.cm  # infinity"
   ]
  },
  {
   "cell_type": "code",
   "execution_count": 3,
   "metadata": {},
   "outputs": [],
   "source": [
    "'''Domain'''\n",
    "def show_domain(r_R, r_oo):\n",
    "    import pyvista as pv\n",
    "    pv.set_plot_theme('paraview')\n",
    "\n",
    "    radius_i = r_R\n",
    "    radius_o = r_oo\n",
    "    outer = pv.Sphere(center=(0,0,0), direction=(0,0,1), radius=radius_o)\n",
    "    inner = pv.Sphere(center=(0,0,0), direction=(0,0,1), radius=radius_i)\n",
    "\n",
    "    plo = pv.Plotter(notebook=True, shape=(1,1), off_screen=True) \n",
    "    plo.subplot(0,0)\n",
    "    plo.add_mesh(outer, color='yellow', opacity=0.59,)\n",
    "    plo.add_mesh(inner, color='red', opacity=1)\n",
    "    plo.add_axes(xlabel='R', ylabel='Theta', zlabel='Phi')\n",
    "    plo.screenshot('domain.png', window_size=(1000,400))\n",
    "    plo.camera.zoom(1.8)\n",
    "    cpos = plo.show(window_size=(1000, 400), auto_close=False)\n",
    "    return plo"
   ]
  },
  {
   "cell_type": "code",
   "execution_count": 4,
   "metadata": {},
   "outputs": [],
   "source": [
    "#plo = show_domain(r_R, r_oo)"
   ]
  },
  {
   "cell_type": "code",
   "execution_count": 5,
   "metadata": {},
   "outputs": [],
   "source": [
    "# import matplotlib.pyplot as plt\n",
    "# plt.figure(1, figsize=(100, 10))\n",
    "# plt.imshow(plo.image)\n",
    "# plt.show()"
   ]
  },
  {
   "cell_type": "markdown",
   "metadata": {},
   "source": [
    "### [Data](#toc)<a id=\"data-sym\"></a>\n",
    "\n",
    "Solve problem with parameter values:\n",
    "\n",
    "> + a, b, s\n",
    "> + $D_1$, $\\Sigma_{a1}$, $s_{01}$\n",
    "> + $D_2$, $\\Sigma_{a2}$, $s_{02}$\n",
    "> + $q_{nR_\\infty}$"
   ]
  },
  {
   "cell_type": "markdown",
   "metadata": {},
   "source": [
    "### [Analytic Solution](#toc)<a id=\"analyticalsol\"></a> \n",
    "\n",
    "Analytical solution goes here..."
   ]
  },
  {
   "cell_type": "code",
   "execution_count": 6,
   "metadata": {},
   "outputs": [],
   "source": [
    "'''Gathering variables'''\n",
    "import math\n",
    "import numpy as np\n",
    "from scipy import constants as unit\n",
    "\n",
    "# Source\n",
    "diffusion_coeff_1 = 1.5*unit.cm\n",
    "sigma_a_1 = 0.005/unit.cm\n",
    "source_1_dot = 1/unit.second\n",
    "volume = 4/3*math.pi*(r_R)**3\n",
    "source_1 = source_1_dot/volume\n",
    "l_1 = (diffusion_coeff_1/sigma_a_1)**0.5\n",
    "\n",
    "# Right side material\n",
    "diffusion_coeff_2 = 1.0*unit.cm\n",
    "sigma_a_2 = 0.01/unit.cm\n",
    "source_2 = 0./unit.cm**3/unit.second\n",
    "l_2 = (diffusion_coeff_1/sigma_a_1)**0.5\n",
    "\n",
    "# normal flux\n",
    "q_noo = 0.0*unit.cm**2/unit.second"
   ]
  },
  {
   "cell_type": "code",
   "execution_count": 7,
   "metadata": {},
   "outputs": [],
   "source": [
    "'''Matrix solution'''\n",
    "\n",
    "#units for all: [-]\n",
    "a_11 = np.e**(r_R/l_1)-np.e**(- r_R/l_1) \n",
    "a_12 = -np.e**(-r_R/l_2)\n",
    "a_21 = diffusion_coeff_1 * (  np.e**(r_R/l_1) * ( 1/l_1 - 1/r_R)  + np.e**(-r_R/l_1) * ( 1/l_1 + 1/r_R) )\n",
    "a_22 = diffusion_coeff_2 * (1/l_2 - 1/r_R) * np.e**(-r_R/l_2)\n",
    "\n",
    "mtrx_a = np.array([[a_11,a_12],\n",
    "              [a_21,a_22]])\n",
    "\n",
    "#units: [ s^{-1} * cm^{-2}]\n",
    "y_1 = source_1*l_1**2/diffusion_coeff_1\n",
    "y_2 = source_2*l_2**2/diffusion_coeff_2\n",
    "\n",
    "rightside = r_R* (y_2 - y_1)\n",
    "vec_y = np.array([rightside,0])\n",
    "\n",
    "from scipy.linalg import solve\n",
    "[c_1,c_2] = solve(mtrx_a,vec_y) #units: [m^2~s^{-1}]\n",
    "\n",
    "# print(c_2/(unit.second**-1 * unit.cm**-1))"
   ]
  },
  {
   "cell_type": "code",
   "execution_count": 8,
   "metadata": {},
   "outputs": [
    {
     "data": {
      "text/plain": [
       "0.477464829275686"
      ]
     },
     "execution_count": 8,
     "metadata": {},
     "output_type": "execute_result"
    }
   ],
   "source": [
    "y_1/(unit.second**-1 * unit.cm**-3)"
   ]
  },
  {
   "cell_type": "code",
   "execution_count": 9,
   "metadata": {},
   "outputs": [],
   "source": [
    "'''Functions'''\n",
    "def u_1(r):\n",
    "    '''Values of u_1 over distance r'''\n",
    "    return c_1* (np.e**(r/l_1)-np.e**(-r/l_1))/r + y_1\n",
    "\n",
    "def u_2(r):\n",
    "    '''Values of u_1 over distance r'''\n",
    "    return c_2* np.e**(-r/l_2) / r + y_2\n",
    "\n",
    "def q_1(r):\n",
    "    '''Flux of region 1 over distance r'''\n",
    "    return c_1* -diffusion_coeff_1 * (  np.e**(r/l_1) * ( (l_1*r)**-1 - r**-2)  + np.e**(-r/l_1) * ( (l_1*r)**-1 + r**-2) )\n",
    "\n",
    "def q_2(r):\n",
    "    '''Flux of region 2 over distance r'''\n",
    "    return c_2* diffusion_coeff_2 *np.e**(-r/l_2) * ( (l_1*r)**-1 + r**-2)"
   ]
  },
  {
   "cell_type": "code",
   "execution_count": 10,
   "metadata": {},
   "outputs": [
    {
     "data": {
      "text/plain": [
       "<matplotlib.legend.Legend at 0x793e8ff4f110>"
      ]
     },
     "execution_count": 10,
     "metadata": {},
     "output_type": "execute_result"
    },
    {
     "data": {
      "image/png": "[encoded data removed]",
      "text/plain": [
       "<Figure size 640x480 with 1 Axes>"
      ]
     },
     "metadata": {},
     "output_type": "display_data"
    }
   ],
   "source": [
    "'''Plotting'''\n",
    "import matplotlib.pyplot as plt\n",
    "\n",
    "r_range_1 = np.linspace(r_0, r_R)[1:]\n",
    "r_range_2 = np.linspace(r_R, r_oo)\n",
    "\n",
    "plt.subplots()\n",
    "plt.errorbar(x = np.log10(r_range_1/unit.cm), y = q_1(r_range_1)/(unit.cm**-2 * unit.second**-1), label = r'$q_{1,n}$',\n",
    "            color = 'k')\n",
    "plt.errorbar(x = np.log10(r_range_2/unit.cm), y = q_2(r_range_2)/(unit.cm**-2 * unit.second**-1), label = r'$q_{2,n}$',\n",
    "            color = 'r')\n",
    "plt.xlabel(r'$\\mathrm{log}_{10}(r/\\mathrm{cm})$')\n",
    "plt.ylabel(r'$q_n/(\\mathrm{cm^{-2}~s^{-1}})$')\n",
    "plt.legend()"
   ]
  },
  {
   "cell_type": "code",
   "execution_count": 19,
   "metadata": {},
   "outputs": [
    {
     "data": {
      "text/plain": [
       "[2, 3, 4]"
      ]
     },
     "execution_count": 19,
     "metadata": {},
     "output_type": "execute_result"
    }
   ],
   "source": []
  },
  {
   "cell_type": "markdown",
   "metadata": {},
   "source": [
    "## [Galerkin Method w/ Finite Element Basis Functions](#toc)<a id=\"p3\"></a>\n",
    "\n",
    "The Galerkin weak formulation is as follows. Find $u \\in H^1\\!\\bigl([0,R_\\infty]\\bigr)$ so that \n",
    "\n",
    "\\begin{align*}\n",
    "\\bigl(-D\\, u',v'\\bigr) - \\bigl(\\Sigma_a\\,u,v\\bigr) + \\bigl(s_0,v\\bigr) + q_n(R_\\infty)\\,v(R_\\infty)\\,R^2_\\infty &= 0 \\quad\\quad \\forall \\quad\\quad v \\in H^1\\!\\bigl([0,R_\\infty]\\bigr), \n",
    "\\end{align*}\n",
    "\n",
    "where $H^1\\!\\bigl([0,R_\\infty]\\bigr) := \\bigl\\{ u:[0,R_\\infty]\\subset\\Reals\\rightarrow \\Reals \\mid \\bigl(u',u'\\bigr) + \\bigl(u,u\\bigr) < \\infty\\bigr\\}$. Because $u$ and $v$ belong to the same space of functions, this variational form is called the Galerkin's variational form. Choosing a finite dimensional subspace of $H^1\\!\\bigl([0,R_\\infty]\\bigr)$, say $V_N([0,R_\\infty]) := \\bigl\\{ u_N = \\sum\\limits_{i=1}^N\\,c_i\\,\\phi_i \\bigr\\} \\subset H^1\\!\\bigl([0,R_\\infty]\\bigr)$, where $\\{\\phi_i\\mid i=1\\ldots,N\\}$ is a basis of $V_N(0,R_\\infty)$, the coefficients $\\cvec := \\{c_i\\mid i=1,\\ldots,N\\}$ can be computed by solving the linear system of algebraic equations\n",
    "\n",
    "\\begin{equation*}\n",
    " \\overset{(N\\times N)}{\\Amtrx}\\,\\overset{(N\\times 1)}{\\cvec} = \\overset{(N\\times 1)}\\bvec ,\n",
    "\\end{equation*}\n",
    "\n",
    "where:\n",
    "  + $A_{i,j} = (D\\,\\phi'_j,\\phi'_i) + (\\Sigma_a\\,\\phi_j,\\phi_i) $\n",
    "  + $b_i = (s_0,\\phi_i) - q_{nR_\\infty}\\,\\phi_i(R_\\infty)\\,R^2_\\infty$\n",
    "  \n",
    "Note: this method is identical to the Rayleigh-Ritz method, therefore the approximate solution  $u_N = \\sum\\limits_{i=1}^N\\,c_i\\,\\phi_i$ is a minimizer of a particular norm (*i.e.* the energy norm). In addition, in spherical coordinates, the inner products read\n",
    "\n",
    "\\begin{align*}\n",
    "\\bigl(-D\\, u',v'\\bigr) &= \\int\\limits_0^{R_\\infty} D(r)\\, u'(r)\\,v'(r)\\, r^2\\,dr  \\\\\n",
    "\\bigl(\\Sigma_a\\,u,v\\bigr) &= \\int\\limits_0^{R_\\infty} \\Sigma_a(r)\\,u(r)\\,v(r)\\,r^2\\,dr \\\\\n",
    "\\bigl(s_0,v\\bigr) &= \\int\\limits_0^{R_\\infty} s_0(r)\\,v(r)\\,r^2\\,dr\n",
    "\\end{align*}"
   ]
  },
  {
   "cell_type": "code",
   "execution_count": null,
   "metadata": {},
   "outputs": [],
   "source": [
    "'''Parameters and data'''\n",
    "import math\n",
    "\n",
    "# Source\n",
    "diffusion_coeff_1 = 1.5*unit.cm\n",
    "sigma_a_1 = 0.005/unit.cm\n",
    "source_1_dot = 1/unit.second\n",
    "volume = 4/3*math.pi*(r_R)**3\n",
    "source_1 = source_1_dot/volume\n",
    "\n",
    "# Right side material\n",
    "diffusion_coeff_2 = 1.0*unit.cm\n",
    "sigma_a_2 = 0.01/unit.cm\n",
    "source_2 = 0./unit.cm**3/unit.second\n",
    "\n",
    "# normal flux\n",
    "q_noo = 0.0*unit.cm**2/unit.second"
   ]
  },
  {
   "cell_type": "markdown",
   "metadata": {},
   "source": [
    "### [MOOSE Kernels](#toc)<a id=\"kernels\"></a>\n",
    "\n",
    "The following MOOSE kernels were implemented to solve the [weak form](#weakform):\n",
    "1. Diffusion term: $D \\nabla \\Phi \\cdot \\nabla \\phi$\n",
    " + [interface](./include/kernels/DiffusionTerm.h) and [implementation](./src/kernels/DiffusionTerm.C)."
   ]
  },
  {
   "cell_type": "markdown",
   "metadata": {},
   "source": [
    "### [Setup](#toc)<a id=\"setup\"></a>"
   ]
  },
  {
   "cell_type": "markdown",
   "metadata": {},
   "source": [
    "#### [One-Group Energy](#toc)<a id=\"onegroupenergy\"></a>"
   ]
  },
  {
   "cell_type": "markdown",
   "metadata": {},
   "source": [
    "## [Results and Analysis](#toc)<a id=\"ranalysis\"></a>"
   ]
  },
  {
   "cell_type": "markdown",
   "metadata": {},
   "source": [
    "- Text..."
   ]
  },
  {
   "cell_type": "markdown",
   "metadata": {},
   "source": [
    "## [Conclusions](#toc)<a id=\"conclusions\"></a>"
   ]
  },
  {
   "cell_type": "markdown",
   "metadata": {},
   "source": [
    "- Text..."
   ]
  },
  {
   "cell_type": "markdown",
   "metadata": {},
   "source": [
    "## [References](#toc)<a id=\"refs\"></a>\n",
    "\n",
    "- [1] V. F. de Almeida, [*Engy-5330: Computational Continuum Transport Phenomena*](https://github.com/dpploy/engy-5310), University of Massachusetts Lowell, Dept. of Chemical Engineering (Nuclear Energy Program).\n",
    "- [1] V. F. de Almeida, [*Engy-5050: Nuclear Reactor Physics: Neutron Diffusion from a Point Source*](https://nbviewer.org/github/dpploy/engy-5050/blob/main/notebooks/03-diff-point-source.ipynb), University of Massachusetts Lowell, Dept. of Chemical Engineering (Nuclear Energy Program).\n",
    "- [2] Multiphysics Object-Oriented Simulation Environment [(MOOSE)](https://mooseframework.org)\n",
    "- [3] author, [reference]()\n",
    "- [4] author, [reference]()"
   ]
  },
  {
   "cell_type": "code",
   "execution_count": null,
   "metadata": {},
   "outputs": [],
   "source": []
  }
 ],
 "metadata": {
  "kernelspec": {
   "display_name": "Python 3 (ipykernel)",
   "language": "python",
   "name": "python3"
  },
  "language_info": {
   "codemirror_mode": {
    "name": "ipython",
    "version": 3
   },
   "file_extension": ".py",
   "mimetype": "text/x-python",
   "name": "python",
   "nbconvert_exporter": "python",
   "pygments_lexer": "ipython3",
   "version": "3.11.5"
  },
  "latex_envs": {
   "LaTeX_envs_menu_present": true,
   "autoclose": false,
   "autocomplete": true,
   "bibliofile": "biblio.bib",
   "cite_by": "apalike",
   "current_citInitial": 1,
   "eqLabelWithNumbers": true,
   "eqNumInitial": 1,
   "hotkeys": {
    "equation": "Ctrl-E",
    "itemize": "Ctrl-I"
   },
   "labels_anchors": false,
   "latex_user_defs": false,
   "report_style_numbering": false,
   "user_envs_cfg": false
  }
 },
 "nbformat": 4,
 "nbformat_minor": 4
}
