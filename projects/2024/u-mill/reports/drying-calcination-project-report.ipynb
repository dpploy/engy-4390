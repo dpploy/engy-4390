{
 "cells": [
  {
   "cell_type": "markdown",
   "id": "f36fcb5c",
   "metadata": {},
   "source": [
    "---\n",
    "## Table of Contents<a id=\"toc\"></a>\n",
    "* [Introduction](#intro)\n",
    "    * [Drying](#dry)\n",
    "    * [Calcination](#calcin)\n",
    "* [Problem Statment](#prob)\n",
    "* [Objectives](#obj)\n",
    "* [Source](#src)\n",
    "* [Tools](#tools)\n",
    "* [Approach and Dynamics Equations](#app)\n",
    "* [Challenges & Course Corrections](#correct)\n",
    "* [Initialization of Solvent Extraction Module](#IPM)\n",
    "* [Startup](#su)\n",
    "* [Steady-State](#ss)\n",
    "* [Disturbance](#malfunction)\n",
    "* [References](#refs)\n",
    "---"
   ]
  },
  {
   "cell_type": "markdown",
   "id": "99c3d36b",
   "metadata": {},
   "source": [
    "## [Introduction](#toc)<a id=\"intro\"></a>"
   ]
  },
  {
   "cell_type": "markdown",
   "id": "261f0c5f",
   "metadata": {},
   "source": [
    "The incoming ammonium diuranate (ADU) slurry produced by precipitation now has to undergo a drying and calcination process at extremely high temperatures. While the centrifuge in the precipitation process drove out most of the water, it needs to be completely evaporated to obtain the final product. The product being fed into the drying and calcination section of the milling process mainly contains ammonium diuranate. This ammonium diuranate undergoes dehydration and oxidation to produce the coveted triuranium octoxide. These processes take place in a multi hearth furnace. A diagram of one of these furnaces can be found in Figure 1.\n",
    "\n",
    "<img src=\"pics/multi-hearth-furnace.jpg\" alt=\"Figure 1: Multi Hearth Furnace\" width=\"500\">\n"
   ]
  },
  {
   "cell_type": "markdown",
   "id": "95f4715d",
   "metadata": {},
   "source": [
    "### [Drying](#toc)<a id=\"dry\"></a>"
   ]
  },
  {
   "cell_type": "markdown",
   "id": "f32e4553",
   "metadata": {},
   "source": [
    "The drying part of this process involves the removal of moisture and volatile components from the ADU slurry. This converts the slurry into a dry powder and drives off ammonia and other impurities that result from the drying. This ensures that the intermediate product is clean and stable.\n",
    "\n",
    "\n",
    "</br>\n",
    "<center>H<sub>2 </sub>O (a) → H<sub>2 </sub>O (v) </center>"
   ]
  },
  {
   "cell_type": "markdown",
   "id": "225136fd",
   "metadata": {},
   "source": [
    "### [Calcination](#toc)<a id=\"calcin\"></a>"
   ]
  },
  {
   "cell_type": "markdown",
   "id": "568ad249",
   "metadata": {},
   "source": [
    "Calcination is the oxidation of the ore concentrate. Calcination happens at extremely high temperatures so this process is able to eliminate water completely and drive off any of the remaining volitile components, but care must be taken not to sinter the product as it can significantly reduce nitric acid solubility, which is critical for some refining processes. The result is the yellowcake powder which is then packaged into drums for shipping."
   ]
  },
  {
   "cell_type": "markdown",
   "id": "27127017",
   "metadata": {},
   "source": [
    "The chemical reaction that occurs during calcination can be summarized as follows.\n",
    "\n",
    "</br>\n",
    "<center>9(NH<sub>4</sub>)(a)<sub>2</sub>U<sub>2</sub>0<sub>7</sub>(a) → 14NH<sub>3</sub>(a) + 15H<sub>2</sub>O(v) + 2N<sub>2</sub>(v) + 6U<sub>3</sub>O<sub>8</sub>(s)</center>"
   ]
  },
  {
   "cell_type": "markdown",
   "id": "e556b1d1",
   "metadata": {},
   "source": []
  },
  {
   "cell_type": "markdown",
   "id": "c0016b55",
   "metadata": {},
   "source": []
  },
  {
   "cell_type": "markdown",
   "id": "44e97ac2",
   "metadata": {},
   "source": [
    "SOURCES\n",
    "hearth dryers: https://patentimages.storage.googleapis.com/94/7d/7c/3c2de05ed45669/US5957064.pdf"
   ]
  },
  {
   "cell_type": "markdown",
   "id": "2aa9943f",
   "metadata": {},
   "source": [
    "### [Problem Statement](#toc)<a id=\"prob\"></a>"
   ]
  },
  {
   "cell_type": "code",
   "execution_count": 4,
   "id": "d6a9f5aa",
   "metadata": {},
   "outputs": [],
   "source": [
    "from cortix import ReactionMechanism"
   ]
  },
  {
   "cell_type": "code",
   "execution_count": 5,
   "id": "a4f39063",
   "metadata": {},
   "outputs": [
    {
     "data": {
      "text/markdown": [
       "5 **Species:** \n",
       " ${\\mathrm{H}_{2}\\mathrm{O}}_\\mathrm{(v)} \\quad  {\\mathrm{N}_{2}}_{\\mathrm{(v)}} \\quad  {\\mathrm{N}\\mathrm{H}_{3}}_{\\mathrm{(v)}} \\quad  {\\mathrm{U}_{3}\\mathrm{O}_{8}}_{\\mathrm{(s)}} \\quad  {[\\mathrm{N}\\mathrm{H}_{4}]_{2}\\mathrm{U}_{2}\\mathrm{O}_{7}}_{\\mathrm{(a)}}$"
      ],
      "text/plain": [
       "<IPython.core.display.Markdown object>"
      ]
     },
     "metadata": {},
     "output_type": "display_data"
    },
    {
     "data": {
      "text/markdown": [
       "1 **Reactions:** \n",
       " \\begin{align*} \n",
       "9.0\\,{[\\mathrm{N}\\mathrm{H}_{4}]_{2}\\mathrm{U}_{2}\\mathrm{O}_{7}}_{\\mathrm{(a)}}\\ &\\longrightarrow \\ 15.0\\,{\\mathrm{H}_{2}\\mathrm{O}}_\\mathrm{(v)}\\ + \\ 2.0\\,{\\mathrm{N}_{2}}_{\\mathrm{(v)}}\\ + \\ 14.0\\,{\\mathrm{N}\\mathrm{H}_{3}}_{\\mathrm{(v)}}\\ + \\ 6.0\\,{\\mathrm{U}_{3}\\mathrm{O}_{8}}_{\\mathrm{(s)}}\\\\ \n",
       "\\end{align*} \n"
      ],
      "text/plain": [
       "<IPython.core.display.Markdown object>"
      ]
     },
     "metadata": {},
     "output_type": "display_data"
    }
   ],
   "source": [
    "rxn_mech = ReactionMechanism(file_name='triuranium-octoxide-production-mechanism.txt', order_species=True)\n",
    "rxn_mech.md_print()"
   ]
  },
  {
   "cell_type": "code",
   "execution_count": 3,
   "id": "ef0346e0-65c1-4bee-ac01-fdb669e07d19",
   "metadata": {},
   "outputs": [
    {
     "name": "stdout",
     "output_type": "stream",
     "text": [
      "Is mass conserved? True\n"
     ]
    }
   ],
   "source": [
    "'''Data Check'''\n",
    "print('Is mass conserved?', rxn_mech.is_mass_conserved())\n",
    "#rxn_mech.rank_analysis(verbose=True, tol=1e-8)\n",
    "#print('S=\\n', rxn_mech.stoic_mtrx)"
   ]
  },
  {
   "cell_type": "markdown",
   "id": "6592cad5",
   "metadata": {},
   "source": [
    "## [Objectives](#toc)<a id=\"obj\"></a>"
   ]
  },
  {
   "cell_type": "markdown",
   "id": "c8b2c136",
   "metadata": {},
   "source": [
    "- Python code will be used to develop a dynamic comprehensive system that accurately represents the evaporation and calcination parts of the milling process as well as their role in simulating a steady state reactor. This involves both mathematical models of the system’s material streams and visual representations of the data on a time dependent basis. \n",
    "- Modules to model evaporation and calcination steps will be developed.\n",
    "- Deliverable content will be prepared using Jupyter notebooks to seamlessly integrate working code with descriptive markdown text.  \n",
    "- A flowsheet based on White Mesa will be developed as the basis for our modules\n",
    "- Pick up where the previous group left off.\n"
   ]
  },
  {
   "cell_type": "markdown",
   "id": "7f062604",
   "metadata": {},
   "source": [
    "## [Tools](#toc)<a id=\"tools\"></a>"
   ]
  },
  {
   "cell_type": "markdown",
   "id": "a048a436",
   "metadata": {},
   "source": []
  },
  {
   "cell_type": "markdown",
   "id": "5d8f185d",
   "metadata": {},
   "source": [
    "## [Approach and Dynamics Equations](#toc)<a id=\"app\"></a>"
   ]
  },
  {
   "cell_type": "markdown",
   "id": "b2a214cd",
   "metadata": {},
   "source": [
    "-  First, a series of mass balances and component balances are made based on the desired input of 1 ton of raw material.\n",
    "- These balances then take into account the chemical kinetics and related rates required in the operation of White Mesa's chemical reactions and fluid flow operations\n",
    "- Once baseline models of each individual process exist, they are then programmed into 5 separate but connected modules within Cortix\n",
    "- Each process will be capable of interacting with the modules connected to it on either end, allowing them to share data such as the incoming and outgoing streams from one process to the next"
   ]
  },
  {
   "cell_type": "markdown",
   "id": "9572208f",
   "metadata": {},
   "source": []
  },
  {
   "cell_type": "markdown",
   "id": "3dfea6c3",
   "metadata": {},
   "source": [
    "## [Challenges & Course Correctons](#toc)<a id=\"correct\"></a>"
   ]
  },
  {
   "cell_type": "markdown",
   "id": "fb456b05",
   "metadata": {},
   "source": [
    "Initially, this section was called Evaporation and Calcination. There were modules defined for evaporation and even a falling film evaporator was proposed fro this process. After further digging, it was determined that the more accurate representation of this step would be Drying and Calcination. Although in the drying section, evaporation of water occurs, \n",
    "This was a major change and it led to a reconstruction of not only this project report, but the source code and usecase. "
   ]
  },
  {
   "cell_type": "markdown",
   "id": "8edf020f",
   "metadata": {},
   "source": [
    "## [Initialization of Process Modules](#toc)<a id=\"IPM\"></a>"
   ]
  },
  {
   "cell_type": "markdown",
   "id": "c2b42557",
   "metadata": {},
   "source": [
    "### [Evaporation/Calcining](#toc)<a id=\"evap\"></a>"
   ]
  },
  {
   "cell_type": "markdown",
   "id": "485c70bb",
   "metadata": {},
   "source": [
    "```python\n",
    "                                              |\n",
    "                                              |  Ammonium Diuranate Feed\n",
    "                                              v\n",
    "                                       ________________       \n",
    "                                      |                |\n",
    "                                      |                |\n",
    "                                      |                |<------ Steam Sparging\n",
    "                                      |     Drying     |\n",
    "                                      |                |\n",
    "                   Off-Gas <----------|                |<------ Resistance Heating (Internal)\n",
    "                                      |                |\n",
    "                                      |----------------|\n",
    "                      Off-Gas <-------|                |<------ Sweeping Gas\n",
    "                                      |                |\n",
    "                                      |   Calcination  |\n",
    "                 Sweeping Gas <-------|                |\n",
    "                   (Disposal)         |                |\n",
    "                                      |________________|<------ Resistance Heating (Internal)\n",
    "                                               |\n",
    "                                               |\n",
    "                                               |\n",
    "                                               v\n",
    "                                        Product (U3O8)\n",
    "```"
   ]
  },
  {
   "cell_type": "markdown",
   "id": "568536d8",
   "metadata": {},
   "source": [
    "__Uranium Drying Overview__\n",
    "\n",
    "The incoming ammonium diuranate slurry produced by precipitation now has to undergo a drying process at extremely high temperatures. While the centrifuge in the precipitation process drove out most of the water, it needs to be completely evaporated to obtain the final product. The product being fed into the drying section of the milling process mainly contains ammonium diuranate, which is dried to produce the coveted triuranium octoxide. The entire drying process can be split up into two stages; drying, which is the thermal removal of water from the ammonium diurante, and calcination, which is the chemical conversion of ammonium diuranate to U3O8. \n",
    "\n",
    "There are two reactions that will happen based off each of the stages. In the drying stage, heat will be applied to the ammonium diurante slurry, evaporating the water and separating the water vapor from the slurry. This equation is given as:\n",
    "\n",
    "\n",
    "During the calcination stage, the slurry is hit with a much greater amount of heat, chemically changing the compostion of the ammonium diuranate to the coveted triuranium octoxide product. This reaction is given as:\n",
    "9(NH4)2U2O7(l)  14NH3 + 15H2O + 2N2 + 6U3O8\n",
    "\n",
    "As a whole, this reaction can be summarized as the following:\n",
    "\n",
    "*Production of Triuranium Octoxide*\n",
    "\n",
    "</br>\n",
    "<center>9(NH<sub>4</sub>)<sub>2</sub>U<sub>2</sub>0<sub>7</sub> → 14NH<sub>3</sub> + 15H<sub>2</sub>O + 2N<sub>2</sub> + 6U<sub>3</sub>O<sub>8</sub></center>\n",
    "\n",
    "__Calcination Process__\n",
    "\n",
    "The second stage of the drying process is known as calcination. In terms of the overall process it will follow a similar basis to that of evaporation, but at a higher temperature. However, there are some distinguishable differences in calcination since the feed is now mostly a pure solid. Calcination involves the heating of solids to a high temperature for the purpose of removing volatile substances, oxidizing a portion of mass, or rendering them friable. Therefore, this stage in the drying process is sometimes considered a process of absolute purification.\n",
    "\n",
    "This stage is not similar to the \"evaporation\" stage because it is a whole different piece of equipment at a much larger temperature. \n",
    "\n",
    "This production happens in large molar quantities, and assuming a 100% conversion rate every 100 kgs of ammonium diuranate will result in 90 kgs of triuranium octoxide. High temperature calcining is practiced producing a greater than 94% U<sub>3</sub>O<sub>8</sub> product having high density [3].\n",
    "\n",
    "Calcination eliminates water completely, and drives off the ammonia, but care must be taken not to sinter the product.\n",
    "\n",
    "Sintering can significantly reduce nitric acid solubility, which is critical for some refining processes. Several types of drying equipment have been used in the calcining process, typically arranged in the series of dryers that succeed the main calciner tank. These include single or multiple hearth dryers, drum dryers, belt dryers, screw dryers and radiant heat dryers. There also becomes the problem of how to dispose of the ammonia used as a \"sweep-gas\" to drive the heat transfer in the calciner. As seen in figure 4, the solution to the produced ammonia is to add a form of fluid bed dryer to the calciner tank to extract the ammonia vapor.\n",
    "\n",
    "__Sizing and Cost__\n",
    "\n",
    "The size of each of the main columns used in this process will prove to be vital to the overall drying module. For evaporation, it was determined that there would be 2 columns used in this process. Each of these columns would be sized at 200m<sup>3</sup>. For calcination, it was determined that 2 MHF units would be utilized. Each of these calciner unites would have an overall volume of 350m<sup>3</sup>.\n",
    "\n",
    "The overall cost of this operation will be strictly based on the main unit operations involved in the process. Thus, it will mainly pertain to the evapotator and calciner columns. For the evaporator tank, it will utilize a stainless steel material to withstand the high temperatures the system is going to be exposed to. Using (x), it is assumed that the cost of each of the 200m<sup>3</sup> falling film evaporator columns using this material will be 28,700 dollars. For the calciner, it will also utilize stainless steel, but will also include an interior refactory brick layer since it will have a low thermal conductivity during the heat reaction. This in turn will not only lead to protection of the stainless steel outer layer, but will also yield greater energy efficiency for the overall heating process. Using (x), each of the MHF calciner units, with a capacity of 350m<sup>3</sup>, will cost 75,370 dollars. \n",
    "\n",
    "In total, the overall drying process will cost approximately 208,140 dollars to construct and design.\n",
    "\n",
    "__Modeling the Module__\n",
    "\n",
    "To model this process, the process needs to remain seperated by the two main stages of drying. Thus, two seperate subsections to this module will be created for both evaporation and calcination.\n",
    "\n",
    "Starting with evaporation, this basis of the model needed some input parameters to work with. The feed mass flowrate was determined to be 5800 kg/min, along with a  set overall volume of 400m<sup>3</sup> (remember there are two tanks). The third and final parameter that will be monitored is the product mass density, which is being feed in at \n",
    "\n",
    "a paramter had to be selected to base the model after that would be able to monitor the amount of flow entering and exiting the tank. This was chosen to be the liquid volume of the evaporator tank, but it came with some conflicts. Being able to differentiate whether the tank was filling, evaporating, or discharging into the next stage was difficult to determine using only this parameter. \n"
   ]
  },
  {
   "cell_type": "code",
   "execution_count": null,
   "id": "b9013b91",
   "metadata": {},
   "outputs": [],
   "source": []
  }
 ],
 "metadata": {
  "kernelspec": {
   "display_name": "Python 3 (ipykernel)",
   "language": "python",
   "name": "python3"
  },
  "language_info": {
   "codemirror_mode": {
    "name": "ipython",
    "version": 3
   },
   "file_extension": ".py",
   "mimetype": "text/x-python",
   "name": "python",
   "nbconvert_exporter": "python",
   "pygments_lexer": "ipython3",
   "version": "3.11.5"
  }
 },
 "nbformat": 4,
 "nbformat_minor": 5
}
