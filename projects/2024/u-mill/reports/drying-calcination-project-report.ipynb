{
 "cells": [
  {
   "cell_type": "markdown",
   "id": "f36fcb5c",
   "metadata": {},
   "source": [
    "---\n",
    "## Table of Contents<a id=\"toc\"></a>\n",
    "* [Introduction](#intro)\n",
    "    * [Drying](#dry)\n",
    "    * [Calcination](#calcin)\n",
    "    * [Equipment](#equip)\n",
    "    * [Spray Dryer](#dryer)\n",
    "    * [Multi Hearth Furnace](#furn)\n",
    "* [Problem Statment](#prob)\n",
    "* [Objectives](#obj)\n",
    "* [Source Code](#src)\n",
    "* [Tools](#tools)\n",
    "* [Approach and Dynamics Equations](#app)\n",
    "* [Challenges & Course Corrections](#ccc)\n",
    "* [Initialization of Drying/Calcination Module](#init)\n",
    "* [References](#refs)\n",
    "---"
   ]
  },
  {
   "cell_type": "markdown",
   "id": "99c3d36b",
   "metadata": {},
   "source": [
    "## [Introduction](#toc)<a id=\"intro\"></a>"
   ]
  },
  {
   "cell_type": "markdown",
   "id": "261f0c5f",
   "metadata": {},
   "source": [
    "The incoming ammonium diuranate (ADU) slurry produced by precipitation now has to undergo a drying and calcination process at extremely high temperatures. While the centrifuge in the precipitation process drove out most of the water, it needs to be completely evaporated to obtain the final product. The product being fed into the drying and calcination section of the milling process mainly contains ammonium diuranate. This ammonium diuranate undergoes dehydration and oxidation to produce the coveted triuranium octoxide. These processes take place in a multi hearth furnace. A diagram of one of these furnaces can be found in Figure 1.\n",
    "\n",
    "<img src=\"pics/multi-hearth-furnace.jpg\" alt=\"Figure 1: Multi Hearth Furnace\" width=\"500\">\n",
    "<p style=\"text-align:center;\"><b>Figure1: Multi Hearth Furnace</b>\n"
   ]
  },
  {
   "cell_type": "markdown",
   "id": "95f4715d",
   "metadata": {},
   "source": [
    "### [Drying](#toc)<a id=\"dry\"></a>"
   ]
  },
  {
   "cell_type": "markdown",
   "id": "f32e4553",
   "metadata": {},
   "source": [
    "The drying part of this process involves the removal of moisture and volatile components from the ADU slurry. This converts the slurry into a dry powder and drives off ammonia and other impurities that result from the drying. This ensures that the intermediate product is clean and stable."
   ]
  },
  {
   "cell_type": "markdown",
   "id": "225136fd",
   "metadata": {},
   "source": [
    "### [Calcination](#toc)<a id=\"calcin\"></a>"
   ]
  },
  {
   "cell_type": "markdown",
   "id": "568ad249",
   "metadata": {},
   "source": [
    "Calcination is the oxidation of the ore concentrate. Calcination happens at extremely high temperatures so this process is able to eliminate water completely and drive off any of the remaining volitile components, but care must be taken not to sinter the product as it can significantly reduce nitric acid solubility, which is critical for some refining processes. The result is the yellowcake powder which is then packaged into drums for shipping."
   ]
  },
  {
   "cell_type": "markdown",
   "id": "e556b1d1",
   "metadata": {},
   "source": [
    "### [Equipment](#toc)<a id=\"equip\"></a>"
   ]
  },
  {
   "cell_type": "markdown",
   "id": "f34131a4",
   "metadata": {},
   "source": [
    "There are many different kinds of equipment that can be used for drying but the most common is a spray dryer. A diagram of a spray dryer can be found below in Figure 1."
   ]
  },
  {
   "cell_type": "markdown",
   "id": "c0016b55",
   "metadata": {},
   "source": [
    "#### [Spray Dryer](#toc)<a id=\"dryer\"></a>"
   ]
  },
  {
   "cell_type": "markdown",
   "id": "b94b4a17",
   "metadata": {},
   "source": [
    "#### [Multi Hearth Furnace](#toc)<a id=\"furn\"></a>"
   ]
  },
  {
   "cell_type": "markdown",
   "id": "44e97ac2",
   "metadata": {},
   "source": [
    "SOURCES\n",
    "\n",
    "hearth dryers: https://patentimages.storage.googleapis.com/94/7d/7c/3c2de05ed45669/US5957064.pdf\n",
    "spray dryers: https://patentimages.storage.googleapis.com/92/a1/42/4a51dd606c158a/US6656391.pdf"
   ]
  },
  {
   "cell_type": "markdown",
   "id": "2aa9943f",
   "metadata": {},
   "source": [
    "## [Problem Statement](#toc)<a id=\"prob\"></a>"
   ]
  },
  {
   "cell_type": "markdown",
   "id": "5eb25954",
   "metadata": {},
   "source": [
    "Design a dynamic system that accurately represents the drying and calcination parts of the uranium milling process at White Mesa Uranium Mill. This involves both mathematical models of the system's material streams and visual representations of the data on a time dependent basis."
   ]
  },
  {
   "cell_type": "code",
   "execution_count": 6,
   "id": "d6a9f5aa",
   "metadata": {},
   "outputs": [],
   "source": [
    "from cortix import ReactionMechanism"
   ]
  },
  {
   "cell_type": "code",
   "execution_count": 7,
   "id": "a4f39063",
   "metadata": {},
   "outputs": [
    {
     "data": {
      "text/markdown": [
       "5 **Species:** \n",
       " ${\\mathrm{H}_{2}\\mathrm{O}}_\\mathrm{(v)} \\quad  {\\mathrm{N}_{2}}_{\\mathrm{(v)}} \\quad  {\\mathrm{N}\\mathrm{H}_{3}}_{\\mathrm{(v)}} \\quad  {\\mathrm{U}_{3}\\mathrm{O}_{8}}_{\\mathrm{(s)}} \\quad  {[\\mathrm{N}\\mathrm{H}_{4}]_{2}\\mathrm{U}_{2}\\mathrm{O}_{7}}_{\\mathrm{(a)}}$"
      ],
      "text/plain": [
       "<IPython.core.display.Markdown object>"
      ]
     },
     "metadata": {},
     "output_type": "display_data"
    },
    {
     "data": {
      "text/markdown": [
       "1 **Reactions:** \n",
       " \\begin{align*} \n",
       "9.0\\,{[\\mathrm{N}\\mathrm{H}_{4}]_{2}\\mathrm{U}_{2}\\mathrm{O}_{7}}_{\\mathrm{(a)}}\\ &\\longrightarrow \\ 15.0\\,{\\mathrm{H}_{2}\\mathrm{O}}_\\mathrm{(v)}\\ + \\ 2.0\\,{\\mathrm{N}_{2}}_{\\mathrm{(v)}}\\ + \\ 14.0\\,{\\mathrm{N}\\mathrm{H}_{3}}_{\\mathrm{(v)}}\\ + \\ 6.0\\,{\\mathrm{U}_{3}\\mathrm{O}_{8}}_{\\mathrm{(s)}}\\\\ \n",
       "\\end{align*} \n"
      ],
      "text/plain": [
       "<IPython.core.display.Markdown object>"
      ]
     },
     "metadata": {},
     "output_type": "display_data"
    }
   ],
   "source": [
    "rxn_mech = ReactionMechanism(file_name='triuranium-octoxide-production-mechanism.txt', order_species=True)\n",
    "rxn_mech.md_print()"
   ]
  },
  {
   "cell_type": "code",
   "execution_count": 11,
   "id": "ef0346e0-65c1-4bee-ac01-fdb669e07d19",
   "metadata": {},
   "outputs": [
    {
     "name": "stdout",
     "output_type": "stream",
     "text": [
      "Is mass conserved? True\n"
     ]
    }
   ],
   "source": [
    "'''Data Check'''\n",
    "print('Is mass conserved?', rxn_mech.is_mass_conserved())\n",
    "#rxn_mech.rank_analysis(verbose=True, tol=1e-8)\n",
    "#print('S=\\n', rxn_mech.stoic_mtrx)"
   ]
  },
  {
   "cell_type": "markdown",
   "id": "6592cad5",
   "metadata": {},
   "source": [
    "## [Objectives](#toc)<a id=\"obj\"></a>"
   ]
  },
  {
   "cell_type": "markdown",
   "id": "c8b2c136",
   "metadata": {},
   "source": [
    "- Python code will be used to develop a dynamic comprehensive system that accurately represents the drying and calcination parts of the milling process as well as their role in simulating a steady state reactor. This involves both mathematical models of the system’s material streams and visual representations of the data on a time dependent basis. \n",
    "- Modules to model drying and calcination steps will be developed.\n",
    "- Deliverable content will be prepared using Jupyter notebooks to seamlessly integrate working code with descriptive markdown text.  \n",
    "- A flowsheet based on White Mesa will be developed as the basis for our modules"
   ]
  },
  {
   "cell_type": "markdown",
   "id": "7f062604",
   "metadata": {},
   "source": [
    "## [Tools](#toc)<a id=\"tools\"></a>"
   ]
  },
  {
   "cell_type": "markdown",
   "id": "a048a436",
   "metadata": {},
   "source": []
  },
  {
   "cell_type": "markdown",
   "id": "5d8f185d",
   "metadata": {},
   "source": [
    "## [Approach and Dynamics Equations](#toc)<a id=\"app\"></a>"
   ]
  },
  {
   "cell_type": "markdown",
   "id": "b2a214cd",
   "metadata": {},
   "source": [
    "-  First, a series of mass balances and component balances are made based on the desired input of 1 ton of raw material.\n",
    "- These balances then take into account the chemical kinetics and related rates required in the operation of White Mesa's chemical reactions and fluid flow operations\n",
    "- Once baseline models of each individual process exist, they are then programmed into 5 separate but connected modules within Cortix\n",
    "- Each process will be capable of interacting with the modules connected to it on either end, allowing them to share data such as the incoming and outgoing streams from one process to the next"
   ]
  },
  {
   "cell_type": "markdown",
   "id": "9572208f",
   "metadata": {},
   "source": []
  },
  {
   "cell_type": "markdown",
   "id": "3dfea6c3",
   "metadata": {},
   "source": [
    "## [Challenges & Course Correctons](#toc)<a id=\"ccc\"></a>"
   ]
  },
  {
   "cell_type": "markdown",
   "id": "fb456b05",
   "metadata": {},
   "source": [
    "Initially, this section was called Evaporation and Calcination. There were modules defined for evaporation and even a falling film evaporator was proposed fro this process. After further digging, it was determined that the more accurate representation of this step would be Drying and Calcination. Although in the drying section, evaporation of water occurs, \n",
    "This was a major change and it led to a reconstruction of not only this project report, but the source code and usecase. \n",
    "There is not enough information about White Mesa's drying and calcination process.\n",
    "Separation of the processes and further research into equipment should be done.\n",
    "Not even sure if calcination is a part of white mesa."
   ]
  },
  {
   "cell_type": "markdown",
   "id": "8edf020f",
   "metadata": {},
   "source": [
    "## [Initialization of Drying/Calcination Modules](#toc)<a id=\"init\"></a>"
   ]
  },
  {
   "cell_type": "markdown",
   "id": "c2b42557",
   "metadata": {},
   "source": []
  },
  {
   "cell_type": "markdown",
   "id": "485c70bb",
   "metadata": {},
   "source": [
    "```python\n",
    "                                              |\n",
    "                                              |  Ammonium Diuranate Feed\n",
    "                                              v\n",
    "                                       ________________       \n",
    "                                      |                |\n",
    "                                      |                |\n",
    "                                      |                |<------ Steam Sparging\n",
    "                                      |     Drying     |\n",
    "                                      |                |\n",
    "                   Off-Gas <----------|                |<------ Resistance Heating (Internal)\n",
    "                                      |                |\n",
    "                                      |----------------|\n",
    "                      Off-Gas <-------|                |<------ Sweeping Gas\n",
    "                                      |                |\n",
    "                                      |   Calcination  |\n",
    "                 Sweeping Gas <-------|                |\n",
    "                   (Disposal)         |                |\n",
    "                                      |________________|<------ Resistance Heating (Internal)\n",
    "                                               |\n",
    "                                               |\n",
    "                                               |\n",
    "                                               v\n",
    "                                        Product (U3O8)\n",
    "```"
   ]
  },
  {
   "cell_type": "markdown",
   "id": "568536d8",
   "metadata": {},
   "source": [
    "__Calcination Process__\n",
    "\n",
    "The second stage of the drying process is known as calcination. In terms of the overall process it will follow a similar basis to that of evaporation, but at a higher temperature. However, there are some distinguishable differences in calcination since the feed is now mostly a pure solid. Calcination involves the heating of solids to a high temperature for the purpose of removing volatile substances, oxidizing a portion of mass, or rendering them friable. Therefore, this stage in the drying process is sometimes considered a process of absolute purification.\n",
    "\n",
    "This stage is not similar to the \"evaporation\" stage because it is a whole different piece of equipment at a much larger temperature. \n",
    "\n",
    "This production happens in large molar quantities, and assuming a 100% conversion rate every 100 kgs of ammonium diuranate will result in 90 kgs of triuranium octoxide. High temperature calcining is practiced producing a greater than 94% U<sub>3</sub>O<sub>8</sub> product having high density [3].\n",
    "\n",
    "Calcination eliminates water completely, and drives off the ammonia, but care must be taken not to sinter the product.\n",
    "\n",
    "Sintering can significantly reduce nitric acid solubility, which is critical for some refining processes. Several types of drying equipment have been used in the calcining process, typically arranged in the series of dryers that succeed the main calciner tank. These include single or multiple hearth dryers, drum dryers, belt dryers, screw dryers and radiant heat dryers. There also becomes the problem of how to dispose of the ammonia used as a \"sweep-gas\" to drive the heat transfer in the calciner. As seen in figure 4, the solution to the produced ammonia is to add a form of fluid bed dryer to the calciner tank to extract the ammonia vapor.\n",
    "\n",
    "__Modeling the Module__\n",
    "\n",
    "To model this process, the process needs to remain seperated by the two main stages of drying. Thus, two seperate subsections to this module will be created for both evaporation and calcination.\n",
    "\n",
    "Starting with evaporation, this basis of the model needed some input parameters to work with. The feed mass flowrate was determined to be 5800 kg/min, along with a  set overall volume of 400m<sup>3</sup> (remember there are two tanks). The third and final parameter that will be monitored is the product mass density, which is being feed in at \n",
    "\n",
    "a paramter had to be selected to base the model after that would be able to monitor the amount of flow entering and exiting the tank. This was chosen to be the liquid volume of the evaporator tank, but it came with some conflicts. Being able to differentiate whether the tank was filling, evaporating, or discharging into the next stage was difficult to determine using only this parameter. \n"
   ]
  },
  {
   "cell_type": "markdown",
   "id": "8634baa0",
   "metadata": {},
   "source": [
    "## [References](#toc)<a id=\"refs\"></a>"
   ]
  }
 ],
 "metadata": {
  "kernelspec": {
   "display_name": "Python 3 (ipykernel)",
   "language": "python",
   "name": "python3"
  },
  "language_info": {
   "codemirror_mode": {
    "name": "ipython",
    "version": 3
   },
   "file_extension": ".py",
   "mimetype": "text/x-python",
   "name": "python",
   "nbconvert_exporter": "python",
   "pygments_lexer": "ipython3",
   "version": "3.11.5"
  }
 },
 "nbformat": 4,
 "nbformat_minor": 5
}
