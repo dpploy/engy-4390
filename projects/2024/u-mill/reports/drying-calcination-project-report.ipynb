{
 "cells": [
  {
   "cell_type": "markdown",
   "id": "f36fcb5c",
   "metadata": {},
   "source": [
    "---\n",
    "# Table of Contents<a id=\"toc\"></a>\n",
    "* [Introduction](#intro)\n",
    "    * [Drying](#dry)\n",
    "        * [Equipment](#dequip)\n",
    "    * [Calcination](#calcin)\n",
    "        * [Equipment](#cequip)\n",
    "* [Problem Statment](#prob)\n",
    "* [Objectives](#obj)\n",
    "* [Source Code](#src)\n",
    "* [Tools](#tools)\n",
    "* [Approach and Dynamics Equations](#app)\n",
    "* [Challenges & Course Corrections](#ccc)\n",
    "* [Initialization of Drying/Calcination Module](#init)\n",
    "* [References](#refs)\n",
    "---"
   ]
  },
  {
   "cell_type": "markdown",
   "id": "99c3d36b",
   "metadata": {},
   "source": [
    "# [Introduction](#toc)<a id=\"intro\"></a>"
   ]
  },
  {
   "cell_type": "markdown",
   "id": "261f0c5f",
   "metadata": {},
   "source": [
    "The incoming ammonium diuranate (ADU) slurry produced by precipitation now has to undergo a drying and calcination process at extremely high temperatures. This is done in two stages to ensure that all water is evaporated and all the volatile components are removed. The first stage is drying using a spray dryer and the second is calcination using a multi hearth furnace. After the completion of these stages, the coveted U<sub>3</sub>O<sub>8</sub> product is packaged into drums for shipment.\n",
    "\n"
   ]
  },
  {
   "cell_type": "markdown",
   "id": "95f4715d",
   "metadata": {},
   "source": [
    "## [Drying](#toc)<a id=\"dry\"></a>"
   ]
  },
  {
   "cell_type": "markdown",
   "id": "f32e4553",
   "metadata": {},
   "source": [
    "The drying part of this process involves the removal of moisture and volatile components from the ADU slurry. A spray dryer is used which converts the slurry into a dry powder and drives off ammonia and other impurities that result from the drying. This ensures that the intermediate product is clean and stable."
   ]
  },
  {
   "cell_type": "markdown",
   "id": "d3d59fda",
   "metadata": {},
   "source": [
    "### [Equipment](#toc)<a id=\"dequip\"></a>"
   ]
  },
  {
   "cell_type": "markdown",
   "id": "ceaf9a8b",
   "metadata": {},
   "source": [
    "There are many different kinds of dryers that can be used for this drying process but the most common is a spray dryer which is depicted below in Figure 1. The spray dryer uses steam sparging and resistance heating at temperatures ranging from 120-400 °C to evaporate water and volatiles."
   ]
  },
  {
   "cell_type": "markdown",
   "id": "e939f207",
   "metadata": {},
   "source": [
    "<img src=\"pics/spray-dryer.jpg\" alt=\"Figure 1: Spray Dryer\" width=\"500\">\n",
    "<p style=\"text-align:center;\"><b>Figure 1: Spray Dryer</b>"
   ]
  },
  {
   "cell_type": "markdown",
   "id": "24715a56",
   "metadata": {},
   "source": [
    "|    **Label**   |   **Description**   |\n",
    "|:----------------------|:---------------------|\n",
    "|1 | chamber|\n",
    "|3 | peristaltic pump |\n",
    "|5 | ultrasonic pulveriser|\n",
    "|9 | ventilator extractor |\n",
    "|10 | atomiser|\n",
    "|11 | drying column|\n",
    "|12 | resistance heater|\n",
    "|13 | receiver cone|\n",
    "|15 | separation cyclone |\n",
    "|17 | metallic tube|\n",
    "|19 | recuperation pot|\n",
    "|20 | filter with a handle|\n",
    "        "
   ]
  },
  {
   "cell_type": "markdown",
   "id": "225136fd",
   "metadata": {},
   "source": [
    "## [Calcination](#toc)<a id=\"calcin\"></a>"
   ]
  },
  {
   "cell_type": "markdown",
   "id": "568ad249",
   "metadata": {},
   "source": [
    "Calcination is the oxidation of the ore concentrate. Calcination happens at extremely high temperatures so this process is able to eliminate water completely and drive off any of the remaining volatile components, but care must be taken not to sinter the product. The result is the yellowcake powder which is then packaged into drums for shipping."
   ]
  },
  {
   "cell_type": "markdown",
   "id": "e556b1d1",
   "metadata": {},
   "source": [
    "### [Equipment](#toc)<a id=\"cequip\"></a>"
   ]
  },
  {
   "cell_type": "markdown",
   "id": "53b86841",
   "metadata": {},
   "source": [
    "A multi hearth dryer is used for the calcination stage of the process. This equipment is desirable because it allows different sections to be heated at different temperatures. A range of temperatures from 400-850 °C are used in calcination to prevent the product from sintering. In the multi hearth furnace depicted in Figure 2 below, it outlines 3 different zones that would all be operated at different temperatures. Filtration and scrubbing equipment would also be used to prevent harmful gases from escaping to the environment."
   ]
  },
  {
   "cell_type": "markdown",
   "id": "f042e364",
   "metadata": {},
   "source": [
    "<img src=\"pics/multi-hearth-furnace.jpg\" alt=\"Figure 2: Multi Hearth Furnace\" width=\"500\">\n",
    "<p style=\"text-align:center;\"><b>Figure 2: Multi Hearth Furnace</b>"
   ]
  },
  {
   "cell_type": "markdown",
   "id": "2aa9943f",
   "metadata": {},
   "source": [
    "## [Problem Statement](#toc)<a id=\"prob\"></a>"
   ]
  },
  {
   "cell_type": "markdown",
   "id": "7aefdecf",
   "metadata": {},
   "source": [
    "Design a dynamic system that accurately represents the drying and calcination stages of the uranium milling process at White Mesa Uranium Mill. This involves both mathematical models of the system's material streams and visual representations of the data on a time dependent basis. Although there are two pieces of equipment for each stage, this system will be based off of one reaction that summarizes what happens in both stages."
   ]
  },
  {
   "cell_type": "code",
   "execution_count": 1,
   "id": "d6a9f5aa",
   "metadata": {},
   "outputs": [],
   "source": [
    "from cortix import ReactionMechanism"
   ]
  },
  {
   "cell_type": "code",
   "execution_count": 2,
   "id": "a4f39063",
   "metadata": {},
   "outputs": [
    {
     "data": {
      "text/markdown": [
       "5 **Species:** \n",
       " ${\\mathrm{H}_{2}\\mathrm{O}}_\\mathrm{(v)} \\quad  {\\mathrm{N}_{2}}_{\\mathrm{(v)}} \\quad  {\\mathrm{N}\\mathrm{H}_{3}}_{\\mathrm{(v)}} \\quad  {\\mathrm{U}_{3}\\mathrm{O}_{8}}_{\\mathrm{(s)}} \\quad  {[\\mathrm{N}\\mathrm{H}_{4}]_{2}\\mathrm{U}_{2}\\mathrm{O}_{7}}_{\\mathrm{(a)}}$"
      ],
      "text/plain": [
       "<IPython.core.display.Markdown object>"
      ]
     },
     "metadata": {},
     "output_type": "display_data"
    },
    {
     "data": {
      "text/markdown": [
       "1 **Reactions:** \n",
       " \\begin{align*} \n",
       "9.0\\,{[\\mathrm{N}\\mathrm{H}_{4}]_{2}\\mathrm{U}_{2}\\mathrm{O}_{7}}_{\\mathrm{(a)}}\\ &\\longrightarrow \\ 15.0\\,{\\mathrm{H}_{2}\\mathrm{O}}_\\mathrm{(v)}\\ + \\ 2.0\\,{\\mathrm{N}_{2}}_{\\mathrm{(v)}}\\ + \\ 14.0\\,{\\mathrm{N}\\mathrm{H}_{3}}_{\\mathrm{(v)}}\\ + \\ 6.0\\,{\\mathrm{U}_{3}\\mathrm{O}_{8}}_{\\mathrm{(s)}}\\\\ \n",
       "\\end{align*} \n"
      ],
      "text/plain": [
       "<IPython.core.display.Markdown object>"
      ]
     },
     "metadata": {},
     "output_type": "display_data"
    }
   ],
   "source": [
    "rxn_mech = ReactionMechanism(file_name='triuranium-octoxide-production-mechanism.txt', order_species=True)\n",
    "rxn_mech.md_print()"
   ]
  },
  {
   "cell_type": "markdown",
   "id": "6c3d297d",
   "metadata": {},
   "source": [
    "In this reaction, aqueous ammonium diuranate is converted into water vapor, nitrogen vapor, ammonia vapor, and the desired solid U<sub>3</sub>O<sub>8</sub>."
   ]
  },
  {
   "cell_type": "code",
   "execution_count": 3,
   "id": "ef0346e0-65c1-4bee-ac01-fdb669e07d19",
   "metadata": {},
   "outputs": [
    {
     "name": "stdout",
     "output_type": "stream",
     "text": [
      "Is mass conserved? True\n"
     ]
    }
   ],
   "source": [
    "'''Data Check'''\n",
    "print('Is mass conserved?', rxn_mech.is_mass_conserved())\n",
    "#rxn_mech.rank_analysis(verbose=True, tol=1e-8)\n",
    "#print('S=\\n', rxn_mech.stoic_mtrx)"
   ]
  },
  {
   "cell_type": "markdown",
   "id": "edb0b369",
   "metadata": {},
   "source": [
    "The data check above confirms that mass is conserved in this reaction."
   ]
  },
  {
   "cell_type": "markdown",
   "id": "6592cad5",
   "metadata": {},
   "source": [
    "## [Objectives](#toc)<a id=\"obj\"></a>"
   ]
  },
  {
   "cell_type": "markdown",
   "id": "c8b2c136",
   "metadata": {},
   "source": [
    "- Python code will be used to develop a dynamic comprehensive system that accurately represents the drying and calcination parts of the milling process as well as their role in simulating a steady state reactor. This involves both mathematical models of the system’s material streams and visual representations of the data on a time dependent basis. \n",
    "- Modules to model drying and calcination steps will be developed.\n",
    "- Deliverable content will be prepared using Jupyter notebooks to seamlessly integrate working code with descriptive markdown text.  \n",
    "- A flowsheet based on White Mesa will be developed as the basis for our modules"
   ]
  },
  {
   "cell_type": "markdown",
   "id": "7f062604",
   "metadata": {},
   "source": [
    "## [Tools](#toc)<a id=\"tools\"></a>"
   ]
  },
  {
   "cell_type": "markdown",
   "id": "a048a436",
   "metadata": {},
   "source": [
    "For this project we will be utilizing GitHub to store a remote repository of our python code and project report. GitHub is a version control software that programmers use to share and work on coding projects together. This allows for users to view the contribution history easily and rollback changes if needed. GitHub interfaces with git to create a graphical user interface for the git repository. At its core, a GitHub repository is a mirror of a git repository with any changes being submitted through GitHub automatically being sent to the git repository as well.\n",
    "\n",
    "Cortix is a library for Python that was created by Dr. Almeida and his research group to simplify the process of producing dynamic system models. The full open-source code can be found on Github, where anyone can download and use the library and its available unit operation modules. The Github repository also contains examples that use the code to simulate various chemical interactions while delivering time dependent data. \n",
    "\n",
    "<img src=\"cortix-logo.jpg\" alt=\"Figure 3: Cortix Logo\" width=\"150\"/>\n",
    "<img src=\"github-logo.jpg\" alt=\"Figure 2: Github Logo\" width=\"150\"/>"
   ]
  },
  {
   "cell_type": "markdown",
   "id": "5d8f185d",
   "metadata": {},
   "source": [
    "## [Approach and Dynamics Equations](#toc)<a id=\"app\"></a>"
   ]
  },
  {
   "cell_type": "markdown",
   "id": "b2a214cd",
   "metadata": {},
   "source": [
    "-  First, a series of mass balances and component balances are made based on the desired input of 1 ton of raw material.\n",
    "- These balances then take into account the chemical kinetics and related rates required in the operation of White Mesa's chemical reactions and fluid flow operations\n",
    "- Once baseline models of each individual process exist, they are then programmed into 5 separate but connected modules within Cortix\n",
    "- Each process will be capable of interacting with the modules connected to it on either end, allowing them to share data such as the incoming and outgoing streams from one process to the next"
   ]
  },
  {
   "cell_type": "markdown",
   "id": "3dfea6c3",
   "metadata": {},
   "source": [
    "## [Challenges & Course Correctons](#toc)<a id=\"ccc\"></a>"
   ]
  },
  {
   "cell_type": "markdown",
   "id": "fb456b05",
   "metadata": {},
   "source": [
    "Initially, this section was called Evaporation and Calcination. There were modules defined for evaporation and even a falling film evaporator was proposed for this process. After further digging, it was determined that the more accurate representation of this step would be Drying and Calcination. This was a major change and it led to a reconstruction of not only this project report, but the source code and the usecase. \n",
    "\n",
    "One of the biggest challenges with this project was that there is not enough information about White Mesa's drying and calcination process. On the main source, there are only one or two sentences about drying and calcination at White Mesa. In the entire source, it only has one paragraph about the drying and calcination section. To obtain an accurate model and representation of this part of the process, further research into drying, calcination, and the equpiment used needs to be done. \n"
   ]
  },
  {
   "cell_type": "markdown",
   "id": "8edf020f",
   "metadata": {},
   "source": [
    "## [Initialization of Drying/Calcination Modules](#toc)<a id=\"init\"></a>"
   ]
  },
  {
   "cell_type": "markdown",
   "id": "485c70bb",
   "metadata": {},
   "source": [
    "```python\n",
    "                                              |\n",
    "                                              |  Ammonium Diuranate Feed\n",
    "                                              v\n",
    "                                       ________________       \n",
    "                                      |                |\n",
    "                                      |                |\n",
    "                                      |                |<------ Steam Sparging\n",
    "                                      |     Drying     |\n",
    "                                      |                |\n",
    "                   Off-Gas <----------|                |<------ Resistance Heating (Internal)\n",
    "                                      |                |\n",
    "                                      |----------------|\n",
    "                      Off-Gas <-------|                |<------ Sweeping Gas\n",
    "                                      |                |\n",
    "                                      |   Calcination  |\n",
    "                 Sweeping Gas <-------|                |\n",
    "                   (Disposal)         |                |\n",
    "                                      |________________|<------ Resistance Heating (Internal)\n",
    "                                               |\n",
    "                                               |\n",
    "                                               |\n",
    "                                               v\n",
    "                                        Product (U3O8)\n",
    "```"
   ]
  },
  {
   "cell_type": "markdown",
   "id": "4220bd54",
   "metadata": {},
   "source": [
    "## [References](#toc)<a id=\"refs\"></a>"
   ]
  },
  {
   "cell_type": "markdown",
   "id": "0d525d5d",
   "metadata": {},
   "source": [
    "[1]Multi Heart Furnace: https://patentimages.storage.googleapis.com/94/7d/7c/3c2de05ed45669/US5957064.pdf\n",
    "\n",
    "[2]Spray Dryer: https://patentimages.storage.googleapis.com/92/a1/42/4a51dd606c158a/US6656391.pdf\n",
    "\n",
    "[3]Uranium Extraction Tehcnology: https://www-pub.iaea.org/MTCD/Publications/PDF/trs359_web.pdf\n",
    "\n",
    "[4]Uranium Mining and Milling: https://www.osti.gov/servlets/purl/1474383"
   ]
  },
  {
   "cell_type": "code",
   "execution_count": null,
   "id": "51e12213",
   "metadata": {},
   "outputs": [],
   "source": []
  }
 ],
 "metadata": {
  "kernelspec": {
   "display_name": "Python 3 (ipykernel)",
   "language": "python",
   "name": "python3"
  },
  "language_info": {
   "codemirror_mode": {
    "name": "ipython",
    "version": 3
   },
   "file_extension": ".py",
   "mimetype": "text/x-python",
   "name": "python",
   "nbconvert_exporter": "python",
   "pygments_lexer": "ipython3",
   "version": "3.11.5"
  }
 },
 "nbformat": 4,
 "nbformat_minor": 5
}
