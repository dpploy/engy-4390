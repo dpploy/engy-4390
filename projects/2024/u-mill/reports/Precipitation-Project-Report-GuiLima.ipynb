{
 "cells": [
  {
   "cell_type": "markdown",
   "id": "7cd7fe6c",
   "metadata": {},
   "source": [
    "# Uranium Mill Network Dynamics Simulation Report"
   ]
  },
  {
   "cell_type": "markdown",
   "id": "1662bda3",
   "metadata": {},
   "source": [
    "Student: Gui Lima\n",
    "\n",
    "Course: Engy-4390 Nuclear Systems Design and Analysis\n",
    "\n",
    "Mentor: Prof. Valmor F. de Almeida\n",
    "\n",
    "UMass Lowell, Dept. of Chemical Engineering, Nuclear Energy Program\n",
    "\n",
    "21Oct2024"
   ]
  },
  {
   "cell_type": "markdown",
   "id": "e9725996",
   "metadata": {},
   "source": [
    "---\n",
    "## Table of Contents<a id=\"toc\"></a>\n",
    "* [Problem Statement](#prob)\n",
    "* [Introduction](#intro)\n",
    "* [Objectives](#obj)\n",
    "* [Tools](#tools)\n",
    "* [Approach and Dynamics Equations](#app)\n",
    "* [Challenges & Course Corrections](#correct)\n",
    "* [Initialization of Precipitation](#IPM)\n",
    "* [Startup](#su)\n",
    "* [Steady-State](#ss)\n",
    "* [Disturbance](#dist)\n",
    "* [References](#refs)\n",
    "---"
   ]
  },
  {
   "cell_type": "code",
   "execution_count": 1,
   "id": "db73fed1",
   "metadata": {},
   "outputs": [],
   "source": [
    "from cortix import ReactionMechanism"
   ]
  },
  {
   "cell_type": "markdown",
   "id": "ad2fb3fe",
   "metadata": {},
   "source": [
    "# Precipitation"
   ]
  },
  {
   "cell_type": "markdown",
   "id": "ae7ee6c6",
   "metadata": {},
   "source": [
    "## [Problem Statement](#toc)<a id=\"prob\"></a>"
   ]
  },
  {
   "cell_type": "markdown",
   "id": "b7df2b47",
   "metadata": {},
   "source": [
    "   To develop a comprehensive model of the precipitation process in uranium milling at the White Mesa Mill, Utah. highlighting every step taken from the leaching process over to the final production of yellow cake."
   ]
  },
  {
   "cell_type": "markdown",
   "id": "c94634fd",
   "metadata": {},
   "source": [
    "### Chemical Reactions"
   ]
  },
  {
   "cell_type": "markdown",
   "id": "e20a5a1a",
   "metadata": {},
   "source": [
    "The following are chemical reactions that could pitentially take place during precipitation. Uranium can be precipitated from solution across a broad pH range, from acidic to alkaline conditions, depending on the type of solution and precipitating agent used. Several different precipitants have proven effective, such as hydrogen peroxide, ammonia, magnesia, magnesium hydroxide, and sodium hydroxide. The choice of precipitating reagent is influenced by factors including:\n",
    "(a) The purity of the feed solution,\n",
    "(b) The required product specifications,\n",
    "(c) The cost of the reagent,\n",
    "(d) The potential environmental impact of the reagent.\n",
    "\n",
    "\n",
    "Despite extensive research on precipitation, practical experience has revealed that it can present significant challenges in industrial settings. In some milling operations, precipitation has proven to be one of the most difficult aspects of the metallurgical process. The optimal precipitation conditions are specific to each site and must be determined experimentally. While some plants face minimal issues with precipitation, drying, and calcining, others encounter significant difficulties, particularly in the precipitation and filtration stages. Additionally, excessive moisture during drying, often due to inadequate solid-liquid separation, can lead to problems with material sticking in the dryers. The root cause of these issues is not always immediately clear."
   ]
  },
  {
   "cell_type": "markdown",
   "id": "cff00e9d",
   "metadata": {},
   "source": [
    "1. The first reaction is the direct dirwect precipitation from the alkaline solution, using sodium hydroxide,this involves leaching at temperatures of 50–80°C, where a portion of the precipitate is recycled to maximize growth. Around 5-6 kg of NaOH is required per kilogram of uranium. Complete uranium precipitation is less critical than conserving carbonate reagents. The reaction involves excess sodium hydroxide, but impurities like vanadium may co-precipitate and require additional treatment, such as calcining and water quenching, to remove them. The products of this reaction are sodium urinate, soduim carbonate, and water."
   ]
  },
  {
   "cell_type": "code",
   "execution_count": 14,
   "id": "227ae156",
   "metadata": {},
   "outputs": [
    {
     "data": {
      "text/markdown": [
       "5 **Species:** \n",
       " ${\\mathrm{H}_{2}\\mathrm{O}}_\\mathrm{(l)} \\quad  {\\mathrm{N}\\mathrm{a}_{2}\\mathrm{C}\\mathrm{O}_{3}}_{\\mathrm{(a)}} \\quad  {\\mathrm{N}\\mathrm{a}_{2}\\mathrm{U}_{2}\\mathrm{O}_{7}}_{\\mathrm{(s)}} \\quad  {\\mathrm{N}\\mathrm{a}_{4}\\mathrm{U}\\mathrm{O}_{2}[\\mathrm{C}\\mathrm{O}_{3}]_{3}}_{\\mathrm{(s)}} \\quad  {\\mathrm{N}\\mathrm{a}\\mathrm{O}\\mathrm{H}}_\\mathrm{(a)}$"
      ],
      "text/plain": [
       "<IPython.core.display.Markdown object>"
      ]
     },
     "metadata": {},
     "output_type": "display_data"
    },
    {
     "data": {
      "text/markdown": [
       "1 **Reactions:** \n",
       " \\begin{align*} \n",
       "2.0\\,{\\mathrm{N}\\mathrm{a}_{4}\\mathrm{U}\\mathrm{O}_{2}[\\mathrm{C}\\mathrm{O}_{3}]_{3}}_{\\mathrm{(s)}}\\ + \\ 6.0\\,{\\mathrm{N}\\mathrm{a}\\mathrm{O}\\mathrm{H}}_\\mathrm{(a)}\\ &\\longrightarrow \\ 3.0\\,{\\mathrm{H}_{2}\\mathrm{O}}_\\mathrm{(l)}\\ + \\ 6.0\\,{\\mathrm{N}\\mathrm{a}_{2}\\mathrm{C}\\mathrm{O}_{3}}_{\\mathrm{(a)}}\\ + \\ {\\mathrm{N}\\mathrm{a}_{2}\\mathrm{U}_{2}\\mathrm{O}_{7}}_{\\mathrm{(s)}}\\\\ \n",
       "\\end{align*} \n"
      ],
      "text/plain": [
       "<IPython.core.display.Markdown object>"
      ]
     },
     "metadata": {},
     "output_type": "display_data"
    }
   ],
   "source": [
    "rxn_mech = ReactionMechanism(file_name='addition-of-sodium-hydroxide.txt', order_species=True)\n",
    "rxn_mech.md_print()"
   ]
  },
  {
   "cell_type": "markdown",
   "id": "3ec7d293",
   "metadata": {},
   "source": [
    "  2. \"Hydrogen peroxide, magnesia, ammonia or ammonium hydroxide are the preferred reagents for the precipitation of uranium from acidic solutions. Peroxide precipitation is sometimes mandatory to prevent co-precipitation of other metals.\n",
    "Much emphasis is now being placed on avoiding the release of pollutants such as ammonia into the environment, so that peroxide precipitation is gaining in popularity.\" [3]. The products of this reation are amonium urinate and sulfate ions."
   ]
  },
  {
   "cell_type": "code",
   "execution_count": 8,
   "id": "10dcf491",
   "metadata": {},
   "outputs": [
    {
     "data": {
      "text/markdown": [
       "4 **Species:** \n",
       " ${\\mathrm{N}\\mathrm{H}_{3}}_{\\mathrm{(a)}} \\quad  {\\mathrm{S}\\mathrm{O}_{4}^-}_{\\mathrm{(a)}} \\quad  {\\mathrm{U}\\mathrm{O}_{2}[\\mathrm{S}\\mathrm{O}_{4}]_{3}^-}_{\\mathrm{(a)}} \\quad  {[\\mathrm{N}\\mathrm{H}_{4}]_{2}\\mathrm{U}_{2}\\mathrm{O}_{7}}_{\\mathrm{(s)}}$"
      ],
      "text/plain": [
       "<IPython.core.display.Markdown object>"
      ]
     },
     "metadata": {},
     "output_type": "display_data"
    },
    {
     "data": {
      "text/markdown": [
       "1 **Reactions:** \n",
       " \\begin{align*} \n",
       "6.0\\,{\\mathrm{N}\\mathrm{H}_{3}}_{\\mathrm{(a)}}\\ + \\ 2.0\\,{\\mathrm{U}\\mathrm{O}_{2}[\\mathrm{S}\\mathrm{O}_{4}]_{3}^-}_{\\mathrm{(a)}}\\ &\\longrightarrow \\ 4.0\\,{\\mathrm{S}\\mathrm{O}_{4}^-}_{\\mathrm{(a)}}\\ + \\ {[\\mathrm{N}\\mathrm{H}_{4}]_{2}\\mathrm{U}_{2}\\mathrm{O}_{7}}_{\\mathrm{(s)}}\\\\ \n",
       "\\end{align*} \n"
      ],
      "text/plain": [
       "<IPython.core.display.Markdown object>"
      ]
     },
     "metadata": {},
     "output_type": "display_data"
    }
   ],
   "source": [
    "rxn_mech = ReactionMechanism(file_name='amonium-hydrate-and-gaseous-amaonia-reaction.txt', order_species=True)\n",
    "rxn_mech.md_print()"
   ]
  },
  {
   "cell_type": "markdown",
   "id": "276790c7",
   "metadata": {},
   "source": [
    "3. The second reaction is of amonium hydrate and gaseous amonia, Uranium precipitation in the ammonia system, which occurs at specific pH levels and ammonia concentrations. A sudden pH drop marks the reaction start in batch processes. Adjustments to improve thickening, filtration, and drying may reduce product purity. The ammonium diuranate precipitate is typically (NH₄)₂U₂O₇. Precipitation methods using gaseous ammonia or ammonium hydroxide were common but are now less favored due to environmental concerns. Following that reaction is the formation of ammonium diuranate, The precipitation of ammonium diuranate (ADU) is typically carried out with a mix of gaseous ammonia and air, at temperatures of 30–50°C, and a final pH between 7 and 8. To avoid forming basic uranyl sulfate, which uses less ammonia, care must be taken to control sulfate concentration, temperature, neutralization rate, pH, and retention time. Conditions that favor the unwanted formation of basic uranyl sulfate include high sulfate levels, higher temperatures, slow neutralization, low pH, and long retention times. In this reaction the product is uranyl sulfate hydroxide hydrate."
   ]
  },
  {
   "cell_type": "code",
   "execution_count": 10,
   "id": "3bb027b0",
   "metadata": {},
   "outputs": [
    {
     "data": {
      "text/markdown": [
       "5 **Species:** \n",
       " ${\\mathrm{H}_{2}\\mathrm{O}}_\\mathrm{(l)} \\quad  {\\mathrm{H}_{2}\\mathrm{O}}_\\mathrm{(s)} \\quad  {\\mathrm{N}\\mathrm{H}_{3}}_{\\mathrm{(a)}} \\quad  {\\mathrm{U}\\mathrm{O}_{2}[\\mathrm{S}\\mathrm{O}_{4}]_{3}^-}_{\\mathrm{(a)}} \\quad  {[\\mathrm{U}\\mathrm{O}_{2}]_{1}\\mathrm{S}\\mathrm{O}_{4}[\\mathrm{O}\\mathrm{H}]_{2}}_{\\mathrm{(s)}}$"
      ],
      "text/plain": [
       "<IPython.core.display.Markdown object>"
      ]
     },
     "metadata": {},
     "output_type": "display_data"
    },
    {
     "data": {
      "text/markdown": [
       "1 **Reactions:** \n",
       " \\begin{align*} \n",
       "6.0\\,{\\mathrm{H}_{2}\\mathrm{O}}_\\mathrm{(l)}\\ + \\ 2.0\\,{\\mathrm{N}\\mathrm{H}_{3}}_{\\mathrm{(a)}}\\ + \\ 2.0\\,{\\mathrm{U}\\mathrm{O}_{2}[\\mathrm{S}\\mathrm{O}_{4}]_{3}^-}_{\\mathrm{(a)}}\\ &\\longrightarrow \\ 4.0\\,{\\mathrm{H}_{2}\\mathrm{O}}_\\mathrm{(s)}\\ + \\ {[\\mathrm{U}\\mathrm{O}_{2}]_{1}\\mathrm{S}\\mathrm{O}_{4}[\\mathrm{O}\\mathrm{H}]_{2}}_{\\mathrm{(s)}}\\\\ \n",
       "\\end{align*} \n"
      ],
      "text/plain": [
       "<IPython.core.display.Markdown object>"
      ]
     },
     "metadata": {},
     "output_type": "display_data"
    }
   ],
   "source": [
    "rxn_mech = ReactionMechanism(file_name='forming-ammonium-diuranate-(ADU).txt', order_species=True)\n",
    "rxn_mech.md_print()"
   ]
  },
  {
   "cell_type": "markdown",
   "id": "c35ba36e",
   "metadata": {},
   "source": [
    "- The next two reactions are of milk magnesia, and a mixture of acid along side hydrogen peroxide, both reactions contain water terms on both sides of the equation, but due to repetition of terms error codes were outputed when attempting to code the reaction."
   ]
  },
  {
   "cell_type": "markdown",
   "id": "20eb72aa",
   "metadata": {},
   "source": [
    "4. In the use of milk magnesia, Uranium can be precipitated, which raises the pH to 7.0–7.5. The reaction occurs between uranium sulfate (UO₂SO₄), magnesium oxide (MgO), and water (H₂O), forming hydrated uranium oxide (UO₃·xH₂O, where x is 1 to 2) and magnesium sulfate (MgSO₄). This method results in the separation of uranium from the sulfate solution. The products of this reaction are Uranium trioxide hydrate and magniseum sulfate."
   ]
  },
  {
   "cell_type": "code",
   "execution_count": 11,
   "id": "a4d12a51",
   "metadata": {},
   "outputs": [
    {
     "data": {
      "text/markdown": [
       "4 **Species:** \n",
       " ${\\mathrm{M}\\mathrm{g}\\mathrm{O}}_\\mathrm{(s)} \\quad  {\\mathrm{M}\\mathrm{g}\\mathrm{S}\\mathrm{O}_{4}}_{\\mathrm{(a)}} \\quad  {\\mathrm{U}\\mathrm{O}_{2}\\mathrm{S}\\mathrm{O}_{4}}_{\\mathrm{(a)}} \\quad  {\\mathrm{U}\\mathrm{O}_{3}}_{\\mathrm{(s)}}$"
      ],
      "text/plain": [
       "<IPython.core.display.Markdown object>"
      ]
     },
     "metadata": {},
     "output_type": "display_data"
    },
    {
     "data": {
      "text/markdown": [
       "1 **Reactions:** \n",
       " \\begin{align*} \n",
       "{\\mathrm{M}\\mathrm{g}\\mathrm{O}}_\\mathrm{(s)}\\ + \\ {\\mathrm{U}\\mathrm{O}_{2}\\mathrm{S}\\mathrm{O}_{4}}_{\\mathrm{(a)}}\\ &\\longrightarrow \\ {\\mathrm{M}\\mathrm{g}\\mathrm{S}\\mathrm{O}_{4}}_{\\mathrm{(a)}}\\ + \\ {\\mathrm{U}\\mathrm{O}_{3}}_{\\mathrm{(s)}}\\\\ \n",
       "\\end{align*} \n"
      ],
      "text/plain": [
       "<IPython.core.display.Markdown object>"
      ]
     },
     "metadata": {},
     "output_type": "display_data"
    }
   ],
   "source": [
    "rxn_mech = ReactionMechanism(file_name='using-milk-magnesia.txt', order_species=True)\n",
    "rxn_mech.md_print()"
   ]
  },
  {
   "cell_type": "markdown",
   "id": "8bce2032",
   "metadata": {},
   "source": [
    "5. In the use of the hydrogen peroxide mixture, there has been an increase in the demand for its usage, as it meets enviromental concerns and stricter prodcut specifications. Hydrogen peroxide selectively precipitates uranium from acidic solutions at around 25°C and a pH of 3.5, with ammonia or sodium hydroxide used to neutralize the acid. Research shows that a molar ratio of H₂O₂ to uranium above 1 and a pH of 4-5 optimize recovery, achieving yields above 95%. Lower peroxide levels or high sulfate concentrations reduce recovery but still meet product standards. The product here is a hydrated uranyl peroxide complex, with the release of hydrogen ions (protons)."
   ]
  },
  {
   "cell_type": "code",
   "execution_count": 12,
   "id": "f26e033b",
   "metadata": {},
   "outputs": [
    {
     "data": {
      "text/markdown": [
       "4 **Species:** \n",
       " ${\\mathrm{H}_{2}\\mathrm{O}_{2}}_{\\mathrm{(a)}} \\quad  {\\mathrm{H}^+}_\\mathrm{(a)} \\quad  {\\mathrm{U}\\mathrm{O}_{2}^{2(}}_{\\mathrm{(a)}} \\quad  {\\mathrm{U}\\mathrm{O}_{4}}_{\\mathrm{(s)}}$"
      ],
      "text/plain": [
       "<IPython.core.display.Markdown object>"
      ]
     },
     "metadata": {},
     "output_type": "display_data"
    },
    {
     "data": {
      "text/markdown": [
       "1 **Reactions:** \n",
       " \\begin{align*} \n",
       "{\\mathrm{H}_{2}\\mathrm{O}_{2}}_{\\mathrm{(a)}}\\ + \\ {\\mathrm{U}\\mathrm{O}_{2}^{2(}}_{\\mathrm{(a)}}\\ &\\longrightarrow \\ 2.0\\,{\\mathrm{H}^+}_\\mathrm{(a)}\\ + \\ {\\mathrm{U}\\mathrm{O}_{4}}_{\\mathrm{(s)}}\\\\ \n",
       "\\end{align*} \n"
      ],
      "text/plain": [
       "<IPython.core.display.Markdown object>"
      ]
     },
     "metadata": {},
     "output_type": "display_data"
    }
   ],
   "source": [
    "rxn_mech = ReactionMechanism(file_name='acid-along-side-hydrogen-peroxide.txt', order_species=True)\n",
    "rxn_mech.md_print()"
   ]
  },
  {
   "cell_type": "markdown",
   "id": "802d7aa9",
   "metadata": {},
   "source": [
    "6. The final reaction is the precipitation from alkaline stripping solutions; using sodium hydroxide. Uranium precipitation from alkaline stripping solutions can be done using sodium hydroxide at a pH of 12, with 3-4 kg of NaOH per kilogram of U₃O₈. This process takes 2-4 hours at ambient temperature. Alternatively, magnesium hydroxide can be used if NaOH is undesirable. In some cases, hydrogen peroxide precipitation is necessary to avoid co-precipitation of other metals, which requires the solution to be acidified before the process."
   ]
  },
  {
   "cell_type": "code",
   "execution_count": 13,
   "id": "10b8bba5",
   "metadata": {},
   "outputs": [
    {
     "data": {
      "text/markdown": [
       "5 **Species:** \n",
       " ${\\mathrm{H}_{2}\\mathrm{O}}_\\mathrm{(l)} \\quad  {\\mathrm{N}\\mathrm{a}_{2}\\mathrm{C}\\mathrm{O}_{3}}_{\\mathrm{(a)}} \\quad  {\\mathrm{N}\\mathrm{a}_{2}\\mathrm{U}_{2}\\mathrm{O}_{7}}_{\\mathrm{(s)}} \\quad  {\\mathrm{N}\\mathrm{a}_{4}\\mathrm{U}\\mathrm{O}_{2}[\\mathrm{C}\\mathrm{O}_{3}]_{3}}_{\\mathrm{(a)}} \\quad  {\\mathrm{N}\\mathrm{a}\\mathrm{O}\\mathrm{H}}_\\mathrm{(a)}$"
      ],
      "text/plain": [
       "<IPython.core.display.Markdown object>"
      ]
     },
     "metadata": {},
     "output_type": "display_data"
    },
    {
     "data": {
      "text/markdown": [
       "1 **Reactions:** \n",
       " \\begin{align*} \n",
       "2.0\\,{\\mathrm{N}\\mathrm{a}_{4}\\mathrm{U}\\mathrm{O}_{2}[\\mathrm{C}\\mathrm{O}_{3}]_{3}}_{\\mathrm{(a)}}\\ + \\ 6.0\\,{\\mathrm{N}\\mathrm{a}\\mathrm{O}\\mathrm{H}}_\\mathrm{(a)}\\ &\\longrightarrow \\ 3.0\\,{\\mathrm{H}_{2}\\mathrm{O}}_\\mathrm{(l)}\\ + \\ 6.0\\,{\\mathrm{N}\\mathrm{a}_{2}\\mathrm{C}\\mathrm{O}_{3}}_{\\mathrm{(a)}}\\ + \\ {\\mathrm{N}\\mathrm{a}_{2}\\mathrm{U}_{2}\\mathrm{O}_{7}}_{\\mathrm{(s)}}\\\\ \n",
       "\\end{align*} \n"
      ],
      "text/plain": [
       "<IPython.core.display.Markdown object>"
      ]
     },
     "metadata": {},
     "output_type": "display_data"
    }
   ],
   "source": [
    "rxn_mech = ReactionMechanism(file_name='Precipitation-from-alkaline-stripping-solutions-using-sodium-hydroxide.txt', order_species=True)\n",
    "rxn_mech.md_print()"
   ]
  },
  {
   "cell_type": "markdown",
   "id": "eb394501",
   "metadata": {},
   "source": [
    "## [Introduction](#toc)<a id=\"intro\"></a>"
   ]
  },
  {
   "cell_type": "markdown",
   "id": "69601378",
   "metadata": {},
   "source": [
    "   Precipitation is any form of water, liquid or solid, that falls from the atmosphere to the Earth's surface. This includes rain, snow, sleet, and hail. It occurs when water vapor in the atmosphere condenses into droplets or ice crystals that grow heavy enough to fall under the influence of gravity. Precipitation is a key part of the water cycle and plays a crucial role in replenishing groundwater, rivers, and lakes.\n",
    "   \n",
    "   Precipitation is a key step in uranium mining, it comes after the leaching and pumping processes. Once the ore has been injected with the acid solution, it is then recovered into the surface and precipitated from the solution. This precipitate is then filtered to remove the acid and dried up into a solid. The concentrated, purified uranium solution (referred to as “pregnant solution” or “eluate”) is advanced to a precipitation stage using hydrogen peroxide, magnesium oxide, or sodium hydroxide. This process is one of the final in purifying the uranium and separating it from the ore and other unwanted materials present in the ore. This process is repeated as many times as economically possible to strip as much uranium from the ore as possible. The end result of this process is oxidized uranium, also known as yellow cake, a solidified version of U308. Higher levels of carbonate in the orebodies will require more sulfuric acid, making precipitation more costly. Because this process uses water, after milling is done water needs to be returned to its original purity in order to be returned to its environment and prevent any accidents or contamination. Some of the water can be re used for the process. The precipitation is usually carried out using a mixture of gaseous ammonia and air at a ratio of 1:3. The temperature is held at 30 to 50°C, and the terminal pH value is between seven and eight.\n",
    "   \n",
    "   The product is dewatered after precipitation through thickening or centrifugation, followed by drying or optional filtration. Challenges in filtration can arise, such as impurities and slimy precipitates, which can be managed by adjusting seeding and other parameters. Uranium peroxide precipitate demonstrates superior settling and dewatering efficiency, while sodium diuranate benefits from seed recycling. Dewatering occurs in batch or continuous processes, with batch operations using plate and frame presses and continuous processes utilizing thickeners and centrifuges. Washing can be done in single-stage or countercurrent flow, sometimes requiring pH adjustments. Most U.S. mills employ single-stage thickening for initial dewatering, and centrifuge-based methods combined with thickeners are favored for producing a clean product with minimal impurities.\n",
    "   "
   ]
  },
  {
   "cell_type": "markdown",
   "id": "04652a69",
   "metadata": {},
   "source": [
    "## [Objectives](#toc)<a id=\"obj\"></a>"
   ]
  },
  {
   "cell_type": "markdown",
   "id": "e3d86dff",
   "metadata": {},
   "source": [
    "- Python code will be used to develop dynamic comprehensive systems that accurately represent the Precipitation part of the Uranium Milling process. This involves both mathematical models of the system’s material streams and visual representations of the data on a time dependent basis.\n",
    "- A module to model the precipitation step will be developed.\n",
    "- Deliverable content will be prepared using Jupyter notebooks to seamlessly integrate working code with descriptive markdown text.\n",
    "- A flowsheet based on White Mesa will be developed as the basis for our modules"
   ]
  },
  {
   "cell_type": "markdown",
   "id": "70e0d79c",
   "metadata": {},
   "source": [
    "## [Tools](#toc)<a id=\"tools\"></a>"
   ]
  },
  {
   "cell_type": "markdown",
   "id": "da0583ce",
   "metadata": {},
   "source": [
    "For this project we will be utilizing GitHub to store a remote repository of our python code and project report. GitHub is a version control software that programmers use to share and work on coding projects together. This allows for users to view the contribution history easily and rollback changes if needed. GitHub interfaces with git to create a graphical user interface for the git repository. This allows GitHub to add some of its own tools on top of git making it much more powerful. One of these tools is the Network Graph that allows users to see all branches of the repository and all commits along with dates that changes were made. Another tool is viewing the version history of a specific file by opening it on the GitHub repository. This shows all changes made to that file including commit numbers, dates of changes, and more. This makes it much easier to go back in time to see the history of the project and see who made which changes. At its core, a GitHub repository is a mirror of a git repository with any changes being submitted through GitHub automatically being sent to the git repository as well.\n",
    "\n",
    "To work on a git repository, you first must clone the repository to your computer using the git clone command. This creates a clone of the remote repository on your computer which is then called the local repository. It will also create a copy of this local repository called the working directory. All edits made by the user are found in the working directory and do not impact the local repository until a commit is made. Next, the user will create their own branch using the git branch command. This branch is a copy of the repository that the user will use to make changes without impacting the main branch. This makes it easier for the repository maintainer to control the changes made to the project since they can view differences between the main branch and one of the user branches. This helps to prevent branch conflicts from creating bugs or other errors on the main branch of the repository. When a user is satisfied with a contribution, they will create a commit using the git commit command. The user will write a brief one-line description of what has been changed followed by a longer description with much more detail. A comparison is then made between the working directory and the local repository to see which changes have been made. Any changes in the working directory will be compiled into the commit and saved for later. Commits serve as documentation for changes and are vital to using git. The short description allows for the repository maintainer to easily see what changes are being made to the project, but still allows for technical details to be documented in the long description.\n",
    "\n",
    "When a user wants to publish their commits to the remote repository for other users to see there is a specific procedure that must be followed. This is to prevent any conflicts from arising in the final step where the local repository is merged with the remote repository by the repository maintainer. First, the user must update their copy of the local repository to obtain the latest version of the project. Updating the local repository is done by using the git fetch command followed by the git merge command. This can also be done using the git pull command which executes both commands sequentially. The git fetch command compares the local repository to the target showing the differences between the two. This also downloads any missing commits to the local repository so they can be reviewed by the user. The git merge command combines the remote repository with the local repository. This process effectively creates a copy of the remote repository on the user's computer, but also includes any saved commits to ensure that the local repository is up to date. Following this process, the git push command can be used to push the unuploaded commits onto the remote repository. Since a separate branch was created earlier, this branch must be merged into the main branch so other users can merge these changes into their branch. This can be done by running git merge on the main branch to merge the main branch into the user's branch. Now the local repository is updated with the changes of all other users with the remaining commits that are trying to be published to the remote repository. Finally, the user can make a request to the repository maintainer to run git pull on their local repository. This is known as a pull request since you are requesting the repository maintainer to run the git pull command.\n",
    "\n",
    "GitHub helps to make the pull request process easier by integrating it into their platform. All active pull requests can be viewed on the repository website with a discussion section where users can discuss any problems they find with the changes. In addition to this, GitHub streamlines the process through the use of the GitHub desktop app. Instead of running each of the git commands through the command line sequentially, they can be executed in a graphical user interface via GitHub desktop. After downloading GitHub desktop, the user is prompted to clone a repository and login to their GitHub account. This creates a local repository and working directory for the user with commits and pull requests being linked to their GitHub account. After creating changes to files in the working directory, GitHub desktop will show the user the current differences between the working directory and the local repository. A commit window is displayed with boxes for the short description and long description right next to these differences making the commit process much easier. In order to publish changes to the remote repository there are recommended prompts that aid the user through the pull, push, and pull request process. If the user would like to run any of the other git commands, these can be accessed at the top by clicking on Repository and selecting the desired command to run.\n",
    "\n",
    "Cortix is a library for Python that was created by Dr. Almeida and his research group to simplify the process of producing dynamic system models. The full open-source code can be found on Github, where anyone can download and use the library and its available unit operation modules. The Github repository also contains examples that use the code to simulate various chemical interactions while delivering time dependent data.\n",
    "\n",
    "Jupyter Notebook is also open-source, and it is a way to integrate ordinary text with multiple programming languages such as Python. Python is a widely used programming language that has engineering modeling applications. This is a popular language for dynamic modelling and has been in use for over thirty years. It is commonplace in many programs used in the nuclear industry, making it a great candidate for this project."
   ]
  },
  {
   "cell_type": "markdown",
   "id": "679e048d",
   "metadata": {},
   "source": [
    "## [Approach and Dynamics Equation](#toc)<a id=\"app\"></a>"
   ]
  },
  {
   "cell_type": "markdown",
   "id": "bfd71457",
   "metadata": {},
   "source": [
    "- First, a series of mass balances and component balances are made based on the desired input of 1 ton of raw material.\n",
    "- These balances then take into account the chemical kinetics and related rates required in the operation of White Mesa's chemical reactions and fluid flow operations\n",
    "- Once baseline models of each individual process exist, they are then programmed into 5 separate but connected modules within Cortix\n",
    "- Each process will be capable of interacting with the modules connected to it on either end, allowing them to share data such as the incoming and outgoing streams from one process to the next"
   ]
  },
  {
   "cell_type": "markdown",
   "id": "0a3c253d",
   "metadata": {},
   "source": [
    "|     **Module**        |      **Inputs**      |      **Outputs**       |     **Legend**     |\n",
    "|:----------------------|:---------------------|:-----------------------|:-------------------|\n",
    "| Precipitation             |V<sub>precipitation tank</sub>, V<sub>thickening tank</sub>, m<sub>uranyltrisoul trisulfate feed</sub>, ρ<sub>uranyltrisoul trisulfate feed</sub>, m<sub>ammonia sparge feed mass flowrate</sub>, ρ<sub>ammonia sparge feed mass flowrate</sub> |m<sub>precipitation mass flowrate</sub>, m<sub>thickening mass flowrate</sub>, τ<sub>p</sub>, τ<sub>s</sub>, q<sub>state phase</sub>, Nu<sub>s</sub>, Nu<sub>p</sub> |V<sub>precipitation tank</sub> = volume of precipitation tank, V<sub>thickening tank</sub> = volume of thickening tank, m<sub>uranyltrisoul trisulfate feed</sub> = mass flow rate of uranyltrisoul trisulfate feed, ρ<sub>uranyltrisoul trisulfate feed</sub> = density of uranyltrisoul trisulfate feed, m<sub>ammonia sparge feed</sub> = mass flow rate of ammonia sparge feed, ρ<sub>ammonia sparge feed</sub> = density of ammonia sparge feed, m<sub>precipitation</sub> = precipitation mass flow rate, m<sub>thickening</sub> = thickening mass flow rate, τ<sub>p</sub> = primary τ, τ<sub>s</sub> = secondary τ, q<sub>state phase</sub> = state phase heat flux, Nu<sub>p</sub> = pirmary Nusselt number, Nu<sub>s</sub> = secondary Nusselt number |"
   ]
  },
  {
   "cell_type": "markdown",
   "id": "beb1fdb0",
   "metadata": {},
   "source": [
    "## [Initialization of Precipitation](#toc)<a id=\"IMP\"></a>"
   ]
  },
  {
   "cell_type": "markdown",
   "id": "66400147",
   "metadata": {},
   "source": [
    "```python   \n",
    "                                      |\n",
    "                                      |   leaching process product\n",
    "                                      |\n",
    "                                      v\n",
    "                              |----------------|\n",
    "                              |                |\n",
    "        water and     ------->|                |------> Ore free of acid is dried up(drying phase)\n",
    "        acid removal          |    surface     |\n",
    "                              |    level       |\n",
    "                              |                |<------ concentrate pregnant solution to precipitation stage\n",
    "                              |                |\n",
    "                              |----------------|\n",
    "        pregnant solution --->|                |\n",
    "    is percipitated using     |                |\n",
    "       Hydrogen peroxide,     | precipitation  |\n",
    "    magnesium oxide or        |      stage     |-------> purified ore free of acid, and other unwanted materials\n",
    "          sodium oxide        |                |\n",
    "                              |----------------|\n",
    "    process is repeated  ---->|                |-------> yellow cake is produced and ready to be shipped\n",
    "        until desired purity  |   shipping     |\n",
    "          is achieved         |                |\n",
    "                              |________________|\n",
    "                                      |\n",
    "                                      |\n",
    "                                      |\n",
    "                                      v\n",
    "                            shipping of Product\n",
    "```"
   ]
  },
  {
   "cell_type": "markdown",
   "id": "3bb09ad3",
   "metadata": {},
   "source": [
    "## [Startup](#toc)<a id=\"su\"></a>"
   ]
  },
  {
   "cell_type": "markdown",
   "id": "1e145fd5",
   "metadata": {},
   "source": [
    "---"
   ]
  },
  {
   "cell_type": "markdown",
   "id": "2ed4105e",
   "metadata": {},
   "source": [
    "## [Steady State](#toc)<a id=\"ss\"></a>"
   ]
  },
  {
   "cell_type": "markdown",
   "id": "3c1a8ecf",
   "metadata": {},
   "source": [
    "---"
   ]
  },
  {
   "cell_type": "markdown",
   "id": "a0ed172e",
   "metadata": {},
   "source": [
    "## [Disturbance](#toc)<a id=\"dist\"></a>"
   ]
  },
  {
   "cell_type": "markdown",
   "id": "b0ab5858",
   "metadata": {},
   "source": [
    "The modules are set up to allow a change in the inputs of tank size, mass flowrate, and the composition of each phase. If the values are changed, the resulting code should automatically carry the changes through in each time step, creating a new path of correction towards steady state. For example, an increase of the single tank thickener in the decantation/filtration section of the code would result in a more sluggish response with a longer time to reach steady state operation. Likewise, if the steady state values change based on the desired production quality, the model can adjust to these new steady state values once they are altered in the dynamic equations within the code."
   ]
  },
  {
   "cell_type": "markdown",
   "id": "2516c141",
   "metadata": {},
   "source": [
    "## [References](#toc)<a id=\"ref\"></a>"
   ]
  },
  {
   "cell_type": "markdown",
   "id": "2073207f",
   "metadata": {},
   "source": [
    "- [1] V. F. de Almeida, Cortix, Network Dynamics Simulation, University of Massachusetts Lowell, Dept. of Chemical Engineering (Nuclear program).\n",
    "- [2] V. F. de Almeida, Engy-4350: Nuclear Reactor Engineering, University of Massachusetts Lowell, Dept. of Chemical Engineering (Nuclear Program).\n",
    "- [3] “35 No. 9 Uranium Extraction Technology - IAEA.” Uranium Extraction Technology, IAEA, 1993, https://www-pub.iaea.org/MTCD/Publications/PDF/trs359_web.pdf.\n",
    "- [4] CamecoCorporation. (2021, December 7). How It's Made - Uranium Part 2 [Video]. YouTube. https://www.youtube.com/watch?si=MOfC9CL7AqTSexF7&v=c7ehyxRBMbw&feature=youtu.be\n",
    "- [5] In-situ Leach mining of uranium. (2024, May 16). World Nuclear Association. https://world-nuclear.org/information-library/nuclear-fuel-cycle/mining-of-uranium/in-situ-leach-mining-of-uranium#:~:text=The%20water%20is%20re%2Doxidized,uranium%20as%20is%20economically%20feasible\n",
    "- [6] Uranium mining overview. (2024, May 16). World Nuclear Association. https://world-nuclear.org/information-library/nuclear-fuel-cycle/mining-of-uranium/uranium-mining-overview\n",
    "- [7] Uranium mining, processing, and reclamation - Uranium mining in Virginia: Scientific, technical, environmental, human health and safety, and regulatory aspects of uranium mining and processing in Virginia - NCBI bookshelf. (2011, December 19). National Center for Biotechnology Information. https://www.ncbi.nlm.nih.gov/books/NBK201050/#:~:text=The%20tailings%20are%20then%20forwarded,shipped%20to%20other%20licensed%20facilities"
   ]
  }
 ],
 "metadata": {
  "kernelspec": {
   "display_name": "Python 3 (ipykernel)",
   "language": "python",
   "name": "python3"
  },
  "language_info": {
   "codemirror_mode": {
    "name": "ipython",
    "version": 3
   },
   "file_extension": ".py",
   "mimetype": "text/x-python",
   "name": "python",
   "nbconvert_exporter": "python",
   "pygments_lexer": "ipython3",
   "version": "3.12.3"
  }
 },
 "nbformat": 4,
 "nbformat_minor": 5
}
