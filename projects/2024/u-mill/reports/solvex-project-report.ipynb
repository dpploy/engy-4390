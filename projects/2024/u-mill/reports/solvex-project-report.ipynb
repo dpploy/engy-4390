{
 "cells": [
  {
   "cell_type": "markdown",
   "id": "82aee94b",
   "metadata": {},
   "source": [
    "**Engy-4390** Nuclear Systems Design and Analysis, UMass Lowell, Chem. Eng. Nuclear Program Fall 2024\n",
    "\n",
    "# Uranium Mill Network Dynamics Simulation Report\n",
    "$\n",
    "  \\newcommand{\\Amtrx}{\\boldsymbol{\\mathsf{A}}}\n",
    "  \\newcommand{\\Bmtrx}{\\boldsymbol{\\mathsf{B}}}\n",
    "  \\newcommand{\\Mmtrx}{\\boldsymbol{\\mathsf{M}}}\n",
    "  \\newcommand{\\Imtrx}{\\boldsymbol{\\mathsf{I}}}\n",
    "  \\newcommand{\\Pmtrx}{\\boldsymbol{\\mathsf{P}}}\n",
    "  \\newcommand{\\Lmtrx}{\\boldsymbol{\\mathsf{L}}}\n",
    "  \\newcommand{\\Umtrx}{\\boldsymbol{\\mathsf{U}}}\n",
    "  \\newcommand{\\Smtrx}{\\boldsymbol{\\mathsf{S}}}\n",
    "  \\newcommand{\\xvec}{\\boldsymbol{\\mathsf{x}}}\n",
    "  \\newcommand{\\uvar}{\\boldsymbol{u}}\n",
    "  \\newcommand{\\fvar}{\\boldsymbol{f}}\n",
    "  \\newcommand{\\avec}{\\boldsymbol{\\mathsf{a}}}\n",
    "  \\newcommand{\\bvec}{\\boldsymbol{\\mathsf{b}}}\n",
    "  \\newcommand{\\cvec}{\\boldsymbol{\\mathsf{c}}}\n",
    "  \\newcommand{\\rvec}{\\boldsymbol{\\mathsf{r}}}\n",
    "  \\newcommand{\\mvec}{\\boldsymbol{\\mathsf{m}}}\n",
    "  \\newcommand{\\gvec}{\\boldsymbol{\\mathsf{g}}}\n",
    "  \\newcommand{\\zerovec}{\\boldsymbol{\\mathsf{0}}}\n",
    "  \\newcommand{\\norm}[1]{\\bigl\\lVert{#1}\\bigr\\rVert}\n",
    "  \\newcommand{\\transpose}[1]{{#1}^\\top}\n",
    "  \\DeclareMathOperator{\\rank}{rank}\n",
    "  \\newcommand{\\Power}{\\mathcal{P}}\n",
    "$"
   ]
  },
  {
   "cell_type": "markdown",
   "id": "73f7f8f3",
   "metadata": {},
   "source": [
    "**Student:** Alyssa Puglisi <br>\n",
    "**Course:** Engy-4390 Nuclear Systems Design and Analysis  <br>\n",
    "**Mentor:** Prof. Valmor F. de Almeida\n",
    "\n",
    "UMass Lowell, Dept. of Chemical Engineering, Nuclear Energy Program \n",
    "<br>\n",
    "**16Dec2024**\n",
    "\n",
    "[Project Repository on `GitHub`](https://github.com/dpploy/engy-4390/tree/main/projects/2024/u-mill)"
   ]
  },
  {
   "cell_type": "markdown",
   "id": "4f11fb75",
   "metadata": {},
   "source": [
    "---\n",
    "## Table of Contents<a id=\"toc\"></a>\n",
    "* [Introduction](#intro)\n",
    "   * [Simple Solvex](#simple_solvex)\n",
    "   * [White Mesa's Solvex](#wm_solvex)\n",
    "* [Problem Statment](#prob)\n",
    "* [Source](#src)\n",
    "* [Objectives](#obj)\n",
    "* [Tools](#tools)\n",
    "* [Approach and Dynamics Equations](#app)\n",
    "* [Challenges & Course Corrections](#correct)\n",
    "* [Initialization of Solvent Extraction Module](#IPM)\n",
    "* [References](#refs)\n",
    "---"
   ]
  },
  {
   "cell_type": "code",
   "execution_count": 2,
   "id": "cfa690e5",
   "metadata": {},
   "outputs": [],
   "source": [
    "from cortix import ReactionMechanism"
   ]
  },
  {
   "cell_type": "markdown",
   "id": "92ad65a4",
   "metadata": {},
   "source": [
    "## [Introduction](#toc)<a id=\"intro\"></a>\n"
   ]
  },
  {
   "cell_type": "markdown",
   "id": "f41770df",
   "metadata": {},
   "source": [
    "In some cases (specifically at White Mesa), uranium is extracted from low-grade ore by heap leaching. The crushed ore is placed on a leaching pad with a liner. The leaching agent (alkaline, or sulfuric acid) is introduced on the top of the pile and percolates down until it reaches the liner below the pile, where it is caught and pumped to a processing plant. This is the process operation for White Mesa. "
   ]
  },
  {
   "cell_type": "markdown",
   "id": "4beeddf9",
   "metadata": {},
   "source": [
    "<img src=\"pics/heap-leaching.png\" alt=\"Figure 4: Heap Leach\" width=\"380\">\n",
    "<p style=\"text-align:center;\"><b>Heap Leaching Recovery Process</b>"
   ]
  },
  {
   "cell_type": "markdown",
   "id": "d451f246",
   "metadata": {},
   "source": [
    "### [Simple Solvex](#toa)<a id=\"simple_solvex\"></a>"
   ]
  },
  {
   "cell_type": "markdown",
   "id": "188e537f",
   "metadata": {},
   "source": [
    "Solvent extraction, also known as liquid-liquid extraction, is the partition of metal complexes from two immiscible liquids. The two most common liquids used are one aqueous and one organic. Solvent extraction works on the exploitation of the relative solubility of the solute (metal complexes) in the two phases. The chemical potentials of each input make up the driving force of the transfer. Increased stabilitiy of the products as compared to the initial solution is necessary to increase the driving force. The solute enters the extraction system in the aqeuous feed stream and is extracted by the incoming solvent/organic stream. The feed is reduced and exits the extraction system as the raffinate stream; the solvent stream absorbs and exits the extraction system as the extract stream. Solvent extraction products do need further purification by methods such as percipitation, distillation, etc.\n",
    "\n",
    "Solvent extraction is chosen as the necessary separation technique due to the high precision and accuracy of the separation. All based on the proper selection of the solvent, individual and specific complexes can be removed from the feed stream with substancial levels of exactness. Additional extraction tanks can be added to the system to see extraction percentages close to 100%. Morover, solvent extraction plus a distillation or percipitation process is chosen over just one of the former because of the increased simplicity of the distillation/precipitation process after solvent partitioning. All the benefits of solvent extraction are based on the choice of solvent.\n",
    "\n",
    "The optimal choice solvent needs these three critical charactisterics:\n",
    "\n",
    "* high affinitiy for the solute with low/no affinity for the carrier\n",
    "* different in density when compared to the feed/carrier\n",
    "* solute is easily recoverable from solvent\n",
    "\n",
    "In an ideal world, other beneficial qualities of the choice solvent are:\n",
    "\n",
    "* inexpensive\n",
    "* non-toxic to humans and the environment\n",
    "* non-volatile (low vapor pressure)\n",
    "* non-flammable\n",
    "* non-reactive\n",
    "* non-corrosive"
   ]
  },
  {
   "cell_type": "markdown",
   "id": "d38f4b14",
   "metadata": {},
   "source": [
    "### [White Mesa's Solvex](#toa)<a id=\"wm_solvex\"></a>"
   ]
  },
  {
   "cell_type": "markdown",
   "id": "0b434ca3",
   "metadata": {},
   "source": [
    "Reaction of Solvent Extraction:\n",
    "<br></br>\n",
    "<center>UO<sub>2</sub>(SO<sub>4</sub>)<sub>3</sub><sup>4-</sup> + 2(R<sub>3</sub>NH<sup>+</sup>)<sub>2</sub>SO<sub>4</sub> → (R<sub>3</sub>NH<sup>+</sup>)<sub>4</sub>UO<sub>2</sub>(SO<sub>4</sub>)<sub>3</sub> + 2SO<sub>4</sub><sup>2-</sup></center>"
   ]
  },
  {
   "cell_type": "markdown",
   "id": "4350bffd",
   "metadata": {},
   "source": [
    "Reaction of Stripping:\n",
    "<br></br>\n",
    "<center>(R<sub>3</sub>NH<sup>+</sup>)<sub>4</sub>UO<sub>2</sub>(SO<sub>4</sub>)<sub>3</sub> + 4NH<sub>4</sub>OH ⇌ 4R<sub>3</sub>N + 4H<sub>2</sub>O + (NH<sub>4</sub>)<sub>2</sub>UO<sub>2</sub>(SO<sub>4</sub>)<sub>2</sub> + (NH<sub>4</sub>)<sub>2</sub>SO</center>"
   ]
  },
  {
   "cell_type": "markdown",
   "id": "3bc90453",
   "metadata": {},
   "source": [
    "<img src=\"pics/mixer-settler.jpg\" alt=\"Figure 1: Mixer Settler Machine\" width=\"350\">\n",
    "\n",
    "The uranium solvent extraction circuit consists of:\n",
    "\n",
    "(a) Four extraction stages, \n",
    "\n",
    "(b) One organic washing stage,\n",
    "\n",
    "(c) Four stripping stages, \n",
    "\n",
    "(d) One organic regeneration stage."
   ]
  },
  {
   "cell_type": "markdown",
   "id": "5994606c",
   "metadata": {},
   "source": [
    "In White Mesa, the organic phase consists of Alamine 336 diluted with kerosene modified with isodecanol. Alamine 336 is made almost entirely of Trioctylamine or TOA for short.\n",
    "<br></br>\n",
    "<center>UO<sub>2</sub>(SO<sub>4</sub>)<sub>3</sub><sup>4-</sup> + 2(R<sub>3</sub>NH<sup>+</sup>)<sub>2</sub>SO<sub>4</sub> → (R<sub>3</sub>NH<sup>+</sup>)<sub>4</sub>UO<sub>2</sub>(SO<sub>4</sub>)<sub>3</sub> + 2SO<sub>4</sub><sup>2-</sup></center>\n",
    "\n",
    "From this equation the UO<sub>2</sub>(SO<sub>4</sub>)<sub>3</sub><sup>4-</sup> is the feed stream from the filtration module. The product of solvent extraction is (R<sub>3</sub>NH<sup>+</sup>)<sub>4</sub>UO<sub>2</sub>(SO<sub>4</sub>)<sub>3</sub> with the other product exiting as a waste stream. One problem with this technique is the extraction of molybdenum is preferred to uranium and must be removed. This solution can be introduced to a stripping column to increase the purity of the solution through the removal of molybdenum. The selective stripping of uranium from the solution can be seen with the chemical reaction below.\n",
    "<br></br>\n",
    "<center>(R<sub>3</sub>NH<sup>+</sup>)<sub>4</sub>UO<sub>2</sub>(SO<sub>4</sub>)<sub>3</sub> + 4NH<sub>4</sub>OH ⇌ 4R<sub>3</sub>N + 4H<sub>2</sub>O + (NH<sub>4</sub>)<sub>2</sub>UO<sub>2</sub>(SO<sub>4</sub>)<sub>2</sub> + (NH<sub>4</sub>)<sub>2</sub>SO</center>\n",
    "\n",
    "Solvent extraction occurs in mixer-settler vessels where the organic and aqueous phases are agitated in a mixer then deposited into a settling tank to phase split. The aqueous phase will sink to the bottom with the organic phase rising to the top. The organic phase is then sent to the previous stage with the aqueous phase being passed to the next stage. This results in the first mixer-settler vessel delivering the product to the stripping circuit with the final mixer-settler vessel delivering a waste stream to the tailings area.\n",
    "\n",
    "After solvent extraction the stripping circuit begins with an acidic water wash. Immediately afterwards the organic phase is deposited into another bank of mixer-settler vessels where an acidic sodium chloride solution is used to extract uranyl ions. The stripping circuit will remove nearly all of the uranium from the organic phase resulting in a product of (NH<sub>4</sub>)<sub>2</sub>UO<sub>2</sub>(SO<sub>4</sub>)<sub>2</sub> which is ready to be fed into the precipitation stage where the sulfate will be removed from the compound to be precipitated into U<sub>3</sub>O<sub>8</sub>."
   ]
  },
  {
   "cell_type": "markdown",
   "id": "696ce2dd",
   "metadata": {},
   "source": [
    "## [Problem Statement](#toc)<a id=\"prob\"></a>"
   ]
  },
  {
   "cell_type": "markdown",
   "id": "9cc8d5df",
   "metadata": {},
   "source": [
    "Design a dynamic system that accurately models the mass transfer with multiple phases occuring in the solvent extraction then stripping process during White Mesa's uranium milling. "
   ]
  },
  {
   "cell_type": "code",
   "execution_count": 3,
   "id": "6fda81c2",
   "metadata": {},
   "outputs": [
    {
     "data": {
      "text/markdown": [
       "8 **Species:** \n",
       " ${\\mathrm{H}_{2}\\mathrm{S}\\mathrm{O}_{4}}_{\\mathrm{(a)}} \\quad  {\\mathrm{H}\\mathrm{S}\\mathrm{O}_{4}^-}_\\mathrm{(a)} \\quad  {\\mathrm{S}\\mathrm{O}_{4}^-}_{\\mathrm{(a)}} \\quad  {\\mathrm{U}\\mathrm{O}_{2}[\\mathrm{S}\\mathrm{O}_{4}]_{2}^-}_{\\mathrm{(a)}} \\quad  {[\\mathrm{C}_{1}\\mathrm{H}_{2}\\mathrm{O}_{2}]_{3}\\mathrm{N}}_\\mathrm{(o)} \\quad  {[\\mathrm{C}_{1}\\mathrm{H}_{2}\\mathrm{O}_{2}]_{3}\\mathrm{N}\\mathrm{H}\\bullet\\mathrm{H}\\mathrm{S}\\mathrm{O}_{4}}_{\\mathrm{(o)}} \\quad  {[[\\mathrm{C}_{1}\\mathrm{H}_{2}\\mathrm{O}_{2}]_{3}\\mathrm{N}\\mathrm{H}]_{2}\\mathrm{S}\\mathrm{O}_{4}}_{\\mathrm{(o)}} \\quad  {[[\\mathrm{C}_{1}\\mathrm{H}_{2}\\mathrm{O}_{2}]_{3}\\mathrm{N}\\mathrm{H}]_{2}\\mathrm{U}\\mathrm{O}_{2}[\\mathrm{S}\\mathrm{O}_{4}]_{2}}_{\\mathrm{(o)}}$"
      ],
      "text/plain": [
       "<IPython.core.display.Markdown object>"
      ]
     },
     "metadata": {},
     "output_type": "display_data"
    },
    {
     "data": {
      "text/markdown": [
       "4 **Reactions:** \n",
       " \\begin{align*} \n",
       "{\\mathrm{H}_{2}\\mathrm{S}\\mathrm{O}_{4}}_{\\mathrm{(a)}}\\ + \\ 2.0\\,{[\\mathrm{C}_{1}\\mathrm{H}_{2}\\mathrm{O}_{2}]_{3}\\mathrm{N}}_\\mathrm{(o)}\\ &\\longleftrightarrow \\ {[[\\mathrm{C}_{1}\\mathrm{H}_{2}\\mathrm{O}_{2}]_{3}\\mathrm{N}\\mathrm{H}]_{2}\\mathrm{S}\\mathrm{O}_{4}}_{\\mathrm{(o)}}\\\\ \n",
       "{\\mathrm{H}_{2}\\mathrm{S}\\mathrm{O}_{4}}_{\\mathrm{(a)}}\\ + \\ {[\\mathrm{C}_{1}\\mathrm{H}_{2}\\mathrm{O}_{2}]_{3}\\mathrm{N}}_\\mathrm{(o)}\\ &\\longleftrightarrow \\ {[\\mathrm{C}_{1}\\mathrm{H}_{2}\\mathrm{O}_{2}]_{3}\\mathrm{N}\\mathrm{H}\\bullet\\mathrm{H}\\mathrm{S}\\mathrm{O}_{4}}_{\\mathrm{(o)}}\\\\ \n",
       "{\\mathrm{U}\\mathrm{O}_{2}[\\mathrm{S}\\mathrm{O}_{4}]_{2}^-}_{\\mathrm{(a)}}\\ + \\ {[[\\mathrm{C}_{1}\\mathrm{H}_{2}\\mathrm{O}_{2}]_{3}\\mathrm{N}\\mathrm{H}]_{2}\\mathrm{S}\\mathrm{O}_{4}}_{\\mathrm{(o)}}\\ &\\longleftrightarrow \\ {\\mathrm{S}\\mathrm{O}_{4}^-}_{\\mathrm{(a)}}\\ + \\ {[[\\mathrm{C}_{1}\\mathrm{H}_{2}\\mathrm{O}_{2}]_{3}\\mathrm{N}\\mathrm{H}]_{2}\\mathrm{U}\\mathrm{O}_{2}[\\mathrm{S}\\mathrm{O}_{4}]_{2}}_{\\mathrm{(o)}}\\\\ \n",
       "{\\mathrm{U}\\mathrm{O}_{2}[\\mathrm{S}\\mathrm{O}_{4}]_{2}^-}_{\\mathrm{(a)}}\\ + \\ 2.0\\,{[[\\mathrm{C}_{1}\\mathrm{H}_{2}\\mathrm{O}_{2}]_{3}\\mathrm{N}\\mathrm{H}]_{2}\\mathrm{S}\\mathrm{O}_{4}}_{\\mathrm{(o)}}\\ &\\longleftrightarrow \\ 2.0\\,{\\mathrm{H}\\mathrm{S}\\mathrm{O}_{4}^-}_\\mathrm{(a)}\\ + \\ {[[\\mathrm{C}_{1}\\mathrm{H}_{2}\\mathrm{O}_{2}]_{3}\\mathrm{N}\\mathrm{H}]_{2}\\mathrm{U}\\mathrm{O}_{2}[\\mathrm{S}\\mathrm{O}_{4}]_{2}}_{\\mathrm{(o)}}\\\\ \n",
       "\\end{align*} \n"
      ],
      "text/plain": [
       "<IPython.core.display.Markdown object>"
      ]
     },
     "metadata": {},
     "output_type": "display_data"
    }
   ],
   "source": [
    "rxn_mech = ReactionMechanism(file_name='solvex-stripping-rxn-mechanism.txt', order_species=True)\n",
    "rxn_mech.md_print()\n",
    "\n",
    "#help(rxn_mech)\n",
    "#TODO C11H20O2 is only showing up as C1 H2 O2 ??"
   ]
  },
  {
   "cell_type": "markdown",
   "id": "201c58e4",
   "metadata": {},
   "source": [
    "The amine, on contact with a sulphuric acid solution, is converted into the sulphate or bisulphate salt.\n",
    "\n",
    "The actual extraction reactions are complex. However, in a simplified way, the extraction can be depicted as an anion exchange where the anionic uranium complex from the aqueous solution replaces the sulphate or bisulphate ion in the organic phase. "
   ]
  },
  {
   "cell_type": "markdown",
   "id": "27787262",
   "metadata": {},
   "source": [
    "The data check below shows that the reactions within solvent extraction are coupled. We can see that the set of reaction mechanism are not full rank, indicating that the concentration of individual species are dependent on multiple reactions and multiple species."
   ]
  },
  {
   "cell_type": "code",
   "execution_count": 4,
   "id": "a69a550a",
   "metadata": {},
   "outputs": [
    {
     "name": "stdout",
     "output_type": "stream",
     "text": [
      "Is mass conserved? False\n",
      "# reactions =  4\n",
      "# species   =  8\n",
      "rank of S =  4\n",
      "S is full rank.\n",
      "S=\n",
      " [[-1.  0.  0.  0. -2.  0.  1.  0.]\n",
      " [-1.  0.  0.  0. -1.  1.  0.  0.]\n",
      " [ 0.  0.  1. -1.  0.  0. -1.  1.]\n",
      " [ 0.  2.  0. -1.  0.  0. -2.  1.]]\n"
     ]
    }
   ],
   "source": [
    "'''Data Check'''\n",
    "print('Is mass conserved?', rxn_mech.is_mass_conserved())\n",
    "rxn_mech.rank_analysis(verbose=True, tol=1e-8)\n",
    "print('S=\\n', rxn_mech.stoic_mtrx)"
   ]
  },
  {
   "cell_type": "markdown",
   "id": "0b710d83",
   "metadata": {},
   "source": [
    "Each species concentration must then be solved for co-currently with eachother. This is key to developing the dynamic model of White Mesa's solvent extraction."
   ]
  },
  {
   "cell_type": "markdown",
   "id": "3ddcf3c6",
   "metadata": {},
   "source": [
    "## [Source](#toc)<a id=\"src\"></a>"
   ]
  },
  {
   "cell_type": "markdown",
   "id": "8051e23c",
   "metadata": {},
   "source": [
    "Documentation options:\n",
    "\n",
    "* Live in this notebook run on code cell: help(src.stage)\n",
    "* On the web: [Solvent Extraction Source](https://github.com/dpploy/engy-4390/blob/main/projects/2024/u-mill/src/solvex.py)"
   ]
  },
  {
   "cell_type": "code",
   "execution_count": 5,
   "id": "358dc47b",
   "metadata": {},
   "outputs": [],
   "source": [
    "'''For help purposes'''\n",
    "import src.solvex"
   ]
  },
  {
   "cell_type": "markdown",
   "id": "b81c7290",
   "metadata": {},
   "source": [
    "The solvent extraction source code simulates the 4 major unit operations below based on the following design conditions:"
   ]
  },
  {
   "cell_type": "markdown",
   "id": "a3d1c792",
   "metadata": {},
   "source": [
    "| **Solvent Extraction**     |\n",
    "|:--------------------|\n",
    "|4 Mixer-settlers units |\n",
    "|Area per unit 1400 ft^2, height 6 ft |\n",
    "|Aqueous/Organic = 3.0 |\n",
    "|0.1M Alamine 336 (tri-octylamine TOA) |\n",
    "|Dilutent is kerosene modified with 5% isodecanol|\n",
    "|Solvent mixture: 2.5% TOA, 2.5% isodecanol, and 95% kerosene          |            |"
   ]
  },
  {
   "cell_type": "markdown",
   "id": "4414dd78",
   "metadata": {},
   "source": [
    "| **Scrubbing**     |\n",
    "|:--------------------|\n",
    "|1 Mixer-settlers units|\n",
    "|Area per unit 1400 ft^2, height 6 ft|            |"
   ]
  },
  {
   "cell_type": "markdown",
   "id": "1217bfc6",
   "metadata": {},
   "source": [
    "| **Stripping**     |\n",
    "|:--------------------|\n",
    "|4 Mixer-settlers units|\n",
    "|Area per unit 1400 ft^2, height 6 ft|            |"
   ]
  },
  {
   "cell_type": "markdown",
   "id": "06beca05",
   "metadata": {},
   "source": [
    "|     **Solvent Regeneration**    |\n",
    "|:--------------------|\n",
    "|1 Mixer-settlers units|\n",
    "|Area per unit 1400 ft^2, height 6 ft|            |"
   ]
  },
  {
   "cell_type": "markdown",
   "id": "752b7f63",
   "metadata": {},
   "source": [
    "## [Objectives](#toc)<a id=\"obj\"></a>"
   ]
  },
  {
   "cell_type": "markdown",
   "id": "5ef222c6",
   "metadata": {},
   "source": [
    "- Python code will be used to develop dynamic comprehensive systems that accurately represent the solvent extraction process. This is a non-equilibrium, reactive mass transfer scenario. The analysis involves both mathematical models of the system’s material streams and visual representations of the data on a time dependent basis.\n",
    "- Deliverable content will be prepared using Jupyter notebooks to seamlessly integrate working code with descriptive markdown text.  \n",
    "- A flowsheet based on White Mesa will be developed as the basis for our modules\n",
    "\n"
   ]
  },
  {
   "cell_type": "markdown",
   "id": "033d7eb6",
   "metadata": {},
   "source": [
    "## [Tools](#toc)<a id=\"tools\"></a>"
   ]
  },
  {
   "cell_type": "markdown",
   "id": "55a2d39e",
   "metadata": {},
   "source": [
    "For this project we will be utilizing GitHub to store a remote repository of our python code and project report. GitHub is a version control software that programmers use to share and work on coding projects together. This allows for users to view the contribution history easily and rollback changes if needed. GitHub interfaces with git to create a graphical user interface for the git repository. At its core, a GitHub repository is a mirror of a git repository with any changes being submitted through GitHub automatically being sent to the git repository as well.\n",
    "\n",
    "Cortix is a library for Python that was created by Dr. Almeida and his research group to simplify the process of producing dynamic system models. The full open-source code can be found on Github, where anyone can download and use the library and its available unit operation modules. The Github repository also contains examples that use the code to simulate various chemical interactions while delivering time dependent data. \n",
    "\n",
    "<img src=\"cortix-logo.jpg\" alt=\"Figure 3: Cortix Logo\" width=\"150\"/>\n",
    "<img src=\"github-logo.jpg\" alt=\"Figure 2: Github Logo\" width=\"150\"/>"
   ]
  },
  {
   "cell_type": "markdown",
   "id": "24ec4478",
   "metadata": {},
   "source": [
    "## [Approach and Dynamics Equations](#toc)<a id=\"app\"></a>"
   ]
  },
  {
   "cell_type": "markdown",
   "id": "4de19069",
   "metadata": {},
   "source": [
    "#### Assumptions \n",
    "+ ideal flow mixing \n",
    "+ ideal solution"
   ]
  },
  {
   "cell_type": "markdown",
   "id": "f4ba092c",
   "metadata": {},
   "source": [
    "-  First, a series of mass balances and component balances are made based on the desired input of 1 ton of raw material.\n",
    "- These balances then take into account the chemical kinetics and related rates required in the operation of White Mesa's chemical reactions and fluid flow operations\n",
    "- Once baseline models of each individual process exist, they are then programmed into 5 separate but connected modules within Cortix\n",
    "- Each process will be capable of interacting with the modules connected to it on either end, allowing them to share data such as the incoming and outgoing streams from one process to the next"
   ]
  },
  {
   "cell_type": "markdown",
   "id": "7328ae15",
   "metadata": {},
   "source": [
    "|    **Inputs**   |   **Legend**   |\n",
    "|:----------------------|:---------------------|\n",
    "|m<sub>aef</sub> | mass flow rate of aqueous external feed|\n",
    "|m<sub>oef</sub> | mass flow rate of organic external feed |\n",
    "|m<sub>voii</sub> | mass flow rate of vapor organic inter-stage inflow|\n",
    "|m<sub>oii</sub> | mass flow rate of organic inter-stage inflow|\n",
    "|m<sub>vaii</sub> | mass flow rate of vapor aqueous inter-stage inflow|\n",
    "|m<sub>aii</sub> | mass flow rate of aqueous inter-stage inflow|\n",
    "        | "
   ]
  },
  {
   "cell_type": "markdown",
   "id": "17f93336",
   "metadata": {},
   "source": [
    "|    **Outputs**   |   **Legend**   |\n",
    "|:----------------------|:---------------------|\n",
    "|m<sub>ap</sub> | mass flow rate of aqeuous product|\n",
    "|m<sub>op</sub> | mass flow rate of organic product|\n",
    "|m<sub>voio</sub> | mass flow rate of vapor organic inter-stage outflow|\n",
    "|m<sub>oio</sub> | mass flow rate of organic inter-stage outflow| |m<sub>vaio</sub> | mass flow rate of vapor aqueous inter-stage outflow| |m<sub>aio</sub> | mass flow rate of aqueous inter-stage outflow|         | "
   ]
  },
  {
   "cell_type": "markdown",
   "id": "bf8acc0b",
   "metadata": {},
   "source": [
    "## [Challenges & Course Correctons](#toc)<a id=\"correct\"></a>"
   ]
  },
  {
   "cell_type": "markdown",
   "id": "3dc716c3",
   "metadata": {},
   "source": [
    "<img src=\"pics/wm-solvex-flow-diagram.jpg\" alt=\"Figure 3: Process Flow Diagram\" width=\"1600\">\n",
    "<p style=\"text-align:center;\"><b>White Mesa Solvex Equipment Flow Diagram</b>"
   ]
  },
  {
   "cell_type": "markdown",
   "id": "1140df69",
   "metadata": {},
   "source": [
    "When introduced to the previous source code files, one major issue appeared: an inifinite aqueuous volume ramping effect. This showed itself as the aqueous volume, and thus total volume within the 4 extraction tanks, never reached equilibrium and were continuously spilling."
   ]
  },
  {
   "cell_type": "markdown",
   "id": "724dd1fb",
   "metadata": {},
   "source": [
    "Course corrections began by pinpointing the time integration error for the scrub raffinate phase and extract raffinate phase. "
   ]
  },
  {
   "cell_type": "markdown",
   "id": "51d195d7",
   "metadata": {},
   "source": [
    "## [Initialization of Solvent Extraction](#toc)<a id=\"IPM\"></a>"
   ]
  },
  {
   "cell_type": "markdown",
   "id": "4ef02dc3",
   "metadata": {},
   "source": [
    "<img src=\"pics/solvex-scrub-strip-process-diagram.png\" alt=\"Figure 4: Process Diagram\" width=\"1600\">\n",
    "<p style=\"text-align:center;\"><b>Solvent Extraction-Scrubbing-Stripping Flow Streams</b>"
   ]
  },
  {
   "cell_type": "markdown",
   "id": "523e72bb",
   "metadata": {},
   "source": [
    "## [References](#toc)<a id=\"refs\"></a>\n",
    "\n",
    "- [1] “35 No. 9 Uranium Extraction Technology - IAEA.” Uranium Extraction Technology, IAEA, 1993, https://www-pub.iaea.org/MTCD/Publications/PDF/trs359_web.pdf. \n",
    "- [2] \"31 No. 3 Manual on Laboratory Testing for Uranium Ore Precessing - IAEA.\" Manual on Laboratory Testing for Uranium Ore Precessing, IAEA, 1990, https://www-pub.iaea.org/MTCD/Publications/PDF/trs313_web.pdf"
   ]
  }
 ],
 "metadata": {
  "kernelspec": {
   "display_name": "Python 3 (ipykernel)",
   "language": "python",
   "name": "python3"
  },
  "language_info": {
   "codemirror_mode": {
    "name": "ipython",
    "version": 3
   },
   "file_extension": ".py",
   "mimetype": "text/x-python",
   "name": "python",
   "nbconvert_exporter": "python",
   "pygments_lexer": "ipython3",
   "version": "3.11.5"
  }
 },
 "nbformat": 4,
 "nbformat_minor": 5
}
