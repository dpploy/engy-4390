{
 "cells": [
  {
   "cell_type": "code",
   "execution_count": 1,
   "id": "7c55a238",
   "metadata": {},
   "outputs": [
    {
     "name": "stderr",
     "output_type": "stream",
     "text": [
      "[3700] 2024-11-06 17:10:16,586 - cortix - INFO - Created Cortix object \n",
      "_____________________________________________________________________________\n",
      "                             L A U N C H I N G                               \n",
      "_____________________________________________________________________________\n",
      "      ...                                        s       .     (TAAG Fraktur)\n",
      "   xH88\"`~ .x8X                                 :8      @88>\n",
      " :8888   .f\"8888Hf        u.      .u    .      .88      %8P      uL   ..\n",
      ":8888>  X8L  ^\"\"`   ...ue888b   .d88B :@8c    :888ooo    .     .@88b  @88R\n",
      "X8888  X888h        888R Y888r =\"8888f8888r -*8888888  .@88u  \"\"Y888k/\"*P\n",
      "88888  !88888.      888R I888>   4888>\"88\"    8888    888E`    Y888L\n",
      "88888   %88888      888R I888>   4888> \"      8888      888E      8888\n",
      "88888 `> `8888>     888R I888>   4888>        8888      888E      `888N\n",
      "`8888L %  ?888   ! u8888cJ888   .d888L .+    .8888Lu=   888E   .u./\"888&\n",
      " `8888  `-*\"\"   /   \"*888*P\"    ^\"8888*\"     ^%888*     888&  d888\" Y888*\"\n",
      "   \"888.      :\"      \"Y\"          \"Y\"         \"Y\"      R888\" ` \"Y   Y\"\n",
      "     `\"\"***~\"`                                           \"\"\n",
      "                             https://cortix.org                              \n",
      "_____________________________________________________________________________\n"
     ]
    }
   ],
   "source": [
    "\"\"\"Setup a White Mesa plant\"\"\"\n",
    "\n",
    "from cortix import Cortix\n",
    "from cortix import Network\n",
    "from cortix import Units as unit\n",
    "white_mesa = Cortix(use_mpi=False, splash=True)   # system top level - allows system to use cortix functions\n",
    "wm_net = white_mesa.network = Network()           # calling on the network function\n",
    "#help(wm_net)\n"
   ]
  },
  {
   "cell_type": "code",
   "execution_count": 6,
   "id": "a9019bd1",
   "metadata": {},
   "outputs": [
    {
     "ename": "AttributeError",
     "evalue": "module 'src' has no attribute 'evaporation'",
     "output_type": "error",
     "traceback": [
      "\u001b[1;31m---------------------------------------------------------------------------\u001b[0m",
      "\u001b[1;31mAttributeError\u001b[0m                            Traceback (most recent call last)",
      "Cell \u001b[1;32mIn[6], line 3\u001b[0m\n\u001b[0;32m      1\u001b[0m \u001b[38;5;124;03m\"\"\"Setup Evaporation/Calcination\"\"\"\u001b[39;00m\n\u001b[0;32m      2\u001b[0m \u001b[38;5;28;01mimport\u001b[39;00m \u001b[38;5;21;01msrc\u001b[39;00m\u001b[38;5;21;01m.\u001b[39;00m\u001b[38;5;21;01mevaporation_calcination\u001b[39;00m\n\u001b[1;32m----> 3\u001b[0m evap \u001b[38;5;241m=\u001b[39m src\u001b[38;5;241m.\u001b[39mevaporation\u001b[38;5;241m.\u001b[39mEvaporation()\n\u001b[0;32m      4\u001b[0m wm_net\u001b[38;5;241m.\u001b[39mmodule(evap)\n\u001b[0;32m      5\u001b[0m wm_net\u001b[38;5;241m.\u001b[39mdraw(engine\u001b[38;5;241m=\u001b[39m\u001b[38;5;124m'\u001b[39m\u001b[38;5;124mcirco\u001b[39m\u001b[38;5;124m'\u001b[39m, node_shape\u001b[38;5;241m=\u001b[39m\u001b[38;5;124m'\u001b[39m\u001b[38;5;124mfolder\u001b[39m\u001b[38;5;124m'\u001b[39m, ports\u001b[38;5;241m=\u001b[39m\u001b[38;5;28;01mTrue\u001b[39;00m)\n",
      "\u001b[1;31mAttributeError\u001b[0m: module 'src' has no attribute 'evaporation'"
     ]
    }
   ],
   "source": [
    "'''Setup Precipitation'''\n",
    "#import src.precipitation # this will give access to the python module docstring\n",
    "#precipitation = src.preipication.Precipitation()\n",
    "#wm_net.module(precipitation) "
   ]
  },
  {
   "cell_type": "code",
   "execution_count": null,
   "id": "ff12ec5e",
   "metadata": {},
   "outputs": [],
   "source": [
    "'''Setup Evaporation-Calcination'''\n",
    "import src.evaporation_calcination # this will give access to the python module docstring\n",
    "evap_calcin = src.evaporation_calcination.EvaporationCalcination()\n",
    "wm_net.module(evap_calcin) "
   ]
  },
  {
   "cell_type": "code",
   "execution_count": null,
   "id": "36ea889d",
   "metadata": {},
   "outputs": [],
   "source": [
    "'''Setup Network'''\n",
    "wm_net.connect()\n",
    "\n",
    "wm_net.draw(engine='dot', node_shape='folder', size='600,1200')"
   ]
  },
  {
   "cell_type": "code",
   "execution_count": null,
   "id": "9b281751",
   "metadata": {},
   "outputs": [],
   "source": [
    "'''Initialize run'''\n",
    "end_time = 10*unit.day\n",
    "time_step = 10.0*unit.minute\n",
    "show_time = (True, unit.hour)\n",
    "\n",
    "for m in wm_net.modules:\n",
    "    m.end_time = end_time\n",
    "    m.time_step = time_step\n",
    "    m.show_time = show_time"
   ]
  },
  {
   "cell_type": "code",
   "execution_count": null,
   "id": "e63698e6",
   "metadata": {},
   "outputs": [],
   "source": [
    "'''Run White Mesa and shutdown'''   \n",
    "white_mesa.run()\n",
    "white_mesa.close()"
   ]
  },
  {
   "cell_type": "code",
   "execution_count": null,
   "id": "2932201f",
   "metadata": {},
   "outputs": [],
   "source": [
    "'''Recover modules data'''\n",
    "#precipitation = wm_net.modules[0]\n",
    "evap_calcin = wm_net.modules[1]"
   ]
  }
 ],
 "metadata": {
  "kernelspec": {
   "display_name": "Python 3 (ipykernel)",
   "language": "python",
   "name": "python3"
  },
  "language_info": {
   "codemirror_mode": {
    "name": "ipython",
    "version": 3
   },
   "file_extension": ".py",
   "mimetype": "text/x-python",
   "name": "python",
   "nbconvert_exporter": "python",
   "pygments_lexer": "ipython3",
   "version": "3.11.5"
  }
 },
 "nbformat": 4,
 "nbformat_minor": 5
}
