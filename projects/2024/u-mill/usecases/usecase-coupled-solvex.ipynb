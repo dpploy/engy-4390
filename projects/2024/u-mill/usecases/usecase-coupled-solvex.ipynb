{
 "cells": [
  {
   "cell_type": "markdown",
   "id": "c3a13837",
   "metadata": {},
   "source": [
    "**Engy-4390** Nuclear Systems Design and Analysis, UMass Lowell, Chem. Eng. Nuclear Program Fall 2024"
   ]
  },
  {
   "cell_type": "markdown",
   "id": "8e11668d",
   "metadata": {},
   "source": [
    "## Uranium Mill Network Dynamics Simulation"
   ]
  },
  {
   "cell_type": "markdown",
   "id": "b3c85718",
   "metadata": {},
   "source": [
    "### Coupling Solvent Extraction Stages Modules\n",
    "In construction...<br>\n",
    "[Project Repository on `GitHub`](https://github.com/dpploy/engy-4390/tree/main/projects/2024/u-mill)"
   ]
  },
  {
   "cell_type": "markdown",
   "id": "8b3e64bc",
   "metadata": {},
   "source": [
    "---\n",
    "## Table of Contents<a id=\"toc\"></a>\n",
    "* [Objectives](#obj)\n",
    "* [References](#refs)\n",
    "---"
   ]
  },
  {
   "cell_type": "markdown",
   "id": "5b7d29a7",
   "metadata": {},
   "source": [
    "## [Objectives](#toc)<a id=\"obj\"></a>"
   ]
  },
  {
   "cell_type": "markdown",
   "id": "8fa6ae1a",
   "metadata": {},
   "source": [
    "- Test the implementation of coupled modules in Cortix. \n",
    "- Present an executable environment for learning how to use the Cortix modules developed for a simplified Whit Mesa Milling flowsheet."
   ]
  },
  {
   "cell_type": "code",
   "execution_count": 2,
   "id": "fbd4f723",
   "metadata": {},
   "outputs": [
    {
     "ename": "PermissionError",
     "evalue": "[WinError 32] The process cannot access the file because it is being used by another process: 'cortix.log'",
     "output_type": "error",
     "traceback": [
      "\u001b[1;31m---------------------------------------------------------------------------\u001b[0m",
      "\u001b[1;31mPermissionError\u001b[0m                           Traceback (most recent call last)",
      "Cell \u001b[1;32mIn[2], line 5\u001b[0m\n\u001b[0;32m      3\u001b[0m \u001b[38;5;28;01mfrom\u001b[39;00m \u001b[38;5;21;01mcortix\u001b[39;00m \u001b[38;5;28;01mimport\u001b[39;00m Network\n\u001b[0;32m      4\u001b[0m \u001b[38;5;28;01mfrom\u001b[39;00m \u001b[38;5;21;01mcortix\u001b[39;00m \u001b[38;5;28;01mimport\u001b[39;00m Units \u001b[38;5;28;01mas\u001b[39;00m unit \n\u001b[1;32m----> 5\u001b[0m white_mesa \u001b[38;5;241m=\u001b[39m Cortix(use_mpi\u001b[38;5;241m=\u001b[39m\u001b[38;5;28;01mFalse\u001b[39;00m, splash\u001b[38;5;241m=\u001b[39m\u001b[38;5;28;01mTrue\u001b[39;00m)    \u001b[38;5;66;03m# system top level\u001b[39;00m\n\u001b[0;32m      6\u001b[0m wm_net \u001b[38;5;241m=\u001b[39m white_mesa\u001b[38;5;241m.\u001b[39mnetwork \u001b[38;5;241m=\u001b[39m Network()\n",
      "File \u001b[1;32mC:\\Anaconda\\Lib\\site-packages\\cortix\\src\\cortix_main.py:74\u001b[0m, in \u001b[0;36mCortix.__init__\u001b[1;34m(self, use_mpi, splash, log_filename_stem)\u001b[0m\n\u001b[0;32m     71\u001b[0m         \u001b[38;5;28mself\u001b[39m\u001b[38;5;241m.\u001b[39muse_mpi \u001b[38;5;241m=\u001b[39m \u001b[38;5;28;01mFalse\u001b[39;00m\n\u001b[0;32m     73\u001b[0m \u001b[38;5;66;03m# Setup the global logger\u001b[39;00m\n\u001b[1;32m---> 74\u001b[0m \u001b[38;5;28mself\u001b[39m\u001b[38;5;241m.\u001b[39m__create_logger()\n\u001b[0;32m     76\u001b[0m \u001b[38;5;66;03m# Done\u001b[39;00m\n\u001b[0;32m     77\u001b[0m \u001b[38;5;28;01mif\u001b[39;00m \u001b[38;5;28mself\u001b[39m\u001b[38;5;241m.\u001b[39mrank \u001b[38;5;241m==\u001b[39m \u001b[38;5;241m0\u001b[39m \u001b[38;5;129;01mor\u001b[39;00m \u001b[38;5;28mself\u001b[39m\u001b[38;5;241m.\u001b[39muse_multiprocessing:\n",
      "File \u001b[1;32mC:\\Anaconda\\Lib\\site-packages\\cortix\\src\\cortix_main.py:147\u001b[0m, in \u001b[0;36mCortix.__create_logger\u001b[1;34m(self)\u001b[0m\n\u001b[0;32m    145\u001b[0m \u001b[38;5;28;01mif\u001b[39;00m \u001b[38;5;28mself\u001b[39m\u001b[38;5;241m.\u001b[39mrank \u001b[38;5;241m==\u001b[39m \u001b[38;5;241m0\u001b[39m \u001b[38;5;129;01mor\u001b[39;00m \u001b[38;5;28mself\u001b[39m\u001b[38;5;241m.\u001b[39muse_multiprocessing:\n\u001b[0;32m    146\u001b[0m     \u001b[38;5;28;01mif\u001b[39;00m os\u001b[38;5;241m.\u001b[39mpath\u001b[38;5;241m.\u001b[39misfile(\u001b[38;5;28mself\u001b[39m\u001b[38;5;241m.\u001b[39mlog_filename_stem\u001b[38;5;241m+\u001b[39m\u001b[38;5;124m'\u001b[39m\u001b[38;5;124m.log\u001b[39m\u001b[38;5;124m'\u001b[39m):\n\u001b[1;32m--> 147\u001b[0m         os\u001b[38;5;241m.\u001b[39mremove(\u001b[38;5;28mself\u001b[39m\u001b[38;5;241m.\u001b[39mlog_filename_stem\u001b[38;5;241m+\u001b[39m\u001b[38;5;124m'\u001b[39m\u001b[38;5;124m.log\u001b[39m\u001b[38;5;124m'\u001b[39m)\n\u001b[0;32m    149\u001b[0m \u001b[38;5;66;03m# Sync here to allow for file removal\u001b[39;00m\n\u001b[0;32m    150\u001b[0m \u001b[38;5;28;01mif\u001b[39;00m \u001b[38;5;28mself\u001b[39m\u001b[38;5;241m.\u001b[39muse_mpi:\n",
      "\u001b[1;31mPermissionError\u001b[0m: [WinError 32] The process cannot access the file because it is being used by another process: 'cortix.log'"
     ]
    }
   ],
   "source": [
    "'''Setup a White Mesa plant'''\n",
    "from cortix import Cortix\n",
    "from cortix import Network\n",
    "from cortix import Units as unit \n",
    "white_mesa = Cortix(use_mpi=False, splash=True)    # system top level\n",
    "wm_net = white_mesa.network = Network()            # Network\n",
    "\n",
    "# help(white_mesa.network)"
   ]
  },
  {
   "cell_type": "code",
   "execution_count": null,
   "id": "9cfe98d1",
   "metadata": {},
   "outputs": [],
   "source": [
    "'''Setup Solvent Extraction 1s loop'''\n",
    "import src.solvex         # gives access to python module docstring\n",
    "solvex_01 = src.solvex.Solvex()\n",
    "wm_net.module(solvex_01)"
   ]
  },
  {
   "cell_type": "code",
   "execution_count": null,
   "id": "764964c7",
   "metadata": {},
   "outputs": [],
   "source": [
    "'''Setup Solvent Extraction 2nd loop'''\n",
    "import src.solvex\n",
    "solvex_02 = src.solvex.Solvex()\n",
    "wm_net.module(solvex_02)"
   ]
  },
  {
   "cell_type": "code",
   "execution_count": null,
   "id": "b39f4705",
   "metadata": {},
   "outputs": [],
   "source": [
    "'''Setup Network'''\n",
    "wm_net.connect([solvex_01, 'raffinate'], [solvex_02, 'extraction_feed'])\n",
    "wm_net.connect([solvex_02,'raffinate'], [solvex_01, 'extraction_feed'])\n",
    "wm_net.connect([solvex_01, 'product'], [solvex_02, 'stripping feed'])\n",
    "wm_net.connext([solvex_02, 'product'], [solvex_01, 'stripping feed'])\n",
    "\n",
    " wm_net.draw(engine='dot', node_shape='folder', size='600,1200')"
   ]
  },
  {
   "cell_type": "code",
   "execution_count": null,
   "id": "79340fa0",
   "metadata": {},
   "outputs": [],
   "source": [
    "'''Initialize run'''\n",
    "end_time = 10*unit.day\n",
    "time_step = 10.0*unit.minute\n",
    "show_time = (True, unit.hour)\n",
    "\n",
    "for m in wm_net.modules:\n",
    "    m.end_time = end_time\n",
    "    m.time_step = time_step\n",
    "    m.show_time = show_time"
   ]
  },
  {
   "cell_type": "code",
   "execution_count": null,
   "id": "047f453e",
   "metadata": {},
   "outputs": [],
   "source": [
    "'''Run White Mesa and shutdown'''\n",
    "white_mesa.run()\n",
    "white_mesa.close()"
   ]
  },
  {
   "cell_type": "code",
   "execution_count": null,
   "id": "7b9ef200",
   "metadata": {},
   "outputs": [],
   "source": [
    "'''Recover modules data'''\n",
    "solvex_01 = wm_net.modules[0]\n",
    "solvex_02 = wm_net.modules[1]"
   ]
  },
  {
   "cell_type": "code",
   "execution_count": null,
   "id": "9a097a2e",
   "metadata": {},
   "outputs": [],
   "source": [
    "'''1st Solvex Stage data'''\n",
    "solvex_01.solvex_state_phase.plot(['aqueous-volume', 'organic-volume', 'liquid-volume'], show=True,figsize=[14,8])\n",
    "solvex_01.solvex_product_phase.plot(['mass-flowrate', 'mass-density'], show=True, figsize=[14,8])\n",
    "solvex_01.scrub_raffinate_phase.plot(['mass-flowrate', 'mass-density'], show=True, figsize=[14,8])"
   ]
  },
  {
   "cell_type": "code",
   "execution_count": null,
   "id": "91f463ba",
   "metadata": {},
   "outputs": [],
   "source": [
    "'''2nd Solvex Stage data'''\n",
    "solvex_02.solvex_state_phase.plot(['aqueous-volume', 'organic-volume', 'liquid-volume'], show=True,figsize=[14,8])\n",
    "solvex_02.solvex_product_phase.plot(['mass-flowrate', 'mass-density'], show=True, figsize=[14,8])\n",
    "solvex_02.scrub_raffinate_phase.plot(['mass-flowrate', 'mass-density'], show=True, figsize=[14,8])"
   ]
  }
 ],
 "metadata": {
  "kernelspec": {
   "display_name": "Python 3 (ipykernel)",
   "language": "python",
   "name": "python3"
  },
  "language_info": {
   "codemirror_mode": {
    "name": "ipython",
    "version": 3
   },
   "file_extension": ".py",
   "mimetype": "text/x-python",
   "name": "python",
   "nbconvert_exporter": "python",
   "pygments_lexer": "ipython3",
   "version": "3.11.5"
  }
 },
 "nbformat": 4,
 "nbformat_minor": 5
}
