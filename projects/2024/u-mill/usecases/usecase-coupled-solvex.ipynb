{
 "cells": [
  {
   "cell_type": "markdown",
   "id": "c3a13837",
   "metadata": {},
   "source": [
    "**Engy-4390** Nuclear Systems Design and Analysis, UMass Lowell, Chem. Eng. Nuclear Program Fall 2024"
   ]
  },
  {
   "cell_type": "markdown",
   "id": "8e11668d",
   "metadata": {},
   "source": [
    "## Uranium Mill Network Dynamics Simulation"
   ]
  },
  {
   "cell_type": "markdown",
   "id": "b3c85718",
   "metadata": {},
   "source": [
    "### Coupling Solvent Extraction Stages Modules\n",
    "In construction...<br>\n",
    "[Project Repository on `GitHub`](https://github.com/dpploy/engy-4390/tree/main/projects/2024/u-mill)"
   ]
  },
  {
   "cell_type": "markdown",
   "id": "8b3e64bc",
   "metadata": {},
   "source": [
    "---\n",
    "## Table of Contents<a id=\"toc\"></a>\n",
    "* [Objectives](#obj)\n",
    "* [References](#refs)\n",
    "---"
   ]
  },
  {
   "cell_type": "markdown",
   "id": "5b7d29a7",
   "metadata": {},
   "source": [
    "## [Objectives](#toc)<a id=\"obj\"></a>"
   ]
  },
  {
   "cell_type": "markdown",
   "id": "8fa6ae1a",
   "metadata": {},
   "source": [
    "- Test the implementation of coupled modules in Cortix. \n",
    "- Present an executable environment for learning how to use the Cortix modules developed for a simplified Whit Mesa Milling flowsheet."
   ]
  },
  {
   "cell_type": "code",
   "execution_count": 2,
   "id": "fbd4f723",
   "metadata": {},
   "outputs": [
    {
     "name": "stderr",
     "output_type": "stream",
     "text": [
      "[5220] 2024-10-23 17:41:58,123 - cortix - INFO - Created Cortix object \n",
      "_____________________________________________________________________________\n",
      "                             L A U N C H I N G                               \n",
      "_____________________________________________________________________________\n",
      "      ...                                        s       .     (TAAG Fraktur)\n",
      "   xH88\"`~ .x8X                                 :8      @88>\n",
      " :8888   .f\"8888Hf        u.      .u    .      .88      %8P      uL   ..\n",
      ":8888>  X8L  ^\"\"`   ...ue888b   .d88B :@8c    :888ooo    .     .@88b  @88R\n",
      "X8888  X888h        888R Y888r =\"8888f8888r -*8888888  .@88u  \"\"Y888k/\"*P\n",
      "88888  !88888.      888R I888>   4888>\"88\"    8888    888E`    Y888L\n",
      "88888   %88888      888R I888>   4888> \"      8888      888E      8888\n",
      "88888 `> `8888>     888R I888>   4888>        8888      888E      `888N\n",
      "`8888L %  ?888   ! u8888cJ888   .d888L .+    .8888Lu=   888E   .u./\"888&\n",
      " `8888  `-*\"\"   /   \"*888*P\"    ^\"8888*\"     ^%888*     888&  d888\" Y888*\"\n",
      "   \"888.      :\"      \"Y\"          \"Y\"         \"Y\"      R888\" ` \"Y   Y\"\n",
      "     `\"\"***~\"`                                           \"\"\n",
      "                             https://cortix.org                              \n",
      "_____________________________________________________________________________\n"
     ]
    }
   ],
   "source": [
    "'''Setup a White Mesa plant'''\n",
    "from cortix import Cortix\n",
    "from cortix import Network\n",
    "from cortix import Units as unit \n",
    "white_mesa = Cortix(use_mpi=False, splash=True)    # system top level\n",
    "wm_net = white_mesa.network = Network()            # Network\n",
    "\n",
    "# help(white_mesa.network)"
   ]
  },
  {
   "cell_type": "code",
   "execution_count": 3,
   "id": "9cfe98d1",
   "metadata": {},
   "outputs": [],
   "source": [
    "'''Setup Solvent Extraction 1s loop'''\n",
    "import src.solvex         # gives access to python module docstring\n",
    "solvex_01 = src.solvex.Solvex()\n",
    "wm_net.module(solvex_01)"
   ]
  },
  {
   "cell_type": "code",
   "execution_count": 4,
   "id": "764964c7",
   "metadata": {},
   "outputs": [],
   "source": [
    "'''Setup Solvent Extraction 2nd loop'''\n",
    "import src.solvex\n",
    "solvex_02 = src.solvex.Solvex()\n",
    "wm_net.module(solvex_02)"
   ]
  },
  {
   "cell_type": "code",
   "execution_count": null,
   "id": "b39f4705",
   "metadata": {},
   "outputs": [],
   "source": [
    "'''Setup Network'''\n",
    "wm_net.connect([solvex_01, 'raffinate'], [solvex_02, 'extraction_feed'])\n",
    "wm_net.connect([solvex_02,'raffinate'], [solvex_01, 'extraction_feed'])\n",
    "wm_net.connect([solvex_01, 'product'], [solvex_02, 'stripping feed'])\n",
    "wm_net.connext([solvex_02, 'product'], [solvex_01, 'stripping feed'])\n",
    "\n",
    " wm_net.draw(engine='dot', node_shape='folder', size='600,1200')"
   ]
  },
  {
   "cell_type": "code",
   "execution_count": null,
   "id": "6c36761f",
   "metadata": {},
   "outputs": [],
   "source": [
    "'''Initialize run'''\n",
    "end_time = 10*unit.day\n",
    "time_step = 10.0*unit.minute\n",
    "show_time = (True, unit.hour)\n",
    "\n",
    "for m in wm_net.modules:\n",
    "    m.end_time = end_time\n",
    "    m.time_step = time_step\n",
    "    m.show_time = show_time"
   ]
  },
  {
   "cell_type": "code",
   "execution_count": null,
   "id": "9361cb9b",
   "metadata": {},
   "outputs": [],
   "source": [
    "'''Run White Mesa and shutdown'''\n",
    "white_mesa.run()\n",
    "white_mesa.close()"
   ]
  },
  {
   "cell_type": "code",
   "execution_count": null,
   "id": "a657be08",
   "metadata": {},
   "outputs": [],
   "source": [
    "'''Recover modules data'''\n",
    "solvex_01 = wm_net.modules[0]\n",
    "solvex_02 = wm_net.modules[1]"
   ]
  },
  {
   "cell_type": "code",
   "execution_count": null,
   "id": "91bf8078",
   "metadata": {},
   "outputs": [],
   "source": [
    "'''1st Solvex Stage data'''\n",
    "solvex_01.solvex_state_phase.plot(['aqueous-volume', 'organic-volume', 'liquid-volume'], show=True,figsize=[14,8])\n",
    "solvex_01.solvex_product_phase.plot(['mass-flowrate', 'mass-density'], show=True, figsize=[14,8])\n",
    "solvex_01.scrub_raffinate_phase.plot(['mass-flowrate', 'mass-density'], show=True, figsize=[14,8])"
   ]
  },
  {
   "cell_type": "code",
   "execution_count": null,
   "id": "c91e9614",
   "metadata": {},
   "outputs": [],
   "source": [
    "'''2nd Solvex Stage data'''\n",
    "solvex_02.solvex_state_phase.plot(['aqueous-volume', 'organic-volume', 'liquid-volume'], show=True,figsize=[14,8])\n",
    "solvex_02.solvex_product_phase.plot(['mass-flowrate', 'mass-density'], show=True, figsize=[14,8])\n",
    "solvex_02.scrub_raffinate_phase.plot(['mass-flowrate', 'mass-density'], show=True, figsize=[14,8])"
   ]
  }
 ],
 "metadata": {
  "kernelspec": {
   "display_name": "Python 3 (ipykernel)",
   "language": "python",
   "name": "python3"
  },
  "language_info": {
   "codemirror_mode": {
    "name": "ipython",
    "version": 3
   },
   "file_extension": ".py",
   "mimetype": "text/x-python",
   "name": "python",
   "nbconvert_exporter": "python",
   "pygments_lexer": "ipython3",
   "version": "3.11.5"
  }
 },
 "nbformat": 4,
 "nbformat_minor": 5
}
