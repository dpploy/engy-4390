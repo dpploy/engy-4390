{
 "cells": [
  {
   "cell_type": "markdown",
   "id": "e7d59c6a",
   "metadata": {},
   "source": [
    "**Engy-4390** Nuclear Systems Design and Analysis, UMass Lowell, Chem. Eng. Nuclear Program Fall 2024"
   ]
  },
  {
   "cell_type": "markdown",
   "id": "0fc0e400",
   "metadata": {},
   "source": [
    "## Uranium Mill Network Dynamics Simulation"
   ]
  },
  {
   "cell_type": "markdown",
   "id": "eee9a464",
   "metadata": {},
   "source": [
    "### Stand-Alone Evaporation/Calcination Module"
   ]
  },
  {
   "cell_type": "code",
   "execution_count": 2,
   "id": "621194fa",
   "metadata": {},
   "outputs": [
    {
     "name": "stderr",
     "output_type": "stream",
     "text": [
      "[12312] 2024-09-29 22:38:49,109 - cortix - INFO - Created Cortix object \n",
      "_____________________________________________________________________________\n",
      "                             L A U N C H I N G                               \n",
      "_____________________________________________________________________________\n",
      "      ...                                        s       .     (TAAG Fraktur)\n",
      "   xH88\"`~ .x8X                                 :8      @88>\n",
      " :8888   .f\"8888Hf        u.      .u    .      .88      %8P      uL   ..\n",
      ":8888>  X8L  ^\"\"`   ...ue888b   .d88B :@8c    :888ooo    .     .@88b  @88R\n",
      "X8888  X888h        888R Y888r =\"8888f8888r -*8888888  .@88u  \"\"Y888k/\"*P\n",
      "88888  !88888.      888R I888>   4888>\"88\"    8888    888E`    Y888L\n",
      "88888   %88888      888R I888>   4888> \"      8888      888E      8888\n",
      "88888 `> `8888>     888R I888>   4888>        8888      888E      `888N\n",
      "`8888L %  ?888   ! u8888cJ888   .d888L .+    .8888Lu=   888E   .u./\"888&\n",
      " `8888  `-*\"\"   /   \"*888*P\"    ^\"8888*\"     ^%888*     888&  d888\" Y888*\"\n",
      "   \"888.      :\"      \"Y\"          \"Y\"         \"Y\"      R888\" ` \"Y   Y\"\n",
      "     `\"\"***~\"`                                           \"\"\n",
      "                             https://cortix.org                              \n",
      "_____________________________________________________________________________\n"
     ]
    }
   ],
   "source": [
    "\"\"\"Setup a White Mesa plant\"\"\"\n",
    "\n",
    "from cortix import Cortix\n",
    "from cortix import Network\n",
    "from cortix import Units as unit\n",
    "white_mesa = Cortix(use_mpi=False, splash=True)   # system top level\n",
    "wm_net = white_mesa.network = Network()"
   ]
  },
  {
   "cell_type": "code",
   "execution_count": 3,
   "id": "3c2412b3",
   "metadata": {},
   "outputs": [
    {
     "ename": "ModuleNotFoundError",
     "evalue": "No module named 'src'",
     "output_type": "error",
     "traceback": [
      "\u001b[1;31m---------------------------------------------------------------------------\u001b[0m",
      "\u001b[1;31mModuleNotFoundError\u001b[0m                       Traceback (most recent call last)",
      "Cell \u001b[1;32mIn[3], line 2\u001b[0m\n\u001b[0;32m      1\u001b[0m \u001b[38;5;124;03m\"\"\"Setup Evaporation/Calcination\"\"\"\u001b[39;00m\n\u001b[1;32m----> 2\u001b[0m \u001b[38;5;28;01mimport\u001b[39;00m \u001b[38;5;21;01msrc\u001b[39;00m\u001b[38;5;21;01m.\u001b[39;00m\u001b[38;5;21;01mevaporation_calcination\u001b[39;00m\n\u001b[0;32m      3\u001b[0m evap_calcin \u001b[38;5;241m=\u001b[39m src\u001b[38;5;241m.\u001b[39mevaporation_calcination\u001b[38;5;241m.\u001b[39mEvaporationCalcination()\n\u001b[0;32m      4\u001b[0m wm_net\u001b[38;5;241m.\u001b[39mmodule(evap_calcin)\n",
      "\u001b[1;31mModuleNotFoundError\u001b[0m: No module named 'src'"
     ]
    }
   ],
   "source": [
    "\"\"\"Setup Evaporation/Calcination\"\"\"\n",
    "import src.evaporation_calcination\n",
    "evap_calcin = src.evaporation_calcination.EvaporationCalcination()\n",
    "wm_net.module(evap_calcin)\n",
    "wm_net.draw(engine='circo', node_shape='folder', ports=True)"
   ]
  },
  {
   "cell_type": "code",
   "execution_count": null,
   "id": "9964cfb7",
   "metadata": {},
   "outputs": [],
   "source": [
    "'''Initialize run'''\n",
    "end_time = 10*unit.day\n",
    "time_step = 10.0*unit.minute\n",
    "show_time = (True, unit.hour)\n",
    "\n",
    "evap_calcin.end_time = end_time\n",
    "evap_calcin.time_step = time_step\n",
    "evap_calcin.show_time = show_time"
   ]
  },
  {
   "cell_type": "code",
   "execution_count": null,
   "id": "059df844",
   "metadata": {},
   "outputs": [],
   "source": [
    "white_mesa.run()\n",
    "white_mesa.close()"
   ]
  },
  {
   "cell_type": "code",
   "execution_count": null,
   "id": "1fb05472",
   "metadata": {},
   "outputs": [],
   "source": [
    "\"\"\"Recover modules data\"\"\"\n",
    "evap_calcin = wm_net.modules[0]"
   ]
  },
  {
   "cell_type": "code",
   "execution_count": 4,
   "id": "4bdc9677",
   "metadata": {},
   "outputs": [
    {
     "ename": "NameError",
     "evalue": "name 'evap_calcin' is not defined",
     "output_type": "error",
     "traceback": [
      "\u001b[1;31m---------------------------------------------------------------------------\u001b[0m",
      "\u001b[1;31mNameError\u001b[0m                                 Traceback (most recent call last)",
      "Cell \u001b[1;32mIn[4], line 2\u001b[0m\n\u001b[0;32m      1\u001b[0m \u001b[38;5;124;03m\"\"\"Evaporation/Calcination Data\"\"\"\u001b[39;00m\n\u001b[1;32m----> 2\u001b[0m evap_calcin\u001b[38;5;241m.\u001b[39mevap_state_phase\u001b[38;5;241m.\u001b[39madd_row(time, tmp_evap_state)\n\u001b[0;32m      3\u001b[0m evap_calcin\u001b[38;5;241m.\u001b[39mevap_state_phase\u001b[38;5;241m.\u001b[39mset_value(\u001b[38;5;124m'\u001b[39m\u001b[38;5;124mliquid-volume\u001b[39m\u001b[38;5;124m'\u001b[39m, evap_liq_volume, time)\n",
      "\u001b[1;31mNameError\u001b[0m: name 'evap_calcin' is not defined"
     ]
    }
   ],
   "source": [
    "\"\"\"Evaporation/Calcination Data\"\"\"\n",
    "evap_calcin.evap_state_phase.add_row(time, tmp_evap_state)\n",
    "evap_calcin.evap_state_phase.set_value('liquid-volume', evap_liq_volume, time)"
   ]
  },
  {
   "cell_type": "code",
   "execution_count": null,
   "id": "54f2b2b0",
   "metadata": {},
   "outputs": [],
   "source": []
  },
  {
   "cell_type": "code",
   "execution_count": null,
   "id": "2f15b6a6",
   "metadata": {},
   "outputs": [],
   "source": []
  }
 ],
 "metadata": {
  "kernelspec": {
   "display_name": "Python 3 (ipykernel)",
   "language": "python",
   "name": "python3"
  },
  "language_info": {
   "codemirror_mode": {
    "name": "ipython",
    "version": 3
   },
   "file_extension": ".py",
   "mimetype": "text/x-python",
   "name": "python",
   "nbconvert_exporter": "python",
   "pygments_lexer": "ipython3",
   "version": "3.11.5"
  }
 },
 "nbformat": 4,
 "nbformat_minor": 5
}
