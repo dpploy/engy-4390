{
 "cells": [
  {
   "cell_type": "markdown",
   "id": "d2354d71",
   "metadata": {},
   "source": [
    "**Engy-4390** Nuclear Systems Design and Analysis, UMass Lowell, Chem. Eng. Nuclear Program Fall 2024"
   ]
  },
  {
   "cell_type": "markdown",
   "id": "f4a081c4",
   "metadata": {},
   "source": [
    "## Uranium Mill Network Dynamics Simulation"
   ]
  },
  {
   "cell_type": "markdown",
   "id": "a37fe55d",
   "metadata": {},
   "source": [
    "### Coupled Solvent Extraction and Precipitation Module"
   ]
  },
  {
   "cell_type": "code",
   "execution_count": null,
   "id": "b1ef7593",
   "metadata": {},
   "outputs": [],
   "source": [
    "'''Set up White Mesa Plant'''\n",
    "from cortix import Cortix\n",
    "from cortix import Network\n",
    "from cortix import Units as unit\n",
    "white_mesa = Cortix(use_mpi=False, splash=True)\n",
    "wm_net = white_mesa.network = Network()"
   ]
  },
  {
   "cell_type": "code",
   "execution_count": null,
   "id": "13b186c7",
   "metadata": {},
   "outputs": [],
   "source": [
    "'''Setup Solvent Extraction'''\n",
    "import src.solvex\n",
    "solvex = src.solvex.Solvex()\n",
    "wm_net.module(solvex)"
   ]
  },
  {
   "cell_type": "code",
   "execution_count": null,
   "id": "4d75e0f4",
   "metadata": {},
   "outputs": [],
   "source": [
    "'''Setup Precipitation'''\n",
    "import src.precipitation\n",
    "precip = src.precipitation.Precipitation()\n",
    "wm_net.module(precip)"
   ]
  },
  {
   "cell_type": "code",
   "execution_count": null,
   "id": "6c52ded7",
   "metadata": {},
   "outputs": [],
   "source": [
    "'''Setup Network'''\n",
    "wm_net.connect([solvex, 'product'],[precip, 'uts-feed'])\n",
    "wm_net.connect([precip, 'adu-product'], [solvex, 'stripping-feed'])\n",
    "\n",
    "wm_net.draw(engine='dot', node_shape='folder', size='600,1200')"
   ]
  },
  {
   "cell_type": "code",
   "execution_count": null,
   "id": "eb4442a8",
   "metadata": {},
   "outputs": [],
   "source": [
    "'''Initialize run'''\n",
    "end_time = 10*unit.day\n",
    "time_step = 10.0*unit.minute\n",
    "show_time = (True, unit.hour)\n",
    "\n",
    "for m in wm_net.modules:\n",
    "    m.end_time = end_time\n",
    "    m.time_step = time_step\n",
    "    m.show_time = show_time"
   ]
  },
  {
   "cell_type": "code",
   "execution_count": null,
   "id": "e447f167",
   "metadata": {},
   "outputs": [],
   "source": [
    "'''Run Whire Mesa and shutdown'''\n",
    "white_mesa.run()\n",
    "white_mesa.close()"
   ]
  },
  {
   "cell_type": "code",
   "execution_count": null,
   "id": "a5959500",
   "metadata": {},
   "outputs": [],
   "source": [
    "'''Recover modules data'''\n",
    "solvex = wm_net.modules[0]\n",
    "precip = wm_net.modules[1]"
   ]
  },
  {
   "cell_type": "code",
   "execution_count": null,
   "id": "eaed7f68",
   "metadata": {},
   "outputs": [],
   "source": [
    "'''Solvex data'''\n",
    "solvex.solvex_state_phase.plot(['aqueous-volume', 'organic-volume', 'liquid-volume'], show=True,figsize=[14,8])\n",
    "solvex.solvex_product_phase.plot(['mass-flowrate', 'mass-density'], show=True, figsize=[14,8])\n",
    "solvex.scrub_raffinate_phase.plot(['mass-flowrate', 'mass-density'], show=True, figsize=[14,8])"
   ]
  },
  {
   "cell_type": "code",
   "execution_count": null,
   "id": "0fffd99c",
   "metadata": {},
   "outputs": [],
   "source": [
    "'''Precip data'''\n",
    "precip.precipitation_phase('mass-flowrate', show=True,figsize=[14,8])"
   ]
  }
 ],
 "metadata": {
  "kernelspec": {
   "display_name": "Python 3 (ipykernel)",
   "language": "python",
   "name": "python3"
  },
  "language_info": {
   "codemirror_mode": {
    "name": "ipython",
    "version": 3
   },
   "file_extension": ".py",
   "mimetype": "text/x-python",
   "name": "python",
   "nbconvert_exporter": "python",
   "pygments_lexer": "ipython3",
   "version": "3.11.5"
  }
 },
 "nbformat": 4,
 "nbformat_minor": 5
}
