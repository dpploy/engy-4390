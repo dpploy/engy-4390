{
 "cells": [
  {
   "cell_type": "code",
   "execution_count": 1,
   "id": "bc0862d0",
   "metadata": {},
   "outputs": [
    {
     "name": "stderr",
     "output_type": "stream",
     "text": [
      "[27416] 2024-10-25 08:10:42,357 - cortix - INFO - Created Cortix object \n",
      "_____________________________________________________________________________\n",
      "                             L A U N C H I N G                               \n",
      "_____________________________________________________________________________\n",
      "      ...                                        s       .     (TAAG Fraktur)\n",
      "   xH88\"`~ .x8X                                 :8      @88>\n",
      " :8888   .f\"8888Hf        u.      .u    .      .88      %8P      uL   ..\n",
      ":8888>  X8L  ^\"\"`   ...ue888b   .d88B :@8c    :888ooo    .     .@88b  @88R\n",
      "X8888  X888h        888R Y888r =\"8888f8888r -*8888888  .@88u  \"\"Y888k/\"*P\n",
      "88888  !88888.      888R I888>   4888>\"88\"    8888    888E`    Y888L\n",
      "88888   %88888      888R I888>   4888> \"      8888      888E      8888\n",
      "88888 `> `8888>     888R I888>   4888>        8888      888E      `888N\n",
      "`8888L %  ?888   ! u8888cJ888   .d888L .+    .8888Lu=   888E   .u./\"888&\n",
      " `8888  `-*\"\"   /   \"*888*P\"    ^\"8888*\"     ^%888*     888&  d888\" Y888*\"\n",
      "   \"888.      :\"      \"Y\"          \"Y\"         \"Y\"      R888\" ` \"Y   Y\"\n",
      "     `\"\"***~\"`                                           \"\"\n",
      "                             https://cortix.org                              \n",
      "_____________________________________________________________________________\n"
     ]
    }
   ],
   "source": [
    "'''Set up White Mesa Plant'''\n",
    "from cortix import Cortix\n",
    "from cortix import Network\n",
    "from cortix import Units as unit\n",
    "white_mesa = Cortix(use_mpi=False, splash=True)\n",
    "wm_net = white_mesa.network = Network()"
   ]
  },
  {
   "cell_type": "code",
   "execution_count": 2,
   "id": "5859d4e8",
   "metadata": {},
   "outputs": [],
   "source": [
    "'''Setup Solvent Extraction'''\n",
    "import src.solvex\n",
    "solvex = src.solvex.Solvex()\n",
    "wm_net.module(solvex)"
   ]
  },
  {
   "cell_type": "code",
   "execution_count": 4,
   "id": "f12095a6",
   "metadata": {},
   "outputs": [],
   "source": [
    "'''Setup Precipitation'''\n",
    "import src.precipitation\n",
    "precip = src.precipitation.Precipitation()\n",
    "wm_net.module(precip)"
   ]
  },
  {
   "cell_type": "code",
   "execution_count": 6,
   "id": "3a24819a",
   "metadata": {},
   "outputs": [],
   "source": [
    "'''Setup Network'''\n",
    "wm_net.connect([solvex, 'product'],[precip, 'uts-feed'])\n",
    "wm_net.connect([precip, 'adu-product'], [solvex, 'stripping-feed'])\n",
    "\n",
    "wm_net.draw(engine='dot', node_shape='folder', size='600,1200')"
   ]
  },
  {
   "cell_type": "code",
   "execution_count": 7,
   "id": "d2a8ed0b",
   "metadata": {},
   "outputs": [],
   "source": [
    "'''Initialize run'''\n",
    "end_time = 10*unit.day\n",
    "time_step = 10.0*unit.minute\n",
    "show_time = (True, unit.hour)\n",
    "\n",
    "for m in wm_net.modules:\n",
    "    m.end_time = end_time\n",
    "    m.time_step = time_step\n",
    "    m.show_time = show_time"
   ]
  },
  {
   "cell_type": "code",
   "execution_count": null,
   "id": "a91b8a17",
   "metadata": {},
   "outputs": [
    {
     "name": "stderr",
     "output_type": "stream",
     "text": [
      "[27416] 2024-10-25 08:20:46,878 - cortix - INFO - Launching Module <src.solvex.Solvex object at 0x00000213F4133610>\n",
      "[27416] 2024-10-25 08:20:46,972 - cortix - INFO - Launching Module <src.precipitation.Precipitation object at 0x00000213F7DB9A50>\n"
     ]
    }
   ],
   "source": [
    "'''Run Whire Mesa and shutdown'''\n",
    "white_mesa.run()\n",
    "white_mesa.close()"
   ]
  },
  {
   "cell_type": "code",
   "execution_count": null,
   "id": "1fd4e0a6",
   "metadata": {},
   "outputs": [],
   "source": [
    "'''Recover modules data'''\n",
    "solvex = wm_net.modules[0]\n",
    "precip = wm_net.modules[1]"
   ]
  },
  {
   "cell_type": "code",
   "execution_count": null,
   "id": "ad72d1d6",
   "metadata": {},
   "outputs": [],
   "source": [
    "'''Solvex data'''\n",
    "solvex.solvex_state_phase.plot(['aqueous-volume', 'organic-volume', 'liquid-volume'], show=True,figsize=[14,8])\n",
    "solvex.solvex_product_phase.plot(['mass-flowrate', 'mass-density'], show=True, figsize=[14,8])\n",
    "solvex.scrub_raffinate_phase.plot(['mass-flowrate', 'mass-density'], show=True, figsize=[14,8])"
   ]
  },
  {
   "cell_type": "code",
   "execution_count": null,
   "id": "4c60fc0d",
   "metadata": {},
   "outputs": [],
   "source": [
    "'''Precip data'''\n",
    "precip.precipitation_phase('mass-flowrate', show=True,figsize=[14,8])\n"
   ]
  }
 ],
 "metadata": {
  "kernelspec": {
   "display_name": "Python 3 (ipykernel)",
   "language": "python",
   "name": "python3"
  },
  "language_info": {
   "codemirror_mode": {
    "name": "ipython",
    "version": 3
   },
   "file_extension": ".py",
   "mimetype": "text/x-python",
   "name": "python",
   "nbconvert_exporter": "python",
   "pygments_lexer": "ipython3",
   "version": "3.11.5"
  }
 },
 "nbformat": 4,
 "nbformat_minor": 5
}
