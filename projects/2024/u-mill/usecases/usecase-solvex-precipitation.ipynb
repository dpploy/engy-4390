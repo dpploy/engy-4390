{
 "cells": [
  {
   "cell_type": "code",
   "execution_count": 1,
   "id": "b05d325d",
   "metadata": {},
   "outputs": [
    {
     "name": "stderr",
     "output_type": "stream",
     "text": [
      "[27416] 2024-10-25 08:10:42,357 - cortix - INFO - Created Cortix object \n",
      "_____________________________________________________________________________\n",
      "                             L A U N C H I N G                               \n",
      "_____________________________________________________________________________\n",
      "      ...                                        s       .     (TAAG Fraktur)\n",
      "   xH88\"`~ .x8X                                 :8      @88>\n",
      " :8888   .f\"8888Hf        u.      .u    .      .88      %8P      uL   ..\n",
      ":8888>  X8L  ^\"\"`   ...ue888b   .d88B :@8c    :888ooo    .     .@88b  @88R\n",
      "X8888  X888h        888R Y888r =\"8888f8888r -*8888888  .@88u  \"\"Y888k/\"*P\n",
      "88888  !88888.      888R I888>   4888>\"88\"    8888    888E`    Y888L\n",
      "88888   %88888      888R I888>   4888> \"      8888      888E      8888\n",
      "88888 `> `8888>     888R I888>   4888>        8888      888E      `888N\n",
      "`8888L %  ?888   ! u8888cJ888   .d888L .+    .8888Lu=   888E   .u./\"888&\n",
      " `8888  `-*\"\"   /   \"*888*P\"    ^\"8888*\"     ^%888*     888&  d888\" Y888*\"\n",
      "   \"888.      :\"      \"Y\"          \"Y\"         \"Y\"      R888\" ` \"Y   Y\"\n",
      "     `\"\"***~\"`                                           \"\"\n",
      "                             https://cortix.org                              \n",
      "_____________________________________________________________________________\n"
     ]
    }
   ],
   "source": [
    "'''Set up White Mesa Plant'''\n",
    "from cortix import Cortix\n",
    "from cortix import Network\n",
    "from cortix import Units as unit\n",
    "white_mesa = Cortix(use_mpi=False, splash=True)\n",
    "wm_net = white_mesa.network = Network()"
   ]
  },
  {
   "cell_type": "code",
   "execution_count": 2,
   "id": "48444376",
   "metadata": {},
   "outputs": [],
   "source": [
    "'''Setup Solvent Extraction'''\n",
    "import src.solvex\n",
    "solvex = src.solvex.Solvex()\n",
    "wm_net.module(solvex)"
   ]
  },
  {
   "cell_type": "code",
   "execution_count": 4,
   "id": "ce5b0ec3",
   "metadata": {},
   "outputs": [],
   "source": [
    "'''Setup Precipitation'''\n",
    "import src.precipitation\n",
    "precip = src.precipitation.Precipitation()\n",
    "wm_net.module(precip)"
   ]
  },
  {
   "cell_type": "code",
   "execution_count": null,
   "id": "87f38931",
   "metadata": {},
   "outputs": [],
   "source": [
    "'''Setup Network'''"
   ]
  }
 ],
 "metadata": {
  "kernelspec": {
   "display_name": "Python 3 (ipykernel)",
   "language": "python",
   "name": "python3"
  },
  "language_info": {
   "codemirror_mode": {
    "name": "ipython",
    "version": 3
   },
   "file_extension": ".py",
   "mimetype": "text/x-python",
   "name": "python",
   "nbconvert_exporter": "python",
   "pygments_lexer": "ipython3",
   "version": "3.11.5"
  }
 },
 "nbformat": 4,
 "nbformat_minor": 5
}
