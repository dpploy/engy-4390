{
 "cells": [
  {
   "cell_type": "markdown",
   "id": "99c3d36b",
   "metadata": {},
   "source": [
    "## [Introduction](#toc)<a id=\"intro\"></a>"
   ]
  },
  {
   "cell_type": "markdown",
   "id": "6592cad5",
   "metadata": {},
   "source": [
    "## [Objectives](#toc)<a id=\"obj\"></a>"
   ]
  },
  {
   "cell_type": "markdown",
   "id": "7f062604",
   "metadata": {},
   "source": [
    "## [Tools](#toc)<a id=\"tools\"></a>"
   ]
  },
  {
   "cell_type": "markdown",
   "id": "5d8f185d",
   "metadata": {},
   "source": [
    "## [Approach and Dynamics Equations](#toc)<a id=\"app\"></a>"
   ]
  },
  {
   "cell_type": "markdown",
   "id": "3dfea6c3",
   "metadata": {},
   "source": [
    "## [Challenges & Course Correctons](#toc)<a id=\"correct\"></a>"
   ]
  },
  {
   "cell_type": "markdown",
   "id": "8edf020f",
   "metadata": {},
   "source": [
    "## [Initialization of Process Modules](#toc)<a id=\"IPM\"></a>"
   ]
  },
  {
   "cell_type": "markdown",
   "id": "c2b42557",
   "metadata": {},
   "source": [
    "### [Evaporation/Calcining](#toc)<a id=\"evap\"></a>"
   ]
  },
  {
   "cell_type": "markdown",
   "id": "485c70bb",
   "metadata": {},
   "source": [
    "```python\n",
    "                                              |\n",
    "                                              |  Ammonium Diuranate Feed\n",
    "                                              v\n",
    "                                       ________________       \n",
    "                                      |                |\n",
    "                                      |                |\n",
    "                                      |                |<------ Steam Sparging\n",
    "                                      |  Evaporation   |\n",
    "                                      |                |\n",
    "                   Off-Gas <----------|                |<------ Resistance Heating (Internal)\n",
    "                                      |                |\n",
    "                                      |----------------|\n",
    "                      Off-Gas <-------|                |<------ Sweeping Gas\n",
    "                                      |                |\n",
    "                                      |   Calcination  |\n",
    "                 Sweeping Gas <-------|                |\n",
    "                   (Disposal)         |                |\n",
    "                                      |________________|<------ Resistance Heating (Internal)\n",
    "                                               |\n",
    "                                               |\n",
    "                                               |\n",
    "                                               v\n",
    "                                        Product (U3O8)\n",
    "```"
   ]
  },
  {
   "cell_type": "markdown",
   "id": "568536d8",
   "metadata": {},
   "source": [
    "__Uranium Drying Overview__\n",
    "\n",
    "The process of drying the incoming slurry produced by precipitaiton now has to undergo a drying process at extremly high temperatures.The product being fed into the drying section of the milling process mainly contains ammonium diuranate, which is dried to produce the coveted triuranium octoxide. The main stages of this process are the evaporation stage and the calcining stage.\n",
    "<br>\n",
    "\n",
    "The conditions used for drying and calcining ammonium diuranate and uranium peroxide are listed below:\n",
    "<br>\n",
    "<br>\n",
    "<p style=\"text-align:center;\"><b>Table 2: Parameter for Calcining and Drying of Precipitation Products.</b></p>\n",
    "<img width=\"400\" src=\"pics/.png\" title=\"Calcining/Drying Table\">\n",
    "<br> \n",
    "The reaction that is happening in the drying process is typically summerized as one whole reaction since it only accounts for the addition of heat throughout the process. This heat will cause the ammonia compound to seperate from the ammonium diuranate, along with other light impurites and yield the desired product of triuranium octoxide. The reaction of this heating process is as follows:\n",
    "\n",
    "*Production of Triuranium Octoxide*\n",
    "\n",
    "</br>\n",
    "<center>9(NH<sub>4</sub>)<sub>2</sub>U<sub>2</sub>0<sub>7</sub> → 14NH<sub>3</sub> + 15H<sub>2</sub>O + 2N<sub>2</sub> + 6U<sub>3</sub>O<sub>8</sub></center>\n",
    "\n",
    "__Evaporation Process__\n",
    "\n",
    "Evaporation is a process in which an element or compound transitions from its liquid state to its gaseous state below the temperature at which it boils. However, the form of drying we will be dealing with in this stage of the process is working with a reactant that has become mostly solid thanks to the precipitation process. Thus, evaporation will mainly target the water vapor that remains attatched to the ammonium diuranate slurry.\n",
    "\n",
    "The unit operation that is going to be used for this process is known as a falling film evaporator tank. This type of evaporator is a specific type of vertically oriented shell and tube heat exchanger that is used to separate two or more substances with different boiling point temperatures. It acts as most evaporator columns do in the fact that it heavily relies on a desired product stream that is heavy enough to sink to the bottom while the inpurities rise to the top.\n",
    "\n",
    "However, in falling film evaporators the process liquid is pumped into the top of the column, and is distributed evenly across all of the heating tubes in the heat exchanger. It is very important that the liquid be well distributed so that it evenly flows down the inside walls of each tube. This film of liquid that is descending through the tubes is known as a “falling film” and is where this particular heat exchanger derives its name.\n",
    "\n",
    "The process can be summerized as filling the evaporator column to its peak volume, adding heat to evaporate it, and then discharging it to the next stage of the process. The overall process of the falling film evaporator is shown below:\n",
    "<br>\n",
    "<br>\n",
    "<img width=\"400\" src=\"falling-film.jpg\" title=\"Falling Film Evaporator Process\">\n",
    "<p style=\"text-align:center;\"><b>Figure 4: Falling Film Evaporator Process.</b></p>\n",
    "\n",
    "Each evaporator column will be run at a temperature of 350°C. There while be two product streams exiting this column, one being the vapor extracted from the slurry. This is known as the off-gas produced by this evaporation, and it will be sent to be further processed in a seperate Vapor/Liquid seperation column. The second stream is the product containing the ammonium diuranate that now has a lot less vapor content in it. This product will now be fed to the calcination stage of the drying process to be further processed.\n",
    "\n",
    "\n",
    "__Calcination Process__\n",
    "\n",
    "The second stage of the drying process is known as calcination. In terms of the overall process it will follow a similar basis to that of evaporation, but at a higher temperature. However, there are some distinguishable differences in calcination since the feed is now mostly a pure solid. Calcination involves the heating of solids to a high temperature for the purpose of removing volatile substances, oxidizing a portion of mass, or rendering them friable. Therefore, this stage in the drying process is sometimes considered a process of absolute purification.\n",
    "\n",
    "An example of an overall calcining of incoming ammonium diuranate is shown in the diagram based out of Key Lake below [4]:\n",
    "<br>\n",
    "<br>\n",
    "<img width=\"400\" src=\"pics/.png\" title=\"Calciner Tank\">\n",
    "<p style=\"text-align:center;\"><b>Figure 5: Calciner Tank Process at Key Lime Uranium Mill.</b></p>\n",
    "<br>\n",
    "This production happens in large molar quantities, and assuming a 100% conversion rate every 100 kgs of ammonium diuranate will result in 90 kgs of triuranium octoxide. High temperature calcining is practiced producing a greater than 94% U<sub>3</sub>O<sub>8</sub> product having high density [3].\n",
    "\n",
    "Calcination eliminates water completely, and drives off the ammonia, but care must be taken not to sinter the product.\n",
    "\n",
    "Sintering can significantly reduce nitric acid solubility, which is critical for some refining processes. Several types of drying equipment have been used in the calcining process, typically arranged in the series of dryers that succeed the main calciner tank. These include single or multiple hearth dryers, drum dryers, belt dryers, screw dryers and radiant heat dryers. There also becomes the problem of how to dispose of the ammonia used as a \"sweep-gas\" to drive the heat transfer in the calciner. As seen in figure 4, the solution to the produced ammonia is to add a form of fluid bed dryer to the calciner tank to extract the ammonia vapor.\n",
    "\n",
    "__Sizing and Cost__\n",
    "\n",
    "The size of each of the main columns used in this process will prove to be vital to the overall drying module. For evaporation, it was determined that there would be 2 columns used in this process. Each of these columns would be sized at 200m<sup>3</sup>. For calcination, it was determined that 2 MHF units would be utilized. Each of these calciner unites would have an overall volume of 350m<sup>3</sup>.\n",
    "\n",
    "The overall cost of this operation will be strictly based on the main unit operations involved in the process. Thus, it will mainly pertain to the evapotator and calciner columns. For the evaporator tank, it will utilize a stainless steel material to withstand the high temperatures the system is going to be exposed to. Using (x), it is assumed that the cost of each of the 200m<sup>3</sup> falling film evaporator columns using this material will be 28,700 dollars. For the calciner, it will also utilize stainless steel, but will also include an interior refactory brick layer since it will have a low thermal conductivity during the heat reaction. This in turn will not only lead to protection of the stainless steel outer layer, but will also yield greater energy efficiency for the overall heating process. Using (x), each of the MHF calciner units, with a capacity of 350m<sup>3</sup>, will cost 75,370 dollars. \n",
    "\n",
    "In total, the overall drying process will cost approximately 208,140 dollars to construct and design.\n",
    "\n",
    "__Modeling the Module__\n",
    "\n",
    "To model this process, the process needs to remain seperated by the two main stages of drying. Thus, two seperate subsections to this module will be created for both evaporation and calcination.\n",
    "\n",
    "Starting with evaporation, this basis of the model needed some input parameters to work with. The feed mass flowrate was determined to be 5800 kg/min, along with a  set overall volume of 400m<sup>3</sup> (remember there are two tanks). The third and final parameter that will be monitored is the product mass density, which is being feed in at \n",
    "\n",
    "a paramter had to be selected to base the model after that would be able to monitor the amount of flow entering and exiting the tank. This was chosen to be the liquid volume of the evaporator tank, but it came with some conflicts. Being able to differentiate whether the tank was filling, evaporating, or discharging into the next stage was difficult to determine using only this parameter. \n"
   ]
  },
  {
   "cell_type": "code",
   "execution_count": null,
   "id": "b9013b91",
   "metadata": {},
   "outputs": [],
   "source": []
  }
 ],
 "metadata": {
  "kernelspec": {
   "display_name": "Python 3 (ipykernel)",
   "language": "python",
   "name": "python3"
  },
  "language_info": {
   "codemirror_mode": {
    "name": "ipython",
    "version": 3
   },
   "file_extension": ".py",
   "mimetype": "text/x-python",
   "name": "python",
   "nbconvert_exporter": "python",
   "pygments_lexer": "ipython3",
   "version": "3.11.5"
  }
 },
 "nbformat": 4,
 "nbformat_minor": 5
}
