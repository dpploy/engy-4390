{
 "cells": [
  {
   "cell_type": "markdown",
   "id": "99c3d36b",
   "metadata": {},
   "source": [
    "## [Introduction](#toc)<a id=\"intro\"></a>"
   ]
  },
  {
   "cell_type": "markdown",
   "id": "81ec93b7",
   "metadata": {},
   "source": [
    "The processes of evaporation and calcination combine to form the process of drying."
   ]
  },
  {
   "cell_type": "markdown",
   "id": "2aa9943f",
   "metadata": {},
   "source": [
    "### [Problem Statement](#toc)<a id=\"prob\"></a>"
   ]
  },
  {
   "cell_type": "markdown",
   "id": "6592cad5",
   "metadata": {},
   "source": [
    "## [Objectives](#toc)<a id=\"obj\"></a>"
   ]
  },
  {
   "cell_type": "markdown",
   "id": "c8b2c136",
   "metadata": {},
   "source": [
    "- Python code will be used to develop a dynamic comprehensive system that accurately represents the evaporation and calcination parts of the milling process as well as their role in simulating a steady state reactor. This involves both mathematical models of the system’s material streams and visual representations of the data on a time dependent basis. \n",
    "- Modules to model evaporation and calcination steps will be developed.\n",
    "- Deliverable content will be prepared using Jupyter notebooks to seamlessly integrate working code with descriptive markdown text.  \n",
    "- A flowsheet based on White Mesa will be developed as the basis for our modules\n",
    "- Pick up where the previous group left off.\n"
   ]
  },
  {
   "cell_type": "markdown",
   "id": "7f062604",
   "metadata": {},
   "source": [
    "## [Tools](#toc)<a id=\"tools\"></a>"
   ]
  },
  {
   "cell_type": "markdown",
   "id": "a048a436",
   "metadata": {},
   "source": [
    "For this project we will be utilizing GitHub to store a remote repository of our python code and project report. GitHub is a version control software that programmers use to share and work on coding projects together. This allows for users to view the contribution history easily and rollback changes if needed. GitHub interfaces with git to create a graphical user interface for the git repository. This allows GitHub to add some of its own tools on top of git making it much more powerful. One of these tools is the Network Graph that allows users to see all branches of the repository and all commits along with dates that changes were made. Another tool is viewing the version history of a specific file by opening it on the GitHub repository. This shows all changes made to that file including commit numbers, dates of changes, and more. This makes it much easier to go back in time to see the history of the project and see who made which changes. At its core, a GitHub repository is a mirror of a git repository with any changes being submitted through GitHub automatically being sent to the git repository as well.\n",
    "\n",
    "To work on a git repository, you first must clone the repository to your computer using the git clone command. This creates a clone of the remote repository on your computer which is then called the local repository. It will also create a copy of this local repository called the working directory. All edits made by the user are found in the working directory and do not impact the local repository until a commit is made. Next, the user will create their own branch using the git branch command. This branch is a copy of the repository that the user will use to make changes without impacting the main branch. This makes it easier for the repository maintainer to control the changes made to the project since they can view differences between the main branch and one of the user branches. This helps to prevent branch conflicts from creating bugs or other errors on the main branch of the repository. When a user is satisfied with a contribution, they will create a commit using the git commit command. The user will write a brief one-line description of what has been changed followed by a longer description with much more detail. A comparison is then made between the working directory and the local repository to see which changes have been made. Any changes in the working directory will be compiled into the commit and saved for later. Commits serve as documentation for changes and are vital to using git. The short description allows for the repository maintainer to easily see what changes are being made to the project, but still allows for technical details to be documented in the long description.\n",
    "\n",
    "When a user wants to publish their commits to the remote repository for other users to see there is a specific procedure that must be followed. This is to prevent any conflicts from arising in the final step where the local repository is merged with the remote repository by the repository maintainer. First, the user must update their copy of the local repository to obtain the latest version of the project. Updating the local repository is done by using the git fetch command followed by the git merge command. This can also be done using the git pull command which executes both commands sequentially. The git fetch command compares the local repository to the target showing the differences between the two. This also downloads any missing commits to the local repository so they can be reviewed by the user. The git merge command combines the remote repository with the local repository. This process effectively creates a copy of the remote repository on the user's computer, but also includes any saved commits to ensure that the local repository is up to date. Following this process, the git push command can be used to push the unuploaded commits onto the remote repository. Since a separate branch was created earlier, this branch must be merged into the main branch so other users can merge these changes into their branch. This can be done by running git merge on the main branch to merge the main branch into the user's branch. Now the local repository is updated with the changes of all other users with the remaining commits that are trying to be published to the remote repository. Finally, the user can make a request to the repository maintainer to run git pull on their local repository. This is known as a pull request since you are requesting the repository maintainer to run the git pull command.\n",
    "\n",
    "GitHub helps to make the pull request process easier by integrating it into their platform. All active pull requests can be viewed on the repository website with a discussion section where users can discuss any problems they find with the changes. In addition to this, GitHub streamlines the process through the use of the GitHub desktop app. Instead of running each of the git commands through the command line sequentially, they can be executed in a graphical user interface via GitHub desktop. After downloading GitHub desktop, the user is prompted to clone a repository and login to their GitHub account. This creates a local repository and working directory for the user with commits and pull requests being linked to their GitHub account. After creating changes to files in the working directory, GitHub desktop will show the user the current differences between the working directory and the local repository. A commit window is displayed with boxes for the short description and long description right next to these differences making the commit process much easier. In order to publish changes to the remote repository there are recommended prompts that aid the user through the pull, push, and pull request process. If the user would like to run any of the other git commands, these can be accessed at the top by clicking on Repository and selecting the desired command to run.\n",
    "\n",
    "Cortix is a library for Python that was created by Dr. Almeida and his research group to simplify the process of producing dynamic system models. The full open-source code can be found on Github, where anyone can download and use the library and its available unit operation modules. The Github repository also contains examples that use the code to simulate various chemical interactions while delivering time dependent data. \n",
    "\n",
    "Jupyter Notebook is also open-source, and it is a way to integrate ordinary text with multiple programming languages such as Python. Python is a widely used programming language that has engineering modeling applications. This is a popular language for dynamic modelling and has been in use for over thirty years. It is commonplace in many programs used in the nuclear industry, making it a great candidate for this project. "
   ]
  },
  {
   "cell_type": "markdown",
   "id": "5d8f185d",
   "metadata": {},
   "source": [
    "## [Approach and Dynamics Equations](#toc)<a id=\"app\"></a>"
   ]
  },
  {
   "cell_type": "markdown",
   "id": "b2a214cd",
   "metadata": {},
   "source": [
    "-  First, a series of mass balances and component balances are made based on the desired input of 1 ton of raw material.\n",
    "- These balances then take into account the chemical kinetics and related rates required in the operation of White Mesa's chemical reactions and fluid flow operations\n",
    "- Once baseline models of each individual process exist, they are then programmed into 5 separate but connected modules within Cortix\n",
    "- Each process will be capable of interacting with the modules connected to it on either end, allowing them to share data such as the incoming and outgoing streams from one process to the next"
   ]
  },
  {
   "cell_type": "markdown",
   "id": "9572208f",
   "metadata": {},
   "source": [
    "|     **Module**        |      **Inputs**      |      **Outputs**       |     **Legend**     |\n",
    "|:----------------------|:---------------------|:-----------------------|:-------------------|\n",
    "| Evaporation            |m<sub>evap</sub>, ρ<sub>evap</sub>, T<sub>evap</sub>, T<sub>cal</sub>, V<sub>evap</sub>, V<sub>cal</sub>       |  m<sub>p</sub>, ρ<sub>p</sub>, C<sub>p</sub>         |m<sub>f</sub> = mass flowrate of evaporation product, ρ<sub>evap</sub> = mass density of evaporation product, T<sub>evap</sub> = temperature setpoint (evaporator), V<sub>evap</sub> = evaporator tank liquid volume, V<sub>cal</sub> = calciner tank volume, m<sub>p</sub> = calciner product mass flowrate, ρ<sub>p</sub> = calciner product mass density,C<sub>p</sub> = product U3O8 concentration        |"
   ]
  },
  {
   "cell_type": "markdown",
   "id": "3dfea6c3",
   "metadata": {},
   "source": [
    "## [Challenges & Course Correctons](#toc)<a id=\"correct\"></a>"
   ]
  },
  {
   "cell_type": "markdown",
   "id": "8edf020f",
   "metadata": {},
   "source": [
    "## [Initialization of Process Modules](#toc)<a id=\"IPM\"></a>"
   ]
  },
  {
   "cell_type": "markdown",
   "id": "c2b42557",
   "metadata": {},
   "source": [
    "### [Evaporation/Calcining](#toc)<a id=\"evap\"></a>"
   ]
  },
  {
   "cell_type": "markdown",
   "id": "485c70bb",
   "metadata": {},
   "source": [
    "```python\n",
    "                                              |\n",
    "                                              |  Ammonium Diuranate Feed\n",
    "                                              v\n",
    "                                       ________________       \n",
    "                                      |                |\n",
    "                                      |                |\n",
    "                                      |                |<------ Steam Sparging\n",
    "                                      |  Evaporation   |\n",
    "                                      |                |\n",
    "                   Off-Gas <----------|                |<------ Resistance Heating (Internal)\n",
    "                                      |                |\n",
    "                                      |----------------|\n",
    "                      Off-Gas <-------|                |<------ Sweeping Gas\n",
    "                                      |                |\n",
    "                                      |   Calcination  |\n",
    "                 Sweeping Gas <-------|                |\n",
    "                   (Disposal)         |                |\n",
    "                                      |________________|<------ Resistance Heating (Internal)\n",
    "                                               |\n",
    "                                               |\n",
    "                                               |\n",
    "                                               v\n",
    "                                        Product (U3O8)\n",
    "```"
   ]
  },
  {
   "cell_type": "markdown",
   "id": "568536d8",
   "metadata": {},
   "source": [
    "__Uranium Drying Overview__\n",
    "\n",
    "The process of drying the incoming slurry produced by precipitaiton now has to undergo a drying process at extremly high temperatures.The product being fed into the drying section of the milling process mainly contains ammonium diuranate, which is dried to produce the coveted triuranium octoxide. The main stages of this process are the evaporation stage and the calcining stage.\n",
    "<br>\n",
    "\n",
    "The conditions used for drying and calcining ammonium diuranate and uranium peroxide are listed below:\n",
    "<br>\n",
    "<br>\n",
    "<p style=\"text-align:center;\"><b>Table 2: Parameter for Calcining and Drying of Precipitation Products.</b></p>\n",
    "<img width=\"400\" src=\"pics/.png\" title=\"Calcining/Drying Table\">\n",
    "<br> \n",
    "The reaction that is happening in the drying process is typically summerized as one whole reaction since it only accounts for the addition of heat throughout the process. This heat will cause the ammonia compound to seperate from the ammonium diuranate, along with other light impurites and yield the desired product of triuranium octoxide. The reaction of this heating process is as follows:\n",
    "\n",
    "*Production of Triuranium Octoxide*\n",
    "\n",
    "</br>\n",
    "<center>9(NH<sub>4</sub>)<sub>2</sub>U<sub>2</sub>0<sub>7</sub> → 14NH<sub>3</sub> + 15H<sub>2</sub>O + 2N<sub>2</sub> + 6U<sub>3</sub>O<sub>8</sub></center>\n",
    "\n",
    "__Evaporation Process__\n",
    "\n",
    "Evaporation is a process in which an element or compound transitions from its liquid state to its gaseous state below the temperature at which it boils. However, the form of drying we will be dealing with in this stage of the process is working with a reactant that has become mostly solid thanks to the precipitation process. Thus, evaporation will mainly target the water vapor that remains attatched to the ammonium diuranate slurry.\n",
    "\n",
    "The unit operation that is going to be used for this process is known as a falling film evaporator tank. This type of evaporator is a specific type of vertically oriented shell and tube heat exchanger that is used to separate two or more substances with different boiling point temperatures. It acts as most evaporator columns do in the fact that it heavily relies on a desired product stream that is heavy enough to sink to the bottom while the inpurities rise to the top.\n",
    "\n",
    "However, in falling film evaporators the process liquid is pumped into the top of the column, and is distributed evenly across all of the heating tubes in the heat exchanger. It is very important that the liquid be well distributed so that it evenly flows down the inside walls of each tube. This film of liquid that is descending through the tubes is known as a “falling film” and is where this particular heat exchanger derives its name.\n",
    "\n",
    "The process can be summerized as filling the evaporator column to its peak volume, adding heat to evaporate it, and then discharging it to the next stage of the process. The overall process of the falling film evaporator is shown below:\n",
    "<br>\n",
    "<br>\n",
    "<img width=\"400\" src=\"falling-film.jpg\" title=\"Falling Film Evaporator Process\">\n",
    "<p style=\"text-align:center;\"><b>Figure 4: Falling Film Evaporator Process.</b></p>\n",
    "\n",
    "Each evaporator column will be run at a temperature of 350°C. There while be two product streams exiting this column, one being the vapor extracted from the slurry. This is known as the off-gas produced by this evaporation, and it will be sent to be further processed in a seperate Vapor/Liquid seperation column. The second stream is the product containing the ammonium diuranate that now has a lot less vapor content in it. This product will now be fed to the calcination stage of the drying process to be further processed.\n",
    "\n",
    "\n",
    "__Calcination Process__\n",
    "\n",
    "The second stage of the drying process is known as calcination. In terms of the overall process it will follow a similar basis to that of evaporation, but at a higher temperature. However, there are some distinguishable differences in calcination since the feed is now mostly a pure solid. Calcination involves the heating of solids to a high temperature for the purpose of removing volatile substances, oxidizing a portion of mass, or rendering them friable. Therefore, this stage in the drying process is sometimes considered a process of absolute purification.\n",
    "\n",
    "An example of an overall calcining of incoming ammonium diuranate is shown in the diagram based out of Key Lake below [4]:\n",
    "<br>\n",
    "<br>\n",
    "<img width=\"400\" src=\"pics/.png\" title=\"Calciner Tank\">\n",
    "<p style=\"text-align:center;\"><b>Figure 5: Calciner Tank Process at Key Lime Uranium Mill.</b></p>\n",
    "<br>\n",
    "This production happens in large molar quantities, and assuming a 100% conversion rate every 100 kgs of ammonium diuranate will result in 90 kgs of triuranium octoxide. High temperature calcining is practiced producing a greater than 94% U<sub>3</sub>O<sub>8</sub> product having high density [3].\n",
    "\n",
    "Calcination eliminates water completely, and drives off the ammonia, but care must be taken not to sinter the product.\n",
    "\n",
    "Sintering can significantly reduce nitric acid solubility, which is critical for some refining processes. Several types of drying equipment have been used in the calcining process, typically arranged in the series of dryers that succeed the main calciner tank. These include single or multiple hearth dryers, drum dryers, belt dryers, screw dryers and radiant heat dryers. There also becomes the problem of how to dispose of the ammonia used as a \"sweep-gas\" to drive the heat transfer in the calciner. As seen in figure 4, the solution to the produced ammonia is to add a form of fluid bed dryer to the calciner tank to extract the ammonia vapor.\n",
    "\n",
    "__Sizing and Cost__\n",
    "\n",
    "The size of each of the main columns used in this process will prove to be vital to the overall drying module. For evaporation, it was determined that there would be 2 columns used in this process. Each of these columns would be sized at 200m<sup>3</sup>. For calcination, it was determined that 2 MHF units would be utilized. Each of these calciner unites would have an overall volume of 350m<sup>3</sup>.\n",
    "\n",
    "The overall cost of this operation will be strictly based on the main unit operations involved in the process. Thus, it will mainly pertain to the evapotator and calciner columns. For the evaporator tank, it will utilize a stainless steel material to withstand the high temperatures the system is going to be exposed to. Using (x), it is assumed that the cost of each of the 200m<sup>3</sup> falling film evaporator columns using this material will be 28,700 dollars. For the calciner, it will also utilize stainless steel, but will also include an interior refactory brick layer since it will have a low thermal conductivity during the heat reaction. This in turn will not only lead to protection of the stainless steel outer layer, but will also yield greater energy efficiency for the overall heating process. Using (x), each of the MHF calciner units, with a capacity of 350m<sup>3</sup>, will cost 75,370 dollars. \n",
    "\n",
    "In total, the overall drying process will cost approximately 208,140 dollars to construct and design.\n",
    "\n",
    "__Modeling the Module__\n",
    "\n",
    "To model this process, the process needs to remain seperated by the two main stages of drying. Thus, two seperate subsections to this module will be created for both evaporation and calcination.\n",
    "\n",
    "Starting with evaporation, this basis of the model needed some input parameters to work with. The feed mass flowrate was determined to be 5800 kg/min, along with a  set overall volume of 400m<sup>3</sup> (remember there are two tanks). The third and final parameter that will be monitored is the product mass density, which is being feed in at \n",
    "\n",
    "a paramter had to be selected to base the model after that would be able to monitor the amount of flow entering and exiting the tank. This was chosen to be the liquid volume of the evaporator tank, but it came with some conflicts. Being able to differentiate whether the tank was filling, evaporating, or discharging into the next stage was difficult to determine using only this parameter. \n"
   ]
  },
  {
   "cell_type": "code",
   "execution_count": null,
   "id": "b9013b91",
   "metadata": {},
   "outputs": [],
   "source": []
  }
 ],
 "metadata": {
  "kernelspec": {
   "display_name": "Python 3 (ipykernel)",
   "language": "python",
   "name": "python3"
  },
  "language_info": {
   "codemirror_mode": {
    "name": "ipython",
    "version": 3
   },
   "file_extension": ".py",
   "mimetype": "text/x-python",
   "name": "python",
   "nbconvert_exporter": "python",
   "pygments_lexer": "ipython3",
   "version": "3.11.5"
  }
 },
 "nbformat": 4,
 "nbformat_minor": 5
}
