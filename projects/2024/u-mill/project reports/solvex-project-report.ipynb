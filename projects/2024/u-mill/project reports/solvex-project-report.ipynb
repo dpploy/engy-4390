{
 "cells": [
  {
   "cell_type": "markdown",
   "id": "82aee94b",
   "metadata": {},
   "source": [
    "**Engy-4390** Nuclear Systems Design and Analysis, UMass Lowell, Chem. Eng. Nuclear Program Fall 2024\n",
    "\n",
    "# Uranium Mill Network Dynamics Simulation Report\n",
    "$\n",
    "  \\newcommand{\\Amtrx}{\\boldsymbol{\\mathsf{A}}}\n",
    "  \\newcommand{\\Bmtrx}{\\boldsymbol{\\mathsf{B}}}\n",
    "  \\newcommand{\\Mmtrx}{\\boldsymbol{\\mathsf{M}}}\n",
    "  \\newcommand{\\Imtrx}{\\boldsymbol{\\mathsf{I}}}\n",
    "  \\newcommand{\\Pmtrx}{\\boldsymbol{\\mathsf{P}}}\n",
    "  \\newcommand{\\Lmtrx}{\\boldsymbol{\\mathsf{L}}}\n",
    "  \\newcommand{\\Umtrx}{\\boldsymbol{\\mathsf{U}}}\n",
    "  \\newcommand{\\Smtrx}{\\boldsymbol{\\mathsf{S}}}\n",
    "  \\newcommand{\\xvec}{\\boldsymbol{\\mathsf{x}}}\n",
    "  \\newcommand{\\uvar}{\\boldsymbol{u}}\n",
    "  \\newcommand{\\fvar}{\\boldsymbol{f}}\n",
    "  \\newcommand{\\avec}{\\boldsymbol{\\mathsf{a}}}\n",
    "  \\newcommand{\\bvec}{\\boldsymbol{\\mathsf{b}}}\n",
    "  \\newcommand{\\cvec}{\\boldsymbol{\\mathsf{c}}}\n",
    "  \\newcommand{\\rvec}{\\boldsymbol{\\mathsf{r}}}\n",
    "  \\newcommand{\\mvec}{\\boldsymbol{\\mathsf{m}}}\n",
    "  \\newcommand{\\gvec}{\\boldsymbol{\\mathsf{g}}}\n",
    "  \\newcommand{\\zerovec}{\\boldsymbol{\\mathsf{0}}}\n",
    "  \\newcommand{\\norm}[1]{\\bigl\\lVert{#1}\\bigr\\rVert}\n",
    "  \\newcommand{\\transpose}[1]{{#1}^\\top}\n",
    "  \\DeclareMathOperator{\\rank}{rank}\n",
    "  \\newcommand{\\Power}{\\mathcal{P}}\n",
    "$"
   ]
  },
  {
   "cell_type": "markdown",
   "id": "73f7f8f3",
   "metadata": {},
   "source": [
    "**Student(s):** Alyssa Puglisi <br>\n",
    "**Course:** Engy-4390 Nuclear Systems Design and Analysis  <br>\n",
    "**Mentor:** Prof. Valmor F. de Almeida\n",
    "\n",
    "UMass Lowell, Dept. of Chemical Engineering, Nuclear Energy Program \n",
    "<br>\n",
    "**16Oct2024**\n",
    "\n",
    "[Project Repository on `GitHub`](https://github.com/dpploy/engy-4390/tree/main/projects/2024/u-mill)"
   ]
  },
  {
   "cell_type": "markdown",
   "id": "4f11fb75",
   "metadata": {},
   "source": [
    "---\n",
    "## Table of Contents<a id=\"toc\"></a>\n",
    "* [Problem Statment](#prob)\n",
    "* [Introduction](#intro)\n",
    "* [Objectives](#obj)\n",
    "* [Tools](#tools)\n",
    "* [Approach and Dynamics Equations](#app)\n",
    "* [Challenges & Course Corrections](#correct)\n",
    "* [Initialization of Solvent Extraction Module](#IPM)\n",
    "* [Startup](#su)\n",
    "* [Steady-State](#ss)\n",
    "* [Disturbance](#malfunction)\n",
    "* [References](#refs)\n",
    "---"
   ]
  },
  {
   "cell_type": "code",
   "execution_count": 17,
   "id": "24e0c04a",
   "metadata": {},
   "outputs": [],
   "source": [
    "from cortix import ReactionMechanism"
   ]
  },
  {
   "cell_type": "markdown",
   "id": "15c2799c",
   "metadata": {},
   "source": [
    "## [Problem Statement](#toc)<a id=\"prob\"></a>"
   ]
  },
  {
   "cell_type": "markdown",
   "id": "0d56b825",
   "metadata": {},
   "source": [
    "Design a dynamic system that accurately models the reactive mass transfer with multiple phases occuring in the solvent extraction process during White Mesa's uranium milling. "
   ]
  },
  {
   "cell_type": "markdown",
   "id": "515774a0",
   "metadata": {},
   "source": [
    "Mechanism of Extraction & Stripping:"
   ]
  },
  {
   "cell_type": "code",
   "execution_count": 21,
   "id": "c55111e8",
   "metadata": {
    "scrolled": true
   },
   "outputs": [
    {
     "ename": "AssertionError",
     "evalue": "",
     "output_type": "error",
     "traceback": [
      "\u001b[1;31m---------------------------------------------------------------------------\u001b[0m",
      "\u001b[1;31mAssertionError\u001b[0m                            Traceback (most recent call last)",
      "Cell \u001b[1;32mIn[21], line 1\u001b[0m\n\u001b[1;32m----> 1\u001b[0m rxn_mech \u001b[38;5;241m=\u001b[39m ReactionMechanism(file_name\u001b[38;5;241m=\u001b[39m\u001b[38;5;124m'\u001b[39m\u001b[38;5;124msolvex-stripping-rxn-mechanism.txt\u001b[39m\u001b[38;5;124m'\u001b[39m, order_species\u001b[38;5;241m=\u001b[39m\u001b[38;5;28;01mTrue\u001b[39;00m)\n",
      "File \u001b[1;32mC:\\Anaconda\\Lib\\site-packages\\cortix\\support\\chemeng\\reaction_mechanism.py:322\u001b[0m, in \u001b[0;36mReactionMechanism.__init__\u001b[1;34m(self, header, file_name, mechanism, order_species, reparam, bounds)\u001b[0m\n\u001b[0;32m    319\u001b[0m \u001b[38;5;28mself\u001b[39m\u001b[38;5;241m.\u001b[39mspecies \u001b[38;5;241m=\u001b[39m \u001b[38;5;28mlist\u001b[39m()\n\u001b[0;32m    321\u001b[0m \u001b[38;5;28;01mfor\u001b[39;00m \u001b[38;5;28mid\u001b[39m, name \u001b[38;5;129;01min\u001b[39;00m \u001b[38;5;28menumerate\u001b[39m(\u001b[38;5;28mself\u001b[39m\u001b[38;5;241m.\u001b[39mspecies_names):\n\u001b[1;32m--> 322\u001b[0m     spc \u001b[38;5;241m=\u001b[39m Species(name\u001b[38;5;241m=\u001b[39mname, formula_name\u001b[38;5;241m=\u001b[39mname, flag\u001b[38;5;241m=\u001b[39m\u001b[38;5;28mid\u001b[39m)\n\u001b[0;32m    323\u001b[0m     \u001b[38;5;28mself\u001b[39m\u001b[38;5;241m.\u001b[39mspecies\u001b[38;5;241m.\u001b[39mappend(spc)\n\u001b[0;32m    325\u001b[0m \u001b[38;5;66;03m# Third: build the stoichiometric matrix\u001b[39;00m\n",
      "File \u001b[1;32mC:\\Anaconda\\Lib\\site-packages\\cortix\\support\\species.py:146\u001b[0m, in \u001b[0;36mSpecies.__init__\u001b[1;34m(self, name, formula_name, atoms, charge, phase, flag, info, latex_name)\u001b[0m\n\u001b[0;32m    143\u001b[0m     \u001b[38;5;28mself\u001b[39m\u001b[38;5;241m.\u001b[39m__latex_name_from_formula_name()\n\u001b[0;32m    145\u001b[0m \u001b[38;5;28;01mif\u001b[39;00m \u001b[38;5;28mlen\u001b[39m(\u001b[38;5;28mself\u001b[39m\u001b[38;5;241m.\u001b[39matoms) \u001b[38;5;241m==\u001b[39m \u001b[38;5;241m0\u001b[39m \u001b[38;5;129;01mand\u001b[39;00m \u001b[38;5;28mself\u001b[39m\u001b[38;5;241m.\u001b[39mformula_name \u001b[38;5;241m!=\u001b[39m \u001b[38;5;124m'\u001b[39m\u001b[38;5;124mno-species-formula-name\u001b[39m\u001b[38;5;124m'\u001b[39m:\n\u001b[1;32m--> 146\u001b[0m     \u001b[38;5;28mself\u001b[39m\u001b[38;5;241m.\u001b[39m__atoms_from_formula_name()\n\u001b[0;32m    148\u001b[0m \u001b[38;5;28mself\u001b[39m\u001b[38;5;241m.\u001b[39mupdate_molar_mass()\n",
      "File \u001b[1;32mC:\\Anaconda\\Lib\\site-packages\\cortix\\support\\species.py:381\u001b[0m, in \u001b[0;36mSpecies.__atoms_from_formula_name\u001b[1;34m(self)\u001b[0m\n\u001b[0;32m    379\u001b[0m         formula_name \u001b[38;5;241m+\u001b[39m\u001b[38;5;241m=\u001b[39m right_side_of_sub_formula[\u001b[38;5;241m1\u001b[39m:]\n\u001b[0;32m    380\u001b[0m     \u001b[38;5;28;01melif\u001b[39;00m (i \u001b[38;5;241m>\u001b[39m\u001b[38;5;241m=\u001b[39m \u001b[38;5;241m0\u001b[39m \u001b[38;5;129;01mand\u001b[39;00m j \u001b[38;5;241m==\u001b[39m \u001b[38;5;241m-\u001b[39m\u001b[38;5;241m1\u001b[39m) \u001b[38;5;129;01mor\u001b[39;00m (i \u001b[38;5;241m==\u001b[39m \u001b[38;5;241m-\u001b[39m\u001b[38;5;241m1\u001b[39m \u001b[38;5;129;01mand\u001b[39;00m j \u001b[38;5;241m>\u001b[39m\u001b[38;5;241m=\u001b[39m\u001b[38;5;241m0\u001b[39m):\n\u001b[1;32m--> 381\u001b[0m         \u001b[38;5;28;01massert\u001b[39;00m \u001b[38;5;28;01mFalse\u001b[39;00m\n\u001b[0;32m    383\u001b[0m \u001b[38;5;66;03m# Build the atom list\u001b[39;00m\n\u001b[0;32m    384\u001b[0m \u001b[38;5;28;01massert\u001b[39;00m \u001b[38;5;28misinstance\u001b[39m(\u001b[38;5;28mself\u001b[39m\u001b[38;5;241m.\u001b[39matoms, \u001b[38;5;28mlist\u001b[39m)\n",
      "\u001b[1;31mAssertionError\u001b[0m: "
     ]
    }
   ],
   "source": [
    "rxn_mech = ReactionMechanism(file_name='solvex-stripping-rxn-mechanism.txt', order_species=True)"
   ]
  },
  {
   "cell_type": "markdown",
   "id": "92ad65a4",
   "metadata": {},
   "source": [
    "## [Introduction](#toc)<a id=\"intro\"></a>\n"
   ]
  },
  {
   "cell_type": "markdown",
   "id": "ae30a2f2",
   "metadata": {},
   "source": [
    "The uranium solvent extraction circuit consists of:\n",
    "\n",
    "(a) Four extraction stages, \n",
    "\n",
    "(b) One organic washing stage,\n",
    "\n",
    "(c) Four stripping stages, \n",
    "\n",
    "(d) One organic regeneration stage."
   ]
  },
  {
   "cell_type": "markdown",
   "id": "752b7f63",
   "metadata": {},
   "source": [
    "## [Objectives](#toc)<a id=\"obj\"></a>"
   ]
  },
  {
   "cell_type": "markdown",
   "id": "5a3c3033",
   "metadata": {},
   "source": []
  },
  {
   "cell_type": "markdown",
   "id": "033d7eb6",
   "metadata": {},
   "source": [
    "## [Tools](#toc)<a id=\"tools\"></a>"
   ]
  },
  {
   "cell_type": "markdown",
   "id": "24ec4478",
   "metadata": {},
   "source": [
    "## [Approach and Dynamics Equations](#toc)<a id=\"app\"></a>"
   ]
  },
  {
   "cell_type": "markdown",
   "id": "bf8acc0b",
   "metadata": {},
   "source": [
    "## [Challenges & Course Correctons](#toc)<a id=\"correct\"></a>"
   ]
  },
  {
   "cell_type": "markdown",
   "id": "51d195d7",
   "metadata": {},
   "source": [
    "## [Initialization of Solvent Extraction Modules](#toc)<a id=\"IPM\"></a>"
   ]
  },
  {
   "cell_type": "markdown",
   "id": "2d5fa571",
   "metadata": {},
   "source": [
    "```python   \n",
    "                                      |\n",
    "                                      |  Extraction Feed (from Decantation-Filtration filtrate)\n",
    "                                      |\n",
    "                                      v\n",
    "                              |----------------|\n",
    "                              |                |\n",
    "         Organic Feed ------->|                |------> Organic Product (to Scrubbing internal)\n",
    "         (internal source)    |    Solvent     |\n",
    "                              |   Extraction   |\n",
    "         Raffinate <----------|                |<------ Scrub Raffinate (from Scrubbing internal)\n",
    "         Stream (to CCD Bank) |                |\n",
    "                              |----------------|\n",
    "          Organic Product <---|                |<------ Organic Feed (Organic Product from Solv. Extr. internal)\n",
    "          (to Strip internal) |                |\n",
    "                              |   Scrubbing    |\n",
    "           Scrub Feed ------->|                |-------> Scrub Raffinate (to Solvent Extraction internal)\n",
    "           (internal source)  |                |\n",
    "                              |----------------|\n",
    "          Organic Feed ------>|                |-------> Organic Regeneration (to Solvent Extraction not done)\n",
    "        (from Scrub internal) |   Stripping    |\n",
    "                              |                |<------ Stripping Feed (internal source)\n",
    "                              |________________|<------ Stripping Feed (from Precipitation not implemented)\n",
    "                                      |\n",
    "                                      |\n",
    "                                      |\n",
    "                                      v\n",
    "                               Stripping Product (Precipitation feed)\n",
    "```"
   ]
  },
  {
   "cell_type": "markdown",
   "id": "bb92a6b8",
   "metadata": {},
   "source": [
    "## [References](#toc)<a id=\"refs\"></a>\n",
    "\n",
    "- [1] “35 No. 9 Uranium Extraction Technology - IAEA.” Uranium Extraction Technology, IAEA, 1993, https://www-pub.iaea.org/MTCD/Publications/PDF/trs359_web.pdf. \n",
    "- [2] \"31 No. 3 Manual on Laboratory Testing for Uranium Ore Precessing - IAEA.\" Manual on Laboratory Testing for Uranium Ore Precessing, IAEA, 1990, https://www-pub.iaea.org/MTCD/Publications/PDF/trs313_web.pdf"
   ]
  },
  {
   "cell_type": "code",
   "execution_count": null,
   "id": "d40b92a7",
   "metadata": {},
   "outputs": [],
   "source": []
  }
 ],
 "metadata": {
  "kernelspec": {
   "display_name": "Python 3 (ipykernel)",
   "language": "python",
   "name": "python3"
  },
  "language_info": {
   "codemirror_mode": {
    "name": "ipython",
    "version": 3
   },
   "file_extension": ".py",
   "mimetype": "text/x-python",
   "name": "python",
   "nbconvert_exporter": "python",
   "pygments_lexer": "ipython3",
   "version": "3.11.5"
  }
 },
 "nbformat": 4,
 "nbformat_minor": 5
}
