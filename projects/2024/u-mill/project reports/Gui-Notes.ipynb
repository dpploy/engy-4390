{
 "cells": [
  {
   "cell_type": "markdown",
   "id": "2d0d0837",
   "metadata": {},
   "source": [
    "Precipitation\n",
    "Precipitation is a key step in uranium mining, it comes after the leaching and pumping processes. Once the ore has been injected with the acid solution, it is then recovered into the surface and precipitated from the solution. This precipitate is then filtered to remove the acid and dried up into a solid. The concentrated, purified uranium solution (referred to as “pregnant solution” or “eluate”) is advanced to a precipitation stage using hydrogen peroxide, magnesium oxide, or sodium hydroxide. This process is one of the final in purifying the uranium and separating it from the ore and other unwanted materials present in the ore. This process is repeated as many times as economically possible to strip as much uranium from the ore as possible. The end result of this process is oxidized uranium, also known as yellow cake, a solidified version of U308. Higher levels of carbonate in the orebodies will require more sulfuric acid, making precipitation more costly. Because this process uses water, after milling is done water needs to be returned to its original purity in order to be returned to its environment and prevent any accidents or contamination. Some of the water can be re used for the process."
   ]
  },
  {
   "cell_type": "markdown",
   "id": "2073207f",
   "metadata": {},
   "source": [
    "Sources\n",
    "CamecoCorporation. (2021, December 7). How It's Made - Uranium Part 2 [Video]. YouTube. https://www.youtube.com/watch?si=MOfC9CL7AqTSexF7&v=c7ehyxRBMbw&feature=youtu.be\n",
    "\n",
    "In-situ Leach mining of uranium. (2024, May 16). World Nuclear Association. https://world-nuclear.org/information-library/nuclear-fuel-cycle/mining-of-uranium/in-situ-leach-mining-of-uranium#:~:text=The%20water%20is%20re%2Doxidized,uranium%20as%20is%20economically%20feasible\n",
    "\n",
    "Uranium mining overview. (2024, May 16). World Nuclear Association. https://world-nuclear.org/information-library/nuclear-fuel-cycle/mining-of-uranium/uranium-mining-overview\n",
    "\n",
    "Uranium mining, processing, and reclamation - Uranium mining in Virginia: Scientific, technical, environmental, human health and safety, and regulatory aspects of uranium mining and processing in Virginia - NCBI bookshelf. (2011, December 19). National Center for Biotechnology Information. https://www.ncbi.nlm.nih.gov/books/NBK201050/#:~:text=The%20tailings%20are%20then%20forwarded,shipped%20to%20other%20licensed%20facilities"
   ]
  },
  {
   "cell_type": "code",
   "execution_count": null,
   "id": "a3889f4e",
   "metadata": {},
   "outputs": [],
   "source": []
  }
 ],
 "metadata": {
  "kernelspec": {
   "display_name": "Python 3 (ipykernel)",
   "language": "python",
   "name": "python3"
  },
  "language_info": {
   "codemirror_mode": {
    "name": "ipython",
    "version": 3
   },
   "file_extension": ".py",
   "mimetype": "text/x-python",
   "name": "python",
   "nbconvert_exporter": "python",
   "pygments_lexer": "ipython3",
   "version": "3.12.3"
  }
 },
 "nbformat": 4,
 "nbformat_minor": 5
}
