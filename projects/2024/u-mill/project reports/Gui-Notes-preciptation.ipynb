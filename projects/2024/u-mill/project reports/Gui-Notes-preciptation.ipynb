{
 "cells": [
  {
   "cell_type": "markdown",
   "id": "563f13b2",
   "metadata": {},
   "source": [
    "## Problem statement"
   ]
  },
  {
   "cell_type": "code",
   "execution_count": 18,
   "id": "5e061378",
   "metadata": {},
   "outputs": [],
   "source": [
    "from cortix import ReactionMechanism"
   ]
  },
  {
   "cell_type": "code",
   "execution_count": 20,
   "id": "c275223a",
   "metadata": {},
   "outputs": [
    {
     "data": {
      "text/markdown": [
       "12 **Species:** \n",
       " ${\\mathrm{H}_{2}\\mathrm{O}}_\\mathrm{(a)} \\quad  {\\mathrm{N}\\mathrm{H}_{3}}_{\\mathrm{(a)}} \\quad  {\\mathrm{N}\\mathrm{a}_{2}\\mathrm{C}\\mathrm{O}_{3}}_{\\mathrm{(a)}} \\quad  {\\mathrm{N}\\mathrm{a}_{2}\\mathrm{C}\\mathrm{O}_{3}}_{\\mathrm{(s)}} \\quad  {\\mathrm{N}\\mathrm{a}_{2}\\mathrm{U}_{2}\\mathrm{O}_{7}}_{\\mathrm{(a)}} \\quad  {\\mathrm{N}\\mathrm{a}_{2}\\mathrm{U}_{2}\\mathrm{O}_{7}}_{\\mathrm{(v)}} \\quad  {\\mathrm{N}\\mathrm{a}_{4}\\mathrm{U}\\mathrm{O}_{2}[\\mathrm{C}\\mathrm{O}_{3}]_{3}}_{\\mathrm{(a)}} \\quad  {\\mathrm{N}\\mathrm{a}_{4}\\mathrm{U}\\mathrm{O}_{2}[\\mathrm{C}\\mathrm{O}_{3}]_{3}}_{\\mathrm{(o)}} \\quad  {\\mathrm{N}\\mathrm{a}\\mathrm{O}\\mathrm{H}}_\\mathrm{(a)} \\quad  {\\mathrm{S}\\mathrm{O}_{4}^-}_{\\mathrm{(a)}} \\quad  {\\mathrm{U}\\mathrm{O}_{2}[\\mathrm{S}\\mathrm{O}_{4}]_{3}^-}_{\\mathrm{(a)}} \\quad  {[\\mathrm{N}\\mathrm{H}_{4}]_{2}\\mathrm{U}_{2}\\mathrm{O}_{7}}_{\\mathrm{(a)}}$"
      ],
      "text/plain": [
       "<IPython.core.display.Markdown object>"
      ]
     },
     "metadata": {},
     "output_type": "display_data"
    },
    {
     "data": {
      "text/markdown": [
       "3 **Reactions:** \n",
       " \\begin{align*} \n",
       "2.0\\,{\\mathrm{N}\\mathrm{a}_{4}\\mathrm{U}\\mathrm{O}_{2}[\\mathrm{C}\\mathrm{O}_{3}]_{3}}_{\\mathrm{(o)}}\\ + \\ 6.0\\,{\\mathrm{N}\\mathrm{a}\\mathrm{O}\\mathrm{H}}_\\mathrm{(a)}\\ &\\longrightarrow \\ 3.0\\,{\\mathrm{H}_{2}\\mathrm{O}}_\\mathrm{(a)}\\ + \\ 6.0\\,{\\mathrm{N}\\mathrm{a}_{2}\\mathrm{C}\\mathrm{O}_{3}}_{\\mathrm{(s)}}\\ + \\ {\\mathrm{N}\\mathrm{a}_{2}\\mathrm{U}_{2}\\mathrm{O}_{7}}_{\\mathrm{(v)}}\\\\ \n",
       "6.0\\,{\\mathrm{N}\\mathrm{H}_{3}}_{\\mathrm{(a)}}\\ + \\ 2.0\\,{\\mathrm{U}\\mathrm{O}_{2}[\\mathrm{S}\\mathrm{O}_{4}]_{3}^-}_{\\mathrm{(a)}}\\ &\\longrightarrow \\ 4.0\\,{\\mathrm{S}\\mathrm{O}_{4}^-}_{\\mathrm{(a)}}\\ + \\ {[\\mathrm{N}\\mathrm{H}_{4}]_{2}\\mathrm{U}_{2}\\mathrm{O}_{7}}_{\\mathrm{(a)}}\\\\ \n",
       "2.0\\,{\\mathrm{N}\\mathrm{a}_{4}\\mathrm{U}\\mathrm{O}_{2}[\\mathrm{C}\\mathrm{O}_{3}]_{3}}_{\\mathrm{(a)}}\\ + \\ 6.0\\,{\\mathrm{N}\\mathrm{a}\\mathrm{O}\\mathrm{H}}_\\mathrm{(a)}\\ &\\longrightarrow \\ 3.0\\,{\\mathrm{H}_{2}\\mathrm{O}}_\\mathrm{(a)}\\ + \\ 6.0\\,{\\mathrm{N}\\mathrm{a}_{2}\\mathrm{C}\\mathrm{O}_{3}}_{\\mathrm{(a)}}\\ + \\ {\\mathrm{N}\\mathrm{a}_{2}\\mathrm{U}_{2}\\mathrm{O}_{7}}_{\\mathrm{(a)}}\\\\ \n",
       "\\end{align*} \n"
      ],
      "text/plain": [
       "<IPython.core.display.Markdown object>"
      ]
     },
     "metadata": {},
     "output_type": "display_data"
    }
   ],
   "source": [
    "rxn_mech = ReactionMechanism(file_name='precipitation-reactions-mechanism.txt', order_species=True)\n",
    "rxn_mech.md_print()"
   ]
  },
  {
   "cell_type": "markdown",
   "id": "6e3579c4",
   "metadata": {},
   "source": [
    "# Precipitation"
   ]
  },
  {
   "cell_type": "markdown",
   "id": "2d0d0837",
   "metadata": {},
   "source": [
    "Precipitation is a key step in uranium mining, it comes after the leaching and pumping processes. Once the ore has been injected with the acid solution, it is then recovered into the surface and precipitated from the solution. This precipitate is then filtered to remove the acid and dried up into a solid. The concentrated, purified uranium solution (referred to as “pregnant solution” or “eluate”) is advanced to a precipitation stage using hydrogen peroxide, magnesium oxide, or sodium hydroxide. This process is one of the final in purifying the uranium and separating it from the ore and other unwanted materials present in the ore. This process is repeated as many times as economically possible to strip as much uranium from the ore as possible. The end result of this process is oxidized uranium, also known as yellow cake, a solidified version of U308. Higher levels of carbonate in the orebodies will require more sulfuric acid, making precipitation more costly. Because this process uses water, after milling is done water needs to be returned to its original purity in order to be returned to its environment and prevent any accidents or contamination. Some of the water can be re used for the process."
   ]
  },
  {
   "cell_type": "markdown",
   "id": "66400147",
   "metadata": {},
   "source": [
    "```python   \n",
    "                                      |\n",
    "                                      |   leaching process product\n",
    "                                      |\n",
    "                                      v\n",
    "                              |----------------|\n",
    "                              |                |\n",
    "        water and     ------->|                |------> Ore free of acid is dried up(drying phase)\n",
    "        acid removal          |    surface     |\n",
    "                              |    level       |\n",
    "                              |                |<------ concentrate pregnant solution to precipitation stage\n",
    "                              |                |\n",
    "                              |----------------|\n",
    "        pregnant solution --->|                |\n",
    "    is percipitated using     |                |\n",
    "       Hydrogen peroxide,     | precipitation  |\n",
    "    magnesium oxide or        |      stage     |-------> purified ore free of acid, and other unwanted materials\n",
    "          sodium oxide        |                |\n",
    "                              |----------------|\n",
    "    process is repeated  ---->|                |-------> yellow cake is produced and ready to be shipped\n",
    "        until desired purity  |   shipping     |\n",
    "          is achieved         |                |\n",
    "                              |________________|\n",
    "                                      |\n",
    "                                      |\n",
    "                                      |\n",
    "                                      v\n",
    "                            shipping of Product\n",
    "```"
   ]
  },
  {
   "cell_type": "markdown",
   "id": "a2d9f1ae",
   "metadata": {},
   "source": [
    "## Chemical reactions"
   ]
  },
  {
   "cell_type": "markdown",
   "id": "69d84639",
   "metadata": {},
   "source": [
    "addition of sodium hydroxide\n",
    "2 Na4UO2(CO3)3 + 6 NaOH -> Na2U2O7 + 6 Na2CO3 + 3 H2O\n",
    "\n",
    "amonium hydrate and gaseous amaonia reaction\n",
    "2 UO2 (SO4)3^-4 + 6 NH3 -> (NH4)2 U2O7 + 4 SO4^-2\n",
    "\n",
    "\n",
    "\n",
    "The precipitation is usually carried out using a mixture of gaseous ammonia\n",
    "and air at a ratio of 1:3. The temperature is held at 30 to 50°C, and the terminal\n",
    "pH value is between seven and eight. \n",
    "\n",
    "forming ammonium diuranate (ADU) \n",
    "2 UO2(SO4)3^-4 + 2 NH3 + 6 H2O -> (UO2)SO4(OH)2 * 4 H2O\n",
    "\n",
    "using milk magnesia\n",
    "UO2SO4 + MgO + xH2O -> UO3 * xH2O + MgSO4\n",
    "\n",
    "acid along side hydrogen peroxide\n",
    "UO2^2 + H2O2 + 2 H2O -> UO4 * 2 H2O + 2 H^+\n",
    "\n",
    "Precipitation from alkaline stripping solutions; using sodium hydroxide\n",
    "2 Na4UO2(CO3)3 + 6 NaOH -> Na2U2O7 + 6 Na2CO3 + 3 H2O\n",
    "\n"
   ]
  },
  {
   "cell_type": "markdown",
   "id": "2073207f",
   "metadata": {},
   "source": [
    "Sources\n",
    "CamecoCorporation. (2021, December 7). How It's Made - Uranium Part 2 [Video]. YouTube. https://www.youtube.com/watch?si=MOfC9CL7AqTSexF7&v=c7ehyxRBMbw&feature=youtu.be\n",
    "\n",
    "In-situ Leach mining of uranium. (2024, May 16). World Nuclear Association. https://world-nuclear.org/information-library/nuclear-fuel-cycle/mining-of-uranium/in-situ-leach-mining-of-uranium#:~:text=The%20water%20is%20re%2Doxidized,uranium%20as%20is%20economically%20feasible\n",
    "\n",
    "Uranium mining overview. (2024, May 16). World Nuclear Association. https://world-nuclear.org/information-library/nuclear-fuel-cycle/mining-of-uranium/uranium-mining-overview\n",
    "\n",
    "Uranium mining, processing, and reclamation - Uranium mining in Virginia: Scientific, technical, environmental, human health and safety, and regulatory aspects of uranium mining and processing in Virginia - NCBI bookshelf. (2011, December 19). National Center for Biotechnology Information. https://www.ncbi.nlm.nih.gov/books/NBK201050/#:~:text=The%20tailings%20are%20then%20forwarded,shipped%20to%20other%20licensed%20facilities"
   ]
  }
 ],
 "metadata": {
  "kernelspec": {
   "display_name": "Python 3 (ipykernel)",
   "language": "python",
   "name": "python3"
  },
  "language_info": {
   "codemirror_mode": {
    "name": "ipython",
    "version": 3
   },
   "file_extension": ".py",
   "mimetype": "text/x-python",
   "name": "python",
   "nbconvert_exporter": "python",
   "pygments_lexer": "ipython3",
   "version": "3.12.3"
  }
 },
 "nbformat": 4,
 "nbformat_minor": 5
}
