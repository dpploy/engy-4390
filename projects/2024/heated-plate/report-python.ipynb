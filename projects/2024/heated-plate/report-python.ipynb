{
 "cells": [
  {
   "cell_type": "markdown",
   "metadata": {},
   "source": [
    "**Engy-4390** Nuclear Systems and Design Analysis, UMass Lowell, Chem. Eng. Nuclear Program Fall 2024; Prof. V. F. de Almeida\n",
    "\n",
    "# Heated Plate\n",
    "$  \n",
    "  \\newcommand{\\Amtrx}{\\boldsymbol{\\mathsf{A}}}\n",
    "  \\newcommand{\\Bmtrx}{\\boldsymbol{\\mathsf{B}}}\n",
    "  \\newcommand{\\Mmtrx}{\\boldsymbol{\\mathsf{M}}}\n",
    "  \\newcommand{\\Imtrx}{\\boldsymbol{\\mathsf{I}}}\n",
    "  \\newcommand{\\Pmtrx}{\\boldsymbol{\\mathsf{P}}}\n",
    "  \\newcommand{\\Lmtrx}{\\boldsymbol{\\mathsf{L}}}\n",
    "  \\newcommand{\\Umtrx}{\\boldsymbol{\\mathsf{U}}}\n",
    "  \\newcommand{\\Smtrx}{\\boldsymbol{\\mathsf{S}}}\n",
    "  \\newcommand{\\xvec}{\\boldsymbol{\\mathsf{x}}}\n",
    "  \\newcommand{\\avec}{\\boldsymbol{\\mathsf{a}}}\n",
    "  \\newcommand{\\bvec}{\\boldsymbol{\\mathsf{b}}}\n",
    "  \\newcommand{\\cvec}{\\boldsymbol{\\mathsf{c}}}\n",
    "  \\newcommand{\\rvec}{\\boldsymbol{\\mathsf{r}}}\n",
    "  \\newcommand{\\fvec}{\\boldsymbol{\\mathsf{f}}}\n",
    "  \\newcommand{\\mvec}{\\boldsymbol{\\mathsf{m}}}\n",
    "  \\newcommand{\\gvec}{\\boldsymbol{\\mathsf{g}}}\n",
    "  \\newcommand{\\flux}{\\boldsymbol{q}}\n",
    "  \\newcommand{\\fluxc}{\\boldsymbol{q}_\\text{c}}\n",
    "  \\newcommand{\\fluxf}{\\boldsymbol{q}_\\text{f}}\n",
    "  \\newcommand{\\velocity}{\\boldsymbol{v}}\n",
    "  \\newcommand{\\normal}{\\boldsymbol{n}}\n",
    "  \\newcommand{\\xpoint}{\\boldsymbol{x}}\n",
    "  \\newcommand{\\Tc}{T_\\text{c}}\n",
    "  \\newcommand{\\wc}{w_\\text{c}}\n",
    "  \\newcommand{\\Tf}{T_\\text{f}}\n",
    "  \\newcommand{\\wf}{w_\\text{f}}\n",
    "  \\newcommand{\\wI}{w_\\text{I}}\n",
    "  \\newcommand{\\Ri}{R_\\text{i}}\n",
    "  \\newcommand{\\Ro}{R_\\text{o}}\n",
    "  \\newcommand{\\Omegac}{\\Omega_\\text{c}}\n",
    "  \\newcommand{\\Omegaf}{\\Omega_\\text{f}}\n",
    "  \\newcommand{\\zerovec}{\\boldsymbol{\\mathsf{0}}}\n",
    "  \\newcommand{\\norm}[1]{\\bigl\\lVert{#1}\\bigr\\rVert}\n",
    "  \\newcommand{\\transpose}[1]{{#1}^\\top}\n",
    "  \\DeclareMathOperator{\\rank}{rank}\n",
    "  \\DeclareMathOperator{\\div}{div}\n",
    "  \\DeclareMathOperator{\\gradx}{grad_\\xpoint}\n",
    "  \\DeclareMathOperator{\\divx}{div_\\xpoint}\n",
    "  \\DeclareMathOperator{\\grad}{grad}\n",
    "  \\newcommand{\\Reals}{\\mathbb{R}}\n",
    "  \\newcommand{\\thetavec}{\\boldsymbol{\\theta}}\n",
    "$"
   ]
  },
  {
   "cell_type": "markdown",
   "metadata": {},
   "source": [
    "**Student(s):**  `Noah Johnson` <br>\n",
    "**Course:** Engy-4390 Nuclear Systems Design and Analysis  <br>\n",
    "**Mentor and Collaborator:** `Valmor de Almeida`\n",
    "\n",
    "UMass Lowell, Dept. of Chemical Engineering, Nuclear Energy Program \n",
    "<br>\n",
    "**07Oct2024**"
   ]
  },
  {
   "cell_type": "markdown",
   "metadata": {},
   "source": [
    "---\n",
    "## Table of Contents<a id=\"toc\"></a>\n",
    "* [Introduction](#intro)\n",
    "* [Problem Statement](#problem)\n",
    "* [Objectives](#obj)\n",
    "* [Approach](#app)\n",
    "  + [Weak Form of Problem Statement](#weakform)\n",
    "* [Test 1](#1dsolofueldirichlet)\n",
    "* [Test 2](#3DomainsNeumannRobin)\n",
    "* [Test 3](#3DomainsNeumannNeumann)\n",
    "* [Conclusions](#conclusions)\n",
    "* [References](#refs)\n",
    "---"
   ]
  },
  {
   "cell_type": "markdown",
   "metadata": {},
   "source": [
    "## [Introduction](#toc)<a id=\"intro\"></a>"
   ]
  },
  {
   "cell_type": "markdown",
   "metadata": {},
   "source": [
    "The UMass Lowell Research Reactor (UMLRR) is a pool type research reactor initially constructed in 1974. It has used LEU plate fuel since the early 2000s and operates at a maximum thermal power of 1 MW. Fuel is contained in 21 assemblies within the core, cooled either passively or by forced convection. A scale model of a single assembly has been constructed using aluminum plates in the place of fuel, some of which are equipped with electric heating elements to model reactor heat generation. Some of these plates are also outfitted with embedded thermocouples so that a temperature profile can be read from the assembly. The assembly is designed to be submerged within a lab-scale tank of water so reactor heat transfer can be studied in a controlled environment. The problem studied here is a 1D cross section of the assembly focused on a heated plate, the boundary coolant channel, and the adjacent plate. "
   ]
  },
  {
   "cell_type": "markdown",
   "metadata": {},
   "source": [
    "## [Problem Statement](#toc)<a id=\"problem\"></a>"
   ]
  },
  {
   "cell_type": "markdown",
   "metadata": {},
   "source": [
    "Solve the heat conduction problem 1/2 plate. Find $u:[a,b]\\text{ } \\mathbb{R} \\rightarrow \\mathbb{R}$ such that:\n",
    "\n",
    "\\begin{align*}\n",
    " -\\bigl(-D(x)\\, u'(x)\\bigr)'(x) + f(x)\\, &= 0  & \\forall \\qquad  x \\in [a,b], \\\\\n",
    " q_n(a) &= 0 &  \\text{Neumann B.C.}, \\\\\n",
    " q_n(b) &= h(u-u_\\text{ref}) & \\text{Robin B.C.}\n",
    "\\end{align*}\n",
    "   \n",
    "Given data: thermal conductivity coefficient, $D $, $u_\\text{ref}$ = 25 °C, h = 1.02 $\\frac{\\text{W}}{\\text{in}^2\\,K}$ and source bias $f$. "
   ]
  },
  {
   "cell_type": "code",
   "execution_count": 1,
   "metadata": {},
   "outputs": [],
   "source": [
    "import numpy as np\n",
    "import scipy\n",
    "import pandas as pd\n",
    "from matplotlib import pyplot as plt\n",
    "from pyheat_plate import *"
   ]
  },
  {
   "cell_type": "code",
   "execution_count": 20,
   "metadata": {},
   "outputs": [],
   "source": [
    "from scipy import constants as unit\n",
    "unit.kelvin = 1.0\n",
    "unit.second = 1.0\n",
    "unit.joule = 1.0\n",
    "unit.meter = 1.0\n",
    "unit.watt = unit.joule/unit.second\n",
    "unit.kg = unit.kilo*unit.gram\n",
    "unit.cm = unit.meter*unit.centi"
   ]
  },
  {
   "cell_type": "code",
   "execution_count": 24,
   "metadata": {},
   "outputs": [
    {
     "data": {
      "text/plain": [
       "0.508"
      ]
     },
     "execution_count": 24,
     "metadata": {},
     "output_type": "execute_result"
    }
   ],
   "source": [
    ".2*unit.inch/unit.cm"
   ]
  },
  {
   "cell_type": "code",
   "execution_count": 30,
   "metadata": {},
   "outputs": [
    {
     "data": {
      "image/png": "[encoded data removed]",
      "text/plain": [
       "<Figure size 1500x500 with 1 Axes>"
      ]
     },
     "metadata": {},
     "output_type": "display_data"
    }
   ],
   "source": [
    "num_pts = 100\n",
    "\n",
    "a = 0.0*unit.inch/unit.cm  # symmetry, [in]\n",
    "b = 0.05*unit.inch/unit.cm  # interface position [in]\n",
    "c = 0.20*unit.inch/unit.cm  # aluminum interface position [in]\n",
    "d = c + 0.1*unit.inch/unit.cm # right most end [in]\n",
    "\n",
    "x = np.linspace(0, d, num_pts)\n",
    "y = np.linspace(1, 1, num_pts)\n",
    "\n",
    "x_a = np.linspace(a, b, num_pts)\n",
    "x_b = np.linspace(b, c, num_pts)\n",
    "x_c = np.linspace(c, d, num_pts)\n",
    "y0 = np.linspace(0, 0, num_pts)\n",
    "\n",
    "fig = plt.figure(figsize=(15,5))\n",
    "plt.plot(x, y, \"k-\")\n",
    "plt.plot([b,b], [0,1], \"k--\")\n",
    "plt.plot([c,c], [0,1], \"k--\")\n",
    "\n",
    "plt.grid()\n",
    "#plt.ylim(0,d+0.1)\n",
    "\n",
    "section = np.arange(a, b, 1/20.)\n",
    "plt.fill_between(x_a, y, y0,color=\"red\")\n",
    "plt.fill_between(x_b, y, y0,color=\"cyan\")\n",
    "plt.fill_between(x_c, y, y0,color=\"gray\")\n",
    "\n",
    "# Domain Labels\n",
    "plt.text((b-a)/2 + a, 0.8, \"Heater\",color=\"black\",fontsize=16,weight=\"bold\",horizontalalignment=\"center\")\n",
    "plt.text((c-b)/2 + b, 0.8, \"Water\",color=\"black\",fontsize=16,weight=\"bold\",horizontalalignment=\"center\")\n",
    "plt.text((d-c)/2 + c, 0.8, \"Aluminum\",color=\"black\",fontsize=16,weight=\"bold\",horizontalalignment=\"center\")\n",
    "\n",
    "# Heater B.C. and gov eqn\n",
    "plt.text(a, 0.4, \"$q_{0} = 0$\",color=\"black\",fontsize=16)\n",
    "plt.text((b-a)/2 + a, 0.65,r\"$k\\Delta T + S = 0$\",color=\"black\",fontsize=16,horizontalalignment=\"center\")\n",
    "\n",
    "# Water B.C. and gov eqn\n",
    "plt.text((c-b)/2 + b, 0.65, r\"$k\\Delta T= 0$\",color=\"black\",fontsize=16, horizontalalignment=\"center\")\n",
    "plt.text(b, 0.4, r\"$q_\\text{fluid} = q_\\text{surface}$\",color=\"black\",fontsize=16)\n",
    "plt.text(b, 0.2, r\"$T_\\text{fluid} = T_\\text{surface}$\",color=\"black\",fontsize=16)\n",
    "\n",
    "plt.text((d-c)/2 + c, 0.65, r\"$k\\Delta T= 0$\",color=\"black\",fontsize=16, horizontalalignment=\"center\")\n",
    "plt.text(c, 0.4, r\"$q_\\text{Al} = h(T-T_{\\infty})$\",color=\"black\",fontsize=16)\n",
    "\n",
    "plt.xlabel(r\"x [cm]\",fontsize=16)\n",
    "\n",
    "#plt.arrow(.23,.6,-0.028,0.2,color=\"red\",size=18)\n",
    "plt.show()"
   ]
  },
  {
   "cell_type": "markdown",
   "metadata": {},
   "source": [
    "## [Approach](#toc)<a id=\"app\"></a>"
   ]
  },
  {
   "cell_type": "markdown",
   "metadata": {},
   "source": [
    "## Neumann (left) / Robin (right) B.C. \n",
    "\n",
    "\\begin{align*}\n",
    "    A_{i,j} = (k\\, \\phi_i^\\prime, \\phi_j^\\prime) - (S\\,\\phi_i, \\phi_j) + h\\,\\phi_j(b)\\phi_i(b) \\\\\n",
    "    b_{i} = (f,\\phi_i)  - q_{n}(a)\\,\\phi_i(a) + h\\,u_\\text{ref}\\phi_i(b)\n",
    "\\end{align*}\n"
   ]
  },
  {
   "cell_type": "markdown",
   "metadata": {},
   "source": [
    "A Galerkin weak formulation follows below and the implementation of the integrands are described next."
   ]
  },
  {
   "cell_type": "markdown",
   "metadata": {},
   "source": [
    "## [Test 1](#toc)<a id=\"1dsolofueldirichlet\"></a>\n",
    "\n",
    "### Plate/Coolant w/ Neumann/Robin BC"
   ]
  },
  {
   "cell_type": "code",
   "execution_count": 31,
   "metadata": {},
   "outputs": [
    {
     "data": {
      "image/png": "[encoded data removed]",
      "text/plain": [
       "<Figure size 1500x500 with 1 Axes>"
      ]
     },
     "metadata": {},
     "output_type": "display_data"
    }
   ],
   "source": [
    "num_pts = 100\n",
    "\n",
    "a = 0.0  # symmetry, [in]\n",
    "b = 0.05  # interface position [in]\n",
    "c = 0.20  # aluminum interface position [in]\n",
    "\n",
    "x = np.linspace(0, c, num_pts)\n",
    "y = np.linspace(1, 1, num_pts)\n",
    "\n",
    "x_a = np.linspace(a, b, num_pts)\n",
    "x_b = np.linspace(b, c, num_pts)\n",
    "\n",
    "y0 = np.linspace(0,0, num_pts)\n",
    "\n",
    "fig = plt.figure(figsize=(15,5))\n",
    "plt.plot(x, y, \"k-\")\n",
    "plt.plot([b,b], [0,1], \"k--\")\n",
    "plt.plot([c,c], [0,1], \"k--\")\n",
    "\n",
    "plt.grid()\n",
    "#plt.ylim(0,d+0.1)\n",
    "\n",
    "section = np.arange(a,b, 1/20.)\n",
    "plt.fill_between(x_a,y,y0,color=\"red\")\n",
    "plt.fill_between(x_b,y,y0,color=\"cyan\")\n",
    "\n",
    "# Domain Labels\n",
    "plt.text((b-a)/2 + a ,0.8,\"Heater\",color=\"black\",fontsize=16,weight=\"bold\",horizontalalignment=\"center\")\n",
    "plt.text((c-b)/2 + b,0.8,\"Water\",color=\"black\",fontsize=16,weight=\"bold\",horizontalalignment=\"center\")\n",
    "\n",
    "# Heater B.C. and gov eqn\n",
    "plt.text(a,0.4,\"$q_{0} = 0$\",color=\"black\",fontsize=16)\n",
    "plt.text((b-a)/2 + a,0.65,r\"$k\\Delta T + S = 0$\",color=\"black\",fontsize=16,horizontalalignment=\"center\")\n",
    "\n",
    "# Water B.C. and gov eqn\n",
    "plt.text((c-b)/2 + b,0.65,r\"$k\\Delta T= 0$\",color=\"black\",fontsize=16, horizontalalignment=\"center\")\n",
    "plt.text(b,0.4,r\"$q_\\text{fluid} = q_\\text{surface}$\",color=\"black\",fontsize=16)\n",
    "plt.text(b,0.2,r\"$T_\\text{fluid} = T_\\text{surface}$\",color=\"black\",fontsize=16)\n",
    "\n",
    "plt.text(c,0.4,r\"$q_\\text{Al} = h(T-T_{\\infty})$\",color=\"black\",fontsize=16)\n",
    "\n",
    "plt.xlabel(r\"x [in]\",fontsize=16)\n",
    "\n",
    "#plt.arrow(.23,.6,-0.028,0.2,color=\"red\",size=18)\n",
    "plt.show()"
   ]
  },
  {
   "cell_type": "code",
   "execution_count": null,
   "metadata": {},
   "outputs": [],
   "source": [
    "k_plate = 6.096*unit.watt/unit.inch/unit.kelvin\n",
    "k_coolant = 0.01524*unit.watt/unit.inch/unit.kelvin\n",
    "rho_coolant = 0.0164*unit.kg/unit.inch**3\n",
    "cp_coolant = 4168*unit.joule/unit.kg/unit.kelvin\n",
    "\n",
    "s_source = 56.818*unit.watt/unit.inch**3\n",
    "\n",
    "#x_i_r transfer\n",
    "heat_transfer_coeff = 1000 *unit.watt/unit.meter**2/unit.kelvin\n",
    "temp_ref = unit.convert_temperature(25, 'C', 'K')"
   ]
  },
  {
   "cell_type": "code",
   "execution_count": null,
   "metadata": {},
   "outputs": [],
   "source": [
    "'''Parameters'''\n",
    "n_felem_plate = 10\n",
    "n_felem_coolant = 10"
   ]
  },
  {
   "cell_type": "code",
   "execution_count": null,
   "metadata": {},
   "outputs": [],
   "source": [
    "'''Setting up the FEM solution'''\n",
    "\n",
    "x_a = 0.0*unit.inch\n",
    "x_b = 0.20*unit.inch\n",
    "\n",
    "#Degree of lagrange polynomials to be used\n",
    "degree = 2\n",
    "\n",
    "#Location where domain is split into subdomains\n",
    "interface_loc = 0.05*unit.inch\n",
    "locList = [interface_loc]\n",
    "\n",
    "#Number of elements in each subdomain\n",
    "numPartsList = [n_felem_plate, n_felem_coolant]\n",
    "\n",
    "#Boundary condition types\n",
    "bc_x_min = \"neumann\"\n",
    "bc_x_max = \"robin\"\n",
    "\n",
    "#Create whole domain partition\n",
    "domain_partition = get_domain_partition(degree, locList,numPartsList, x_a, x_b, bc_x_min, bc_x_max)\n",
    "\n",
    "kList = [k_plate, k_coolant]\n",
    "\n",
    "#Heat Transfer Coefficient\n",
    "h_coeff = heat_transfer_coeff     \n",
    "\n",
    "#Boundary Conditions (neumann on left, robin on right)\n",
    "x_min_flux = 0\n",
    "x_max_u_ref = temp_ref  #deg C\n",
    "\n",
    "#Create shape points that define the k, w, s, and f functions for the fem object\n",
    "k_shape_pts = [(x_a, kList[0]), (interface_loc*0.9999999, kList[0]), (interface_loc, kList[1]), (x_b, kList[1])]\n",
    "w_shape_pts =[(x_a, 0), (x_b, 0)]\n",
    "s_shape_pts =[(x_a, 0), (x_b, 0)]\n",
    "f_shape_pts = [(x_a, s_source), (interface_loc*0.9999999, s_source), (interface_loc,0), (x_b,0)]\n",
    "\n",
    "#Create finite element object\n",
    "femlb_1 = femLagrange(x_a, x_b, degree, 1, f_shape_pts, k_shape_pts, s_shape_pts, w_shape_pts, \n",
    "                      domain_partition, 0, 0, 0, 0, bc_x_min, bc_x_max, h_coeff, x_min_flux, x_max_u_ref)\n",
    "\n",
    "# Assembly of FEM problem\n",
    "a_mtrx = assemble_a_mtrx_neumann_robin(femlb_1)\n",
    "b_vec = assemble_b_vec_neumann_robin(femlb_1)"
   ]
  },
  {
   "cell_type": "code",
   "execution_count": null,
   "metadata": {},
   "outputs": [],
   "source": [
    "'''Checking linear system matrix of coefficients'''\n",
    "print(\"a_mtrx rank:\", np.linalg.matrix_rank(a_mtrx))\n",
    "print(\"a_mtrx shape:\",a_mtrx.shape)\n",
    "if np.linalg.matrix_rank(a_mtrx) == min(a_mtrx.shape):\n",
    "    print(\"A mtrx is full rank\")\n",
    "else:\n",
    "    assert False, 'The matrix cannot be rank deficient.'"
   ]
  },
  {
   "cell_type": "code",
   "execution_count": null,
   "metadata": {},
   "outputs": [],
   "source": [
    "'''Solve FEM problem'''\n",
    "c_star_1 = np.linalg.solve(a_mtrx,b_vec)"
   ]
  },
  {
   "cell_type": "code",
   "execution_count": null,
   "metadata": {},
   "outputs": [],
   "source": [
    "'''Display solution'''\n",
    "plt.style.use('classic')\n",
    "n_pts = 500\n",
    "x_pts = np.linspace(femlb_1.x_a, femlb_1.x_b, n_pts)\n",
    "N = len(femlb_1.phi_list)\n",
    "\n",
    "(fig, ax1) = plt.subplots(1, figsize=(14, 5))\n",
    "ax2 = ax1.twinx()\n",
    "ax1.plot(x_pts/unit.centi, unit.convert_temperature(u_star(x_pts, femlb_1, c_star_1),'K','C'), \"r-\", label=\"Temperature (°C)\")\n",
    "ax2.plot(x_pts/unit.centi, diff_flux_x_star(x_pts, femlb_1, c_star_1), \"b-\", label=r\"Heat Flux $\\frac{\\text{W}}{\\text{m}^2}$\")\n",
    "ax1.grid()\n",
    "plt.title(r\"Target Function\",fontsize=22)\n",
    "ax1.set_ylabel(r\"Temperature [°C]\",fontsize=22, color=\"red\")\n",
    "ax2.set_ylabel(r\"Heat Flux [$\\frac{\\text{W}}{{\\text{m}}^2}$]\",fontsize=22, color=\"blue\")\n",
    "ax1.set_xlabel(r\"x [cm]\",fontsize=22)\n",
    "ax1.tick_params(axis=\"y\",labelcolor=\"red\")\n",
    "ax2.tick_params(axis=\"y\",labelcolor=\"blue\")\n",
    "ax1.legend(loc=(0.4,0.2))\n",
    "ax2.legend(loc=(0.4,0.05))\n",
    "ax1.set_xlim(x_a/unit.centi, x_b/unit.centi)\n",
    "plt.show()"
   ]
  },
  {
   "cell_type": "code",
   "execution_count": null,
   "metadata": {},
   "outputs": [],
   "source": [
    "'''Derived boundary data from solution'''\n",
    "left_bound_temp = unit.convert_temperature(u_star(x_a, femlb_1, c_star_1)[0],'K','C')\n",
    "right_bound_temp = unit.convert_temperature(u_star(x_b, femlb_1, c_star_1)[0],'K','C')\n",
    "\n",
    "left_bound_flux = diff_flux_x_star(x_a, femlb_1, c_star_1)[0]\n",
    "right_bound_flux = diff_flux_x_star(x_b, femlb_1, c_star_1)[0]\n",
    "\n",
    "print(\"Left bound temperature:\",format(left_bound_temp,\".2f\"),\"°C\")\n",
    "print(\"Right bound temperature:\",format(right_bound_temp,\".2f\"),\"°C\")\n",
    "print(\"*\"*60)\n",
    "print(\"Left bound flux:\", format(left_bound_flux, \".2f\"), r\"W/m2\")\n",
    "print(\"Right bound flux:\", format(right_bound_flux, \".2f\"), r\"W/m2\")\n",
    "print(\"u_ref:\", unit.convert_temperature(x_max_u_ref,'K','C'), \"°C\")\n",
    "print(\"h:\", h_coeff, \"W/m^2 K\")"
   ]
  },
  {
   "cell_type": "code",
   "execution_count": null,
   "metadata": {},
   "outputs": [],
   "source": [
    "'''Raw data results'''\n",
    "import pandas as pd\n",
    "from IPython.display import HTML\n",
    "\n",
    "x_table = np.linspace(femlb_1.x_a, femlb_1.x_b, 20)\n",
    "\n",
    "u_values = u_star(x_table, femlb_1, c_star_1) \n",
    "q_values = diff_flux_x_star(x_table, femlb_1, c_star_1)\n",
    "\n",
    "df = pd.DataFrame({\"x [cm]\":x_table*100, \"T [K]\":u_values, \"q_x [W/m^2]\":q_values})\n",
    "pd.options.display.float_format = '{:,.3f}'.format\n",
    "HTML(df.to_html(index=False))"
   ]
  },
  {
   "cell_type": "markdown",
   "metadata": {},
   "source": [
    "## [Test 2](#toc)<a id=\"3DomainsNeumannRobin\"></a>\n",
    "### Plate/Coolant/Aluminum w/ Neumann/Robin BC"
   ]
  },
  {
   "cell_type": "code",
   "execution_count": null,
   "metadata": {},
   "outputs": [],
   "source": [
    "num_pts = 100\n",
    "\n",
    "a = 0.0  # symmetry, [in]\n",
    "b = 0.05  # heater interface position [in]\n",
    "c = 0.20  # aluminum interface position [in]\n",
    "d = 0.25 # right boundary\n",
    "\n",
    "x = np.linspace(0, d, num_pts)\n",
    "y = np.linspace(1,1, num_pts)\n",
    "\n",
    "x_a = np.linspace(a, b, num_pts)\n",
    "x_b = np.linspace(b, c, num_pts)\n",
    "x_c = np.linspace(c, d, num_pts)\n",
    "y0 = np.linspace(0,0, num_pts)\n",
    "\n",
    "fig = plt.figure(figsize=(15,5))\n",
    "plt.plot(x, y, \"k-\")\n",
    "plt.plot([b,b], [0,1], \"k--\")\n",
    "plt.plot([c,c], [0,1], \"k--\")\n",
    "\n",
    "plt.grid()\n",
    "#plt.ylim(0,d+0.1)\n",
    "\n",
    "section = np.arange(a,b, 1/20.)\n",
    "plt.fill_between(x_a,y,y0,color=\"red\")\n",
    "plt.fill_between(x_b,y,y0,color=\"cyan\")\n",
    "plt.fill_between(x_c,y,y0,color=\"gray\")\n",
    "\n",
    "# Domain Labels\n",
    "plt.text((b-a)/2 + a ,0.8,\"Heater\",color=\"black\",fontsize=16,weight=\"bold\",horizontalalignment=\"center\")\n",
    "plt.text((c-b)/2 + b,0.8,\"Water\",color=\"black\",fontsize=16,weight=\"bold\",horizontalalignment=\"center\")\n",
    "plt.text((d-c)/2 + c,0.8,\"Aluminum\",color=\"black\",fontsize=16,weight=\"bold\",horizontalalignment=\"center\")\n",
    "\n",
    "# Heater B.C. and gov eqn\n",
    "plt.text(a,0.4,\"$q_{0} = 0$\",color=\"black\",fontsize=16)\n",
    "plt.text((b-a)/2 + a,0.65,r\"$k\\Delta T + S = 0$\",color=\"black\",fontsize=16,horizontalalignment=\"center\")\n",
    "\n",
    "# Water B.C. and gov eqn\n",
    "plt.text((c-b)/2 + b,0.65,r\"$k\\Delta T= 0$\",color=\"black\",fontsize=16, horizontalalignment=\"center\")\n",
    "plt.text(b,0.4,r\"$q_\\text{fluid} = q_\\text{surface}$\",color=\"black\",fontsize=16)\n",
    "plt.text(b,0.2,r\"$T_\\text{fluid} = T_\\text{surface}$\",color=\"black\",fontsize=16)\n",
    "plt.text(c,0.4,r\"$q_\\text{fluid} = q_\\text{surface}$\",color=\"black\",fontsize=16)\n",
    "plt.text(c,0.2,r\"$T_\\text{fluid} = T_\\text{surface}$\",color=\"black\",fontsize=16)\n",
    "\n",
    "# Aluminum\n",
    "plt.text((d-c)/2 + c, 0.65, r\"$k\\Delta T= 0$\",color=\"black\",fontsize=16, horizontalalignment=\"center\")\n",
    "plt.text(d,0.4,r\"$q_\\text{Al} = h(T-T_{\\infty})$\",color=\"black\",fontsize=16)\n",
    "\n",
    "plt.xlabel(r\"x [in]\",fontsize=16)\n",
    "\n",
    "#plt.arrow(.23,.6,-0.028,0.2,color=\"red\",size=18)\n",
    "plt.show()"
   ]
  },
  {
   "cell_type": "code",
   "execution_count": null,
   "metadata": {},
   "outputs": [],
   "source": [
    "'''Parameters'''\n",
    "n_felem_plate = 10\n",
    "n_felem_coolant = 10\n",
    "n_felem_plate_2 = 10"
   ]
  },
  {
   "cell_type": "code",
   "execution_count": null,
   "metadata": {},
   "outputs": [],
   "source": [
    "degree = 2\n",
    "liftDegree = 1\n",
    "\n",
    "#Interface locations\n",
    "x_int_a = 0.05*unit.inch\n",
    "x_int_b = 0.20*unit.inch\n",
    "\n",
    "x_a = 0.0*unit.inch\n",
    "x_b = 0.25*unit.inch\n",
    "\n",
    "locList = [x_int_a, x_int_b]\n",
    "numPartsList = [n_felem_plate, n_felem_coolant, n_felem_plate_2]\n",
    "\n",
    "bc_x_min = \"neumann\"\n",
    "bc_x_max = \"robin\"\n",
    "\n",
    "domain_partition = get_domain_partition(degree, locList,numPartsList, x_a, x_b, bc_x_min, bc_x_max)\n",
    "\n",
    "kList = [k_plate, k_coolant, k_plate]\n",
    "\n",
    "#Heat Transfer Coefficient\n",
    "h_coeff = heat_transfer_coeff     \n",
    "\n",
    "#Boundary Conditions (neumann on left, robin on right)\n",
    "x_min_flux = 0\n",
    "x_max_u_ref = temp_ref  #deg C\n",
    "\n",
    "\n",
    "k_shape_pts = [(x_a,kList[0]),(x_int_a*0.99999,kList[0]),(x_int_a,kList[1]),(x_int_b*0.99999,kList[1]),(x_int_b,kList[2]),(x_b,kList[2])]\n",
    "w_shape_pts =[(x_a, 0), (x_b, 0)]\n",
    "s_shape_pts =[(x_a, 0), (x_b, 0)]\n",
    "f_shape_pts = [(x_a, s_source), (x_int_a*0.99999, s_source), (x_int_a,0), (x_b,0)]\n",
    "\n",
    "femlb_2 = femLagrange(x_a, x_b, degree, 1, f_shape_pts, k_shape_pts, s_shape_pts, w_shape_pts, \n",
    "                      domain_partition, 0, 0, 0, 0, bc_x_min, bc_x_max, h_coeff, x_min_flux, x_max_u_ref)\n",
    "\n",
    "a_mtrx = assemble_a_mtrx_neumann_robin(femlb_2)\n",
    "\n",
    "b_vec = assemble_b_vec_neumann_robin(femlb_2)"
   ]
  },
  {
   "cell_type": "code",
   "execution_count": null,
   "metadata": {},
   "outputs": [],
   "source": [
    "print(\"a_mtrx rank:\",np.linalg.matrix_rank(a_mtrx))\n",
    "print(\"a_mtrx shape:\",a_mtrx.shape)\n",
    "if np.linalg.matrix_rank(a_mtrx) == min(a_mtrx.shape):\n",
    "    print(\"A mtrx is full rank\")\n",
    "else:\n",
    "    assert False, 'Matrix must be full rank'"
   ]
  },
  {
   "cell_type": "code",
   "execution_count": null,
   "metadata": {},
   "outputs": [],
   "source": [
    "c_star_2 = np.linalg.solve(a_mtrx,b_vec)\n",
    "\n",
    "n_pts = 500\n",
    "x_pts = np.linspace(femlb_2.x_a, femlb_2.x_b, n_pts)\n",
    "N = len(femlb_1.phi_list)\n",
    "\n",
    "(fig, ax1) = plt.subplots(1, figsize=(14, 5))\n",
    "ax2 = ax1.twinx()\n",
    "plt.style.use('classic')\n",
    "ax1.plot(x_pts/unit.centi, unit.convert_temperature(u_star(x_pts,femlb_2,c_star_2),'K','C'),\"r-\",label=\"Temperature (°C)\")\n",
    "ax2.plot(x_pts/unit.centi, diff_flux_x_star(x_pts,femlb_2,c_star_2),\"b-\",label=r\"Heat Flux $\\frac{W}{m^2}$\")\n",
    "ax1.grid()\n",
    "plt.title(f\"Target Function\",fontsize=22)\n",
    "ax1.set_ylabel(r\"Temperature (°C)\",fontsize=22, color=\"red\")\n",
    "ax2.set_ylabel(r\"$\\frac{W}{{m}^2}$\",fontsize=22, color=\"blue\")\n",
    "ax1.set_xlabel(r\"x [cm]\",fontsize=16)\n",
    "ax1.tick_params(axis=\"y\",labelcolor=\"red\")\n",
    "ax2.tick_params(axis=\"y\",labelcolor=\"blue\")\n",
    "ax1.legend(loc=(0.4,0.2))\n",
    "ax2.legend(loc=(0.4,0.05))\n",
    "ax1.set_xlim(x_a/unit.centi, x_b/unit.centi)\n",
    "plt.show()"
   ]
  },
  {
   "cell_type": "code",
   "execution_count": null,
   "metadata": {},
   "outputs": [],
   "source": [
    "left_bound_temp = unit.convert_temperature(u_star(x_a,femlb_2,c_star_2)[0],'K','C')\n",
    "right_bound_temp = unit.convert_temperature(u_star(x_b,femlb_2,c_star_2)[0],'K','C')\n",
    "\n",
    "left_bound_flux =diff_flux_x_star(x_a, femlb_2, c_star_2)[0]\n",
    "right_bound_flux = diff_flux_x_star(x_b, femlb_2, c_star_2)[0]\n",
    "print(\"Left bound temperature:\",format(left_bound_temp, \".2f\"),\"°C\")\n",
    "print(\"Right bound temperature:\",format(right_bound_temp, \".2f\"),\"°C\")\n",
    "print(\"*\"*60)\n",
    "print(\"Left bound flux:\",format(left_bound_flux,\".2f\"),r\"W/m2 K\")\n",
    "print(\"Right bound flux:\",format(right_bound_flux,\".2f\"),r\"W/m2 K\")\n",
    "print(\"\\nu_ref:\",unit.convert_temperature(x_max_u_ref,'K','C'),\"°C\")\n",
    "print(\"h:\", h_coeff, \"W/m^2 K\")"
   ]
  },
  {
   "cell_type": "code",
   "execution_count": null,
   "metadata": {},
   "outputs": [],
   "source": [
    "import pandas as pd\n",
    "from IPython.display import HTML\n",
    "\n",
    "x_table = np.linspace(femlb_2.x_a,femlb_2.x_b,20)\n",
    "\n",
    "u_values = u_star(x_table,femlb_2,c_star_2) \n",
    "q_values = diff_flux_x_star(x_table,femlb_2,c_star_2)\n",
    "\n",
    "df = pd.DataFrame({\"x [cm]\":x_table*100,\"T [K]\":u_values,\"q_x [W/m^2]\":q_values})\n",
    "pd.options.display.float_format = '{:,.3f}'.format\n",
    "HTML(df.to_html(index=False))"
   ]
  },
  {
   "cell_type": "markdown",
   "metadata": {},
   "source": [
    "## [Test 3](#toc)<a id=\"3DomainsNeumannNeumann\"></a>\n",
    "### Plate/Coolant/Aluminum w/ Coolant Heat Sink and Neumann/Robin BC"
   ]
  },
  {
   "cell_type": "code",
   "execution_count": null,
   "metadata": {},
   "outputs": [],
   "source": [
    "num_pts = 100\n",
    "\n",
    "a = 0.0  # symmetry, [in]\n",
    "b = 0.05  # heater interface position [in]\n",
    "c = 0.20  # aluminum interface position [in]\n",
    "d = 0.25 # right boundary\n",
    "\n",
    "x = np.linspace(0, d, num_pts)\n",
    "y = np.linspace(1,1, num_pts)\n",
    "\n",
    "x_a = np.linspace(a, b, num_pts)\n",
    "x_b = np.linspace(b, c, num_pts)\n",
    "x_c = np.linspace(c, d, num_pts)\n",
    "y0 = np.linspace(0,0, num_pts)\n",
    "\n",
    "fig = plt.figure(figsize=(15,5))\n",
    "plt.plot(x, y, \"k-\")\n",
    "plt.plot([b,b], [0,1], \"k--\")\n",
    "plt.plot([c,c], [0,1], \"k--\")\n",
    "\n",
    "plt.grid()\n",
    "#plt.ylim(0,d+0.1)\n",
    "\n",
    "section = np.arange(a,b, 1/20.)\n",
    "plt.fill_between(x_a,y,y0,color=\"red\")\n",
    "plt.fill_between(x_b,y,y0,color=\"cyan\")\n",
    "plt.fill_between(x_c,y,y0,color=\"gray\")\n",
    "\n",
    "# Domain Labels\n",
    "plt.text((b-a)/2 + a ,0.8,\"Heater\",color=\"black\",fontsize=16,weight=\"bold\",horizontalalignment=\"center\")\n",
    "plt.text((c-b)/2 + b,0.8,\"Water\",color=\"black\",fontsize=16,weight=\"bold\",horizontalalignment=\"center\")\n",
    "plt.text((d-c)/2 + c,0.8,\"Aluminum\",color=\"black\",fontsize=16,weight=\"bold\",horizontalalignment=\"center\")\n",
    "\n",
    "# Heater B.C. and gov eqn\n",
    "plt.text(a,0.4,\"$q_{0} = 0$\",color=\"black\",fontsize=16)\n",
    "plt.text((b-a)/2 + a,0.65,r\"$k\\Delta T + S_h = 0$\",color=\"black\",fontsize=16,horizontalalignment=\"center\")\n",
    "\n",
    "# Water B.C. and gov eqn\n",
    "plt.text((c-b)/2 + b,0.65,r\"$k\\Delta T= 0$\",color=\"black\",fontsize=16, horizontalalignment=\"center\")\n",
    "plt.text(b,0.4,r\"$q_\\text{fluid} = q_\\text{surface}$\",color=\"black\",fontsize=16)\n",
    "plt.text(b,0.2,r\"$T_\\text{fluid} = T_\\text{surface}$\",color=\"black\",fontsize=16)\n",
    "plt.text(c,0.4,r\"$q_\\text{fluid} = q_\\text{surface}$\",color=\"black\",fontsize=16)\n",
    "plt.text(c,0.2,r\"$T_\\text{fluid} = T_\\text{surface}$\",color=\"black\",fontsize=16)\n",
    "\n",
    "# Aluminum\n",
    "plt.text((d-c)/2 + c, 0.65, r\"$k\\Delta T + S_c = 0$\",color=\"black\",fontsize=16, horizontalalignment=\"center\")\n",
    "plt.text(d,0.4,r\"$q_\\text{Al} = h(T-T_{\\infty})$\",color=\"black\",fontsize=16)\n",
    "\n",
    "plt.xlabel(r\"x [in]\",fontsize=16)\n",
    "\n",
    "#plt.arrow(.23,.6,-0.028,0.2,color=\"red\",size=18)\n",
    "plt.show()"
   ]
  },
  {
   "cell_type": "code",
   "execution_count": null,
   "metadata": {},
   "outputs": [],
   "source": [
    "#Interface locations\n",
    "x_int_a = 0.05*unit.inch\n",
    "x_int_b = 0.20*unit.inch\n",
    "\n",
    "x_a = 0.0*unit.inch\n",
    "x_b = 0.25*unit.inch\n",
    "\n",
    "locList = [x_int_a,x_int_b]\n",
    "#numPartsList = [n_felem_plate,n_felem_coolant,n_felem_plate_2]\n",
    "numPartsList=[5,5,5]\n",
    "bc_x_min = \"neumann\"\n",
    "bc_x_max = \"robin\"\n",
    "\n",
    "domain_partition = get_domain_partition(degree, locList,numPartsList, x_a, x_b,bc_x_min,bc_x_max)\n",
    "\n",
    "kList = [k_plate, k_coolant, k_plate]\n",
    "\n",
    "#Heat Transfer Coefficient\n",
    "h_coeff = 1e-5 # W/m2/K; small leak\n",
    "\n",
    "#Heat sink in coolant\n",
    "s_source_coolant = -s_source * (x_int_a - x_a) / (x_int_b - x_int_a) # heat source scaled by ratio of heater thickness to water channel\n",
    "\n",
    "#Boundary Conditions (neumann on left, robin on right)\n",
    "x_min_flux = 0\n",
    "#x_max_u_ref = temp_ref  #K\n",
    "x_max_u_ref = 290.2  #K\n",
    "\n",
    "\n",
    "k_shape_pts = [(x_a,kList[0]),(x_int_a*0.99999,kList[0]),(x_int_a,kList[1]),(x_int_b*0.99999,kList[1]),(x_int_b,kList[2]),(x_b,kList[2])]\n",
    "w_shape_pts =[(x_a,0),(x_b,0)]\n",
    "s_shape_pts =[(x_a,0),(x_b,0)]\n",
    "f_shape_pts = [(x_a,s_source),(x_int_a*0.99999,s_source),(x_int_a,s_source_coolant),(x_int_b*0.99999,s_source_coolant),(x_int_b,0),(x_b,0)]\n",
    "\n",
    "\n",
    "femlb_3 = femLagrange(x_a, x_b, degree, 1, f_shape_pts, k_shape_pts, s_shape_pts, w_shape_pts,\n",
    "                      domain_partition, 0, 0,0, 0, bc_x_min, bc_x_max, h_coeff, x_min_flux, x_max_u_ref)\n",
    "\n",
    "a_mtrx = assemble_a_mtrx_neumann_robin(femlb_3)\n",
    "\n",
    "b_vec = assemble_b_vec_neumann_robin(femlb_3)\n",
    "\n",
    "integral_of_source_bias = scipy.integrate.quad(femlb_3.source_bias,x_a,x_b)\n",
    "print(\"Integral of source bias is\",integral_of_source_bias[0])"
   ]
  },
  {
   "cell_type": "code",
   "execution_count": null,
   "metadata": {},
   "outputs": [],
   "source": [
    "print(\"a_mtrx rank:\",np.linalg.matrix_rank(a_mtrx))\n",
    "print(\"a_mtrx shape:\",a_mtrx.shape)\n",
    "if np.linalg.matrix_rank(a_mtrx) == min(a_mtrx.shape):\n",
    "    print(\"A mtrx is full rank\")\n",
    "else:\n",
    "    print(\"A mtrx is deficient\")\n",
    "    id_mtrx = np.identity(a_mtrx.shape[0])\n",
    "    eps = 1e-5\n",
    "\n",
    "    a_mtrx_fixed = (a_mtrx.transpose() @ a_mtrx) + (eps * id_mtrx)\n",
    "    a_mtrx = a_mtrx_fixed\n",
    "    print(\"A mtrx has been fixed\")"
   ]
  },
  {
   "cell_type": "code",
   "execution_count": null,
   "metadata": {},
   "outputs": [],
   "source": [
    "c_star_3 = np.linalg.solve(a_mtrx,b_vec)\n",
    "\n",
    "n_pts = 500\n",
    "x_pts = np.linspace(femlb_3.x_a, femlb_3.x_b, n_pts)\n",
    "N = len(femlb_3.phi_list)\n",
    "\n",
    "(fig, ax1) = plt.subplots(1, figsize=(14, 5))\n",
    "ax2 = ax1.twinx()\n",
    "plt.style.use('classic')\n",
    "ax1.plot(x_pts,unit.convert_temperature(u_star(x_pts,femlb_3,c_star_3),'K','C'),\"r-\",label=\"u - Temperature (°C)\")\n",
    "ax2.plot(x_pts,diff_flux_x_star(x_pts,femlb_3,c_star_3),\"b-\",label=r\"q_x - Heat Flux $\\frac{W}{in^2 s}$\")\n",
    "ax1.grid()\n",
    "plt.title(f\"Target Function\",fontsize=22)\n",
    "ax1.set_ylabel(r\"Temperature (°C)\",fontsize=22, color=\"red\")\n",
    "ax2.set_ylabel(r\"$\\frac{W}{{in}^2  * K}$\",fontsize=22, color=\"blue\")\n",
    "ax1.set_xlabel(r\"x [in]\",fontsize=22)\n",
    "ax1.tick_params(axis=\"y\",labelcolor=\"red\")\n",
    "ax2.tick_params(axis=\"y\",labelcolor=\"blue\")\n",
    "ax1.legend(loc=(0.6,0.7))\n",
    "ax2.legend(loc=(0.6,0.55))\n",
    "ax1.set_xlim(x_a,x_b)\n",
    "plt.show()\n",
    "\n",
    "(temp_integral, error) = scipy.integrate.quad(u_star,x_a,x_b,args=(femlb_3,c_star_3),limit=1000, epsrel=10e-7, epsabs=10e-7)\n",
    "print(\"Average temperature:\",temp_integral/(x_b-x_a))"
   ]
  },
  {
   "cell_type": "code",
   "execution_count": null,
   "metadata": {},
   "outputs": [],
   "source": [
    "left_bound_temp = unit.convert_temperature(u_star(x_a,femlb_3,c_star_3)[0],'K','C')\n",
    "right_bound_temp = unit.convert_temperature(u_star(x_b,femlb_3,c_star_3)[0],'K','C')\n",
    "\n",
    "left_bound_flux =diff_flux_x_star(x_a,femlb_3,c_star_3)[0]\n",
    "right_bound_flux = diff_flux_x_star(x_b,femlb_3,c_star_3)[0]\n",
    "print(\"Left bound temperature:\",format(left_bound_temp,\".2f\"),\"°C\")\n",
    "print(\"Right bound temperature:\",format(right_bound_temp,\".2f\"),\"°C\")\n",
    "print(\"*\"*60)\n",
    "print(\"Left bound flux:\",format(left_bound_flux,\".2f\"),r\"W/in2 K\")\n",
    "print(\"Right bound flux:\",format(right_bound_flux,\".2f\"),r\"W/in2 K\")\n",
    "print(\"\\nu_ref:\",unit.convert_temperature(x_max_u_ref,'K','C'),\"°C\")\n",
    "print(\"h:\", h_coeff, \"W/in^2 K\")"
   ]
  },
  {
   "cell_type": "code",
   "execution_count": null,
   "metadata": {},
   "outputs": [],
   "source": [
    "import pandas as pd\n",
    "from IPython.display import HTML\n",
    "\n",
    "x_table = np.linspace(femlb_3.x_a,femlb_3.x_b,20)\n",
    "\n",
    "u_values = u_star(x_table,femlb_3,c_star_3) \n",
    "q_values = diff_flux_x_star(x_table,femlb_3,c_star_3)\n",
    "\n",
    "df = pd.DataFrame({\"x [cm]\":x_table*100,\"T [K]\":u_values,\"q_x [W/m^2]\":q_values})\n",
    "pd.options.display.float_format = '{:,.3f}'.format\n",
    "HTML(df.to_html(index=False))"
   ]
  },
  {
   "cell_type": "code",
   "execution_count": null,
   "metadata": {},
   "outputs": [],
   "source": []
  },
  {
   "cell_type": "markdown",
   "metadata": {},
   "source": [
    "## [References](#toc)<a id=\"refs\"></a>\n",
    "\n",
    "- [1] V. F. de Almeida, [*Engy-5330: Computational Transport Phenomena*](https://github.com/dpploy/engy-5330), University of Massachusetts Lowell, Dept. of Chemical Engineering (Nuclear Energy Program)."
   ]
  },
  {
   "cell_type": "code",
   "execution_count": null,
   "metadata": {},
   "outputs": [],
   "source": []
  }
 ],
 "metadata": {
  "kernelspec": {
   "display_name": "Python 3 (ipykernel)",
   "language": "python",
   "name": "python3"
  },
  "language_info": {
   "codemirror_mode": {
    "name": "ipython",
    "version": 3
   },
   "file_extension": ".py",
   "mimetype": "text/x-python",
   "name": "python",
   "nbconvert_exporter": "python",
   "pygments_lexer": "ipython3",
   "version": "3.12.6"
  },
  "latex_envs": {
   "LaTeX_envs_menu_present": true,
   "autoclose": false,
   "autocomplete": true,
   "bibliofile": "biblio.bib",
   "cite_by": "apalike",
   "current_citInitial": 1,
   "eqLabelWithNumbers": true,
   "eqNumInitial": 1,
   "hotkeys": {
    "equation": "Ctrl-E",
    "itemize": "Ctrl-I"
   },
   "labels_anchors": false,
   "latex_user_defs": false,
   "report_style_numbering": false,
   "user_envs_cfg": false
  }
 },
 "nbformat": 4,
 "nbformat_minor": 4
}
