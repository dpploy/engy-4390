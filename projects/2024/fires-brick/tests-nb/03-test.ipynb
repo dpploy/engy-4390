{
 "cells": [
  {
   "cell_type": "markdown",
   "id": "b6ebb56f-8325-4cf1-be72-adbe60865e1e",
   "metadata": {},
   "source": [
    "**Engy-4390** Nuclear Systems Design and Analysis, UMass Lowell, Chem. Eng. Nuclear Program Fall 2024; Prof. V. F. de Almeida\n",
    "\n",
    "# Constant Thermal Conductivity, Inhomogeneous Source, and Dirichlet BC"
   ]
  },
  {
   "cell_type": "markdown",
   "id": "967d7294-5935-4a61-be47-a7105f8f99c6",
   "metadata": {},
   "source": [
    "**Student(s):**  Kyle Mills and Billy Manco and Donaita Anglade <br>\n",
    "**Course:** Engy-4390: Nuclear Systems Design and Analysis  <br>\n",
    "**Mentor and Collaborator:** Subash Sharma\n",
    "\n",
    "UMass Lowell, Dept. of Chemical Engineering, Nuclear Energy Program \n",
    "<br>\n",
    "**21 Oct 2024**"
   ]
  },
  {
   "cell_type": "markdown",
   "id": "59e99ff9-f8f9-463e-943c-6d07ccbd6951",
   "metadata": {},
   "source": [
    "## [Problem Data](#toc)<a id=\"setup\"></a>\n",
    "\n",
    "Heating power density, $f(x)$, is dependent on position, thermal conductivity, $k$, is a constant:\n",
    "\n",
    "+ $k = 156 \\left [ \\frac{W}{mK} \\right ]$\n",
    "+ $f(x) = 206 151+129 400 \\, x \\; \\left [ \\frac{W}{m^{3}} \\right ]$\n",
    "\n",
    "and the temperature at the ends of the domain are specified as a Dirichlet BC:\n",
    "\n",
    "+ $T(a) = 20$ [°C], and $T(b)= 40$ [°C]."
   ]
  },
  {
   "cell_type": "markdown",
   "id": "dd975d44-0c38-47e7-8c6f-662a0ad0c8d7",
   "metadata": {},
   "source": [
    "---\n",
    "## [Table of Contents](#toc)<a id=\"problem\"></a>\n",
    "* [Problem Conditions](#conds)\n",
    "* [Setup](#setup)\n",
    "* [Test Three](#test)\n",
    "---"
   ]
  },
  {
   "cell_type": "markdown",
   "id": "7eba4394-f86e-4701-b59c-9122bf23e638",
   "metadata": {},
   "source": [
    "## [Objectives](#toc)<a id=\"problem\"></a>\n",
    "\n",
    "+ Solve a 1-D heat conduction problem with an inhomogeneous source and known boundary temperatures.\n",
    "+ Provide results to be used as a reference for other solutions "
   ]
  },
  {
   "cell_type": "markdown",
   "id": "9c0b7cbb-97a2-4ddb-a751-ce21388dce7e",
   "metadata": {},
   "source": [
    "## [Poisson Problem with Dirichlet Boundary Conditions](#toc)<a id=\"problem\"></a>\n",
    "\n",
    "The following sections describe a one-dimensional Poisson problem with Dirichlet boundary conditions. This is a classical boundary-value problem of mathematics."
   ]
  },
  {
   "cell_type": "markdown",
   "id": "a381151c-0013-4aef-820a-a32b5e50a467",
   "metadata": {},
   "source": [
    "Solve the Poisson model problem. Find $u:[a,b]\\subset\\Reals\\rightarrow\\Reals$ such that:\n",
    "\n",
    "\\begin{align*}\n",
    " -\\bigl(-k(x)\\, u'\\bigr)'(x) + f(x) &= 0 \\quad\\quad \\forall \\quad\\quad x\\in\\ ]a,b[, \\\\\n",
    " u(a) &= u_a, \\\\\n",
    " u(b) &= u_b.\n",
    "\\end{align*}\n",
    "   \n",
    "This problem is linear and has an analytical solution for given data: diffusion coefficient, $k(x)$, and Inhomogeneous source bias, $f(x)$. The *heat flux* associated to the quantity $u$, is denoted $q := -k(x)\\,u'$, a derived quantity.\n",
    "\n",
    "The values of the dependent variable are given on the two endpoints of the domain. This is called *essential* boundary conditions or  *Dirichlet boundary conditions*. If the values are equal to zero, the boundary condition is referred to as homogeneous."
   ]
  },
  {
   "cell_type": "markdown",
   "id": "341806d3-e8c2-4a8c-a3e0-31e17a19622c",
   "metadata": {},
   "source": []
  },
  {
   "cell_type": "markdown",
   "id": "953f5bac-ada9-41f3-884a-ac420c206109",
   "metadata": {},
   "source": [
    "## [Setup of FEM](#toc)<a id=\"test\"></a>"
   ]
  },
  {
   "cell_type": "code",
   "execution_count": 8,
   "id": "9bb3ccf4-e996-4cec-b1d7-278da9e61a41",
   "metadata": {},
   "outputs": [],
   "source": [
    "'''Domain'''\n",
    "'''Rayleigh Ritz Method with Lagrange FE Basis Functions'''\n",
    "x_min = 0     # m\n",
    "x_max = 0.05  # m\n",
    "\n",
    "degree = 2  # Degree of the lagrange polinomials used\n",
    "n_elem = 10 # Number of elements used"
   ]
  },
  {
   "cell_type": "code",
   "execution_count": 9,
   "id": "aed6363d-54d1-4b46-ae89-5ebbe5041446",
   "metadata": {},
   "outputs": [],
   "source": [
    "'''Domain partition'''\n",
    "from pyfires import get_domain_partition\n",
    "'''Parent mapping'''\n",
    "from pyfires import get_parent_mapping\n",
    "'''The basis functions'''\n",
    "from pyfires import get_parent_basis_functions\n",
    "'''Global basis functions'''\n",
    "from pyfires import global_basis_function\n",
    "'''All global basis functions'''\n",
    "from pyfires import get_global_basis_functions\n",
    "'''Inner product'''\n",
    "from pyfires import inner_product"
   ]
  },
  {
   "cell_type": "markdown",
   "id": "94a3911f-53e5-473c-99b5-a2cc97dbf5ee",
   "metadata": {},
   "source": [
    "## [Implementing Data](#toc)<a id=\"test\"></a>"
   ]
  },
  {
   "cell_type": "code",
   "execution_count": 13,
   "id": "f4a41021-5a7f-46d6-a3d6-5ac03432a711",
   "metadata": {},
   "outputs": [],
   "source": [
    "'''Thermal conductivity'''\n",
    "from pyfires import linear_func\n",
    "from pyfires import plot_func\n",
    "\n",
    "k_func = linear_func(x_min, x_max, (156.0, 156.0)) # W/mK\n",
    "\n",
    "'''Heating Power Density'''\n",
    "f_func = linear_func(x_min, x_max, (206151.0, 212621.0)) # W/m^3\n",
    "\n",
    "view_plots = False"
   ]
  },
  {
   "cell_type": "code",
   "execution_count": 14,
   "id": "d7a169e9-dba0-4fb0-8617-fcc8e3b5987a",
   "metadata": {},
   "outputs": [],
   "source": [
    "if view_plots:\n",
    "    n_plot_pts = 200\n",
    "    title = 'Thermal Conductivity'\n",
    "    xlabel = 'Position along the width of the channel wall [m]'\n",
    "    ylabel = 'K [W/mk]'\n",
    "    plot_func(k_func, x_min, x_max, n_plot_pts, title=title, xlabel=xlabel, ylabel=ylabel)\n",
    "\n",
    "    title = 'Heating Power Density'\n",
    "    xlabel = 'Position along the width of the channel wall [m]'\n",
    "    ylabel = 'f [W/m^3]'\n",
    "    plot_func(f_func, x_min, x_max, n_plot_pts, title=title, xlabel=xlabel, ylabel=ylabel)"
   ]
  },
  {
   "cell_type": "code",
   "execution_count": 15,
   "id": "8b40bfc8-eb32-41fc-a7f4-dc7932f719b2",
   "metadata": {},
   "outputs": [],
   "source": [
    "'''FEM Solution'''\n",
    "'''Domain partition'''\n",
    "\n",
    "domain_partition = get_domain_partition(degree, n_elem, x_min, x_max)\n",
    "parent_mapping = get_parent_mapping()\n",
    "parent_basis_functions = get_parent_basis_functions()\n",
    "\n",
    "phi_list = get_global_basis_functions(domain_partition, parent_mapping, parent_basis_functions, global_basis_function)[0]\n",
    "phi_prime_list = get_global_basis_functions(domain_partition, parent_mapping, parent_basis_functions, global_basis_function)[1]"
   ]
  },
  {
   "cell_type": "code",
   "execution_count": 16,
   "id": "26c2e26f-b3e5-4ccf-8f9e-4a6995fc512f",
   "metadata": {},
   "outputs": [],
   "source": [
    "'''Building the lift function'''\n",
    "u_a = 20 #temperature at point a in degrees C\n",
    "u_b = 40 #temperature at point b in degrees C\n",
    "\n",
    "lift_func = linear_func(x_min, x_max, (u_a, u_b)) # C\n",
    "lift_prime = (u_b-u_a)/(x_max-x_min)\n",
    "lift_func_prime = linear_func(x_min, x_max, (lift_prime, lift_prime)) # C\n",
    "\n",
    "view_plots = False"
   ]
  },
  {
   "cell_type": "code",
   "execution_count": 17,
   "id": "36cb899e-b370-44b4-b7a6-17731cf59c8f",
   "metadata": {},
   "outputs": [],
   "source": [
    "if view_plots:\n",
    "    n_plot_pts = 200\n",
    "    title = 'Lift Function'\n",
    "    xlabel = 'Position along the width of the channel wall [m]'\n",
    "    ylabel = 'T [C]'\n",
    "    plot_func(lift_func, x_min, x_max, n_plot_pts, title=title, xlabel=xlabel, ylabel=ylabel)\n",
    "\n",
    "    title = 'Lift Function Prime'\n",
    "    xlabel = 'Position along the width of the channel wall [m]'\n",
    "    ylabel = 'dT/dx [C/m]'\n",
    "    plot_func(lift_func_prime, x_min, x_max, n_plot_pts, title=title, xlabel=xlabel, ylabel=ylabel)"
   ]
  },
  {
   "cell_type": "code",
   "execution_count": 19,
   "id": "04832332-26d2-4f0c-9b7b-d3e1a4a1bf1d",
   "metadata": {},
   "outputs": [],
   "source": [
    "'''Building FEM A matrix'''\n",
    "import numpy as np\n",
    "A_mtrx = np.zeros((len(phi_list), len(phi_list)), dtype=np.float64)\n",
    "patches = domain_partition[0]\n",
    "for i in range(len(phi_list)):\n",
    "    for j in range(len(phi_list)):\n",
    "        \n",
    "        phi_i=phi_list[i]\n",
    "        phi_j=phi_list[j]\n",
    "        \n",
    "        phi_prime_i=phi_prime_list[i]\n",
    "        phi_prime_j=phi_prime_list[j]\n",
    "        \n",
    "        h_e=(x_max-x_min)/n_elem\n",
    "        \n",
    "        d_x_phi_prime_j = lambda x: k_func(x) * ((2/h_e)*phi_prime_j(x))\n",
    "        \n",
    "        prima = lambda x: phi_prime_i(x)*(2/h_e)\n",
    "        \n",
    "        A_mtrx[i,j] = inner_product(prima, d_x_phi_prime_j, patches)"
   ]
  },
  {
   "cell_type": "code",
   "execution_count": 14,
   "id": "a58fc827-f7a7-40ad-9fb8-e75a7b466974",
   "metadata": {},
   "outputs": [],
   "source": [
    "'''Build load vector'''\n",
    "#The load vector\n",
    "b_vec = np.zeros(len(phi_list), dtype=np.float64)\n",
    "patches = domain_partition[0]\n",
    "\n",
    "for i in range(len(phi_list)):\n",
    "    phi_i=phi_list[i]\n",
    "    phi_prime_i=phi_prime_list[i]\n",
    "    \n",
    "    b_vec[i] = inner_product(f_func, phi_i, patches)\n",
    "    \n",
    "    first_term = lambda x: lift_func_prime(x) * k_func(x)\n",
    "    phi_prima_i = lambda x: phi_prime_i(x)*(2/h_e)\n",
    "    \n",
    "    b_vec[i] -= inner_product(first_term, phi_prima_i, patches)"
   ]
  },
  {
   "cell_type": "code",
   "execution_count": 16,
   "id": "0c04e2ee-4b5e-4c88-855e-fcff9b612cd6",
   "metadata": {},
   "outputs": [],
   "source": [
    "'''Solution'''\n",
    "'''Compute optimal coefficient vector'''\n",
    "\n",
    "import numpy as np\n",
    "\n",
    "c_star_vec = np.linalg.solve(A_mtrx, b_vec)"
   ]
  },
  {
   "cell_type": "code",
   "execution_count": 1,
   "id": "8f5a4763-7ab4-4150-af53-553212c1714c",
   "metadata": {},
   "outputs": [
    {
     "ename": "NameError",
     "evalue": "name 'xpoints' is not defined",
     "output_type": "error",
     "traceback": [
      "\u001b[0;31m---------------------------------------------------------------------------\u001b[0m",
      "\u001b[0;31mNameError\u001b[0m                                 Traceback (most recent call last)",
      "Cell \u001b[0;32mIn[1], line 3\u001b[0m\n\u001b[1;32m      1\u001b[0m \u001b[38;5;28;01mfrom\u001b[39;00m \u001b[38;5;21;01mpyfires\u001b[39;00m \u001b[38;5;28;01mimport\u001b[39;00m u_star\n\u001b[0;32m----> 3\u001b[0m u_star_vals \u001b[38;5;241m=\u001b[39m u_star (xpoints, phi_list,lift_func,c_star_vec)\n\u001b[1;32m      5\u001b[0m \u001b[38;5;28;01mimport\u001b[39;00m \u001b[38;5;21;01mmatplotlib\u001b[39;00m\u001b[38;5;21;01m.\u001b[39;00m\u001b[38;5;21;01mpyplot\u001b[39;00m \u001b[38;5;28;01mas\u001b[39;00m \u001b[38;5;21;01mplt\u001b[39;00m\n\u001b[1;32m      6\u001b[0m xpoints \u001b[38;5;241m=\u001b[39m np\u001b[38;5;241m.\u001b[39mlinspace(x_min,x_max,\u001b[38;5;241m2000\u001b[39m)\n",
      "\u001b[0;31mNameError\u001b[0m: name 'xpoints' is not defined"
     ]
    }
   ],
   "source": [
    "from pyfires import u_star\n",
    "\n",
    "u_star_vals = u_star (xpoints, phi_list,lift_func,c_star_vec)\n",
    "\n",
    "import matplotlib.pyplot as plt\n",
    "xpoints = np.linspace(x_min,x_max,2000)\n",
    "u_star_vals = u_star (xpoints, phi_list,lift_func,c_star_vec)\n",
    "\n",
    "plt.figure()\n",
    "plt.plot(xpoints,u_star_vals,label ='Rayleigh-Ritz solution')\n",
    "plt.xlabel(\"Position along the width of the channel wall [m]\")\n",
    "plt.title('Solutions with Dirichlet BC, Inhomogeneous source')\n",
    "plt.ylabel(\"Temperature [°C]\")\n",
    "plt.legend()\n",
    "plt.grid()\n",
    "plt.show()\n",
    "\n"
   ]
  },
  {
   "cell_type": "code",
   "execution_count": 19,
   "id": "dae953aa-54ff-4dca-a9ce-65cd18b29976",
   "metadata": {},
   "outputs": [
    {
     "ename": "SyntaxError",
     "evalue": "invalid syntax (921874635.py, line 2)",
     "output_type": "error",
     "traceback": [
      "\u001b[0;36m  Cell \u001b[0;32mIn[19], line 2\u001b[0;36m\u001b[0m\n\u001b[0;31m    mport matplotlib.pyplot as plt\u001b[0m\n\u001b[0m          ^\u001b[0m\n\u001b[0;31mSyntaxError\u001b[0m\u001b[0;31m:\u001b[0m invalid syntax\n"
     ]
    }
   ],
   "source": [
    "'''Visualization'''\n",
    "mport matplotlib.pyplot as plt\n",
    "def u_star(x):\n",
    "    g_x=lift_func(x)\n",
    "    for (j,phi_i) in enumerate(phi_list):\n",
    "        g_x=g_x+(c_star_vec[j])*phi_i(x)\n",
    "    return g_x\n",
    "\n",
    "def u_star_prime(x):\n",
    "    g_x=lift_func_prime(x)\n",
    "    for j in range(len(phi_list)):\n",
    "        g_x=g_x+(c_star_vec[j])*((2/h_e)*phi_prime_list[j](x))\n",
    "    return g_x\n",
    "\n",
    "plt.figure()\n",
    "plt.plot(np.linspace(x_min,x_max,2000), u_star(np.linspace(x_min,x_max,2000)), label='Rayleigh-Ritz solution')\n",
    "#plt.plot(np.linspace(x_min,x_max,2000),sol(np.linspace(x_min,x_max,2000)),label='Analytic solution')\n",
    "plt.xlabel(\"Position along the width of the channel wall [m]\")\n",
    "plt.title('Solutions with Dirichlet BC, variable source')\n",
    "plt.ylabel(\"Temperature [°C]\")\n",
    "plt.legend()\n",
    "plt.grid()\n",
    "plt.show()\n",
    "\n",
    "print('The value of the function at the leftmost end of the domain is: %4.2f [°C].'%u_star(x_min)[0])\n",
    "print('The value of the function at the rightmost end of the domain is: %4.2f [°C].'%u_star(x_max)[0])\n",
    "\n",
    "#Plotting the flux\n",
    "plt.figure()\n",
    "plt.plot(np.linspace(x_min,x_max,2000),-k_func(np.linspace(x_min,x_max,2000))*u_star_prime((np.linspace(x_min,x_max,2000))),label='Rayleigh Ritz solution')\n",
    "plt.xlabel(\"Position along the width of the channel wall [m]\")\n",
    "plt.ylabel(\"Heat flux [W/m2]\")\n",
    "plt.legend()\n",
    "plt.grid()\n",
    "plt.show()\n",
    "\n",
    "'''Flux at boundary'''\n",
    "print('q_na computed = ', -k_func(x_min)*u_star_prime(x_min))\n",
    "print('q_nb computed = ', -k_func(x_max)*u_star_prime(x_max))\n",
    "#print('q_nb given    = ', q_nb)\n",
    "#print('flux error [%]= ',(-k_func(x_max)*g_prime(x_max) - q_nb)/q_nb*100)"
   ]
  },
  {
   "cell_type": "code",
   "execution_count": null,
   "id": "24eac29a-cf0c-42a6-afe4-a376678529be",
   "metadata": {},
   "outputs": [],
   "source": []
  },
  {
   "cell_type": "code",
   "execution_count": null,
   "id": "a27a9926-ef92-4783-8055-47a44e8cf207",
   "metadata": {},
   "outputs": [],
   "source": []
  },
  {
   "cell_type": "code",
   "execution_count": null,
   "id": "fa93b817-1231-4f87-953e-bf425b6d5eb0",
   "metadata": {},
   "outputs": [],
   "source": []
  },
  {
   "cell_type": "code",
   "execution_count": null,
   "id": "b8754b32-990b-4bd9-80dc-725a1f3175a7",
   "metadata": {},
   "outputs": [],
   "source": []
  },
  {
   "cell_type": "code",
   "execution_count": null,
   "id": "3c0446ed-893d-4ee2-9813-7f05866ed58f",
   "metadata": {},
   "outputs": [],
   "source": []
  }
 ],
 "metadata": {
  "kernelspec": {
   "display_name": "Python 3 (ipykernel)",
   "language": "python",
   "name": "python3"
  },
  "language_info": {
   "codemirror_mode": {
    "name": "ipython",
    "version": 3
   },
   "file_extension": ".py",
   "mimetype": "text/x-python",
   "name": "python",
   "nbconvert_exporter": "python",
   "pygments_lexer": "ipython3",
   "version": "3.12.7"
  }
 },
 "nbformat": 4,
 "nbformat_minor": 5
}
