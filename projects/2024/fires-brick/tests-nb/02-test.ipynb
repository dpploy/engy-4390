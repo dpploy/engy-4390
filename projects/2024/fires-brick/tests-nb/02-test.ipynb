{
 "cells": [
  {
   "cell_type": "markdown",
   "id": "a5751a09-1687-4674-ab00-d606c234d4b3",
   "metadata": {},
   "source": [
    "**Engy-4390** Nuclear Systems Design and Analysis, UMass Lowell, Chem. Eng. Nuclear Program Fall 2024; Prof. V. F. de Almeida\n",
    "\n",
    "# Constant Thermal Conductivity, Constant Source, and Robin BC"
   ]
  },
  {
   "cell_type": "markdown",
   "id": "02b1d535-63e9-4ad4-8b80-ca7cfb39a3b3",
   "metadata": {},
   "source": [
    "**Student(s):**  Kyle Mills and Billy Manco and Donaita Anglade <br>\n",
    "**Course:** Engy-4390: Nuclear Systems Design and Analysis  <br>\n",
    "**Mentor and Collaborator:** Subash Sharma\n",
    "\n",
    "UMass Lowell, Dept. of Chemical Engineering, Nuclear Energy Program \n",
    "<br>\n",
    "**10 Dec 2024**"
   ]
  },
  {
   "cell_type": "markdown",
   "id": "1cb62647-24db-4577-ab6f-2aedccb2083b",
   "metadata": {},
   "source": [
    "---\n",
    "## Table of Contents<a id = \"toc\"></a>\n",
    "* [Problem](#Problem)\n",
    "  + [Objectives](#Obj)\n",
    "  + [Data](#Data)\n",
    "  + [Domain](#Domain) \n",
    "* [Test Two](#test)\n",
    "  + [Results](#Results) \n",
    "---"
   ]
  },
  {
   "cell_type": "markdown",
   "id": "96f78ec5-5966-4114-9473-320f26fca487",
   "metadata": {},
   "source": [
    "### [Objective](#toc)<a id = \"Data\"><br> "
   ]
  },
  {
   "cell_type": "markdown",
   "id": "99640b40-1b45-47f6-87cb-5aec5e16c920",
   "metadata": {},
   "source": [
    "+ Solve a 1-D heat conduction problem with constant thermal conductivity, constant source and specified temperatures at the boundaries."
   ]
  },
  {
   "cell_type": "markdown",
   "id": "3a54415f-bcaa-4489-89b0-be02961cfd5c",
   "metadata": {},
   "source": [
    "### [Problem Data](#toc)<a id = 'Data'></a>\n",
    "\n",
    "> a = 0 cm <br>\n",
    "> b = 5 cm <br>\n",
    "> u(a) = 20 C <br>\n",
    "> u(b) = 40 C <br>\n",
    "> k = xx W/(mK) <br>\n",
    "> f = 206151 W/m^2 "
   ]
  },
  {
   "cell_type": "markdown",
   "id": "040c7aaf-825a-4f5f-82b5-3fbb60f60984",
   "metadata": {},
   "source": [
    "### [Domain](#toc)<a id = \"Domain\"></a>"
   ]
  },
  {
   "cell_type": "code",
   "execution_count": 8,
   "id": "e01d0497-5fa9-4abf-8e04-6336265d461c",
   "metadata": {},
   "outputs": [],
   "source": [
    "'''Domain'''\n",
    "'''Rayleigh Ritz Method with Lagrange FE Basis Functions'''\n",
    "x_min=0\n",
    "x_max=0.05\n",
    "\n",
    "degree = 2  #Degree of the lagrange polinomials used\n",
    "n_elem = 10 #Number of elements used"
   ]
  },
  {
   "cell_type": "code",
   "execution_count": 9,
   "id": "c20d6376-0bf0-4592-949f-83a86fed21bd",
   "metadata": {},
   "outputs": [],
   "source": [
    "'''Domain partition'''\n",
    "from pyfires import get_domain_partition\n",
    "'''Parent mapping'''\n",
    "from pyfires import get_parent_mapping\n",
    "'''The basis functions'''\n",
    "from pyfires import get_parent_basis_functions\n",
    "'''Again the function for the obtaining of the basis functions'''\n",
    "from pyfires import global_basis_function\n",
    "'''All global basis functions'''\n",
    "from pyfires import get_global_basis_functions\n",
    "'''Inner product'''\n",
    "from pyfires import inner_product"
   ]
  },
  {
   "cell_type": "code",
   "execution_count": 10,
   "id": "8a185605-4cd7-45d7-9e83-daf68b99e814",
   "metadata": {},
   "outputs": [],
   "source": [
    "'''FEM Solution'''\n",
    "'''Domain partition'''\n",
    "domain_partition = get_domain_partition(degree, n_elem, x_min, x_max, bc_x_min='flux', bc_x_max='flux')\n",
    "parent_mapping = get_parent_mapping()\n",
    "parent_basis_functions = get_parent_basis_functions()\n",
    "\n",
    "phi_list = get_global_basis_functions(domain_partition, parent_mapping, parent_basis_functions, global_basis_function)[0]\n",
    "phi_prime_list = get_global_basis_functions(domain_partition, parent_mapping, parent_basis_functions, global_basis_function)[1]"
   ]
  },
  {
   "cell_type": "markdown",
   "id": "9e3e6e81-7dd8-4440-9d93-1e26f48b30cc",
   "metadata": {},
   "source": [
    "## [Implementing Data](#toc)<a id = \"test\"></a>"
   ]
  },
  {
   "cell_type": "markdown",
   "id": "42f5d0c1-919c-4cac-baf4-767f37afe7bd",
   "metadata": {},
   "source": [
    "Test two constraints the system with a constant thermal conductivity and a constant heat source using a Robin boundary condition. The goal of simulating the domain with these conditions is to produce a graphical solution on how heat is transfered throughout the domain. "
   ]
  },
  {
   "cell_type": "code",
   "execution_count": 13,
   "id": "c4da44cf-f8fb-4a15-90ea-92376bd428be",
   "metadata": {},
   "outputs": [],
   "source": [
    "'''Parameters'''\n",
    "htc = 10      #Heat transfer coefficient"
   ]
  },
  {
   "cell_type": "code",
   "execution_count": 14,
   "id": "47814f96-689b-49bd-a8f5-e85d8f173bba",
   "metadata": {},
   "outputs": [],
   "source": [
    "'''Thermal conductivity'''\n",
    "from pyfires import linear_func\n",
    "from pyfires import plot_func\n",
    "\n",
    "k_func = linear_func(x_min, x_max, (156.0, 156.0)) # W/mK\n",
    "\n",
    "'''Heating Power Density'''\n",
    "f_func = linear_func(x_min, x_max, (206151.0, 212621.0)) # W/m^3\n",
    "\n",
    "view_plots = False"
   ]
  },
  {
   "cell_type": "code",
   "execution_count": 15,
   "id": "56e2e192-0e4e-4f8a-b07c-f83f7d95a50c",
   "metadata": {},
   "outputs": [],
   "source": [
    "if view_plots:\n",
    "    n_plot_pts = 200\n",
    "    title = 'Thermal Conductivity'\n",
    "    xlabel = 'Position along the width of the channel wall [m]'\n",
    "    ylabel = 'K [W/mk]'\n",
    "    plot_func(k_func, x_min, x_max, n_plot_pts, title=title, xlabel=xlabel, ylabel=ylabel)\n",
    "\n",
    "    title = 'Heating Power Density'\n",
    "    xlabel = 'Position along the width of the channel wall [m]'\n",
    "    ylabel = 'f [W/m^3]'\n",
    "    plot_func(f_func, x_min, x_max, n_plot_pts, title=title, xlabel=xlabel, ylabel=ylabel)"
   ]
  },
  {
   "cell_type": "code",
   "execution_count": 16,
   "id": "d6dd78db-9655-4082-b5fd-e707c747d762",
   "metadata": {},
   "outputs": [],
   "source": [
    "'''Building the lift function'''\n",
    "u_a = 20 #temperature at point a in degrees C\n",
    "u_b = 40 #temperature at point b in degrees C\n",
    "\n",
    "lift_func = linear_func(x_min, x_max, (u_a, u_b)) # C\n",
    "lift_prime = (u_b-u_a)/(x_max-x_min)\n",
    "lift_func_prime = linear_func(x_min, x_max, (lift_prime, lift_prime)) # C\n",
    "\n",
    "view_plots = False"
   ]
  },
  {
   "cell_type": "code",
   "execution_count": 17,
   "id": "474adb4c-5d62-46a2-b7e2-469b7e1f1403",
   "metadata": {},
   "outputs": [],
   "source": [
    "if view_plots:\n",
    "    n_plot_pts = 200\n",
    "    title = 'Lift Function'\n",
    "    xlabel = 'Position along the width of the channel wall [m]'\n",
    "    ylabel = 'T [C]'\n",
    "    plot_func(lift_func, x_min, x_max, n_plot_pts, title=title, xlabel=xlabel, ylabel=ylabel)\n",
    "\n",
    "    title = 'Lift Function Prime'\n",
    "    xlabel = 'Position along the width of the channel wall [m]'\n",
    "    ylabel = 'dT/dx [C/m]'\n",
    "    plot_func(lift_func_prime, x_min, x_max, n_plot_pts, title=title, xlabel=xlabel, ylabel=ylabel)"
   ]
  },
  {
   "cell_type": "code",
   "execution_count": 18,
   "id": "47e1ca18-bc54-4a89-85ce-5ed6e72c032e",
   "metadata": {},
   "outputs": [],
   "source": [
    "'''Build FEM A Matrix'''\n",
    "from pyfires import build_a_mtrx\n",
    "a_mtrx = build_a_mtrx(phi_list, phi_prime_list, k_func, domain_partition, x_min, x_max, n_elem)\n",
    "\n",
    "# A_mtrx[i,j] = inner_product(prima, d_x_phi_prime_j, patches) + h*phi_i(x_min)*phi_j(x_min) + h*phi_i(x_max)*phi_j(x_max)"
   ]
  },
  {
   "cell_type": "code",
   "execution_count": 19,
   "id": "887a389a-b970-4831-a9a4-bf3ba07d2f4c",
   "metadata": {},
   "outputs": [
    {
     "ename": "NameError",
     "evalue": "name 'b_vec' is not defined",
     "output_type": "error",
     "traceback": [
      "\u001b[1;31m---------------------------------------------------------------------------\u001b[0m",
      "\u001b[1;31mNameError\u001b[0m                                 Traceback (most recent call last)",
      "Cell \u001b[1;32mIn[19], line 4\u001b[0m\n\u001b[0;32m      1\u001b[0m \u001b[38;5;124;03m'''Build load vector'''\u001b[39;00m\n\u001b[0;32m      2\u001b[0m \u001b[38;5;28;01mfrom\u001b[39;00m \u001b[38;5;21;01mpyfires\u001b[39;00m \u001b[38;5;28;01mimport\u001b[39;00m build_b_vec_2\n\u001b[1;32m----> 4\u001b[0m b_vec_2 \u001b[38;5;241m=\u001b[39m build_b_vec_2(phi_list, phi_prime_list, k_func, f_func, lift_func_prime, domain_partition, x_min, x_max, n_elem, htc, u_a, u_b)\n",
      "File \u001b[1;32m~\\Documents\\GitHub\\engy-4390\\projects\\2024\\fires-brick\\tests-nb\\pyfires.py:203\u001b[0m, in \u001b[0;36mbuild_b_vec_2\u001b[1;34m(phi_1st, phi_prime_1st, k_func, f_func, lift_func_prime, domain_partition, x_min, x_max, n_elem, htc, u_a, u_b)\u001b[0m\n\u001b[0;32m    200\u001b[0m phi_i\u001b[38;5;241m=\u001b[39mphi_1st[i]\n\u001b[0;32m    201\u001b[0m phi_prime_i\u001b[38;5;241m=\u001b[39mphi_prime_1st[i]\n\u001b[1;32m--> 203\u001b[0m b_vec_2[i] \u001b[38;5;241m=\u001b[39m inner_product(f_func, phi_i, patches)\u001b[38;5;241m-\u001b[39mhtc\u001b[38;5;241m*\u001b[39m(f_func(x_max)\u001b[38;5;241m-\u001b[39mu_b)\u001b[38;5;241m*\u001b[39mphi_i(x_max)\u001b[38;5;241m-\u001b[39mhtc\u001b[38;5;241m*\u001b[39m(f_func(x_min)\u001b[38;5;241m-\u001b[39mu_a)\u001b[38;5;241m*\u001b[39mphi_i(x_min)\n\u001b[0;32m    205\u001b[0m first_term \u001b[38;5;241m=\u001b[39m \u001b[38;5;28;01mlambda\u001b[39;00m x: lift_func_prime(x)\u001b[38;5;241m*\u001b[39mk_func(x)\n\u001b[0;32m    206\u001b[0m phi_prima_i \u001b[38;5;241m=\u001b[39m \u001b[38;5;28;01mlambda\u001b[39;00m x: phi_prime_i(x)\u001b[38;5;241m*\u001b[39m(\u001b[38;5;241m2\u001b[39m\u001b[38;5;241m/\u001b[39mh_e)\n",
      "\u001b[1;31mNameError\u001b[0m: name 'b_vec' is not defined"
     ]
    }
   ],
   "source": [
    "'''Build load vector'''\n",
    "from pyfires import build_b_vec_2\n",
    "\n",
    "b_vec_2 = build_b_vec_2(phi_list, phi_prime_list, k_func, f_func, lift_func_prime, domain_partition, x_min, x_max, n_elem, htc, u_a, u_b)"
   ]
  },
  {
   "cell_type": "markdown",
   "id": "b1ea32e5-05c7-46f5-83e6-e43707823c9a",
   "metadata": {},
   "source": [
    "### [Results](#toc)<a id = \"Results\"></a>"
   ]
  },
  {
   "cell_type": "code",
   "execution_count": null,
   "id": "303b1e38-30a0-48f8-9f56-7bf4da34afa8",
   "metadata": {},
   "outputs": [],
   "source": [
    "'''Solution'''\n",
    "'''Compute optimal coefficient vector'''\n",
    "import numpy as np\n",
    "\n",
    "c_star_vec = np.linalg.solve(a_mtrx, b_vec_2)"
   ]
  },
  {
   "cell_type": "code",
   "execution_count": null,
   "id": "a6afebae-32d7-41ae-89e8-a9ea99902e40",
   "metadata": {},
   "outputs": [],
   "source": [
    "from pyfires import u_star\n",
    "\n",
    "plot_func(lambda x: u_star(x, phi_list, lift_func, c_star_vec), x_min, x_max, 100,\n",
    "          x_scale=100,\n",
    "          title='Solutions with Robin BC constant source and conductivity', \n",
    "          xlabel='Position along the width of the channel wall [cm]',\n",
    "          ylabel='Temperature [°C]')"
   ]
  },
  {
   "cell_type": "code",
   "execution_count": null,
   "id": "02fe465b-216e-4e3b-a404-4e8f6dee9940",
   "metadata": {},
   "outputs": [],
   "source": [
    "from pyfires import u_star_prime\n",
    "h_e = (x_max-x_min)/n_elem\n",
    "q_x = lambda x: - k_func(x) * u_star_prime(x, phi_prime_list, lift_func_prime, c_star_vec, h_e)\n",
    "plot_func(q_x, x_min, x_max, 100, \n",
    "          x_scale=100, y_scale=1/1000,\n",
    "          title='Solutions with Robin BC constant source and conductivity', \n",
    "          xlabel='Position aling the width of the channel wall [m]',\n",
    "          ylabel='Heat flux [kW/m2]')"
   ]
  },
  {
   "cell_type": "code",
   "execution_count": null,
   "id": "18cbf1c0-099c-4fcd-8847-cf5d3ee6a028",
   "metadata": {},
   "outputs": [],
   "source": [
    "'''Normal heat flux at boundaries'''\n",
    "n_x_a = -1.0\n",
    "n_x_b =  1.0\n",
    "print('q_n(a) = ', q_x(x_min) * n_x_a)  \n",
    "print('q_n(b) = ', q_x(x_max) * n_x_b)"
   ]
  },
  {
   "cell_type": "code",
   "execution_count": null,
   "id": "81aba3ed-67b1-4902-9fe8-046e23daab3a",
   "metadata": {},
   "outputs": [],
   "source": [
    "'''Solution'''\n",
    "'''Compute optimal coefficient vector'''\n",
    "c_star_vec = np.linalg.solve(A_mtrx, b_vec)\n",
    "\n",
    "'''Plot comparison of f and g_best_vec'''\n",
    "from pyfires import u_star()\n",
    "from pyfires import u_star_prime()\n",
    "\n",
    "'''\n",
    "def u_star(x):\n",
    "    g_x=temp_func(x)\n",
    "    for (j,phi_i) in enumerate(phi_list):\n",
    "        g_x=g_x+(c_star_vec[j])*phi_i(x)\n",
    "    return g_x\n",
    "    \n",
    "def u_star_prime(x):\n",
    "    g_x=slope_func(x)\n",
    "    for j in range(len(phi_list)):\n",
    "        g_x=g_x+(c_star_vec[j])*((2/h_e)*phi_prime_list[j](x))\n",
    "    return g_x\n",
    "'''\n",
    "\n",
    "#Plotting the solutions \n",
    "plt.figure()\n",
    "plt.plot(np.linspace(x_min,x_max,2000),u_star(np.linspace(x_min,x_max,2000)),label='Rayleigh-Ritz solution')\n",
    "plt.title('Solutions with Robin BC, constant source and conductivity')\n",
    "plt.xlabel(\"Position aling the width of the channel wall [m]\")\n",
    "plt.ylabel(\"Temperature [°C]\")\n",
    "plt.legend()\n",
    "plt.grid()\n",
    "plt.show()\n",
    "\n",
    "#print('The value of the function at the leftmost end of the domain is: %4.2f [°C].'%u_star(x_min))\n",
    "print('The value of the function at the leftmost end of the domain is: %4.2f [°C].'%u_star(x_min)[0])\n",
    "#print('The value of the function at the rightmost end of the domain is: %4.2f [°C].'%u_star(x_max))\n",
    "print('The value of the function at the rightmost end of the domain is: %4.2f [°C].'%u_star(x_max)[0])\n",
    "\n",
    "#Plotting the flux\n",
    "plt.figure()\n",
    "plt.plot(np.linspace(x_min,x_max,2000),-k_cond(np.linspace(x_min,x_max,2000))*u_star_prime((np.linspace(x_min,x_max,2000))),label='Rayleigh Ritz solution')\n",
    "plt.xlabel(\"Position along the width of the channel wall [m]\")\n",
    "plt.ylabel(\"Heat flux [W/m2]\")\n",
    "plt.legend()\n",
    "plt.grid()\n",
    "plt.show()\n",
    "\n",
    "#Flux at the boundaries \n",
    "print(\"Flux at the boundaries:\") \n",
    "print('q_na computed = ', -k_cond(x_min)*u_star_prime(x_min))\n",
    "print('q_nb computed = ', -k_cond(x_max)*u_star_prime(x_max))\n",
    "print('flux error [%]= ',(-k_cond(x_max)*u_star_prime(x_max) - u_b)/u_b*100)"
   ]
  }
 ],
 "metadata": {
  "kernelspec": {
   "display_name": "Python 3 (ipykernel)",
   "language": "python",
   "name": "python3"
  },
  "language_info": {
   "codemirror_mode": {
    "name": "ipython",
    "version": 3
   },
   "file_extension": ".py",
   "mimetype": "text/x-python",
   "name": "python",
   "nbconvert_exporter": "python",
   "pygments_lexer": "ipython3",
   "version": "3.11.5"
  }
 },
 "nbformat": 4,
 "nbformat_minor": 5
}
