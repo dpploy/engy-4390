{
 "cells": [
  {
   "cell_type": "markdown",
   "id": "a5751a09-1687-4674-ab00-d606c234d4b3",
   "metadata": {},
   "source": [
    "**Engy-4390** Nuclear Systems Design and Analysis, UMass Lowell, Chem. Eng. Nuclear Program Fall 2024; Prof. V. F. de Almeida\n",
    "\n",
    "# Constant Thermal Conductivity, Constant Source, and Robin BC"
   ]
  },
  {
   "cell_type": "markdown",
   "id": "02b1d535-63e9-4ad4-8b80-ca7cfb39a3b3",
   "metadata": {},
   "source": [
    "**Student(s):**  Kyle Mills and Billy Manco and Donaita Anglade <br>\n",
    "**Course:** Engy-4390: Nuclear Systems Design and Analysis  <br>\n",
    "**Mentor and Collaborator:** Subash Sharma\n",
    "\n",
    "UMass Lowell, Dept. of Chemical Engineering, Nuclear Energy Program \n",
    "<br>\n",
    "**13 Dec 2024**"
   ]
  },
  {
   "cell_type": "markdown",
   "id": "1cb62647-24db-4577-ab6f-2aedccb2083b",
   "metadata": {},
   "source": [
    "---\n",
    "## Table of Contents<a id = \"toc\"></a>\n",
    "* [Problem](#Problem)\n",
    "  + [Objectives](#Obj)\n",
    "  + [Data](#Data)\n",
    "  + [Domain](#Domain) \n",
    "* [Test Two](#test)\n",
    "  + [Results](#Results)\n",
    "  + [Comparing to Gold Solution](#Comparison)\n",
    "  + [Comparing to Analytical Solution](#Analytical) \n",
    "* [Conclusion](#Conclusion) \n",
    "---"
   ]
  },
  {
   "cell_type": "markdown",
   "id": "803d2bd9-0b48-44ef-ae63-9556ddcdc293",
   "metadata": {},
   "source": [
    "## [Problem](#toc)<a id = \"Problem\"></a>"
   ]
  },
  {
   "cell_type": "markdown",
   "id": "82f7c45e-9b09-4330-8fc6-e4a986516bde",
   "metadata": {},
   "source": [
    "Find temeprature distrubtion, derive heat flux, employ the Rayleigh-Ritz method "
   ]
  },
  {
   "cell_type": "markdown",
   "id": "96f78ec5-5966-4114-9473-320f26fca487",
   "metadata": {},
   "source": [
    "### [Objective](#toc)<a id = \"Data\">"
   ]
  },
  {
   "cell_type": "markdown",
   "id": "99640b40-1b45-47f6-87cb-5aec5e16c920",
   "metadata": {},
   "source": [
    "+ Find the temperature distribution *u*(*x*).\n",
    "+ Determine the heat flux *q*(*x*)=-*ku'*(*x*)\n",
    "+ Compare the analytical and numerical solutions\n",
    "+ Compare the numerical solutions to a gold standard solution\n",
    "+ Interpretation of *u*(*x*) and *q*(*x*)"
   ]
  },
  {
   "cell_type": "markdown",
   "id": "3a54415f-bcaa-4489-89b0-be02961cfd5c",
   "metadata": {},
   "source": [
    "### [Problem Data](#toc)<a id = 'Data'></a>\n",
    "\n",
    "> a = 0 cm <br>\n",
    "> b = 5 cm <br>\n",
    "> u_ref(a) = 20 C <br>\n",
    "> u_ref(b) = 40 C <br>\n",
    "> k = 42 W/(mK) <br>\n",
    "> f = 206151 W/m^2 "
   ]
  },
  {
   "cell_type": "markdown",
   "id": "040c7aaf-825a-4f5f-82b5-3fbb60f60984",
   "metadata": {},
   "source": [
    "### [Domain](#toc)<a id = \"Domain\"></a>"
   ]
  },
  {
   "cell_type": "code",
   "execution_count": 1,
   "id": "e01d0497-5fa9-4abf-8e04-6336265d461c",
   "metadata": {},
   "outputs": [],
   "source": [
    "'''Domain'''\n",
    "'''Rayleigh Ritz Method with Lagrange FE Basis Functions'''\n",
    "x_min = 0    # m\n",
    "x_max = 0.05 # m\n",
    "\n",
    "degree = 2  # Degree of the lagrange polinomials used\n",
    "n_elem = 10 # Number of elements used"
   ]
  },
  {
   "cell_type": "code",
   "execution_count": 2,
   "id": "c20d6376-0bf0-4592-949f-83a86fed21bd",
   "metadata": {},
   "outputs": [],
   "source": [
    "'''Domain partition'''\n",
    "from pyfires import get_domain_partition\n",
    "'''Parent mapping'''\n",
    "from pyfires import get_parent_mapping\n",
    "'''The basis functions'''\n",
    "from pyfires import get_parent_basis_functions\n",
    "'''Again the function for the obtaining of the basis functions'''\n",
    "from pyfires import global_basis_function\n",
    "'''All global basis functions'''\n",
    "from pyfires import get_global_basis_functions\n",
    "'''Inner product'''\n",
    "from pyfires import inner_product"
   ]
  },
  {
   "cell_type": "code",
   "execution_count": 3,
   "id": "8a185605-4cd7-45d7-9e83-daf68b99e814",
   "metadata": {},
   "outputs": [],
   "source": [
    "'''FEM Solution'''\n",
    "'''Domain partition'''\n",
    "domain_partition = get_domain_partition(degree, n_elem, x_min, x_max)\n",
    "parent_mapping = get_parent_mapping()\n",
    "parent_basis_functions = get_parent_basis_functions()\n",
    "\n",
    "phi_list = get_global_basis_functions(domain_partition, parent_mapping, parent_basis_functions, global_basis_function)[0]\n",
    "phi_prime_list = get_global_basis_functions(domain_partition, parent_mapping, parent_basis_functions, global_basis_function)[1]"
   ]
  },
  {
   "cell_type": "code",
   "execution_count": 6,
   "id": "d19576d8-e459-4e4b-91d0-b1941dec396c",
   "metadata": {},
   "outputs": [
    {
     "data": {
      "text/plain": [
       "array([0.])"
      ]
     },
     "execution_count": 6,
     "metadata": {},
     "output_type": "execute_result"
    }
   ],
   "source": [
    "phi_list[0](x_max)"
   ]
  },
  {
   "cell_type": "markdown",
   "id": "9e3e6e81-7dd8-4440-9d93-1e26f48b30cc",
   "metadata": {},
   "source": [
    "## [Implementing Data](#toc)<a id = \"test\"></a>"
   ]
  },
  {
   "cell_type": "markdown",
   "id": "42f5d0c1-919c-4cac-baf4-767f37afe7bd",
   "metadata": {},
   "source": [
    "Test two constraints the system with a constant thermal conductivity and a constant heat source using a Robin boundary condition. The goal of simulating the domain with these conditions is to produce a graphical solution on how heat is transfered throughout the domain. "
   ]
  },
  {
   "cell_type": "code",
   "execution_count": null,
   "id": "c4da44cf-f8fb-4a15-90ea-92376bd428be",
   "metadata": {},
   "outputs": [],
   "source": [
    "'''Heat Transfer Coefficient'''\n",
    "htc = 25 # W/m^2/K    #Heat transfer coefficient\n",
    "u_ref_a = 20 # temperature at poin a in degrees C\n",
    "u_ref_b = 40 # temperature at point b in degrees C"
   ]
  },
  {
   "cell_type": "code",
   "execution_count": null,
   "id": "47814f96-689b-49bd-a8f5-e85d8f173bba",
   "metadata": {},
   "outputs": [],
   "source": [
    "'''Thermal conductivity'''\n",
    "from pyfires import linear_func\n",
    "from pyfires import plot_func\n",
    "\n",
    "k_func = linear_func(x_min, x_max, (42.0, 42.0)) # W/mK\n",
    "\n",
    "'''Heating Power Density'''\n",
    "f_func = linear_func(x_min, x_max, (824604, 824604)) # W/m^3\n",
    "\n",
    "view_plots = False"
   ]
  },
  {
   "cell_type": "code",
   "execution_count": null,
   "id": "56e2e192-0e4e-4f8a-b07c-f83f7d95a50c",
   "metadata": {},
   "outputs": [],
   "source": [
    "if view_plots:\n",
    "    n_plot_pts = 200\n",
    "    title = 'Thermal Conductivity'\n",
    "    xlabel = 'Position along the width of the channel wall [m]'\n",
    "    ylabel = 'K [W/mk]'\n",
    "    plot_func(k_func, x_min, x_max, n_plot_pts, title=title, xlabel=xlabel, ylabel=ylabel)\n",
    "\n",
    "    title = 'Heating Power Density'\n",
    "    xlabel = 'Position along the width of the channel wall [m]'\n",
    "    ylabel = 'f [W/m^3]'\n",
    "    plot_func(f_func, x_min, x_max, n_plot_pts, title=title, xlabel=xlabel, ylabel=ylabel)"
   ]
  },
  {
   "cell_type": "code",
   "execution_count": null,
   "id": "47e1ca18-bc54-4a89-85ce-5ed6e72c032e",
   "metadata": {},
   "outputs": [],
   "source": [
    "'''Build FEM A Matrix'''\n",
    "from pyfires import build_a_mtrx_2\n",
    "a_mtrx = build_a_mtrx_robin_bc(phi_list, phi_prime_list, k_func, domain_partition, x_min, x_max, n_elem, htc)"
   ]
  },
  {
   "cell_type": "code",
   "execution_count": null,
   "id": "887a389a-b970-4831-a9a4-bf3ba07d2f4c",
   "metadata": {},
   "outputs": [],
   "source": [
    "'''Build load vector'''\n",
    "from pyfires import build_b_vec_2\n",
    "\n",
    "b_vec = build_b_vec_robin_bc(phi_list, phi_prime_list, f_func, domain_partition, x_min, x_max, n_elem, htc, u_ref_a, u_ref_b)"
   ]
  },
  {
   "cell_type": "markdown",
   "id": "b1ea32e5-05c7-46f5-83e6-e43707823c9a",
   "metadata": {},
   "source": [
    "### [Results](#toc)<a id = \"Results\"></a>"
   ]
  },
  {
   "cell_type": "code",
   "execution_count": null,
   "id": "303b1e38-30a0-48f8-9f56-7bf4da34afa8",
   "metadata": {},
   "outputs": [],
   "source": [
    "'''Solution'''\n",
    "'''Compute optimal coefficient vector'''\n",
    "import numpy as np\n",
    "\n",
    "c_star_vec = np.linalg.solve(a_mtrx, b_vec)"
   ]
  },
  {
   "cell_type": "code",
   "execution_count": null,
   "id": "a6afebae-32d7-41ae-89e8-a9ea99902e40",
   "metadata": {
    "scrolled": true
   },
   "outputs": [],
   "source": [
    "from pyfires import u_star_no_lift\n",
    "\n",
    "plot_func(lambda x: u_star_no_lift(x, phi_list, c_star_vec), x_min, x_max, 100,\n",
    "          x_scale=100,\n",
    "          title='Solutions with Robin BC constant source and conductivity', \n",
    "          xlabel='Position along the width of the channel wall [cm]',\n",
    "          ylabel='Temperature [°C]')"
   ]
  },
  {
   "cell_type": "code",
   "execution_count": null,
   "id": "02fe465b-216e-4e3b-a404-4e8f6dee9940",
   "metadata": {},
   "outputs": [],
   "source": [
    "from pyfires import u_star_prime\n",
    "h_e = (x_max-x_min)/n_elem\n",
    "q_x = lambda x: - k_func(x) * u_star_prime(x, phi_prime_list, lift_func_prime, c_star_vec, h_e)\n",
    "plot_func(q_x, x_min, x_max, 100, \n",
    "          x_scale=100, y_scale=1/1000,\n",
    "          title='Solutions with Robin BC constant source and conductivity', \n",
    "          xlabel='Position aling the width of the channel wall [m]',\n",
    "          ylabel='Heat flux [kW/m2]')"
   ]
  },
  {
   "cell_type": "code",
   "execution_count": null,
   "id": "18cbf1c0-099c-4fcd-8847-cf5d3ee6a028",
   "metadata": {},
   "outputs": [],
   "source": [
    "'''Normal heat flux at boundaries'''\n",
    "n_x_a = -1.0\n",
    "n_x_b =  1.0\n",
    "print('q_n(a) = ', (q_x(x_min) * n_x_a)/1000)  \n",
    "print('q_n(b) = ', (q_x(x_max) * n_x_b)/1000)"
   ]
  },
  {
   "cell_type": "markdown",
   "id": "d07f8586-cc7c-405a-a23e-6988d907e8f6",
   "metadata": {},
   "source": [
    "### [Results Comparison with Gold-Data](#toc)<a id = \"Comparison\"></a>"
   ]
  },
  {
   "cell_type": "code",
   "execution_count": null,
   "id": "1d1394e0-30b7-4dbf-b171-884ccfa3e132",
   "metadata": {},
   "outputs": [],
   "source": [
    "import numpy as np\n",
    "(x,u,q) = np.loadtxt('gold-data/01-test-gold.txt')\n",
    "u_gold = np.column_stack((x,u))"
   ]
  },
  {
   "cell_type": "code",
   "execution_count": null,
   "id": "aafbaf1b-2bad-4080-895a-e2de823163dd",
   "metadata": {},
   "outputs": [],
   "source": [
    "plot_func(lambda x: u_star(x, phi_list, lift_func, c_star_vec), x_min, x_max, 100,\n",
    "          x_scale=100,\n",
    "          title='Solutions with Dirichlet BC, constant source and conductivity', \n",
    "          xlabel='Position aling the width of the channel wall [cm]',\n",
    "          ylabel='Temperature [°C]', gold_data=u_gold)"
   ]
  },
  {
   "cell_type": "code",
   "execution_count": null,
   "id": "94d48132-e3d5-44a2-9103-0f25f839fca1",
   "metadata": {},
   "outputs": [],
   "source": [
    "import numpy as np\n",
    "(x,u,q) = np.loadtxt('gold-data/01-test-gold.txt')\n",
    "u_gold_2 = np.column_stack((x,q))"
   ]
  },
  {
   "cell_type": "code",
   "execution_count": null,
   "id": "b5c3d225-2f7f-4c6b-b39e-804f666e760a",
   "metadata": {},
   "outputs": [],
   "source": [
    "h_e = (x_max-x_min)/n_elem\n",
    "q_x = lambda x: - k_func(x) * u_star_prime(x, phi_prime_list, lift_func_prime, c_star_vec, h_e)\n",
    "plot_func(q_x, x_min, x_max, 100, \n",
    "          x_scale=100, y_scale=1/1000,\n",
    "          title='Solutions with Dirichlet BC, constant source and conductivity', \n",
    "          xlabel='Position aling the width of the channel wall [m]',\n",
    "          ylabel='Heat flux [kW/m2]', gold_data = u_gold_2)"
   ]
  },
  {
   "cell_type": "markdown",
   "id": "dd36d990-fe78-4480-a7ed-375bab52c040",
   "metadata": {},
   "source": [
    "### [Results Comparison with a Analytical Solution](#toc)<a id = \"Analytical\"></a>"
   ]
  },
  {
   "cell_type": "code",
   "execution_count": null,
   "id": "92930992-8568-4cf0-ab7d-a6c8458252d0",
   "metadata": {},
   "outputs": [],
   "source": []
  },
  {
   "cell_type": "markdown",
   "id": "41217bfd-c4f4-473e-ae6b-18136ec10a17",
   "metadata": {},
   "source": [
    "## [Conclusion](#toc)<a id = \"Conclusion\"></a>"
   ]
  },
  {
   "cell_type": "code",
   "execution_count": null,
   "id": "2d87e168-9cae-43f3-8e8a-04959b0aa61a",
   "metadata": {},
   "outputs": [],
   "source": []
  }
 ],
 "metadata": {
  "kernelspec": {
   "display_name": "Python 3 (ipykernel)",
   "language": "python",
   "name": "python3"
  },
  "language_info": {
   "codemirror_mode": {
    "name": "ipython",
    "version": 3
   },
   "file_extension": ".py",
   "mimetype": "text/x-python",
   "name": "python",
   "nbconvert_exporter": "python",
   "pygments_lexer": "ipython3",
   "version": "3.12.6"
  }
 },
 "nbformat": 4,
 "nbformat_minor": 5
}
