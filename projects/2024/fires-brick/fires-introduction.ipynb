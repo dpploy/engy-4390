{
 "cells": [
  {
   "cell_type": "markdown",
   "id": "6a95a54c-cb86-4f1a-8b9e-3b2634da9a9a",
   "metadata": {},
   "source": [
    "**Engy-4390** Nuclear Systems Design and Analysis, UMass Lowell, Chem. Eng. Nuclear Program Fall 2024; Prof. V. F. de Almeida\n",
    "\n",
    "# Introduction to the FIRES Project"
   ]
  },
  {
   "cell_type": "markdown",
   "id": "b8a46b67-51ba-4fea-838a-38c904dc1751",
   "metadata": {},
   "source": [
    "**Student(s):**  Kyle Mills and Billy Manco and Donaita Anglade <br>\n",
    "**Course:** Engy-4390: Nuclear Systems Design and Analysis  <br>\n",
    "**Mentor and Collaborator:** Subash Sharma\n",
    "\n",
    "UMass Lowell, Dept. of Chemical Engineering, Nuclear Energy Program \n",
    "<br>\n",
    "**17 Oct 24**"
   ]
  },
  {
   "cell_type": "markdown",
   "id": "e2edda3c-e507-4036-aa56-8c47d29ff400",
   "metadata": {},
   "source": [
    "---\n",
    "## Table of Contents<a id=\"toc\"></a>\n",
    "* [Introduction](#intro)\n",
    "* [Domain](#domain)\n",
    "* [Problem Statement](#problem)\n",
    "* [Variables](#vars)\n",
    "  + [Thermal Conductivity](#thermal)\n",
    "  + [Heat Source](#heat) "
   ]
  },
  {
   "cell_type": "markdown",
   "id": "d116d8f8-4ed8-447b-8913-26a06bab4f68",
   "metadata": {},
   "source": [
    "## [Introduction](#toc)<a id=\"intro\"></a>"
   ]
  },
  {
   "cell_type": "markdown",
   "id": "0c8f0b77-8317-4f81-99b5-fd9c27cee4f4",
   "metadata": {},
   "source": [
    "This report will investigate Aluminium Oxide as a more viable material option for constructing high-temperature firebrick resistance-heated energy storage (FIRES)by studying the heat flux using the Poisson Problem. Air is the primary carrier for the removal of heat in the system.\n",
    "\n",
    "FIRES bricks, Fire Resistant-Heat energy storage, is a heated thermal energy storage technology that captures excess electricity as heat. The BRICKS are used both as a storage medium due to their high capacity and also as heat generators.The energy stored in the bricks can be recovered by cooling the bricks by forced convection. The recovered hot air is then used in various applications."
   ]
  },
  {
   "cell_type": "markdown",
   "id": "b8e9c1ef-a14c-47c5-99c3-2e0024e4fea6",
   "metadata": {},
   "source": [
    "## [Problem Statement](#toc)<a id=\"problem\"></a>"
   ]
  },
  {
   "cell_type": "markdown",
   "id": "cded385e-c99d-4691-99ee-86959d969c57",
   "metadata": {},
   "source": [
    "Heat is released by a carrier flowing through the holes of a FIRES brick. To understand heat flow, a Poisson problem is used as followed:\n",
    "\n",
    "\\begin{align*}\n",
    " -\\bigl(-k(x)\\, u'\\bigr)'(x) + f(x) &= 0 \\quad\\quad \\forall \\quad\\quad x\\in [a,b], \\\\\n",
    " q_n(a) &= h\\,\\bigl(u(a)-u_\\text{ref}\\bigr)., \\\\\n",
    " q_n(b) &= h\\,\\bigl(u(b)-u_\\text{ref}\\bigr).\n",
    "\\end{align*}\n",
    "\n",
    "Where: <br>\n",
    "u(x) is the temperature distribution.<br>\n",
    "k(x) is the thermal conductivity <br>\n",
    "f(x) is a heat source term.\n",
    "\n",
    "The problem states that a thermal conductivity term in the x direction is multiplied by the temperature. This is added to the heat generation source term, happening at steady state. The x direction is between points a and b. The boundary conditions for points a and b are the thermal normal flux at its respected points. The thermal normal flux (q_n) is equal to the heat transfer coefficent (h) multiplied by the temperature difference. In the equation u(a) is the temeprature at point a subratcted from the refrence temperature. \n"
   ]
  },
  {
   "cell_type": "markdown",
   "id": "acb7a841-0e09-4b5e-82e8-6100f20ddf93",
   "metadata": {},
   "source": [
    "## [Domain](#toc)<a id=\"domain\"></a>"
   ]
  },
  {
   "cell_type": "markdown",
   "id": "0f4e7eef-4ed4-4e12-a255-6ebbe65f481b",
   "metadata": {},
   "source": [
    "The figure below is a visulization of the domain for this project. The left side diagram shows two bricks together (the red rectangles). With the inner yellow rectangles showing the tubes through the bricks. The right side diagram is an edge of the left side tube (yellow) then the area between the two tubes with the right side tube on the opposite end. \n",
    "\n",
    "Points a and b are on the edges of the red area between the two yellow tubes as seen in the right figure below. The normal vector from the thermal normal flux juts out from each point into the yellow section of the diagram. The brick itself is a lot hotter then the air flowing through the tubes so heat travels in a positive direction outwards. "
   ]
  },
  {
   "cell_type": "code",
   "execution_count": null,
   "id": "d22ec326-2dbb-4c57-8286-aa354ca7c449",
   "metadata": {},
   "outputs": [],
   "source": [
    "'''Domain'''\n",
    "import pyvista as pv\n",
    "def show_domain(screenshot=False):\n",
    "   \n",
    "    pv.set_plot_theme('paraview')\n",
    "\n",
    "    \n",
    "    #coolant = pv.Cylinder(center=(0,0,0), direction=(0,0,1), height=height, radius=radius_i)\n",
    "    brick1=pv.Box(bounds=(0.0, 4, 0.0, 6, 0.0, 18.0), level=2, quads=True,)\n",
    "    air1=pv.Box(bounds=(1, 3, 2, 4, 0.0, 18.0), level=2, quads=True,)\n",
    "    #air2=pv.Box(bounds=(1, 1.5, 0, 5, 0.0, 18.0), level=0, quads=True,)\n",
    "    brick2=pv.Box(bounds=(0.4, 8, 0.0, 6, 0.0, 18.0), level=2, quads=True,)\n",
    "    air2=pv.Box(bounds=(5, 7, 2, 4, 0.0, 18.0), level=2, quads=True,)\n",
    "    #fir 3D cross-section\n",
    "    air3=pv.Box(bounds=(0, -1, 0, 5, 0.0, 18.0), level=0, quads=True,)\n",
    "    brick3=pv.Box(bounds=(0.0, 2, 0.0, 5, 0.0, 18.0), level=2, quads=True,)\n",
    "    air4=pv.Box(bounds=(2, 3, 0, 5, 0.0, 18.0), level=0, quads=True,)\n",
    "    plo = pv.Plotter(notebook=True, shape=(1,2))\n",
    "    plo = pv.Plotter(shape=(1,2)) \n",
    "    \n",
    "    plo.subplot(0,0)\n",
    "    \n",
    "    plo.add_mesh(brick1, color='red', opacity=.80)\n",
    "    #plo.add_mesh(air1, color='tan', opacity=0.99)\n",
    "    plo.add_mesh(air1, color='tan', opacity=.99)\n",
    "    plo.add_mesh(brick2, color='red', opacity=.80)\n",
    "    #plo.add_mesh(air1, color='tan', opacity=0.99)\n",
    "    plo.add_mesh(air2, color='tan', opacity=.99)\n",
    "    plo.add_axes(xlabel='x', ylabel='y', zlabel='Z')\n",
    "\n",
    "    plo.subplot(0,1)\n",
    "    \n",
    "    plo.add_mesh(brick3, color='red', opacity=.80)\n",
    "    #plo.add_mesh(air1, color='tan', opacity=0.99)\n",
    "    plo.add_mesh(air3, color='tan', opacity=.99)\n",
    "    #plo.add_mesh(brick2, color='red', opacity=.80)\n",
    "    #plo.add_mesh(air1, color='tan', opacity=0.99)\n",
    "    plo.add_mesh(air4, color='tan', opacity=.99)\n",
    "    plo.add_axes(xlabel='x', ylabel='y', zlabel='Z')\n",
    "    \n",
    "    cpos = plo.show(window_size=[800, 600])\n",
    "    if screenshot:\n",
    "        plo.screenshot('domain.png')\n",
    "show_domain()"
   ]
  },
  {
   "cell_type": "markdown",
   "id": "cf7b009d-352d-4033-86ee-d4bc6e51f52c",
   "metadata": {},
   "source": [
    "## [Defining Variables](#toc)<a id=\"vars\"></a>"
   ]
  },
  {
   "cell_type": "markdown",
   "id": "cb27ee95-9dce-41d6-8cac-ab8a3d72c6dc",
   "metadata": {},
   "source": [
    "The reference temperature ($u_\\text{ref}$ is the ambient temperature of air. To model thermal runaway, which can be caused by uneven heating, we want to introduce a level of asymmetry to the problem. This can be accomplished by having two different temperatures at the ends of the domain. \n",
    "\n",
    "\\begin{align*}\n",
    " T_{ref,a} &= 20\\; [°C] \\\\\n",
    " T_{ref,b} &= 40\\; [°C] \\\\\n",
    "\\end{align*}\n",
    "\n",
    "Next, we will define the heat transfer coefficient. This value is dependent on the speed of the air being channeled through the bricks. The heat transfer coefficient for our problem is as followed: \n",
    "\n",
    "\\begin{align*}\n",
    " h &= 10\\; \\left [ \\frac{W}{m^{2}K} \\right ] \\\\\n",
    "\\end{align*}"
   ]
  },
  {
   "cell_type": "markdown",
   "id": "657e1aff-4f1b-4633-bcdc-c226737c48f8",
   "metadata": {},
   "source": [
    "### [Thermal Conductivity](#toc)<a id=\"thermal\"></a>"
   ]
  },
  {
   "cell_type": "markdown",
   "id": "31244ea1-12fc-4e8a-9715-08812a25ec60",
   "metadata": {},
   "source": [
    "What we are defining now is the function for thermal conductivity and the source. For the value of thermal conductivity, we used values from Brandes, Smithells Metals Reference Book. From these values a thermal conductivity versus temperature graph was plotted in excel and fitted with a polynomial function for temperature. The function obtained is: \n",
    "\n",
    "\\begin{align*}\n",
    " k(T) &= (3E-0.5)\\cdot T^{2}-0.0667 \\cdot T +46.926\\; \\left [ \\frac{W}{mK} \\right ]  \\\\\n",
    "\\end{align*}\n",
    "\n",
    "We might make the conductivity dependant on temperature in the future. As for now, we can't make it dependent on the temperature, so an aproximation of this will necessarilly be imperfect, since the value of the temperature is needed to know the value of the conductivity and that of the conductivity is needed for the temperature. We don't know the values of the temperature at the ends of the domain, even. A first approximation of the value of the conductivity will be of it as a linear function, with the values at the end being those that the thermal conductivity takes at the reference temperatures at the ends of the domain.\n",
    "\n",
    "\\begin{align*}\n",
    " k(T_{ref,a}) &= 81,471\\; \\left [ \\frac{W}{mK} \\right ]  \\\\\n",
    " k(T_{ref,b}) &= 92,967\\; \\left [ \\frac{W}{mK} \\right ]  \\\\\n",
    "\\end{align*}\n",
    "\n",
    "The function for the conductivity dependent on the position will be of this form:\n",
    "\n",
    "\\begin{align*}\n",
    " k(x) &= 81,471+229,920 \\cdot x \\; \\left [ \\frac{W}{mK} \\right ]  \\\\\n",
    "\\end{align*}\n",
    "\n",
    "We were extremely close to implementing this function in our MOOSE code. Due to us running out of time, however, we were forced to instead use a constant value for the thermal conductivity:\n",
    "\n",
    "\\begin{align*}\n",
    " k &= 87,219 \\; \\left [ \\frac{W}{mK} \\right ]  \\\\\n",
    "\\end{align*}"
   ]
  },
  {
   "cell_type": "markdown",
   "id": "bf116165-014d-46d3-9ea9-4786ff770e69",
   "metadata": {},
   "source": [
    "### [Heat Source](#toc)<a id=\"heat\"></a>"
   ]
  },
  {
   "cell_type": "markdown",
   "id": "711297d0-330a-4ae2-b1a1-381a06d17616",
   "metadata": {},
   "source": [
    "With regards to the heat source. The value of the generated heat will be given by Joule's Law. The formula is presented in the *Applied Energy* paper as follows:\n",
    "\n",
    "\\begin{align*}\n",
    "F\\left (x \\right )=\\dot{e}_{gen}=\\frac{AV^{2}}{  L_{char} \\rho }\n",
    "\\end{align*}\n",
    "\n",
    "We need, however, a value for the density of the generated heat, which will be obtained by taking the formula presented above and dividing it by a unit of volume, which in this case would be a product of the transversal area and the characteristic length that Stack postulated in his paper. The formula, then, is as follows:\n",
    "\n",
    "\\begin{align*}\n",
    "f\\left (x \\right ) = \\frac{V^{2}}{  L_{char}^{2} \\rho }\n",
    "\\end{align*}\n",
    "\n",
    "The characteristic length being defined in the same paper as with a value of 5 cm:\n",
    "\n",
    "\\begin{align*}\n",
    "L_{char} = 0.05 \\left [ m \\right ]\n",
    "\\end{align*}\n",
    "\n",
    "The value of rho (electrical resistivity) in the formula is approximated in the same way as we did for that of thermal conductivity. We first oftain the following temperature-dependent formula:\n",
    "\n",
    "\\begin{align*}\n",
    "\\rho (T) &= (8.00E6)\\cdot T^{2}-(3.00E10) \\cdot T +(2.00E13)\\; \\left [ \\Omega m \\right ]  \\\\\n",
    "\\end{align*}\n",
    "\n",
    "And one can evaluate the heat generating function with the . There is still the question of which value we should use for the voltage difference, however, and this is something we have absolutely no info on. Daniel Stack doesn't specify a value for the voltage either in his thesis or in the *Applied Energy* paper, and we have no antecedents of the voltage values to be used in this particular application. The value of the voltage being easily changeable, however, we can just introduce values to get some results for the sake of the project, and to have some interesting results to show. For this project, then, the value of the voltage difference in the resistor bricks will be the following:\n",
    "\n",
    "\\begin{align*}\n",
    "V = 100 \\left [ MV \\right ]\n",
    "\\end{align*}\n",
    "\n",
    "And for this, the value of the source at the ends of the domain is as follows:\n",
    "\n",
    "\\begin{align*}\n",
    " f_{s}(T_{ref,a}) &= 206,151\\; \\left [ \\frac{W}{m^{3}} \\right ]  \\\\\n",
    " f_{s}(T_{ref,b}) &= 212,621\\; \\left [ \\frac{W}{m^{3}} \\right ]  \\\\\n",
    "\\end{align*}\n",
    "\n",
    "This again we can approximate as a linear position-dependent function, and we obtain:\n",
    "\n",
    "\\begin{align*}\n",
    "f(x) &= 206,151+129,400 \\cdot x \\; \\left [ \\frac{W}{m^{3}} \\right ]  \\\\\n",
    "\\end{align*}"
   ]
  },
  {
   "cell_type": "code",
   "execution_count": null,
   "id": "0117dc45-a224-42d5-abf0-64a0a4342781",
   "metadata": {},
   "outputs": [],
   "source": []
  },
  {
   "cell_type": "code",
   "execution_count": null,
   "id": "f85eb5b1-77d9-4e04-b305-28507ae0f650",
   "metadata": {},
   "outputs": [],
   "source": []
  },
  {
   "cell_type": "code",
   "execution_count": null,
   "id": "00ff60e7-96cf-4208-903b-0ee759cf1566",
   "metadata": {},
   "outputs": [],
   "source": []
  }
 ],
 "metadata": {
  "kernelspec": {
   "display_name": "Python 3 (ipykernel)",
   "language": "python",
   "name": "python3"
  },
  "language_info": {
   "codemirror_mode": {
    "name": "ipython",
    "version": 3
   },
   "file_extension": ".py",
   "mimetype": "text/x-python",
   "name": "python",
   "nbconvert_exporter": "python",
   "pygments_lexer": "ipython3",
   "version": "3.12.7"
  }
 },
 "nbformat": 4,
 "nbformat_minor": 5
}
