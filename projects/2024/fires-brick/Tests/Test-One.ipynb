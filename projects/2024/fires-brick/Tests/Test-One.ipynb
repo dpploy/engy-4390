{
 "cells": [
  {
   "cell_type": "markdown",
   "id": "4348ba7f-7510-48cf-8f91-c919f17b33cf",
   "metadata": {},
   "source": [
    "**Engy-4390** Nuclear Systems Design and Analysis, UMass Lowell, Chem. Eng. Nuclear Program Fall 2024; Prof. V. F. de Almeida\n",
    "\n",
    "# Discussion On Test One"
   ]
  },
  {
   "cell_type": "markdown",
   "id": "d801a82f-2422-4784-848a-05a41bd9dd6b",
   "metadata": {},
   "source": [
    "**Student(s):**  Kyle Mills and Billy Manco and Donaita Anglade <br>\n",
    "**Course:** Engy-4390: Nuclear Systems Design and Analysis  <br>\n",
    "**Mentor and Collaborator:** Subash Sharma\n",
    "\n",
    "UMass Lowell, Dept. of Chemical Engineering, Nuclear Energy Program \n",
    "<br>\n",
    "**21 Oct 2024**"
   ]
  },
  {
   "cell_type": "markdown",
   "id": "f124b967-ed8a-473c-acdf-b2c4b312a2fa",
   "metadata": {},
   "source": [
    "---\n",
    "## Table of Contents<a id=\"toc\"></a>\n",
    "* [What is a Dirichet BC](#whatisit)\n",
    "* [Definitions](#defs)\n",
    "* [Setup](#setup)\n",
    "* [Test](#test)\n",
    "---"
   ]
  },
  {
   "cell_type": "markdown",
   "id": "dc2a4ce1-91f0-401c-8e8e-2df96c508cf5",
   "metadata": {},
   "source": [
    "## [What is a Dirichet BC](#toc)<a id='whatisit'></a>"
   ]
  },
  {
   "cell_type": "markdown",
   "id": "4e92e028-363e-4c30-ab51-fab10ea6b772",
   "metadata": {},
   "source": [
    "The Dirichlet boundary condition (BC) is imposed on an ordinary or partial differental equation, such that the values that the solution takes along the boundary of the domain are fixed. The question of finding solutions to such equations is known as the DIrichlet problem, also called a fixed boundary condition.\n",
    "\n",
    "Dirichlet boundary conditions play a key role in one-dimensional steady-state conduction by specifying fixed temperature values at the boundaries. This means that the heat flow within the material is directly influenced by these set temperatures. By knowing the temperature at each end of a rod, for example, it allows for straightforward calculations of heat transfer using Fourier's law, leading to accurate predictions of temperature distributions within the conductor.\n",
    "\n",
    "THe applicaiton of a Dirichlet BC in the context of this project is as a heat transfer problem, where a surgace is held at a fixed temperature. "
   ]
  },
  {
   "cell_type": "markdown",
   "id": "027c987f-6a56-449a-b99b-d1500d24e6ff",
   "metadata": {},
   "source": [
    "The first test will be done with Dirichlet BC and using constant conductivity and source. The Dirichlet Boundary conditions are as follows:\n",
    "\n",
    "\\begin{align*}\n",
    "T_{a}=20\\; [°C]\n",
    "\\end{align*}\n",
    "\n",
    "\\begin{align*}\n",
    "T_{b}=40\\; [°C]\n",
    "\\end{align*}"
   ]
  },
  {
   "cell_type": "markdown",
   "id": "e40a07a6-8666-4cc3-a489-b90c09b1fea6",
   "metadata": {},
   "source": [
    "Some parameters will be defined next. We define a constant value of $k(x)=31 \\left [ \\frac{W}{mK} \\right ] $ and a value of $f(x)=156940\\; \\left [ \\frac{W}{m^{3}} \\right ]$ for the heat generation density"
   ]
  },
  {
   "cell_type": "markdown",
   "id": "8365a06d-b5a0-407a-931b-7cba2f34de42",
   "metadata": {},
   "source": [
    "## [Definition of the necessary functions](#toc)<a id=\"defs\"></a>"
   ]
  },
  {
   "cell_type": "code",
   "execution_count": null,
   "id": "6d1da979-93df-4332-b196-0fb3d833cde9",
   "metadata": {},
   "outputs": [],
   "source": [
    "'''Generate the target function f'''\n",
    "import matplotlib.pyplot as plt\n",
    "import math as m\n",
    "import numpy as np\n",
    "import pandas as pd\n",
    "from scipy.interpolate import interp1d\n",
    "from scipy.integrate import quad"
   ]
  },
  {
   "cell_type": "markdown",
   "id": "e0a9fd66-eb11-4ecd-91e2-41e7e3cb6625",
   "metadata": {},
   "source": [
    "## [Setup](#toc)<a id=\"setup\"></a>"
   ]
  },
  {
   "cell_type": "code",
   "execution_count": null,
   "id": "423bde0b-a0bf-4fb4-b4cc-bc5afda5303c",
   "metadata": {},
   "outputs": [],
   "source": [
    "'''Domain'''\n",
    "'''Rayleigh Ritz Method with Lagrange FE Basis Functions'''\n",
    "x_min=0\n",
    "x_max=0.05\n",
    "\n",
    "degree = 2  #Degree of the lagrange polinomials used\n",
    "n_elem = 10 #Number of elements used"
   ]
  },
  {
   "cell_type": "code",
   "execution_count": null,
   "id": "ee5957a3-5a12-437e-ad2a-b58b5c3cb509",
   "metadata": {},
   "outputs": [],
   "source": [
    "'''Domain partition'''\n",
    "def get_domain_partition(degree, n_elem, x_min, x_max, bc_x_min='essential', bc_x_max='essential'):\n",
    "    #assert degree == 1\n",
    "    # Local node numbering on parent domain\n",
    "    # --0--------------1---->\n",
    "    #  -1      0      +1    zetta\n",
    "    gnodes_x = np.linspace(x_min, x_max, n_elem*degree+1, dtype=np.float64)\n",
    "    patches = list()\n",
    "    local_to_global_node_id_map = list()\n",
    "    for e in range(n_elem):\n",
    "        gnode_id_1 = degree*e   #left\n",
    "        gnode_id_2 = degree*e+1 #center\n",
    "        gnode_id_3 = degree*e+2 #right\n",
    "        x1 = gnodes_x[gnode_id_1]\n",
    "        x2 = gnodes_x[gnode_id_2]\n",
    "        x3 = gnodes_x[gnode_id_3]\n",
    "        # Local node id:  0   1\n",
    "        patches.append((x1, x2, x3))\n",
    "        # Local node id:                        0           2             1\n",
    "        local_to_global_node_id_map.append([gnode_id_1, gnode_id_2,  gnode_id_3])\n",
    "    if bc_x_min == 'essential':\n",
    "        local_to_global_node_id_map[0][0] = -1\n",
    "    if bc_x_max == 'essential':\n",
    "        local_to_global_node_id_map[-1][-1] = -1\n",
    "    return (patches, gnodes_x, local_to_global_node_id_map)"
   ]
  },
  {
   "cell_type": "code",
   "execution_count": null,
   "id": "09e5da3c-a2ba-4a0f-87c5-c6c53eb20b7c",
   "metadata": {},
   "outputs": [],
   "source": [
    "'''Parent mapping'''\n",
    "def get_parent_mapping():\n",
    "    # zetta in [-1,1]\n",
    "    parent_mapping = lambda zetta, x_e_bar, h_e: x_e_bar + h_e/2*zetta # compute x\n",
    "    parent_mapping_prime = lambda h_e: h_e/2                           # compute mapping derivative wrt zetta\n",
    "    # x in Omega_e\n",
    "    inverse_parent_mapping = lambda x, x_e_bar, h_e: (x - x_e_bar)*2/h_e # compute zetta\n",
    "    return (parent_mapping, parent_mapping_prime, inverse_parent_mapping)"
   ]
  },
  {
   "cell_type": "code",
   "execution_count": null,
   "id": "d856d408-37f5-40bf-9b00-dcf03b8da7c7",
   "metadata": {},
   "outputs": [],
   "source": [
    "'''The basis functions'''\n",
    "def get_parent_basis_functions():\n",
    "    parent_basis_func_list = list()\n",
    "    parent_basis_func_prime_list = list()\n",
    "    parent_basis_func_list.append(lambda zetta: (zetta**2-zetta)/2)  # left\n",
    "    parent_basis_func_list.append(lambda zetta: -(zetta**2-1))  # middle\n",
    "    parent_basis_func_list.append(lambda zetta:  (zetta**2+zetta)/2)  # right\n",
    "    parent_basis_func_prime_list.append(lambda zetta: (2*zetta-1)/2) # left\n",
    "    parent_basis_func_prime_list.append(lambda zetta: -2*zetta) # middle\n",
    "    parent_basis_func_prime_list.append(lambda zetta:  (2*zetta+1)/2) # right\n",
    "    return (parent_basis_func_list, parent_basis_func_prime_list)"
   ]
  },
  {
   "cell_type": "code",
   "execution_count": null,
   "id": "3f865b10-cfaa-4363-a7a9-fa727c89a17a",
   "metadata": {},
   "outputs": [],
   "source": [
    "'''Again the function for the obtaining of the basis functions'''\n",
    "def global_basis_function(i, x, domain_partition, parent_mapping, parent_basis_functions):\n",
    "  \n",
    "    try:\n",
    "        len(x)\n",
    "    except TypeError:\n",
    "        x = np.array([x])\n",
    "  \n",
    "    if not isinstance(x, np.ndarray):\n",
    "       assert isinstance(x, list) or isinstance(x, tuple)\n",
    "       x = np.array(x)\n",
    "  \n",
    "    phi_i_x = np.copy(x) * 0.0 # initialization\n",
    "    phi_prime_i_x = np.copy(x) * 0.0 # initialization\n",
    "        \n",
    "    patches = domain_partition[0]\n",
    "    local_to_global_node_id_map = domain_partition[2]\n",
    "    inverse_parent_mapping = parent_mapping[2]\n",
    "    \n",
    "    parent_basis_func_list = parent_basis_functions[0]\n",
    "    parent_basis_func_prime_list = parent_basis_functions[1]\n",
    "  \n",
    "    # expensive reverse lookup\n",
    "    for j, x_j in enumerate(x):\n",
    "        for e, nodes_x in enumerate(patches):\n",
    "            if nodes_x[0] <= x_j <= nodes_x[-1]:\n",
    "                n_lnodes = len(nodes_x)\n",
    "                for I in range(n_lnodes):\n",
    "                    if local_to_global_node_id_map[e][I] == i:\n",
    "                        x_e_bar = (nodes_x[0] + nodes_x[-1])/2\n",
    "                        h_e = nodes_x[-1] - nodes_x[0]\n",
    "                        zetta = inverse_parent_mapping(x_j, x_e_bar, h_e)\n",
    "                        phi_i_x[j] = parent_basis_func_list[I](zetta)\n",
    "                        phi_prime_i_x[j] = parent_basis_func_prime_list[I](zetta)\n",
    "                break\n",
    "    return [phi_i_x, phi_prime_i_x]"
   ]
  },
  {
   "cell_type": "code",
   "execution_count": null,
   "id": "d6bc1c0e-141f-4ce0-8bcc-b5217c709beb",
   "metadata": {},
   "outputs": [],
   "source": [
    "'''All global basis functions'''\n",
    "def get_global_basis_functions(domain_partition, parent_mapping, parent_basis_functions, global_basis_function):\n",
    "    \n",
    "    basis_func_list = list()\n",
    "    basis_func_prime_list = list()\n",
    "    n_gnodes = domain_partition[1].size\n",
    "    local_to_global_node_id_map = domain_partition[2]\n",
    "    phi_i = lambda i, x: global_basis_function(i,x, domain_partition,parent_mapping,parent_basis_functions)[0]\n",
    "    phi_prime_i = lambda i, x: global_basis_function(i,x, domain_partition,parent_mapping,parent_basis_functions)[1]\n",
    "\n",
    "    visited = [False]*n_gnodes\n",
    "    for e in range(n_elem):\n",
    "        for I in range(len(local_to_global_node_id_map[e])):\n",
    "            gnode_id = local_to_global_node_id_map[e][I]\n",
    "            if gnode_id >= 0 and not visited[gnode_id]:\n",
    "                      basis_func_list.append(lambda x, i=gnode_id: phi_i(i,x))\n",
    "                      basis_func_prime_list.append(lambda x, i=gnode_id: phi_prime_i(i,x))\n",
    "                        \n",
    "                      visited[gnode_id] = True\n",
    "  \n",
    "    assert len(basis_func_list) >= 1, 'There are no basis functions to build.'\n",
    "    return [basis_func_list, basis_func_prime_list]"
   ]
  },
  {
   "cell_type": "code",
   "execution_count": null,
   "id": "a249f31f-a214-40e0-8db9-5dfaf093954a",
   "metadata": {},
   "outputs": [],
   "source": [
    "'''Pedagogical inner product'''\n",
    "def inner_product(u, v, patches):\n",
    "    integrand = lambda x: u(x) * v(x)          \n",
    "    inner_product = 0.0\n",
    "    for nodes_x in patches:\n",
    "        (inner_product_e, _) = quad(integrand, nodes_x[0], nodes_x[-1])\n",
    "        inner_product += inner_product_e\n",
    "        \n",
    "    return inner_product"
   ]
  },
  {
   "cell_type": "markdown",
   "id": "ae240bf1-4b9c-4522-b331-cc82d65b8824",
   "metadata": {},
   "source": [
    "## [Test](#toc)<a id=\"test\"></a>"
   ]
  },
  {
   "cell_type": "code",
   "execution_count": null,
   "id": "558f6539-b334-464d-bbba-174946cae389",
   "metadata": {},
   "outputs": [],
   "source": [
    "'''Parameters'''\n",
    "'''Thermal conductivity'''\n",
    "#Cond_shape_pts = [(0,31.93),(0.05,29.94)]\n",
    "Cond_shape_pts = [(0,31),(0.05,31)]\n",
    "Cond=np.array(Cond_shape_pts)\n",
    "\n",
    "f_cond=interp1d(Cond[:,0],Cond[:,1])\n",
    "\n",
    "plt.figure()\n",
    "plt.plot(np.linspace(0,0.05,200),f_cond(np.linspace(0,0.05,200)),label='Target Function')\n",
    "plt.title('Thermal Conductivity')\n",
    "plt.xlabel(\"Position along the width of the channel wall [m]\")\n",
    "plt.ylabel(\"[W/mK]\")\n",
    "plt.grid()\n",
    "plt.show()"
   ]
  },
  {
   "cell_type": "markdown",
   "id": "7b95f18d-f523-4e20-be50-7273c0eb6f45",
   "metadata": {},
   "source": [
    "The thermal conductivity graph is here to demonstrate that the value for thermal conductivty remains constant as you move between points a and b through the brick. "
   ]
  },
  {
   "cell_type": "code",
   "execution_count": null,
   "id": "c4d5cf60-83db-41f3-a83f-b302e2902dc6",
   "metadata": {},
   "outputs": [],
   "source": [
    "'''Source bias'''\n",
    "roh=4085.7\n",
    "\n",
    "V=300000\n",
    "#V=0\n",
    "L_char=0.05\n",
    "A=0.05*1\n",
    "\n",
    "#Use of points to build the source bias function\n",
    "\n",
    "Source_shape_pts = [(0,156940),(0.05,156940)]\n",
    "source=np.array(Source_shape_pts)\n",
    "\n",
    "f_sourcebias=interp1d(source[:,0],source[:,1])\n",
    "\n",
    "plt.figure()\n",
    "plt.plot(np.linspace(0,0.05,200),f_sourcebias(np.linspace(0,0.05,200)),label='Target Function')\n",
    "plt.title('Heat Generation Density')\n",
    "plt.xlabel(\"Position along the width of the channel wall [m]\")\n",
    "plt.ylabel(\"[W/m^3]\")\n",
    "plt.grid()\n",
    "plt.show()"
   ]
  },
  {
   "cell_type": "markdown",
   "id": "9c00d11e-c5da-47dc-ab96-0917a67d3d33",
   "metadata": {},
   "source": [
    "The heat generation density graph is here to demonstrate that the value for the heat generation denisty remains constant through points a and b in the brick. "
   ]
  },
  {
   "cell_type": "code",
   "execution_count": null,
   "id": "cb248c68-51f0-4677-82d9-efb9fc3d21c1",
   "metadata": {},
   "outputs": [],
   "source": [
    "'''Data (boundary conditions for testing purposes)'''\n",
    "'''Building the lift function'''\n",
    "u_a=20\n",
    "u_b=40\n",
    "\n",
    "Lift_shape_pts = [(0,u_a),(0.05,u_b)]\n",
    "Lift=np.array(Lift_shape_pts)\n",
    "f_lift=interp1d(Lift[:,0],Lift[:,1])\n",
    "\n",
    "f_prime=((u_b-u_a)/(x_max-x_min))\n",
    "Lift_prime_shape_pts = [(0,f_prime),(0.05,f_prime)]\n",
    "Lift_prime=np.array(Lift_prime_shape_pts)\n",
    "f_lift_prime=interp1d(Lift_prime[:,0],Lift_prime[:,1])\n",
    "\n",
    "plt.figure()\n",
    "plt.plot(np.linspace(0,0.05,200),f_lift(np.linspace(0,0.05,200)))\n",
    "plt.title('Heat Generation Source Lift Function')\n",
    "plt.xlabel(\"Position along the width of the channel wall [m]\")\n",
    "plt.grid()\n",
    "plt.show()\n",
    "\n",
    "plt.figure()\n",
    "plt.plot(np.linspace(0,0.05,200),f_lift_prime(np.linspace(0,0.05,200)))\n",
    "plt.title('Heat Generation Source Lift Prime Function')\n",
    "plt.xlabel(\"Position along the width of the channel wall [m]\")\n",
    "plt.grid()\n",
    "plt.show()"
   ]
  },
  {
   "cell_type": "code",
   "execution_count": null,
   "id": "5e57b288-47cd-4622-b9c7-5f0a34ad8e6c",
   "metadata": {},
   "outputs": [],
   "source": [
    "'''FEM Solution'''\n",
    "domain_partition = get_domain_partition(degree, n_elem, x_min, x_max)\n",
    "parent_mapping = get_parent_mapping()\n",
    "parent_basis_functions = get_parent_basis_functions()\n",
    "\n",
    "phi_list = get_global_basis_functions(domain_partition, parent_mapping, parent_basis_functions, global_basis_function)[0]\n",
    "phi_prime_list = get_global_basis_functions(domain_partition, parent_mapping, parent_basis_functions, global_basis_function)[1]"
   ]
  },
  {
   "cell_type": "code",
   "execution_count": null,
   "id": "e51ab128-1745-4a6f-80ee-7ad80aceaa94",
   "metadata": {},
   "outputs": [],
   "source": [
    "#Building of the A matrix\n",
    "A_mtrx = np.zeros((len(phi_list), len(phi_list)), dtype=np.float64)\n",
    "patches = domain_partition[0]\n",
    "for i in range(len(phi_list)):\n",
    "    for j in range(len(phi_list)):\n",
    "        \n",
    "        phi_i=phi_list[i]\n",
    "        phi_j=phi_list[j]\n",
    "        \n",
    "        phi_prime_i=phi_prime_list[i]\n",
    "        phi_prime_j=phi_prime_list[j]\n",
    "        \n",
    "        h_e=(x_max-x_min)/n_elem\n",
    "        \n",
    "        d_x_phi_prime_j = lambda x: f_cond(x) * ((2/h_e)*phi_prime_j(x))\n",
    "        \n",
    "        prima = lambda x: phi_prime_i(x)*(2/h_e)\n",
    "        \n",
    "        A_mtrx[i,j] = inner_product(prima, d_x_phi_prime_j, patches)"
   ]
  },
  {
   "cell_type": "code",
   "execution_count": null,
   "id": "e5c25486-6403-4408-bb4a-d98c46763a30",
   "metadata": {},
   "outputs": [],
   "source": [
    "'''Build load vector'''\n",
    "#The load vector\n",
    "b_vec = np.zeros(len(phi_list), dtype=np.float64)\n",
    "patches = domain_partition[0]\n",
    "\n",
    "for i in range(len(phi_list)):\n",
    "    phi_i=phi_list[i]\n",
    "    phi_prime_i=phi_prime_list[i]\n",
    "    \n",
    "    b_vec[i] = inner_product(f_sourcebias, phi_i, patches)\n",
    "    \n",
    "    first_term = lambda x: f_lift_prime(x)*f_cond(x)\n",
    "    phi_prima_i = lambda x: phi_prime_i(x)*(2/h_e)\n",
    "    \n",
    "    b_vec[i] -= inner_product(first_term, phi_prima_i, patches)"
   ]
  },
  {
   "cell_type": "code",
   "execution_count": null,
   "id": "5701f3aa-8a70-4c86-810b-3d2b762cdb12",
   "metadata": {},
   "outputs": [],
   "source": [
    "'''Build load vector'''\n",
    "#The load vector\n",
    "b_vec = np.zeros(len(phi_list), dtype=np.float64)\n",
    "patches = domain_partition[0]\n",
    "\n",
    "for i in range(len(phi_list)):\n",
    "    phi_i=phi_list[i]\n",
    "    phi_prime_i=phi_prime_list[i]\n",
    "    \n",
    "    b_vec[i] = inner_product(f_sourcebias, phi_i, patches)\n",
    "    \n",
    "    first_term = lambda x: f_lift_prime(x)*f_cond(x)\n",
    "    phi_prima_i = lambda x: phi_prime_i(x)*(2/h_e)\n",
    "    \n",
    "    b_vec[i] -= inner_product(first_term, phi_prima_i, patches)"
   ]
  },
  {
   "cell_type": "code",
   "execution_count": null,
   "id": "95eb897a-1767-4974-994e-bac747a7b3e4",
   "metadata": {},
   "outputs": [],
   "source": [
    "'''Solution'''\n",
    "'''Compute optimal coefficient vector'''\n",
    "c_star_vec = np.linalg.solve(A_mtrx, b_vec)\n",
    "\n",
    "'''Plot comparison of f and g_best_vec'''\n",
    "def u_star(x):\n",
    "    g_x=f_lift(x)\n",
    "    for (j,phi_i) in enumerate(phi_list):\n",
    "        g_x=g_x+(c_star_vec[j])*phi_i(x)\n",
    "    return g_x\n",
    "\n",
    "def u_star_prime(x):\n",
    "    g_x=f_lift_prime(x)\n",
    "    for j in range(len(phi_list)):\n",
    "        g_x=g_x+(c_star_vec[j])*((2/h_e)*phi_prime_list[j](x))\n",
    "    return g_x\n",
    "\n",
    "plt.figure()\n",
    "plt.plot(np.linspace(x_min,x_max,2000),u_star(np.linspace(x_min,x_max,2000)),label='Rayleigh-Ritz solution')\n",
    "\n",
    "#plt.plot(np.linspace(x_min,x_max,2000),sol(np.linspace(x_min,x_max,2000)),label='Analytic solution')\n",
    "plt.title('Solutions with Dirichlet BC, constant source and conductivity')\n",
    "plt.xlabel(\"Position aling the width of the channel wall [m]\")\n",
    "plt.ylabel(\"Temperature [°C]\")\n",
    "plt.legend()\n",
    "plt.grid()\n",
    "plt.show()\n",
    "\n",
    "print('The value of the function at the leftmost end of the domain is: %4.2f [°C].'%u_star(x_min))\n",
    "print('The value of the function at the rightmost end of the domain is: %4.2f [°C].'%u_star(x_max))\n",
    "\n",
    "#Plotting the flux\n",
    "plt.figure()\n",
    "plt.plot(np.linspace(x_min,x_max,2000),-f_cond(np.linspace(x_min,x_max,2000))*u_star_prime((np.linspace(x_min,x_max,2000))),label='Rayleigh-Ritz solution')\n",
    "plt.xlabel(\"Position along the width of the channel wall [m]\")\n",
    "plt.ylabel(\"Heat flux [W/m2]\")\n",
    "plt.legend()\n",
    "plt.grid()\n",
    "plt.show()\n",
    "\n",
    "'''Flux at boundary'''\n",
    "print('q_na computed = ', -f_cond(x_min)*u_star_prime(x_min))\n",
    "print('q_nb computed = ', -f_cond(x_max)*u_star_prime(x_max))"
   ]
  }
 ],
 "metadata": {
  "kernelspec": {
   "display_name": "Python 3 (ipykernel)",
   "language": "python",
   "name": "python3"
  },
  "language_info": {
   "codemirror_mode": {
    "name": "ipython",
    "version": 3
   },
   "file_extension": ".py",
   "mimetype": "text/x-python",
   "name": "python",
   "nbconvert_exporter": "python",
   "pygments_lexer": "ipython3",
   "version": "3.11.5"
  }
 },
 "nbformat": 4,
 "nbformat_minor": 5
}
