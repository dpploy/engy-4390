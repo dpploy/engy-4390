{
 "cells": [
  {
   "cell_type": "markdown",
   "id": "c2e2c819-5feb-4378-bfde-1e458e0c2fca",
   "metadata": {},
   "source": [
    "**Engy-4390** Nuclear Systems Design and Analysis, UMass Lowell, Chem. Eng. Nuclear Program Fall 2024; Prof. V. F. de Almeida\n",
    "\n",
    "# Discussion On Test Four"
   ]
  },
  {
   "cell_type": "markdown",
   "id": "7b748563-16f0-49fe-b62b-70cce434b8be",
   "metadata": {},
   "source": [
    "**Student(s):**  Kyle Mills and Billy Manco and Donaita Anglade <br>\n",
    "**Course:** Engy-4390: Nuclear Systems Design and Analysis  <br>\n",
    "**Mentor and Collaborator:** Subash Sharma\n",
    "\n",
    "UMass Lowell, Dept. of Chemical Engineering, Nuclear Energy Program \n",
    "<br>\n",
    "**21 Oct 2024**"
   ]
  },
  {
   "cell_type": "markdown",
   "id": "4aab8e81-4d64-404b-b6df-a305ebcb6b10",
   "metadata": {},
   "source": [
    "---\n",
    "## Table of Contents<a id=\"toc\"></a>\n",
    "* [Definitions](#defs)\n",
    "* [Setup](#setup)\n",
    "* [Test](#test)\n",
    "---"
   ]
  },
  {
   "cell_type": "markdown",
   "id": "a6eaf777-e6e5-4cf0-9c10-5e0d68f974e1",
   "metadata": {},
   "source": [
    "## [Definition of the necessary functions](#toc)<a id=\"defs\"></a>"
   ]
  },
  {
   "cell_type": "markdown",
   "id": "b54a8b6d-ea7a-4788-a2e4-944796e777a5",
   "metadata": {},
   "source": [
    "## [Setup](#toc)<a id=\"setup\"></a>"
   ]
  },
  {
   "cell_type": "code",
   "execution_count": null,
   "id": "71961e9d-9eda-46ef-be65-0e972eb60354",
   "metadata": {},
   "outputs": [],
   "source": [
    "'''Generate the target function f'''\n",
    "import matplotlib.pyplot as plt\n",
    "import math as m\n",
    "import numpy as np\n",
    "import pandas as pd\n",
    "from scipy.interpolate import interp1d\n",
    "from scipy.integrate import quad"
   ]
  },
  {
   "cell_type": "code",
   "execution_count": null,
   "id": "48d31990-652f-4163-b6c6-3755035e0140",
   "metadata": {},
   "outputs": [],
   "source": [
    "'''Domain'''\n",
    "'''Rayleigh Ritz Method with Lagrange FE Basis Functions'''\n",
    "x_min=0\n",
    "x_max=0.05\n",
    "\n",
    "degree = 2  #Degree of the lagrange polinomials used\n",
    "n_elem = 10 #Number of elements used"
   ]
  },
  {
   "cell_type": "code",
   "execution_count": null,
   "id": "454482ba-5d29-4b91-924c-419ac8ed751e",
   "metadata": {},
   "outputs": [],
   "source": [
    "'''Domain partition'''\n",
    "def get_domain_partition(degree, n_elem, x_min, x_max, bc_x_min='essential', bc_x_max='essential'):\n",
    "    #assert degree == 1\n",
    "    # Local node numbering on parent domain\n",
    "    # --0--------------1---->\n",
    "    #  -1      0      +1    zetta\n",
    "    gnodes_x = np.linspace(x_min, x_max, n_elem*degree+1, dtype=np.float64)\n",
    "    patches = list()\n",
    "    local_to_global_node_id_map = list()\n",
    "    for e in range(n_elem):\n",
    "        gnode_id_1 = degree*e   #left\n",
    "        gnode_id_2 = degree*e+1 #center\n",
    "        gnode_id_3 = degree*e+2 #right\n",
    "        x1 = gnodes_x[gnode_id_1]\n",
    "        x2 = gnodes_x[gnode_id_2]\n",
    "        x3 = gnodes_x[gnode_id_3]\n",
    "        # Local node id:  0   1\n",
    "        patches.append((x1, x2, x3))\n",
    "        # Local node id:                        0           2             1\n",
    "        local_to_global_node_id_map.append([gnode_id_1, gnode_id_2,  gnode_id_3])\n",
    "    if bc_x_min == 'essential':\n",
    "        local_to_global_node_id_map[0][0] = -1\n",
    "    if bc_x_max == 'essential':\n",
    "        local_to_global_node_id_map[-1][-1] = -1\n",
    "    return (patches, gnodes_x, local_to_global_node_id_map)"
   ]
  },
  {
   "cell_type": "code",
   "execution_count": null,
   "id": "5c6e065e-c2c7-459e-a061-73c47d96103c",
   "metadata": {},
   "outputs": [],
   "source": [
    "'''Parent mapping'''\n",
    "def get_parent_mapping():\n",
    "    # zetta in [-1,1]\n",
    "    parent_mapping = lambda zetta, x_e_bar, h_e: x_e_bar + h_e/2*zetta # compute x\n",
    "    parent_mapping_prime = lambda h_e: h_e/2                           # compute mapping derivative wrt zetta\n",
    "    # x in Omega_e\n",
    "    inverse_parent_mapping = lambda x, x_e_bar, h_e: (x - x_e_bar)*2/h_e # compute zetta\n",
    "    return (parent_mapping, parent_mapping_prime, inverse_parent_mapping)"
   ]
  },
  {
   "cell_type": "code",
   "execution_count": null,
   "id": "9cafd1c8-0cd1-4530-bf6b-78a3d6f1d172",
   "metadata": {},
   "outputs": [],
   "source": [
    "'''The basis functions'''\n",
    "def get_parent_basis_functions():\n",
    "    parent_basis_func_list = list()\n",
    "    parent_basis_func_prime_list = list()\n",
    "    parent_basis_func_list.append(lambda zetta: (zetta**2-zetta)/2)  # left\n",
    "    parent_basis_func_list.append(lambda zetta: -(zetta**2-1))  # middle\n",
    "    parent_basis_func_list.append(lambda zetta:  (zetta**2+zetta)/2)  # right\n",
    "    parent_basis_func_prime_list.append(lambda zetta: (2*zetta-1)/2) # left\n",
    "    parent_basis_func_prime_list.append(lambda zetta: -2*zetta) # middle\n",
    "    parent_basis_func_prime_list.append(lambda zetta:  (2*zetta+1)/2) # right\n",
    "    return (parent_basis_func_list, parent_basis_func_prime_list)"
   ]
  },
  {
   "cell_type": "code",
   "execution_count": null,
   "id": "44ae6374-4cf2-4520-af4f-0a9c2af36949",
   "metadata": {},
   "outputs": [],
   "source": [
    "'''Again the function for the obtaining of the basis functions'''\n",
    "def global_basis_function(i, x, domain_partition, parent_mapping, parent_basis_functions):\n",
    "  \n",
    "    try:\n",
    "        len(x)\n",
    "    except TypeError:\n",
    "        x = np.array([x])\n",
    "  \n",
    "    if not isinstance(x, np.ndarray):\n",
    "       assert isinstance(x, list) or isinstance(x, tuple)\n",
    "       x = np.array(x)\n",
    "  \n",
    "    phi_i_x = np.copy(x) * 0.0 # initialization\n",
    "    phi_prime_i_x = np.copy(x) * 0.0 # initialization\n",
    "        \n",
    "    patches = domain_partition[0]\n",
    "    local_to_global_node_id_map = domain_partition[2]\n",
    "    inverse_parent_mapping = parent_mapping[2]\n",
    "    \n",
    "    parent_basis_func_list = parent_basis_functions[0]\n",
    "    parent_basis_func_prime_list = parent_basis_functions[1]\n",
    "  \n",
    "    # expensive reverse lookup\n",
    "    for j, x_j in enumerate(x):\n",
    "        for e, nodes_x in enumerate(patches):\n",
    "            if nodes_x[0] <= x_j <= nodes_x[-1]:\n",
    "                n_lnodes = len(nodes_x)\n",
    "                for I in range(n_lnodes):\n",
    "                    if local_to_global_node_id_map[e][I] == i:\n",
    "                        x_e_bar = (nodes_x[0] + nodes_x[-1])/2\n",
    "                        h_e = nodes_x[-1] - nodes_x[0]\n",
    "                        zetta = inverse_parent_mapping(x_j, x_e_bar, h_e)\n",
    "                        phi_i_x[j] = parent_basis_func_list[I](zetta)\n",
    "                        phi_prime_i_x[j] = parent_basis_func_prime_list[I](zetta)\n",
    "                break\n",
    "    return [phi_i_x, phi_prime_i_x]"
   ]
  },
  {
   "cell_type": "code",
   "execution_count": null,
   "id": "bcd9229f-e287-4dd7-8455-cd7e19b5a124",
   "metadata": {},
   "outputs": [],
   "source": [
    "'''All global basis functions'''\n",
    "def get_global_basis_functions(domain_partition, parent_mapping, parent_basis_functions, global_basis_function):\n",
    "    \n",
    "    basis_func_list = list()\n",
    "    basis_func_prime_list = list()\n",
    "    n_gnodes = domain_partition[1].size\n",
    "    local_to_global_node_id_map = domain_partition[2]\n",
    "    phi_i = lambda i, x: global_basis_function(i,x, domain_partition,parent_mapping,parent_basis_functions)[0]\n",
    "    phi_prime_i = lambda i, x: global_basis_function(i,x, domain_partition,parent_mapping,parent_basis_functions)[1]\n",
    "\n",
    "    visited = [False]*n_gnodes\n",
    "    for e in range(n_elem):\n",
    "        for I in range(len(local_to_global_node_id_map[e])):\n",
    "            gnode_id = local_to_global_node_id_map[e][I]\n",
    "            if gnode_id >= 0 and not visited[gnode_id]:\n",
    "                      basis_func_list.append(lambda x, i=gnode_id: phi_i(i,x))\n",
    "                      basis_func_prime_list.append(lambda x, i=gnode_id: phi_prime_i(i,x))\n",
    "                        \n",
    "                      visited[gnode_id] = True\n",
    "  \n",
    "    assert len(basis_func_list) >= 1, 'There are no basis functions to build.'\n",
    "    return [basis_func_list, basis_func_prime_list]"
   ]
  },
  {
   "cell_type": "code",
   "execution_count": null,
   "id": "2aad8225-a3b0-4ec6-9b19-6da3e6751273",
   "metadata": {},
   "outputs": [],
   "source": [
    "'''Pedagogical inner product'''\n",
    "def inner_product(u, v, patches):\n",
    "    integrand = lambda x: u(x) * v(x)          \n",
    "    inner_product = 0.0\n",
    "    for nodes_x in patches:\n",
    "        (inner_product_e, _) = quad(integrand, nodes_x[0], nodes_x[-1])\n",
    "        inner_product += inner_product_e\n",
    "        \n",
    "    return inner_product"
   ]
  },
  {
   "cell_type": "markdown",
   "id": "8bf1129f-3599-409b-a20a-af15fd40b67f",
   "metadata": {},
   "source": [
    "## [Test](#toc)<a id=\"test\"></a>"
   ]
  },
  {
   "cell_type": "code",
   "execution_count": null,
   "id": "c2bbb166-b780-4b6b-ac29-903dad9ebdc1",
   "metadata": {},
   "outputs": [],
   "source": [
    "'''Thermal conductivity'''\n",
    "#Cond_shape_pts = [(0,31.93),(0.05,29.94)]\n",
    "tc_pts = [(0,31),(0.05,31)] #thermal conductivity between the two channels \n",
    "therm_cond=np.array(tc_pts) \n",
    "\n",
    "k_cond=interp1d(therm_cond[:,0],therm_cond[:,1])\n",
    "\n",
    "plt.figure()\n",
    "plt.plot(np.linspace(0,0.05,200),k_cond(np.linspace(0,0.05,200)),label='Target Function')\n",
    "plt.title('Thermal Conductivity') \n",
    "plt.xlabel(\"Position along the width of the channel wall [m]\")\n",
    "plt.ylabel(\"K [W/mK]\") \n",
    "plt.grid()\n",
    "plt.show()"
   ]
  },
  {
   "cell_type": "code",
   "execution_count": null,
   "id": "635f83be-835b-487f-9ad1-e1c9729e50fd",
   "metadata": {},
   "outputs": [],
   "source": [
    "'''Source bias'''\n",
    "#Use of points to build f(x) \n",
    "#Using constant heat generation \n",
    "\n",
    "heat_gen_pts = [(0,156940),(0.05,156940)] #Values of heat generation across the domain \n",
    "heat_source=np.array(heat_gen_pts)\n",
    "\n",
    "func_x=interp1d(heat_source[:,0],heat_source[:,1])\n",
    "\n",
    "plt.figure()\n",
    "plt.plot(np.linspace(0,0.05,200),func_x(np.linspace(0,0.05,200)),label='Target Function')\n",
    "plt.title('Values for f(x)') \n",
    "plt.xlabel(\"Position along the width of the channel wall [m]\") \n",
    "plt.ylabel(\"Heat Generation Density [W/m^3]\") \n",
    "plt.grid()\n",
    "plt.show()"
   ]
  },
  {
   "cell_type": "code",
   "execution_count": null,
   "id": "e5dae271-c3fe-4912-aa00-dbc92dd19d3d",
   "metadata": {},
   "outputs": [],
   "source": [
    "'''FEM Solution'''\n",
    "'''Domain partition'''\n",
    "def get_domain_partition(degree, n_elem, x_min, x_max, bc_x_min='flux', bc_x_max='flux'):\n",
    "    #assert degree == 1\n",
    "    # Local node numbering on parent domain\n",
    "    # --0--------------1---->\n",
    "    #  -1      0      +1    zetta\n",
    "    gnodes_x = np.linspace(x_min, x_max, n_elem*degree+1, dtype=np.float64)\n",
    "    patches = list()\n",
    "    local_to_global_node_id_map = list()\n",
    "    for e in range(n_elem):\n",
    "        gnode_id_1 = degree*e   #left\n",
    "        gnode_id_2 = degree*e+1 #center\n",
    "        gnode_id_3 = degree*e+2 #right\n",
    "        x1 = gnodes_x[gnode_id_1]\n",
    "        x2 = gnodes_x[gnode_id_2]\n",
    "        x3 = gnodes_x[gnode_id_3]\n",
    "        # Local node id:  0   1\n",
    "        patches.append((x1, x2, x3))\n",
    "        # Local node id:                        0           2             1\n",
    "        local_to_global_node_id_map.append([gnode_id_1, gnode_id_2,  gnode_id_3])\n",
    "    if bc_x_min == 'essential':\n",
    "        local_to_global_node_id_map[0][0] = -1\n",
    "    if bc_x_max == 'essential':\n",
    "        local_to_global_node_id_map[-1][-1] = -1\n",
    "    return (patches, gnodes_x, local_to_global_node_id_map)\n",
    "\n",
    "domain_partition = get_domain_partition(degree, n_elem, x_min, x_max)\n",
    "parent_mapping = get_parent_mapping()\n",
    "parent_basis_functions = get_parent_basis_functions()\n",
    "\n",
    "phi_list = get_global_basis_functions(domain_partition, parent_mapping, parent_basis_functions, global_basis_function)[0]\n",
    "phi_prime_list = get_global_basis_functions(domain_partition, parent_mapping, parent_basis_functions, global_basis_function)[1]"
   ]
  },
  {
   "cell_type": "code",
   "execution_count": null,
   "id": "ebdd2de9-6fea-4e73-b1e3-3d8e2fca2063",
   "metadata": {},
   "outputs": [],
   "source": [
    "#Building of the A matrix\n",
    "A_mtrx = np.zeros((len(phi_list), len(phi_list)), dtype=np.float64)\n",
    "patches = domain_partition[0]\n",
    "for i in range(len(phi_list)):\n",
    "    for j in range(len(phi_list)):\n",
    "        \n",
    "        phi_i=phi_list[i]\n",
    "        phi_j=phi_list[j]\n",
    "        \n",
    "        phi_prime_i=phi_prime_list[i]\n",
    "        phi_prime_j=phi_prime_list[j]\n",
    "        \n",
    "        h_e=(x_max-x_min)/n_elem\n",
    "        \n",
    "        d_x_phi_prime_j = lambda x: f_cond(x) * ((2/h_e)*phi_prime_j(x))\n",
    "        \n",
    "        prima = lambda x: phi_prime_i(x)*(2/h_e)\n",
    "        \n",
    "        A_mtrx[i,j] = inner_product(prima, d_x_phi_prime_j, patches) + h*phi_i(x_min)*phi_j(x_min) + h*phi_i(x_max)*phi_j(x_max)"
   ]
  },
  {
   "cell_type": "code",
   "execution_count": null,
   "id": "07671496-6a3b-40f4-bbb8-2c0324354bf6",
   "metadata": {},
   "outputs": [],
   "source": [
    "'''Build load vector'''\n",
    "#The load vector\n",
    "b_vec = np.zeros(len(phi_list), dtype=np.float64)\n",
    "patches = domain_partition[0]\n",
    "\n",
    "for i in range(len(phi_list)):\n",
    "    phi_i=phi_list[i]\n",
    "    phi_prime_i=phi_prime_list[i]\n",
    "    \n",
    "    b_vec[i] = inner_product(f_sourcebias, phi_i, patches)-h*(f_lift(x_max)-u_b)*phi_i(x_max)-h*(f_lift(x_min)-u_a)*phi_i(x_min)\n",
    "    \n",
    "    first_term = lambda x: f_lift_prime(x)*f_cond(x)\n",
    "    phi_prima_i = lambda x: phi_prime_i(x)*(2/h_e)\n",
    "    \n",
    "    b_vec[i] -= inner_product(first_term, phi_prima_i, patches)"
   ]
  },
  {
   "cell_type": "code",
   "execution_count": null,
   "id": "38df56e8-0dda-43e0-bc27-9a3236346aff",
   "metadata": {},
   "outputs": [],
   "source": [
    "'''Solution'''\n",
    "'''Compute optimal coefficient vector'''\n",
    "c_star_vec = np.linalg.solve(A_mtrx, b_vec)\n",
    "\n",
    "plt.figure()\n",
    "plt.plot(np.linspace(x_min,x_max,2000),u_star(np.linspace(x_min,x_max,2000)),label='Rayleigh-Ritz solution')\n",
    "#plt.plot(np.linspace(x_min,x_max,2000),sol(np.linspace(x_min,x_max,2000)),label='Analytic solution')\n",
    "plt.xlabel(\"Position aling the width of the channel wall [m]\")\n",
    "plt.ylabel(\"Temperature [°C]\")\n",
    "plt.title('Solutions with Robin BC, variable source')\n",
    "plt.legend()\n",
    "plt.grid()\n",
    "plt.show()\n",
    "\n",
    "print('The value of the function at the leftmost end of the domain is: %4.2f [°C].'%u_star(x_min))\n",
    "print('The value of the function at the rightmost end of the domain is: %4.2f [°C].'%u_star(x_max))\n",
    "\n",
    "\n",
    "#Plotting the flux\n",
    "plt.figure()\n",
    "plt.plot(np.linspace(x_min,x_max,2000),-f_cond(np.linspace(x_min,x_max,2000))*u_star_prime((np.linspace(x_min,x_max,2000))),label='Rayleigh Ritz solution')\n",
    "plt.xlabel(\"Position along the width of the channel wall [m]\")\n",
    "plt.ylabel(\"Heat flux [W/m2]\")\n",
    "plt.legend()\n",
    "plt.title('Solutions with Robin BC, variable source')\n",
    "plt.grid()\n",
    "plt.show()\n",
    "\n",
    "#print(sol(np.linspace(x_min,x_max,2000)))\n",
    "\n",
    "'''Flux at boundary'''\n",
    "print('q_na computed = ', -f_cond(x_min)*u_star_prime(x_min))\n",
    "print('q_nb computed = ', -f_cond(x_max)*u_star_prime(x_max))\n",
    "#print('q_nb given    = ', q_nb)\n",
    "#print('flux error [%]= ',(-f_cond(x_max)*g_prime(x_max) - q_nb)/q_nb*100)"
   ]
  }
 ],
 "metadata": {
  "kernelspec": {
   "display_name": "Python 3 (ipykernel)",
   "language": "python",
   "name": "python3"
  },
  "language_info": {
   "codemirror_mode": {
    "name": "ipython",
    "version": 3
   },
   "file_extension": ".py",
   "mimetype": "text/x-python",
   "name": "python",
   "nbconvert_exporter": "python",
   "pygments_lexer": "ipython3",
   "version": "3.11.5"
  }
 },
 "nbformat": 4,
 "nbformat_minor": 5
}
