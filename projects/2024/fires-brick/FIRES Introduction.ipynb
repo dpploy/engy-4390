{
 "cells": [
  {
   "cell_type": "markdown",
   "id": "6a95a54c-cb86-4f1a-8b9e-3b2634da9a9a",
   "metadata": {},
   "source": [
    "**Engy-4390** Nuclear Systems Design and Analysis, UMass Lowell, Chem. Eng. Nuclear Program Fall 2024; Prof. V. F. de Almeida\n",
    "\n",
    "# Introduction to the FIRES Project"
   ]
  },
  {
   "cell_type": "markdown",
   "id": "b8a46b67-51ba-4fea-838a-38c904dc1751",
   "metadata": {},
   "source": [
    "**Student(s):**  Kyle Mills and Billy Manco and Donaita Anglade <br>\n",
    "**Course:** Engy-4390: Nuclear Systems Design and Analysis  <br>\n",
    "**Mentor and Collaborator:** Subash Sharma\n",
    "\n",
    "UMass Lowell, Dept. of Chemical Engineering, Nuclear Energy Program \n",
    "<br>\n",
    "**17 Oct 24**"
   ]
  },
  {
   "cell_type": "markdown",
   "id": "e2edda3c-e507-4036-aa56-8c47d29ff400",
   "metadata": {},
   "source": [
    "---\n",
    "## Table of Contents<a id=\"toc\"></a>\n",
    "* [Introduction](#intro)\n",
    "* [Problem Statement](#problem)\n",
    "* [Temperature](#temp)"
   ]
  },
  {
   "cell_type": "markdown",
   "id": "d116d8f8-4ed8-447b-8913-26a06bab4f68",
   "metadata": {},
   "source": [
    "## [Introduction](#toc)<a id=\"intro\"></a>"
   ]
  },
  {
   "cell_type": "markdown",
   "id": "0c8f0b77-8317-4f81-99b5-fd9c27cee4f4",
   "metadata": {},
   "source": [
    "This report will be about an investigation into the testing of a more viable material option for constructing high-temperature firebrick resistance-heated enerfy storage (FIRES). We are planning reviewing three different materials. Chromium Dioxide, Nickle Oxide and finally Magnisium Oxide. These materials will then be compared with Aluminium Oxide as well as go through similar tests. Air is the primary carrier for removal of heat in the system but other carriers can also be investigated. \n",
    "\n",
    "FIRES bricks is a heated thermal energy storage device. The system works by having a large mass of heat-resistant bricks and an electrical heating system. Then a blower that uses air to remove heat through convection. This hot air is then used in applications where heat is required. "
   ]
  },
  {
   "cell_type": "markdown",
   "id": "b8e9c1ef-a14c-47c5-99c3-2e0024e4fea6",
   "metadata": {},
   "source": [
    "## [Problem Statement](#toc)<a id=\"problem\"></a>"
   ]
  },
  {
   "cell_type": "markdown",
   "id": "cded385e-c99d-4691-99ee-86959d969c57",
   "metadata": {},
   "source": [
    "The primary problem that is being investigated for this project is a Poisson problem. The origin of which comes from looking at how heat is transfered through a fluid flowing through holes in a FIRES brick. The model of the Poisson problem is as followed: \n",
    "\n",
    "\\begin{align*}\n",
    " -\\bigl(-k(x)\\, u'\\bigr)'(x) + f(x) &= 0 \\quad\\quad \\forall \\quad\\quad x\\in [a,b], \\\\\n",
    " q_n(a) &= h\\,\\bigl(u(a)-u_\\text{ref}\\bigr)., \\\\\n",
    " q_n(b) &= h\\,\\bigl(u(b)-u_\\text{ref}\\bigr).\n",
    "\\end{align*}\n",
    "\n",
    "Where: \n",
    "u(x) is the temperature distribution.\n",
    "k(x) is the thermal conductivity, which may vary with \n",
    "f(x) is a heat source term.\n",
    "\n",
    "This equation states that the rate of heat diffusion plus the heat source itself is equal to zero, meaning the system is running continously at steady state. THe boundary conditions therefore tell us that the heat flux is proportual to the difference in temprature u(a) and u(b) and the refrence temperature. \n",
    "\n",
    "THe model used to visualize these bricks inovles constructing bricks that have several long holes for air to flow through. These will havea 5 cm thickness, as such the domain for modeling the heat profile of the bricks can be modeled with: \n",
    "\n",
    "\\begin{align*}\n",
    "x\\in [0,0.05]\n",
    "\\end{align*}"
   ]
  },
  {
   "cell_type": "markdown",
   "id": "cf7b009d-352d-4033-86ee-d4bc6e51f52c",
   "metadata": {},
   "source": [
    "## [Developing Temperature](#toc)<a id=\"temp\"></a>"
   ]
  },
  {
   "cell_type": "markdown",
   "id": "c8e017c8-c33e-45a9-b3c4-9174ba90f3ec",
   "metadata": {},
   "source": [
    "The reference temperature (represented above by $u_\\text{ref}$) would be the ambient temperature of air. For a problem with the same temperature at both ends, we would have a temperature of 20 degrees celsius cooling the wall of the bricks at both ends.\n",
    "\n",
    "\\begin{align*}\n",
    " T_{ref} &= 20\\; [°C] \\\\\n",
    "\\end{align*}\n",
    "\n",
    "We want, however, to introduce some level of asymmetry to the problem since the main reason why there coud be thermal runway in the system is due to the bricks heating up unevenly. While we've already said that the modeling of the thermal runway will not be done here on the project, we can still introduce a very preliminary form of this by using RobinBC, but with the reference temperatures being different at both ends of the domain. We choose to do this with a 20 degrees difference in the temperatures:\n",
    "\n",
    "\\begin{align*}\n",
    " T_{ref,a} &= 20\\; [°C] \\\\\n",
    " T_{ref,b} &= 40\\; [°C] \\\\\n",
    "\\end{align*}\n",
    "\n",
    "The heat transfer coefficient will depend on the speed of the air being channeled through the bricks. However, even when the bricks are used to store energy instead of returning (that is, with the air being stagnant), the heat transfer coefficient will take on a positive value. Stack himself uses the following value for the coefficient with stagnant air in his *Applied Energy* paper:\n",
    "\n",
    "\\begin{align*}\n",
    " h &= 10\\; \\left [ \\frac{W}{m^{2}K} \\right ] \\\\\n",
    "\\end{align*}\n",
    "\n",
    "What we have to define now are the functions for the thermal conductivity and the source. For the thermal conductivity, we used values found in Shackleford's *CRC Materials Science and Engineering Handbook*, plotted them in Excel and found a fitting polynomial function for the values of temperature. We obtained the following function:\n",
    "\n",
    "\\begin{align*}\n",
    " k(T) &= (2,49E-5)\\cdot T^{2}-0,05875 \\cdot T +40,85\\; \\left [ \\frac{W}{mK} \\right ]  \\\\\n",
    "\\end{align*}\n",
    "\n",
    "We might make the conductivity dependant on temperature in the future. As for now, we can't make it dependent on the temperature, so an aproximation of this will necessarilly be imperfect, since the value of the temperature is needed to know the value of the conductivity and that of the conductivity is needed for the temperature. We don't know the values of the temperature at the ends of the domain, even. A first approximation of the value of the conductivity will be of it as a linear function, with the values at the end being those that the thermal conductivity takes at the reference temperatures at the ends of the domain.\n",
    "\n",
    "\\begin{align*}\n",
    " k(T_{ref,a}) &= 25,777\\; \\left [ \\frac{W}{mK} \\right ]  \\\\\n",
    " k(T_{ref,b}) &= 24,903\\; \\left [ \\frac{W}{mK} \\right ]  \\\\\n",
    "\\end{align*}\n",
    "\n",
    "The function for the conductivity dependent on the position will be of this form:\n",
    "\n",
    "\\begin{align*}\n",
    " k(x) &= 25,777-17,469 \\cdot x \\; \\left [ \\frac{W}{mK} \\right ]  \\\\\n",
    "\\end{align*}\n",
    "\n",
    "We were extremely close to implementing this function in our MOOSE code. Due to us running out of time, however, we were forced to instead use a constant value for the thermal conductivity:\n",
    "\n",
    "\\begin{align*}\n",
    " k &= 31 \\; \\left [ \\frac{W}{mK} \\right ]  \\\\\n",
    "\\end{align*}\n",
    "\n",
    "With regards to the heat source. The value of the generated heat will be given by Joule's Law. The formula is presented in the *Applied Energy* paper as follows:\n",
    "\n",
    "\\begin{align*}\n",
    "F\\left (x \\right )=\\dot{e}_{gen}=\\frac{AV^{2}}{  L_{char} \\rho }\n",
    "\\end{align*}\n",
    "\n",
    "We need, however, a value for the density of the generated heat, which will be obtained by taking the formula presented above and dividing it by a unit of volume, which in this case would be a product of the transversal area and the characteristic length that Stack postulated in his paper. The formula, then, is as follows:\n",
    "\n",
    "\\begin{align*}\n",
    "f\\left (x \\right ) = \\frac{V^{2}}{  L_{char}^{2} \\rho }\n",
    "\\end{align*}\n",
    "\n",
    "The characteristic length being defined in the same paper as with a value of 5 cm:\n",
    "\n",
    "\\begin{align*}\n",
    "L_{char} = 0,05 \\left [ m \\right ]\n",
    "\\end{align*}\n",
    "\n",
    "The value of rho (electrical resistivity) in the formula is approximated in the same way as we did for that of thermal conductivity. We first oftain the following temperature-dependent formula:\n",
    "\n",
    "\\begin{align*}\n",
    "\\rho (T) &= (4,66E7)\\cdot T^{2}-(9,86E10) \\cdot T +(5,04E13)\\; \\left [ \\Omega m \\right ]  \\\\\n",
    "\\end{align*}\n",
    "\n",
    "And one can evaluate the heat generating function with the . There is still the question of which value we should use for the voltage difference, however, and this is something we have absolutely no info on. Daniel Stack doesn't specify a value for the voltage either in his thesis or in the *Applied Energy* paper, and we have no antecedents of the voltage values to be used in this particular application. The value of the voltage being easily changeable, however, we can just introduce values to get some results for the sake of the project, and to have some interesting results to show. For this project, then, the value of the voltage difference in the resistor bricks will be the following:\n",
    "\n",
    "\\begin{align*}\n",
    "V = 100 \\left [ MV \\right ]\n",
    "\\end{align*}\n",
    "\n",
    "And for this, the value of the source at the ends of the domain is as follows:\n",
    "\n",
    "\\begin{align*}\n",
    " f_{s}(T_{ref,a}) &= 156940\\; \\left [ \\frac{W}{m^{3}} \\right ]  \\\\\n",
    " f_{s}(T_{ref,b}) &= 166117\\; \\left [ \\frac{W}{m^{3}} \\right ]  \\\\\n",
    "\\end{align*}\n",
    "\n",
    "This again we can approximate as a linear position-dependent function, and we obtain:\n",
    "\n",
    "\\begin{align*}\n",
    "f(x) &= 156940+185543 \\cdot x \\; \\left [ \\frac{W}{m^{3}} \\right ]  \\\\\n",
    "\\end{align*}"
   ]
  }
 ],
 "metadata": {
  "kernelspec": {
   "display_name": "Python 3 (ipykernel)",
   "language": "python",
   "name": "python3"
  },
  "language_info": {
   "codemirror_mode": {
    "name": "ipython",
    "version": 3
   },
   "file_extension": ".py",
   "mimetype": "text/x-python",
   "name": "python",
   "nbconvert_exporter": "python",
   "pygments_lexer": "ipython3",
   "version": "3.11.5"
  }
 },
 "nbformat": 4,
 "nbformat_minor": 5
}
