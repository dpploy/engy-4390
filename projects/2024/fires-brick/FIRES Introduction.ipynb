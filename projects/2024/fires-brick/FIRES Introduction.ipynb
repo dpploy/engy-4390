{
 "cells": [
  {
   "cell_type": "markdown",
   "id": "6a95a54c-cb86-4f1a-8b9e-3b2634da9a9a",
   "metadata": {},
   "source": [
    "**Engy-4390** Nuclear Systems Design and Analysis, UMass Lowell, Chem. Eng. Nuclear Program Fall 2024; Prof. V. F. de Almeida\n",
    "\n",
    "# Introduction to the FIRES Project"
   ]
  },
  {
   "cell_type": "markdown",
   "id": "b8a46b67-51ba-4fea-838a-38c904dc1751",
   "metadata": {},
   "source": [
    "**Student(s):**  Kyle Mills and Billy Manco and Donaita Anglade <br>\n",
    "**Course:** Engy-4390: Nuclear Systems Design and Analysis  <br>\n",
    "**Mentor and Collaborator:** Subash Sharma\n",
    "\n",
    "UMass Lowell, Dept. of Chemical Engineering, Nuclear Energy Program \n",
    "<br>\n",
    "**17 Oct 24**"
   ]
  },
  {
   "cell_type": "markdown",
   "id": "e2edda3c-e507-4036-aa56-8c47d29ff400",
   "metadata": {},
   "source": [
    "---\n",
    "## Table of Contents<a id=\"toc\"></a>\n",
    "* [Introduction](#intro)\n",
    "* [Problem Statement](#problem) "
   ]
  },
  {
   "cell_type": "markdown",
   "id": "d116d8f8-4ed8-447b-8913-26a06bab4f68",
   "metadata": {},
   "source": [
    "## [Introduction](#toc)<a id=\"intro\"></a>"
   ]
  },
  {
   "cell_type": "markdown",
   "id": "0c8f0b77-8317-4f81-99b5-fd9c27cee4f4",
   "metadata": {},
   "source": [
    "This report will be about an investigation into the testing of a more viable material option for constructing high-temperature firebrick resistance-heated enerfy storage (FIRES). We are planning on "
   ]
  },
  {
   "cell_type": "markdown",
   "id": "b8e9c1ef-a14c-47c5-99c3-2e0024e4fea6",
   "metadata": {},
   "source": [
    "## [Problem Statement](#toc)<a id=\"problem\"></a>"
   ]
  },
  {
   "cell_type": "markdown",
   "id": "cded385e-c99d-4691-99ee-86959d969c57",
   "metadata": {},
   "source": [
    "The primary problem that is being investigated for this project is a Poisson problem. The origin of which comes from looking at how heat is transfered through a fluid flowing through holes in a FIRES brick. The model of the Poisson problem is as followed: \n",
    "\n",
    "\\begin{align*}\n",
    " -\\bigl(-k(x)\\, u'\\bigr)'(x) + f(x) &= 0 \\quad\\quad \\forall \\quad\\quad x\\in [a,b], \\\\\n",
    " q_n(a) &= h\\,\\bigl(u(a)-u_\\text{ref}\\bigr)., \\\\\n",
    " q_n(b) &= h\\,\\bigl(u(b)-u_\\text{ref}\\bigr).\n",
    "\\end{align*}\n",
    "\n",
    "Where: \n",
    "u(x) is the temperature distribution.\n",
    "k(x) is the thermal conductivity, which may vary with \n",
    "f(x) is a heat source term.\n",
    "\n",
    "This equation states that the rate of heat diffusion plus the heat source itself is equal to zero, meaning the system is running continously at steady state. THe boundary conditions therefore tell us that the heat flux is proportual to the difference in temprature u(a) and u(b) and the refrence temperature. "
   ]
  },
  {
   "cell_type": "code",
   "execution_count": null,
   "id": "450e16d1-a308-42eb-afa6-3caa58ea1c05",
   "metadata": {},
   "outputs": [],
   "source": []
  }
 ],
 "metadata": {
  "kernelspec": {
   "display_name": "Python 3 (ipykernel)",
   "language": "python",
   "name": "python3"
  },
  "language_info": {
   "codemirror_mode": {
    "name": "ipython",
    "version": 3
   },
   "file_extension": ".py",
   "mimetype": "text/x-python",
   "name": "python",
   "nbconvert_exporter": "python",
   "pygments_lexer": "ipython3",
   "version": "3.11.5"
  }
 },
 "nbformat": 4,
 "nbformat_minor": 5
}
