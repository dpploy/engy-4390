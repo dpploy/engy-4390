{
 "cells": [
  {
   "cell_type": "markdown",
   "id": "dcdd74f1-13e1-4c00-bd85-64499864b499",
   "metadata": {},
   "source": [
    "**Engy-4390** Nuclear Systems Design and Analysis, UMass Lowell, Chem. Eng. Nuclear Program Fall 2024; Prof. V. F. de Almeida\n",
    "\n",
    "# Soucre Bias, Position Dependent and Dirichelet BC"
   ]
  },
  {
   "cell_type": "markdown",
   "id": "967d7294-5935-4a61-be47-a7105f8f99c6",
   "metadata": {},
   "source": [
    "**Student(s):**  Kyle Mills and Billy Manco and Donaita Anglade <br>\n",
    "**Course:** Engy-4390: Nuclear Systems Design and Analysis  <br>\n",
    "**Mentor and Collaborator:** Subash Sharma\n",
    "\n",
    "UMass Lowell, Dept. of Chemical Engineering, Nuclear Energy Program \n",
    "<br>\n",
    "**21 Oct 2024**"
   ]
  },
  {
   "cell_type": "markdown",
   "id": "c9795f62-4904-4260-9469-df7249cec3d0",
   "metadata": {},
   "source": [
    "---\n",
    "## Table of Contents<a id=\"toc\"></a>\n",
    "* [Problem Conditions](#Conds)\n",
    "* [Setup](#setup)\n",
    "* [Test Three](#test)\n",
    "---"
   ]
  },
  {
   "cell_type": "markdown",
   "id": "a6bf0f50-77ee-4071-bb40-d0cac5cffa1b",
   "metadata": {},
   "source": [
    "## [Problem Conditions](#toc)<a id=\"setup\"></a>\n",
    "\n",
    "The third test will be done with Dirichlet BC and using source bias values that will be dependent on the position. The Dirichlet Boundary conditions are as follows:\n",
    "\n",
    "\\begin{align*}\n",
    "T_{a}=20\\; [°C]\n",
    "\\end{align*}\n",
    "\n",
    "\\begin{align*}\n",
    "T_{b}=40\\; [°C]\n",
    "\\end{align*}\n",
    "\n",
    "We have to change a lot of the parameters and everything to reflect a changing source bias. All of these will be implemented just as we defined them in the introduction to the problem."
   ]
  },
  {
   "cell_type": "markdown",
   "id": "953f5bac-ada9-41f3-884a-ac420c206109",
   "metadata": {},
   "source": [
    "## [Setup](#toc)<a id=\"test\"></a>"
   ]
  },
  {
   "cell_type": "markdown",
   "id": "e20b52ab-0c05-455c-9f50-2009d370890f",
   "metadata": {},
   "source": [
    "## [Definition of the necessary functions](#toc)<a id=\"defs\"></a>\n"
   ]
  },
  {
   "cell_type": "code",
   "execution_count": null,
   "id": "16357455-f810-4977-90fe-971e57568496",
   "metadata": {},
   "outputs": [],
   "source": []
  },
  {
   "cell_type": "code",
   "execution_count": null,
   "id": "9bb3ccf4-e996-4cec-b1d7-278da9e61a41",
   "metadata": {},
   "outputs": [],
   "source": []
  },
  {
   "cell_type": "code",
   "execution_count": null,
   "id": "aed6363d-54d1-4b46-ae89-5ebbe5041446",
   "metadata": {},
   "outputs": [],
   "source": []
  },
  {
   "cell_type": "code",
   "execution_count": null,
   "id": "9fc606b1-4806-416a-a9d0-3edbed6dd877",
   "metadata": {},
   "outputs": [],
   "source": []
  },
  {
   "cell_type": "code",
   "execution_count": null,
   "id": "a91f3b0d-eaec-4a13-8584-61d87dba8344",
   "metadata": {},
   "outputs": [],
   "source": []
  },
  {
   "cell_type": "code",
   "execution_count": null,
   "id": "3ccbd691-7a12-41bf-8a57-9d67b215f5b3",
   "metadata": {},
   "outputs": [],
   "source": []
  },
  {
   "cell_type": "code",
   "execution_count": null,
   "id": "833899d3-db7a-4e55-9634-e7e2e82c4fc1",
   "metadata": {},
   "outputs": [],
   "source": []
  },
  {
   "cell_type": "code",
   "execution_count": null,
   "id": "62475559-6309-4f7a-8ff5-a2aba86d39e3",
   "metadata": {},
   "outputs": [],
   "source": []
  },
  {
   "cell_type": "code",
   "execution_count": null,
   "id": "5d35af40-be25-453e-ae46-19f1165a158e",
   "metadata": {},
   "outputs": [],
   "source": []
  },
  {
   "cell_type": "code",
   "execution_count": null,
   "id": "f4a41021-5a7f-46d6-a3d6-5ac03432a711",
   "metadata": {},
   "outputs": [],
   "source": []
  },
  {
   "cell_type": "code",
   "execution_count": null,
   "id": "fc2aa56f-0820-4e3a-badb-64345b166a67",
   "metadata": {},
   "outputs": [],
   "source": []
  },
  {
   "cell_type": "code",
   "execution_count": null,
   "id": "e7a4898b-7346-4d82-8b1f-c16c7fdec149",
   "metadata": {},
   "outputs": [],
   "source": []
  },
  {
   "cell_type": "code",
   "execution_count": null,
   "id": "8b40bfc8-eb32-41fc-a7f4-dc7932f719b2",
   "metadata": {},
   "outputs": [],
   "source": []
  },
  {
   "cell_type": "code",
   "execution_count": null,
   "id": "04832332-26d2-4f0c-9b7b-d3e1a4a1bf1d",
   "metadata": {},
   "outputs": [],
   "source": []
  },
  {
   "cell_type": "code",
   "execution_count": null,
   "id": "a58fc827-f7a7-40ad-9fb8-e75a7b466974",
   "metadata": {},
   "outputs": [],
   "source": []
  },
  {
   "cell_type": "code",
   "execution_count": null,
   "id": "dae953aa-54ff-4dca-a9ce-65cd18b29976",
   "metadata": {},
   "outputs": [],
   "source": []
  },
  {
   "cell_type": "code",
   "execution_count": null,
   "id": "8f5a4763-7ab4-4150-af53-553212c1714c",
   "metadata": {},
   "outputs": [],
   "source": []
  },
  {
   "cell_type": "code",
   "execution_count": null,
   "id": "1d140867-9033-45cd-9a5c-bba7ee11a43c",
   "metadata": {},
   "outputs": [],
   "source": []
  },
  {
   "cell_type": "code",
   "execution_count": null,
   "id": "2d0e9de5-7513-4aff-b350-68e8ec709df6",
   "metadata": {},
   "outputs": [],
   "source": []
  },
  {
   "cell_type": "code",
   "execution_count": null,
   "id": "99d72bc7-7b97-4548-9c73-95248c4bcdee",
   "metadata": {},
   "outputs": [],
   "source": []
  },
  {
   "cell_type": "code",
   "execution_count": null,
   "id": "28eda05a-6839-4fb5-b60e-9fd9a2302e1f",
   "metadata": {},
   "outputs": [],
   "source": []
  },
  {
   "cell_type": "code",
   "execution_count": null,
   "id": "21abe190-b243-4f04-ba2c-3cdbbb05c195",
   "metadata": {},
   "outputs": [],
   "source": []
  },
  {
   "cell_type": "code",
   "execution_count": null,
   "id": "31c360aa-c2f0-4da9-a90f-7eea0de14b12",
   "metadata": {},
   "outputs": [],
   "source": []
  },
  {
   "cell_type": "code",
   "execution_count": null,
   "id": "8797e55e-622c-48b5-ba2e-f332d398e1c6",
   "metadata": {},
   "outputs": [],
   "source": []
  }
 ],
 "metadata": {
  "kernelspec": {
   "display_name": "Python 3 (ipykernel)",
   "language": "python",
   "name": "python3"
  },
  "language_info": {
   "codemirror_mode": {
    "name": "ipython",
    "version": 3
   },
   "file_extension": ".py",
   "mimetype": "text/x-python",
   "name": "python",
   "nbconvert_exporter": "python",
   "pygments_lexer": "ipython3",
   "version": "3.12.7"
  }
 },
 "nbformat": 4,
 "nbformat_minor": 5
}
