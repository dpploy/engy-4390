{
 "cells": [
  {
   "cell_type": "markdown",
   "id": "c2e2c819-5feb-4378-bfde-1e458e0c2fca",
   "metadata": {},
   "source": [
    "**Engy-4390** Nuclear Systems Design and Analysis, UMass Lowell, Chem. Eng. Nuclear Program Fall 2024; Prof. V. F. de Almeida\n",
    "\n",
    "# Constant Thermal Conductivity, Constant Source, Robin BC"
   ]
  },
  {
   "cell_type": "markdown",
   "id": "7b748563-16f0-49fe-b62b-70cce434b8be",
   "metadata": {},
   "source": [
    "**Student(s):**  Kyle Mills and Billy Manco and Donaita Anglade <br>\n",
    "**Course:** Engy-4390: Nuclear Systems Design and Analysis  <br>\n",
    "**Mentor and Collaborator:** Subash Sharma\n",
    "\n",
    "UMass Lowell, Dept. of Chemical Engineering, Nuclear Energy Program \n",
    "<br>\n",
    "**21 Oct 2024**"
   ]
  },
  {
   "cell_type": "markdown",
   "id": "4aab8e81-4d64-404b-b6df-a305ebcb6b10",
   "metadata": {},
   "source": [
    "---\n",
    "## Table of Contents<a id=\"toc\"></a>\n",
    "* [Definitions](#defs)\n",
    "* [Setup](#setup)\n",
    "* [Test](#test)\n",
    "---"
   ]
  },
  {
   "cell_type": "markdown",
   "id": "a6eaf777-e6e5-4cf0-9c10-5e0d68f974e1",
   "metadata": {},
   "source": [
    "## [Definition of the necessary functions](#toc)<a id=\"defs\"></a>\n",
    "The fourth test is done with Robin BC and a position-dependent source bias. The conditions for this test are stated below,\n",
    "* k(x) = 87219  [$ \\frac{W}{mK} $]\n",
    "* f(x) = 166117  [$ \\frac{W}{m^3} $]\n",
    "* T(a) = 20 [°C], and T(b) = 40 [°C]"
   ]
  },
  {
   "cell_type": "markdown",
   "id": "b54a8b6d-ea7a-4788-a2e4-944796e777a5",
   "metadata": {},
   "source": [
    "## [Setup](#toc)<a id=\"setup\"></a>"
   ]
  },
  {
   "cell_type": "code",
   "execution_count": 6,
   "id": "71961e9d-9eda-46ef-be65-0e972eb60354",
   "metadata": {},
   "outputs": [],
   "source": [
    "'''Generate the target function f'''\n",
    "import matplotlib.pyplot as plt\n",
    "import math as m\n",
    "import numpy as np\n",
    "import pandas as pd\n",
    "from scipy.interpolate import interp1d\n",
    "from scipy.integrate import quad"
   ]
  },
  {
   "cell_type": "code",
   "execution_count": 7,
   "id": "48d31990-652f-4163-b6c6-3755035e0140",
   "metadata": {},
   "outputs": [],
   "source": [
    "'''Domain'''\n",
    "'''Rayleigh Ritz Method with Lagrange FE Basis Functions'''\n",
    "x_min=0\n",
    "x_max=0.05\n",
    "\n",
    "degree = 2  #Degree of the lagrange polinomials used\n",
    "n_elem = 10 #Number of elements used"
   ]
  },
  {
   "cell_type": "code",
   "execution_count": 8,
   "id": "5c6e065e-c2c7-459e-a061-73c47d96103c",
   "metadata": {},
   "outputs": [],
   "source": [
    "'''Parent mapping'''\n",
    "from pyfires import get_parent_mapping"
   ]
  },
  {
   "cell_type": "code",
   "execution_count": 9,
   "id": "9cafd1c8-0cd1-4530-bf6b-78a3d6f1d172",
   "metadata": {},
   "outputs": [],
   "source": [
    "'''The basis functions'''\n",
    "from pyfires import get_parent_basis_functions"
   ]
  },
  {
   "cell_type": "code",
   "execution_count": 10,
   "id": "44ae6374-4cf2-4520-af4f-0a9c2af36949",
   "metadata": {},
   "outputs": [],
   "source": [
    "'''Again the function for the obtaining of the basis functions'''\n",
    "from pyfires import global_basis_function"
   ]
  },
  {
   "cell_type": "code",
   "execution_count": 11,
   "id": "bcd9229f-e287-4dd7-8455-cd7e19b5a124",
   "metadata": {},
   "outputs": [],
   "source": [
    "'''All global basis functions'''\n",
    "from pyfires import get_global_basis_functions"
   ]
  },
  {
   "cell_type": "code",
   "execution_count": 12,
   "id": "2aad8225-a3b0-4ec6-9b19-6da3e6751273",
   "metadata": {},
   "outputs": [],
   "source": [
    "'''Pedagogical inner product'''\n",
    "from pyfires import inner_product"
   ]
  },
  {
   "cell_type": "code",
   "execution_count": 13,
   "id": "19ee945d-ef53-4c5c-b996-0ee53328e83d",
   "metadata": {},
   "outputs": [],
   "source": [
    "'''FEM Solution'''\n",
    "'''Domain partition'''\n",
    "def get_domain_partition(degree, n_elem, x_min, x_max, bc_x_min='flux', bc_x_max='flux'):\n",
    "    #assert degree == 1\n",
    "    # Local node numbering on parent domain\n",
    "    # --0--------------1---->\n",
    "    #  -1      0      +1    zetta\n",
    "    gnodes_x = np.linspace(x_min, x_max, n_elem*degree+1, dtype=np.float64)\n",
    "    patches = list()\n",
    "    local_to_global_node_id_map = list()\n",
    "    for e in range(n_elem):\n",
    "        gnode_id_1 = degree*e   #left\n",
    "        gnode_id_2 = degree*e+1 #center\n",
    "        gnode_id_3 = degree*e+2 #right\n",
    "        x1 = gnodes_x[gnode_id_1]\n",
    "        x2 = gnodes_x[gnode_id_2]\n",
    "        x3 = gnodes_x[gnode_id_3]\n",
    "        # Local node id:  0   1\n",
    "        patches.append((x1, x2, x3))\n",
    "        # Local node id:                        0           2             1\n",
    "        local_to_global_node_id_map.append([gnode_id_1, gnode_id_2,  gnode_id_3])\n",
    "    if bc_x_min == 'essential':\n",
    "        local_to_global_node_id_map[0][0] = -1\n",
    "    if bc_x_max == 'essential':\n",
    "        local_to_global_node_id_map[-1][-1] = -1\n",
    "    return (patches, gnodes_x, local_to_global_node_id_map)\n",
    "\n",
    "domain_partition = get_domain_partition(degree, n_elem, x_min, x_max)\n",
    "parent_mapping = get_parent_mapping()\n",
    "parent_basis_functions = get_parent_basis_functions()\n",
    "\n",
    "phi_list = get_global_basis_functions(domain_partition, parent_mapping, parent_basis_functions, global_basis_function)[0]\n",
    "phi_prime_list = get_global_basis_functions(domain_partition, parent_mapping, parent_basis_functions, global_basis_function)[1]"
   ]
  },
  {
   "cell_type": "code",
   "execution_count": 14,
   "id": "d5f0f4ef-4c46-47b6-a6e6-42cc373eb224",
   "metadata": {},
   "outputs": [],
   "source": [
    "'''Thermal conductivity'''\n",
    "from pyfires import constant_thermal\n",
    "\n",
    "k_cond = constant_thermal()"
   ]
  },
  {
   "cell_type": "code",
   "execution_count": 15,
   "id": "14bc21f8-84ce-44a3-8c49-46a374ef9d81",
   "metadata": {},
   "outputs": [],
   "source": [
    "'''Heat Generation Density'''\n",
    "from pyfires import heat_gen_pts \n",
    "\n",
    "func_x = heat_gen_pts()"
   ]
  },
  {
   "cell_type": "markdown",
   "id": "8bf1129f-3599-409b-a20a-af15fd40b67f",
   "metadata": {},
   "source": [
    "## [Test](#toc)<a id=\"test\"></a>"
   ]
  },
  {
   "cell_type": "code",
   "execution_count": 17,
   "id": "2beb8dbf-d71b-4617-819b-45601f0eb07e",
   "metadata": {},
   "outputs": [],
   "source": [
    "'''Parameters'''\n",
    "htc = 10      #Heat transfer coefficient"
   ]
  },
  {
   "cell_type": "code",
   "execution_count": 18,
   "id": "c2bbb166-b780-4b6b-ac29-903dad9ebdc1",
   "metadata": {},
   "outputs": [
    {
     "data": {
      "text/plain": [
       "'\\nplt.figure()\\nplt.plot(np.linspace(0,0.05,200),k_cond(np.linspace(0,0.05,200)),label=\\'Target Function\\')\\nplt.title(\\'Thermal Conductivity\\') \\nplt.xlabel(\"Position along the width of the channel wall [m]\")\\nplt.ylabel(\"K [W/mK]\") \\nplt.grid()\\nplt.show()\\n'"
      ]
     },
     "execution_count": 18,
     "metadata": {},
     "output_type": "execute_result"
    }
   ],
   "source": [
    "'''Thermal conductivity'''\n",
    "#Remove the comment if you would like to see the graph\n",
    "'''\n",
    "plt.figure()\n",
    "plt.plot(np.linspace(0,0.05,200),k_cond(np.linspace(0,0.05,200)),label='Target Function')\n",
    "plt.title('Thermal Conductivity') \n",
    "plt.xlabel(\"Position along the width of the channel wall [m]\")\n",
    "plt.ylabel(\"K [W/mK]\") \n",
    "plt.grid()\n",
    "plt.show()\n",
    "'''"
   ]
  },
  {
   "cell_type": "code",
   "execution_count": 19,
   "id": "635f83be-835b-487f-9ad1-e1c9729e50fd",
   "metadata": {},
   "outputs": [
    {
     "data": {
      "text/plain": [
       "'\\nplt.figure()\\nplt.plot(np.linspace(0,0.05,200),func_x(np.linspace(0,0.05,200)),label=\\'Target Function\\')\\nplt.title(\\'Values for f(x)\\') \\nplt.xlabel(\"Position along the width of the channel wall [m]\") \\nplt.ylabel(\"Heat Generation Density [W/m^3]\") \\nplt.grid()\\nplt.show()\\n'"
      ]
     },
     "execution_count": 19,
     "metadata": {},
     "output_type": "execute_result"
    }
   ],
   "source": [
    "'''Source bias'''\n",
    "#Remove the comment if you would like to see the graph\n",
    "'''\n",
    "plt.figure()\n",
    "plt.plot(np.linspace(0,0.05,200),func_x(np.linspace(0,0.05,200)),label='Target Function')\n",
    "plt.title('Values for f(x)') \n",
    "plt.xlabel(\"Position along the width of the channel wall [m]\") \n",
    "plt.ylabel(\"Heat Generation Density [W/m^3]\") \n",
    "plt.grid()\n",
    "plt.show()\n",
    "'''"
   ]
  },
  {
   "cell_type": "code",
   "execution_count": 20,
   "id": "e56b71f6-35c7-40c7-8086-89c1ae04cc46",
   "metadata": {},
   "outputs": [
    {
     "ename": "TypeError",
     "evalue": "slope_func() missing 2 required positional arguments: 'x_min' and 'x_max'",
     "output_type": "error",
     "traceback": [
      "\u001b[1;31m---------------------------------------------------------------------------\u001b[0m",
      "\u001b[1;31mTypeError\u001b[0m                                 Traceback (most recent call last)",
      "Cell \u001b[1;32mIn[20], line 4\u001b[0m\n\u001b[0;32m      1\u001b[0m \u001b[38;5;124;03m'''Building the slope function'''\u001b[39;00m\n\u001b[0;32m      2\u001b[0m \u001b[38;5;28;01mfrom\u001b[39;00m \u001b[38;5;21;01mpyfires\u001b[39;00m \u001b[38;5;28;01mimport\u001b[39;00m slope_func\n\u001b[1;32m----> 4\u001b[0m temp_func \u001b[38;5;241m=\u001b[39m slope_func()\n\u001b[0;32m      5\u001b[0m slope_func \u001b[38;5;241m=\u001b[39m slope_func()\n\u001b[0;32m      7\u001b[0m plt\u001b[38;5;241m.\u001b[39mfigure()\n",
      "\u001b[1;31mTypeError\u001b[0m: slope_func() missing 2 required positional arguments: 'x_min' and 'x_max'"
     ]
    }
   ],
   "source": [
    "'''Building the slope function'''\n",
    "from pyfires import slope_func\n",
    "\n",
    "temp_func = slope_func()\n",
    "slope_func = slope_func()\n",
    "\n",
    "plt.figure()\n",
    "plt.plot(np.linspace(0,0.05,200),temp_func(np.linspace(0,0.05,200)))\n",
    "plt.title(\"Change in temperature across the domain\")\n",
    "plt.xlabel(\"Position along the width of the channel [m]\") \n",
    "plt.ylabel(\"Temperature [C]\") \n",
    "plt.grid()\n",
    "plt.show()\n",
    "\n",
    "plt.figure()\n",
    "plt.plot(np.linspace(0,0.05,200),slope_func(np.linspace(0,0.05,200)))\n",
    "plt.title(\"Derivative of Heat Generation Source\") \n",
    "plt.xlabel(\"Position along the width of the channel [m]\")\n",
    "plt.ylabel(\"Heat flux[C/m]\")\n",
    "plt.grid()\n",
    "plt.show()"
   ]
  },
  {
   "cell_type": "code",
   "execution_count": null,
   "id": "e5dae271-c3fe-4912-aa00-dbc92dd19d3d",
   "metadata": {},
   "outputs": [],
   "source": [
    "'''FEM Solution'''\n",
    "'''Domain partition'''\n",
    "def get_domain_partition(degree, n_elem, x_min, x_max, bc_x_min='flux', bc_x_max='flux'):\n",
    "    #assert degree == 1\n",
    "    # Local node numbering on parent domain\n",
    "    # --0--------------1---->\n",
    "    #  -1      0      +1    zetta\n",
    "    gnodes_x = np.linspace(x_min, x_max, n_elem*degree+1, dtype=np.float64)\n",
    "    patches = list()\n",
    "    local_to_global_node_id_map = list()\n",
    "    for e in range(n_elem):\n",
    "        gnode_id_1 = degree*e   #left\n",
    "        gnode_id_2 = degree*e+1 #center\n",
    "        gnode_id_3 = degree*e+2 #right\n",
    "        x1 = gnodes_x[gnode_id_1]\n",
    "        x2 = gnodes_x[gnode_id_2]\n",
    "        x3 = gnodes_x[gnode_id_3]\n",
    "        # Local node id:  0   1\n",
    "        patches.append((x1, x2, x3))\n",
    "        # Local node id:                        0           2             1\n",
    "        local_to_global_node_id_map.append([gnode_id_1, gnode_id_2,  gnode_id_3])\n",
    "    if bc_x_min == 'essential':\n",
    "        local_to_global_node_id_map[0][0] = -1\n",
    "    if bc_x_max == 'essential':\n",
    "        local_to_global_node_id_map[-1][-1] = -1\n",
    "    return (patches, gnodes_x, local_to_global_node_id_map)\n",
    "\n",
    "domain_partition = get_domain_partition(degree, n_elem, x_min, x_max)\n",
    "parent_mapping = get_parent_mapping()\n",
    "parent_basis_functions = get_parent_basis_functions()\n",
    "\n",
    "phi_list = get_global_basis_functions(domain_partition, parent_mapping, parent_basis_functions, global_basis_function)[0]\n",
    "phi_prime_list = get_global_basis_functions(domain_partition, parent_mapping, parent_basis_functions, global_basis_function)[1]"
   ]
  },
  {
   "cell_type": "code",
   "execution_count": null,
   "id": "ebdd2de9-6fea-4e73-b1e3-3d8e2fca2063",
   "metadata": {},
   "outputs": [],
   "source": [
    "#Building of the A matrix\n",
    "A_mtrx = np.zeros((len(phi_list), len(phi_list)), dtype=np.float64)\n",
    "patches = domain_partition[0]\n",
    "for i in range(len(phi_list)):\n",
    "    for j in range(len(phi_list)):\n",
    "        \n",
    "        phi_i=phi_list[i]\n",
    "        phi_j=phi_list[j]\n",
    "        \n",
    "        phi_prime_i=phi_prime_list[i]\n",
    "        phi_prime_j=phi_prime_list[j]\n",
    "        \n",
    "        h_e=(x_max-x_min)/n_elem\n",
    "        \n",
    "        d_x_phi_prime_j = lambda x: k_cond(x) * ((2/h_e)*phi_prime_j(x))\n",
    "        \n",
    "        prima = lambda x: phi_prime_i(x)*(2/h_e)\n",
    "        \n",
    "        A_mtrx[i,j] = inner_product(prima, d_x_phi_prime_j, patches) + htc*phi_i(x_min)*phi_j(x_min) + htc*phi_i(x_max)*phi_j(x_max)"
   ]
  },
  {
   "cell_type": "code",
   "execution_count": null,
   "id": "07671496-6a3b-40f4-bbb8-2c0324354bf6",
   "metadata": {},
   "outputs": [],
   "source": [
    "'''Build load vector'''\n",
    "#The load vector\n",
    "b_vec = np.zeros(len(phi_list), dtype=np.float64)\n",
    "patches = domain_partition[0]\n",
    "\n",
    "for i in range(len(phi_list)):\n",
    "    phi_i=phi_list[i]\n",
    "    phi_prime_i=phi_prime_list[i]\n",
    "    \n",
    "    b_vec[i] = inner_product(temp_func, phi_i, patches)-htc*(temp_func(x_max)-u_b)*phi_i(x_max)-htc*(temp_func(x_min)-u_a)*phi_i(x_min)\n",
    "    \n",
    "    first_term = lambda x: slope_func(x)*k_cond(x)\n",
    "    phi_prima_i = lambda x: phi_prime_i(x)*(2/h_e)\n",
    "    \n",
    "    b_vec[i] -= inner_product(first_term, phi_prima_i, patches)"
   ]
  },
  {
   "cell_type": "code",
   "execution_count": null,
   "id": "e2be0883-752d-4bfa-85f3-7c461b6e3843",
   "metadata": {},
   "outputs": [],
   "source": [
    "'''Solution'''\n",
    "'''Compute optimal coefficient vector'''\n",
    "c_star_vec = np.linalg.solve(A_mtrx, b_vec)\n",
    "\n",
    "'''Plot comparison of f and g_best_vec'''\n",
    "def u_star(x):\n",
    "    g_x=temp_func(x)\n",
    "    for (j,phi_i) in enumerate(phi_list):\n",
    "        g_x=g_x+(c_star_vec[j])*phi_i(x)\n",
    "    return g_x\n",
    "\n",
    "def u_star_prime(x):\n",
    "    g_x=slope_func(x)\n",
    "    for j in range(len(phi_list)):\n",
    "        g_x=g_x+(c_star_vec[j])*((2/h_e)*phi_prime_list[j](x))\n",
    "    return g_x\n",
    "\n",
    "plt.figure()\n",
    "plt.plot(np.linspace(x_min,x_max,2000),u_star(np.linspace(x_min,x_max,2000)),label='Rayleigh-Ritz solution')\n",
    "\n",
    "#plt.plot(np.linspace(x_min,x_max,2000),sol(np.linspace(x_min,x_max,2000)),label='Analytic solution')\n",
    "plt.title('Solutions with Dirichlet BC, constant source and conductivity')\n",
    "plt.xlabel(\"Position aling the width of the channel wall [m]\")\n",
    "plt.ylabel(\"Temperature [°C]\")\n",
    "plt.legend()\n",
    "plt.grid()\n",
    "plt.show()\n",
    "\n",
    "print('The value of the function at the leftmost end of the domain is: %4.2f [°C].'%u_star(x_min))\n",
    "print('The value of the function at the rightmost end of the domain is: %4.2f [°C].'%u_star(x_max))\n",
    "\n",
    "#Plotting the flux\n",
    "plt.figure()\n",
    "plt.plot(np.linspace(x_min,x_max,2000),-k_cond(np.linspace(x_min,x_max,2000))*u_star_prime((np.linspace(x_min,x_max,2000))),label='Rayleigh-Ritz solution')\n",
    "plt.xlabel(\"Position along the width of the channel wall [m]\")\n",
    "plt.ylabel(\"Heat flux [W/m2]\")\n",
    "plt.legend()\n",
    "plt.grid()\n",
    "plt.show()\n",
    "\n",
    "'''Flux at boundary'''\n",
    "print('q_na computed = ', -k_cond(x_min)*u_star_prime(x_min))\n",
    "print('q_nb computed = ', -k_cond(x_max)*u_star_prime(x_max))"
   ]
  },
  {
   "cell_type": "code",
   "execution_count": null,
   "id": "38df56e8-0dda-43e0-bc27-9a3236346aff",
   "metadata": {},
   "outputs": [],
   "source": [
    "'''Solution'''\n",
    "'''Compute optimal coefficient vector'''\n",
    "c_star_vec = np.linalg.solve(A_mtrx, b_vec)\n",
    "\n",
    "plt.figure()\n",
    "plt.plot(np.linspace(x_min,x_max,2000),u_star(np.linspace(x_min,x_max,2000)),label='Rayleigh-Ritz solution')\n",
    "#plt.plot(np.linspace(x_min,x_max,2000),sol(np.linspace(x_min,x_max,2000)),label='Analytic solution')\n",
    "plt.xlabel(\"Position aling the width of the channel wall [m]\")\n",
    "plt.ylabel(\"Temperature [°C]\")\n",
    "plt.title('Solutions with Robin BC, variable source')\n",
    "plt.legend()\n",
    "plt.grid()\n",
    "plt.show()\n",
    "\n",
    "print('The value of the function at the leftmost end of the domain is: %4.2f [°C].'%u_star(x_min))\n",
    "print('The value of the function at the rightmost end of the domain is: %4.2f [°C].'%u_star(x_max))\n",
    "\n",
    "\n",
    "#Plotting the flux\n",
    "plt.figure()\n",
    "plt.plot(np.linspace(x_min,x_max,2000),-k_cond(np.linspace(x_min,x_max,2000))*u_star_prime((np.linspace(x_min,x_max,2000))),label='Rayleigh Ritz solution')\n",
    "plt.xlabel(\"Position along the width of the channel wall [m]\")\n",
    "plt.ylabel(\"Heat flux [W/m2]\")\n",
    "plt.legend()\n",
    "plt.title('Solutions with Robin BC, variable source')\n",
    "plt.grid()\n",
    "plt.show()\n",
    "\n",
    "#print(sol(np.linspace(x_min,x_max,2000)))\n",
    "\n",
    "'''Flux at boundary'''\n",
    "print('q_na computed = ', -k_cond(x_min)*u_star_prime(x_min))\n",
    "print('q_nb computed = ', -k_cond(x_max)*u_star_prime(x_max))\n",
    "#print('q_nb given    = ', q_nb)\n",
    "#print('flux error [%]= ',(-f_cond(x_max)*g_prime(x_max) - q_nb)/q_nb*100)"
   ]
  },
  {
   "cell_type": "code",
   "execution_count": null,
   "id": "7244538e-1b76-41ae-93c9-fdd87666ef24",
   "metadata": {},
   "outputs": [],
   "source": []
  }
 ],
 "metadata": {
  "kernelspec": {
   "display_name": "Python 3 (ipykernel)",
   "language": "python",
   "name": "python3"
  },
  "language_info": {
   "codemirror_mode": {
    "name": "ipython",
    "version": 3
   },
   "file_extension": ".py",
   "mimetype": "text/x-python",
   "name": "python",
   "nbconvert_exporter": "python",
   "pygments_lexer": "ipython3",
   "version": "3.12.3"
  }
 },
 "nbformat": 4,
 "nbformat_minor": 5
}
