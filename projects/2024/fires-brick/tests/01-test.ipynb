{
 "cells": [
  {
   "cell_type": "markdown",
   "id": "4348ba7f-7510-48cf-8f91-c919f17b33cf",
   "metadata": {},
   "source": [
    "**Engy-4390** Nuclear Systems Design and Analysis, UMass Lowell, Chem. Eng. Nuclear Program Fall 2024; Prof. V. F. de Almeida\n",
    "\n",
    "# Constant Thermal Conductivity, Constant Source, and Dirichlet BC"
   ]
  },
  {
   "cell_type": "markdown",
   "id": "d801a82f-2422-4784-848a-05a41bd9dd6b",
   "metadata": {},
   "source": [
    "**Student(s):**  Kyle Mills and Billy Manco and Donaita Anglade <br>\n",
    "**Course:** Engy-4390: Nuclear Systems Design and Analysis  <br>\n",
    "**Mentor and Collaborator:** Subash Sharma\n",
    "\n",
    "UMass Lowell, Dept. of Chemical Engineering, Nuclear Energy Program \n",
    "<br>\n",
    "**21 Oct 2024**"
   ]
  },
  {
   "cell_type": "markdown",
   "id": "f124b967-ed8a-473c-acdf-b2c4b312a2fa",
   "metadata": {},
   "source": [
    "---\n",
    "## Table of Contents<a id=\"toc\"></a>\n",
    "* [Problem conditions](#whatisit)\n",
    "* [Setup](#setup)\n",
    "* [Test One](#test)\n",
    "---"
   ]
  },
  {
   "cell_type": "markdown",
   "id": "dc2a4ce1-91f0-401c-8e8e-2df96c508cf5",
   "metadata": {},
   "source": [
    "## [Problem Data](#toc)<a id=\"setup\"></a>\n",
    "\n",
    "Heating power density, $f$, is not dependent on position, thermal conductivity, $k$, is a constant:\n",
    "\n",
    "+ $k = 31 \\left [ \\frac{W}{mK} \\right ]$\n",
    "+ $f = 206151 \\; \\left [ \\frac{W}{m^{3}} \\right ]$\n",
    "\n",
    "and the temperature at the ends of the domain are specified as a Dirichlet BC:\n",
    "\n",
    "+ $T(a) = 20$ [°C], and $T(b)= 40$ [°C]."
   ]
  },
  {
   "cell_type": "markdown",
   "id": "e0a9fd66-eb11-4ecd-91e2-41e7e3cb6625",
   "metadata": {},
   "source": [
    "## [Setup FEM](#toc)<a id=\"setup\"></a>"
   ]
  },
  {
   "cell_type": "code",
   "execution_count": 1,
   "id": "b287b06b-576e-415a-9196-f979c07c28b3",
   "metadata": {},
   "outputs": [],
   "source": [
    "'''Domain'''\n",
    "'''Rayleigh Ritz Method with Lagrange FE Basis Functions'''\n",
    "x_min = 0     # m\n",
    "x_max = 0.05  # m\n",
    "\n",
    "degree = 2  # Degree of the lagrange polinomials used\n",
    "n_elem = 10 # Number of elements used"
   ]
  },
  {
   "cell_type": "code",
   "execution_count": 2,
   "id": "c4d506a3-002d-4216-b003-b85953d710dd",
   "metadata": {},
   "outputs": [],
   "source": [
    "'''Domain partition'''\n",
    "from pyfires import get_domain_partition"
   ]
  },
  {
   "cell_type": "code",
   "execution_count": 3,
   "id": "0f20f651-8496-4124-b94e-9a9ab7c59457",
   "metadata": {},
   "outputs": [],
   "source": [
    "'''Parent mapping'''\n",
    "from pyfires import get_parent_mapping"
   ]
  },
  {
   "cell_type": "code",
   "execution_count": 4,
   "id": "b064fdbb-6df2-460a-acde-819edc36e06d",
   "metadata": {},
   "outputs": [],
   "source": [
    "'''The basis functions'''\n",
    "from pyfires import get_parent_basis_functions"
   ]
  },
  {
   "cell_type": "code",
   "execution_count": 5,
   "id": "3f865b10-cfaa-4363-a7a9-fa727c89a17a",
   "metadata": {},
   "outputs": [],
   "source": [
    "'''Again the function for the obtaining of the basis functions'''\n",
    "from pyfires import global_basis_function"
   ]
  },
  {
   "cell_type": "code",
   "execution_count": 6,
   "id": "d6bc1c0e-141f-4ce0-8bcc-b5217c709beb",
   "metadata": {},
   "outputs": [],
   "source": [
    "'''All global basis functions'''\n",
    "from pyfires import get_global_basis_functions"
   ]
  },
  {
   "cell_type": "code",
   "execution_count": 7,
   "id": "a249f31f-a214-40e0-8db9-5dfaf093954a",
   "metadata": {},
   "outputs": [],
   "source": [
    "'''Inner product'''\n",
    "from pyfires import inner_product"
   ]
  },
  {
   "cell_type": "markdown",
   "id": "ae240bf1-4b9c-4522-b331-cc82d65b8824",
   "metadata": {},
   "source": [
    "## [Implementing Data](#toc)<a id=\"test\"></a>"
   ]
  },
  {
   "cell_type": "markdown",
   "id": "7803b109-0759-44d0-89d1-497ba2e8dae2",
   "metadata": {},
   "source": [
    "Test one constraints the system to a constant conductivity and constant source term with a Dirichlet boundary condition. The goal of simulating the domain under these conditions is to produce a graphical solution on how heat is transfered. "
   ]
  },
  {
   "cell_type": "code",
   "execution_count": 9,
   "id": "558f6539-b334-464d-bbba-174946cae389",
   "metadata": {},
   "outputs": [],
   "source": [
    "'''Thermal conductivity'''\n",
    "from pyfires import linear_func\n",
    "from pyfires import plot_func\n",
    "\n",
    "k_func = linear_func(x_min, x_max, (31.0, 31.0)) # W/mK\n",
    "\n",
    "'''Heating Power Density'''\n",
    "f_func = linear_func(x_min, x_max, (206151.0, 206151.0)) # W/m^3\n",
    "\n",
    "view_plots = False"
   ]
  },
  {
   "cell_type": "code",
   "execution_count": 10,
   "id": "4805c61e-3bd6-436f-98e5-0bd9e489158b",
   "metadata": {},
   "outputs": [],
   "source": [
    "if view_plots:\n",
    "    n_plot_pts = 200\n",
    "    title = 'Thermal Conductivity'\n",
    "    xlabel = 'Position along the width of the channel wall [m]'\n",
    "    ylabel = 'K [W/mk]'\n",
    "    plot_func(k_func, x_min, x_max, n_plot_pts, title=title, xlabel=xlabel, ylabel=ylabel)\n",
    "\n",
    "    title = 'Heating Power Density'\n",
    "    xlabel = 'Position along the width of the channel wall [m]'\n",
    "    ylabel = 'f [W/m^3]'\n",
    "    plot_func(f_func, x_min, x_max, n_plot_pts, title=title, xlabel=xlabel, ylabel=ylabel)"
   ]
  },
  {
   "cell_type": "code",
   "execution_count": 11,
   "id": "5e57b288-47cd-4622-b9c7-5f0a34ad8e6c",
   "metadata": {},
   "outputs": [],
   "source": [
    "'''FEM Solution'''\n",
    "domain_partition = get_domain_partition(degree, n_elem, x_min, x_max)\n",
    "parent_mapping = get_parent_mapping()\n",
    "parent_basis_functions = get_parent_basis_functions()\n",
    "\n",
    "phi_list = get_global_basis_functions(domain_partition, parent_mapping, parent_basis_functions, global_basis_function)[0]\n",
    "phi_prime_list = get_global_basis_functions(domain_partition, parent_mapping, parent_basis_functions, global_basis_function)[1]"
   ]
  },
  {
   "cell_type": "code",
   "execution_count": 12,
   "id": "cb248c68-51f0-4677-82d9-efb9fc3d21c1",
   "metadata": {},
   "outputs": [],
   "source": [
    "'''Building the lift function'''\n",
    "u_a = 20 #temperature at point a in degrees C\n",
    "u_b = 40 #temperature at point b in degrees C\n",
    "\n",
    "lift_func = linear_func(x_min, x_max, (u_a, u_b)) # C\n",
    "lift_prime = (u_b-u_a)/(x_max-x_min)\n",
    "lift_func_prime = linear_func(x_min, x_max, (lift_prime, lift_prime)) # C\n",
    "\n",
    "view_plots = False"
   ]
  },
  {
   "cell_type": "code",
   "execution_count": 13,
   "id": "0b77858d-ad9f-4177-ab67-1d82fa4b5d91",
   "metadata": {},
   "outputs": [],
   "source": [
    "if view_plots:\n",
    "    n_plot_pts = 200\n",
    "    title = 'Lift Function'\n",
    "    xlabel = 'Position along the width of the channel wall [m]'\n",
    "    ylabel = 'T [C]'\n",
    "    plot_func(lift_func, x_min, x_max, n_plot_pts, title=title, xlabel=xlabel, ylabel=ylabel)\n",
    "\n",
    "    title = 'Lift Function Prime'\n",
    "    xlabel = 'Position along the width of the channel wall [m]'\n",
    "    ylabel = 'dT/dx [C/m]'\n",
    "    plot_func(lift_func_prime, x_min, x_max, n_plot_pts, title=title, xlabel=xlabel, ylabel=ylabel)"
   ]
  },
  {
   "cell_type": "code",
   "execution_count": 14,
   "id": "f70ebf6c-9e62-47a7-9186-4780cb2d151d",
   "metadata": {},
   "outputs": [],
   "source": [
    "'''Build FEM A matrix'''\n",
    "from pyfires import build_a_mtrx\n",
    "\n",
    "a_mtrx = build_a_mtrx(phi_list, phi_prime_list, k_func, domain_partition, x_min, x_max, n_elem)\n",
    "h_e = build_a_matrx(x_max, x_min, n_elem) "
   ]
  },
  {
   "cell_type": "code",
   "execution_count": 15,
   "id": "e5c25486-6403-4408-bb4a-d98c46763a30",
   "metadata": {},
   "outputs": [],
   "source": [
    "'''Build load vector'''\n",
    "from pyfires import build_b_vec\n",
    "\n",
    "b_vec = build_b_vec(phi_list, phi_prime_list, k_func, f_func, lift_func_prime, domain_partition, x_min, x_max, n_elem)"
   ]
  },
  {
   "cell_type": "code",
   "execution_count": 17,
   "id": "95eb897a-1767-4974-994e-bac747a7b3e4",
   "metadata": {},
   "outputs": [
    {
     "data": {
      "image/png": "[encoded data removed]",
      "text/plain": [
       "<Figure size 640x480 with 1 Axes>"
      ]
     },
     "metadata": {},
     "output_type": "display_data"
    },
    {
     "name": "stdout",
     "output_type": "stream",
     "text": [
      "The value of the function at the leftmost end of the domain is: 20.00 [°C].\n",
      "The value of the function at the rightmost end of the domain is: 40.00 [°C].\n"
     ]
    },
    {
     "name": "stderr",
     "output_type": "stream",
     "text": [
      "/tmp/ipykernel_5468/3440231815.py:31: DeprecationWarning: Conversion of an array with ndim > 0 to a scalar is deprecated, and will error in future. Ensure you extract a single element from your array before performing this operation. (Deprecated NumPy 1.25.)\n",
      "  print('The value of the function at the leftmost end of the domain is: %4.2f [°C].'%u_star(x_min))\n",
      "/tmp/ipykernel_5468/3440231815.py:32: DeprecationWarning: Conversion of an array with ndim > 0 to a scalar is deprecated, and will error in future. Ensure you extract a single element from your array before performing this operation. (Deprecated NumPy 1.25.)\n",
      "  print('The value of the function at the rightmost end of the domain is: %4.2f [°C].'%u_star(x_max))\n"
     ]
    },
    {
     "ename": "NameError",
     "evalue": "name 'h_e' is not defined",
     "output_type": "error",
     "traceback": [
      "\u001b[0;31m---------------------------------------------------------------------------\u001b[0m",
      "\u001b[0;31mNameError\u001b[0m                                 Traceback (most recent call last)",
      "Cell \u001b[0;32mIn[17], line 36\u001b[0m\n\u001b[1;32m     34\u001b[0m \u001b[38;5;66;03m#Plotting the flux\u001b[39;00m\n\u001b[1;32m     35\u001b[0m plt\u001b[38;5;241m.\u001b[39mfigure()\n\u001b[0;32m---> 36\u001b[0m plt\u001b[38;5;241m.\u001b[39mplot(np\u001b[38;5;241m.\u001b[39mlinspace(x_min,x_max,\u001b[38;5;241m2000\u001b[39m),\u001b[38;5;241m-\u001b[39mk_cond(np\u001b[38;5;241m.\u001b[39mlinspace(x_min,x_max,\u001b[38;5;241m2000\u001b[39m))\u001b[38;5;241m*\u001b[39m\u001b[43mu_star_prime\u001b[49m\u001b[43m(\u001b[49m\u001b[43m(\u001b[49m\u001b[43mnp\u001b[49m\u001b[38;5;241;43m.\u001b[39;49m\u001b[43mlinspace\u001b[49m\u001b[43m(\u001b[49m\u001b[43mx_min\u001b[49m\u001b[43m,\u001b[49m\u001b[43mx_max\u001b[49m\u001b[43m,\u001b[49m\u001b[38;5;241;43m2000\u001b[39;49m\u001b[43m)\u001b[49m\u001b[43m)\u001b[49m\u001b[43m)\u001b[49m,label\u001b[38;5;241m=\u001b[39m\u001b[38;5;124m'\u001b[39m\u001b[38;5;124mRayleigh-Ritz solution\u001b[39m\u001b[38;5;124m'\u001b[39m)\n\u001b[1;32m     37\u001b[0m plt\u001b[38;5;241m.\u001b[39mxlabel(\u001b[38;5;124m\"\u001b[39m\u001b[38;5;124mPosition along the width of the channel wall [m]\u001b[39m\u001b[38;5;124m\"\u001b[39m)\n\u001b[1;32m     38\u001b[0m plt\u001b[38;5;241m.\u001b[39mylabel(\u001b[38;5;124m\"\u001b[39m\u001b[38;5;124mHeat flux [W/m2]\u001b[39m\u001b[38;5;124m\"\u001b[39m)\n",
      "Cell \u001b[0;32mIn[17], line 18\u001b[0m, in \u001b[0;36mu_star_prime\u001b[0;34m(x)\u001b[0m\n\u001b[1;32m     16\u001b[0m g_x \u001b[38;5;241m=\u001b[39m lift_func_prime(x)\n\u001b[1;32m     17\u001b[0m \u001b[38;5;28;01mfor\u001b[39;00m j \u001b[38;5;129;01min\u001b[39;00m \u001b[38;5;28mrange\u001b[39m(\u001b[38;5;28mlen\u001b[39m(phi_list)):\n\u001b[0;32m---> 18\u001b[0m     g_x\u001b[38;5;241m=\u001b[39mg_x\u001b[38;5;241m+\u001b[39m(c_star_vec[j])\u001b[38;5;241m*\u001b[39m((\u001b[38;5;241m2\u001b[39m\u001b[38;5;241m/\u001b[39m\u001b[43mh_e\u001b[49m)\u001b[38;5;241m*\u001b[39mphi_prime_list[j](x))\n\u001b[1;32m     19\u001b[0m \u001b[38;5;28;01mreturn\u001b[39;00m g_x\n",
      "\u001b[0;31mNameError\u001b[0m: name 'h_e' is not defined"
     ]
    },
    {
     "data": {
      "text/plain": [
       "<Figure size 640x480 with 0 Axes>"
      ]
     },
     "metadata": {},
     "output_type": "display_data"
    }
   ],
   "source": [
    "'''Solution'''\n",
    "'''Compute optimal coefficient vector'''\n",
    "import matplotlib.pyplot as plt\n",
    "import numpy as np\n",
    "\n",
    "c_star_vec = np.linalg.solve(a_mtrx, b_vec)\n",
    "\n",
    "'''Plot comparison of f and g_best_vec'''\n",
    "def u_star(x):\n",
    "    g_x = lift_func(x)\n",
    "    for (j, phi_i) in enumerate(phi_list):\n",
    "        g_x = g_x + (c_star_vec[j]) * phi_i(x)\n",
    "    return g_x\n",
    "\n",
    "def u_star_prime(x):\n",
    "    g_x = lift_func_prime(x)\n",
    "    for j in range(len(phi_list)):\n",
    "        g_x=g_x+(c_star_vec[j])*((2/h_e)*phi_prime_list[j](x))\n",
    "    return g_x\n",
    "\n",
    "plt.figure()\n",
    "plt.plot(np.linspace(x_min,x_max,2000), u_star(np.linspace(x_min,x_max,2000)),label='Rayleigh-Ritz solution')\n",
    "plt.title('Solutions with Dirichlet BC, constant source and conductivity')\n",
    "plt.xlabel(\"Position aling the width of the channel wall [m]\")\n",
    "plt.ylabel(\"Temperature [°C]\")\n",
    "plt.legend()\n",
    "plt.grid()\n",
    "plt.show()\n",
    "\n",
    "#Temperuature values at the beginning and end of the domain\n",
    "print('The value of the function at the leftmost end of the domain is: %4.2f [°C].'%u_star(x_min))\n",
    "print('The value of the function at the rightmost end of the domain is: %4.2f [°C].'%u_star(x_max))\n",
    "\n",
    "#Plotting the flux\n",
    "plt.figure()\n",
    "plt.plot(np.linspace(x_min,x_max,2000),-k_cond(np.linspace(x_min,x_max,2000))*u_star_prime((np.linspace(x_min,x_max,2000))),label='Rayleigh-Ritz solution')\n",
    "plt.xlabel(\"Position along the width of the channel wall [m]\")\n",
    "plt.ylabel(\"Heat flux [W/m2]\")\n",
    "plt.legend()\n",
    "plt.grid()\n",
    "plt.show()\n",
    "\n",
    "print(\"Flux at the boundary:\") \n",
    "print('q_na computed = ', -k_cond(x_min)*u_star_prime(x_min))\n",
    "print('q_nb computed = ', -k_cond(x_max)*u_star_prime(x_max))"
   ]
  },
  {
   "cell_type": "code",
   "execution_count": null,
   "id": "54449d77-b322-4236-a13f-2e94739b82b2",
   "metadata": {},
   "outputs": [],
   "source": []
  },
  {
   "cell_type": "code",
   "execution_count": null,
   "id": "b94ca37c-f3c0-4547-b873-964e34e0d810",
   "metadata": {},
   "outputs": [],
   "source": []
  }
 ],
 "metadata": {
  "kernelspec": {
   "display_name": "Python 3 (ipykernel)",
   "language": "python",
   "name": "python3"
  },
  "language_info": {
   "codemirror_mode": {
    "name": "ipython",
    "version": 3
   },
   "file_extension": ".py",
   "mimetype": "text/x-python",
   "name": "python",
   "nbconvert_exporter": "python",
   "pygments_lexer": "ipython3",
   "version": "3.11.5"
  }
 },
 "nbformat": 4,
 "nbformat_minor": 5
}
