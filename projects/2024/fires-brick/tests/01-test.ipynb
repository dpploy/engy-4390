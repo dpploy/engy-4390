{
 "cells": [
  {
   "cell_type": "markdown",
   "id": "4348ba7f-7510-48cf-8f91-c919f17b33cf",
   "metadata": {},
   "source": [
    "**Engy-4390** Nuclear Systems Design and Analysis, UMass Lowell, Chem. Eng. Nuclear Program Fall 2024; Prof. V. F. de Almeida\n",
    "\n",
    "# Constant Thermal Conductivity, Constant Source, and Dirichlet BC"
   ]
  },
  {
   "cell_type": "markdown",
   "id": "d801a82f-2422-4784-848a-05a41bd9dd6b",
   "metadata": {},
   "source": [
    "**Student(s):**  Kyle Mills and Billy Manco and Donaita Anglade <br>\n",
    "**Course:** Engy-4390: Nuclear Systems Design and Analysis  <br>\n",
    "**Mentor and Collaborator:** Subash Sharma\n",
    "\n",
    "UMass Lowell, Dept. of Chemical Engineering, Nuclear Energy Program \n",
    "<br>\n",
    "**21 Oct 2024**"
   ]
  },
  {
   "cell_type": "markdown",
   "id": "f124b967-ed8a-473c-acdf-b2c4b312a2fa",
   "metadata": {},
   "source": [
    "---\n",
    "## Table of Contents<a id=\"toc\"></a>\n",
    "* [Problem conditions](#whatisit)\n",
    "* [Setup](#setup)\n",
    "* [Test One](#test)\n",
    "---"
   ]
  },
  {
   "cell_type": "markdown",
   "id": "dc2a4ce1-91f0-401c-8e8e-2df96c508cf5",
   "metadata": {},
   "source": [
    "## [Problem conditions](#toc)<a id='whatisit'></a>\n",
    "\n",
    "A constant thermal conductivity with a constant source are used with temperature enforced on both ends of the domain. Namely,\n",
    "\n",
    " + $k(x) = 87219 \\left [ \\frac{W}{mK} \\right ]$\n",
    " + $f(x)= 206151\\; \\left [ \\frac{W}{m^{3}} \\right ]$\n",
    " + $T(a)= 20$ [°C], and $T(b)= 40$ [°C]\n",
    "\n",
    "respectively."
   ]
  },
  {
   "cell_type": "markdown",
   "id": "e0a9fd66-eb11-4ecd-91e2-41e7e3cb6625",
   "metadata": {},
   "source": [
    "## [Setup](#toc)<a id=\"setup\"></a>"
   ]
  },
  {
   "cell_type": "code",
   "execution_count": 1,
   "id": "b287b06b-576e-415a-9196-f979c07c28b3",
   "metadata": {},
   "outputs": [],
   "source": [
    "'''Generate the target function f'''\n",
    "import matplotlib.pyplot as plt\n",
    "import numpy as np\n",
    "from scipy.interpolate import interp1d\n",
    "from scipy.integrate import quad"
   ]
  },
  {
   "cell_type": "code",
   "execution_count": 2,
   "id": "423bde0b-a0bf-4fb4-b4cc-bc5afda5303c",
   "metadata": {},
   "outputs": [],
   "source": [
    "'''Domain'''\n",
    "'''Rayleigh Ritz Method with Lagrange FE Basis Functions'''\n",
    "x_min=0\n",
    "x_max=0.05\n",
    "\n",
    "degree = 2  #Degree of the lagrange polinomials used\n",
    "n_elem = 10 #Number of elements used"
   ]
  },
  {
   "cell_type": "code",
   "execution_count": 3,
   "id": "c4d506a3-002d-4216-b003-b85953d710dd",
   "metadata": {},
   "outputs": [],
   "source": [
    "'''Domain partition'''\n",
    "from pyfires import get_domain_partition"
   ]
  },
  {
   "cell_type": "code",
   "execution_count": 4,
   "id": "0f20f651-8496-4124-b94e-9a9ab7c59457",
   "metadata": {},
   "outputs": [],
   "source": [
    "'''Parent mapping'''\n",
    "from pyfires import get_parent_mapping"
   ]
  },
  {
   "cell_type": "code",
   "execution_count": 5,
   "id": "b064fdbb-6df2-460a-acde-819edc36e06d",
   "metadata": {},
   "outputs": [],
   "source": [
    "'''The basis functions'''\n",
    "from pyfires import get_parent_basis_functions"
   ]
  },
  {
   "cell_type": "code",
   "execution_count": 6,
   "id": "3f865b10-cfaa-4363-a7a9-fa727c89a17a",
   "metadata": {},
   "outputs": [],
   "source": [
    "'''Again the function for the obtaining of the basis functions'''\n",
    "from pyfires import global_basis_function"
   ]
  },
  {
   "cell_type": "code",
   "execution_count": 7,
   "id": "d6bc1c0e-141f-4ce0-8bcc-b5217c709beb",
   "metadata": {},
   "outputs": [],
   "source": [
    "'''All global basis functions'''\n",
    "from pyfires import get_global_basis_functions"
   ]
  },
  {
   "cell_type": "code",
   "execution_count": 8,
   "id": "a249f31f-a214-40e0-8db9-5dfaf093954a",
   "metadata": {},
   "outputs": [],
   "source": [
    "'''Pedagogical inner product'''\n",
    "from pyfires import inner_product"
   ]
  },
  {
   "cell_type": "code",
   "execution_count": 9,
   "id": "770ba17a-4e84-4912-b364-bda1b650762d",
   "metadata": {},
   "outputs": [
    {
     "ename": "ImportError",
     "evalue": "cannot import name 'constant_thermal' from 'pyfires' (/home/dealmeida/OneDrive/uml-courses/engy-4390/github-repo/projects/2024/fires-brick/tests/pyfires.py)",
     "output_type": "error",
     "traceback": [
      "\u001b[0;31m---------------------------------------------------------------------------\u001b[0m",
      "\u001b[0;31mImportError\u001b[0m                               Traceback (most recent call last)",
      "Cell \u001b[0;32mIn[9], line 2\u001b[0m\n\u001b[1;32m      1\u001b[0m \u001b[38;5;124;03m'''Thermal Conductivity'''\u001b[39;00m\n\u001b[0;32m----> 2\u001b[0m \u001b[38;5;28;01mfrom\u001b[39;00m \u001b[38;5;21;01mpyfires\u001b[39;00m \u001b[38;5;28;01mimport\u001b[39;00m constant_thermal\n",
      "\u001b[0;31mImportError\u001b[0m: cannot import name 'constant_thermal' from 'pyfires' (/home/dealmeida/OneDrive/uml-courses/engy-4390/github-repo/projects/2024/fires-brick/tests/pyfires.py)"
     ]
    }
   ],
   "source": [
    "'''Thermal Conductivity'''\n",
    "from pyfires import constant_thermal"
   ]
  },
  {
   "cell_type": "code",
   "execution_count": null,
   "id": "8a8946a1-ddc6-4332-a7c8-5ea8e7370605",
   "metadata": {},
   "outputs": [],
   "source": [
    "'''Heat Generation Source'''\n",
    "from pyfires import heat_gen_pts"
   ]
  },
  {
   "cell_type": "markdown",
   "id": "ae240bf1-4b9c-4522-b331-cc82d65b8824",
   "metadata": {},
   "source": [
    "## [Implementing Constrants](#toc)<a id=\"test\"></a>"
   ]
  },
  {
   "cell_type": "markdown",
   "id": "7803b109-0759-44d0-89d1-497ba2e8dae2",
   "metadata": {},
   "source": [
    "Test one constraints the system to a constant conductivity and constant source term with a Dirichlet boundary condition. The goal of simulating the domain under these conditions is to produce a graphical solution on how heat is transfered. "
   ]
  },
  {
   "cell_type": "code",
   "execution_count": null,
   "id": "558f6539-b334-464d-bbba-174946cae389",
   "metadata": {},
   "outputs": [],
   "source": [
    "'''Thermal conductivity'''\n",
    "k_cond = constant_thermal()\n",
    "\n",
    "#Comment out the below if interested in seeing this graph\n",
    "#plt.figure()\n",
    "#plt.plot(np.linspace(0,0.05,200),k_cond(np.linspace(0,0.05,200)),label='Target Function')\n",
    "#plt.title('Thermal Conductivity') \n",
    "#plt.xlabel(\"Position along the width of the channel wall [m]\")\n",
    "#plt.ylabel(\"K [W/mK]\") \n",
    "#plt.grid()"
   ]
  },
  {
   "cell_type": "markdown",
   "id": "7b95f18d-f523-4e20-be50-7273c0eb6f45",
   "metadata": {},
   "source": [
    "The thermal conductivity graph is here to demonstrate that the value for thermal conductivty remains constant as you move between points a and b through the brick. "
   ]
  },
  {
   "cell_type": "code",
   "execution_count": null,
   "id": "c4d5cf60-83db-41f3-a83f-b302e2902dc6",
   "metadata": {},
   "outputs": [],
   "source": [
    "'''Source bias'''\n",
    "func_x = heat_gen_pts()\n",
    "\n",
    "#Comment out below if intersted in seeing this graph\n",
    "#plt.figure()\n",
    "#plt.plot(np.linspace(0,0.05,200),func_x(np.linspace(0,0.05,200)),label='Target Function')\n",
    "#plt.title('Values for f(x)') \n",
    "#plt.xlabel(\"Position along the width of the channel wall [m]\") \n",
    "#plt.ylabel(\"Heat Generation Density [W/m^3]\") \n",
    "#plt.grid()\n",
    "#plt.show()"
   ]
  },
  {
   "cell_type": "markdown",
   "id": "9c00d11e-c5da-47dc-ab96-0917a67d3d33",
   "metadata": {},
   "source": [
    "The heat generation density graph is here to demonstrate that the value for the heat generation denisty remains constant through points a and b in the brick. "
   ]
  },
  {
   "cell_type": "code",
   "execution_count": null,
   "id": "cb248c68-51f0-4677-82d9-efb9fc3d21c1",
   "metadata": {},
   "outputs": [],
   "source": [
    "'''Building the slope function'''\n",
    "u_a=20 #temperature at point a in degrees C\n",
    "u_b=40 #temperature at point b in degrees C\n",
    "\n",
    "temp_area = [(0,u_a),(0.05,u_b)] #change in temperature from point a to point b \n",
    "temperature=np.array(temp_area)\n",
    "temp_func=interp1d(temperature[:,0],temperature[:,1])\n",
    "\n",
    "#Slope of heat generation source \n",
    "func_prime=((u_b-u_a)/(x_max-x_min)) \n",
    "slope_pts = [(0,func_prime),(0.05,func_prime)]\n",
    "slope_prime=np.array(slope_pts)\n",
    "slope_func=interp1d(slope_prime[:,0],slope_prime[:,1])\n",
    "\n",
    "plt.figure()\n",
    "plt.plot(np.linspace(0,0.05,200),temp_func(np.linspace(0,0.05,200)))\n",
    "plt.title(\"Change in temperature across the domain\")\n",
    "plt.xlabel(\"Position along the width of the channel [m]\") \n",
    "plt.ylabel(\"Temperature [C]\") \n",
    "plt.grid()\n",
    "plt.show()\n",
    "\n",
    "plt.figure()\n",
    "plt.plot(np.linspace(0,0.05,200),slope_func(np.linspace(0,0.05,200)))\n",
    "plt.title(\"Derivative of Heat Generation Source\") \n",
    "plt.xlabel(\"Position along the width of the channel [m]\")\n",
    "plt.ylabel(\"Heat flux[C/m]\")\n",
    "plt.grid()\n",
    "plt.show()"
   ]
  },
  {
   "cell_type": "code",
   "execution_count": null,
   "id": "5e57b288-47cd-4622-b9c7-5f0a34ad8e6c",
   "metadata": {},
   "outputs": [],
   "source": [
    "'''FEM Solution'''\n",
    "domain_partition = get_domain_partition(degree, n_elem, x_min, x_max)\n",
    "parent_mapping = get_parent_mapping()\n",
    "parent_basis_functions = get_parent_basis_functions()\n",
    "\n",
    "phi_list = get_global_basis_functions(domain_partition, parent_mapping, parent_basis_functions, global_basis_function)[0]\n",
    "phi_prime_list = get_global_basis_functions(domain_partition, parent_mapping, parent_basis_functions, global_basis_function)[1]"
   ]
  },
  {
   "cell_type": "code",
   "execution_count": null,
   "id": "e51ab128-1745-4a6f-80ee-7ad80aceaa94",
   "metadata": {},
   "outputs": [],
   "source": [
    "#Building of the A matrix\n",
    "A_mtrx = np.zeros((len(phi_list), len(phi_list)), dtype=np.float64)\n",
    "patches = domain_partition[0]\n",
    "for i in range(len(phi_list)):\n",
    "    for j in range(len(phi_list)):\n",
    "        \n",
    "        phi_i=phi_list[i]\n",
    "        phi_j=phi_list[j]\n",
    "        \n",
    "        phi_prime_i=phi_prime_list[i]\n",
    "        phi_prime_j=phi_prime_list[j]\n",
    "        \n",
    "        h_e=(x_max-x_min)/n_elem\n",
    "        \n",
    "        d_x_phi_prime_j = lambda x: k_cond(x) * ((2/h_e)*phi_prime_j(x))\n",
    "        \n",
    "        prima = lambda x: phi_prime_i(x)*(2/h_e)\n",
    "        \n",
    "        A_mtrx[i,j] = inner_product(prima, d_x_phi_prime_j, patches)"
   ]
  },
  {
   "cell_type": "code",
   "execution_count": null,
   "id": "e5c25486-6403-4408-bb4a-d98c46763a30",
   "metadata": {},
   "outputs": [],
   "source": [
    "'''Build load vector'''\n",
    "#The load vector\n",
    "b_vec = np.zeros(len(phi_list), dtype=np.float64)\n",
    "patches = domain_partition[0]\n",
    "\n",
    "for i in range(len(phi_list)):\n",
    "    phi_i=phi_list[i]\n",
    "    phi_prime_i=phi_prime_list[i]\n",
    "    \n",
    "    b_vec[i] = inner_product(func_x, phi_i, patches)\n",
    "    \n",
    "    first_term = lambda x: slope_func(x)*k_cond(x)\n",
    "    phi_prima_i = lambda x: phi_prime_i(x)*(2/h_e)\n",
    "    \n",
    "    b_vec[i] -= inner_product(first_term, phi_prima_i, patches)\n",
    "\n",
    "#Attempting to fix the error relating to how the integral is solved\n",
    "#IntegrationWarning: THe occurrence of roundoof error is detected, which prevents the requst tolerance from being achieved. The error may be understimated\n",
    "# (inner_product_e,_) = quad(integrand, nodes_x[0], nodes_x[-1])"
   ]
  },
  {
   "cell_type": "code",
   "execution_count": null,
   "id": "95eb897a-1767-4974-994e-bac747a7b3e4",
   "metadata": {},
   "outputs": [],
   "source": [
    "'''Solution'''\n",
    "'''Compute optimal coefficient vector'''\n",
    "c_star_vec = np.linalg.solve(A_mtrx, b_vec)\n",
    "\n",
    "'''Plot comparison of f and g_best_vec'''\n",
    "def u_star(x):\n",
    "    g_x=temp_func(x)\n",
    "    for (j,phi_i) in enumerate(phi_list):\n",
    "        g_x=g_x+(c_star_vec[j])*phi_i(x)\n",
    "    return g_x\n",
    "\n",
    "def u_star_prime(x):\n",
    "    g_x=slope_func(x)\n",
    "    for j in range(len(phi_list)):\n",
    "        g_x=g_x+(c_star_vec[j])*((2/h_e)*phi_prime_list[j](x))\n",
    "    return g_x\n",
    "\n",
    "plt.figure()\n",
    "plt.plot(np.linspace(x_min,x_max,2000),u_star(np.linspace(x_min,x_max,2000)),label='Rayleigh-Ritz solution')\n",
    "plt.title('Solutions with Dirichlet BC, constant source and conductivity')\n",
    "plt.xlabel(\"Position aling the width of the channel wall [m]\")\n",
    "plt.ylabel(\"Temperature [°C]\")\n",
    "plt.legend()\n",
    "plt.grid()\n",
    "plt.show()\n",
    "\n",
    "#Temperuature values at the beginning and end of the domain\n",
    "print('The value of the function at the leftmost end of the domain is: %4.2f [°C].'%u_star(x_min))\n",
    "print('The value of the function at the rightmost end of the domain is: %4.2f [°C].'%u_star(x_max))\n",
    "\n",
    "#Plotting the flux\n",
    "plt.figure()\n",
    "plt.plot(np.linspace(x_min,x_max,2000),-k_cond(np.linspace(x_min,x_max,2000))*u_star_prime((np.linspace(x_min,x_max,2000))),label='Rayleigh-Ritz solution')\n",
    "plt.xlabel(\"Position along the width of the channel wall [m]\")\n",
    "plt.ylabel(\"Heat flux [W/m2]\")\n",
    "plt.legend()\n",
    "plt.grid()\n",
    "plt.show()\n",
    "\n",
    "print(\"Flux at the boundary:\") \n",
    "print('q_na computed = ', -k_cond(x_min)*u_star_prime(x_min))\n",
    "print('q_nb computed = ', -k_cond(x_max)*u_star_prime(x_max))"
   ]
  }
 ],
 "metadata": {
  "kernelspec": {
   "display_name": "Python 3 (ipykernel)",
   "language": "python",
   "name": "python3"
  },
  "language_info": {
   "codemirror_mode": {
    "name": "ipython",
    "version": 3
   },
   "file_extension": ".py",
   "mimetype": "text/x-python",
   "name": "python",
   "nbconvert_exporter": "python",
   "pygments_lexer": "ipython3",
   "version": "3.12.6"
  }
 },
 "nbformat": 4,
 "nbformat_minor": 5
}
