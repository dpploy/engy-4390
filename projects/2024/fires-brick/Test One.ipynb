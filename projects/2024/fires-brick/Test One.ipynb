{
 "cells": [
  {
   "cell_type": "markdown",
   "id": "4348ba7f-7510-48cf-8f91-c919f17b33cf",
   "metadata": {},
   "source": [
    "**Engy-4390** Nuclear Systems Design and Analysis, UMass Lowell, Chem. Eng. Nuclear Program Fall 2024; Prof. V. F. de Almeida\n",
    "\n",
    "# Discussion On Test One"
   ]
  },
  {
   "cell_type": "markdown",
   "id": "d801a82f-2422-4784-848a-05a41bd9dd6b",
   "metadata": {},
   "source": [
    "**Student(s):**  Kyle Mills and Billy Manco and Donaita Anglade <br>\n",
    "**Course:** Engy-4390: Nuclear Systems Design and Analysis  <br>\n",
    "**Mentor and Collaborator:** Subash Sharma\n",
    "\n",
    "UMass Lowell, Dept. of Chemical Engineering, Nuclear Energy Program \n",
    "<br>\n",
    "**29 Sept 2024**"
   ]
  },
  {
   "cell_type": "markdown",
   "id": "dc2a4ce1-91f0-401c-8e8e-2df96c508cf5",
   "metadata": {},
   "source": [
    "## [What is a Dirichet BC](#toc)<a id='Whatisit'></a>"
   ]
  },
  {
   "cell_type": "markdown",
   "id": "4e92e028-363e-4c30-ab51-fab10ea6b772",
   "metadata": {},
   "source": [
    "The Dirichlet boundary condition (BC) is imposed on an ordinary or partial differental equation, such that the values that the solution takes along the boundary of the domain are fixed. The question of finding solutions to such equations is known as the DIrichlet problem, also called a fixed boundary condition.\n",
    "\n",
    "THe applicaiton of a Dirichlet BC in the context of this project is as a heat transfer problem, where a surgace is held at a fixed temperature. "
   ]
  },
  {
   "cell_type": "markdown",
   "id": "027c987f-6a56-449a-b99b-d1500d24e6ff",
   "metadata": {},
   "source": [
    "The first test will be done with Dirichlet BC and using constant conductivity and source. The Dirichlet Boundary conditions are as follows:\n",
    "\n",
    "\\begin{align*}\n",
    "T_{a}=20\\; [°C]\n",
    "\\end{align*}\n",
    "\n",
    "\\begin{align*}\n",
    "T_{b}=40\\; [°C]\n",
    "\\end{align*}"
   ]
  },
  {
   "cell_type": "markdown",
   "id": "e40a07a6-8666-4cc3-a489-b90c09b1fea6",
   "metadata": {},
   "source": [
    "Some parameters will be defined next. We define a constant value of $31 \\left [ \\frac{W}{mK} \\right ] $ and a value of $156940\\; \\left [ \\frac{W}{m^{3}} \\right ]$ for the heat generation density"
   ]
  },
  {
   "cell_type": "code",
   "execution_count": null,
   "id": "558f6539-b334-464d-bbba-174946cae389",
   "metadata": {},
   "outputs": [],
   "source": []
  }
 ],
 "metadata": {
  "kernelspec": {
   "display_name": "Python 3 (ipykernel)",
   "language": "python",
   "name": "python3"
  },
  "language_info": {
   "codemirror_mode": {
    "name": "ipython",
    "version": 3
   },
   "file_extension": ".py",
   "mimetype": "text/x-python",
   "name": "python",
   "nbconvert_exporter": "python",
   "pygments_lexer": "ipython3",
   "version": "3.11.5"
  }
 },
 "nbformat": 4,
 "nbformat_minor": 5
}
