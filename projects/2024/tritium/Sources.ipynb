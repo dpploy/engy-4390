{
 "cells": [
  {
   "cell_type": "code",
   "execution_count": 21,
   "id": "f0e26147-cd16-4bd3-be64-4983582c0b64",
   "metadata": {},
   "outputs": [],
   "source": [
    "# Sources: (Last Updated: [2024-9-22])\n",
    "# See if you can import directly from Zotero\n",
    "\n",
    "# 1.) ANSYS Inc. (Year). ANSYS CFD Software 2021 R1. ANSYS Fluent. Retrieved from https://www.ansys.com\n",
    "# 2.) A. N. PEREVEZENTSEV et al., “Comparative study of the tritium distribution in metals,” Journal of Nuclear Materials 372 2, 263 (2008); https://doi.org/10.1016/j.jnucmat.2007.03.215.\n",
    "# 3.) J. STOVER, “Attachment A Physical and Chemical Properties of Tritium.”\n",
    "# 4.) M. SHARPE et al., “TRITIUM MIGRATION TO THE SURFACES OF STAINLESS-STEEL 316, ALUMINUM 6061, AND OXYGEN-FREE, HIGH-CONDUCTIVITY COPPER.”\n",
    "# 5.) P. HUMRICKHOUSE “Tritium Transport Phenomena in Molten-Salt Reactors”\n",
    "# 6.) T. F. FUERST, P. W. HUMRICKHOUSE, and C. N. TAYLOR, “Molten-Salt Tritium Transport Experiment Design.”\n",
    "# 7.) W. T. SHMAYDA, “Tritium Interaction with Metal Surfaces.”\n",
    " \n"
   ]
  },
  {
   "cell_type": "code",
   "execution_count": null,
   "id": "3597b2ea-3158-4ffd-8265-89058954c6eb",
   "metadata": {},
   "outputs": [],
   "source": [
    "#TODO: Link Devices Sources"
   ]
  },
  {
   "cell_type": "code",
   "execution_count": 15,
   "id": "dbac3b0e-41e0-4db5-a58c-5df5f07597bf",
   "metadata": {},
   "outputs": [],
   "source": [
    "#TODO: Resolve error of it trying to run purely as code"
   ]
  },
  {
   "cell_type": "code",
   "execution_count": 16,
   "id": "011a8b89-bbb3-4cd0-8136-30dea5dd214a",
   "metadata": {},
   "outputs": [],
   "source": [
    "#TODO: Purge Unnecessary Sources"
   ]
  },
  {
   "cell_type": "code",
   "execution_count": 17,
   "id": "56353cc1-d3ce-4a1e-a178-11d08ef360da",
   "metadata": {},
   "outputs": [],
   "source": [
    "#TODO: Unify citations under ANS Standard"
   ]
  },
  {
   "cell_type": "code",
   "execution_count": null,
   "id": "efb62c49-d7ed-4838-8a75-f26a5d9019e7",
   "metadata": {},
   "outputs": [],
   "source": []
  }
 ],
 "metadata": {
  "kernelspec": {
   "display_name": "Python 3 (ipykernel)",
   "language": "python",
   "name": "python3"
  },
  "language_info": {
   "codemirror_mode": {
    "name": "ipython",
    "version": 3
   },
   "file_extension": ".py",
   "mimetype": "text/x-python",
   "name": "python",
   "nbconvert_exporter": "python",
   "pygments_lexer": "ipython3",
   "version": "3.11.5"
  }
 },
 "nbformat": 4,
 "nbformat_minor": 5
}
