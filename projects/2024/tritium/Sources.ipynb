{
 "cells": [
  {
   "cell_type": "markdown",
   "id": "f319abdd-6ae5-44cc-80c7-8c3587b9e557",
   "metadata": {},
   "source": [
    "**Sources:** (Last Updated: [2024-9-23]) <br>\n",
    "\n",
    "1.) ANSYS Inc. (Year). ANSYS CFD Software 2021 R1. ANSYS Fluent. Retrieved from https://www.ansys.com <br>\n",
    "2.) A. N. PEREVEZENTSEV et al., “Comparative study of the tritium distribution in metals,” Journal of Nuclear Materials 372 2, 263 (2008); https://doi.org/10.1016/j.jnucmat.2007.03.215. <br>\n",
    "3.) J. STOVER, “Attachment A Physical and Chemical Properties of Tritium.” <br>\n",
    "4.) M. SHARPE et al., “TRITIUM MIGRATION TO THE SURFACES OF STAINLESS-STEEL 316, ALUMINUM 6061, AND OXYGEN-FREE, HIGH-CONDUCTIVITY COPPER.” <br>\n",
    "5.) P. HUMRICKHOUSE “Tritium Transport Phenomena in Molten-Salt Reactors” <br>\n",
    "6.) T. F. FUERST, P. W. HUMRICKHOUSE, and C. N. TAYLOR, “Molten-Salt Tritium Transport Experiment Design.” <br>\n",
    "7.) W. T. SHMAYDA, “Tritium Interaction with Metal Surfaces.” <br>\n",
    " \n"
   ]
  },
  {
   "cell_type": "markdown",
   "id": "ee6a8864-a7ea-41e8-8960-5d359337c7f7",
   "metadata": {},
   "source": [
    "**TODO:** Purge Unnecessary Sources"
   ]
  },
  {
   "cell_type": "markdown",
   "id": "4395e629-9828-44f9-b41a-b1b2383da3b3",
   "metadata": {},
   "source": [
    "**TODO:** Unify citations under ANS Standard"
   ]
  },
  {
   "cell_type": "markdown",
   "id": "0ea0eb38-03a1-4ac9-b218-0dba7e7caa6d",
   "metadata": {},
   "source": [
    "**Goal:**\n",
    "The goal of the project is to complete the convection modelling for the MOOSE simulations, furthering the work of Anthony Bowers. <br>\n",
    "The project will be expanded into tritium diffusion in metals"
   ]
  }
 ],
 "metadata": {
  "kernelspec": {
   "display_name": "Python 3 (ipykernel)",
   "language": "python",
   "name": "python3"
  },
  "language_info": {
   "codemirror_mode": {
    "name": "ipython",
    "version": 3
   },
   "file_extension": ".py",
   "mimetype": "text/x-python",
   "name": "python",
   "nbconvert_exporter": "python",
   "pygments_lexer": "ipython3",
   "version": "3.12.4"
  }
 },
 "nbformat": 4,
 "nbformat_minor": 5
}
