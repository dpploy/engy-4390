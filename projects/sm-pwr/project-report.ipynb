{
 "cells": [
  {
   "cell_type": "markdown",
   "metadata": {},
   "source": [
    "**Engy-4390** Nuclear Systems Design and Analysis, UMass Lowell, Chem. Eng. Nuclear Program Fall 2020\n",
    "\n",
    "# NuScale 720 SMR BoP Simulation Final Report\n",
    "$  \n",
    "  \\newcommand{\\Amtrx}{\\boldsymbol{\\mathsf{A}}}\n",
    "  \\newcommand{\\Bmtrx}{\\boldsymbol{\\mathsf{B}}}\n",
    "  \\newcommand{\\Mmtrx}{\\boldsymbol{\\mathsf{M}}}\n",
    "  \\newcommand{\\Imtrx}{\\boldsymbol{\\mathsf{I}}}\n",
    "  \\newcommand{\\Pmtrx}{\\boldsymbol{\\mathsf{P}}}\n",
    "  \\newcommand{\\Lmtrx}{\\boldsymbol{\\mathsf{L}}}\n",
    "  \\newcommand{\\Umtrx}{\\boldsymbol{\\mathsf{U}}}\n",
    "  \\newcommand{\\Smtrx}{\\boldsymbol{\\mathsf{S}}}\n",
    "  \\newcommand{\\xvec}{\\boldsymbol{\\mathsf{x}}}\n",
    "  \\newcommand{\\uvar}{\\boldsymbol{u}}\n",
    "  \\newcommand{\\fvar}{\\boldsymbol{f}}\n",
    "  \\newcommand{\\avec}{\\boldsymbol{\\mathsf{a}}}\n",
    "  \\newcommand{\\bvec}{\\boldsymbol{\\mathsf{b}}}\n",
    "  \\newcommand{\\cvec}{\\boldsymbol{\\mathsf{c}}}\n",
    "  \\newcommand{\\rvec}{\\boldsymbol{\\mathsf{r}}}\n",
    "  \\newcommand{\\mvec}{\\boldsymbol{\\mathsf{m}}}\n",
    "  \\newcommand{\\gvec}{\\boldsymbol{\\mathsf{g}}}\n",
    "  \\newcommand{\\zerovec}{\\boldsymbol{\\mathsf{0}}}\n",
    "  \\newcommand{\\norm}[1]{\\bigl\\lVert{#1}\\bigr\\rVert}\n",
    "  \\newcommand{\\transpose}[1]{{#1}^\\top}\n",
    "  \\DeclareMathOperator{\\rank}{rank}\n",
    "  \\newcommand{\\Power}{\\mathcal{P}}\n",
    "$"
   ]
  },
  {
   "cell_type": "markdown",
   "metadata": {},
   "source": [
    "**Students:** Jack and Nik <br>\n",
    "**Course:** Engy-4390 Nuclear Systems Design and Analysis  <br>\n",
    "**Mentor:** Prof. Valmor F. de Almeida\n",
    "\n",
    "UMass Lowell, Dept. of Chemical Engineering, Nuclear Energy Program \n",
    "<br>\n",
    "**11Dec2020**"
   ]
  },
  {
   "cell_type": "markdown",
   "metadata": {},
   "source": [
    "---\n",
    "## Table of Contents<a id=\"toc\"></a>\n",
    "* [Introduction](#intro)\n",
    "* [Objectives](#obj)\n",
    "* [Input Data](#data)\n",
    "* [Steady state](#ss)\n",
    "\n",
    "* [Function library](#flib)\n",
    " + [Reactor](#reactor)\n",
    "   - [One-Group Energy Neutron Balance](#nbal)\n",
    "\n",
    " + [Steam Generator](#steamgen)\n",
    " + [Turbine](#turbine)\n",
    " + [Condenser](#condenser)\n",
    " + [Coupling](#coupling)\n",
    "    - [Vector ODE System](#vodes)\n",
    "* [Startup: Reactivity Step with Negative Feedback Results](#res1)\n",
    "* [References](#refs)\n",
    "---"
   ]
  },
  {
   "cell_type": "markdown",
   "metadata": {},
   "source": [
    "## [Introduction](#toc)<a id=\"intro\"></a>\n",
    "\n",
    "Introduction?\n"
   ]
  },
  {
   "cell_type": "markdown",
   "metadata": {},
   "source": [
    "## [Objectives](#toc)<a id=\"obj\"></a>\n",
    "\n",
    "Objectives?"
   ]
  },
  {
   "cell_type": "markdown",
   "metadata": {},
   "source": [
    "## [Input Data](#toc)<a id=\"data\"></a>\n",
    "\n",
    "Data pertaining to one-group energy neutron balance. \n",
    "\n",
    "Name                        | Parameter     | Value                | Unit             |\n",
    "----------------------------|---------------|----------------------|------------------| \n",
    "neutron generation time                           | $\\ell$             | $1\\times 10^{-4}$    |  s | \n",
    "delayed neutron fraction                          | $\\beta$            | $6.5\\times 10^{-3}$  |  - |\n",
    "neutron diffusion coeff.                          | $D$                | $0.84$              | cm |\n",
    "core radius                                       | $R$                | $1.8\\times 10^{2}$  | cm  |\n",
    "core height                                       | $H$                | $2.8\\times 10^{2}$  | cm  |\n",
    "infinite medium neutron reproduction factor       | $k_\\infty$ | 1.118 | - |\n",
    "graphite effective macroscopic absorption cross section ref. | $\\overline{\\Sigma}_\\text{a}^\\text{(o)} $ | $2.74\\times 10^{-4}$ |  cm$^{-1}$ |\n",
    "other quantities; possibly microscopic cross sections | . | . |\n",
    ". | . | . |\n",
    "\n",
    "For thermal fission of $^{235}$U the following six-group delayed neutron precursors data is typically used (*Physics of Nuclear Kinetics*, G. R. Keepin, 1965, Addison-Wesley Pub. Co.):\n",
    "\n",
    "\n",
    "Delayed neutron emitter group No. | Decay cte ($\\lambda_i$,1/sec) | Relative yield ($\\beta_i/\\beta$) |\n",
    "----------------------------------|-------------------------------|----------------------------------| \n",
    "1                                 | 0.0124                        | 0.033                            |\n",
    "2                                 | 0.0305                        | 0.219                            | \n",
    "3                                 | 0.111                         | 0.196                            |  \n",
    "4                                 | 0.301                         | 0.395                            | \n",
    "5                                 | 1.14                          | 0.115                            |\n",
    "6                                 | 3.01                          | 0.042                            |"
   ]
  },
  {
   "cell_type": "markdown",
   "metadata": {},
   "source": [
    "Data pertaining to two-temperature heat balances.\n",
    "\n",
    "Name                        | Parameter     | Value                | Unit             |\n",
    "----------------------------|---------------|----------------------|------------------| \n",
    "fission energy per fission                        | $G_\\text{f}$  | 180               | MeV/fission |\n",
    "$^{235}$U fuel enrichment                         | $\\epsilon$ | 3 | wt% |\n",
    "UO$_2$ fuel material mass density                 | $\\rho_\\text{fm}$ | 10.5 | g/cc |\n",
    "moderator-fuel ratio (atomic number concentration) | $N^{M}/N^{U}$ | 387 |\n",
    "$^{235}$U thermal microscopic fission cross section | $\\sigma_{\\text{f}_\\text{o}}$ | 586.2 | barn |\n",
    "thermal neutron temperature                       | $T^{(\\text{o})}$ | 20 | C |\n",
    "thermal neutron velocity                          | $v_\\text{(o)}$     | 2200 | m/s |\n",
    "heat transport coeff. | . | . | . |\n",
    "fuel/moderator heat capacity | . | . | . |\n",
    "coolant heat capacity | . | . | . |\n",
    "fuel/moderator mass density | . | . | . |\n",
    "coolant mass density | . | . | . |\n",
    "moderator/fuel volume | . | . | . |\n",
    "coolant volume | . | . | . |\n",
    "coolant flow rate | . | . | . |\n",
    "\n",
    "The residence time of the coolant in the core\n",
    "\n",
    "\\begin{equation*}\n",
    "\\tau = V_c / q_c\n",
    "\\end{equation*}\n"
   ]
  },
  {
   "cell_type": "code",
   "execution_count": 55,
   "metadata": {},
   "outputs": [
    {
     "name": "stdout",
     "output_type": "stream",
     "text": [
      "tau =  2.1604253397201156\n"
     ]
    }
   ],
   "source": [
    "##### '''Parameters'''\n",
    "\n",
    "import scipy.constants as unit # for unit conversion\n",
    "unit.second = 1.0\n",
    "unit.pascal = 1.0\n",
    "unit.meter = 1.0\n",
    "\n",
    "import math\n",
    "\n",
    "params = dict()\n",
    "\n",
    "#Data pertaining to one-group energy neutron balance\n",
    "params['gen_time']     = 1.0e-4  # s\n",
    "params['beta']         = 6.5e-3  # \n",
    "params['diff_coeff']   = 0.84 # cm\n",
    "#params['core radius']  = 1.8e+2 # cm\n",
    "#arams['core_height']  = 2.8e+2 # cm\n",
    "params['k_infty']      = 1.49826\n",
    "params['buckling'] = 1.538e-4\n",
    "#params['Sigma_a']      = 2.74e-4 # 1/cm\n",
    "\n",
    "params['alpha_n'] = -3e-6 # control rod reactivity worth\n",
    "#params['alpha_tn_fake'] = -1e-6 # temperature reactivity feedback\n",
    "\n",
    "params['n_dens_ss_operation'] = 5e14/2200 #  #neutrons/m^2\n",
    "\n",
    "#Delayed neutron emission\n",
    "params['species_decay']     = [0.0124, 0.0305, 0.111, 0.301, 1.14, 3.01] # 1/sec\n",
    "params['species_rel_yield'] = [0.033, 0.219, 0.196, 0.395, 0.115, 0.042] \n",
    "\n",
    "#Data pertaining to two-temperature heat balances\n",
    "params['fis_energy']           = 180 * 1.602e-13 # J/fission \n",
    "params['enrich']               = 5/100.\n",
    "params['fuel_mat_mass_dens']   = 10.8 # g/cc\n",
    "#params['moderator_fuel_ratio'] = 387 # atomic number concentration ratio\n",
    "params['sigma_f_o']            = 586.2 * 100 * 1e-30 # m2\n",
    "params['temp_o']               =  20 + 273.15 # K\n",
    "params['temp_f_0'] = 20 + 273.15 \n",
    "params['temp_c_ss_operation']  = 265 + 273.15# K desired ss operation temp of coolant\n",
    "params['thermal_neutron_velo'] = 2200 # m/s\n",
    "\n",
    "params['fis_nuclide_num_dens_fake'] = 9.84e26 # (fissile nuclei)/m3\n",
    "params['sg_efficiency'] =  0.79194\n",
    "params['mdot_secondary'] = 67.06867 # kg/s\n",
    "params['condenser_pressure'] =  0.008066866 #MPa\n",
    "params['coolant_flowrate'] = 666 #kg/s\n",
    "params['temp_inlet_ss'] = 265+273.15\n",
    "params['q_c'] = .89755 # volumetric flow rate\n",
    "\n",
    "params['fuel_dens']   = 10800 # kg/m3\n",
    "params['cp_fuel']     = 300 # J/(kg K)\n",
    "params['fuel_volume'] = .8565 # m3\n",
    "params['coolant_vol_flow'] = 0.995174404072919 # m3/s\n",
    "params['coolant_dens']   = 669.2294308156266 #  kg/m3\n",
    "params['cp_coolant']     =  1000*5.382268683703659# J/(mol K) - > J/(kg K)\n",
    "params['coolant_volume'] = 2.15 # m3\n",
    "\n",
    "params['ht_coeff'] = 466459.62 # W/K\n",
    "params['tau_hx'] =  5*unit.minute \n",
    "params['m2'] = 28.44\n",
    "\n",
    "params['Turbine_Efficiency'] = 0.778443953538741\n",
    "print('tau = ',2.15/0.995174404072919)"
   ]
  },
  {
   "cell_type": "markdown",
   "metadata": {},
   "source": [
    "## [Steady State](#toc)<a id=\"ss\"></a>\n",
    "\n",
    "Neutron density and delayed neutron precursor concentrations are related as follows:\n",
    "\n",
    "\\begin{align*}\n",
    "n_\\text{ss}  &= -\\frac{q_\\text{ss}\\,\\ell }{\\rho_\\text{ss} }\n",
    "\\\\\n",
    "c_{i_\\text{ss}}  &= \\frac{\\beta_i}{\\lambda_i\\,\\ell}\\, n_\\text{ss}   \\ \\ \\ \\ \\forall \\ \\ \\ \\ i=1,\\ldots,6 .\n",
    "\\end{align*}"
   ]
  },
  {
   "cell_type": "code",
   "execution_count": 56,
   "metadata": {
    "code_folding": []
   },
   "outputs": [],
   "source": [
    "'''Setup function for delayed neutron species concentrations at steady state'''\n",
    "\n",
    "def setup_initial_conditions(params):\n",
    "    \n",
    "    # setup the steady state for the delayed-neutron precursors\n",
    "    \n",
    "    n_species = len(params['species_decay'])\n",
    "    \n",
    "    assert len(params['species_rel_yield']) == n_species\n",
    "    \n",
    "    import numpy as np\n",
    "    c_vec_0 = np.zeros(n_species,dtype=np.float64) # initialize conentration vector\n",
    "\n",
    "    species_decay = params['species_decay'] # retrieve list of decay constants\n",
    "    lambda_vec    = np.array(species_decay) # create a numpy vector\n",
    "\n",
    "    species_rel_yield = params['species_rel_yield']\n",
    "    beta_vec = np.array(species_rel_yield) * beta  # create the beta_i's vector\n",
    "\n",
    "    gen_time = params['gen_time'] # retrieve neutron generation time\n",
    "\n",
    "    n_ss = params['n_ss']\n",
    "    c_vec_ss = beta_vec/lambda_vec/gen_time * n_ss # compute the steady state precursors number density\n",
    "    \n",
    "    params['c_vec_ss'] = c_vec_ss\n",
    "    \n",
    "    # setup initial condition for variables\n",
    "    params['n_0']     = n_ss\n",
    "    params['c_vec_0'] = c_vec_ss\n",
    "    params['rho_0']   = params['reactivity']\n",
    "    \n",
    "    #params['temp_f_0'] = params['temp_0']\n",
    "    #params['temp_c_0'] = params['temp_0']\n",
    "    params['temp_c_0'] = 25 + 273.15\n",
    "    return"
   ]
  },
  {
   "cell_type": "markdown",
   "metadata": {},
   "source": [
    "## [Function Library](#toc) <a id=\"flib\"></a>\n",
    "\n",
    "Functions used later in the notebook."
   ]
  },
  {
   "cell_type": "markdown",
   "metadata": {},
   "source": [
    "### [Reactor](#toc)<a id=\"reactor\"></a>"
   ]
  },
  {
   "cell_type": "markdown",
   "metadata": {},
   "source": [
    "#### [One-Group Energy  Neutron Balance](#toc)<a id=\"nbal\"></a>\n",
    "\n",
    "The space-invariant neutron balance for the point-reactor model is\n",
    "\n",
    "\\begin{equation*}\n",
    "\\frac{\\text{d}n}{\\text{d}t}  = \\frac{\\rho(t)-\\beta}{\\ell}\\, n + \\sum\\limits_{i=1}^{6} \\lambda_i\\,c_i  + q(t),\n",
    "\\end{equation*}\n",
    "\n",
    "where the first term on the right side of the equation represents the net production of neutrons not accounting for delayed neutrons, and the second term accounts for the source of delayed neutrons considering 6 groups of delayed neutron emitters resulting from the fission of $^{235}$U nuclei. Therefore a balance of neutron emitter species is also necessary\n",
    "\n",
    "\\begin{equation*}\n",
    "\\frac{\\text{d}c_i}{\\text{d}t}  = \\frac{\\beta_i}{\\ell}\\, n - \\lambda_i\\,c_i ,\n",
    "     \\ \\ \\ \\ \\ \\forall \\ \\ \\ \\ \\  i=1,\\ldots,6.\n",
    "\\end{equation*}\n",
    "\n",
    "where the first term on the right side of the equation is the source of emitters as a function of the neutron number density $n(t)$, and the second term is the consumption rate of the emitter by radioactive decay obtained as a function of the product of the number concentration of the emmiter, $c_i(t)$, multiplied by its decay constant $\\lambda_i$. Here the number concentration of of the $i$th emitter, $c_i$ is considered in terms of delayed neutron number density, hence the units are the same as $n$.\n",
    "\n",
    "The current model considers the temperature reactivity coefficient, $\\alpha_{T_n}$, that is, \n",
    "\n",
    "\\begin{equation*}\n",
    " \\rho(t) = \\rho_0 + \\alpha_\\text{n} \\,\\bigl(n(t) - n_\\text{ref} \\bigr) + \\alpha_{T_n}(\\overline{T})\\,\\bigl(\\overline{T}(t) - T_\\text{ref} \\bigr),\n",
    "\\end{equation*}\n",
    "\n",
    "where basic nuclear effects are taking into account through the sub-model\n",
    "\n",
    "\\begin{equation*}\n",
    " \\alpha_{T_n}(T) = - \\frac{B^2\\,D}{2\\,k_\\infty\\,\\overline{\\Sigma}_a^{(\\text{o})}\\,\\sqrt{T^\\text{(o)}\\,T}}.\n",
    "\\end{equation*}\n",
    "\n",
    "A heat balance in the static fuel dispersed into the moderator gives\n",
    "\n",
    "\\begin{equation*}\n",
    "\\frac{\\text{d}T_f}{\\text{d}t} = - \\frac{1}{\\rho_f\\,c_{pf}}\\biggl(q^{'''}(t) - \\frac{\\dot{Q}_\\text{f}}{V_f} \\biggr) \n",
    "\\end{equation*}\n",
    "\n",
    "where the heat rate sink in the fuel/moderator is \n",
    "\n",
    "\\begin{equation*}\n",
    "{\\dot{Q}_\\text{f}} = -UA\\bigl(T_f-T_c\\bigr), \n",
    "\\end{equation*}\n",
    "\n",
    "and the nuclear heating power is given by\n",
    "\n",
    "\\begin{equation*}\n",
    "q^{'''}(t) = G_f\\frac{\\sqrt{\\pi}}{2}\\,\\sigma_\\text{fo}\\,\\sqrt{\\frac{T^\\text{(o)}}{T}}\\,\\biggl(\\frac{\\epsilon\\,w_\\text{fs}\\,\\rho_\\text{fm}}{M_\\text{fn}}\\,i\\,N_A\\biggr)\\,n(t)\\,v_\\text{(o)} .\n",
    "\\end{equation*}\n",
    "\n",
    "A heat balance in the flowing coolant fluid produces\n",
    "\n",
    "\\begin{equation*}\n",
    "\\frac{\\text{d}T_c}{\\text{d}t} = -\\frac{1}{\\tau_c}\\biggl(T_c-T_{in}\\biggr)  \n",
    "                                - \\frac{1}{\\rho_c\\,c_{pc}}\\biggl( \\frac{\\dot{Q}_\\text{f}}{V_c} \\biggr) \n",
    "\\end{equation*}\n",
    "\n",
    "where the heat rate source is the negative of the heat rate sink in the fuel/moderator."
   ]
  },
  {
   "cell_type": "markdown",
   "metadata": {},
   "source": [
    "Reactivity coefficient based on nuclear effects through the sub-model\n",
    "\n",
    "\\begin{equation*}\n",
    " \\alpha_{T_n}(T) = - \\frac{B^2\\,D}{2\\,k_\\infty\\,\\overline{\\Sigma}_a^{(\\text{o})}\\,\\sqrt{T^\\text{(o)}\\,T}}.\n",
    "\\end{equation*}"
   ]
  },
  {
   "cell_type": "code",
   "execution_count": 57,
   "metadata": {
    "code_folding": [
     3
    ]
   },
   "outputs": [],
   "source": [
    "'''Reactivity coefficient function'''\n",
    "\n",
    "\n",
    "def alpha_tn_func(temp):\n",
    "    '''\n",
    "    Place holder for implementation\n",
    "    '''\n",
    "\n",
    "    B2 = params['buckling']\n",
    "    D = params['diff_coeff']\n",
    "    k_infty = params['k_infty']\n",
    "    Ea = .9822  #/cm\n",
    "    To = 20 + 273.15\n",
    "    alpha_tn = -1 / 2 * B2 * D / (k_infty * Ea * math.sqrt(To * temp))\n",
    "\n",
    "    return alpha_tn"
   ]
  },
  {
   "cell_type": "code",
   "execution_count": 58,
   "metadata": {
    "code_folding": [
     2
    ]
   },
   "outputs": [],
   "source": [
    "'''Reactivity function'''\n",
    "\n",
    "def rho_func( t, n_dens, temp, params ):\n",
    "    '''\n",
    "    Reactivity function.  \n",
    "    \n",
    "    Parameters\n",
    "    ----------\n",
    "    t: float, required\n",
    "        Time.\n",
    "    temp_f: float, required\n",
    "        Temperature at time t.\n",
    "    params: dict, required\n",
    "        Dictionary of quantities. It must have a `'rho_0'` key/value pair.\n",
    "    \n",
    "    Returns\n",
    "    -------\n",
    "    rho_t: float\n",
    "        Value of reactivity.\n",
    "\n",
    "    Examples\n",
    "    --------\n",
    "    '''\n",
    "    \n",
    "    rho_0  = params['rho_0']\n",
    "    temp_ref = params['temp_c_ss_operation']\n",
    "    alpha_n = params['alpha_n']\n",
    "    n_dens_ref = params['n_dens_ref']\n",
    "    \n",
    "    alpha_tn = alpha_tn_func(temp)\n",
    "    \n",
    "    rho_t = rho_0 + alpha_n * (n_dens - n_dens_ref) + alpha_tn * (temp - temp_ref)\n",
    "    \n",
    "        \n",
    "    return rho_t"
   ]
  },
  {
   "cell_type": "code",
   "execution_count": 59,
   "metadata": {
    "code_folding": [
     2
    ]
   },
   "outputs": [],
   "source": [
    "'''Source function'''\n",
    "\n",
    "def q_source( t, params ):\n",
    "    '''\n",
    "    Neutron source delta function.  \n",
    "    \n",
    "    Parameters\n",
    "    ----------\n",
    "    t: float, required\n",
    "        Time.\n",
    "    params: dict, required\n",
    "        Dictionary of quantities. It must have a `'q_0'` key/value pair.\n",
    "    \n",
    "    Returns\n",
    "    -------\n",
    "    q: float\n",
    "        Value of source.\n",
    "\n",
    "    Examples\n",
    "    --------\n",
    "    '''\n",
    "    \n",
    "    q = 0\n",
    "    q_0 = params['q_0']\n",
    "    \n",
    "    if t <= 100*unit.milli*unit.second: # small time value\n",
    "        q = q_0\n",
    "    else:\n",
    "        q = 0.0\n",
    "        \n",
    "    return q\n",
    "\n",
    "#print(\"done\")"
   ]
  },
  {
   "cell_type": "markdown",
   "metadata": {},
   "source": [
    "The effective fission microscopic cross section for thermal neutrons will be taken as:\n",
    "\n",
    "\\begin{equation*}\n",
    "\\overline{\\sigma}_\\text{f}(T) = \\frac{\\sqrt{\\pi}}{2}\\,\\sigma_\\text{fo}\\,\\sqrt{\\frac{T^\\text{(o)}}{T}}\n",
    "\\end{equation*}"
   ]
  },
  {
   "cell_type": "code",
   "execution_count": 60,
   "metadata": {
    "code_folding": [
     2
    ]
   },
   "outputs": [],
   "source": [
    "'''Effective microscopic fission cross section'''\n",
    "\n",
    "def sigma_fis_func( temp, params ):\n",
    "    '''\n",
    "    Place holder for implementation\n",
    "    '''\n",
    "    \n",
    "    sigma_f = params['sigma_f_o'] * math.sqrt(298/temp) * math.sqrt(math.pi)/2.0\n",
    "    \n",
    "    return sigma_f"
   ]
  },
  {
   "cell_type": "markdown",
   "metadata": {},
   "source": [
    "The nuclear heating power is given by\n",
    "\n",
    "\\begin{equation*}\n",
    "q^{'''}(t) = G_f\\,\\overline{\\sigma}_\\text{f}(T)\\,N_\\text{fn} \\,\\varphi(t) .\n",
    "\\end{equation*}"
   ]
  },
  {
   "cell_type": "code",
   "execution_count": 61,
   "metadata": {
    "code_folding": [
     2
    ]
   },
   "outputs": [],
   "source": [
    "'''Nuclear power density function'''\n",
    "\n",
    "def nuclear_pwr_dens_func( time, temp, n_dens, params ):\n",
    "    '''\n",
    "    Place holder for implementation\n",
    "    '''\n",
    "    \n",
    "    rxn_heat = params['fis_energy'] # get fission reaction energy J per reaction\n",
    "    \n",
    "    sigma_f = sigma_fis_func( temp, params ) # m2\n",
    "    \n",
    "    fis_nuclide_num_dens = params['fis_nuclide_num_dens_fake'] #  #/m3\n",
    "    \n",
    "    Sigma_fis = sigma_f * fis_nuclide_num_dens # macroscopic cross section\n",
    "    \n",
    "    v_o = params['thermal_neutron_velo'] # m/s\n",
    "    \n",
    "    neutron_flux = n_dens * params['n_dens_ss_operation'] * v_o\n",
    "    \n",
    "    #reaction rate density\n",
    "    rxn_rate_dens = Sigma_fis * neutron_flux\n",
    "    \n",
    "    # nuclear power source\n",
    "    q3prime = - rxn_heat * rxn_rate_dens # exothermic reaction W/m3\n",
    "    \n",
    "    return q3prime"
   ]
  },
  {
   "cell_type": "markdown",
   "metadata": {},
   "source": [
    "The cooling heat rate is:\n",
    "\n",
    "\\begin{equation*}\n",
    "{\\dot{Q}_\\text{f}} = -UA\\bigl(T_f-T_c\\bigr). \n",
    "\\end{equation*}"
   ]
  },
  {
   "cell_type": "code",
   "execution_count": 62,
   "metadata": {
    "code_folding": []
   },
   "outputs": [],
   "source": [
    "'''Cooling heat rate'''\n",
    "\n",
    "def heat_sink_rate( time, temp_f, temp_c, params):\n",
    "    \n",
    "    ht_coeff = params['ht_coeff']\n",
    "    \n",
    "    q_f = - ht_coeff * (temp_f - temp_c)\n",
    "    \n",
    "    return q_f"
   ]
  },
  {
   "cell_type": "markdown",
   "metadata": {},
   "source": [
    "### [Steam Generator](#toc)<a id=\"steamgen\"></a>"
   ]
  },
  {
   "cell_type": "markdown",
   "metadata": {},
   "source": [
    "The power removed from the core by the coolant is given by the folowing equation:\n",
    "\n",
    "\\begin{equation}\n",
    "\\dot{\\mathrm{Q}}=\\dot{\\mathrm{m}} \\mathrm{C}_{\\mathrm{p}} \\Delta \\mathrm{T}\n",
    "\\end{equation}\n",
    "\n",
    "Where $\n",
    "\\dot{\\mathrm{Q}}\n",
    "$ is the heat removed per unit time,  $\n",
    "\\dot{\\mathrm{m}}\n",
    "$ is the mass flow rate of coolant, $\\mathrm{C}_{\\mathrm{p}}$ is the constant pressure heat capacity of the coolant, and $\\Delta \\mathrm{T}$ is the primary side temperature difference.\n",
    "\n",
    "The power attributed to heating the secondary stream is given by:\n",
    "\n",
    "\\begin{equation}\n",
    "\\dot{\\mathrm{m}}_{2}\\left(\\mathrm{h}_{2}-\\mathrm{h}_{1}\\right)\n",
    "\\end{equation}\n",
    "\n",
    "Where $ \\dot{\\mathrm{m}}_{2} $ is the mass flow rate of the secondary side, $\\mathrm{h}_{1}$ is the specific enthalpy of the secondary side stream entering the steam generator, and  $\\mathrm{h}_{2}$ is the specific enthalpy of the secondary sidde stream exiting the steam generator. \n",
    "\n",
    "As the primary side is heating the secondary side the power equations must equal:\n",
    "\n",
    "\\begin{equation*}\n",
    "\\dot{Q}=\\dot{m}_1 C_P\\Delta T=\\frac{\\dot{m}_2(h_2-h_1)}{\\eta}\n",
    "\\end{equation*}\n",
    "\n",
    "\n",
    "\\begin{equation*}\n",
    "d_tT_\\text{in} = - \\frac{1}{\\tau_\\text{hx}}\\bigl(T_\\text{in} - T^\\text{(o)}\\bigr) .\n",
    "\\end{equation*}"
   ]
  },
  {
   "cell_type": "code",
   "execution_count": 63,
   "metadata": {
    "code_folding": [
     2
    ]
   },
   "outputs": [],
   "source": [
    "'''Steam generator module'''\n",
    "import iapws.iapws97 as steam_table\n",
    "def steam_generator_primary_outflow_temp(time, primary_inflow_temp, params):\n",
    "    '''\n",
    "    t_ss = primary_inflow_temp - m_dot_2*(h_out-h_in)/(m_dot_1*cp_primary*eta_sg)\n",
    "        \n",
    "    if t_ss >= 0:\n",
    "        primary_outflow_temp = t_ss + math.exp(-time/params['tau_hx']) * (primary_inflow_temp-t_ss)\n",
    "    else:\n",
    "        primary_outflow_temp = primary_inflow_temp\n",
    "    '''\n",
    "    m_dot_1 = params['coolant_flowrate']\n",
    "    m_dot_2 = params['mdot_secondary']\n",
    "    eta_sg = params['sg_efficiency']\n",
    "    t_ss = params['temp_inlet_ss']\n",
    "    t_0 = params['temp_c_0']\n",
    "\n",
    "    primary_outflow_temp = t_ss + math.exp(-time / params['tau_hx']) * (\n",
    "        (t_0) - t_ss)  #relaxation\n",
    "\n",
    "    cp_primary = steam_table._Region1(\n",
    "        (primary_outflow_temp + primary_inflow_temp) / 2,\n",
    "        12.8)[\"cp\"]  #Cp of primary from avg inlet/outlet\n",
    "    q = m_dot_1 * (primary_inflow_temp -\n",
    "                   primary_outflow_temp) * cp_primary  #heat lost to SG\n",
    "    p_out_sg = 3.3977364 + math.exp(-time / params['tau_hx']) * (\n",
    "        (3.5190841) - 3.3977364)\n",
    "    h_1_sg = steam_table._Region1(148.89 + 273.15, 3.5190841)['h']\n",
    "    h_2_sg = (eta_sg * q / m_dot_2) + h_1_sg\n",
    "    bubl = steam_table._Region4(p_out_sg, 0)\n",
    "    dew = steam_table._Region4(p_out_sg, 1)\n",
    "    bubl_entropy = bubl['s']\n",
    "    dew_entropy = dew['s']\n",
    "    bubl_enthalpy = bubl['h']\n",
    "    dew_enthalpy = dew['h']\n",
    "\n",
    "    if h_2_sg < bubl_enthalpy:\n",
    "        t_exit_sg = steam_table._Backward1_T_Ph(p_out_sg, h_2_sg)\n",
    "        return primary_outflow_temp, t_exit_sg, p_out_sg\n",
    "\n",
    "    # if fluid exiting sg is superheated\n",
    "    if h_2_sg > dew_enthalpy:\n",
    "        t_exit_sg = steam_table._Backward2_T_Ph(p_out_sg, h_2_sg)\n",
    "        #print('super heated')\n",
    "        return primary_outflow_temp, t_exit_sg, p_out_sg\n",
    "    # else fluid is two phase\n",
    "    t_exit_sg = steam_table._TSat_P(p_out_sg)\n",
    "\n",
    "    return primary_outflow_temp, t_exit_sg, p_out_sg"
   ]
  },
  {
   "cell_type": "markdown",
   "metadata": {},
   "source": [
    "### [Turbine](#toc)<a id=\"turbine\"></a>"
   ]
  },
  {
   "cell_type": "code",
   "execution_count": 64,
   "metadata": {
    "code_folding": [
     1
    ]
   },
   "outputs": [],
   "source": [
    "''' Turbine Function '''\n",
    "def turbine_func( time,p_in, p_out, temp_in, params):\n",
    "    'p_out: Condenser pressure / turbine step pressure [MPa]'\n",
    "    'temp_out: Condenser temperature / turbine step temperature [C]'\n",
    "    'temp_in: Steam temp entering turbine [K]'\n",
    "    turbine_efficiency = params['Turbine_Efficiency']\n",
    "    m_dot_2 = params['mdot_secondary']\n",
    "    \n",
    "    #if entering stream is not steam (valve closed scenario)\n",
    "    if temp_in < steam_table._TSat_P(p_in):\n",
    "            t_runoff = steam_table._TSat_P(p_in)\n",
    "            power = 0\n",
    "            quality = 0\n",
    "            return power, quality, t_runoff\n",
    "    \n",
    "    s_2_prime = steam_table._Region2(temp_in, p_in)['s']\n",
    "    h_1 = steam_table._Region2(temp_in, p_in)['h']\n",
    "    bubl = steam_table._Region4(p_out, 0) \n",
    "    dew = steam_table._Region4(p_out, 1)\n",
    "    bubl_entropy = bubl['s']\n",
    "    dew_entropy = dew['s']\n",
    "    bubl_enthalpy = bubl['h']\n",
    "    dew_enthalpy = dew['h']\n",
    "        \n",
    "\n",
    "    #if the ideal runoff is two-phase mixture: \n",
    "    if  bubl_entropy < s_2_prime < dew_entropy:\n",
    "        \n",
    "        quality = (s_2_prime - bubl_entropy)/(dew_entropy - bubl_entropy)\n",
    "          \n",
    "        #h_2_prime = steam_table._Region4(p_out, quality)['h']\n",
    "        h_2_prime = bubl_enthalpy + quality*(dew_enthalpy-bubl_enthalpy)\n",
    "   #if run off is superheated\n",
    "    elif  s_2_prime > dew_entropy:\n",
    "            \n",
    "        t_ideal = steam_table._Backward2_T_Ps(p_out,  s_2_prime)\n",
    "           \n",
    "        h_2_prime = steam_table._Region2(t_ideal, p_out)['h']\n",
    "        quality = 1\n",
    "    #else run off is subcooled\n",
    "    else:\n",
    "        t_ideal = steam_table._Backward1_T_Ps(p_out,  s_2_prime)\n",
    "           \n",
    "        h_2_prime = steam_table._Region1(t_ideal, p_out)['h']\n",
    "        quality = 0   \n",
    "    \n",
    "    t_runoff = steam_table._TSat_P(p_out)\n",
    "    #print('h2 = ',h_2_prime)\n",
    "    #calculate the real runoff enthalpy\n",
    "    w_ideal = h_1 - h_2_prime #on a per mass basis\n",
    "    assert(w_ideal > 0)\n",
    "    w_real = w_ideal * turbine_efficiency\n",
    "    h_real = h_1 - w_ideal\n",
    "    assert h_real > 0\n",
    "    if w_real < 0:\n",
    "            w_real = 0\n",
    "\n",
    "  \n",
    "\n",
    "    #if the real runoff is a subcooled liquid\n",
    "    if h_real < bubl_enthalpy:\n",
    "        t_runoff = steam_table._Backward1_T_Ph(p_out, h_real)\n",
    "        quality = 0 # subcooled liquid\n",
    "    \n",
    "    power = m_dot_2 *(w_real)\n",
    "    return power, quality, t_runoff"
   ]
  },
  {
   "cell_type": "markdown",
   "metadata": {},
   "source": [
    "### [Condenser](#toc)<a id=\"condenser\"></a>"
   ]
  },
  {
   "cell_type": "code",
   "execution_count": 65,
   "metadata": {},
   "outputs": [],
   "source": [
    "def condenser_func(time,t_in, x_in, params):\n",
    "    return null"
   ]
  },
  {
   "cell_type": "markdown",
   "metadata": {},
   "source": [
    "### [Coupling](#toc)<a id=\"coupling\"></a>"
   ]
  },
  {
   "cell_type": "markdown",
   "metadata": {},
   "source": [
    "### [Vector ODE System](#toc)<a id=\"vodes\"></a>\n",
    "\n",
    "A vector notation for the foregoing system of equations greatly improves the generality of the derived computer code. Towards this goal let us define\n",
    "\n",
    "\\begin{equation*}\n",
    "\\frac{d\\uvar}{dt} = \\fvar( \\uvar, t )\n",
    "\\end{equation*}\n",
    "\n",
    "where $\\uvar(t) = (u_1,u_2,u_3,u_4,u_5,u_6,u_7)$ is the state vector and we assign \n",
    "\n",
    "\\begin{align*}\n",
    " u_1(t)&=n(t),\\\\\n",
    " u_2(t)&=c_1(t),\\\\\n",
    " u_3(t)&=c_2(t),\\\\\n",
    " u_4(t)&=c_3(t),\\\\\n",
    " u_5(t)&=c_4(t),\\\\\n",
    " u_6(t)&=c_5(t),\\\\\n",
    " u_7(t)&=c_6(t),\\\\\n",
    " u_8(t)&=T_f(t),\\\\\n",
    " u_9(t)&=T_c(t).\n",
    "\\end{align*}\n",
    "\n",
    "Also for $\\fvar(\\uvar,t) = \\bigl(f_1(\\uvar,t), f_2(\\uvar,t), f_3(\\uvar,t), f_4(\\uvar,t), f_5(\\uvar,t), f_6(\\uvar,t), f_7(\\uvar,t)\\bigr)$ we assign \n",
    "\n",
    "\\begin{align*}\n",
    " f_1 & = \\frac{\\rho(t)-\\beta}{\\ell}\\, u_1 + \\sum\\limits_{i=2}^{7} \\lambda_i\\,u_i + q(t), \\\\\n",
    " f_2 & = \\frac{\\beta_1}{\\ell}\\, u_1 - \\lambda_1\\,u_2, \\\\\n",
    " f_3 & = \\frac{\\beta_2}{\\ell}\\, u_1 - \\lambda_2\\,u_3, \\\\\n",
    " f_4 & = \\frac{\\beta_3}{\\ell}\\, u_1 - \\lambda_3\\,u_4, \\\\\n",
    " f_5 & = \\frac{\\beta_4}{\\ell}\\, u_1 - \\lambda_4\\,u_5, \\\\\n",
    " f_6 & = \\frac{\\beta_5}{\\ell}\\, u_1 - \\lambda_5\\,u_6, \\\\\n",
    " f_7 & = \\frac{\\beta_6}{\\ell}\\, u_1 - \\lambda_6\\,u_7,  \\\\\n",
    " f_8 & = - \\frac{1}{\\rho_f\\,c_{pf}}\\biggl(q^{'''}(t) - \\frac{\\dot{Q}_\\text{f}}{V_f} \\biggr), \\\\\n",
    " f_9 & = -\\frac{1}{\\tau_c}\\biggl(T_c-T_{in}\\biggr)  \n",
    "                                - \\frac{1}{\\rho_c\\,c_{pc}}\\biggl( \\frac{\\dot{Q}_\\text{f}}{V_c} \\biggr).\n",
    "\\end{align*}\n",
    "\n",
    "Finally, the initial conditions given are as follows:\n",
    "\n",
    "\\begin{align*}\n",
    " u_1(0)&=n_0,\\\\\n",
    " u_2(0)&=c_{1_0},\\\\\n",
    " u_3(0)&=c_{2_0},\\\\\n",
    " u_4(0)&=c_{3_0},\\\\\n",
    " u_5(0)&=c_{4_0},\\\\\n",
    " u_6(0)&=c_{5_0},\\\\\n",
    " u_7(0)&=c_{6_0},\\\\\n",
    " u_8(0)&=T_{f_0},\\\\\n",
    " u_9(0)&=T_{c_0}\n",
    "\\end{align*}\n",
    "\n",
    "\n",
    "where $n_0$ and $c_{i_0}$ are initial values for the unknowns given by the problem specification."
   ]
  },
  {
   "cell_type": "code",
   "execution_count": 66,
   "metadata": {
    "code_folding": [
     2
    ]
   },
   "outputs": [],
   "source": [
    "'''ODE function'''\n",
    "\n",
    "def f_vec( time, u_vec, params ):  \n",
    "    \n",
    "    import numpy as np\n",
    "    #assert np.all(u_vec >= 0.0)\n",
    "    \n",
    "    n_dens = u_vec[0] # get neutron dens\n",
    "\n",
    "    c_vec = u_vec[1:-2] # get delayed neutron emitter concentration\n",
    "    \n",
    "    temp_f = u_vec[-2] # get temperature of fuel\n",
    "    \n",
    "    temp_c = u_vec[-1] # get temperature of coolant\n",
    "    \n",
    "    # initialize f_vec to zero\n",
    "    species_decay = params['species_decay']\n",
    "    lambda_vec = np.array(species_decay)\n",
    "    n_species  = len(lambda_vec)\n",
    "    \n",
    "    f_tmp = np.zeros(1+n_species+2,dtype=np.float64) # vector for f_vec return\n",
    "    \n",
    "    #----------------\n",
    "    # neutron balance\n",
    "    #----------------\n",
    "    rho_t    = rho_func(time, n_dens, (temp_f+temp_c)/2.0, params)\n",
    "    \n",
    "    beta     = params['beta']\n",
    "    gen_time = params['gen_time']\n",
    "       \n",
    "    species_rel_yield = params['species_rel_yield']\n",
    "    beta_vec = np.array(species_rel_yield) * beta\n",
    "    \n",
    "    assert len(lambda_vec)==len(beta_vec)\n",
    "    \n",
    "    q_source_t = q_source(time, params)\n",
    "    \n",
    "    f_tmp[0] = (rho_t - beta)/gen_time * n_dens + lambda_vec @ c_vec + q_source_t\n",
    "    \n",
    "    #-----------------------------------\n",
    "    # n species balances (implicit loop)\n",
    "    #-----------------------------------\n",
    "    f_tmp[1:-2] = beta_vec/gen_time * n_dens - lambda_vec * c_vec\n",
    "    \n",
    "    #--------------------\n",
    "    # fuel energy balance\n",
    "    #--------------------\n",
    "    rho_f    = params['fuel_dens']\n",
    "    cp_f     = params['cp_fuel']\n",
    "    vol_fuel = params['fuel_volume']\n",
    "    \n",
    "    pwr_dens = nuclear_pwr_dens_func( time, (temp_f+temp_c)/2, n_dens, params )\n",
    "    \n",
    "    heat_sink = heat_sink_rate( time, temp_f, temp_c, params )\n",
    "    #assert heat_sink <= 0.0,'heat_sink = %r'%heat_sink\n",
    "    \n",
    "    f_tmp[-2] =  -1/rho_f/cp_f * ( pwr_dens - heat_sink/vol_fuel )\n",
    "    \n",
    "    #-----------------------\n",
    "    # coolant energy balance\n",
    "    #-----------------------\n",
    "    rho_c    = params['coolant_dens']\n",
    "    cp_c     = params['cp_coolant']\n",
    "    vol_cool = params['coolant_volume']\n",
    "    \n",
    "    temp_in, t_sg, p_turbine = steam_generator_primary_outflow_temp(time, temp_c, params)\n",
    "    \n",
    "    tau = params['tau_fake']\n",
    "    \n",
    "    heat_source = - heat_sink\n",
    "    \n",
    "    f_tmp[-1] = - 1/tau * (temp_c - temp_in) + 1./rho_c/cp_c/vol_cool * heat_source\n",
    "\n",
    "    return f_tmp"
   ]
  },
  {
   "cell_type": "code",
   "execution_count": 67,
   "metadata": {
    "code_folding": [
     2,
     34
    ]
   },
   "outputs": [],
   "source": [
    "'''Create the point-reactor run function'''\n",
    "\n",
    "def run_point_reactor( f_vec, params ):\n",
    "\n",
    "    from scipy.integrate import odeint # Load ODE solver package\n",
    "\n",
    "    import numpy as np\n",
    "    time_final = params['time_final']\n",
    "    n_time_stamps = params['n_time_stamps']\n",
    "    time_stamps = np.linspace(0.0, time_final, num=n_time_stamps) # create the time stamps for solution values\n",
    "    params['time_stamps'] = time_stamps\n",
    "    \n",
    "    max_n_steps_per_time_step = 1000 # max number of nonlinear algebraic solver iterations per time step\n",
    "\n",
    "    n_0     = params['n_0']\n",
    "    c_vec_0 = params['c_vec_0']\n",
    "    \n",
    "    temp_f_0 = params['temp_f_0']\n",
    "    temp_c_0 = params['temp_c_0']\n",
    "    \n",
    "    # m-equation point reactor model\n",
    "    n_species = len(c_vec_0)\n",
    "    u_vec_0 = np.zeros(1+n_species+2,dtype=np.float64)\n",
    "    \n",
    "    u_vec_0[0]    = n_0\n",
    "    u_vec_0[1:-2] = c_vec_0\n",
    "    u_vec_0[-2]   = temp_f_0\n",
    "    u_vec_0[-1]   = temp_c_0\n",
    "            \n",
    "    (u_vec_history, info_dict) = odeint( f_vec, u_vec_0, time_stamps,\n",
    "                                         args=( params, ),\n",
    "                                         rtol=1e-4, atol=1e-8, mxstep=max_n_steps_per_time_step,\n",
    "                                         full_output=1, tfirst=True )\n",
    "\n",
    "    assert info_dict['message']=='Integration successful.',\\\n",
    "                     'Fatal: scipy.integrate.odeint failed %r'%info_dict['message']\n",
    "    \n",
    "    return u_vec_history"
   ]
  },
  {
   "cell_type": "code",
   "execution_count": 68,
   "metadata": {
    "code_folding": [
     2
    ]
   },
   "outputs": [],
   "source": [
    "'''Plotting function definition'''\n",
    "\n",
    "def plot_results( u_vec_history, normalize=True, semi_log=False, markers=False, precursors=True ):\n",
    "    \n",
    "    time_stamps = params['time_stamps']/3600\n",
    "    tau = params['tau_fake']\n",
    "        \n",
    "    import matplotlib.pyplot as plt\n",
    "    \n",
    "    fig, ax1 = plt.subplots(1, figsize=(14, 6))\n",
    "\n",
    "    if precursors == True:\n",
    "        \n",
    "        ax2 = ax1.twinx() # duplicate x axes to plot n and c_i's in different y axes\n",
    "    \n",
    "        color_ids = np.linspace(0,1,u_vec_history[:,1:-2].shape[1])\n",
    "    \n",
    "        for (j,color_id) in zip( range(u_vec_history[:,1:-2].shape[1]), color_ids ):\n",
    "            color=plt.cm.nipy_spectral(color_id)\n",
    "        \n",
    "            if normalize == True:\n",
    "                ax2.plot( time_stamps,u_vec_history[:,j+1]/params['c_vec_0'][j],'-.',color=color,label=r'$c_%i$'%(j+1) )\n",
    "                ax2.set_ylabel(r'$c_i/c_{i_0}$',fontsize=16,color='black')\n",
    "            else:\n",
    "                ax2.plot( time_stamps,u_vec_history[:,j+1],'-.',color=color,label=r'$c_%i$'%(j+1) )\n",
    "                ax2.set_ylabel(r'$c_i$',fontsize=16,color='black')\n",
    "        \n",
    "        ax2.tick_params(axis='y', labelcolor='black', labelsize=14)\n",
    "        ax2.legend(loc='lower right',fontsize=12)\n",
    "        if semi_log == True:\n",
    "            ax2.set_yscale('log') # uncomment to plot y in log scale\n",
    "        #ax2.grid(True)\n",
    "\n",
    "    if markers == True:\n",
    "        if normalize == True:\n",
    "            ax1.plot( time_stamps,u_vec_history[:,0]/params['n_0'],'-',marker='+',color='red',label=r'$n/n_0$' )\n",
    "            ax1.set_ylabel(r'$n$',fontsize=16,color='black')\n",
    "        else:\n",
    "            ax1.plot( time_stamps,u_vec_history[:,0],'-',marker='+',color='red',label=r'$n$' )\n",
    "            ax1.set_ylabel(r'$n$',fontsize=16,color='black')\n",
    "    else:\n",
    "        if normalize == True:\n",
    "            ax1.plot(time_stamps,u_vec_history[:,0]/params['n_0'],'-',color='red',label=r'$n/n_0$' )\n",
    "            ax1.set_ylabel(r'$n/n_0$',fontsize=16,color='black')\n",
    "        else:\n",
    "            ax1.plot(time_stamps,u_vec_history[:,0],'-',color='red',label=r'$n$' )\n",
    "            ax1.set_ylabel(r'$n$',fontsize=16,color='black')\n",
    "\n",
    "    ax1.set_xlabel(r'Time [h]',fontsize=16)\n",
    "    \n",
    "    ax1.tick_params(axis='y', labelcolor='black', labelsize=14)\n",
    "    ax1.tick_params(axis='x', labelsize=14)\n",
    "    ax1.legend(loc='best',fontsize=12)\n",
    "    if semi_log == True:\n",
    "        ax1.set_yscale('log') # uncomment to plot y in log scale\n",
    "    ax1.grid(True)\n",
    "\n",
    "    plt.title(r'Point-Reactor Model: $\\rho/\\beta=$'\n",
    "              +str(params['reactivity']/params['beta'])\n",
    "              +r'; $q_0=$'+str(round(params['q_0'],2)),\n",
    "              fontsize=18)\n",
    "    fig.tight_layout()  # otherwise the right y-label is slightly clipped\n",
    "    plt.show() \n",
    "\n",
    "    print('')"
   ]
  },
  {
   "cell_type": "code",
   "execution_count": 69,
   "metadata": {
    "code_folding": [
     2
    ]
   },
   "outputs": [],
   "source": [
    "'''Utility function to peak at results table'''\n",
    "\n",
    "def peek(time,data, head=500, tail=100):  \n",
    "\n",
    "    import pandas as pd\n",
    "    \n",
    "    pd.options.display.float_format = '{:.2e}'.format\n",
    "    \n",
    "    layout = {'time':time[:head]}\n",
    "    \n",
    "    layout['n'] = data[:head,0]\n",
    "    \n",
    "    for j in range(1,data[:,1:-2].shape[1]+1):\n",
    "        layout['c_%i'%j] = data[:head,j]\n",
    "        \n",
    "    layout['temp_f'] = data[:head,-2]\n",
    "    layout['temp_c'] = data[:head,-1]\n",
    "        \n",
    "    results = pd.DataFrame(layout)\n",
    "    print(round(results,2))\n",
    "    print('')"
   ]
  },
  {
   "cell_type": "code",
   "execution_count": 109,
   "metadata": {
    "code_folding": []
   },
   "outputs": [],
   "source": [
    "'''Post-Processing Quantities (not in state vector)'''\n",
    "\n",
    "\n",
    "def get_quantities(u_vec_history, params):\n",
    "\n",
    "    import pandas as pd\n",
    "\n",
    "    data = dict()\n",
    "    tmp1 = list()\n",
    "    tmp2 = list()\n",
    "    tmp3 = list()\n",
    "    tmp4 = list()\n",
    "    tmp5 = list()\n",
    "    tmp6 = list()\n",
    "    tmp7 = list()\n",
    "    tmp8 = list()\n",
    "    tmp9 = list()\n",
    "    tmp10= list()\n",
    "    tmp11= list()\n",
    "    for (time, n_dens, tf, tc) in zip(params['time_stamps'], u_vec_history[:,\n",
    "                                                                           0],\n",
    "                                      u_vec_history[:, -2], u_vec_history[:,\n",
    "                                                                          -1]):\n",
    "\n",
    "        rho = rho_func(time, n_dens, tf, params)\n",
    "        tmp1.append(rho)\n",
    "        a = time/60\n",
    "        tmp9.append(a)\n",
    "        \n",
    "        temp_in, t_sg, p_turbine = steam_generator_primary_outflow_temp(time, tc, params)\n",
    "        tmp2.append(temp_in)\n",
    "        tmp6.append(t_sg)\n",
    "        tmp7.append(p_turbine)\n",
    "        \n",
    "        avg = (temp_in + tc)/2\n",
    "        tmp10.append(avg)\n",
    "\n",
    "        pwr = params['coolant_volume'] / params['tau_fake'] * params[\n",
    "            'coolant_dens'] * params['cp_coolant'] * (tc - temp_in)\n",
    "        tmp3.append(pwr / unit.mega)\n",
    "        \n",
    "        fuel_dens = params['fuel_volume']\n",
    "        q3prime = nuclear_pwr_dens_func(time, tf, n_dens, params)\n",
    "        q_thermal = q3prime*fuel_dens*-1\n",
    "        tmp4.append(q_thermal / unit.mega)\n",
    "\n",
    "        p_condenser = params['condenser_pressure']\n",
    "        W_s, quality, t_runoff = turbine_func(time, p_turbine,p_condenser, t_sg, params)\n",
    "        tmp5.append(W_s/1000)\n",
    "        tmp8.append(quality)\n",
    "        tmp11.append(t_runoff)\n",
    "        \n",
    "\n",
    "    data['rho'] = tmp1\n",
    "    data['T_in [C]'] = unit.convert_temperature(np.array(tmp2), 'K', 'C')\n",
    "    data['pwr [MW]'] = tmp3\n",
    "    data[\"Q [MWt]\"] = tmp4\n",
    "    data['W_s [MWe]'] = tmp5\n",
    "    #data['T_SG [C]'] = unit.convert_temperature(np.array(tmp6), 'K', 'C')\n",
    "    data['T_SG [K]'] = tmp6\n",
    "    data['P_SG [MPa]'] = tmp7\n",
    "    data['Quality [X]'] = tmp8\n",
    "    data['Time [min]'] = tmp9\n",
    "    data['T_avg [C]'] = unit.convert_temperature(np.array(tmp10), 'K', 'C')\n",
    "    data['T_runoff [C]'] = unit.convert_temperature(np.array(tmp11), 'K', 'C')\n",
    "    df = pd.DataFrame(data)\n",
    "\n",
    "    return df"
   ]
  },
  {
   "cell_type": "code",
   "execution_count": 110,
   "metadata": {
    "code_folding": [
     2
    ]
   },
   "outputs": [],
   "source": [
    "'''Plot Tf, Tc, Tin temperatures in the reactor'''\n",
    "    \n",
    "def plot_temperature_results(u_vec_history, quant, params, time_unit='h', semi_log=False):\n",
    "    \n",
    "    time_stamps = params['time_stamps']\n",
    "    \n",
    "    if time_unit == 'h':\n",
    "        time_scale = unit.hour\n",
    "    elif time_unit == 'min':\n",
    "        time_scale = unit.minute\n",
    "    elif time_unit == 's':\n",
    "        time_scale = unit.second\n",
    "    else:\n",
    "        assert False\n",
    "\n",
    "    import matplotlib.pyplot as plt    \n",
    "    fig, ax1 = plt.subplots(1, figsize=(16, 6))\n",
    "    #ax1.plot(time_stamps/3600,u_vec_history[:,-1]-273.15,'r-',time_stamps/3600,u_vec_history[:,-2]-273.15,'b-',label='$T_f=$')\n",
    "    \n",
    "    ax1.plot(time_stamps/time_scale, unit.convert_temperature(u_vec_history[:,-2],'K','C'),'r-.',label='$T_f$')\n",
    "    ax1.plot(time_stamps/time_scale, unit.convert_temperature(u_vec_history[:,-1],'K','C'),'r-',label='$T_c$')\n",
    "    ax1.plot(time_stamps/time_scale, quant['T_in [C]'],'b-',label=r'$T_{in}$' )\n",
    "    \n",
    "    ax1.set_xlabel(r'Time [%s]'%time_unit,fontsize=16)\n",
    "    ax1.set_ylabel(r'$T$ [C]',fontsize=16,color='black')\n",
    "    ax1.tick_params(axis='y', labelcolor='black', labelsize=14)\n",
    "    ax1.tick_params(axis='x', labelsize=14)\n",
    "    ax1.legend(loc='upper left',fontsize=12)\n",
    "    ax1.grid(True)\n",
    "    \n",
    "    if semi_log == True:\n",
    "        ax1.set_yscale('log')\n",
    "\n",
    "    plt.title('Single-Point Reactor SMR-PWR Temperatures',fontsize=20)\n",
    "    fig.tight_layout()  # otherwise the right y-label is slightly clipped\n",
    "    plt.show()\n",
    "    print('')"
   ]
  },
  {
   "cell_type": "markdown",
   "metadata": {},
   "source": [
    "## [Startup: Reactivity Step with Pulsed Source](#toc)<a id=\"res1\"></a>\n",
    "\n",
    "Neutronless reactor before time zero. At time zero, apply a pulsed source and a reactivity step."
   ]
  },
  {
   "cell_type": "code",
   "execution_count": 111,
   "metadata": {},
   "outputs": [],
   "source": [
    "'''Setup up initial conditions'''\n",
    "\n",
    "import numpy as np\n",
    "\n",
    "gen_time = params['gen_time'] # retrieve neutron generation time\n",
    "params['q_0'] = 1/gen_time # pulse at t = 0\n",
    "\n",
    "params['n_ss'] = 0 # neutronless steady state before start up\n",
    "params['n_dens_ref'] = 1.0 # used in the reactivity feedback model\n",
    "\n",
    "rho_0_over_beta = 0.25 # $\n",
    "\n",
    "beta = params['beta'] # retrieve the delayed neutron fraction\n",
    "params['reactivity'] = rho_0_over_beta * beta # \"rho/beta = 30 cents\"\n",
    "\n",
    "params['tau_fake'] =  2.16 # s\n",
    "\n",
    "params['temp_0'] = params['temp_o']\n",
    "\n",
    "# setup remaining initial conditions\n",
    "setup_initial_conditions(params)"
   ]
  },
  {
   "cell_type": "code",
   "execution_count": 112,
   "metadata": {},
   "outputs": [],
   "source": [
    "'''Evolve the point-reactor'''\n",
    "\n",
    "time_final    = 1*unit.hour\n",
    "n_time_stamps = 500 # number of solution values in time\n",
    "\n",
    "params['time_final']    = time_final\n",
    "params['n_time_stamps'] = n_time_stamps\n",
    "\n",
    "# Run the reactor and compute the history of the state variables; tabular form, one row per time stamp\n",
    "u_vec_history = run_point_reactor( f_vec, params )"
   ]
  },
  {
   "cell_type": "code",
   "execution_count": 113,
   "metadata": {
    "scrolled": false
   },
   "outputs": [
    {
     "name": "stdout",
     "output_type": "stream",
     "text": [
      "        time        n      c_1      c_2      c_3      c_4      c_5      c_6  \\\n",
      "0   0.00e+00 0.00e+00 0.00e+00 0.00e+00 0.00e+00 0.00e+00 0.00e+00 0.00e+00   \n",
      "1   7.21e+00 6.01e+00 1.27e+02 7.74e+02 4.89e+02 5.05e+02 3.89e+01 5.42e+00   \n",
      "2   1.44e+01 7.37e+00 2.14e+02 1.23e+03 6.44e+02 5.76e+02 4.70e+01 6.62e+00   \n",
      "3   2.16e+01 9.49e+00 3.20e+02 1.77e+03 8.28e+02 7.26e+02 6.03e+01 8.51e+00   \n",
      "4   2.89e+01 1.24e+01 4.54e+02 2.42e+03 1.07e+03 9.41e+02 7.87e+01 1.11e+01   \n",
      "..       ...      ...      ...      ...      ...      ...      ...      ...   \n",
      "495 3.57e+03 5.34e+02 9.24e+04 2.49e+05 6.13e+04 4.56e+04 3.50e+03 4.85e+02   \n",
      "496 3.58e+03 5.34e+02 9.24e+04 2.49e+05 6.13e+04 4.56e+04 3.50e+03 4.85e+02   \n",
      "497 3.59e+03 5.34e+02 9.24e+04 2.49e+05 6.13e+04 4.56e+04 3.50e+03 4.85e+02   \n",
      "498 3.59e+03 5.34e+02 9.24e+04 2.49e+05 6.13e+04 4.56e+04 3.50e+03 4.85e+02   \n",
      "499 3.60e+03 5.34e+02 9.24e+04 2.49e+05 6.13e+04 4.56e+04 3.50e+03 4.85e+02   \n",
      "\n",
      "      temp_f   temp_c  \n",
      "0   2.93e+02 2.98e+02  \n",
      "1   3.05e+02 3.03e+02  \n",
      "2   3.12e+02 3.08e+02  \n",
      "3   3.20e+02 3.14e+02  \n",
      "4   3.28e+02 3.20e+02  \n",
      "..       ...      ...  \n",
      "495 1.03e+03 5.95e+02  \n",
      "496 1.03e+03 5.95e+02  \n",
      "497 1.03e+03 5.95e+02  \n",
      "498 1.03e+03 5.95e+02  \n",
      "499 1.03e+03 5.95e+02  \n",
      "\n",
      "[500 rows x 10 columns]\n",
      "\n"
     ]
    }
   ],
   "source": [
    "peek(params['time_stamps'], u_vec_history)"
   ]
  },
  {
   "cell_type": "code",
   "execution_count": 114,
   "metadata": {
    "scrolled": true
   },
   "outputs": [
    {
     "data": {
      "text/html": [
       "<div>\n",
       "<style scoped>\n",
       "    .dataframe tbody tr th:only-of-type {\n",
       "        vertical-align: middle;\n",
       "    }\n",
       "\n",
       "    .dataframe tbody tr th {\n",
       "        vertical-align: top;\n",
       "    }\n",
       "\n",
       "    .dataframe thead th {\n",
       "        text-align: right;\n",
       "    }\n",
       "</style>\n",
       "<table border=\"1\" class=\"dataframe\">\n",
       "  <thead>\n",
       "    <tr style=\"text-align: right;\">\n",
       "      <th></th>\n",
       "      <th>rho</th>\n",
       "      <th>T_in [C]</th>\n",
       "      <th>pwr [MW]</th>\n",
       "      <th>Q [MWt]</th>\n",
       "      <th>W_s [MWe]</th>\n",
       "      <th>T_SG [K]</th>\n",
       "      <th>P_SG [MPa]</th>\n",
       "      <th>Quality [X]</th>\n",
       "      <th>Time [min]</th>\n",
       "      <th>T_avg [C]</th>\n",
       "      <th>T_runoff [C]</th>\n",
       "    </tr>\n",
       "  </thead>\n",
       "  <tbody>\n",
       "    <tr>\n",
       "      <th>0</th>\n",
       "      <td>1.66e-03</td>\n",
       "      <td>2.50e+01</td>\n",
       "      <td>0.00e+00</td>\n",
       "      <td>0.00e+00</td>\n",
       "      <td>0.00e+00</td>\n",
       "      <td>4.22e+02</td>\n",
       "      <td>3.52e+00</td>\n",
       "      <td>0.00e+00</td>\n",
       "      <td>0.00e+00</td>\n",
       "      <td>2.50e+01</td>\n",
       "      <td>2.43e+02</td>\n",
       "    </tr>\n",
       "    <tr>\n",
       "      <th>1</th>\n",
       "      <td>1.64e-03</td>\n",
       "      <td>3.07e+01</td>\n",
       "      <td>-4.81e+00</td>\n",
       "      <td>3.75e+00</td>\n",
       "      <td>0.00e+00</td>\n",
       "      <td>4.12e+02</td>\n",
       "      <td>3.52e+00</td>\n",
       "      <td>0.00e+00</td>\n",
       "      <td>1.20e-01</td>\n",
       "      <td>3.00e+01</td>\n",
       "      <td>2.43e+02</td>\n",
       "    </tr>\n",
       "    <tr>\n",
       "      <th>2</th>\n",
       "      <td>1.64e-03</td>\n",
       "      <td>3.63e+01</td>\n",
       "      <td>-4.34e+00</td>\n",
       "      <td>4.55e+00</td>\n",
       "      <td>0.00e+00</td>\n",
       "      <td>4.13e+02</td>\n",
       "      <td>3.51e+00</td>\n",
       "      <td>0.00e+00</td>\n",
       "      <td>2.40e-01</td>\n",
       "      <td>3.57e+01</td>\n",
       "      <td>2.43e+02</td>\n",
       "    </tr>\n",
       "    <tr>\n",
       "      <th>3</th>\n",
       "      <td>1.63e-03</td>\n",
       "      <td>4.17e+01</td>\n",
       "      <td>-3.41e+00</td>\n",
       "      <td>5.78e+00</td>\n",
       "      <td>0.00e+00</td>\n",
       "      <td>4.15e+02</td>\n",
       "      <td>3.51e+00</td>\n",
       "      <td>0.00e+00</td>\n",
       "      <td>3.61e-01</td>\n",
       "      <td>4.12e+01</td>\n",
       "      <td>2.43e+02</td>\n",
       "    </tr>\n",
       "    <tr>\n",
       "      <th>4</th>\n",
       "      <td>1.62e-03</td>\n",
       "      <td>4.70e+01</td>\n",
       "      <td>-2.06e+00</td>\n",
       "      <td>7.45e+00</td>\n",
       "      <td>0.00e+00</td>\n",
       "      <td>4.18e+02</td>\n",
       "      <td>3.51e+00</td>\n",
       "      <td>0.00e+00</td>\n",
       "      <td>4.81e-01</td>\n",
       "      <td>4.67e+01</td>\n",
       "      <td>2.43e+02</td>\n",
       "    </tr>\n",
       "    <tr>\n",
       "      <th>...</th>\n",
       "      <td>...</td>\n",
       "      <td>...</td>\n",
       "      <td>...</td>\n",
       "      <td>...</td>\n",
       "      <td>...</td>\n",
       "      <td>...</td>\n",
       "      <td>...</td>\n",
       "      <td>...</td>\n",
       "      <td>...</td>\n",
       "      <td>...</td>\n",
       "      <td>...</td>\n",
       "    </tr>\n",
       "    <tr>\n",
       "      <th>495</th>\n",
       "      <td>-1.47e-05</td>\n",
       "      <td>2.65e+02</td>\n",
       "      <td>2.04e+02</td>\n",
       "      <td>1.81e+02</td>\n",
       "      <td>5.16e+01</td>\n",
       "      <td>5.97e+02</td>\n",
       "      <td>3.40e+00</td>\n",
       "      <td>7.84e-01</td>\n",
       "      <td>5.95e+01</td>\n",
       "      <td>2.93e+02</td>\n",
       "      <td>4.17e+01</td>\n",
       "    </tr>\n",
       "    <tr>\n",
       "      <th>496</th>\n",
       "      <td>-1.47e-05</td>\n",
       "      <td>2.65e+02</td>\n",
       "      <td>2.04e+02</td>\n",
       "      <td>1.81e+02</td>\n",
       "      <td>5.16e+01</td>\n",
       "      <td>5.97e+02</td>\n",
       "      <td>3.40e+00</td>\n",
       "      <td>7.84e-01</td>\n",
       "      <td>5.96e+01</td>\n",
       "      <td>2.93e+02</td>\n",
       "      <td>4.17e+01</td>\n",
       "    </tr>\n",
       "    <tr>\n",
       "      <th>497</th>\n",
       "      <td>-1.47e-05</td>\n",
       "      <td>2.65e+02</td>\n",
       "      <td>2.04e+02</td>\n",
       "      <td>1.81e+02</td>\n",
       "      <td>5.16e+01</td>\n",
       "      <td>5.97e+02</td>\n",
       "      <td>3.40e+00</td>\n",
       "      <td>7.84e-01</td>\n",
       "      <td>5.98e+01</td>\n",
       "      <td>2.93e+02</td>\n",
       "      <td>4.17e+01</td>\n",
       "    </tr>\n",
       "    <tr>\n",
       "      <th>498</th>\n",
       "      <td>-1.47e-05</td>\n",
       "      <td>2.65e+02</td>\n",
       "      <td>2.04e+02</td>\n",
       "      <td>1.81e+02</td>\n",
       "      <td>5.16e+01</td>\n",
       "      <td>5.97e+02</td>\n",
       "      <td>3.40e+00</td>\n",
       "      <td>7.84e-01</td>\n",
       "      <td>5.99e+01</td>\n",
       "      <td>2.93e+02</td>\n",
       "      <td>4.17e+01</td>\n",
       "    </tr>\n",
       "    <tr>\n",
       "      <th>499</th>\n",
       "      <td>-1.47e-05</td>\n",
       "      <td>2.65e+02</td>\n",
       "      <td>2.04e+02</td>\n",
       "      <td>1.81e+02</td>\n",
       "      <td>5.16e+01</td>\n",
       "      <td>5.97e+02</td>\n",
       "      <td>3.40e+00</td>\n",
       "      <td>7.84e-01</td>\n",
       "      <td>6.00e+01</td>\n",
       "      <td>2.93e+02</td>\n",
       "      <td>4.17e+01</td>\n",
       "    </tr>\n",
       "  </tbody>\n",
       "</table>\n",
       "<p>500 rows × 11 columns</p>\n",
       "</div>"
      ],
      "text/plain": [
       "          rho  T_in [C]  pwr [MW]  Q [MWt]  W_s [MWe]  T_SG [K]  P_SG [MPa]  \\\n",
       "0    1.66e-03  2.50e+01  0.00e+00 0.00e+00   0.00e+00  4.22e+02    3.52e+00   \n",
       "1    1.64e-03  3.07e+01 -4.81e+00 3.75e+00   0.00e+00  4.12e+02    3.52e+00   \n",
       "2    1.64e-03  3.63e+01 -4.34e+00 4.55e+00   0.00e+00  4.13e+02    3.51e+00   \n",
       "3    1.63e-03  4.17e+01 -3.41e+00 5.78e+00   0.00e+00  4.15e+02    3.51e+00   \n",
       "4    1.62e-03  4.70e+01 -2.06e+00 7.45e+00   0.00e+00  4.18e+02    3.51e+00   \n",
       "..        ...       ...       ...      ...        ...       ...         ...   \n",
       "495 -1.47e-05  2.65e+02  2.04e+02 1.81e+02   5.16e+01  5.97e+02    3.40e+00   \n",
       "496 -1.47e-05  2.65e+02  2.04e+02 1.81e+02   5.16e+01  5.97e+02    3.40e+00   \n",
       "497 -1.47e-05  2.65e+02  2.04e+02 1.81e+02   5.16e+01  5.97e+02    3.40e+00   \n",
       "498 -1.47e-05  2.65e+02  2.04e+02 1.81e+02   5.16e+01  5.97e+02    3.40e+00   \n",
       "499 -1.47e-05  2.65e+02  2.04e+02 1.81e+02   5.16e+01  5.97e+02    3.40e+00   \n",
       "\n",
       "     Quality [X]  Time [min]  T_avg [C]  T_runoff [C]  \n",
       "0       0.00e+00    0.00e+00   2.50e+01      2.43e+02  \n",
       "1       0.00e+00    1.20e-01   3.00e+01      2.43e+02  \n",
       "2       0.00e+00    2.40e-01   3.57e+01      2.43e+02  \n",
       "3       0.00e+00    3.61e-01   4.12e+01      2.43e+02  \n",
       "4       0.00e+00    4.81e-01   4.67e+01      2.43e+02  \n",
       "..           ...         ...        ...           ...  \n",
       "495     7.84e-01    5.95e+01   2.93e+02      4.17e+01  \n",
       "496     7.84e-01    5.96e+01   2.93e+02      4.17e+01  \n",
       "497     7.84e-01    5.98e+01   2.93e+02      4.17e+01  \n",
       "498     7.84e-01    5.99e+01   2.93e+02      4.17e+01  \n",
       "499     7.84e-01    6.00e+01   2.93e+02      4.17e+01  \n",
       "\n",
       "[500 rows x 11 columns]"
      ]
     },
     "execution_count": 114,
     "metadata": {},
     "output_type": "execute_result"
    }
   ],
   "source": [
    "'''Get Post-Processing Quantities (not part of state of the system)'''\n",
    "quant = get_quantities(u_vec_history, params)\n",
    "quant\n"
   ]
  },
  {
   "cell_type": "code",
   "execution_count": 115,
   "metadata": {},
   "outputs": [
    {
     "data": {
      "image/png": "[encoded data removed]",
      "text/plain": [
       "<Figure size 432x288 with 1 Axes>"
      ]
     },
     "metadata": {
      "needs_background": "light"
     },
     "output_type": "display_data"
    }
   ],
   "source": [
    "import matplotlib.pyplot as plt\n",
    "quant.plot(kind='line',x='pwr [MW]',y='P_SG [MPa]',color='red')\n",
    "plt.show()\n"
   ]
  },
  {
   "cell_type": "code",
   "execution_count": 116,
   "metadata": {},
   "outputs": [
    {
     "data": {
      "image/png": "[encoded data removed]",
      "text/plain": [
       "<Figure size 432x288 with 1 Axes>"
      ]
     },
     "metadata": {
      "needs_background": "light"
     },
     "output_type": "display_data"
    }
   ],
   "source": [
    "quant.plot(kind='line',x='pwr [MW]',y='W_s [MWe]',color='red')\n",
    "plt.show()\n"
   ]
  },
  {
   "cell_type": "code",
   "execution_count": 121,
   "metadata": {},
   "outputs": [
    {
     "data": {
      "image/png": "[encoded data removed]",
      "text/plain": [
       "<Figure size 432x288 with 1 Axes>"
      ]
     },
     "metadata": {
      "needs_background": "light"
     },
     "output_type": "display_data"
    }
   ],
   "source": [
    "quant.plot(kind='line',x='T_SG [K]',y='W_s [MWe]',color='red')\n",
    "plt.show()"
   ]
  },
  {
   "cell_type": "code",
   "execution_count": 122,
   "metadata": {},
   "outputs": [
    {
     "data": {
      "image/png": "[encoded data removed]",
      "text/plain": [
       "<Figure size 432x288 with 1 Axes>"
      ]
     },
     "metadata": {
      "needs_background": "light"
     },
     "output_type": "display_data"
    }
   ],
   "source": [
    "quant.plot(kind='line',x='Time [min]',y='W_s [MWe]',color='red')\n",
    "plt.show()\n"
   ]
  },
  {
   "cell_type": "code",
   "execution_count": 123,
   "metadata": {},
   "outputs": [
    {
     "data": {
      "text/plain": [
       "<matplotlib.axes._subplots.AxesSubplot at 0x1b830413a00>"
      ]
     },
     "execution_count": 123,
     "metadata": {},
     "output_type": "execute_result"
    },
    {
     "data": {
      "image/png": "[encoded data removed]",
      "text/plain": [
       "<Figure size 432x288 with 1 Axes>"
      ]
     },
     "metadata": {
      "needs_background": "light"
     },
     "output_type": "display_data"
    }
   ],
   "source": [
    "quant.plot(x=\"Time [min]\", y=[\"W_s [MWe]\", \"Q [MWt]\"], kind=\"line\")"
   ]
  },
  {
   "cell_type": "code",
   "execution_count": 124,
   "metadata": {},
   "outputs": [
    {
     "data": {
      "image/png": "[encoded data removed]",
      "text/plain": [
       "<Figure size 432x288 with 1 Axes>"
      ]
     },
     "metadata": {
      "needs_background": "light"
     },
     "output_type": "display_data"
    }
   ],
   "source": [
    "\n",
    "quant.plot(kind='line',x='Time [min]',y='T_SG [K]',color='red')\n",
    "plt.show()\n"
   ]
  },
  {
   "cell_type": "code",
   "execution_count": 106,
   "metadata": {},
   "outputs": [
    {
     "data": {
      "image/png": "[encoded data removed]",
      "text/plain": [
       "<Figure size 432x288 with 1 Axes>"
      ]
     },
     "metadata": {
      "needs_background": "light"
     },
     "output_type": "display_data"
    }
   ],
   "source": [
    "quant.plot(kind='line',x='Time [min]',y='T_avg [C]',color='red')\n",
    "plt.show()"
   ]
  },
  {
   "cell_type": "code",
   "execution_count": 108,
   "metadata": {},
   "outputs": [
    {
     "data": {
      "image/png": "[encoded data removed]",
      "text/plain": [
       "<Figure size 432x288 with 1 Axes>"
      ]
     },
     "metadata": {
      "needs_background": "light"
     },
     "output_type": "display_data"
    }
   ],
   "source": [
    "quant.plot(kind='line',x='Time [min]',y='T_runoff [C]',color='red')\n",
    "plt.show()"
   ]
  },
  {
   "cell_type": "code",
   "execution_count": 107,
   "metadata": {
    "scrolled": false
   },
   "outputs": [
    {
     "data": {
      "image/png": "[encoded data removed]",
      "text/plain": [
       "<Figure size 1008x432 with 2 Axes>"
      ]
     },
     "metadata": {
      "needs_background": "light"
     },
     "output_type": "display_data"
    },
    {
     "name": "stdout",
     "output_type": "stream",
     "text": [
      "\n"
     ]
    }
   ],
   "source": [
    "'''Plot neutron and delayed neutron emitter concentration in the reactor'''\n",
    "\n",
    "plot_results(u_vec_history, normalize=False)"
   ]
  },
  {
   "cell_type": "code",
   "execution_count": 82,
   "metadata": {
    "scrolled": true
   },
   "outputs": [
    {
     "data": {
      "image/png": "[encoded data removed]",
      "text/plain": [
       "<Figure size 1152x432 with 1 Axes>"
      ]
     },
     "metadata": {
      "needs_background": "light"
     },
     "output_type": "display_data"
    },
    {
     "name": "stdout",
     "output_type": "stream",
     "text": [
      "\n"
     ]
    }
   ],
   "source": [
    "'''Plot Temperatures'''\n",
    "\n",
    "plot_temperature_results(u_vec_history, quant, params, time_unit='min')"
   ]
  },
  {
   "cell_type": "markdown",
   "metadata": {},
   "source": [
    "## [References](#toc)\n",
    "\n",
    "1. Nuclear Reactor Engineering, [Engy-4350](https://github.com/dpploy/engy-4350) UMass Lowell, Dept. Chemical Engineering."
   ]
  }
 ],
 "metadata": {
  "kernelspec": {
   "display_name": "Python 3",
   "language": "python",
   "name": "python3"
  },
  "language_info": {
   "codemirror_mode": {
    "name": "ipython",
    "version": 3
   },
   "file_extension": ".py",
   "mimetype": "text/x-python",
   "name": "python",
   "nbconvert_exporter": "python",
   "pygments_lexer": "ipython3",
   "version": "3.8.3"
  },
  "latex_envs": {
   "LaTeX_envs_menu_present": true,
   "autoclose": false,
   "autocomplete": true,
   "bibliofile": "biblio.bib",
   "cite_by": "apalike",
   "current_citInitial": 1,
   "eqLabelWithNumbers": true,
   "eqNumInitial": 1,
   "hotkeys": {
    "equation": "Ctrl-E",
    "itemize": "Ctrl-I"
   },
   "labels_anchors": false,
   "latex_user_defs": false,
   "report_style_numbering": false,
   "user_envs_cfg": false
  }
 },
 "nbformat": 4,
 "nbformat_minor": 2
}
