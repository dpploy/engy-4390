{
 "cells": [
  {
   "cell_type": "markdown",
   "metadata": {},
   "source": [
    "**Engy-4390** Nuclear Systems Design and Analysis, UMass Lowell, Chem. Eng. Nuclear Program Fall 2020\n",
    "\n",
    "# NuScale 720 SMR BoP Cortix Testing\n",
    "$  \n",
    "  \\newcommand{\\Amtrx}{\\boldsymbol{\\mathsf{A}}}\n",
    "  \\newcommand{\\Bmtrx}{\\boldsymbol{\\mathsf{B}}}\n",
    "  \\newcommand{\\Mmtrx}{\\boldsymbol{\\mathsf{M}}}\n",
    "  \\newcommand{\\Imtrx}{\\boldsymbol{\\mathsf{I}}}\n",
    "  \\newcommand{\\Pmtrx}{\\boldsymbol{\\mathsf{P}}}\n",
    "  \\newcommand{\\Lmtrx}{\\boldsymbol{\\mathsf{L}}}\n",
    "  \\newcommand{\\Umtrx}{\\boldsymbol{\\mathsf{U}}}\n",
    "  \\newcommand{\\Smtrx}{\\boldsymbol{\\mathsf{S}}}\n",
    "  \\newcommand{\\xvec}{\\boldsymbol{\\mathsf{x}}}\n",
    "  \\newcommand{\\uvar}{\\boldsymbol{u}}\n",
    "  \\newcommand{\\fvar}{\\boldsymbol{f}}\n",
    "  \\newcommand{\\avec}{\\boldsymbol{\\mathsf{a}}}\n",
    "  \\newcommand{\\bvec}{\\boldsymbol{\\mathsf{b}}}\n",
    "  \\newcommand{\\cvec}{\\boldsymbol{\\mathsf{c}}}\n",
    "  \\newcommand{\\rvec}{\\boldsymbol{\\mathsf{r}}}\n",
    "  \\newcommand{\\mvec}{\\boldsymbol{\\mathsf{m}}}\n",
    "  \\newcommand{\\gvec}{\\boldsymbol{\\mathsf{g}}}\n",
    "  \\newcommand{\\zerovec}{\\boldsymbol{\\mathsf{0}}}\n",
    "  \\newcommand{\\norm}[1]{\\bigl\\lVert{#1}\\bigr\\rVert}\n",
    "  \\newcommand{\\transpose}[1]{{#1}^\\top}\n",
    "  \\DeclareMathOperator{\\rank}{rank}\n",
    "  \\newcommand{\\Power}{\\mathcal{P}}\n",
    "$"
   ]
  },
  {
   "cell_type": "markdown",
   "metadata": {},
   "source": [
    "**Students:** Jack and Nik <br>\n",
    "**Course:** Engy-4390 Nuclear Systems Design and Analysis  <br>\n",
    "**Mentor:** Prof. Valmor F. de Almeida\n",
    "\n",
    "UMass Lowell, Dept. of Chemical Engineering, Nuclear Energy Program \n",
    "<br>\n",
    "**11Dec2020**"
   ]
  },
  {
   "cell_type": "code",
   "execution_count": 1,
   "metadata": {},
   "outputs": [
    {
     "name": "stderr",
     "output_type": "stream",
     "text": [
      "[14239] 2020-11-21 15:41:54,334 - cortix - INFO - Created Cortix object \n",
      "_____________________________________________________________________________\n",
      "                             L A U N C H I N G                               \n",
      "_____________________________________________________________________________\n",
      "      ...                                        s       .     (TAAG Fraktur)\n",
      "   xH88\"`~ .x8X                                 :8      @88>\n",
      " :8888   .f\"8888Hf        u.      .u    .      .88      %8P      uL   ..\n",
      ":8888>  X8L  ^\"\"`   ...ue888b   .d88B :@8c    :888ooo    .     .@88b  @88R\n",
      "X8888  X888h        888R Y888r =\"8888f8888r -*8888888  .@88u  \"\"Y888k/\"*P\n",
      "88888  !88888.      888R I888>   4888>\"88\"    8888    888E`    Y888L\n",
      "88888   %88888      888R I888>   4888> \"      8888      888E      8888\n",
      "88888 `> `8888>     888R I888>   4888>        8888      888E      `888N\n",
      "`8888L %  ?888   ! u8888cJ888   .d888L .+    .8888Lu=   888E   .u./\"888&\n",
      " `8888  `-*\"\"   /   \"*888*P\"    ^\"8888*\"     ^%888*     888&  d888\" Y888*\"\n",
      "   \"888.      :\"      \"Y\"          \"Y\"         \"Y\"      R888\" ` \"Y   Y\"\n",
      "     `\"\"***~\"`                                           \"\"\n",
      "                             https://cortix.org                              \n",
      "_____________________________________________________________________________\n"
     ]
    }
   ],
   "source": [
    "try:\n",
    "    import cortix, iapws\n",
    "except ImportError:\n",
    "    print('Installing missing packages...')\n",
    "    print('')\n",
    "    !pip install cortix iapws\n",
    "    import cortix, iapws\n",
    "\n",
    "from cortix import Cortix\n",
    "from cortix import Network\n",
    "\n",
    "from reactor import SMPWR\n",
    "from steamer import Steamer\n",
    "from condenser import Condenser\n",
    "from turbine import Turbine\n",
    "\n",
    "import unit\n",
    "\n",
    "end_time = 1 * unit.hour \n",
    "time_step = 30.0 * unit.second\n",
    "show_time = (True, 5*unit.minute)\n",
    "\n",
    "plant = Cortix(use_mpi=False, splash=True) # System top level\n",
    "\n",
    "plant_net = plant.network = Network() # Network"
   ]
  },
  {
   "cell_type": "code",
   "execution_count": 2,
   "metadata": {},
   "outputs": [],
   "source": [
    "'''Reactor'''\n",
    "\n",
    "reactor = SMPWR()  # Create reactor module\n",
    "\n",
    "reactor.name = 'SMPWR'\n",
    "reactor.save = True\n",
    "reactor.time_step = time_step\n",
    "reactor.end_time = end_time\n",
    "reactor.show_time = show_time\n",
    "\n",
    "plant_net.module(reactor)  # Add reactor module to network"
   ]
  },
  {
   "cell_type": "code",
   "execution_count": 3,
   "metadata": {},
   "outputs": [],
   "source": [
    "'''Steamer'''\n",
    "\n",
    "steamer = Steamer()  # Create steamer module\n",
    "\n",
    "steamer.name = 'Steamer'\n",
    "steamer.save = True\n",
    "steamer.time_step = time_step\n",
    "steamer.end_time = end_time\n",
    "steamer.show_time = show_time\n",
    "\n",
    "plant_net.module(steamer)  # Add steamer module to network"
   ]
  },
  {
   "cell_type": "code",
   "execution_count": 4,
   "metadata": {},
   "outputs": [],
   "source": [
    "'''Turbine'''\n",
    "\n",
    "turbine = Turbine()  # Create turbine module\n",
    "\n",
    "turbine.name = 'Turbine'\n",
    "turbine.save = True\n",
    "turbine.time_step = time_step\n",
    "turbine.end_time = end_time\n",
    "turbine.show_time = show_time\n",
    "\n",
    "#plant_net.module(turbine)  # Add turbine module to network"
   ]
  },
  {
   "cell_type": "code",
   "execution_count": 5,
   "metadata": {},
   "outputs": [],
   "source": [
    "'''Condenser'''\n",
    "\n",
    "condenser = Condenser()  # Create condenser module\n",
    "\n",
    "condenser.name = 'Condenser'\n",
    "condenser.save = True\n",
    "condenser.time_step = time_step\n",
    "condenser.end_time = end_time\n",
    "condenser.show_time = show_time\n",
    "\n",
    "#plant_net.module(condenser)  # Add condenser module to network"
   ]
  },
  {
   "cell_type": "code",
   "execution_count": 6,
   "metadata": {},
   "outputs": [],
   "source": [
    "#'''Feedwater Heating system'''\n",
    "\n",
    "#condenser = FWHS()  # Create condenser module\n",
    "\n",
    "#condenser.name = 'Condenser'\n",
    "#condenser.save = True\n",
    "#condenser.time_step = time_step\n",
    "#condenser.end_time = end_time\n",
    "#condenser.show_time = show_time\n",
    "\n",
    "#plant_net.module(condenser)  # Add condenser module to network"
   ]
  },
  {
   "cell_type": "code",
   "execution_count": 7,
   "metadata": {},
   "outputs": [
    {
     "data": {
      "image/svg+xml": [
       "<?xml version=\"1.0\" encoding=\"UTF-8\" standalone=\"no\"?>\n",
       "<!DOCTYPE svg PUBLIC \"-//W3C//DTD SVG 1.1//EN\"\n",
       " \"http://www.w3.org/Graphics/SVG/1.1/DTD/svg11.dtd\">\n",
       "<!-- Generated by graphviz version 2.42.3 (20191010.1750)\n",
       " -->\n",
       "<!-- Title: network&#45;0 Pages: 1 -->\n",
       "<svg width=\"249pt\" height=\"44pt\"\n",
       " viewBox=\"0.00 0.00 248.81 44.00\" xmlns=\"http://www.w3.org/2000/svg\" xmlns:xlink=\"http://www.w3.org/1999/xlink\">\n",
       "<g id=\"graph0\" class=\"graph\" transform=\"scale(1 1) rotate(0) translate(4 40)\">\n",
       "<title>network&#45;0</title>\n",
       "<polygon fill=\"white\" stroke=\"transparent\" points=\"-4,4 -4,-40 244.81,-40 244.81,4 -4,4\"/>\n",
       "<!-- 0 -->\n",
       "<g id=\"node1\" class=\"node\">\n",
       "<title>0</title>\n",
       "<polygon fill=\"lightgrey\" stroke=\"black\" points=\"240.6,-18 215.56,-36 165.5,-36 140.46,-18 165.5,0 215.56,0 240.6,-18\"/>\n",
       "<text text-anchor=\"middle\" x=\"190.53\" y=\"-14.3\" font-family=\"Times,serif\" font-size=\"14.00\">SMPWR</text>\n",
       "</g>\n",
       "<!-- 1 -->\n",
       "<g id=\"node2\" class=\"node\">\n",
       "<title>1</title>\n",
       "<polygon fill=\"lightgrey\" stroke=\"black\" points=\"93.09,-18 69.81,-36 23.25,-36 -0.03,-18 23.25,0 69.81,0 93.09,-18\"/>\n",
       "<text text-anchor=\"middle\" x=\"46.53\" y=\"-14.3\" font-family=\"Times,serif\" font-size=\"14.00\">Steamer</text>\n",
       "</g>\n",
       "<!-- 0&#45;&gt;1 -->\n",
       "<g id=\"edge1\" class=\"edge\">\n",
       "<title>0&#45;&gt;1</title>\n",
       "<path fill=\"none\" stroke=\"black\" d=\"M140.17,-18C128.25,-18 115.47,-18 103.3,-18\"/>\n",
       "<polygon fill=\"black\" stroke=\"black\" points=\"103.25,-14.5 93.25,-18 103.25,-21.5 103.25,-14.5\"/>\n",
       "</g>\n",
       "<!-- 1&#45;&gt;0 -->\n",
       "<g id=\"edge2\" class=\"edge\">\n",
       "<title>1&#45;&gt;0</title>\n",
       "<path fill=\"none\" stroke=\"black\" d=\"M93.28,-18C105.02,-18 117.79,-18 130.09,-18\"/>\n",
       "<polygon fill=\"black\" stroke=\"black\" points=\"130.29,-21.5 140.29,-18 130.29,-14.5 130.29,-21.5\"/>\n",
       "</g>\n",
       "</g>\n",
       "</svg>\n"
      ],
      "text/plain": [
       "<graphviz.dot.Digraph at 0x7f1dcd198e50>"
      ]
     },
     "execution_count": 7,
     "metadata": {},
     "output_type": "execute_result"
    }
   ],
   "source": [
    "'''Balance of Plant Network Connectivity'''\n",
    "\n",
    "plant_net.connect([reactor, 'coolant-outflow'], [steamer, 'primary-inflow'])\n",
    "plant_net.connect([steamer, 'primary-outflow'], [reactor, 'coolant-inflow'])\n",
    "#plant_net.connect([steamer, 'secondary-outflow'], [turbine, 'inflow'])\n",
    "#plant_net.connect([turbine, 'outflow'], [condenser, 'condenser-inflow'])\n",
    "#plant_net.connect([condenser, 'condenser-outflow'], [steamer, 'secondary-inflow'])\n",
    "\n",
    "plant_net.draw()"
   ]
  },
  {
   "cell_type": "code",
   "execution_count": 8,
   "metadata": {
    "scrolled": false
   },
   "outputs": [
    {
     "name": "stderr",
     "output_type": "stream",
     "text": [
      "[14239] 2020-11-21 15:41:54,460 - cortix - INFO - Launching Module <reactor.SMPWR object at 0x7f1ddae65d10>\n",
      "[14239] 2020-11-21 15:41:54,463 - cortix - INFO - Launching Module <steamer.Steamer object at 0x7f1dcd188b50>\n",
      "[14239] 2020-11-21 15:41:54,464 - cortix - INFO - SMPWR::run():time[m]=0.0\n",
      "[14239] 2020-11-21 15:41:54,468 - cortix - INFO - Steamer::run():time[m]=0.0\n",
      "[14239] 2020-11-21 15:41:54,623 - cortix - INFO - Steamer::run():time[m]=5.0\n",
      "[14239] 2020-11-21 15:41:54,630 - cortix - INFO - SMPWR::run():time[m]=5.0\n",
      "[14239] 2020-11-21 15:41:54,754 - cortix - INFO - Steamer::run():time[m]=10.0\n",
      "[14239] 2020-11-21 15:41:54,761 - cortix - INFO - SMPWR::run():time[m]=10.0\n",
      "[14239] 2020-11-21 15:41:54,883 - cortix - INFO - Steamer::run():time[m]=15.0\n",
      "[14239] 2020-11-21 15:41:54,891 - cortix - INFO - SMPWR::run():time[m]=15.0\n",
      "[14239] 2020-11-21 15:41:55,024 - cortix - INFO - Steamer::run():time[m]=20.0\n",
      "[14239] 2020-11-21 15:41:55,031 - cortix - INFO - SMPWR::run():time[m]=20.0\n",
      "[14239] 2020-11-21 15:41:55,151 - cortix - INFO - Steamer::run():time[m]=25.0\n",
      "[14239] 2020-11-21 15:41:55,158 - cortix - INFO - SMPWR::run():time[m]=25.0\n",
      "[14239] 2020-11-21 15:41:55,289 - cortix - INFO - Steamer::run():time[m]=30.0\n",
      "[14239] 2020-11-21 15:41:55,296 - cortix - INFO - SMPWR::run():time[m]=30.0\n",
      "[14239] 2020-11-21 15:41:55,422 - cortix - INFO - Steamer::run():time[m]=35.0\n",
      "[14239] 2020-11-21 15:41:55,429 - cortix - INFO - SMPWR::run():time[m]=35.0\n",
      "[14239] 2020-11-21 15:41:55,554 - cortix - INFO - Steamer::run():time[m]=40.0\n",
      "[14239] 2020-11-21 15:41:55,561 - cortix - INFO - SMPWR::run():time[m]=40.0\n",
      "[14239] 2020-11-21 15:41:55,687 - cortix - INFO - Steamer::run():time[m]=45.0\n",
      "[14239] 2020-11-21 15:41:55,694 - cortix - INFO - SMPWR::run():time[m]=45.0\n",
      "[14239] 2020-11-21 15:41:55,822 - cortix - INFO - Steamer::run():time[m]=50.0\n",
      "[14239] 2020-11-21 15:41:55,829 - cortix - INFO - SMPWR::run():time[m]=50.0\n",
      "[14239] 2020-11-21 15:41:55,956 - cortix - INFO - Steamer::run():time[m]=55.0\n",
      "[14239] 2020-11-21 15:41:55,964 - cortix - INFO - SMPWR::run():time[m]=55.0\n",
      "[14239] 2020-11-21 15:41:56,111 - cortix - INFO - Steamer::run():time[m]=60.0\n",
      "[14239] 2020-11-21 15:41:56,118 - cortix - INFO - SMPWR::run():time[m]=60.0\n",
      "[14239] 2020-11-21 15:41:56,156 - cortix - INFO - run()::Elapsed wall clock time [s]: 1.82\n"
     ]
    }
   ],
   "source": [
    "'''Run'''\n",
    "\n",
    "plant.run()  # Run network dynamics simulation"
   ]
  },
  {
   "cell_type": "code",
   "execution_count": 9,
   "metadata": {
    "scrolled": false
   },
   "outputs": [
    {
     "name": "stderr",
     "output_type": "stream",
     "text": [
      "[14239] 2020-11-21 15:41:56,166 - cortix - INFO - Closed Cortix object.\n",
      "_____________________________________________________________________________\n",
      "                           T E R M I N A T I N G                             \n",
      "_____________________________________________________________________________\n",
      "      ...                                        s       .     (TAAG Fraktur)\n",
      "   xH88\"`~ .x8X                                 :8      @88>\n",
      " :8888   .f\"8888Hf        u.      .u    .      .88      %8P      uL   ..\n",
      ":8888>  X8L  ^\"\"`   ...ue888b   .d88B :@8c    :888ooo    .     .@88b  @88R\n",
      "X8888  X888h        888R Y888r =\"8888f8888r -*8888888  .@88u  \"\"Y888k/\"*P\n",
      "88888  !88888.      888R I888>   4888>\"88\"    8888    888E`    Y888L\n",
      "88888   %88888      888R I888>   4888> \"      8888      888E      8888\n",
      "88888 `> `8888>     888R I888>   4888>        8888      888E      `888N\n",
      "`8888L %  ?888   ! u8888cJ888   .d888L .+    .8888Lu=   888E   .u./\"888&\n",
      " `8888  `-*\"\"   /   \"*888*P\"    ^\"8888*\"     ^%888*     888&  d888\" Y888*\"\n",
      "   \"888.      :\"      \"Y\"          \"Y\"         \"Y\"      R888\" ` \"Y   Y\"\n",
      "     `\"\"***~\"`                                           \"\"\n",
      "                             https://cortix.org                              \n",
      "_____________________________________________________________________________\n",
      "[14239] 2020-11-21 15:41:56,167 - cortix - INFO - close()::Elapsed wall clock time [s]: 1.83\n"
     ]
    }
   ],
   "source": [
    "'''Close'''\n",
    "\n",
    "plant.close()  # Properly shutdow plant"
   ]
  },
  {
   "cell_type": "code",
   "execution_count": 10,
   "metadata": {},
   "outputs": [],
   "source": [
    "reactor = plant_net.modules[0]"
   ]
  },
  {
   "cell_type": "code",
   "execution_count": 11,
   "metadata": {},
   "outputs": [
    {
     "data": {
      "image/png": "[encoded data removed]",
      "text/plain": [
       "<Figure size 432x288 with 1 Axes>"
      ]
     },
     "metadata": {
      "needs_background": "light"
     },
     "output_type": "display_data"
    }
   ],
   "source": [
    "(quant, time_unit) = reactor.neutron_phase.get_quantity_history('neutron-dens')\n",
    "quant.plot(x_scaling=1/unit.minute, y_scaling=1/max(quant.value), x_label='Time [m]', y_label=quant.formal_name+' ['+quant.unit+']')"
   ]
  },
  {
   "cell_type": "code",
   "execution_count": 12,
   "metadata": {},
   "outputs": [
    {
     "data": {
      "image/png": "[encoded data removed]",
      "text/plain": [
       "<Figure size 432x288 with 1 Axes>"
      ]
     },
     "metadata": {
      "needs_background": "light"
     },
     "output_type": "display_data"
    }
   ],
   "source": [
    "(quant, time_unit) = reactor.neutron_phase.get_quantity_history('delayed-neutrons-cc')\n",
    "quant.plot(x_scaling=1/unit.minute, x_label='Time [m]', y_label=quant.formal_name+' ['+quant.unit+']')"
   ]
  },
  {
   "cell_type": "code",
   "execution_count": 13,
   "metadata": {},
   "outputs": [
    {
     "data": {
      "image/png": "[encoded data removed]",
      "text/plain": [
       "<Figure size 432x288 with 1 Axes>"
      ]
     },
     "metadata": {
      "needs_background": "light"
     },
     "output_type": "display_data"
    }
   ],
   "source": [
    "(quant, time_unit) = reactor.reactor_phase.get_quantity_history('fuel-temp')\n",
    "quant.plot(x_scaling=1/unit.minute, x_label='Time [m]', y_label=quant.formal_name+' ['+quant.unit+']')"
   ]
  },
  {
   "cell_type": "code",
   "execution_count": 14,
   "metadata": {},
   "outputs": [
    {
     "data": {
      "image/png": "[encoded data removed]",
      "text/plain": [
       "<Figure size 432x288 with 1 Axes>"
      ]
     },
     "metadata": {
      "needs_background": "light"
     },
     "output_type": "display_data"
    }
   ],
   "source": [
    "(quant, time_unit) = reactor.coolant_outflow_phase.get_quantity_history('temp')\n",
    "quant.plot(x_scaling=1/unit.minute, x_label='Time [m]', y_label=quant.formal_name+' ['+quant.unit+']')"
   ]
  },
  {
   "cell_type": "code",
   "execution_count": 15,
   "metadata": {},
   "outputs": [],
   "source": [
    "(quant, time_unit) = steamer.primary_outflow_phase.get_quantity_history('temp')\n",
    "quant.plot(x_scaling=1/unit.minute, x_label='Time [m]', y_label=quant.formal_name+' ['+quant.unit+']')"
   ]
  },
  {
   "cell_type": "code",
   "execution_count": 16,
   "metadata": {},
   "outputs": [
    {
     "data": {
      "text/plain": [
       "\n",
       "\t **Phase()**: name=PhaseNew;\n",
       "\t time unit: s;\n",
       "\t *quantities*: [\n",
       "\t Quantity(): \n",
       "\t name=temp; formal name=T_1; latex name=$T_1$; info=Steamer Primary Outflow Temperature; value=0.0[K]];\n",
       "\t *species*: None;\n",
       "\t *history* # time_stamps=1;\n",
       "\t *history end* @0.0;\n",
       "temp    293.15\n",
       "Name: 0.0, dtype: object"
      ]
     },
     "execution_count": 16,
     "metadata": {},
     "output_type": "execute_result"
    }
   ],
   "source": [
    "steamer.primary_outflow_phase"
   ]
  },
  {
   "cell_type": "code",
   "execution_count": 17,
   "metadata": {},
   "outputs": [],
   "source": [
    "(quant, time_unit) = steamer.secondary_outflow_phase.get_quantity_history('temp')\n",
    "quant.plot(x_scaling=1/unit.minute, x_label='Time [m]', y_label=quant.formal_name+' ['+quant.unit+']')"
   ]
  },
  {
   "cell_type": "code",
   "execution_count": 18,
   "metadata": {},
   "outputs": [
    {
     "data": {
      "text/plain": [
       "\n",
       "\t **Phase()**: name=PhaseNew;\n",
       "\t time unit: s;\n",
       "\t *quantities*: [\n",
       "\t Quantity(): \n",
       "\t name=flowrate; formal name=q_2; latex name=$q_2$; info=Steamer Secondary Outflow Mass Flowrate; value=0.0[kg/s], \n",
       "\t Quantity(): \n",
       "\t name=temp; formal name=T_2; latex name=$T_2$; info=Steamer Secondary Outflow Temperature; value=0.0[K], \n",
       "\t Quantity(): \n",
       "\t name=pressure; formal name=p_out; latex name=$p_out$; info=Steamer Secondary Outflow Pressure; value=0.0[Pa]];\n",
       "\t *species*: None;\n",
       "\t *history* # time_stamps=1;\n",
       "\t *history end* @0.0;\n",
       "flowrate         67\n",
       "temp         293.15\n",
       "pressure    3.4e+06\n",
       "Name: 0.0, dtype: object"
      ]
     },
     "execution_count": 18,
     "metadata": {},
     "output_type": "execute_result"
    }
   ],
   "source": [
    "steamer.secondary_outflow_phase"
   ]
  },
  {
   "cell_type": "markdown",
   "metadata": {},
   "source": [
    "## [References](#toc)<a id=\"refs\"></a>\n",
    "\n",
    "1. Nuclear Reactor Engineering, [Engy-4350](https://github.com/dpploy/engy-4350) UMass Lowell, Dept. Chemical Engineering."
   ]
  },
  {
   "cell_type": "code",
   "execution_count": null,
   "metadata": {},
   "outputs": [],
   "source": []
  }
 ],
 "metadata": {
  "kernelspec": {
   "display_name": "Python 3",
   "language": "python",
   "name": "python3"
  },
  "language_info": {
   "codemirror_mode": {
    "name": "ipython",
    "version": 3
   },
   "file_extension": ".py",
   "mimetype": "text/x-python",
   "name": "python",
   "nbconvert_exporter": "python",
   "pygments_lexer": "ipython3",
   "version": "3.7.9"
  },
  "latex_envs": {
   "LaTeX_envs_menu_present": true,
   "autoclose": false,
   "autocomplete": true,
   "bibliofile": "biblio.bib",
   "cite_by": "apalike",
   "current_citInitial": 1,
   "eqLabelWithNumbers": true,
   "eqNumInitial": 1,
   "hotkeys": {
    "equation": "Ctrl-E",
    "itemize": "Ctrl-I"
   },
   "labels_anchors": false,
   "latex_user_defs": false,
   "report_style_numbering": false,
   "user_envs_cfg": false
  }
 },
 "nbformat": 4,
 "nbformat_minor": 2
}
