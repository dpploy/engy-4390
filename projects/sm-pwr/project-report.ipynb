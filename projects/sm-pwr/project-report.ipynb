{
 "cells": [
  {
   "cell_type": "markdown",
   "metadata": {},
   "source": [
    "**Engy-4390** Nuclear Systems Design and Analysis, UMass Lowell, Chem. Eng. Nuclear Program Fall 2020\n",
    "\n",
    "# NuScale 720 SMR BoP Simulation Report\n",
    "$  \n",
    "  \\newcommand{\\Amtrx}{\\boldsymbol{\\mathsf{A}}}\n",
    "  \\newcommand{\\Bmtrx}{\\boldsymbol{\\mathsf{B}}}\n",
    "  \\newcommand{\\Mmtrx}{\\boldsymbol{\\mathsf{M}}}\n",
    "  \\newcommand{\\Imtrx}{\\boldsymbol{\\mathsf{I}}}\n",
    "  \\newcommand{\\Pmtrx}{\\boldsymbol{\\mathsf{P}}}\n",
    "  \\newcommand{\\Lmtrx}{\\boldsymbol{\\mathsf{L}}}\n",
    "  \\newcommand{\\Umtrx}{\\boldsymbol{\\mathsf{U}}}\n",
    "  \\newcommand{\\Smtrx}{\\boldsymbol{\\mathsf{S}}}\n",
    "  \\newcommand{\\xvec}{\\boldsymbol{\\mathsf{x}}}\n",
    "  \\newcommand{\\uvar}{\\boldsymbol{u}}\n",
    "  \\newcommand{\\fvar}{\\boldsymbol{f}}\n",
    "  \\newcommand{\\avec}{\\boldsymbol{\\mathsf{a}}}\n",
    "  \\newcommand{\\bvec}{\\boldsymbol{\\mathsf{b}}}\n",
    "  \\newcommand{\\cvec}{\\boldsymbol{\\mathsf{c}}}\n",
    "  \\newcommand{\\rvec}{\\boldsymbol{\\mathsf{r}}}\n",
    "  \\newcommand{\\mvec}{\\boldsymbol{\\mathsf{m}}}\n",
    "  \\newcommand{\\gvec}{\\boldsymbol{\\mathsf{g}}}\n",
    "  \\newcommand{\\zerovec}{\\boldsymbol{\\mathsf{0}}}\n",
    "  \\newcommand{\\norm}[1]{\\bigl\\lVert{#1}\\bigr\\rVert}\n",
    "  \\newcommand{\\transpose}[1]{{#1}^\\top}\n",
    "  \\DeclareMathOperator{\\rank}{rank}\n",
    "  \\newcommand{\\Power}{\\mathcal{P}}\n",
    "$"
   ]
  },
  {
   "cell_type": "markdown",
   "metadata": {},
   "source": [
    "**Students:** Jack and Nik <br>\n",
    "**Course:** Engy-4390 Nuclear Systems Design and Analysis  <br>\n",
    "**Mentor:** Prof. Valmor F. de Almeida\n",
    "\n",
    "UMass Lowell, Dept. of Chemical Engineering, Nuclear Energy Program \n",
    "<br>\n",
    "**11Dec2020**"
   ]
  },
  {
   "cell_type": "markdown",
   "metadata": {},
   "source": [
    "---\n",
    "## Table of Contents<a id=\"toc\"></a>\n",
    "* [Introduction](#intro)\n",
    "* [Objectives](#obj)\n",
    "* [Approach](#app)\n",
    "* [Input Data](#data)\n",
    "* [Steady state](#ss)\n",
    "\n",
    "* [Function library](#flib)\n",
    " + [Reactor](#reactor)\n",
    "   - [One-Group Energy Neutron Balance](#nbal)\n",
    "\n",
    " + [Steam Generator](#steamgen)\n",
    " + [Turbine](#turbine)\n",
    " + [Condenser](#condenser)\n",
    " + [Coupling](#coupling)\n",
    "    - [Vector ODE System](#vodes)\n",
    "* [Startup: Reactivity Step with Negative Feedback Results](#res1)\n",
    "* [References](#refs)\n",
    "---"
   ]
  },
  {
   "cell_type": "markdown",
   "metadata": {},
   "source": [
    "## [Introduction](#toc)<a id=\"intro\"></a>"
   ]
  },
  {
   "cell_type": "markdown",
   "metadata": {},
   "source": [
    "- As nuclear power continues to find its niche in the energy market, we are seeing an increasing trend towards Small Modular Reactors (SMRs). The benefit to SMRs is their small plant area, modularized reactor design allowing for more cost effective manufacturing, and their low level of operator interaction. "
   ]
  },
  {
   "cell_type": "markdown",
   "metadata": {},
   "source": [
    "- The NuScale 720 integral PWR has been under design for close to two decades. The 720 offers a safe design which uses no active components. Instead, the design relies primarily on gravity and natural convection which decreases the maintenance requirements of the system. NuScale Power Modules™ will be manufactured in factories, allowing for a monumental increase in production - the likes of which has never been seen by any other nuclear power plant design. With 2027 being the projected year for the first commercially operated plant, the NuScale 720 looks to become a mainstay in power generation for the U.S. "
   ]
  },
  {
   "cell_type": "markdown",
   "metadata": {},
   "source": [
    "- In the NuScale 720 design, the 12 modular reactors are submerged in a pool of water that acts as a heat sink. This pool is designed to respond to reactor conditions by drying up when external power is shut off. This leads to an air cooling mode that can be used in the case of long term (< 30 days) power shutdown. This is the only point where the different reactors influence each other, so it is imperative that each of our cores relates back to this water basin."
   ]
  },
  {
   "cell_type": "markdown",
   "metadata": {},
   "source": [
    "- The NuScale 720 has core inlet and outlet coolant temperatures of 265℃ and 321 ℃, respectively. The plant has 12 total reactor modules that split into two turbine buildings, each housing six turbines. Each core produces 200 MWt and 60 MWe for a total capacity to the grid, after considering plant consumption, of 685 MWe. The nominal coolant flow rate for one primary loop is 666 kg/s, whilst the nominal flow rate for the secondary loop is 87 kg/s."
   ]
  },
  {
   "cell_type": "markdown",
   "metadata": {},
   "source": [
    "- A balance of plant (BoP) is used to illustrate all components that are involved in energy production. A BoP includes systems like the core, steam generator, turbine, pressurizer, feed water system, and condenser. A BoP can be used to see how each part of the plant plays a role in the overall production of energy. The real time changes of key factors in each part of the reactor, such as changing the control rod level in the reactor, to see how it affects all the other parts of the plant over time. "
   ]
  },
  {
   "cell_type": "markdown",
   "metadata": {},
   "source": [
    "## [Objectives](#toc)<a id=\"obj\"></a>"
   ]
  },
  {
   "cell_type": "markdown",
   "metadata": {},
   "source": [
    "- A BoP will be created for the NuScale 720 reactor system using Python. We will use modules to mimic specific elements such as: the cores, condensers, steam generators, and turbines. A single point kinetics method will be used for modeling the core. A two temperature approach will be used to model the heat transfer meaning we only consider the inlet and outlet temperature of the module. We will be developing the model in Python with the use of the network modeling and HPC simulation library CORTIX. CORTIX will be used in conjunction with the Python modules to allow for dynamic modeling of the plant during start up and shut down of the reactors."
   ]
  },
  {
   "cell_type": "markdown",
   "metadata": {},
   "source": [
    "- Our goal for the project is to create a Balance of Plant dynamic system for the NuScale720 12 modular reactor plant. The following accident scenarios will be modeled: melting scenarios, primary loop breaking, and temperature rates during loss of cooling (LOCA) scenarios."
   ]
  },
  {
   "cell_type": "markdown",
   "metadata": {},
   "source": [
    "## [Approach](#toc)<a id=\"app\"></a>"
   ]
  },
  {
   "cell_type": "markdown",
   "metadata": {},
   "source": [
    "- Figure 3 shows how each of the components of our model will feed into each other. The first step to building our model is to outline the inputs, outputs, and equations that govern each individual module in our simulation. Starting at our reactor, information about the tank (such as the level and temperature) go into our reactor module along with instructions from the controller, and feedback from the pressurizer. The reactor then outputs information about the primary loop flow to the steam generator which converts that input information into a steam output. This output steam information is then fed into the turbine system which calculates High, Intermediate, and Low condensate pressures as well as sending excess steam to a condenser that has feedback from a cooling tower. These different condensates from the turbine and the condenser feed into each other until they get to a high pressure feedwater heater tank that outputs information back into the starting reactor."
   ]
  },
  {
   "cell_type": "markdown",
   "metadata": {},
   "source": [
    "- A module for the integral plant components including the core, turbine, pressurizer, steam generator, condenser, and feed water system will be modeled using Python. Most information will be obtained from Nuclear Systems Volume 1 and Professor de Almeida’s previous work on making BoP systems for nuclear reactors. "
   ]
  },
  {
   "cell_type": "markdown",
   "metadata": {},
   "source": [
    "|     **Module**        |      **Inputs**      |      **Outputs**       |     **Legend**     |\n",
    "|:----------------------|:---------------------|:-----------------------|:-------------------|\n",
    "| Core (CR)             |-F,T,P from SG        |-F,T,P, to SG           |-F: Flowrate        |\n",
    "|                       |-F,T,P from PR        |-F,T,P, to PR           |-T: Temperature     |\n",
    "|                       |-H from OWP           |-Q to OWP               |-P: Pressure        |\n",
    "|Pressurizer (PR)       |-F,T,P from CR        |-F,T,P to CR            |-Q: Heat rate       |\n",
    "|                       |                      |                        |-X: Steam quality   |\n",
    "|                       |                      |                        |-H: Height          |\n",
    "|                       |                      |                        |-E: Electrical power|\n",
    "|Steam Generator (SG)   |-F,T,P from CR and FWS|-F,T,P to CR            |                    |\n",
    "|                       |                      |-F,T,P,X to TU          |                    |\n",
    "|Turbine (TU)           |-F,T,P,X from TU      |-E output as electricity|                    |\n",
    "|                       |                      |-F,T,P,X to CD and FWS  |                    |\n",
    "|Condenser (CD)         |-F,T,P,X from TU      |-F,T,P to FWS           |                    |\n",
    "|                       |-Q from cooling tower |                        |                    |\n",
    "|Feed Water System (FWS)|-F,T,P from CD and TU |-F,T,P to CR            |                    |\n",
    "|Open Water Pool (OWP)  |-Q from CR            |-H to all CRs           |                    |"
   ]
  },
  {
   "cell_type": "markdown",
   "metadata": {},
   "source": [
    "- Because we are only a two man group. We will be sharing most of the work and the work will be recorded through weekly progress reports. A schedule of our planned work is shown in table 2."
   ]
  },
  {
   "cell_type": "code",
   "execution_count": 4,
   "metadata": {},
   "outputs": [
    {
     "name": "stderr",
     "output_type": "stream",
     "text": [
      "[1075] 2020-11-22 23:21:33,160 - cortix - INFO - Created Cortix object \n",
      "_____________________________________________________________________________\n",
      "                             L A U N C H I N G                               \n",
      "_____________________________________________________________________________\n",
      "      ...                                        s       .     (TAAG Fraktur)\n",
      "   xH88\"`~ .x8X                                 :8      @88>\n",
      " :8888   .f\"8888Hf        u.      .u    .      .88      %8P      uL   ..\n",
      ":8888>  X8L  ^\"\"`   ...ue888b   .d88B :@8c    :888ooo    .     .@88b  @88R\n",
      "X8888  X888h        888R Y888r =\"8888f8888r -*8888888  .@88u  \"\"Y888k/\"*P\n",
      "88888  !88888.      888R I888>   4888>\"88\"    8888    888E`    Y888L\n",
      "88888   %88888      888R I888>   4888> \"      8888      888E      8888\n",
      "88888 `> `8888>     888R I888>   4888>        8888      888E      `888N\n",
      "`8888L %  ?888   ! u8888cJ888   .d888L .+    .8888Lu=   888E   .u./\"888&\n",
      " `8888  `-*\"\"   /   \"*888*P\"    ^\"8888*\"     ^%888*     888&  d888\" Y888*\"\n",
      "   \"888.      :\"      \"Y\"          \"Y\"         \"Y\"      R888\" ` \"Y   Y\"\n",
      "     `\"\"***~\"`                                           \"\"\n",
      "                             https://cortix.org                              \n",
      "_____________________________________________________________________________\n"
     ]
    }
   ],
   "source": [
    "try:\n",
    "    import cortix, iapws\n",
    "except ImportError:\n",
    "    print('Installing missing packages...')\n",
    "    print('')\n",
    "    !pip install cortix iapws\n",
    "    import cortix, iapws\n",
    "\n",
    "from cortix import Cortix\n",
    "from cortix import Network\n",
    "\n",
    "from nuscale_smr.reactor import SMPWR\n",
    "from nuscale_smr.steamer import Steamer\n",
    "from nuscale_smr.condenser import Condenser\n",
    "from nuscale_smr.turbine import Turbine\n",
    "\n",
    "import unit\n",
    "\n",
    "end_time = 1 * unit.hour \n",
    "time_step = 30.0 * unit.second\n",
    "show_time = (True, 5*unit.minute)\n",
    "\n",
    "plant = Cortix(use_mpi=False, splash=True) # System top level\n",
    "plant_net = plant.network = Network() # Network"
   ]
  },
  {
   "cell_type": "code",
   "execution_count": 5,
   "metadata": {},
   "outputs": [],
   "source": [
    "'''Reactor'''\n",
    "\n",
    "reactor = SMPWR()  # Create reactor module\n",
    "\n",
    "reactor.name = 'SMPWR'\n",
    "reactor.save = True\n",
    "reactor.time_step = time_step\n",
    "reactor.end_time = end_time\n",
    "reactor.show_time = show_time\n",
    "\n",
    "plant_net.module(reactor)  # Add reactor module to network"
   ]
  },
  {
   "cell_type": "markdown",
   "metadata": {},
   "source": [
    "The steam generator is modeled as a countercurrent heat exchanger using the number of of transfer units (NTU) where $\\mathrm{NTU} \\equiv \\frac{\\mathrm{UA}}{\\mathrm{C}_{\\mathrm{min}}}$. \n",
    "\n",
    "The heat transfer rate is given by $\\mathrm{q}=\\varepsilon \\mathrm{C}_{\\min }\\left(\\mathrm{T}_{\\mathrm{h}, \\mathrm{i}}-\\mathrm{T}_{\\mathrm{c}, \\mathrm{i}}\\right)$ where $C_{\\mathrm{r}}=\\frac{\\mathrm{C}_{\\mathrm{min}}}{\\mathrm{C}_{\\max }}$ and $C_{j}=\\dot{\\mathrm{m}}_{j} c_{p, j}$. \n",
    "\n",
    "The effectiveness, $\\varepsilon$ , for a countercurrent heat exchanger is given by $\\varepsilon=\\frac{1-\\exp \\left[-\\mathrm{NTU}\\left(1-C_{r}\\right)\\right]}{1-C_{r} \\exp \\left[-\\mathrm{NTU}\\left(1-C_{r}\\right)\\right]}$ and is valid for $\\left(C_{r}<1\\right)$. \n",
    "\n",
    "Given the inlet temperatures the primary outlet temperature can be solved for from $\\mathrm{T}_{\\mathrm{h}, \\mathrm{o}}=\\mathrm{T}_{\\mathrm{h}, \\mathrm{i}^{-}} \\frac{\\mathrm{q}}{\\mathrm{C}_{\\mathrm{hot}}}$ and the seconday outlet temperature from $\\mathrm{T}_{\\mathrm{c}, \\mathrm{o}}=\\mathrm{T}_{\\mathrm{c}, \\mathrm{i}}+\\frac{\\mathrm{q}}{\\mathrm{C}_{\\text {cold }}}$\n",
    "\n",
    "##### Calculated paramters/ constants: \n",
    "\n",
    "$\\mathrm{C}_{\\mathrm{hot}}=3729.7 \\mathrm{~kW} / \\mathrm{K}$\n",
    "\n",
    "$\\mathrm{C}_{\\mathrm{cold}}=1110.5 \\mathrm{~kW} / \\mathrm{K}$\n",
    "\n",
    "$c_{p, \\text { primary }}=5.6000 \\mathrm{~kJ} / \\mathrm{kg}-\\mathrm{K}$\n",
    "\n",
    "$c_{p, \\text { seconary }}=4.2980 \\mathrm{~kJ} / \\mathrm{kg}-\\mathrm{K}$\n",
    "\n",
    "Where all properties are assumed to be constant and $C_{\\text {cold }}$ is a ficticious value in order to account for phase change. The actual secondary side outlet tempeprature is calculated from $\\mathrm{T}_{\\mathrm{c}, \\mathrm{o}}=\\mathrm{T}_{\\mathrm{c}, \\mathrm{i}}+\\frac{\\mathrm{q}}{\\mathrm{C}_{\\text {cold }}}$ , $\\mathrm{q}_{\\text {secondary }}=\\mathrm{C}_{\\text {cold }}\\left(\\mathrm{T}_{\\mathrm{c}, \\mathrm{o}}-\\mathrm{T}_{\\mathrm{c}, \\mathrm{i}}\\right)$, and separating the secondary side coolant into liquid heating, vaporizing, and gas heating sections.\n",
    "\n",
    "$\\Delta \\mathrm{H}_{\\mathrm{vap}}=1765.4 \\mathrm{~kJ} / \\mathrm{kg} @ 513 \\mathrm{~K}$\n",
    "\n",
    "$\\mathrm{T}_{\\mathrm{sat}}=516 \\mathrm{~K}$\n",
    "\n",
    "The gas heat capacity is given by $\\int_{\\mathrm{Tsat}}^{\\mathrm{T}} \\frac{\\mathrm{c}_{\\mathrm{p}}}{\\mathrm{R}} \\mathrm{dT}=\\mathrm{A}\\left(\\mathrm{T}-\\mathrm{T}_{\\mathrm{sat}}\\right)-\\frac{\\mathrm{B}}{2}\\left(\\mathrm{~T}^{2}-\\mathrm{T}_{\\mathrm{sat}}^{2}\\right)$\n",
    "\n",
    "where, for water, A = 3.470 and B = 1.450*$10^{3}$"
   ]
  },
  {
   "cell_type": "code",
   "execution_count": 6,
   "metadata": {},
   "outputs": [],
   "source": [
    "'''Steamer'''\n",
    "\n",
    "steamer = Steamer()  # Create steamer module\n",
    "\n",
    "steamer.name = 'Steamer'\n",
    "steamer.save = True\n",
    "steamer.time_step = time_step\n",
    "steamer.end_time = end_time\n",
    "steamer.show_time = show_time\n",
    "\n",
    "plant_net.module(steamer)  # Add steamer module to network"
   ]
  },
  {
   "cell_type": "code",
   "execution_count": 12,
   "metadata": {},
   "outputs": [],
   "source": [
    "'''Turbine'''\n",
    "\n",
    "turbine = Turbine()  # Create turbine module\n",
    "\n",
    "turbine.name = 'Turbine'\n",
    "turbine.save = True\n",
    "turbine.time_step = time_step\n",
    "turbine.end_time = end_time\n",
    "turbine.show_time = show_time\n",
    "\n",
    "plant_net.module(turbine)  # Add turbine module to network"
   ]
  },
  {
   "cell_type": "code",
   "execution_count": 8,
   "metadata": {},
   "outputs": [],
   "source": [
    "'''Condenser'''\n",
    "\n",
    "condenser = Condenser()  # Create condenser module\n",
    "\n",
    "condenser.name = 'Condenser'\n",
    "condenser.save = True\n",
    "condenser.time_step = time_step\n",
    "condenser.end_time = end_time\n",
    "condenser.show_time = show_time\n",
    "\n",
    "#plant_net.module(condenser)  # Add condenser module to network"
   ]
  },
  {
   "cell_type": "code",
   "execution_count": 9,
   "metadata": {},
   "outputs": [],
   "source": [
    "#'''Feedwater Heating system'''\n",
    "\n",
    "#condenser = FWHS()  # Create condenser module\n",
    "\n",
    "#condenser.name = 'Condenser'\n",
    "#condenser.save = True\n",
    "#condenser.time_step = time_step\n",
    "#condenser.end_time = end_time\n",
    "#condenser.show_time = show_time\n",
    "\n",
    "#plant_net.module(condenser)  # Add condenser module to network"
   ]
  },
  {
   "cell_type": "code",
   "execution_count": 13,
   "metadata": {},
   "outputs": [
    {
     "data": {
      "image/svg+xml": [
       "<?xml version=\"1.0\" encoding=\"UTF-8\" standalone=\"no\"?>\n",
       "<!DOCTYPE svg PUBLIC \"-//W3C//DTD SVG 1.1//EN\"\n",
       " \"http://www.w3.org/Graphics/SVG/1.1/DTD/svg11.dtd\">\n",
       "<!-- Generated by graphviz version 2.42.3 (20191010.1750)\n",
       " -->\n",
       "<!-- Title: network&#45;1 Pages: 1 -->\n",
       "<svg width=\"109pt\" height=\"332pt\"\n",
       " viewBox=\"0.00 0.00 108.57 332.00\" xmlns=\"http://www.w3.org/2000/svg\" xmlns:xlink=\"http://www.w3.org/1999/xlink\">\n",
       "<g id=\"graph0\" class=\"graph\" transform=\"scale(1 1) rotate(0) translate(4 328)\">\n",
       "<title>network&#45;1</title>\n",
       "<polygon fill=\"white\" stroke=\"transparent\" points=\"-4,4 -4,-328 104.57,-328 104.57,4 -4,4\"/>\n",
       "<!-- 0 -->\n",
       "<g id=\"node1\" class=\"node\">\n",
       "<title>0</title>\n",
       "<polygon fill=\"lightgrey\" stroke=\"black\" points=\"100.35,-306 75.32,-324 25.25,-324 0.22,-306 25.25,-288 75.32,-288 100.35,-306\"/>\n",
       "<text text-anchor=\"middle\" x=\"50.28\" y=\"-302.3\" font-family=\"Times,serif\" font-size=\"14.00\">SMPWR</text>\n",
       "</g>\n",
       "<!-- 1 -->\n",
       "<g id=\"node2\" class=\"node\">\n",
       "<title>1</title>\n",
       "<polygon fill=\"lightgrey\" stroke=\"black\" points=\"96.84,-162 73.56,-180 27,-180 3.72,-162 27,-144 73.56,-144 96.84,-162\"/>\n",
       "<text text-anchor=\"middle\" x=\"50.28\" y=\"-158.3\" font-family=\"Times,serif\" font-size=\"14.00\">Steamer</text>\n",
       "</g>\n",
       "<!-- 0&#45;&gt;1 -->\n",
       "<g id=\"edge1\" class=\"edge\">\n",
       "<title>0&#45;&gt;1</title>\n",
       "<path fill=\"none\" stroke=\"black\" d=\"M50.28,-287.76C50.28,-263.2 50.28,-219.25 50.28,-190.35\"/>\n",
       "<polygon fill=\"black\" stroke=\"black\" points=\"53.78,-190.09 50.28,-180.09 46.78,-190.09 53.78,-190.09\"/>\n",
       "</g>\n",
       "<!-- 0&#45;&gt;1 -->\n",
       "<g id=\"edge3\" class=\"edge\">\n",
       "<title>0&#45;&gt;1</title>\n",
       "<path fill=\"none\" stroke=\"black\" d=\"M50.28,-287.76C50.28,-263.2 50.28,-219.25 50.28,-190.35\"/>\n",
       "<polygon fill=\"black\" stroke=\"black\" points=\"53.78,-190.09 50.28,-180.09 46.78,-190.09 53.78,-190.09\"/>\n",
       "</g>\n",
       "<!-- 0&#45;&gt;1 -->\n",
       "<g id=\"edge5\" class=\"edge\">\n",
       "<title>0&#45;&gt;1</title>\n",
       "<path fill=\"none\" stroke=\"black\" d=\"M50.28,-287.76C50.28,-263.2 50.28,-219.25 50.28,-190.35\"/>\n",
       "<polygon fill=\"black\" stroke=\"black\" points=\"53.78,-190.09 50.28,-180.09 46.78,-190.09 53.78,-190.09\"/>\n",
       "</g>\n",
       "<!-- 1&#45;&gt;0 -->\n",
       "<g id=\"edge2\" class=\"edge\">\n",
       "<title>1&#45;&gt;0</title>\n",
       "<path fill=\"none\" stroke=\"black\" d=\"M50.28,-180.24C50.28,-204.8 50.28,-248.75 50.28,-277.65\"/>\n",
       "<polygon fill=\"black\" stroke=\"black\" points=\"46.78,-277.91 50.28,-287.91 53.78,-277.91 46.78,-277.91\"/>\n",
       "</g>\n",
       "<!-- 1&#45;&gt;0 -->\n",
       "<g id=\"edge4\" class=\"edge\">\n",
       "<title>1&#45;&gt;0</title>\n",
       "<path fill=\"none\" stroke=\"black\" d=\"M50.28,-180.24C50.28,-204.8 50.28,-248.75 50.28,-277.65\"/>\n",
       "<polygon fill=\"black\" stroke=\"black\" points=\"46.78,-277.91 50.28,-287.91 53.78,-277.91 46.78,-277.91\"/>\n",
       "</g>\n",
       "<!-- 1&#45;&gt;0 -->\n",
       "<g id=\"edge6\" class=\"edge\">\n",
       "<title>1&#45;&gt;0</title>\n",
       "<path fill=\"none\" stroke=\"black\" d=\"M50.28,-180.24C50.28,-204.8 50.28,-248.75 50.28,-277.65\"/>\n",
       "<polygon fill=\"black\" stroke=\"black\" points=\"46.78,-277.91 50.28,-287.91 53.78,-277.91 46.78,-277.91\"/>\n",
       "</g>\n",
       "<!-- 2 -->\n",
       "<g id=\"node3\" class=\"node\">\n",
       "<title>2</title>\n",
       "<polygon fill=\"lightgrey\" stroke=\"black\" points=\"94.34,-18 72.31,-36 28.25,-36 6.22,-18 28.25,0 72.31,0 94.34,-18\"/>\n",
       "<text text-anchor=\"middle\" x=\"50.28\" y=\"-14.3\" font-family=\"Times,serif\" font-size=\"14.00\">Turbine</text>\n",
       "</g>\n",
       "<!-- 1&#45;&gt;2 -->\n",
       "<g id=\"edge7\" class=\"edge\">\n",
       "<title>1&#45;&gt;2</title>\n",
       "<path fill=\"none\" stroke=\"black\" d=\"M50.28,-143.76C50.28,-119.2 50.28,-75.25 50.28,-46.35\"/>\n",
       "<polygon fill=\"black\" stroke=\"black\" points=\"53.78,-46.09 50.28,-36.09 46.78,-46.09 53.78,-46.09\"/>\n",
       "</g>\n",
       "</g>\n",
       "</svg>\n"
      ],
      "text/plain": [
       "<graphviz.dot.Digraph at 0x7ffa086824d0>"
      ]
     },
     "execution_count": 13,
     "metadata": {},
     "output_type": "execute_result"
    }
   ],
   "source": [
    "'''Balance of Plant Network Connectivity'''\n",
    "\n",
    "plant_net.connect([reactor, 'coolant-outflow'], [steamer, 'primary-inflow'])\n",
    "plant_net.connect([steamer, 'primary-outflow'], [reactor, 'coolant-inflow'])\n",
    "plant_net.connect([steamer, 'secondary-outflow'], [turbine, 'inflow'])\n",
    "#plant_net.connect([turbine, 'outflow'], [condenser, 'condenser-inflow'])\n",
    "#plant_net.connect([condenser, 'condenser-outflow'], [steamer, 'secondary-inflow'])\n",
    "\n",
    "plant_net.draw()"
   ]
  },
  {
   "cell_type": "code",
   "execution_count": 14,
   "metadata": {
    "scrolled": false
   },
   "outputs": [
    {
     "name": "stderr",
     "output_type": "stream",
     "text": [
      "[1075] 2020-11-22 23:22:04,826 - cortix - INFO - Launching Module <nuscale_smr.reactor.SMPWR object at 0x7ffa08704550>\n",
      "[1075] 2020-11-22 23:22:04,830 - cortix - INFO - Launching Module <nuscale_smr.steamer.Steamer object at 0x7ffa08622ad0>\n",
      "[1075] 2020-11-22 23:22:04,831 - cortix - INFO - SMPWR::run():time[m]=0.0\n",
      "[1075] 2020-11-22 23:22:04,834 - cortix - INFO - Launching Module <nuscale_smr.turbine.Turbine object at 0x7ffa08605410>\n",
      "[1075] 2020-11-22 23:22:04,835 - cortix - INFO - Steamer::run():time[m]=0.0\n",
      "[1075] 2020-11-22 23:22:04,840 - cortix - INFO - Turbine::run():time[m]=0.0\n",
      "[1075] 2020-11-22 23:22:05,027 - cortix - INFO - Steamer::run():time[m]=5.0\n",
      "[1075] 2020-11-22 23:22:05,031 - cortix - INFO - Turbine::run():time[m]=5.0\n",
      "[1075] 2020-11-22 23:22:05,038 - cortix - INFO - SMPWR::run():time[m]=5.0\n",
      "[1075] 2020-11-22 23:22:05,215 - cortix - INFO - Steamer::run():time[m]=10.0\n",
      "[1075] 2020-11-22 23:22:05,219 - cortix - INFO - Turbine::run():time[m]=10.0\n",
      "[1075] 2020-11-22 23:22:05,226 - cortix - INFO - SMPWR::run():time[m]=10.0\n",
      "[1075] 2020-11-22 23:22:05,401 - cortix - INFO - Turbine::run():time[m]=15.0\n",
      "[1075] 2020-11-22 23:22:05,401 - cortix - INFO - Steamer::run():time[m]=15.0\n",
      "[1075] 2020-11-22 23:22:05,407 - cortix - INFO - SMPWR::run():time[m]=15.0\n",
      "[1075] 2020-11-22 23:22:05,549 - cortix - INFO - Turbine::run():time[m]=20.0\n",
      "[1075] 2020-11-22 23:22:05,549 - cortix - INFO - Steamer::run():time[m]=20.0\n",
      "[1075] 2020-11-22 23:22:05,556 - cortix - INFO - SMPWR::run():time[m]=20.0\n",
      "[1075] 2020-11-22 23:22:05,726 - cortix - INFO - Steamer::run():time[m]=25.0\n",
      "[1075] 2020-11-22 23:22:05,729 - cortix - INFO - Turbine::run():time[m]=25.0\n",
      "[1075] 2020-11-22 23:22:05,736 - cortix - INFO - SMPWR::run():time[m]=25.0\n",
      "[1075] 2020-11-22 23:22:05,885 - cortix - INFO - Turbine::run():time[m]=30.0\n",
      "[1075] 2020-11-22 23:22:05,885 - cortix - INFO - Steamer::run():time[m]=30.0\n",
      "[1075] 2020-11-22 23:22:05,891 - cortix - INFO - SMPWR::run():time[m]=30.0\n",
      "[1075] 2020-11-22 23:22:06,068 - cortix - INFO - Steamer::run():time[m]=35.0\n",
      "[1075] 2020-11-22 23:22:06,068 - cortix - INFO - Turbine::run():time[m]=35.0\n",
      "[1075] 2020-11-22 23:22:06,075 - cortix - INFO - SMPWR::run():time[m]=35.0\n",
      "[1075] 2020-11-22 23:22:06,294 - cortix - INFO - Steamer::run():time[m]=40.0\n",
      "[1075] 2020-11-22 23:22:06,300 - cortix - INFO - Turbine::run():time[m]=40.0\n",
      "[1075] 2020-11-22 23:22:06,302 - cortix - INFO - SMPWR::run():time[m]=40.0\n",
      "[1075] 2020-11-22 23:22:06,448 - cortix - INFO - Turbine::run():time[m]=45.0\n",
      "[1075] 2020-11-22 23:22:06,448 - cortix - INFO - Steamer::run():time[m]=45.0\n",
      "[1075] 2020-11-22 23:22:06,454 - cortix - INFO - SMPWR::run():time[m]=45.0\n",
      "[1075] 2020-11-22 23:22:06,675 - cortix - INFO - Steamer::run():time[m]=50.0\n",
      "[1075] 2020-11-22 23:22:06,679 - cortix - INFO - Turbine::run():time[m]=50.0\n",
      "[1075] 2020-11-22 23:22:06,685 - cortix - INFO - SMPWR::run():time[m]=50.0\n",
      "[1075] 2020-11-22 23:22:06,838 - cortix - INFO - Turbine::run():time[m]=55.0\n",
      "[1075] 2020-11-22 23:22:06,838 - cortix - INFO - Steamer::run():time[m]=55.0\n",
      "[1075] 2020-11-22 23:22:06,844 - cortix - INFO - SMPWR::run():time[m]=55.0\n",
      "[1075] 2020-11-22 23:22:07,020 - cortix - INFO - Steamer::run():time[m]=60.0\n",
      "[1075] 2020-11-22 23:22:07,024 - cortix - INFO - Turbine::run():time[m]=60.0\n",
      "[1075] 2020-11-22 23:22:07,030 - cortix - INFO - SMPWR::run():time[m]=60.0\n",
      "[1075] 2020-11-22 23:22:07,064 - cortix - INFO - run()::Elapsed wall clock time [s]: 33.9\n"
     ]
    }
   ],
   "source": [
    "'''Run'''\n",
    "\n",
    "plant.run()  # Run network dynamics simulation"
   ]
  },
  {
   "cell_type": "code",
   "execution_count": 15,
   "metadata": {
    "scrolled": false
   },
   "outputs": [
    {
     "name": "stderr",
     "output_type": "stream",
     "text": [
      "[1075] 2020-11-22 23:22:09,372 - cortix - INFO - Closed Cortix object.\n",
      "_____________________________________________________________________________\n",
      "                           T E R M I N A T I N G                             \n",
      "_____________________________________________________________________________\n",
      "      ...                                        s       .     (TAAG Fraktur)\n",
      "   xH88\"`~ .x8X                                 :8      @88>\n",
      " :8888   .f\"8888Hf        u.      .u    .      .88      %8P      uL   ..\n",
      ":8888>  X8L  ^\"\"`   ...ue888b   .d88B :@8c    :888ooo    .     .@88b  @88R\n",
      "X8888  X888h        888R Y888r =\"8888f8888r -*8888888  .@88u  \"\"Y888k/\"*P\n",
      "88888  !88888.      888R I888>   4888>\"88\"    8888    888E`    Y888L\n",
      "88888   %88888      888R I888>   4888> \"      8888      888E      8888\n",
      "88888 `> `8888>     888R I888>   4888>        8888      888E      `888N\n",
      "`8888L %  ?888   ! u8888cJ888   .d888L .+    .8888Lu=   888E   .u./\"888&\n",
      " `8888  `-*\"\"   /   \"*888*P\"    ^\"8888*\"     ^%888*     888&  d888\" Y888*\"\n",
      "   \"888.      :\"      \"Y\"          \"Y\"         \"Y\"      R888\" ` \"Y   Y\"\n",
      "     `\"\"***~\"`                                           \"\"\n",
      "                             https://cortix.org                              \n",
      "_____________________________________________________________________________\n",
      "[1075] 2020-11-22 23:22:09,374 - cortix - INFO - close()::Elapsed wall clock time [s]: 36.21\n"
     ]
    }
   ],
   "source": [
    "'''Close'''\n",
    "\n",
    "plant.close()  # Properly shutdow plant"
   ]
  },
  {
   "cell_type": "code",
   "execution_count": 16,
   "metadata": {},
   "outputs": [],
   "source": [
    "reactor = plant_net.modules[0]\n",
    "steamer = plant_net.modules[1]"
   ]
  },
  {
   "cell_type": "code",
   "execution_count": 17,
   "metadata": {},
   "outputs": [
    {
     "data": {
      "image/png": "[encoded data removed]",
      "text/plain": [
       "<Figure size 432x288 with 1 Axes>"
      ]
     },
     "metadata": {
      "needs_background": "light"
     },
     "output_type": "display_data"
    }
   ],
   "source": [
    "(quant, time_unit) = reactor.neutron_phase.get_quantity_history('neutron-dens')\n",
    "quant.plot(x_scaling=1/unit.minute, y_scaling=1/max(quant.value), x_label='Time [m]', y_label=quant.formal_name+' ['+quant.unit+']')"
   ]
  },
  {
   "cell_type": "code",
   "execution_count": 18,
   "metadata": {},
   "outputs": [
    {
     "data": {
      "image/png": "[encoded data removed]",
      "text/plain": [
       "<Figure size 432x288 with 1 Axes>"
      ]
     },
     "metadata": {
      "needs_background": "light"
     },
     "output_type": "display_data"
    }
   ],
   "source": [
    "(quant, time_unit) = reactor.neutron_phase.get_quantity_history('delayed-neutrons-cc')\n",
    "quant.plot(x_scaling=1/unit.minute, x_label='Time [m]', y_label=quant.formal_name+' ['+quant.unit+']')"
   ]
  },
  {
   "cell_type": "code",
   "execution_count": 19,
   "metadata": {},
   "outputs": [
    {
     "data": {
      "image/png": "[encoded data removed]",
      "text/plain": [
       "<Figure size 432x288 with 1 Axes>"
      ]
     },
     "metadata": {
      "needs_background": "light"
     },
     "output_type": "display_data"
    }
   ],
   "source": [
    "(quant, time_unit) = reactor.reactor_phase.get_quantity_history('fuel-temp')\n",
    "quant.plot(x_scaling=1/unit.minute, x_label='Time [m]', y_label=quant.formal_name+' ['+quant.unit+']')"
   ]
  },
  {
   "cell_type": "code",
   "execution_count": 20,
   "metadata": {},
   "outputs": [
    {
     "data": {
      "image/png": "[encoded data removed]",
      "text/plain": [
       "<Figure size 432x288 with 1 Axes>"
      ]
     },
     "metadata": {
      "needs_background": "light"
     },
     "output_type": "display_data"
    }
   ],
   "source": [
    "(quant, time_unit) = reactor.coolant_outflow_phase.get_quantity_history('temp')\n",
    "quant.plot(x_scaling=1/unit.minute, x_label='Time [m]', y_label=quant.formal_name+' ['+quant.unit+']')"
   ]
  },
  {
   "cell_type": "code",
   "execution_count": 21,
   "metadata": {},
   "outputs": [
    {
     "data": {
      "image/png": "[encoded data removed]",
      "text/plain": [
       "<Figure size 432x288 with 1 Axes>"
      ]
     },
     "metadata": {
      "needs_background": "light"
     },
     "output_type": "display_data"
    }
   ],
   "source": [
    "(quant, time_unit) = steamer.primary_outflow_phase.get_quantity_history('temp')\n",
    "quant.plot(x_scaling=1/unit.minute, x_label='Time [m]', y_label=quant.formal_name+' ['+quant.unit+']')"
   ]
  },
  {
   "cell_type": "code",
   "execution_count": 22,
   "metadata": {},
   "outputs": [
    {
     "data": {
      "image/png": "[encoded data removed]",
      "text/plain": [
       "<Figure size 432x288 with 1 Axes>"
      ]
     },
     "metadata": {
      "needs_background": "light"
     },
     "output_type": "display_data"
    }
   ],
   "source": [
    "(quant, time_unit) = steamer.secondary_outflow_phase.get_quantity_history('temp')\n",
    "quant.plot(x_scaling=1/unit.minute, x_label='Time [m]', y_label=quant.formal_name+' ['+quant.unit+']')"
   ]
  },
  {
   "cell_type": "markdown",
   "metadata": {},
   "source": [
    "## [References](#toc)<a id=\"refs\"></a>\n",
    "\n",
    "- [1] J. Kennedy, N. Kemper, V. F. de Almeida, [Engy-4390: Small Modular Pressurized Water Reactor](https://github.com/dpploy/engy-4390/tree/main/projects/sm-pwr).\n",
    "- [2] Dale Atkinson, “NuScale update for NASEO” Nuscale power, May 2019. Retrieved at:https://naseo.org/Data/Sites/1/atkinson_naseo-may-22,-2019.pdf \n",
    "- [3] V. F. de Almeida, [Cortix](https://cortix.org), *Network Dynamics Simulation*, University of Massachusetts Lowell, Dept. of Chemical Engineering (Nuclear program).\n",
    "- [4] V. F. de Almeida, [*Engy-4350: Nuclear Reactor Engineering*](https://github.com/dpploy/engy-4350), University of Massachusetts Lowell, Dept. of Chemical Engineering (Nuclear Program)."
   ]
  },
  {
   "cell_type": "code",
   "execution_count": null,
   "metadata": {},
   "outputs": [],
   "source": []
  }
 ],
 "metadata": {
  "kernelspec": {
   "display_name": "Python 3",
   "language": "python",
   "name": "python3"
  },
  "language_info": {
   "codemirror_mode": {
    "name": "ipython",
    "version": 3
   },
   "file_extension": ".py",
   "mimetype": "text/x-python",
   "name": "python",
   "nbconvert_exporter": "python",
   "pygments_lexer": "ipython3",
   "version": "3.7.9"
  },
  "latex_envs": {
   "LaTeX_envs_menu_present": true,
   "autoclose": false,
   "autocomplete": true,
   "bibliofile": "biblio.bib",
   "cite_by": "apalike",
   "current_citInitial": 1,
   "eqLabelWithNumbers": true,
   "eqNumInitial": 1,
   "hotkeys": {
    "equation": "Ctrl-E",
    "itemize": "Ctrl-I"
   },
   "labels_anchors": false,
   "latex_user_defs": false,
   "report_style_numbering": false,
   "user_envs_cfg": false
  }
 },
 "nbformat": 4,
 "nbformat_minor": 2
}
