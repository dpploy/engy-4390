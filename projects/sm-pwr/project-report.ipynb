{
 "cells": [
  {
   "cell_type": "markdown",
   "metadata": {},
   "source": [
    "**Engy-4390** Nuclear Systems Design and Analysis, UMass Lowell, Chem. Eng. Nuclear Program Fall 2020\n",
    "\n",
    "# NuScale 720 SMR BoP Simulation Final Report\n",
    "$  \n",
    "  \\newcommand{\\Amtrx}{\\boldsymbol{\\mathsf{A}}}\n",
    "  \\newcommand{\\Bmtrx}{\\boldsymbol{\\mathsf{B}}}\n",
    "  \\newcommand{\\Mmtrx}{\\boldsymbol{\\mathsf{M}}}\n",
    "  \\newcommand{\\Imtrx}{\\boldsymbol{\\mathsf{I}}}\n",
    "  \\newcommand{\\Pmtrx}{\\boldsymbol{\\mathsf{P}}}\n",
    "  \\newcommand{\\Lmtrx}{\\boldsymbol{\\mathsf{L}}}\n",
    "  \\newcommand{\\Umtrx}{\\boldsymbol{\\mathsf{U}}}\n",
    "  \\newcommand{\\Smtrx}{\\boldsymbol{\\mathsf{S}}}\n",
    "  \\newcommand{\\xvec}{\\boldsymbol{\\mathsf{x}}}\n",
    "  \\newcommand{\\uvar}{\\boldsymbol{u}}\n",
    "  \\newcommand{\\fvar}{\\boldsymbol{f}}\n",
    "  \\newcommand{\\avec}{\\boldsymbol{\\mathsf{a}}}\n",
    "  \\newcommand{\\bvec}{\\boldsymbol{\\mathsf{b}}}\n",
    "  \\newcommand{\\cvec}{\\boldsymbol{\\mathsf{c}}}\n",
    "  \\newcommand{\\rvec}{\\boldsymbol{\\mathsf{r}}}\n",
    "  \\newcommand{\\mvec}{\\boldsymbol{\\mathsf{m}}}\n",
    "  \\newcommand{\\gvec}{\\boldsymbol{\\mathsf{g}}}\n",
    "  \\newcommand{\\zerovec}{\\boldsymbol{\\mathsf{0}}}\n",
    "  \\newcommand{\\norm}[1]{\\bigl\\lVert{#1}\\bigr\\rVert}\n",
    "  \\newcommand{\\transpose}[1]{{#1}^\\top}\n",
    "  \\DeclareMathOperator{\\rank}{rank}\n",
    "  \\newcommand{\\Power}{\\mathcal{P}}\n",
    "$"
   ]
  },
  {
   "cell_type": "markdown",
   "metadata": {},
   "source": [
    "**Students:** Jack and Nik <br>\n",
    "**Course:** Engy-4390 Nuclear Systems Design and Analysis  <br>\n",
    "**Mentor:** Prof. Valmor F. de Almeida\n",
    "\n",
    "UMass Lowell, Dept. of Chemical Engineering, Nuclear Energy Program \n",
    "<br>\n",
    "**11Dec2020**"
   ]
  },
  {
   "cell_type": "markdown",
   "metadata": {},
   "source": [
    "---\n",
    "## Table of Contents<a id=\"toc\"></a>\n",
    "* [Introduction](#intro)\n",
    "* [Objectives](#obj)\n",
    "* [Input Data](#data)\n",
    "* [Steady state](#ss)\n",
    "\n",
    "* [Function library](#flib)\n",
    " + [Reactor](#reactor)\n",
    "   - [One-Group Energy Neutron Balance](#nbal)\n",
    "\n",
    " + [Steam Generator](#steamgen)\n",
    " + [Turbine](#turbine)\n",
    " + [Coupling](#coupling)\n",
    "    - [Vector ODE System](#vodes)\n",
    "* [Startup: Reactivity Step with Negative Feedback Results](#res1)\n",
    "* [References](#refs)\n",
    "---"
   ]
  },
  {
   "cell_type": "markdown",
   "metadata": {},
   "source": [
    "## [Introduction](#toc)<a id=\"intro\"></a>\n",
    "\n",
    "Introduction?\n"
   ]
  },
  {
   "cell_type": "markdown",
   "metadata": {},
   "source": [
    "## [Objectives](#toc)<a id=\"obj\"></a>\n",
    "\n",
    "Objectives?"
   ]
  },
  {
   "cell_type": "markdown",
   "metadata": {},
   "source": [
    "## [Input Data](#toc)<a id=\"data\"></a>\n",
    "\n",
    "Data pertaining to one-group energy neutron balance. \n",
    "\n",
    "Name                        | Parameter     | Value                | Unit             |\n",
    "----------------------------|---------------|----------------------|------------------| \n",
    "neutron generation time                           | $\\ell$             | $1\\times 10^{-4}$    |  s | \n",
    "delayed neutron fraction                          | $\\beta$            | $6.5\\times 10^{-3}$  |  - |\n",
    "neutron diffusion coeff.                          | $D$                | $0.84$              | cm |\n",
    "core radius                                       | $R$                | $1.8\\times 10^{2}$  | cm  |\n",
    "core height                                       | $H$                | $2.8\\times 10^{2}$  | cm  |\n",
    "infinite medium neutron reproduction factor       | $k_\\infty$ | 1.118 | - |\n",
    "graphite effective macroscopic absorption cross section ref. | $\\overline{\\Sigma}_\\text{a}^\\text{(o)} $ | $2.74\\times 10^{-4}$ |  cm$^{-1}$ |\n",
    "other quantities; possibly microscopic cross sections | . | . |\n",
    ". | . | . |\n",
    "\n",
    "For thermal fission of $^{235}$U the following six-group delayed neutron precursors data is typically used (*Physics of Nuclear Kinetics*, G. R. Keepin, 1965, Addison-Wesley Pub. Co.):\n",
    "\n",
    "\n",
    "Delayed neutron emitter group No. | Decay cte ($\\lambda_i$,1/sec) | Relative yield ($\\beta_i/\\beta$) |\n",
    "----------------------------------|-------------------------------|----------------------------------| \n",
    "1                                 | 0.0124                        | 0.033                            |\n",
    "2                                 | 0.0305                        | 0.219                            | \n",
    "3                                 | 0.111                         | 0.196                            |  \n",
    "4                                 | 0.301                         | 0.395                            | \n",
    "5                                 | 1.14                          | 0.115                            |\n",
    "6                                 | 3.01                          | 0.042                            |"
   ]
  },
  {
   "cell_type": "markdown",
   "metadata": {},
   "source": [
    "Data pertaining to two-temperature heat balances.\n",
    "\n",
    "Name                        | Parameter     | Value                | Unit             |\n",
    "----------------------------|---------------|----------------------|------------------| \n",
    "fission energy per fission                        | $G_\\text{f}$  | 180               | MeV/fission |\n",
    "$^{235}$U fuel enrichment                         | $\\epsilon$ | 3 | wt% |\n",
    "UO$_2$ fuel material mass density                 | $\\rho_\\text{fm}$ | 10.5 | g/cc |\n",
    "moderator-fuel ratio (atomic number concentration) | $N^{M}/N^{U}$ | 387 |\n",
    "$^{235}$U thermal microscopic fission cross section | $\\sigma_{\\text{f}_\\text{o}}$ | 586.2 | barn |\n",
    "thermal neutron temperature                       | $T^{(\\text{o})}$ | 20 | C |\n",
    "thermal neutron velocity                          | $v_\\text{(o)}$     | 2200 | m/s |\n",
    "heat transport coeff. | . | . | . |\n",
    "fuel/moderator heat capacity | . | . | . |\n",
    "coolant heat capacity | . | . | . |\n",
    "fuel/moderator mass density | . | . | . |\n",
    "coolant mass density | . | . | . |\n",
    "moderator/fuel volume | . | . | . |\n",
    "coolant volume | . | . | . |\n",
    "coolant flow rate | . | . | . |\n",
    "\n",
    "The residence time of the coolant in the core\n",
    "\n",
    "\\begin{equation*}\n",
    "\\tau = V_c / q_c\n",
    "\\end{equation*}\n"
   ]
  },
  {
   "cell_type": "code",
<<<<<<< HEAD
   "execution_count": 129,
   "metadata": {},
   "outputs": [],
=======
   "execution_count": 1,
   "metadata": {},
   "outputs": [
    {
     "name": "stdout",
     "output_type": "stream",
     "text": [
      "tau =  2.1604253397201156\n"
     ]
    }
   ],
>>>>>>> Jack
   "source": [
    "##### '''Parameters'''\n",
    "\n",
    "import scipy.constants as unit # for unit conversion\n",
    "unit.second = 1.0\n",
    "unit.pascal = 1.0\n",
    "unit.meter = 1.0\n",
    "\n",
    "import math\n",
    "\n",
    "params = dict()\n",
    "\n",
    "#Data pertaining to one-group energy neutron balance\n",
    "params['gen_time']     = 1.0e-4  # s\n",
    "params['beta']         = 6.5e-3  # \n",
    "params['diff_coeff']   = 0.84 # cm\n",
    "#params['core radius']  = 1.8e+2 # cm\n",
    "#arams['core_height']  = 2.8e+2 # cm\n",
    "params['k_infty']      = 1.49826\n",
    "params['buckling'] = 1.538e-4\n",
    "#params['Sigma_a']      = 2.74e-4 # 1/cm\n",
    "\n",
<<<<<<< HEAD
    "params['alpha_n'] = -1e-5 # control rod reactivity worth\n",
    "params['alpha_tn_fake'] = -1e-6 # temperature reactivity feedback\n",
=======
    "params['alpha_n'] = -3e-6 # control rod reactivity worth\n",
    "#params['alpha_tn_fake'] = -1e-6 # temperature reactivity feedback\n",
>>>>>>> Jack
    "\n",
    "params['n_dens_ss_operation'] = 5e14/2200 #  #neutrons/m^2\n",
    "\n",
    "#Delayed neutron emission\n",
    "params['species_decay']     = [0.0124, 0.0305, 0.111, 0.301, 1.14, 3.01] # 1/sec\n",
    "params['species_rel_yield'] = [0.033, 0.219, 0.196, 0.395, 0.115, 0.042] \n",
    "\n",
    "#Data pertaining to two-temperature heat balances\n",
    "params['fis_energy']           = 180 * 1.602e-13 # J/fission \n",
    "params['enrich']               = 5/100.\n",
    "params['fuel_mat_mass_dens']   = 10.8 # g/cc\n",
    "#params['moderator_fuel_ratio'] = 387 # atomic number concentration ratio\n",
    "params['sigma_f_o']            = 586.2 * 100 * 1e-30 # m2\n",
<<<<<<< HEAD
    "params['temp_o']               = 20 + 273.15 # K\n",
    "params['temp_c_ss_operation']  = 321 + 273.15# K desired ss operation temp of coolant\n",
=======
    "params['temp_o']               =  20 + 273.15 # K\n",
    "params['temp_f_0'] = 20 + 273.15 \n",
    "params['temp_c_ss_operation']  = 265 + 273.15# K desired ss operation temp of coolant\n",
>>>>>>> Jack
    "params['thermal_neutron_velo'] = 2200 # m/s\n",
    "\n",
    "params['fis_nuclide_num_dens_fake'] = 9.84e26 # (fissile nuclei)/m3\n",
    "params['sg_efficiency'] =  0.79194\n",
    "params['mdot_secondary'] = 67.06867 # kg/s\n",
    "params['condenser_pressure'] =  0.008066866 #MPa\n",
    "params['coolant_flowrate'] = 666 #kg/s\n",
    "params['temp_inlet_ss'] = 265+273.15\n",
    "params['q_c'] = .89755 # volumetric flow rate\n",
    "\n",
    "params['fuel_dens']   = 10800 # kg/m3\n",
    "params['cp_fuel']     = 300 # J/(kg K)\n",
    "params['fuel_volume'] = .8565 # m3\n",
    "params['coolant_vol_flow'] = 0.995174404072919 # m3/s\n",
    "params['coolant_dens']   = 669.2294308156266 #  kg/m3\n",
    "params['cp_coolant']     =  1000*5.382268683703659# J/(mol K) - > J/(kg K)\n",
    "params['coolant_volume'] = 2.15 # m3\n",
    "\n",
<<<<<<< HEAD
    "params['coolant_dens']   = 742.02 #  kg/m3\n",
    "params['cp_coolant']     =  4000# J/(mol K) - > J/(kg K)\n",
    "params['coolant_volume'] = 4.3 - 2.15 # m3\n",
    "\n",
    "params['ht_coeff'] = 357142 # W/K\n",
    "params['tau_hx'] =  5*unit.minute \n",
    "params['m2'] = 28.44"
=======
    "params['ht_coeff'] = 466459.62 # W/K\n",
    "params['tau_hx'] =  5*unit.minute \n",
    "params['m2'] = 28.44\n",
    "\n",
    "params['Turbine_Efficiency'] = 0.778443953538741\n",
    "print('tau = ',2.15/0.995174404072919)"
>>>>>>> Jack
   ]
  },
  {
   "cell_type": "markdown",
   "metadata": {},
   "source": [
    "## [Steady State](#toc)<a id=\"ss\"></a>\n",
    "\n",
    "Neutron density and delayed neutron precursor concentrations are related as follows:\n",
    "\n",
    "\\begin{align*}\n",
    "n_\\text{ss}  &= -\\frac{q_\\text{ss}\\,\\ell }{\\rho_\\text{ss} }\n",
    "\\\\\n",
    "c_{i_\\text{ss}}  &= \\frac{\\beta_i}{\\lambda_i\\,\\ell}\\, n_\\text{ss}   \\ \\ \\ \\ \\forall \\ \\ \\ \\ i=1,\\ldots,6 .\n",
    "\\end{align*}"
   ]
  },
  {
   "cell_type": "code",
   "execution_count": 2,
   "metadata": {
    "code_folding": [
     2
    ]
   },
   "outputs": [],
   "source": [
    "'''Setup function for delayed neutron species concentrations at steady state'''\n",
    "\n",
    "def setup_initial_conditions(params):\n",
    "    \n",
    "    # setup the steady state for the delayed-neutron precursors\n",
    "    \n",
    "    n_species = len(params['species_decay'])\n",
    "    \n",
    "    assert len(params['species_rel_yield']) == n_species\n",
    "    \n",
    "    import numpy as np\n",
    "    c_vec_0 = np.zeros(n_species,dtype=np.float64) # initialize conentration vector\n",
    "\n",
    "    species_decay = params['species_decay'] # retrieve list of decay constants\n",
    "    lambda_vec    = np.array(species_decay) # create a numpy vector\n",
    "\n",
    "    species_rel_yield = params['species_rel_yield']\n",
    "    beta_vec = np.array(species_rel_yield) * beta  # create the beta_i's vector\n",
    "\n",
    "    gen_time = params['gen_time'] # retrieve neutron generation time\n",
    "\n",
    "    n_ss = params['n_ss']\n",
    "    c_vec_ss = beta_vec/lambda_vec/gen_time * n_ss # compute the steady state precursors number density\n",
    "    \n",
    "    params['c_vec_ss'] = c_vec_ss\n",
    "    \n",
    "    # setup initial condition for variables\n",
    "    params['n_0']     = n_ss\n",
    "    params['c_vec_0'] = c_vec_ss\n",
    "    params['rho_0']   = params['reactivity']\n",
    "    \n",
<<<<<<< HEAD
    "    params['temp_f_0'] = params['temp_0']\n",
    "    params['temp_c_0'] = params['temp_0']\n",
    "    \n",
=======
    "    #params['temp_f_0'] = params['temp_0']\n",
    "    #params['temp_c_0'] = params['temp_0']\n",
    "    params['temp_c_0'] = 25 + 273.15\n",
>>>>>>> Jack
    "    return"
   ]
  },
  {
   "cell_type": "markdown",
   "metadata": {},
   "source": [
    "## [Function Library](#toc) <a id=\"flib\"></a>\n",
    "\n",
    "Functions used later in the notebook."
   ]
  },
  {
   "cell_type": "markdown",
   "metadata": {},
   "source": [
    "### [Reactor](#toc)<a id=\"reactor\"></a>"
   ]
  },
  {
   "cell_type": "markdown",
   "metadata": {},
   "source": [
    "#### [One-Group Energy  Neutron Balance](#toc)<a id=\"nbal\"></a>\n",
    "\n",
    "The space-invariant neutron balance for the point-reactor model is\n",
    "\n",
    "\\begin{equation*}\n",
    "\\frac{\\text{d}n}{\\text{d}t}  = \\frac{\\rho(t)-\\beta}{\\ell}\\, n + \\sum\\limits_{i=1}^{6} \\lambda_i\\,c_i  + q(t),\n",
    "\\end{equation*}\n",
    "\n",
    "where the first term on the right side of the equation represents the net production of neutrons not accounting for delayed neutrons, and the second term accounts for the source of delayed neutrons considering 6 groups of delayed neutron emitters resulting from the fission of $^{235}$U nuclei. Therefore a balance of neutron emitter species is also necessary\n",
    "\n",
    "\\begin{equation*}\n",
    "\\frac{\\text{d}c_i}{\\text{d}t}  = \\frac{\\beta_i}{\\ell}\\, n - \\lambda_i\\,c_i ,\n",
    "     \\ \\ \\ \\ \\ \\forall \\ \\ \\ \\ \\  i=1,\\ldots,6.\n",
    "\\end{equation*}\n",
    "\n",
    "where the first term on the right side of the equation is the source of emitters as a function of the neutron number density $n(t)$, and the second term is the consumption rate of the emitter by radioactive decay obtained as a function of the product of the number concentration of the emmiter, $c_i(t)$, multiplied by its decay constant $\\lambda_i$. Here the number concentration of of the $i$th emitter, $c_i$ is considered in terms of delayed neutron number density, hence the units are the same as $n$.\n",
    "\n",
    "The current model considers the temperature reactivity coefficient, $\\alpha_{T_n}$, that is, \n",
    "\n",
    "\\begin{equation*}\n",
    " \\rho(t) = \\rho_0 + \\alpha_\\text{n} \\,\\bigl(n(t) - n_\\text{ref} \\bigr) + \\alpha_{T_n}(\\overline{T})\\,\\bigl(\\overline{T}(t) - T_\\text{ref} \\bigr),\n",
    "\\end{equation*}\n",
    "\n",
    "where basic nuclear effects are taking into account through the sub-model\n",
    "\n",
    "\\begin{equation*}\n",
    " \\alpha_{T_n}(T) = - \\frac{B^2\\,D}{2\\,k_\\infty\\,\\overline{\\Sigma}_a^{(\\text{o})}\\,\\sqrt{T^\\text{(o)}\\,T}}.\n",
    "\\end{equation*}\n",
    "\n",
    "A heat balance in the static fuel dispersed into the moderator gives\n",
    "\n",
    "\\begin{equation*}\n",
    "\\frac{\\text{d}T_f}{\\text{d}t} = - \\frac{1}{\\rho_f\\,c_{pf}}\\biggl(q^{'''}(t) - \\frac{\\dot{Q}_\\text{f}}{V_f} \\biggr) \n",
    "\\end{equation*}\n",
    "\n",
    "where the heat rate sink in the fuel/moderator is \n",
    "\n",
    "\\begin{equation*}\n",
    "{\\dot{Q}_\\text{f}} = -UA\\bigl(T_f-T_c\\bigr), \n",
    "\\end{equation*}\n",
    "\n",
    "and the nuclear heating power is given by\n",
    "\n",
    "\\begin{equation*}\n",
    "q^{'''}(t) = G_f\\frac{\\sqrt{\\pi}}{2}\\,\\sigma_\\text{fo}\\,\\sqrt{\\frac{T^\\text{(o)}}{T}}\\,\\biggl(\\frac{\\epsilon\\,w_\\text{fs}\\,\\rho_\\text{fm}}{M_\\text{fn}}\\,i\\,N_A\\biggr)\\,n(t)\\,v_\\text{(o)} .\n",
    "\\end{equation*}\n",
    "\n",
    "A heat balance in the flowing coolant fluid produces\n",
    "\n",
    "\\begin{equation*}\n",
    "\\frac{\\text{d}T_c}{\\text{d}t} = -\\frac{1}{\\tau_c}\\biggl(T_c-T_{in}\\biggr)  \n",
    "                                - \\frac{1}{\\rho_c\\,c_{pc}}\\biggl( \\frac{\\dot{Q}_\\text{f}}{V_c} \\biggr) \n",
    "\\end{equation*}\n",
    "\n",
    "where the heat rate source is the negative of the heat rate sink in the fuel/moderator."
   ]
  },
  {
   "cell_type": "markdown",
   "metadata": {},
   "source": [
    "Reactivity coefficient based on nuclear effects through the sub-model\n",
    "\n",
    "\\begin{equation*}\n",
    " \\alpha_{T_n}(T) = - \\frac{B^2\\,D}{2\\,k_\\infty\\,\\overline{\\Sigma}_a^{(\\text{o})}\\,\\sqrt{T^\\text{(o)}\\,T}}.\n",
    "\\end{equation*}"
   ]
  },
  {
   "cell_type": "code",
   "execution_count": 3,
   "metadata": {
    "code_folding": [
<<<<<<< HEAD
     2
=======
     3
>>>>>>> Jack
    ]
   },
   "outputs": [],
   "source": [
    "'''Reactivity coefficient function'''\n",
    "\n",
    "\n",
    "def alpha_tn_func(temp):\n",
    "    '''\n",
    "    Place holder for implementation\n",
    "    '''\n",
<<<<<<< HEAD
    "    \n",
    "    #buckling = params['buckling']\n",
    "    #m2 = params['m2']\n",
    "    #k_infty = params['k_infty']\n",
    "    #T = temp\n",
    "    \n",
    "    #alpha_tn = -2 * (buckling)  * math.sqrt(m2) * (1 / k_infty) * 0.320886 * (1 / T)**0.75\n",
    "    \n",
    "    alpha_tn = params['alpha_tn_fake'] # need to change this\n",
    "    \n",
=======
    "\n",
    "    B2 = params['buckling']\n",
    "    D = params['diff_coeff']\n",
    "    k_infty = params['k_infty']\n",
    "    Ea = .9822  #/cm\n",
    "    To = 20 + 273.15\n",
    "    alpha_tn = -1 / 2 * B2 * D / (k_infty * Ea * math.sqrt(To * temp))\n",
    "\n",
>>>>>>> Jack
    "    return alpha_tn"
   ]
  },
  {
   "cell_type": "code",
   "execution_count": 4,
   "metadata": {
    "code_folding": [
     2
    ]
   },
   "outputs": [],
   "source": [
    "'''Reactivity function'''\n",
    "\n",
    "def rho_func( t, n_dens, temp, params ):\n",
    "    '''\n",
    "    Reactivity function.  \n",
    "    \n",
    "    Parameters\n",
    "    ----------\n",
    "    t: float, required\n",
    "        Time.\n",
    "    temp_f: float, required\n",
    "        Temperature at time t.\n",
    "    params: dict, required\n",
    "        Dictionary of quantities. It must have a `'rho_0'` key/value pair.\n",
    "    \n",
    "    Returns\n",
    "    -------\n",
    "    rho_t: float\n",
    "        Value of reactivity.\n",
    "\n",
    "    Examples\n",
    "    --------\n",
    "    '''\n",
    "    \n",
    "    rho_0  = params['rho_0']\n",
    "    temp_ref = params['temp_c_ss_operation']\n",
    "    alpha_n = params['alpha_n']\n",
    "    n_dens_ref = params['n_dens_ref']\n",
    "    \n",
    "    alpha_tn = alpha_tn_func(temp)\n",
    "    \n",
    "    rho_t = rho_0 + alpha_n * (n_dens - n_dens_ref) + alpha_tn * (temp - temp_ref)\n",
    "    \n",
    "        \n",
    "    return rho_t"
   ]
  },
  {
   "cell_type": "code",
   "execution_count": 5,
   "metadata": {
    "code_folding": [
     2
    ]
   },
   "outputs": [],
   "source": [
    "'''Source function'''\n",
    "\n",
    "def q_source( t, params ):\n",
    "    '''\n",
    "    Neutron source delta function.  \n",
    "    \n",
    "    Parameters\n",
    "    ----------\n",
    "    t: float, required\n",
    "        Time.\n",
    "    params: dict, required\n",
    "        Dictionary of quantities. It must have a `'q_0'` key/value pair.\n",
    "    \n",
    "    Returns\n",
    "    -------\n",
    "    q: float\n",
    "        Value of source.\n",
    "\n",
    "    Examples\n",
    "    --------\n",
    "    '''\n",
    "    \n",
    "    q = 0\n",
    "    q_0 = params['q_0']\n",
    "    \n",
    "    if t <= 100*unit.milli*unit.second: # small time value\n",
    "        q = q_0\n",
    "    else:\n",
    "        q = 0.0\n",
    "        \n",
    "    return q\n",
    "\n",
    "#print(\"done\")"
   ]
  },
  {
   "cell_type": "markdown",
   "metadata": {},
   "source": [
    "The effective fission microscopic cross section for thermal neutrons will be taken as:\n",
    "\n",
    "\\begin{equation*}\n",
    "\\overline{\\sigma}_\\text{f}(T) = \\frac{\\sqrt{\\pi}}{2}\\,\\sigma_\\text{fo}\\,\\sqrt{\\frac{T^\\text{(o)}}{T}}\n",
    "\\end{equation*}"
   ]
  },
  {
   "cell_type": "code",
   "execution_count": 6,
   "metadata": {
    "code_folding": [
     2
    ]
   },
   "outputs": [],
   "source": [
    "'''Effective microscopic fission cross section'''\n",
    "\n",
    "def sigma_fis_func( temp, params ):\n",
    "    '''\n",
    "    Place holder for implementation\n",
    "    '''\n",
    "    \n",
    "    sigma_f = params['sigma_f_o'] * math.sqrt(298/temp) * math.sqrt(math.pi)/2.0\n",
    "    \n",
    "    return sigma_f"
   ]
  },
  {
   "cell_type": "markdown",
   "metadata": {},
   "source": [
    "The nuclear heating power is given by\n",
    "\n",
    "\\begin{equation*}\n",
    "q^{'''}(t) = G_f\\,\\overline{\\sigma}_\\text{f}(T)\\,N_\\text{fn} \\,\\varphi(t) .\n",
    "\\end{equation*}"
   ]
  },
  {
   "cell_type": "code",
   "execution_count": 7,
   "metadata": {
    "code_folding": [
     2
    ]
   },
   "outputs": [],
   "source": [
    "'''Nuclear power density function'''\n",
    "\n",
    "def nuclear_pwr_dens_func( time, temp, n_dens, params ):\n",
    "    '''\n",
    "    Place holder for implementation\n",
    "    '''\n",
    "    \n",
    "    rxn_heat = params['fis_energy'] # get fission reaction energy J per reaction\n",
    "    \n",
    "    sigma_f = sigma_fis_func( temp, params ) # m2\n",
    "    \n",
    "    fis_nuclide_num_dens = params['fis_nuclide_num_dens_fake'] #  #/m3\n",
    "    \n",
    "    Sigma_fis = sigma_f * fis_nuclide_num_dens # macroscopic cross section\n",
    "    \n",
    "    v_o = params['thermal_neutron_velo'] # m/s\n",
    "    \n",
    "    neutron_flux = n_dens * params['n_dens_ss_operation'] * v_o\n",
    "    \n",
    "    #reaction rate density\n",
    "    rxn_rate_dens = Sigma_fis * neutron_flux\n",
    "    \n",
    "    # nuclear power source\n",
    "    q3prime = - rxn_heat * rxn_rate_dens # exothermic reaction W/m3\n",
    "    \n",
    "    return q3prime"
   ]
  },
  {
   "cell_type": "markdown",
   "metadata": {},
   "source": [
    "The cooling heat rate is:\n",
    "\n",
    "\\begin{equation*}\n",
    "{\\dot{Q}_\\text{f}} = -UA\\bigl(T_f-T_c\\bigr). \n",
    "\\end{equation*}"
   ]
  },
  {
   "cell_type": "code",
   "execution_count": 8,
   "metadata": {
    "code_folding": [
     2
    ]
   },
   "outputs": [],
   "source": [
    "'''Cooling heat rate'''\n",
    "\n",
    "def heat_sink_rate( time, temp_f, temp_c, params):\n",
    "    \n",
    "    ht_coeff = params['ht_coeff']\n",
    "    \n",
    "    q_f = - ht_coeff * (temp_f - temp_c)\n",
    "    \n",
    "    return q_f"
   ]
  },
  {
   "cell_type": "markdown",
   "metadata": {},
   "source": [
    "### [Steam Generator](#toc)<a id=\"steamgen\"></a>"
   ]
  },
  {
   "cell_type": "markdown",
   "metadata": {},
   "source": [
    "The power removed from the core by the coolant is given by the folowing equation:\n",
    "\n",
    "\\begin{equation}\n",
    "\\dot{\\mathrm{Q}}=\\dot{\\mathrm{m}} \\mathrm{C}_{\\mathrm{p}} \\Delta \\mathrm{T}\n",
    "\\end{equation}\n",
    "\n",
    "Where $\n",
    "\\dot{\\mathrm{Q}}\n",
    "$ is the heat removed per unit time,  $\n",
    "\\dot{\\mathrm{m}}\n",
    "$ is the mass flow rate of coolant, $\\mathrm{C}_{\\mathrm{p}}$ is the constant pressure heat capacity of the coolant, and $\\Delta \\mathrm{T}$ is the primary side temperature difference.\n",
    "\n",
    "The power attributed to heating the secondary stream is given by:\n",
    "\n",
    "\\begin{equation}\n",
    "\\dot{\\mathrm{m}}_{2}\\left(\\mathrm{h}_{2}-\\mathrm{h}_{1}\\right)\n",
    "\\end{equation}\n",
    "\n",
    "Where $ \\dot{\\mathrm{m}}_{2} $ is the mass flow rate of the secondary side, $\\mathrm{h}_{1}$ is the specific enthalpy of the secondary side stream entering the steam generator, and  $\\mathrm{h}_{2}$ is the specific enthalpy of the secondary sidde stream exiting the steam generator. \n",
    "\n",
    "As the primary side is heating the secondary side the power equations must equal:\n",
    "\n",
    "\\begin{equation*}\n",
    "\\dot{Q}=\\dot{m}_1 C_P\\Delta T=\\frac{\\dot{m}_2(h_2-h_1)}{\\eta}\n",
    "\\end{equation*}\n",
    "\n",
    "\n",
    "\\begin{equation*}\n",
    "d_tT_\\text{in} = - \\frac{1}{\\tau_\\text{hx}}\\bigl(T_\\text{in} - T^\\text{(o)}\\bigr) .\n",
    "\\end{equation*}"
   ]
  },
  {
   "cell_type": "code",
<<<<<<< HEAD
   "execution_count": 101,
=======
   "execution_count": 9,
>>>>>>> Jack
   "metadata": {
    "code_folding": [
     18
    ]
   },
   "outputs": [],
   "source": [
    "'''Steam generator module'''\n",
<<<<<<< HEAD
    "\n",
    "import iapws.iapws97 as steam_table\n",
    "\n",
    "m_dot_1 = 666 # kg/s\n",
    "m_dot_2 = 67.06867 # kg/s\n",
    "eta_sg = 0.7653\n",
    "cp_primary = 5.57 #J/kg/K\n",
    "\n",
    "secondary_inflow_temp = 148.89 + 273.15\n",
    "secondary_outflow_temp = 306.67 + 273.15\n",
    "\n",
    "h_out = steam_table._Region2(secondary_outflow_temp, 3.3977364)['h']\n",
    "h_in  = steam_table._Region1(secondary_inflow_temp, 3.5190841)['h']\n",
    "\n",
    "#temp_in = 321 - (m_dot_2*(h_2-h_1))/(m_dot_1*cp_primary*eta_sg)\n",
    "#print(temp_in)\n",
    "\n",
    "def steam_generator_primary_outflow_temp(time, primary_inflow_temp, params):\n",
    "    \n",
=======
    "import iapws.iapws97 as steam_table\n",
    "def steam_generator_primary_outflow_temp(time, primary_inflow_temp, params):\n",
>>>>>>> Jack
    "    '''\n",
    "    t_ss = primary_inflow_temp - m_dot_2*(h_out-h_in)/(m_dot_1*cp_primary*eta_sg)\n",
    "        \n",
    "    if t_ss >= 0:\n",
    "        primary_outflow_temp = t_ss + math.exp(-time/params['tau_hx']) * (primary_inflow_temp-t_ss)\n",
    "    else:\n",
    "        primary_outflow_temp = primary_inflow_temp\n",
    "    '''\n",
<<<<<<< HEAD
    "        \n",
    "    if primary_inflow_temp > params['temp_c_ss_operation']:\n",
    "        primary_outflow_temp = params['temp_c_ss_operation']\n",
    "    else:\n",
    "        primary_outflow_temp = primary_inflow_temp\n",
    "    \n",
    "    return primary_outflow_temp"
=======
    "    m_dot_1 = params['coolant_flowrate']\n",
    "    m_dot_2 = params['mdot_secondary']\n",
    "    eta_sg = params['sg_efficiency']\n",
    "    t_ss = params['temp_inlet_ss']\n",
    "    t_0 = params['temp_c_0']\n",
    "\n",
    "    primary_outflow_temp = t_ss + math.exp(-time / params['tau_hx']) * (\n",
    "        (t_0) - t_ss)  #relaxation\n",
    "\n",
    "    cp_primary = steam_table._Region1(\n",
    "        (primary_outflow_temp + primary_inflow_temp) / 2,\n",
    "        12.8)[\"cp\"]  #Cp of primary from avg inlet/outlet\n",
    "    q = m_dot_1 * (primary_inflow_temp -\n",
    "                   primary_outflow_temp) * cp_primary  #heat lost to SG\n",
    "    p_out_sg = 3.3977364 + math.exp(-time / params['tau_hx']) * (\n",
    "        (3.5190841) - 3.3977364)\n",
    "    h_1_sg = steam_table._Region1(148.89 + 273.15, 3.5190841)['h']\n",
    "    h_2_sg = (eta_sg * q / m_dot_2) + h_1_sg\n",
    "    bubl = steam_table._Region4(p_out_sg, 0)\n",
    "    dew = steam_table._Region4(p_out_sg, 1)\n",
    "    bubl_entropy = bubl['s']\n",
    "    dew_entropy = dew['s']\n",
    "    bubl_enthalpy = bubl['h']\n",
    "    dew_enthalpy = dew['h']\n",
    "\n",
    "    if h_2_sg < bubl_enthalpy:\n",
    "        t_exit_sg = steam_table._Backward1_T_Ph(p_out_sg, h_2_sg)\n",
    "        return primary_outflow_temp, t_exit_sg, p_out_sg\n",
    "\n",
    "    # if fluid exiting sg is superheated\n",
    "    if h_2_sg > dew_enthalpy:\n",
    "        t_exit_sg = steam_table._Backward2_T_Ph(p_out_sg, h_2_sg)\n",
    "        #print('super heated')\n",
    "        return primary_outflow_temp, t_exit_sg, p_out_sg\n",
    "    # else fluid is two phase\n",
    "    t_exit_sg = steam_table._TSat_P(p_out_sg)\n",
    "\n",
    "    return primary_outflow_temp, t_exit_sg, p_out_sg"
>>>>>>> Jack
   ]
  },
  {
   "cell_type": "markdown",
   "metadata": {},
   "source": [
    "### [Turbine](#toc)<a id=\"turbine\"></a>"
   ]
  },
  {
   "cell_type": "code",
   "execution_count": 10,
   "metadata": {
<<<<<<< HEAD
    "code_folding": [
     1
    ]
   },
   "outputs": [],
=======
    "code_folding": []
   },
   "outputs": [],
   "source": [
    "''' Turbine Function '''\n",
    "def turbine_func( time,p_in, p_out, temp_in, params):\n",
    "    'p_out: Condenser pressure / turbine step pressure [MPa]'\n",
    "    'temp_out: Condenser temperature / turbine step temperature [C]'\n",
    "    'temp_in: Steam temp entering turbine [K]'\n",
    "    turbine_efficiency = params['Turbine_Efficiency']\n",
    "    m_dot_2 = params['mdot_secondary']\n",
    "    \n",
    "    #if entering stream is not steam (valve closed scenario)\n",
    "    if temp_in < steam_table._TSat_P(p_in):\n",
    "            t_runoff = steam_table._TSat_P(p_in)\n",
    "            power = 0\n",
    "            quality = 0\n",
    "            return power, quality, t_runoff\n",
    "    \n",
    "    s_2_prime = steam_table._Region2(temp_in, p_in)['s']\n",
    "    h_1 = steam_table._Region2(temp_in, p_in)['h']\n",
    "    bubl = steam_table._Region4(p_out, 0) \n",
    "    dew = steam_table._Region4(p_out, 1)\n",
    "    bubl_entropy = bubl['s']\n",
    "    dew_entropy = dew['s']\n",
    "    bubl_enthalpy = bubl['h']\n",
    "    dew_enthalpy = dew['h']\n",
    "        \n",
    "\n",
    "    #if the ideal runoff is two-phase mixture: \n",
    "    if  bubl_entropy < s_2_prime < dew_entropy:\n",
    "        \n",
    "        quality = (s_2_prime - bubl_entropy)/(dew_entropy - bubl_entropy)\n",
    "          \n",
    "        #h_2_prime = steam_table._Region4(p_out, quality)['h']\n",
    "        h_2_prime = bubl_enthalpy + quality*(dew_enthalpy-bubl_enthalpy)\n",
    "   #if run off is superheated\n",
    "    elif  s_2_prime > dew_entropy:\n",
    "            \n",
    "        t_ideal = steam_table._Backward2_T_Ps(p_out,  s_2_prime)\n",
    "           \n",
    "        h_2_prime = steam_table._Region2(t_ideal, p_out)['h']\n",
    "        quality = 1\n",
    "    #else run off is subcooled\n",
    "    else:\n",
    "        t_ideal = steam_table._Backward1_T_Ps(p_out,  s_2_prime)\n",
    "           \n",
    "        h_2_prime = steam_table._Region1(t_ideal, p_out)['h']\n",
    "        quality = 0   \n",
    "    \n",
    "    t_runoff = steam_table._TSat_P(p_out)\n",
    "    #print('h2 = ',h_2_prime)\n",
    "    #calculate the real runoff enthalpy\n",
    "    w_ideal = h_1 - h_2_prime #on a per mass basis\n",
    "    assert(w_ideal > 0)\n",
    "    w_real = w_ideal * turbine_efficiency\n",
    "    h_real = h_1 - w_ideal\n",
    "    assert h_real > 0\n",
    "    if w_real < 0:\n",
    "            w_real = 0\n",
    "\n",
    "  \n",
    "\n",
    "    #if the real runoff is a subcooled liquid\n",
    "    if h_real < bubl_enthalpy:\n",
    "        t_runoff = steam_table._Backward1_T_Ph(p_out, h_real)\n",
    "        quality = 0 # subcooled liquid\n",
    "    \n",
    "    power = m_dot_2 *(w_real)\n",
    "    return power, quality, t_runoff"
   ]
  },
  {
   "cell_type": "markdown",
   "metadata": {},
   "source": [
    "### [Coupling](#toc)<a id=\"coupling\"></a>"
   ]
  },
  {
   "cell_type": "markdown",
   "metadata": {},
>>>>>>> Jack
   "source": [
    "### [Vector ODE System](#toc)<a id=\"vodes\"></a>\n",
    "\n",
    "A vector notation for the foregoing system of equations greatly improves the generality of the derived computer code. Towards this goal let us define\n",
    "\n",
    "\\begin{equation*}\n",
    "\\frac{d\\uvar}{dt} = \\fvar( \\uvar, t )\n",
    "\\end{equation*}\n",
    "\n",
    "where $\\uvar(t) = (u_1,u_2,u_3,u_4,u_5,u_6,u_7)$ is the state vector and we assign \n",
    "\n",
    "\\begin{align*}\n",
    " u_1(t)&=n(t),\\\\\n",
    " u_2(t)&=c_1(t),\\\\\n",
    " u_3(t)&=c_2(t),\\\\\n",
    " u_4(t)&=c_3(t),\\\\\n",
    " u_5(t)&=c_4(t),\\\\\n",
    " u_6(t)&=c_5(t),\\\\\n",
    " u_7(t)&=c_6(t),\\\\\n",
    " u_8(t)&=T_f(t),\\\\\n",
    " u_9(t)&=T_c(t).\n",
    "\\end{align*}\n",
    "\n",
    "Also for $\\fvar(\\uvar,t) = \\bigl(f_1(\\uvar,t), f_2(\\uvar,t), f_3(\\uvar,t), f_4(\\uvar,t), f_5(\\uvar,t), f_6(\\uvar,t), f_7(\\uvar,t)\\bigr)$ we assign \n",
    "\n",
    "\\begin{align*}\n",
    " f_1 & = \\frac{\\rho(t)-\\beta}{\\ell}\\, u_1 + \\sum\\limits_{i=2}^{7} \\lambda_i\\,u_i + q(t), \\\\\n",
    " f_2 & = \\frac{\\beta_1}{\\ell}\\, u_1 - \\lambda_1\\,u_2, \\\\\n",
    " f_3 & = \\frac{\\beta_2}{\\ell}\\, u_1 - \\lambda_2\\,u_3, \\\\\n",
    " f_4 & = \\frac{\\beta_3}{\\ell}\\, u_1 - \\lambda_3\\,u_4, \\\\\n",
    " f_5 & = \\frac{\\beta_4}{\\ell}\\, u_1 - \\lambda_4\\,u_5, \\\\\n",
    " f_6 & = \\frac{\\beta_5}{\\ell}\\, u_1 - \\lambda_5\\,u_6, \\\\\n",
    " f_7 & = \\frac{\\beta_6}{\\ell}\\, u_1 - \\lambda_6\\,u_7,  \\\\\n",
    " f_8 & = - \\frac{1}{\\rho_f\\,c_{pf}}\\biggl(q^{'''}(t) - \\frac{\\dot{Q}_\\text{f}}{V_f} \\biggr), \\\\\n",
    " f_9 & = -\\frac{1}{\\tau_c}\\biggl(T_c-T_{in}\\biggr)  \n",
    "                                - \\frac{1}{\\rho_c\\,c_{pc}}\\biggl( \\frac{\\dot{Q}_\\text{f}}{V_c} \\biggr).\n",
    "\\end{align*}\n",
    "\n",
    "Finally, the initial conditions given are as follows:\n",
    "\n",
    "\\begin{align*}\n",
    " u_1(0)&=n_0,\\\\\n",
    " u_2(0)&=c_{1_0},\\\\\n",
    " u_3(0)&=c_{2_0},\\\\\n",
    " u_4(0)&=c_{3_0},\\\\\n",
    " u_5(0)&=c_{4_0},\\\\\n",
    " u_6(0)&=c_{5_0},\\\\\n",
    " u_7(0)&=c_{6_0},\\\\\n",
    " u_8(0)&=T_{f_0},\\\\\n",
    " u_9(0)&=T_{c_0}\n",
    "\\end{align*}\n",
    "\n",
    "\n",
    "where $n_0$ and $c_{i_0}$ are initial values for the unknowns given by the problem specification."
   ]
  },
  {
   "cell_type": "markdown",
   "metadata": {},
   "source": [
    "### [Coupling](#toc)<a id=\"coupling\"></a>"
   ]
  },
  {
   "cell_type": "markdown",
   "metadata": {},
   "source": [
    "### [Vector ODE System](#toc)<a id=\"vodes\"></a>\n",
    "\n",
    "A vector notation for the foregoing system of equations greatly improves the generality of the derived computer code. Towards this goal let us define\n",
    "\n",
    "\\begin{equation*}\n",
    "\\frac{d\\uvar}{dt} = \\fvar( \\uvar, t )\n",
    "\\end{equation*}\n",
    "\n",
    "where $\\uvar(t) = (u_1,u_2,u_3,u_4,u_5,u_6,u_7)$ is the state vector and we assign \n",
    "\n",
    "\\begin{align*}\n",
    " u_1(t)&=n(t),\\\\\n",
    " u_2(t)&=c_1(t),\\\\\n",
    " u_3(t)&=c_2(t),\\\\\n",
    " u_4(t)&=c_3(t),\\\\\n",
    " u_5(t)&=c_4(t),\\\\\n",
    " u_6(t)&=c_5(t),\\\\\n",
    " u_7(t)&=c_6(t),\\\\\n",
    " u_8(t)&=T_f(t),\\\\\n",
    " u_9(t)&=T_c(t).\n",
    "\\end{align*}\n",
    "\n",
    "Also for $\\fvar(\\uvar,t) = \\bigl(f_1(\\uvar,t), f_2(\\uvar,t), f_3(\\uvar,t), f_4(\\uvar,t), f_5(\\uvar,t), f_6(\\uvar,t), f_7(\\uvar,t)\\bigr)$ we assign \n",
    "\n",
    "\\begin{align*}\n",
    " f_1 & = \\frac{\\rho(t)-\\beta}{\\ell}\\, u_1 + \\sum\\limits_{i=2}^{7} \\lambda_i\\,u_i + q(t), \\\\\n",
    " f_2 & = \\frac{\\beta_1}{\\ell}\\, u_1 - \\lambda_1\\,u_2, \\\\\n",
    " f_3 & = \\frac{\\beta_2}{\\ell}\\, u_1 - \\lambda_2\\,u_3, \\\\\n",
    " f_4 & = \\frac{\\beta_3}{\\ell}\\, u_1 - \\lambda_3\\,u_4, \\\\\n",
    " f_5 & = \\frac{\\beta_4}{\\ell}\\, u_1 - \\lambda_4\\,u_5, \\\\\n",
    " f_6 & = \\frac{\\beta_5}{\\ell}\\, u_1 - \\lambda_5\\,u_6, \\\\\n",
    " f_7 & = \\frac{\\beta_6}{\\ell}\\, u_1 - \\lambda_6\\,u_7,  \\\\\n",
    " f_8 & = - \\frac{1}{\\rho_f\\,c_{pf}}\\biggl(q^{'''}(t) - \\frac{\\dot{Q}_\\text{f}}{V_f} \\biggr), \\\\\n",
    " f_9 & = -\\frac{1}{\\tau_c}\\biggl(T_c-T_{in}\\biggr)  \n",
    "                                - \\frac{1}{\\rho_c\\,c_{pc}}\\biggl( \\frac{\\dot{Q}_\\text{f}}{V_c} \\biggr).\n",
    "\\end{align*}\n",
    "\n",
    "Finally, the initial conditions given are as follows:\n",
    "\n",
    "\\begin{align*}\n",
    " u_1(0)&=n_0,\\\\\n",
    " u_2(0)&=c_{1_0},\\\\\n",
    " u_3(0)&=c_{2_0},\\\\\n",
    " u_4(0)&=c_{3_0},\\\\\n",
    " u_5(0)&=c_{4_0},\\\\\n",
    " u_6(0)&=c_{5_0},\\\\\n",
    " u_7(0)&=c_{6_0},\\\\\n",
    " u_8(0)&=T_{f_0},\\\\\n",
    " u_9(0)&=T_{c_0}\n",
    "\\end{align*}\n",
    "\n",
    "\n",
    "where $n_0$ and $c_{i_0}$ are initial values for the unknowns given by the problem specification."
   ]
  },
  {
   "cell_type": "code",
   "execution_count": 11,
   "metadata": {
    "code_folding": [
     2
    ]
   },
   "outputs": [],
   "source": [
    "'''ODE function'''\n",
    "\n",
    "def f_vec( time, u_vec, params ):  \n",
    "    \n",
    "    import numpy as np\n",
    "    #assert np.all(u_vec >= 0.0)\n",
    "    \n",
    "    n_dens = u_vec[0] # get neutron dens\n",
    "\n",
    "    c_vec = u_vec[1:-2] # get delayed neutron emitter concentration\n",
    "    \n",
    "    temp_f = u_vec[-2] # get temperature of fuel\n",
    "    \n",
    "    temp_c = u_vec[-1] # get temperature of coolant\n",
    "    \n",
    "    # initialize f_vec to zero\n",
    "    species_decay = params['species_decay']\n",
    "    lambda_vec = np.array(species_decay)\n",
    "    n_species  = len(lambda_vec)\n",
    "    \n",
    "    f_tmp = np.zeros(1+n_species+2,dtype=np.float64) # vector for f_vec return\n",
    "    \n",
    "    #----------------\n",
    "    # neutron balance\n",
    "    #----------------\n",
    "    rho_t    = rho_func(time, n_dens, (temp_f+temp_c)/2.0, params)\n",
    "    \n",
    "    beta     = params['beta']\n",
    "    gen_time = params['gen_time']\n",
    "       \n",
    "    species_rel_yield = params['species_rel_yield']\n",
    "    beta_vec = np.array(species_rel_yield) * beta\n",
    "    \n",
    "    assert len(lambda_vec)==len(beta_vec)\n",
    "    \n",
    "    q_source_t = q_source(time, params)\n",
    "    \n",
    "    f_tmp[0] = (rho_t - beta)/gen_time * n_dens + lambda_vec @ c_vec + q_source_t\n",
    "    \n",
    "    #-----------------------------------\n",
    "    # n species balances (implicit loop)\n",
    "    #-----------------------------------\n",
    "    f_tmp[1:-2] = beta_vec/gen_time * n_dens - lambda_vec * c_vec\n",
    "    \n",
    "    #--------------------\n",
    "    # fuel energy balance\n",
    "    #--------------------\n",
    "    rho_f    = params['fuel_dens']\n",
    "    cp_f     = params['cp_fuel']\n",
    "    vol_fuel = params['fuel_volume']\n",
    "    \n",
    "    pwr_dens = nuclear_pwr_dens_func( time, (temp_f+temp_c)/2, n_dens, params )\n",
    "    \n",
    "    heat_sink = heat_sink_rate( time, temp_f, temp_c, params )\n",
    "    #assert heat_sink <= 0.0,'heat_sink = %r'%heat_sink\n",
    "    \n",
    "    f_tmp[-2] =  -1/rho_f/cp_f * ( pwr_dens - heat_sink/vol_fuel )\n",
    "    \n",
    "    #-----------------------\n",
    "    # coolant energy balance\n",
    "    #-----------------------\n",
    "    rho_c    = params['coolant_dens']\n",
    "    cp_c     = params['cp_coolant']\n",
    "    vol_cool = params['coolant_volume']\n",
    "    \n",
<<<<<<< HEAD
    "    temp_in = steam_generator_primary_outflow_temp(time, temp_c, params)\n",
=======
    "    temp_in, t_sg, p_turbine = steam_generator_primary_outflow_temp(time, temp_c, params)\n",
>>>>>>> Jack
    "    \n",
    "    tau = params['tau_fake']\n",
    "    \n",
    "    heat_source = - heat_sink\n",
    "    \n",
    "    f_tmp[-1] = - 1/tau * (temp_c - temp_in) + 1./rho_c/cp_c/vol_cool * heat_source\n",
    "\n",
    "    return f_tmp"
   ]
  },
  {
   "cell_type": "code",
   "execution_count": 12,
   "metadata": {
    "code_folding": [
     2
    ]
   },
   "outputs": [],
   "source": [
    "'''Create the point-reactor run function'''\n",
    "\n",
    "def run_point_reactor( f_vec, params ):\n",
    "\n",
    "    from scipy.integrate import odeint # Load ODE solver package\n",
    "\n",
    "    import numpy as np\n",
    "    time_final = params['time_final']\n",
    "    n_time_stamps = params['n_time_stamps']\n",
    "    time_stamps = np.linspace(0.0, time_final, num=n_time_stamps) # create the time stamps for solution values\n",
    "    params['time_stamps'] = time_stamps\n",
    "    \n",
    "    max_n_steps_per_time_step = 1000 # max number of nonlinear algebraic solver iterations per time step\n",
    "\n",
    "    n_0     = params['n_0']\n",
    "    c_vec_0 = params['c_vec_0']\n",
    "    \n",
    "    temp_f_0 = params['temp_f_0']\n",
    "    temp_c_0 = params['temp_c_0']\n",
    "    \n",
    "    # m-equation point reactor model\n",
    "    n_species = len(c_vec_0)\n",
    "    u_vec_0 = np.zeros(1+n_species+2,dtype=np.float64)\n",
    "    \n",
    "    u_vec_0[0]    = n_0\n",
    "    u_vec_0[1:-2] = c_vec_0\n",
    "    u_vec_0[-2]   = temp_f_0\n",
    "    u_vec_0[-1]   = temp_c_0\n",
    "            \n",
    "    (u_vec_history, info_dict) = odeint( f_vec, u_vec_0, time_stamps,\n",
    "                                         args=( params, ),\n",
    "                                         rtol=1e-4, atol=1e-8, mxstep=max_n_steps_per_time_step,\n",
    "                                         full_output=1, tfirst=True )\n",
    "\n",
    "    assert info_dict['message']=='Integration successful.',\\\n",
    "                     'Fatal: scipy.integrate.odeint failed %r'%info_dict['message']\n",
    "    \n",
    "    return u_vec_history"
   ]
  },
  {
   "cell_type": "code",
   "execution_count": 13,
   "metadata": {
    "code_folding": [
     2
    ]
   },
   "outputs": [],
   "source": [
    "'''Plotting function definition'''\n",
    "\n",
    "def plot_results( u_vec_history, normalize=True, semi_log=False, markers=False, precursors=True ):\n",
    "    \n",
    "    time_stamps = params['time_stamps']/3600\n",
    "    tau = params['tau_fake']\n",
    "        \n",
    "    import matplotlib.pyplot as plt\n",
    "    \n",
    "    fig, ax1 = plt.subplots(1, figsize=(14, 6))\n",
    "\n",
    "    if precursors == True:\n",
    "        \n",
    "        ax2 = ax1.twinx() # duplicate x axes to plot n and c_i's in different y axes\n",
    "    \n",
    "        color_ids = np.linspace(0,1,u_vec_history[:,1:-2].shape[1])\n",
    "    \n",
    "        for (j,color_id) in zip( range(u_vec_history[:,1:-2].shape[1]), color_ids ):\n",
    "            color=plt.cm.nipy_spectral(color_id)\n",
    "        \n",
    "            if normalize == True:\n",
    "                ax2.plot( time_stamps,u_vec_history[:,j+1]/params['c_vec_0'][j],'-.',color=color,label=r'$c_%i$'%(j+1) )\n",
    "                ax2.set_ylabel(r'$c_i/c_{i_0}$',fontsize=16,color='black')\n",
    "            else:\n",
    "                ax2.plot( time_stamps,u_vec_history[:,j+1],'-.',color=color,label=r'$c_%i$'%(j+1) )\n",
    "                ax2.set_ylabel(r'$c_i$',fontsize=16,color='black')\n",
    "        \n",
    "        ax2.tick_params(axis='y', labelcolor='black', labelsize=14)\n",
    "        ax2.legend(loc='lower right',fontsize=12)\n",
    "        if semi_log == True:\n",
    "            ax2.set_yscale('log') # uncomment to plot y in log scale\n",
    "        #ax2.grid(True)\n",
    "\n",
    "    if markers == True:\n",
    "        if normalize == True:\n",
    "            ax1.plot( time_stamps,u_vec_history[:,0]/params['n_0'],'-',marker='+',color='red',label=r'$n/n_0$' )\n",
    "            ax1.set_ylabel(r'$n$',fontsize=16,color='black')\n",
    "        else:\n",
    "            ax1.plot( time_stamps,u_vec_history[:,0],'-',marker='+',color='red',label=r'$n$' )\n",
    "            ax1.set_ylabel(r'$n$',fontsize=16,color='black')\n",
    "    else:\n",
    "        if normalize == True:\n",
    "            ax1.plot(time_stamps,u_vec_history[:,0]/params['n_0'],'-',color='red',label=r'$n/n_0$' )\n",
    "            ax1.set_ylabel(r'$n/n_0$',fontsize=16,color='black')\n",
    "        else:\n",
    "            ax1.plot(time_stamps,u_vec_history[:,0],'-',color='red',label=r'$n$' )\n",
    "            ax1.set_ylabel(r'$n$',fontsize=16,color='black')\n",
    "\n",
    "    ax1.set_xlabel(r'Time [h]',fontsize=16)\n",
    "    \n",
    "    ax1.tick_params(axis='y', labelcolor='black', labelsize=14)\n",
    "    ax1.tick_params(axis='x', labelsize=14)\n",
    "    ax1.legend(loc='best',fontsize=12)\n",
    "    if semi_log == True:\n",
    "        ax1.set_yscale('log') # uncomment to plot y in log scale\n",
    "    ax1.grid(True)\n",
    "\n",
    "    plt.title(r'Point-Reactor Model: $\\rho/\\beta=$'\n",
    "              +str(params['reactivity']/params['beta'])\n",
    "              +r'; $q_0=$'+str(round(params['q_0'],2)),\n",
    "              fontsize=18)\n",
    "    fig.tight_layout()  # otherwise the right y-label is slightly clipped\n",
    "    plt.show() \n",
    "\n",
    "    print('')"
   ]
  },
  {
   "cell_type": "code",
   "execution_count": 14,
   "metadata": {
    "code_folding": [
     2
    ]
   },
   "outputs": [],
   "source": [
    "'''Utility function to peak at results table'''\n",
    "\n",
    "def peek(time,data, head=500, tail=100):  \n",
    "\n",
    "    import pandas as pd\n",
    "    \n",
    "    pd.options.display.float_format = '{:.2e}'.format\n",
    "    \n",
    "    layout = {'time':time[:head]}\n",
    "    \n",
    "    layout['n'] = data[:head,0]\n",
    "    \n",
    "    for j in range(1,data[:,1:-2].shape[1]+1):\n",
    "        layout['c_%i'%j] = data[:head,j]\n",
    "        \n",
    "    layout['temp_f'] = data[:head,-2]\n",
    "    layout['temp_c'] = data[:head,-1]\n",
    "        \n",
    "    results = pd.DataFrame(layout)\n",
    "    print(round(results,2))\n",
    "    print('')"
   ]
  },
  {
   "cell_type": "code",
   "execution_count": 15,
   "metadata": {
<<<<<<< HEAD
    "code_folding": [
     2
    ]
=======
    "code_folding": []
>>>>>>> Jack
   },
   "outputs": [],
   "source": [
    "'''Post-Processing Quantities (not in state vector)'''\n",
    "\n",
    "\n",
    "def get_quantities(u_vec_history, params):\n",
    "\n",
    "    import pandas as pd\n",
    "\n",
    "    data = dict()\n",
    "    tmp1 = list()\n",
    "    tmp2 = list()\n",
    "    tmp3 = list()\n",
    "    tmp4 = list()\n",
    "    tmp5 = list()\n",
    "    tmp6 = list()\n",
    "    tmp7 = list()\n",
    "    tmp8 = list()\n",
    "    for (time, n_dens, tf, tc) in zip(params['time_stamps'], u_vec_history[:,\n",
    "                                                                           0],\n",
    "                                      u_vec_history[:, -2], u_vec_history[:,\n",
    "                                                                          -1]):\n",
    "\n",
    "        rho = rho_func(time, n_dens, tf, params)\n",
    "        tmp1.append(rho)\n",
    "        a = tc\n",
    "        \n",
<<<<<<< HEAD
    "        temp_in = steam_generator_primary_outflow_temp(time, tc, params)\n",
    "        tmp2.append(temp_in)\n",
    "        \n",
    "        pwr = params['coolant_volume']/params['tau_fake'] * params['coolant_dens'] * params['cp_coolant'] * (tc - temp_in) \n",
    "        tmp3.append(pwr/unit.mega)\n",
    "        \n",
    "        q3prime = nuclear_pwr_dens_func(time, tf, n_dens, params)\n",
    "        tmp4.append(q3prime/unit.mega)\n",
=======
    "        temp_in, t_sg, p_turbine = steam_generator_primary_outflow_temp(time, tc, params)\n",
    "        tmp2.append(temp_in)\n",
    "        tmp6.append(t_sg)\n",
    "        tmp7.append(p_turbine)\n",
    "\n",
    "        pwr = params['coolant_volume'] / params['tau_fake'] * params[\n",
    "            'coolant_dens'] * params['cp_coolant'] * (tc - temp_in)\n",
    "        tmp3.append(pwr / unit.mega)\n",
    "\n",
    "        q3prime = nuclear_pwr_dens_func(time, tf, n_dens, params)\n",
    "        tmp4.append(q3prime / unit.mega)\n",
    "\n",
    "        p_condenser = params['condenser_pressure']\n",
    "        W_s, quality, t_runoff = turbine_func(time, p_turbine,p_condenser, t_sg, params)\n",
    "        tmp5.append(W_s/1000)\n",
    "        tmp8.append(quality)\n",
    "        \n",
>>>>>>> Jack
    "        \n",
    "\n",
    "    data['rho'] = tmp1\n",
    "    data['T_in [C]'] = unit.convert_temperature(np.array(tmp2), 'K', 'C')\n",
    "    data['pwr [MW]'] = tmp3\n",
    "    data[\"q''' [MW/m3]\"] = tmp4\n",
    "    data['W_s [MW]'] = tmp5\n",
    "    data['T_SG [C]'] = unit.convert_temperature(np.array(tmp6), 'K', 'C')\n",
    "    data['P_SG [MPa]'] = tmp7\n",
    "    data['Quality [X]'] = tmp8\n",
    "    df = pd.DataFrame(data)\n",
    "\n",
    "    return df"
   ]
  },
  {
   "cell_type": "code",
   "execution_count": 16,
   "metadata": {
<<<<<<< HEAD
    "code_folding": [
     2
    ]
=======
    "code_folding": []
>>>>>>> Jack
   },
   "outputs": [],
   "source": [
    "'''Plot Tf, Tc, Tin temperatures in the reactor'''\n",
    "    \n",
    "def plot_temperature_results(u_vec_history, quant, params, time_unit='h', semi_log=False):\n",
    "    \n",
    "    time_stamps = params['time_stamps']\n",
    "    \n",
    "    if time_unit == 'h':\n",
    "        time_scale = unit.hour\n",
    "    elif time_unit == 'min':\n",
    "        time_scale = unit.minute\n",
    "    elif time_unit == 's':\n",
    "        time_scale = unit.second\n",
    "    else:\n",
    "        assert False\n",
    "\n",
    "    import matplotlib.pyplot as plt    \n",
    "    fig, ax1 = plt.subplots(1, figsize=(16, 6))\n",
    "    #ax1.plot(time_stamps/3600,u_vec_history[:,-1]-273.15,'r-',time_stamps/3600,u_vec_history[:,-2]-273.15,'b-',label='$T_f=$')\n",
    "    \n",
    "    ax1.plot(time_stamps/time_scale, unit.convert_temperature(u_vec_history[:,-2],'K','C'),'r-.',label='$T_f$')\n",
    "    ax1.plot(time_stamps/time_scale, unit.convert_temperature(u_vec_history[:,-1],'K','C'),'r-',label='$T_c$')\n",
    "    ax1.plot(time_stamps/time_scale, quant['T_in [C]'],'b-',label=r'$T_{in}$' )\n",
    "    \n",
    "    ax1.set_xlabel(r'Time [%s]'%time_unit,fontsize=16)\n",
    "    ax1.set_ylabel(r'$T$ [C]',fontsize=16,color='black')\n",
    "    ax1.tick_params(axis='y', labelcolor='black', labelsize=14)\n",
    "    ax1.tick_params(axis='x', labelsize=14)\n",
    "    ax1.legend(loc='upper left',fontsize=12)\n",
    "    ax1.grid(True)\n",
    "    \n",
    "    if semi_log == True:\n",
    "        ax1.set_yscale('log')\n",
    "\n",
    "    plt.title('Single-Point Reactor SMR-PWR Temperatures',fontsize=20)\n",
    "    fig.tight_layout()  # otherwise the right y-label is slightly clipped\n",
    "    plt.show()\n",
    "    print('')"
   ]
  },
  {
   "cell_type": "markdown",
   "metadata": {},
   "source": [
    "## [Startup: Reactivity Step with Pulsed Source](#toc)<a id=\"res1\"></a>\n",
    "\n",
    "Neutronless reactor before time zero. At time zero, apply a pulsed source and a reactivity step."
   ]
  },
  {
   "cell_type": "code",
<<<<<<< HEAD
   "execution_count": 148,
=======
   "execution_count": 17,
>>>>>>> Jack
   "metadata": {},
   "outputs": [],
   "source": [
    "'''Setup up initial conditions'''\n",
    "\n",
    "import numpy as np\n",
    "\n",
    "gen_time = params['gen_time'] # retrieve neutron generation time\n",
    "params['q_0'] = 1/gen_time # pulse at t = 0\n",
    "\n",
    "params['n_ss'] = 0 # neutronless steady state before start up\n",
    "params['n_dens_ref'] = 1.0 # used in the reactivity feedback model\n",
    "\n",
    "rho_0_over_beta = 0.25 # $\n",
    "\n",
    "beta = params['beta'] # retrieve the delayed neutron fraction\n",
    "params['reactivity'] = rho_0_over_beta * beta # \"rho/beta = 30 cents\"\n",
    "\n",
<<<<<<< HEAD
    "params['tau_fake'] = 3 # s\n",
=======
    "params['tau_fake'] =  2.16 # s\n",
>>>>>>> Jack
    "\n",
    "params['temp_0'] = params['temp_o']\n",
    "\n",
    "# setup remaining initial conditions\n",
    "setup_initial_conditions(params)"
   ]
  },
  {
   "cell_type": "code",
<<<<<<< HEAD
   "execution_count": 149,
=======
   "execution_count": 18,
>>>>>>> Jack
   "metadata": {},
   "outputs": [],
   "source": [
    "'''Evolve the point-reactor'''\n",
    "\n",
    "time_final    = 1*unit.hour\n",
    "n_time_stamps = 500 # number of solution values in time\n",
    "\n",
    "params['time_final']    = time_final\n",
    "params['n_time_stamps'] = n_time_stamps\n",
    "\n",
    "# Run the reactor and compute the history of the state variables; tabular form, one row per time stamp\n",
    "u_vec_history = run_point_reactor( f_vec, params )"
   ]
  },
  {
   "cell_type": "code",
<<<<<<< HEAD
   "execution_count": 150,
=======
   "execution_count": 19,
>>>>>>> Jack
   "metadata": {
    "scrolled": false
   },
   "outputs": [
    {
     "name": "stdout",
     "output_type": "stream",
     "text": [
      "        time        n      c_1      c_2      c_3      c_4      c_5      c_6  \\\n",
      "0   0.00e+00 0.00e+00 0.00e+00 0.00e+00 0.00e+00 0.00e+00 0.00e+00 0.00e+00   \n",
<<<<<<< HEAD
      "1   7.21e+00 6.29e+00 1.22e+02 7.46e+02 4.76e+02 5.03e+02 4.02e+01 5.64e+00   \n",
      "2   1.44e+01 8.36e+00 2.19e+02 1.27e+03 6.80e+02 6.31e+02 5.29e+01 7.48e+00   \n",
      "3   2.16e+01 1.14e+01 3.46e+02 1.93e+03 9.39e+02 8.53e+02 7.22e+01 1.02e+01   \n",
      "4   2.89e+01 1.56e+01 5.15e+02 2.79e+03 1.29e+03 1.16e+03 9.85e+01 1.39e+01   \n",
      "..       ...      ...      ...      ...      ...      ...      ...      ...   \n",
      "495 3.57e+03 1.52e+02 2.63e+04 7.09e+04 1.74e+04 1.30e+04 9.96e+02 1.38e+02   \n",
      "496 3.58e+03 1.52e+02 2.63e+04 7.09e+04 1.74e+04 1.30e+04 9.96e+02 1.38e+02   \n",
      "497 3.59e+03 1.52e+02 2.63e+04 7.09e+04 1.74e+04 1.30e+04 9.96e+02 1.38e+02   \n",
      "498 3.59e+03 1.52e+02 2.63e+04 7.09e+04 1.74e+04 1.30e+04 9.96e+02 1.38e+02   \n",
      "499 3.60e+03 1.52e+02 2.63e+04 7.09e+04 1.74e+04 1.30e+04 9.96e+02 1.38e+02   \n",
      "\n",
      "      temp_f   temp_c  \n",
      "0   2.93e+02 2.93e+02  \n",
      "1   3.02e+02 2.95e+02  \n",
      "2   3.07e+02 2.98e+02  \n",
      "3   3.14e+02 3.02e+02  \n",
      "4   3.23e+02 3.08e+02  \n",
      "..       ...      ...  \n",
      "495 7.97e+02 6.23e+02  \n",
      "496 7.97e+02 6.23e+02  \n",
      "497 7.97e+02 6.23e+02  \n",
      "498 7.97e+02 6.23e+02  \n",
      "499 7.97e+02 6.23e+02  \n",
=======
      "1   7.21e+00 6.01e+00 1.27e+02 7.74e+02 4.89e+02 5.05e+02 3.89e+01 5.42e+00   \n",
      "2   1.44e+01 7.37e+00 2.14e+02 1.23e+03 6.44e+02 5.76e+02 4.70e+01 6.62e+00   \n",
      "3   2.16e+01 9.49e+00 3.20e+02 1.77e+03 8.28e+02 7.26e+02 6.03e+01 8.51e+00   \n",
      "4   2.89e+01 1.24e+01 4.54e+02 2.42e+03 1.07e+03 9.41e+02 7.87e+01 1.11e+01   \n",
      "..       ...      ...      ...      ...      ...      ...      ...      ...   \n",
      "495 3.57e+03 5.34e+02 9.24e+04 2.49e+05 6.13e+04 4.56e+04 3.50e+03 4.85e+02   \n",
      "496 3.58e+03 5.34e+02 9.24e+04 2.49e+05 6.13e+04 4.56e+04 3.50e+03 4.85e+02   \n",
      "497 3.59e+03 5.34e+02 9.24e+04 2.49e+05 6.13e+04 4.56e+04 3.50e+03 4.85e+02   \n",
      "498 3.59e+03 5.34e+02 9.24e+04 2.49e+05 6.13e+04 4.56e+04 3.50e+03 4.85e+02   \n",
      "499 3.60e+03 5.34e+02 9.24e+04 2.49e+05 6.13e+04 4.56e+04 3.50e+03 4.85e+02   \n",
      "\n",
      "      temp_f   temp_c  \n",
      "0   2.93e+02 2.98e+02  \n",
      "1   3.05e+02 3.03e+02  \n",
      "2   3.12e+02 3.08e+02  \n",
      "3   3.20e+02 3.14e+02  \n",
      "4   3.28e+02 3.20e+02  \n",
      "..       ...      ...  \n",
      "495 1.03e+03 5.95e+02  \n",
      "496 1.03e+03 5.95e+02  \n",
      "497 1.03e+03 5.95e+02  \n",
      "498 1.03e+03 5.95e+02  \n",
      "499 1.03e+03 5.95e+02  \n",
>>>>>>> Jack
      "\n",
      "[500 rows x 10 columns]\n",
      "\n"
     ]
    }
   ],
   "source": [
    "peek(params['time_stamps'], u_vec_history)"
   ]
  },
  {
   "cell_type": "code",
<<<<<<< HEAD
   "execution_count": 151,
=======
   "execution_count": 20,
>>>>>>> Jack
   "metadata": {},
   "outputs": [
    {
     "data": {
      "text/html": [
       "<div>\n",
       "<style scoped>\n",
       "    .dataframe tbody tr th:only-of-type {\n",
       "        vertical-align: middle;\n",
       "    }\n",
       "\n",
       "    .dataframe tbody tr th {\n",
       "        vertical-align: top;\n",
       "    }\n",
       "\n",
       "    .dataframe thead th {\n",
       "        text-align: right;\n",
       "    }\n",
       "</style>\n",
       "<table border=\"1\" class=\"dataframe\">\n",
       "  <thead>\n",
       "    <tr style=\"text-align: right;\">\n",
       "      <th></th>\n",
       "      <th>rho</th>\n",
       "      <th>T_in [C]</th>\n",
       "      <th>pwr [MW]</th>\n",
       "      <th>q''' [MW/m3]</th>\n",
       "      <th>W_s [MW]</th>\n",
       "      <th>T_SG [C]</th>\n",
       "      <th>P_SG [MPa]</th>\n",
       "      <th>Quality [X]</th>\n",
       "    </tr>\n",
       "  </thead>\n",
       "  <tbody>\n",
       "    <tr>\n",
       "      <th>0</th>\n",
<<<<<<< HEAD
       "      <td>1.94e-03</td>\n",
       "      <td>2.00e+01</td>\n",
=======
       "      <td>1.66e-03</td>\n",
       "      <td>2.50e+01</td>\n",
>>>>>>> Jack
       "      <td>0.00e+00</td>\n",
       "      <td>-0.00e+00</td>\n",
       "      <td>0.00e+00</td>\n",
       "      <td>1.49e+02</td>\n",
       "      <td>3.52e+00</td>\n",
       "      <td>0.00e+00</td>\n",
       "    </tr>\n",
       "    <tr>\n",
       "      <th>1</th>\n",
<<<<<<< HEAD
       "      <td>1.86e-03</td>\n",
       "      <td>2.22e+01</td>\n",
       "      <td>0.00e+00</td>\n",
       "      <td>-4.60e+00</td>\n",
       "    </tr>\n",
       "    <tr>\n",
       "      <th>2</th>\n",
       "      <td>1.84e-03</td>\n",
       "      <td>2.52e+01</td>\n",
       "      <td>0.00e+00</td>\n",
       "      <td>-6.07e+00</td>\n",
       "    </tr>\n",
       "    <tr>\n",
       "      <th>3</th>\n",
       "      <td>1.80e-03</td>\n",
       "      <td>2.91e+01</td>\n",
       "      <td>0.00e+00</td>\n",
       "      <td>-8.22e+00</td>\n",
       "    </tr>\n",
       "    <tr>\n",
       "      <th>4</th>\n",
       "      <td>1.75e-03</td>\n",
       "      <td>3.45e+01</td>\n",
       "      <td>0.00e+00</td>\n",
       "      <td>-1.10e+01</td>\n",
=======
       "      <td>1.64e-03</td>\n",
       "      <td>3.07e+01</td>\n",
       "      <td>-4.81e+00</td>\n",
       "      <td>-4.38e+00</td>\n",
       "      <td>0.00e+00</td>\n",
       "      <td>1.39e+02</td>\n",
       "      <td>3.52e+00</td>\n",
       "      <td>0.00e+00</td>\n",
       "    </tr>\n",
       "    <tr>\n",
       "      <th>2</th>\n",
       "      <td>1.64e-03</td>\n",
       "      <td>3.63e+01</td>\n",
       "      <td>-4.34e+00</td>\n",
       "      <td>-5.31e+00</td>\n",
       "      <td>0.00e+00</td>\n",
       "      <td>1.40e+02</td>\n",
       "      <td>3.51e+00</td>\n",
       "      <td>0.00e+00</td>\n",
       "    </tr>\n",
       "    <tr>\n",
       "      <th>3</th>\n",
       "      <td>1.63e-03</td>\n",
       "      <td>4.17e+01</td>\n",
       "      <td>-3.41e+00</td>\n",
       "      <td>-6.75e+00</td>\n",
       "      <td>0.00e+00</td>\n",
       "      <td>1.42e+02</td>\n",
       "      <td>3.51e+00</td>\n",
       "      <td>0.00e+00</td>\n",
       "    </tr>\n",
       "    <tr>\n",
       "      <th>4</th>\n",
       "      <td>1.62e-03</td>\n",
       "      <td>4.70e+01</td>\n",
       "      <td>-2.06e+00</td>\n",
       "      <td>-8.70e+00</td>\n",
       "      <td>0.00e+00</td>\n",
       "      <td>1.45e+02</td>\n",
       "      <td>3.51e+00</td>\n",
       "      <td>0.00e+00</td>\n",
>>>>>>> Jack
       "    </tr>\n",
       "    <tr>\n",
       "      <th>...</th>\n",
       "      <td>...</td>\n",
       "      <td>...</td>\n",
       "      <td>...</td>\n",
       "      <td>...</td>\n",
       "      <td>...</td>\n",
       "      <td>...</td>\n",
       "      <td>...</td>\n",
       "      <td>...</td>\n",
       "    </tr>\n",
       "    <tr>\n",
       "      <th>495</th>\n",
<<<<<<< HEAD
       "      <td>-8.69e-05</td>\n",
       "      <td>3.21e+02</td>\n",
       "      <td>6.21e+01</td>\n",
       "      <td>-6.84e+01</td>\n",
       "    </tr>\n",
       "    <tr>\n",
       "      <th>496</th>\n",
       "      <td>-8.69e-05</td>\n",
       "      <td>3.21e+02</td>\n",
       "      <td>6.21e+01</td>\n",
       "      <td>-6.84e+01</td>\n",
       "    </tr>\n",
       "    <tr>\n",
       "      <th>497</th>\n",
       "      <td>-8.69e-05</td>\n",
       "      <td>3.21e+02</td>\n",
       "      <td>6.21e+01</td>\n",
       "      <td>-6.84e+01</td>\n",
       "    </tr>\n",
       "    <tr>\n",
       "      <th>498</th>\n",
       "      <td>-8.69e-05</td>\n",
       "      <td>3.21e+02</td>\n",
       "      <td>6.21e+01</td>\n",
       "      <td>-6.84e+01</td>\n",
       "    </tr>\n",
       "    <tr>\n",
       "      <th>499</th>\n",
       "      <td>-8.69e-05</td>\n",
       "      <td>3.21e+02</td>\n",
       "      <td>6.21e+01</td>\n",
       "      <td>-6.84e+01</td>\n",
=======
       "      <td>-1.47e-05</td>\n",
       "      <td>2.65e+02</td>\n",
       "      <td>2.04e+02</td>\n",
       "      <td>-2.12e+02</td>\n",
       "      <td>5.16e+01</td>\n",
       "      <td>3.24e+02</td>\n",
       "      <td>3.40e+00</td>\n",
       "      <td>7.84e-01</td>\n",
       "    </tr>\n",
       "    <tr>\n",
       "      <th>496</th>\n",
       "      <td>-1.47e-05</td>\n",
       "      <td>2.65e+02</td>\n",
       "      <td>2.04e+02</td>\n",
       "      <td>-2.12e+02</td>\n",
       "      <td>5.16e+01</td>\n",
       "      <td>3.24e+02</td>\n",
       "      <td>3.40e+00</td>\n",
       "      <td>7.84e-01</td>\n",
       "    </tr>\n",
       "    <tr>\n",
       "      <th>497</th>\n",
       "      <td>-1.47e-05</td>\n",
       "      <td>2.65e+02</td>\n",
       "      <td>2.04e+02</td>\n",
       "      <td>-2.12e+02</td>\n",
       "      <td>5.16e+01</td>\n",
       "      <td>3.24e+02</td>\n",
       "      <td>3.40e+00</td>\n",
       "      <td>7.84e-01</td>\n",
       "    </tr>\n",
       "    <tr>\n",
       "      <th>498</th>\n",
       "      <td>-1.47e-05</td>\n",
       "      <td>2.65e+02</td>\n",
       "      <td>2.04e+02</td>\n",
       "      <td>-2.12e+02</td>\n",
       "      <td>5.16e+01</td>\n",
       "      <td>3.24e+02</td>\n",
       "      <td>3.40e+00</td>\n",
       "      <td>7.84e-01</td>\n",
       "    </tr>\n",
       "    <tr>\n",
       "      <th>499</th>\n",
       "      <td>-1.47e-05</td>\n",
       "      <td>2.65e+02</td>\n",
       "      <td>2.04e+02</td>\n",
       "      <td>-2.12e+02</td>\n",
       "      <td>5.16e+01</td>\n",
       "      <td>3.24e+02</td>\n",
       "      <td>3.40e+00</td>\n",
       "      <td>7.84e-01</td>\n",
>>>>>>> Jack
       "    </tr>\n",
       "  </tbody>\n",
       "</table>\n",
       "<p>500 rows × 8 columns</p>\n",
       "</div>"
      ],
      "text/plain": [
<<<<<<< HEAD
       "          rho  T_in [C]  pwr [MW]  q''' [MW/m3]\n",
       "0    1.94e-03  2.00e+01  0.00e+00     -0.00e+00\n",
       "1    1.86e-03  2.22e+01  0.00e+00     -4.60e+00\n",
       "2    1.84e-03  2.52e+01  0.00e+00     -6.07e+00\n",
       "3    1.80e-03  2.91e+01  0.00e+00     -8.22e+00\n",
       "4    1.75e-03  3.45e+01  0.00e+00     -1.10e+01\n",
       "..        ...       ...       ...           ...\n",
       "495 -8.69e-05  3.21e+02  6.21e+01     -6.84e+01\n",
       "496 -8.69e-05  3.21e+02  6.21e+01     -6.84e+01\n",
       "497 -8.69e-05  3.21e+02  6.21e+01     -6.84e+01\n",
       "498 -8.69e-05  3.21e+02  6.21e+01     -6.84e+01\n",
       "499 -8.69e-05  3.21e+02  6.21e+01     -6.84e+01\n",
=======
       "          rho  T_in [C]  pwr [MW]  q''' [MW/m3]  W_s [MW]  T_SG [C]  \\\n",
       "0    1.66e-03  2.50e+01  0.00e+00     -0.00e+00  0.00e+00  1.49e+02   \n",
       "1    1.64e-03  3.07e+01 -4.81e+00     -4.38e+00  0.00e+00  1.39e+02   \n",
       "2    1.64e-03  3.63e+01 -4.34e+00     -5.31e+00  0.00e+00  1.40e+02   \n",
       "3    1.63e-03  4.17e+01 -3.41e+00     -6.75e+00  0.00e+00  1.42e+02   \n",
       "4    1.62e-03  4.70e+01 -2.06e+00     -8.70e+00  0.00e+00  1.45e+02   \n",
       "..        ...       ...       ...           ...       ...       ...   \n",
       "495 -1.47e-05  2.65e+02  2.04e+02     -2.12e+02  5.16e+01  3.24e+02   \n",
       "496 -1.47e-05  2.65e+02  2.04e+02     -2.12e+02  5.16e+01  3.24e+02   \n",
       "497 -1.47e-05  2.65e+02  2.04e+02     -2.12e+02  5.16e+01  3.24e+02   \n",
       "498 -1.47e-05  2.65e+02  2.04e+02     -2.12e+02  5.16e+01  3.24e+02   \n",
       "499 -1.47e-05  2.65e+02  2.04e+02     -2.12e+02  5.16e+01  3.24e+02   \n",
       "\n",
       "     P_SG [MPa]  Quality [X]  \n",
       "0      3.52e+00     0.00e+00  \n",
       "1      3.52e+00     0.00e+00  \n",
       "2      3.51e+00     0.00e+00  \n",
       "3      3.51e+00     0.00e+00  \n",
       "4      3.51e+00     0.00e+00  \n",
       "..          ...          ...  \n",
       "495    3.40e+00     7.84e-01  \n",
       "496    3.40e+00     7.84e-01  \n",
       "497    3.40e+00     7.84e-01  \n",
       "498    3.40e+00     7.84e-01  \n",
       "499    3.40e+00     7.84e-01  \n",
>>>>>>> Jack
       "\n",
       "[500 rows x 8 columns]"
      ]
     },
<<<<<<< HEAD
     "execution_count": 151,
=======
     "execution_count": 20,
>>>>>>> Jack
     "metadata": {},
     "output_type": "execute_result"
    }
   ],
   "source": [
    "'''Get Post-Processing Quantities (not part of state of the system)'''\n",
    "\n",
    "quant = get_quantities(u_vec_history, params)\n",
    "quant"
   ]
  },
  {
   "cell_type": "code",
<<<<<<< HEAD
   "execution_count": 152,
=======
   "execution_count": 21,
>>>>>>> Jack
   "metadata": {
    "scrolled": false
   },
   "outputs": [
    {
     "data": {
<<<<<<< HEAD
      "image/png": "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\n",
=======
      "image/png": "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\n",
>>>>>>> Jack
      "text/plain": [
       "<Figure size 1008x432 with 2 Axes>"
      ]
     },
     "metadata": {
      "needs_background": "light"
     },
     "output_type": "display_data"
    },
    {
     "name": "stdout",
     "output_type": "stream",
     "text": [
      "\n"
     ]
    }
   ],
   "source": [
    "'''Plot neutron and delayed neutron emitter concentration in the reactor'''\n",
    "\n",
    "plot_results(u_vec_history, normalize=False)"
   ]
  },
  {
   "cell_type": "code",
<<<<<<< HEAD
   "execution_count": 153,
   "metadata": {},
   "outputs": [
    {
     "data": {
      "image/png": "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\n",
=======
   "execution_count": 22,
   "metadata": {
    "scrolled": true
   },
   "outputs": [
    {
     "data": {
      "image/png": "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\n",
>>>>>>> Jack
      "text/plain": [
       "<Figure size 1152x432 with 1 Axes>"
      ]
     },
     "metadata": {
      "needs_background": "light"
     },
     "output_type": "display_data"
    },
    {
     "name": "stdout",
     "output_type": "stream",
     "text": [
      "\n"
     ]
    }
   ],
   "source": [
    "'''Plot Temperatures'''\n",
    "\n",
    "plot_temperature_results(u_vec_history, quant, params, time_unit='min')"
   ]
  },
  {
   "cell_type": "markdown",
   "metadata": {},
   "source": [
    "## [References](#toc)\n",
    "\n",
    "1. Nuclear Reactor Engineering, [Engy-4350](https://github.com/dpploy/engy-4350) UMass Lowell, Dept. Chemical Engineering."
   ]
<<<<<<< HEAD
  },
  {
   "cell_type": "code",
   "execution_count": null,
   "metadata": {},
   "outputs": [],
   "source": []
=======
>>>>>>> Jack
  }
 ],
 "metadata": {
  "kernelspec": {
   "display_name": "Python 3",
   "language": "python",
   "name": "python3"
  },
  "language_info": {
   "codemirror_mode": {
    "name": "ipython",
    "version": 3
   },
   "file_extension": ".py",
   "mimetype": "text/x-python",
   "name": "python",
   "nbconvert_exporter": "python",
   "pygments_lexer": "ipython3",
   "version": "3.7.9"
  },
  "latex_envs": {
   "LaTeX_envs_menu_present": true,
   "autoclose": false,
   "autocomplete": true,
   "bibliofile": "biblio.bib",
   "cite_by": "apalike",
   "current_citInitial": 1,
   "eqLabelWithNumbers": true,
   "eqNumInitial": 1,
   "hotkeys": {
    "equation": "Ctrl-E",
    "itemize": "Ctrl-I"
   },
   "labels_anchors": false,
   "latex_user_defs": false,
   "report_style_numbering": false,
   "user_envs_cfg": false
  }
 },
 "nbformat": 4,
 "nbformat_minor": 2
}
