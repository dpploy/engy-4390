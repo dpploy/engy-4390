{
 "cells": [
  {
   "cell_type": "markdown",
   "metadata": {},
   "source": [
    "This is a test for the steamer function operating with a new function.\n"
   ]
  },
  {
   "cell_type": "code",
   "execution_count": 32,
   "metadata": {},
   "outputs": [
    {
     "name": "stdout",
     "output_type": "stream",
     "text": [
      "3207120.4491550066\n",
      "3207.1204491550066\n",
      "308.85135135135135\n",
      "0.09122253133226836 0.21694015444015444\n",
      "253.51016336973424\n",
      "1.5153852961886751 0.988235499671734\n"
     ]
    }
   ],
   "source": [
    "import math\n",
    "#conditions at ss values\n",
    "Tpi = 321 #c\n",
    "Tpog = 265 #c\n",
    "Tsi = 149 #c\n",
    "Tsog = 307 #c\n",
    "mp = 666 #kg/s\n",
    "ms = 87 #kg/s\n",
    "cp = 4148 #j/kgk\n",
    "U = 1000 #w/k-m2\n",
    "DHvap = 1757285 # j/kg\n",
    "def dtlm(T1,T2,t1,t2):\n",
    "    dtlm = ((T1-t2)-(T2-t1))/math.log1p((T1-t2)/(T2-t1)-1)\n",
    "    return dtlm\n",
    "\n",
    "#the log mean of the guess is calulated as\n",
    "lmg = dtlm(Tpi,Tpog,Tsi,Tsog)\n",
    "Qtot = mp*cp*(Tpi-Tpog) #w\n",
    "UA = Qtot/lmg #w/k\n",
    "print(UA)\n",
    "Atot = UA/U\n",
    "print(Atot)\n",
    "\n",
    "#phase 1 calulations\n",
    "Tb = 242 #C\n",
    "Q1 = ms*cp*(Tb-Tsi)\n",
    "Tp1 = -Q1/(mp*cp)+Tpi\n",
    "lm1 = dtlm(Tpi,Tp1,Tsi,Tb)\n",
    "A1 = Q1/(U*lm1)\n",
    "print(Tp1)\n",
    "print(A1/Atot,Q1/Qtot)\n",
    "\n",
    "#phase 2 calculations\n",
    "Q2 = ms*DHvap\n",
    "Tp2 = -Q2/(mp*cp)+Tp1\n",
    "lm2 = dtlm(Tp1,Tp2,Tb,Tb)\n",
    "A2 = Q2/(U*lm2)\n",
    "print(Tp2)\n",
    "print(A2/Atot,Q2/Qtot)"
   ]
  },
  {
   "cell_type": "code",
   "execution_count": null,
   "metadata": {},
   "outputs": [],
   "source": []
  }
 ],
 "metadata": {
  "kernelspec": {
   "display_name": "Python 3",
   "language": "python",
   "name": "python3"
  },
  "language_info": {
   "codemirror_mode": {
    "name": "ipython",
    "version": 3
   },
   "file_extension": ".py",
   "mimetype": "text/x-python",
   "name": "python",
   "nbconvert_exporter": "python",
   "pygments_lexer": "ipython3",
   "version": "3.7.6"
  }
 },
 "nbformat": 4,
 "nbformat_minor": 4
}
