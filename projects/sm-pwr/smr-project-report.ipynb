{
 "cells": [
  {
   "cell_type": "markdown",
   "metadata": {},
   "source": [
    "**Engy-4390** Nuclear Systems Design and Analysis, UMass Lowell, Chem. Eng. Nuclear Program Fall 2020\n",
    "\n",
    "# NuScale 720 SMR BoP Simulation Final Report\n",
    "$  \n",
    "  \\newcommand{\\Amtrx}{\\boldsymbol{\\mathsf{A}}}\n",
    "  \\newcommand{\\Bmtrx}{\\boldsymbol{\\mathsf{B}}}\n",
    "  \\newcommand{\\Mmtrx}{\\boldsymbol{\\mathsf{M}}}\n",
    "  \\newcommand{\\Imtrx}{\\boldsymbol{\\mathsf{I}}}\n",
    "  \\newcommand{\\Pmtrx}{\\boldsymbol{\\mathsf{P}}}\n",
    "  \\newcommand{\\Lmtrx}{\\boldsymbol{\\mathsf{L}}}\n",
    "  \\newcommand{\\Umtrx}{\\boldsymbol{\\mathsf{U}}}\n",
    "  \\newcommand{\\Smtrx}{\\boldsymbol{\\mathsf{S}}}\n",
    "  \\newcommand{\\xvec}{\\boldsymbol{\\mathsf{x}}}\n",
    "  \\newcommand{\\uvar}{\\boldsymbol{u}}\n",
    "  \\newcommand{\\fvar}{\\boldsymbol{f}}\n",
    "  \\newcommand{\\avec}{\\boldsymbol{\\mathsf{a}}}\n",
    "  \\newcommand{\\bvec}{\\boldsymbol{\\mathsf{b}}}\n",
    "  \\newcommand{\\cvec}{\\boldsymbol{\\mathsf{c}}}\n",
    "  \\newcommand{\\rvec}{\\boldsymbol{\\mathsf{r}}}\n",
    "  \\newcommand{\\mvec}{\\boldsymbol{\\mathsf{m}}}\n",
    "  \\newcommand{\\gvec}{\\boldsymbol{\\mathsf{g}}}\n",
    "  \\newcommand{\\zerovec}{\\boldsymbol{\\mathsf{0}}}\n",
    "  \\newcommand{\\norm}[1]{\\bigl\\lVert{#1}\\bigr\\rVert}\n",
    "  \\newcommand{\\transpose}[1]{{#1}^\\top}\n",
    "  \\DeclareMathOperator{\\rank}{rank}\n",
    "  \\newcommand{\\Power}{\\mathcal{P}}\n",
    "$"
   ]
  },
  {
   "cell_type": "markdown",
   "metadata": {},
   "source": [
    "**Course:** Engy-4390 Nuclear Systems Design and Analysis  <br>\n",
    "**Students:** Jack and Nik <br>\n",
    "**Mentor:** Prof. Valmor F. de Almeida\n",
    "\n",
    "UMass Lowell, Dept. of Chemical Engineering, Nuclear Energy Program \n",
    "<br>\n",
    "**11Dec2020**"
   ]
  },
  {
   "cell_type": "markdown",
   "metadata": {},
   "source": [
    "---\n",
    "## Table of Contents<a id=\"toc\"></a>\n",
    "* [Objectives](#obj)\n",
    "* [Introduction](#intro)\n",
    "* [Problem Statement](#ps)\n",
    "* [Input Data](#data)\n",
    "* [Steady state](#ss)\n",
    "* [Vector ODE System](#vodes)\n",
    "* [Function library](#flib)\n",
    " - [Reactor](#reactor)\n",
    " - [Turbine](#turbine)\n",
    " - [Steam Generator](#steam)\n",
    "* [One-Group Energy Neutron Balance](#nbal)\n",
    "* [Reactivity Step with Negative Feedback Results](#res1)\n",
    "* [Interactive Results](#ires)\n",
    "---"
   ]
  },
  {
   "cell_type": "markdown",
   "metadata": {},
   "source": [
    "## [Objectives](#toc)<a id=\"obj\"></a>\n",
    "+ Use one-group energy, two-temperature, point-reactor dynamics modeling (six-group delayed neutron emitters) to obtain insight on neutron density behavior with time-dependent reactivity.\n",
    "+ Explore and understand intrinsic temperature reactivity coefficient feedback from nuclear sources."
   ]
  },
  {
   "cell_type": "markdown",
   "metadata": {},
   "source": [
    "## [Introduction](#toc)<a id=\"intro\"></a>\n",
    "\n",
    "In-class course notes OneNote [ChEn-4350-feedback](https://studentuml-my.sharepoint.com/:o:/g/personal/valmor_dealmeida_uml_edu/Eo9JUns42F1Pqmq4tFS9sJsBVLgYLkr32CyVyPpC77PtnA?e=AKOmcb).\n",
    "\n",
    "Refer to Notebook 03.\n"
   ]
  },
  {
   "cell_type": "markdown",
   "metadata": {},
   "source": [
    "## [Problem Statement](#toc)<a id=\"ps\"></a>\n",
    "\n",
    "Consider a high temperature gas cooled reactor, with UO$_2$ fuel and a graphite moderator.\n",
    "Given the neutron generation time $\\ell$, delayed neutron fraction, $\\beta$, decay constants of a six-group delayed neutron emitters, $\\lambda_i$, and corresponding yield of delayed neutron fractions for each emitter, $\\beta_i$, calculate the pointwise neutron density variation with time for **varying** neutron reactivity, $\\rho(t)$.\n",
    "\n",
    "![](images/point-reactor-hx.png)"
   ]
  },
  {
   "cell_type": "markdown",
   "metadata": {},
   "source": [
    "# [Input Data](#toc)<a id=\"data\"></a>\n",
    "\n",
    "Data pertaining to one-group energy neutron balance. \n",
    "\n",
    "Name                        | Parameter     | Value                | Unit             |\n",
    "----------------------------|---------------|----------------------|------------------| \n",
    "neutron generation time                           | $\\ell$             | $1\\times 10^{-4}$    |  s | \n",
    "delayed neutron fraction                          | $\\beta$            | $6.5\\times 10^{-3}$  |  - |\n",
    "neutron diffusion coeff.                          | $D$                | $0.84$              | cm |\n",
    "core radius                                       | $R$                | $1.8\\times 10^{2}$  | cm  |\n",
    "core height                                       | $H$                | $2.8\\times 10^{2}$  | cm  |\n",
    "infinite medium neutron reproduction factor       | $k_\\infty$ | 1.118 | - |\n",
    "graphite effective macroscopic absorption cross section ref. | $\\overline{\\Sigma}_\\text{a}^\\text{(o)} $ | $2.74\\times 10^{-4}$ |  cm$^{-1}$ |\n",
    "other quantities; possibly microscopic cross sections | . | . |\n",
    ". | . | . |\n",
    "\n",
    "For thermal fission of $^{235}$U the following six-group delayed neutron precursors data is typically used (*Physics of Nuclear Kinetics*, G. R. Keepin, 1965, Addison-Wesley Pub. Co.):\n",
    "\n",
    "\n",
    "Delayed neutron emitter group No. | Decay cte ($\\lambda_i$,1/sec) | Relative yield ($\\beta_i/\\beta$) |\n",
    "----------------------------------|-------------------------------|----------------------------------| \n",
    "1                                 | 0.0124                        | 0.033                            |\n",
    "2                                 | 0.0305                        | 0.219                            | \n",
    "3                                 | 0.111                         | 0.196                            |  \n",
    "4                                 | 0.301                         | 0.395                            | \n",
    "5                                 | 1.14                          | 0.115                            |\n",
    "6                                 | 3.01                          | 0.042                            |"
   ]
  },
  {
   "cell_type": "markdown",
   "metadata": {},
   "source": [
    "Data pertaining to two-temperature heat balances.\n",
    "\n",
    "Name                        | Parameter     | Value                | Unit             |\n",
    "----------------------------|---------------|----------------------|------------------| \n",
    "fission energy per fission                        | $G_\\text{f}$  | 180               | MeV/fission |\n",
    "$^{235}$U fuel enrichment                         | $\\epsilon$ | 3 | wt% |\n",
    "UO$_2$ fuel material mass density                 | $\\rho_\\text{fm}$ | 10.5 | g/cc |\n",
    "moderator-fuel ratio (atomic number concentration) | $N^{M}/N^{U}$ | 387 |\n",
    "$^{235}$U thermal microscopic fission cross section | $\\sigma_{\\text{f}_\\text{o}}$ | 586.2 | barn |\n",
    "thermal neutron temperature                       | $T^{(\\text{o})}$ | 20 | C |\n",
    "thermal neutron velocity                          | $v_\\text{(o)}$     | 2200 | m/s |\n",
    "heat transport coeff. | . | . | . |\n",
    "fuel/moderator heat capacity | . | . | . |\n",
    "coolant heat capacity | . | . | . |\n",
    "fuel/moderator mass density | . | . | . |\n",
    "coolant mass density | . | . | . |\n",
    "moderator/fuel volume | . | . | . |\n",
    "coolant volume | . | . | . |\n",
    "coolant flow rate | . | . | . |\n",
    "\n",
    "The residence time of the coolant in the core\n",
    "\n",
    "\\begin{equation*}\n",
    "\\tau = V_c / q_c\n",
    "\\end{equation*}\n"
   ]
  },
  {
   "cell_type": "code",
   "execution_count": 1,
   "metadata": {},
   "outputs": [
    {
     "name": "stdout",
     "output_type": "stream",
     "text": [
      "hello i'd like to welcome you good day that is my name\n",
      "0.0001538\n"
     ]
    }
   ],
   "source": [
    "'''Parameters'''\n",
    "import math\n",
    "params = dict()\n",
    "\n",
    "#Data pertaining to one-group energy neutron balance\n",
    "params['gen_time']     = 1.0e-4  # s\n",
    "params['beta']         = 6.5e-3  # \n",
    "#params['diff_coeff']   = 0.84 # cm\n",
    "#params['core radius']  = 1.8e+2 # cm\n",
    "#arams['core_height']  = 2.8e+2 # cm\n",
    "params['k_infty']      = 1.49826\n",
    "params['buckling'] = 1.538e-4\n",
    "#params['Sigma_a']      = 2.74e-4 # 1/cm\n",
    "params['q_0'] = 0\n",
    "\n",
    "#params['alpha_tn_fake'] = 0 # -1.0e-6\n",
    "\n",
    "params['n_dens_ss_operation'] = 1 #1.963e13/2200 * 1e4 #  #neutrons/m^2\n",
    "\n",
    "params['alpha_n'] = -0.55e-3 # control rod reactivity worth\n",
    "\n",
    "#Delayed neutron emission\n",
    "params['species_decay']     = [0.0124, 0.0305, 0.111, 0.301, 1.14, 3.01] # 1/sec\n",
    "params['species_rel_yield'] = [0.033, 0.219, 0.196, 0.395, 0.115, 0.042] \n",
    "\n",
    "#Data pertaining to two-temperature heat balances\n",
    "params['fis_energy']           = 180 * 1.602e-13 # J/fission \n",
    "params['enrich']               = 5/100.\n",
    "params['fuel_mat_mass_dens']   = 10.8 # g/cc\n",
    "#params['moderator_fuel_ratio'] = 387 # atomic number concentration ratio\n",
    "params['sigma_f_o']            = 586.2 * 100 * 1e-30 # m2\n",
    "params['temp_o']               = 20 + 273.15 # K\n",
    "params['temp_c_ss_operation']  =265 +273.15# K desired ss operation temp of coolant\n",
    "params['thermal_neutron_velo'] = 2200 # m/s\n",
    "\n",
    "params['fis_nuclide_num_dens_fake'] = 9.84e26 # (fissile nuclei)/m3\n",
    "\n",
    "params['q_c'] = .89755 # volumetric flow rate\n",
    "\n",
    "params['fuel_dens']   = 10800 # kg/m3\n",
    "params['cp_fuel']     = 300 # J/(kg K)\n",
    "params['fuel_volume'] = .8565 # m3\n",
    "\n",
    "params['coolant_dens']   = 742.02 #  kg/m3\n",
    "params['cp_coolant']     =  4000# J/(mol K) - > J/(kg K)\n",
    "params['coolant_volume'] = 62.94 # m3\n",
    "\n",
    "params['ht_coeff'] = 3571429 # W/K\n",
    "\n",
    "params['m2'] = 28.44\n",
    "\n",
    "#params['hx_dt'] = 11 + 273.15 # K  heat exchanger primary look temp difference\n",
    "\n",
    "params['fis_prod_beta_energy_rate']  = 1.26 * 1.602e-13 # J/(fission sec) 1.26 t^-1.2 (t in seconds)\n",
    "params['fis_prod_alpha_energy_rate'] = 1.40 * 1.602e-13 # J/(fission sec) 1.40 t^-1.2 (t in seconds)\n",
    "print(\"hello i'd like to welcome you good day that is my name\")\n",
    "def testing ():\n",
    "    buckling = params['buckling']\n",
    "    return buckling\n",
    "a = 32\n",
    "buckling = testing()\n",
    "print(buckling)\n"
   ]
  },
  {
   "cell_type": "markdown",
   "metadata": {},
   "source": [
    "## [One-Group Energy  Neutron Balance](#toc)<a id=\"nbal\"></a>\n",
    "\n",
    "The space-invariant neutron balance for the point-reactor model is\n",
    "\n",
    "\\begin{equation*}\n",
    "\\frac{\\text{d}n}{\\text{d}t}  = \\frac{\\rho(t)-\\beta}{\\ell}\\, n + \\sum\\limits_{i=1}^{6} \\lambda_i\\,c_i  + q(t),\n",
    "\\end{equation*}\n",
    "\n",
    "where the first term on the right side of the equation represents the net production of neutrons not accounting for delayed neutrons, and the second term accounts for the source of delayed neutrons considering 6 groups of delayed neutron emitters resulting from the fission of $^{235}$U nuclei. Therefore a balance of neutron emitter species is also necessary\n",
    "\n",
    "\\begin{equation*}\n",
    "\\frac{\\text{d}c_i}{\\text{d}t}  = \\frac{\\beta_i}{\\ell}\\, n - \\lambda_i\\,c_i ,\n",
    "     \\ \\ \\ \\ \\ \\forall \\ \\ \\ \\ \\  i=1,\\ldots,6.\n",
    "\\end{equation*}\n",
    "\n",
    "where the first term on the right side of the equation is the source of emitters as a function of the neutron number density $n(t)$, and the second term is the consumption rate of the emitter by radioactive decay obtained as a function of the product of the number concentration of the emmiter, $c_i(t)$, multiplied by its decay constant $\\lambda_i$. Here the number concentration of of the $i$th emitter, $c_i$ is considered in terms of delayed neutron number density, hence the units are the same as $n$.\n",
    "\n",
    "The current model considers the temperature reactivity coefficient, $\\alpha_{T_n}$, that is, \n",
    "\n",
    "\\begin{equation*}\n",
    " \\rho(t) = \\rho_0 + \\alpha_{T_n}(T_f)\\,\\bigl(T_f(t) - T^{(0)}\\bigr),\n",
    "\\end{equation*}\n",
    "\n",
    "where basic nuclear effects are taking into account through the sub-model\n",
    "\n",
    "\\begin{equation*}\n",
    " \\alpha_{T_n}(T) = - \\frac{B^2\\,D}{2\\,k_\\infty\\,\\overline{\\Sigma}_a^{(\\text{o})}\\,\\sqrt{T^\\text{(o)}\\,T}}.\n",
    "\\end{equation*}\n",
    "\n",
    "A heat balance in the static fuel dispersed into the moderator gives\n",
    "\n",
    "\\begin{equation*}\n",
    "\\frac{\\text{d}T_f}{\\text{d}t} = - \\frac{1}{\\rho_f\\,c_{pf}}\\biggl(q^{'''}(t) - \\frac{\\dot{Q}_\\text{f}}{V_f} \\biggr) \n",
    "\\end{equation*}\n",
    "\n",
    "where the heat rate sink in the fuel/moderator is \n",
    "\n",
    "\\begin{equation*}\n",
    "{\\dot{Q}_\\text{f}} = -UA\\bigl(T_f-T_c\\bigr), \n",
    "\\end{equation*}\n",
    "\n",
    "and the nuclear heating power is given by\n",
    "\n",
    "\\begin{equation*}\n",
    "q^{'''}(t) = G_f\\frac{\\sqrt{\\pi}}{2}\\,\\sigma_\\text{fo}\\,\\sqrt{\\frac{T^\\text{(o)}}{T}}\\,\\biggl(\\frac{\\epsilon\\,w_\\text{fs}\\,\\rho_\\text{fm}}{M_\\text{fn}}\\,i\\,N_A\\biggr)\\,n(t)\\,v_\\text{(o)} .\n",
    "\\end{equation*}\n",
    "\n",
    "A heat balance in the flowing coolant fluid produces\n",
    "\n",
    "\\begin{equation*}\n",
    "\\frac{\\text{d}T_c}{\\text{d}t} = -\\frac{1}{\\tau_c}\\biggl(T_c-T_{in}\\biggr)  \n",
    "                                - \\frac{1}{\\rho_c\\,c_{pc}}\\biggl( \\frac{\\dot{Q}_\\text{f}}{V_c} \\biggr) \n",
    "\\end{equation*}\n",
    "\n",
    "where the heat rate source is the negative of the heat rate sink in the fuel/moderator."
   ]
  },
  {
   "cell_type": "markdown",
   "metadata": {},
   "source": [
    "## [Steady State](#toc)<a id=\"ss\"></a>\n",
    "\n",
    "Neutron density and delayed neutron precursor concentrations are related as follows:\n",
    "\n",
    "\\begin{align*}\n",
    "n_\\text{ss}  &= -\\frac{q_\\text{ss}\\,\\ell }{\\rho_\\text{ss} }\n",
    "\\\\\n",
    "c_{i_\\text{ss}}  &= \\frac{\\beta_i}{\\lambda_i\\,\\ell}\\, n_\\text{ss}   \\ \\ \\ \\ \\forall \\ \\ \\ \\ i=1,\\ldots,6 .\n",
    "\\end{align*}"
   ]
  },
  {
   "cell_type": "code",
   "execution_count": 2,
   "metadata": {
    "code_folding": [
     2
    ]
   },
   "outputs": [
    {
     "name": "stdout",
     "output_type": "stream",
     "text": [
      "done\n"
     ]
    }
   ],
   "source": [
    "'''Setup function for delayed neutron species concentrations at steady state'''\n",
    "\n",
    "def setup_initial_conditions(params):\n",
    "    \n",
    "    # setup the steady state for the delayed-neutron precursors\n",
    "    \n",
    "    n_species = len(params['species_decay'])\n",
    "    \n",
    "    assert len(params['species_rel_yield']) == n_species\n",
    "    \n",
    "    import numpy as np\n",
    "    c_vec_0 = np.zeros(n_species,dtype=np.float64) # initialize conentration vector\n",
    "\n",
    "    species_decay = params['species_decay'] # retrieve list of decay constants\n",
    "    lambda_vec    = np.array(species_decay) # create a numpy vector\n",
    "\n",
    "    species_rel_yield = params['species_rel_yield']\n",
    "    beta_vec = np.array(species_rel_yield) * beta  # create the beta_i's vector\n",
    "\n",
    "    gen_time = params['gen_time'] # retrieve neutron generation time\n",
    "\n",
    "    n_ss = params['n_ss']\n",
    "    c_vec_ss = beta_vec/lambda_vec/gen_time * n_ss # compute the steady state precursors number density\n",
    "    \n",
    "    params['c_vec_ss'] = c_vec_ss\n",
    "    \n",
    "    # setup initial condition for variables\n",
    "    params['n_0']     = n_ss\n",
    "    params['c_vec_0'] = c_vec_ss\n",
    "    params['rho_0']   = params['reactivity']\n",
    "    \n",
    "    params['temp_f_0'] = 300\n",
    "    params['temp_c_0'] = params['temp_0']\n",
    "    \n",
    "    return\n",
    "print(\"done\")"
   ]
  },
  {
   "cell_type": "markdown",
   "metadata": {},
   "source": [
    "## [Vector ODE System](#toc)<a id=\"vodes\"></a>\n",
    "\n",
    "Refer to course notes OneNote [ChEn-3170-odes](https://studentuml-my.sharepoint.com/:o:/g/personal/valmor_dealmeida_uml_edu/EmY427F-dSBKkpfFOx4ikf8BVAlJXL5iep1g7V7hcTQxJQ?e=98c69b).\n",
    "\n",
    "A vector notation for the foregoing system of equations greatly improves the generality of the derived computer code. Towards this goal let us define\n",
    "\n",
    "\\begin{equation*}\n",
    "\\frac{d\\uvar}{dt} = \\fvar( \\uvar, t )\n",
    "\\end{equation*}\n",
    "\n",
    "where $\\uvar(t) = (u_1,u_2,u_3,u_4,u_5,u_6,u_7)$ is the state vector and we assign \n",
    "\n",
    "\\begin{align*}\n",
    " u_1(t)&=n(t),\\\\\n",
    " u_2(t)&=c_1(t),\\\\\n",
    " u_3(t)&=c_2(t),\\\\\n",
    " u_4(t)&=c_3(t),\\\\\n",
    " u_5(t)&=c_4(t),\\\\\n",
    " u_6(t)&=c_5(t),\\\\\n",
    " u_7(t)&=c_6(t),\\\\\n",
    " u_8(t)&=T_f(t),\\\\\n",
    " u_9(t)&=T_c(t).\n",
    "\\end{align*}\n",
    "\n",
    "Also for $\\fvar(\\uvar,t) = \\bigl(f_1(\\uvar,t), f_2(\\uvar,t), f_3(\\uvar,t), f_4(\\uvar,t), f_5(\\uvar,t), f_6(\\uvar,t), f_7(\\uvar,t)\\bigr)$ we assign \n",
    "\n",
    "\\begin{align*}\n",
    " f_1 & = \\frac{\\rho(t)-\\beta}{\\ell}\\, u_1 + \\sum\\limits_{i=2}^{7} \\lambda_i\\,u_i + q(t), \\\\\n",
    " f_2 & = \\frac{\\beta_1}{\\ell}\\, u_1 - \\lambda_1\\,u_2, \\\\\n",
    " f_3 & = \\frac{\\beta_2}{\\ell}\\, u_1 - \\lambda_2\\,u_3, \\\\\n",
    " f_4 & = \\frac{\\beta_3}{\\ell}\\, u_1 - \\lambda_3\\,u_4, \\\\\n",
    " f_5 & = \\frac{\\beta_4}{\\ell}\\, u_1 - \\lambda_4\\,u_5, \\\\\n",
    " f_6 & = \\frac{\\beta_5}{\\ell}\\, u_1 - \\lambda_5\\,u_6, \\\\\n",
    " f_7 & = \\frac{\\beta_6}{\\ell}\\, u_1 - \\lambda_6\\,u_7,  \\\\\n",
    " f_8 & = - \\frac{1}{\\rho_f\\,c_{pf}}\\biggl(q^{'''}(t) - \\frac{\\dot{Q}_\\text{f}}{V_f} \\biggr), \\\\\n",
    " f_9 & = -\\frac{1}{\\tau_c}\\biggl(T_c-T_{in}\\biggr)  \n",
    "                                - \\frac{1}{\\rho_c\\,c_{pc}}\\biggl( \\frac{\\dot{Q}_\\text{f}}{V_c} \\biggr).\n",
    "\\end{align*}\n",
    "\n",
    "Finally, the initial conditions given are as follows:\n",
    "\n",
    "\\begin{align*}\n",
    " u_1(0)&=n_0,\\\\\n",
    " u_2(0)&=c_{1_0},\\\\\n",
    " u_3(0)&=c_{2_0},\\\\\n",
    " u_4(0)&=c_{3_0},\\\\\n",
    " u_5(0)&=c_{4_0},\\\\\n",
    " u_6(0)&=c_{5_0},\\\\\n",
    " u_7(0)&=c_{6_0},\\\\\n",
    " u_8(0)&=T_{f_0},\\\\\n",
    " u_9(0)&=T_{c_0}\n",
    "\\end{align*}\n",
    "\n",
    "\n",
    "where $n_0$ and $c_{i_0}$ are initial values for the unknowns given by the problem specification."
   ]
  },
  {
   "cell_type": "markdown",
   "metadata": {},
   "source": [
    "## [Function Library](#toc) <a id=\"flib\"></a>\n",
    "\n",
    "Functions used later in the notebook."
   ]
  },
  {
   "cell_type": "markdown",
   "metadata": {},
   "source": [
    "Reactivity coefficient based on nuclear effects through the sub-model. As this reactor uses a two-group neutron transport model (since water is both the moderator and the coolant), the derived equation is slightly different. M is the neutron transport area, which replaces L.\n",
    "\n",
    "\\begin{equation*}\n",
    "\\alpha_{T_n}(T) = - 2 \\frac{B^2\\,M^2}{k_\\infty}\\, 0.320886 \\, (1 / T)^{0.75}\n",
    "\\end{equation*}"
   ]
  },
  {
   "cell_type": "code",
   "execution_count": 3,
   "metadata": {
    "code_folding": []
   },
   "outputs": [],
   "source": [
    "'''Reactivity coefficient function'''\n",
    "\n",
    "def alpha_tn_func(temp):\n",
    "    '''\n",
    "    Place holder for implementation\n",
    "    '''\n",
    "    \n",
    "    buckling = params['buckling']\n",
    "    m2 = params['m2']\n",
    "    k_infty = params['k_infty']\n",
    "    T = temp\n",
    "    \n",
    "    alpha_tn = -2 * (buckling **2)  * math.sqrt(m2) * (1 / k_infty) * 0.320886 * (1 / T)**0.75\n",
    "    \n",
    "    \n",
    "    return alpha_tn\n",
    "\n",
    "none = 0\n",
    "nonner = 560.35\n"
   ]
  },
  {
   "cell_type": "code",
   "execution_count": 4,
   "metadata": {
    "code_folding": []
   },
   "outputs": [],
   "source": [
    "'''Reactivity function'''\n",
    "\n",
    "def rho_func( t, n_dens, temp, params ):\n",
    "    '''\n",
    "    Reactivity function.  \n",
    "    \n",
    "    Parameters\n",
    "    ----------\n",
    "    t: float, required\n",
    "        Time.\n",
    "    temp_f: float, required\n",
    "        Temperature at time t.\n",
    "    params: dict, required\n",
    "        Dictionary of quantities. It must have a `'rho_0'` key/value pair.\n",
    "    \n",
    "    Returns\n",
    "    -------\n",
    "    rho_t: float\n",
    "        Value of reactivity.\n",
    "\n",
    "    Examples\n",
    "    --------\n",
    "    '''\n",
    "    \n",
    "    rho_0  = params['rho_0']\n",
    "    temp_ref = params['temp_c_ss_operation']\n",
    "    n_dens_ss_operation = params['n_dens_ss_operation']\n",
    "    alpha_n = params['alpha_n']\n",
    "    \n",
    "    alpha_tn = alpha_tn_func(temp)\n",
    "    \n",
    "    rho_t = rho_0 + alpha_n * (n_dens) + alpha_tn * (temp - temp_ref)\n",
    "    \n",
    "    #print(rho_t)\n",
    "    #print(n_dens)\n",
    "        \n",
    "    return rho_t"
   ]
  },
  {
   "cell_type": "code",
   "execution_count": 5,
   "metadata": {
    "code_folding": [
     2
    ]
   },
   "outputs": [],
   "source": [
    "'''Source function'''\n",
    "\n",
    "def q_source( t, params ):\n",
    "    '''\n",
    "    Neutron source delta function.  \n",
    "    \n",
    "    Parameters\n",
    "    ----------\n",
    "    t: float, required\n",
    "        Time.\n",
    "    params: dict, required\n",
    "        Dictionary of quantities. It must have a `'q_0'` key/value pair.\n",
    "    \n",
    "    Returns\n",
    "    -------\n",
    "    q: float\n",
    "        Value of source.\n",
    "\n",
    "    Examples\n",
    "    --------\n",
    "    '''\n",
    "    \n",
    "    q = 0\n",
    "    q_0 = params['q_0']\n",
    "    \n",
    "    if t <= 1e-5: # small time value\n",
    "        q = q_0\n",
    "    else:\n",
    "        q = 0.0\n",
    "        \n",
    "    return q\n",
    "\n",
    "#print(\"done\")"
   ]
  },
  {
   "cell_type": "markdown",
   "metadata": {},
   "source": [
    "The effective fission microscopic cross section for thermal neutrons will be taken as:\n",
    "\n",
    "\\begin{equation*}\n",
    "\\overline{\\sigma}_\\text{f}(T) = \\frac{\\sqrt{\\pi}}{2}\\,\\sigma_\\text{fo}\\,\\sqrt{\\frac{T^\\text{(o)}}{T}}\n",
    "\\end{equation*}"
   ]
  },
  {
   "cell_type": "code",
   "execution_count": 6,
   "metadata": {
    "code_folding": []
   },
   "outputs": [
    {
     "name": "stdout",
     "output_type": "stream",
     "text": [
      "3.661198380906409e-26\n"
     ]
    }
   ],
   "source": [
    "'''Effective microscopic fission cross section'''\n",
    "\n",
    "def sigma_fis_func( temp, params ):\n",
    "    '''\n",
    "    Place holder for implementation\n",
    "    '''\n",
    "    \n",
    "    sigma_f_fake = params['sigma_f_o'] * math.sqrt(298/temp) * math.sqrt(math.pi) * 0.5\n",
    "    \n",
    "    return sigma_f_fake\n",
    "\n",
    "print(sigma_fis_func(600, params))\n"
   ]
  },
  {
   "cell_type": "markdown",
   "metadata": {},
   "source": [
    "The nuclear heating power is given by\n",
    "\n",
    "\\begin{equation*}\n",
    "q^{'''}(t) = G_f\\,\\overline{\\sigma}_\\text{f}(T)\\,N_\\text{fn} \\,\\varphi(t) .\n",
    "\\end{equation*}"
   ]
  },
  {
   "cell_type": "code",
   "execution_count": 7,
   "metadata": {
    "code_folding": []
   },
   "outputs": [],
   "source": [
    "'''Nuclear power density function'''\n",
    "\n",
    "def nuclear_pwr_dens_func( time, temp, n_dens, params ):\n",
    "    '''\n",
    "    Place holder for implementation\n",
    "    '''\n",
    "    \n",
    "    rxn_heat = params['fis_energy'] # get fission reaction energy J per reaction\n",
    "    \n",
    "    sigma_f = sigma_fis_func( temp, params ) # m2\n",
    "    \n",
    "    fis_nuclide_num_dens = params['fis_nuclide_num_dens_fake'] #  #/m3\n",
    "    \n",
    "    Sigma_fis = sigma_f * fis_nuclide_num_dens # macroscopic cross section\n",
    "    \n",
    "    v_o = params['thermal_neutron_velo'] # m/s\n",
    "    \n",
    "    neutron_flux = n_dens * 4.3E13 * v_o\n",
    "    \n",
    "     #reaction rate density\n",
    "    rxn_rate_dens = Sigma_fis * neutron_flux\n",
    "    \n",
    "    # nuclear power source\n",
    "    q3prime = - rxn_heat * rxn_rate_dens # exothermic reaction W/m3\n",
    "    #q3prime = - n_dens * 3323E6\n",
    "    #print(\"q3prime\")\n",
    "    #print(q3prime)\n",
    "    \n",
    "    return q3prime"
   ]
  },
  {
   "cell_type": "markdown",
   "metadata": {},
   "source": [
    "The cooling heat rate is:\n",
    "\n",
    "\\begin{equation*}\n",
    "{\\dot{Q}_\\text{f}} = -UA\\bigl(T_f-T_c\\bigr). \n",
    "\\end{equation*}"
   ]
  },
  {
   "cell_type": "code",
   "execution_count": 8,
   "metadata": {
    "code_folding": []
   },
   "outputs": [],
   "source": [
    "'''Cooling heat rate'''\n",
    "\n",
    "def heat_sink_rate( time, temp_f, temp_c, params):\n",
    "    \n",
    "    ht_coeff = params['ht_coeff']\n",
    "    \n",
    "    q_f = - ht_coeff * (temp_f - temp_c)\n",
    "    #print(q_f)\n",
    "    \n",
    "    return q_f"
   ]
  },
  {
   "cell_type": "markdown",
   "metadata": {},
   "source": [
    "The coolant inlet temperature varies with the primary cooling loop heat exchanger which depends on the coolant temperature leaving the reactor. To mimic the heat exchanger let's do:\n",
    "\n",
    "\\begin{equation*}\n",
    "T_\\text{in}  = f(T_\\text{c}) . \n",
    "\\end{equation*}"
   ]
  },
  {
   "cell_type": "code",
   "execution_count": 9,
   "metadata": {
    "code_folding": []
   },
   "outputs": [],
   "source": [
    "'''Coolant Inlet Temperature'''\n",
    "\n",
    "def coolant_inlet_temp_func( time, temp_c, params):\n",
    "    \n",
    "    #dt = params['hx_dt'] # primary look heat exchanger\n",
    "    \n",
    "    if temp_c < params['temp_c_ss_operation']:\n",
    "        temp_in = temp_c\n",
    "    else:\n",
    "        #print('temp_c_ss_operation achieved')\n",
    "        temp_in = params['temp_c_ss_operation']\n",
    "    \n",
    "    #print(temp_in)\n",
    "    \n",
    "    #temp_in = temp_c - dt\n",
    "    return temp_in"
   ]
  },
  {
   "cell_type": "code",
   "execution_count": 10,
   "metadata": {
    "code_folding": []
   },
   "outputs": [],
   "source": [
    "'''ODE function'''\n",
    "\n",
    "def f_vec( time, u_vec, params ):  \n",
    "    \n",
    "    import numpy as np\n",
    "    assert np.all(u_vec >= 0.0)\n",
    "    \n",
    "    n_dens = u_vec[0] # get neutron dens\n",
    "\n",
    "    c_vec = u_vec[1:-2] # get delayed neutron emitter concentration\n",
    "    \n",
    "    temp_f = u_vec[-2] # get temperature of fuel\n",
    "    \n",
    "    temp_c = u_vec[-1] # get temperature of coolant\n",
    "    \n",
    "    # initialize f_vec to zero\n",
    "    species_decay = params['species_decay']\n",
    "    lambda_vec = np.array(species_decay)\n",
    "    n_species  = len(lambda_vec)\n",
    "    \n",
    "    f_tmp = np.zeros(1+n_species+2,dtype=np.float64) # vector for f_vec return\n",
    "    \n",
    "    #----------------\n",
    "    # neutron balance\n",
    "    #----------------\n",
    "    rho_t    = rho_func(time, n_dens, (temp_f+temp_c)/2.0, params)\n",
    "    \n",
    "    beta     = params['beta']\n",
    "    gen_time = params['gen_time']\n",
    "       \n",
    "    species_rel_yield = params['species_rel_yield']\n",
    "    beta_vec = np.array(species_rel_yield) * beta\n",
    "    \n",
    "    assert len(lambda_vec)==len(beta_vec)\n",
    "    \n",
    "    q_source_t = q_source(time, params)\n",
    "    \n",
    "    f_tmp[0] = (rho_t - beta)/gen_time * n_dens + lambda_vec @ c_vec + q_source_t\n",
    "    \n",
    "    #-----------------------------------\n",
    "    # n species balances (implicit loop)\n",
    "    #-----------------------------------\n",
    "    f_tmp[1:-2] = beta_vec/gen_time * n_dens - lambda_vec * c_vec\n",
    "    \n",
    "    #--------------------\n",
    "    # fuel energy balance\n",
    "    #--------------------\n",
    "    rho_f    = params['fuel_dens']\n",
    "    cp_f     = params['cp_fuel']\n",
    "    vol_fuel = params['fuel_volume']\n",
    "    \n",
    "    pwr_dens = nuclear_pwr_dens_func( time, (temp_f+temp_c)/2, n_dens, params )\n",
    "    \n",
    "    heat_sink = heat_sink_rate( time, temp_f, temp_c, params )\n",
    "    #assert heat_sink <= 0.0,'heat_sink = %r'%heat_sink\n",
    "    \n",
    "    f_tmp[-2] =  -1/rho_f/cp_f * ( pwr_dens - heat_sink/vol_fuel )\n",
    "    \n",
    "    #-----------------------\n",
    "    # coolant energy balance\n",
    "    #-----------------------\n",
    "    rho_c    = params['coolant_dens']\n",
    "    cp_c     = params['cp_coolant']\n",
    "    vol_cool = params['coolant_volume']\n",
    "    \n",
    "    temp_in = coolant_inlet_temp_func(time, temp_c, params)\n",
    "    \n",
    "    tau = params['tau_fake']\n",
    "    \n",
    "    heat_source = - heat_sink\n",
    "    \n",
    "    f_tmp[-1] = - 1/tau * (temp_c - temp_in) + 1./rho_c/cp_c/vol_cool * heat_source\n",
    "    #print(time)\n",
    "    #print(u_vec)\n",
    "    return f_tmp"
   ]
  },
  {
   "cell_type": "code",
   "execution_count": 11,
   "metadata": {
    "code_folding": [
     2
    ]
   },
   "outputs": [],
   "source": [
    "'''Create the point-reactor run function'''\n",
    "\n",
    "def run_point_reactor( f_vec, params ):\n",
    "\n",
    "    from scipy.integrate import odeint # Load ODE solver package\n",
    "\n",
    "    import numpy as np\n",
    "    time_final = params['time_final']\n",
    "    n_time_stamps = params['n_time_stamps']\n",
    "    time_stamps = np.linspace(0.0, time_final, num=n_time_stamps) # create the time stamps for solution values\n",
    "    params['time_stamps'] = time_stamps\n",
    "    \n",
    "    max_n_steps_per_time_step = 1000 # max number of nonlinear algebraic solver iterations per time step\n",
    "\n",
    "    n_0     = params['n_0']\n",
    "    c_vec_0 = params['c_vec_0']\n",
    "    \n",
    "    temp_f_0 = params['temp_f_0']\n",
    "    temp_c_0 = params['temp_c_0']\n",
    "       \n",
    "    # m-equation point reactor model\n",
    "    n_species = len(c_vec_0)\n",
    "    u_vec_0 = np.zeros(1+n_species+2,dtype=np.float64)\n",
    "    \n",
    "    u_vec_0[0]    = n_0\n",
    "    u_vec_0[1:-2] = c_vec_0\n",
    "    u_vec_0[-2]   = temp_f_0\n",
    "    u_vec_0[-1]   = temp_c_0\n",
    "            \n",
    "    (u_vec_history, info_dict) = odeint( f_vec, u_vec_0, time_stamps,\n",
    "                                         args=( params, ),\n",
    "                                         rtol=1e-4, atol=1e-8, mxstep=max_n_steps_per_time_step,\n",
    "                                         full_output=1, tfirst=True )\n",
    "    #print(n_dens)\n",
    "    #print(u_vec)\n",
    "    #print(time_stamps)\n",
    "    #print\n",
    "\n",
    "    assert info_dict['message']=='Integration successful.',\\\n",
    "                     'Fatal: scipy.integrate.odeint failed %r'%info_dict['message']\n",
    "    \n",
    "    return u_vec_history"
   ]
  },
  {
   "cell_type": "code",
   "execution_count": 12,
   "metadata": {
    "code_folding": []
   },
   "outputs": [],
   "source": [
    "'''Plotting function definition'''\n",
    "\n",
    "def plot_results( u_vec_history, normalize=True, semi_log=False, markers=False, precursors=True ):\n",
    "    \n",
    "    time_stamps = params['time_stamps']/3600\n",
    "    tau = params['tau_fake']\n",
    "        \n",
    "    import matplotlib.pyplot as plt\n",
    "    \n",
    "    fig, ax1 = plt.subplots(1, figsize=(14, 6))\n",
    "\n",
    "    if precursors == True:\n",
    "        \n",
    "        ax2 = ax1.twinx() # duplicate x axes to plot n and c_i's in different y axes\n",
    "    \n",
    "        color_ids = np.linspace(0,1,u_vec_history[:,1:-2].shape[1])\n",
    "    \n",
    "        for (j,color_id) in zip( range(u_vec_history[:,1:-2].shape[1]), color_ids ):\n",
    "            color=plt.cm.nipy_spectral(color_id)\n",
    "        \n",
    "            if normalize == True:\n",
    "                ax2.plot( time_stamps,u_vec_history[:,j+1]/params['c_vec_0'][j],'-.',color=color,label=r'$c_%i$'%(j+1) )\n",
    "                ax2.set_ylabel(r'$c_i/c_{i_0}$',fontsize=16,color='black')\n",
    "            else:\n",
    "                ax2.plot( time_stamps,u_vec_history[:,j+1],'-.',color=color,label=r'$c_%i$'%(j+1) )\n",
    "                ax2.set_ylabel(r'$c_i$',fontsize=16,color='black')\n",
    "        \n",
    "        ax2.tick_params(axis='y', labelcolor='black', labelsize=14)\n",
    "        ax2.legend(loc='lower right',fontsize=12)\n",
    "        if semi_log == True:\n",
    "            ax2.set_yscale('log') # uncomment to plot y in log scale\n",
    "        #ax2.grid(True)\n",
    "\n",
    "    if markers == True:\n",
    "        if normalize == True:\n",
    "            ax1.plot( time_stamps,u_vec_history[:,0]/params['n_0'],'-',marker='+',color='red',label=r'$n/n_0$' )\n",
    "            ax1.set_ylabel(r'$n$',fontsize=16,color='black')\n",
    "        else:\n",
    "            ax1.plot( time_stamps,u_vec_history[:,0],'-',marker='+',color='red',label=r'$n$' )\n",
    "            ax1.set_ylabel(r'$n$',fontsize=16,color='black')\n",
    "    else:\n",
    "        if normalize == True:\n",
    "            ax1.plot(time_stamps,u_vec_history[:,0]/params['n_0'],'-',color='red',label=r'$n/n_0$' )\n",
    "            ax1.set_ylabel(r'$n/n_0$',fontsize=16,color='black')\n",
    "        else:\n",
    "            ax1.plot(time_stamps,u_vec_history[:,0],'-',color='red',label=r'$n$' )\n",
    "            ax1.set_ylabel(r'$n$',fontsize=16,color='black')\n",
    "\n",
    "    ax1.set_xlabel(r'Time [h]',fontsize=16)\n",
    "    \n",
    "    ax1.tick_params(axis='y', labelcolor='black', labelsize=14)\n",
    "    ax1.tick_params(axis='x', labelsize=14)\n",
    "    ax1.legend(loc='best',fontsize=12)\n",
    "    if semi_log == True:\n",
    "        ax1.set_yscale('log') # uncomment to plot y in log scale\n",
    "    ax1.grid(True)\n",
    "\n",
    "    plt.title(r'Point-Reactor Model: $\\rho/\\beta=$'\n",
    "              +str(params['reactivity']/params['beta'])\n",
    "              +r'; $q_0=$'+str(round(params['q_0'],2)),\n",
    "              fontsize=18)\n",
    "    fig.tight_layout()  # otherwise the right y-label is slightly clipped\n",
    "    plt.show() \n",
    "\n",
    "    print('')"
   ]
  },
  {
   "cell_type": "code",
   "execution_count": 13,
   "metadata": {
    "code_folding": [
     2
    ]
   },
   "outputs": [],
   "source": [
    "'''Utility function to peak at results table'''\n",
    "\n",
    "def peek(time,data, head=500, tail=100):  \n",
    "\n",
    "    import pandas as pd\n",
    "    \n",
    "    pd.options.display.float_format = '{:.2e}'.format\n",
    "    \n",
    "    layout = {'time':time[:head]}\n",
    "    \n",
    "    layout['n'] = data[:head,0]\n",
    "    \n",
    "    for j in range(1,data[:,1:-2].shape[1]+1):\n",
    "        layout['c_%i'%j] = data[:head,j]\n",
    "        \n",
    "    layout['temp_f'] = data[:head,-2]\n",
    "    layout['temp_c'] = data[:head,-1]\n",
    "        \n",
    "    results = pd.DataFrame(layout)\n",
    "    print(round(results,2))\n",
    "    print('')\n",
    "    \n",
    "    #layout = {'time':time[-tail:]}\n",
    "    \n",
    "    #layout['n'] = data[-tail:,j]\n",
    "    \n",
    "    #for j in range(1,data[:,1:-2].shape[1]+1):\n",
    "       # layout['c_%i'%j] = data[-tail:,j]\n",
    "    \n",
    "   # layout['temp_f'] = data[-tail:,-2]\n",
    "   # layout['temp_c'] = data[-tail:,-1]\n",
    "               \n",
    "   # results = pd.DataFrame(layout)\n",
    "   # print(round(results,2))\n",
    "   # print('')"
   ]
  },
  {
   "cell_type": "code",
   "execution_count": 14,
   "metadata": {},
   "outputs": [],
   "source": [
    "def quantities(u_vec_history, params, time_stamps):\n",
    "    import pandas as pd\n",
    "    data = dict()\n",
    "    tmpl = list() #temp storage for q3 prime\n",
    "    tompl = list() #manipulated q3 prime\n",
    "    tampl = list() #heat removed\n",
    "    \n",
    "    for (time, n_dens, temp_f, temp_c) in zip(time_stamps, u_vec_history[:,0], u_vec_history[:,-2], u_vec_history[:,-1]):\n",
    "        q3prime = nuclear_pwr_dens_func(time, temp_f, n_dens, params)\n",
    "        tmpl.append(q3prime)\n",
    "        heat_removed = -1 * heat_sink_rate(\"false\", temp_f, temp_c, params)\n",
    "        tampl.append(heat_removed)\n",
    "    for i in tmpl:\n",
    "        damp = -1 * i * params['fuel_volume']\n",
    "        tompl.append(damp)\n",
    "    #data['time [s]'] = time_stamps\n",
    "    data[\"q''' [W/m3]\"] =  tompl \n",
    "    data[\"heat removed [W/m3]\"] = tampl\n",
    "    quantities = pd.DataFrame( data )\n",
    "    return(quantities)"
   ]
  },
  {
   "cell_type": "markdown",
   "metadata": {},
   "source": [
    "## Reactor Startup: Reactivity Step with Pulsed Source<a id=\"res1\"></a>\n",
    "\n",
    "Neutronless reactor before time zero. At time zero, apply a pulsed source and a reactivity step."
   ]
  },
  {
   "cell_type": "code",
   "execution_count": 15,
   "metadata": {},
   "outputs": [],
   "source": [
    "'''Setup up initial conditions'''\n",
    "\n",
    "import numpy as np\n",
    "\n",
    "gen_time = params['gen_time'] # retrieve neutron generation time\n",
    "params['q_0'] = 1\n",
    "\n",
    "params['n_ss'] = 0 # neutronless steady state before start up\n",
    "\n",
    "rho_0_over_beta = 0.25 # $\n",
    "\n",
    "beta = params['beta'] # retrieve the delayed neutron fraction\n",
    "params['reactivity'] = rho_0_over_beta * beta # \"rho/beta = 10 cents\"\n",
    "\n",
    "params['temp_0'] = params['temp_o']\n",
    "\n",
    "params['tau_fake'] = 70 # s\n",
    "\n",
    "# setup remaining initial conditions\n",
    "setup_initial_conditions(params)"
   ]
  },
  {
   "cell_type": "code",
   "execution_count": 16,
   "metadata": {},
   "outputs": [],
   "source": [
    "'''Evolve the point-reactor'''\n",
    "\n",
    "time_final    = 2400# 450 # s\n",
    "n_time_stamps = 5000 # number of solution values in time\n",
    "\n",
    "params['time_final']    = time_final\n",
    "params['n_time_stamps'] = n_time_stamps\n",
    "\n",
    "# Run the reactor and compute the history of the state variables; tabular form, one row per time stamp\n",
    "u_vec_history = run_point_reactor( f_vec, params )\n",
    "#print(u_vec_history)"
   ]
  },
  {
   "cell_type": "code",
   "execution_count": 17,
   "metadata": {
    "scrolled": false
   },
   "outputs": [
    {
     "name": "stdout",
     "output_type": "stream",
     "text": [
      "        time        n      c_1      c_2      c_3      c_4      c_5      c_6  \\\n",
      "0   0.00e+00 0.00e+00 0.00e+00 0.00e+00 0.00e+00 0.00e+00 0.00e+00 0.00e+00   \n",
      "1   4.80e-01 0.00e+00 0.00e+00 0.00e+00 0.00e+00 0.00e+00 0.00e+00 0.00e+00   \n",
      "2   9.60e-01 0.00e+00 0.00e+00 0.00e+00 0.00e+00 0.00e+00 0.00e+00 0.00e+00   \n",
      "3   1.44e+00 0.00e+00 0.00e+00 0.00e+00 0.00e+00 0.00e+00 0.00e+00 0.00e+00   \n",
      "4   1.92e+00 0.00e+00 0.00e+00 0.00e+00 0.00e+00 0.00e+00 0.00e+00 0.00e+00   \n",
      "..       ...      ...      ...      ...      ...      ...      ...      ...   \n",
      "495 2.38e+02 0.00e+00 2.00e-02 1.00e-01 4.00e-02 4.00e-02 0.00e+00 0.00e+00   \n",
      "496 2.38e+02 0.00e+00 2.00e-02 1.00e-01 4.00e-02 4.00e-02 0.00e+00 0.00e+00   \n",
      "497 2.39e+02 0.00e+00 2.00e-02 1.00e-01 4.00e-02 4.00e-02 0.00e+00 0.00e+00   \n",
      "498 2.39e+02 0.00e+00 2.00e-02 1.00e-01 4.00e-02 4.00e-02 0.00e+00 0.00e+00   \n",
      "499 2.40e+02 0.00e+00 2.00e-02 1.00e-01 4.00e-02 4.00e-02 0.00e+00 0.00e+00   \n",
      "\n",
      "      temp_f   temp_c  \n",
      "0   3.00e+02 2.93e+02  \n",
      "1   2.97e+02 2.93e+02  \n",
      "2   2.95e+02 2.93e+02  \n",
      "3   2.94e+02 2.93e+02  \n",
      "4   2.94e+02 2.93e+02  \n",
      "..       ...      ...  \n",
      "495 2.93e+02 2.93e+02  \n",
      "496 2.93e+02 2.93e+02  \n",
      "497 2.93e+02 2.93e+02  \n",
      "498 2.93e+02 2.93e+02  \n",
      "499 2.93e+02 2.93e+02  \n",
      "\n",
      "[500 rows x 10 columns]\n",
      "\n"
     ]
    }
   ],
   "source": [
    "peek(params['time_stamps'],u_vec_history)"
   ]
  },
  {
   "cell_type": "code",
   "execution_count": 18,
   "metadata": {},
   "outputs": [
    {
     "name": "stdout",
     "output_type": "stream",
     "text": [
      "      q''' [W/m3]  heat removed [W/m3]\n",
      "0        0.00e+00             2.45e+07\n",
      "1        9.98e+00             1.30e+07\n",
      "2        8.66e+00             6.92e+06\n",
      "3        8.11e+00             3.74e+06\n",
      "4        7.79e+00             2.03e+06\n",
      "...           ...                  ...\n",
      "4995     2.31e+08             2.37e+08\n",
      "4996     2.31e+08             2.37e+08\n",
      "4997     2.31e+08             2.37e+08\n",
      "4998     2.31e+08             2.37e+08\n",
      "4999     2.31e+08             2.37e+08\n",
      "\n",
      "[5000 rows x 2 columns]\n"
     ]
    }
   ],
   "source": [
    "print(quantities(u_vec_history, params, params['time_stamps']))"
   ]
  },
  {
   "cell_type": "code",
   "execution_count": 19,
   "metadata": {},
   "outputs": [
    {
     "data": {
      "text/plain": [
       "<matplotlib.axes._subplots.AxesSubplot at 0x29253b78448>"
      ]
     },
     "execution_count": 19,
     "metadata": {},
     "output_type": "execute_result"
    },
    {
     "data": {
      "image/png": "[encoded data removed]",
      "text/plain": [
       "<Figure size 1080x720 with 1 Axes>"
      ]
     },
     "metadata": {
      "needs_background": "light"
     },
     "output_type": "display_data"
    }
   ],
   "source": [
    "#plot the q3prime and heat removed data\n",
    "heat_data = quantities(u_vec_history, params, params['time_stamps'])\n",
    "heat_data.plot(x=None, y=None, kind='line', ax=None, subplots=False, sharex=None, sharey=False, layout=None, figsize=(15,10),\n",
    "               use_index=True, title=None, grid=None, legend=True, style=None, logx=False, logy=False, loglog=False, \n",
    "               xticks=None, yticks=None, xlim=None, ylim=None, rot=None, fontsize=None, colormap=None, table=False, \n",
    "               yerr=None, xerr=None, secondary_y=False, sort_columns=False)\n"
   ]
  },
  {
   "cell_type": "markdown",
   "metadata": {},
   "source": [
    "Heat removed and neutron heat generated are more or less the same for all startup values, with heat removed being slightly lower than heat generated until steady state is achieved. These first results are to be expected: a slight amount of heat is retained by the fuel so that it heats up to its steady state value. Enough heat is initially removed so that the temperature rise is very gentle, which would be expected of a real reactor. Heat removed and heat produced experience a prompt jump of about 15% of steady state values, which is to be expected, before falling and beginning to rise again, and then levelling out along with reactivity."
   ]
  },
  {
   "cell_type": "code",
   "execution_count": 20,
   "metadata": {},
   "outputs": [
    {
     "data": {
      "text/plain": [
       "2202.9"
      ]
     },
     "execution_count": 20,
     "metadata": {},
     "output_type": "execute_result"
    }
   ],
   "source": [
    "3.5e10 * params['coolant_volume'] / 1000000000 # GW"
   ]
  },
  {
   "cell_type": "code",
   "execution_count": 21,
   "metadata": {
    "scrolled": false
   },
   "outputs": [
    {
     "data": {
      "image/png": "[encoded data removed]",
      "text/plain": [
       "<Figure size 1008x432 with 2 Axes>"
      ]
     },
     "metadata": {
      "needs_background": "light"
     },
     "output_type": "display_data"
    },
    {
     "name": "stdout",
     "output_type": "stream",
     "text": [
      "\n"
     ]
    }
   ],
   "source": [
    "'''Plot neutron and delayed neutron emitter concentration in the reactor'''\n",
    "\n",
    "plot_results(u_vec_history, normalize=False)"
   ]
  },
  {
   "cell_type": "markdown",
   "metadata": {},
   "source": [
    "The reactor is extremely quick to startup, reaching its steady state value in about 12 minutes. If the total time the reactor is run for is decreased, the initial prompt jump and then decay steps may be observed, which occur within the first 20-30 seconds of operation and reach a peak of about 15% of peak power. This is to be expected with a reactivity of $0.25 and a relatively low neutron flux required due to the high enrichment of the fuel and the large volume of fuel present. "
   ]
  },
  {
   "cell_type": "code",
   "execution_count": 22,
   "metadata": {},
   "outputs": [],
   "source": [
    "'''Plot Tf and Tc temperatures in the reactor'''\n",
    "    \n",
    "def tmp():\n",
    "    time_stamps = params['time_stamps']\n",
    "    tau = params['tau_fake']\n",
    "    import matplotlib.pyplot as plt    \n",
    "    fig, ax1 = plt.subplots(1, figsize=(16, 6))\n",
    "    ax1.plot(time_stamps/tau,u_vec_history[:,-2]-273.15,'b-',label='$T_f=$ ' )\n",
    "    ax1.plot(time_stamps/tau,u_vec_history[:,-1]-273.15,'g-.',label='$T_c=$ ' )\n",
    "\n",
    "    ax1.set_xlabel(r'Time [s]')\n",
    "    ax1.set_ylabel(r'$T$ [C]',fontsize=16,color='blue')\n",
    "    ax1.tick_params(axis='y', labelcolor='blue', labelsize=14)\n",
    "    ax1.tick_params(axis='x', labelsize=14)\n",
    "    ax1.legend(loc='best',fontsize=12)\n",
    "    ax1.grid(True)\n",
    "\n",
    "    #ax2 = ax1.twinx() \n",
    "    #ax2.plot(time_stamps/tau,u_vec_history[:,-1],'g-.',label='$T_c=$ ' )\n",
    "   # ax2.set_ylabel(r'$T_c$ [K]',fontsize=16,color='green')\n",
    "   # ax2.tick_params(axis='y', labelcolor='green', labelsize=14)\n",
    "    #ax2.legend(loc='best',f/ontsize=12)\n",
    "    #ax2.grid(True)\n",
    "\n",
    "    plt.title('BWR simulation',fontsize=20)\n",
    "    fig.tight_layout()  # otherwise the right y-label is slightly clipped\n",
    "    plt.show()\n",
    "    print('')"
   ]
  },
  {
   "cell_type": "code",
   "execution_count": 23,
   "metadata": {},
   "outputs": [
    {
     "data": {
      "image/png": "[encoded data removed]",
      "text/plain": [
       "<Figure size 1152x432 with 1 Axes>"
      ]
     },
     "metadata": {
      "needs_background": "light"
     },
     "output_type": "display_data"
    },
    {
     "name": "stdout",
     "output_type": "stream",
     "text": [
      "\n"
     ]
    }
   ],
   "source": [
    "tmp()"
   ]
  },
  {
   "cell_type": "markdown",
   "metadata": {},
   "source": [
    "Temperature rise is very quick, along with the reactivity increase. Steady state temperature values level out at around 350 degrees celcius for the fuel and 300 degrees celcius for the coolant, which are expected values for a BWR that operates at relatively low coolant and fuel temperatures. A very small prompt jump and decay may be observed at the far left of the scale, accounting for a temperature jump of both the fuel and coolant of around 5-10 degrees celcius. Overall temperature increase, 350 degrees celcius in 12 minutes, is fairly manageable for a large plant."
   ]
  },
  {
   "cell_type": "markdown",
   "metadata": {},
   "source": [
    "# Overall Results"
   ]
  },
  {
   "cell_type": "markdown",
   "metadata": {},
   "source": [
    "Overall, the reactor behaves as it should: quick startup to a steady state with relatively low fuel and moderator temperatures. This model could be improved in the future by adding functions to model changes in moderator composition (including density changes and void changes from steam), as well as fuel burnup and the effect of fission product poisoning."
   ]
  }
 ],
 "metadata": {
  "kernelspec": {
   "display_name": "Python 3",
   "language": "python",
   "name": "python3"
  },
  "language_info": {
   "codemirror_mode": {
    "name": "ipython",
    "version": 3
   },
   "file_extension": ".py",
   "mimetype": "text/x-python",
   "name": "python",
   "nbconvert_exporter": "python",
   "pygments_lexer": "ipython3",
   "version": "3.7.9"
  },
  "latex_envs": {
   "LaTeX_envs_menu_present": true,
   "autoclose": false,
   "autocomplete": true,
   "bibliofile": "biblio.bib",
   "cite_by": "apalike",
   "current_citInitial": 1,
   "eqLabelWithNumbers": true,
   "eqNumInitial": 1,
   "hotkeys": {
    "equation": "Ctrl-E",
    "itemize": "Ctrl-I"
   },
   "labels_anchors": false,
   "latex_user_defs": false,
   "report_style_numbering": false,
   "user_envs_cfg": false
  }
 },
 "nbformat": 4,
 "nbformat_minor": 2
}
