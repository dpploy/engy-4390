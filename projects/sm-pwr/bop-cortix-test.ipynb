{
 "cells": [
  {
   "cell_type": "markdown",
   "metadata": {},
   "source": [
    "**Engy-4390** Nuclear Systems Design and Analysis, UMass Lowell, Chem. Eng. Nuclear Program Fall 2020\n",
    "\n",
    "# NuScale 720 SMR BoP Cortix Testing\n",
    "$  \n",
    "  \\newcommand{\\Amtrx}{\\boldsymbol{\\mathsf{A}}}\n",
    "  \\newcommand{\\Bmtrx}{\\boldsymbol{\\mathsf{B}}}\n",
    "  \\newcommand{\\Mmtrx}{\\boldsymbol{\\mathsf{M}}}\n",
    "  \\newcommand{\\Imtrx}{\\boldsymbol{\\mathsf{I}}}\n",
    "  \\newcommand{\\Pmtrx}{\\boldsymbol{\\mathsf{P}}}\n",
    "  \\newcommand{\\Lmtrx}{\\boldsymbol{\\mathsf{L}}}\n",
    "  \\newcommand{\\Umtrx}{\\boldsymbol{\\mathsf{U}}}\n",
    "  \\newcommand{\\Smtrx}{\\boldsymbol{\\mathsf{S}}}\n",
    "  \\newcommand{\\xvec}{\\boldsymbol{\\mathsf{x}}}\n",
    "  \\newcommand{\\uvar}{\\boldsymbol{u}}\n",
    "  \\newcommand{\\fvar}{\\boldsymbol{f}}\n",
    "  \\newcommand{\\avec}{\\boldsymbol{\\mathsf{a}}}\n",
    "  \\newcommand{\\bvec}{\\boldsymbol{\\mathsf{b}}}\n",
    "  \\newcommand{\\cvec}{\\boldsymbol{\\mathsf{c}}}\n",
    "  \\newcommand{\\rvec}{\\boldsymbol{\\mathsf{r}}}\n",
    "  \\newcommand{\\mvec}{\\boldsymbol{\\mathsf{m}}}\n",
    "  \\newcommand{\\gvec}{\\boldsymbol{\\mathsf{g}}}\n",
    "  \\newcommand{\\zerovec}{\\boldsymbol{\\mathsf{0}}}\n",
    "  \\newcommand{\\norm}[1]{\\bigl\\lVert{#1}\\bigr\\rVert}\n",
    "  \\newcommand{\\transpose}[1]{{#1}^\\top}\n",
    "  \\DeclareMathOperator{\\rank}{rank}\n",
    "  \\newcommand{\\Power}{\\mathcal{P}}\n",
    "$"
   ]
  },
  {
   "cell_type": "markdown",
   "metadata": {},
   "source": [
    "**Students:** Jack and Nik <br>\n",
    "**Course:** Engy-4390 Nuclear Systems Design and Analysis  <br>\n",
    "**Mentor:** Prof. Valmor F. de Almeida\n",
    "\n",
    "UMass Lowell, Dept. of Chemical Engineering, Nuclear Energy Program \n",
    "<br>\n",
    "**11Dec2020**"
   ]
  },
  {
   "cell_type": "code",
   "execution_count": 1,
   "metadata": {},
   "outputs": [
    {
     "name": "stderr",
     "output_type": "stream",
     "text": [
      "[6404] 2020-11-16 20:10:06,860 - cortix - INFO - Created Cortix object \n",
      "_____________________________________________________________________________\n",
      "                             L A U N C H I N G                               \n",
      "_____________________________________________________________________________\n",
      "      ...                                        s       .     (TAAG Fraktur)\n",
      "   xH88\"`~ .x8X                                 :8      @88>\n",
      " :8888   .f\"8888Hf        u.      .u    .      .88      %8P      uL   ..\n",
      ":8888>  X8L  ^\"\"`   ...ue888b   .d88B :@8c    :888ooo    .     .@88b  @88R\n",
      "X8888  X888h        888R Y888r =\"8888f8888r -*8888888  .@88u  \"\"Y888k/\"*P\n",
      "88888  !88888.      888R I888>   4888>\"88\"    8888    888E`    Y888L\n",
      "88888   %88888      888R I888>   4888> \"      8888      888E      8888\n",
      "88888 `> `8888>     888R I888>   4888>        8888      888E      `888N\n",
      "`8888L %  ?888   ! u8888cJ888   .d888L .+    .8888Lu=   888E   .u./\"888&\n",
      " `8888  `-*\"\"   /   \"*888*P\"    ^\"8888*\"     ^%888*     888&  d888\" Y888*\"\n",
      "   \"888.      :\"      \"Y\"          \"Y\"         \"Y\"      R888\" ` \"Y   Y\"\n",
      "     `\"\"***~\"`                                           \"\"\n",
      "                             https://cortix.org                              \n",
      "_____________________________________________________________________________\n"
     ]
    }
   ],
   "source": [
    "try:\n",
    "    import cortix, iapws\n",
    "except ImportError:\n",
    "    print('Installing missing packages...')\n",
    "    print('')\n",
    "    !pip install cortix iapws\n",
    "    import cortix, iapws\n",
    "\n",
    "from cortix import Cortix\n",
    "from cortix import Network\n",
    "from reactor import SMPWR\n",
    "from steamer import Steamer\n",
    "\n",
    "import scipy.constants as unit\n",
    "\n",
    "end_time = 1 * unit.hour \n",
    "unit.second = 1.0\n",
    "time_step = 30.0 * unit.second\n",
    "show_time = (True,5*unit.minute)\n",
    "\n",
    "use_mpi = False  # True for MPI; False for Python multiprocessing\n",
    "\n",
    "plant = Cortix(use_mpi=use_mpi, splash=True) # System top level\n",
    "\n",
    "plant_net = plant.network = Network() # Network"
   ]
  },
  {
   "cell_type": "code",
   "execution_count": 2,
   "metadata": {},
   "outputs": [],
   "source": [
    "'''Reactor'''\n",
    "\n",
    "reactor = SMPWR()  # Create reactor module\n",
    "\n",
    "reactor.name = 'SMPWR'\n",
    "reactor.save = True\n",
    "reactor.time_step = time_step\n",
    "reactor.end_time = end_time\n",
    "reactor.show_time = show_time\n",
    "\n",
    "plant_net.module(reactor)  # Add reactor module to network"
   ]
  },
  {
   "cell_type": "code",
   "execution_count": 3,
   "metadata": {},
   "outputs": [],
   "source": [
    "'''Steamer'''\n",
    "\n",
    "steamer = Steamer()  # Create reactor module\n",
    "\n",
    "steamer.name = 'Steamer'\n",
    "steamer.save = True\n",
    "steamer.time_step = time_step\n",
    "steamer.end_time = end_time\n",
    "steamer.show_time = show_time\n",
    "\n",
    "plant_net.module(steamer)  # Add steamer module to network"
   ]
  },
  {
   "cell_type": "code",
   "execution_count": 4,
   "metadata": {},
   "outputs": [
    {
     "data": {
      "image/svg+xml": [
       "<?xml version=\"1.0\" encoding=\"UTF-8\" standalone=\"no\"?>\r\n",
       "<!DOCTYPE svg PUBLIC \"-//W3C//DTD SVG 1.1//EN\"\r\n",
       " \"http://www.w3.org/Graphics/SVG/1.1/DTD/svg11.dtd\">\r\n",
       "<!-- Generated by graphviz version 2.38.0 (20140413.2041)\r\n",
       " -->\r\n",
       "<!-- Title: network&#45;0 Pages: 1 -->\r\n",
       "<svg width=\"250pt\" height=\"44pt\"\r\n",
       " viewBox=\"0.00 0.00 249.56 44.00\" xmlns=\"http://www.w3.org/2000/svg\" xmlns:xlink=\"http://www.w3.org/1999/xlink\">\r\n",
       "<g id=\"graph0\" class=\"graph\" transform=\"scale(1 1) rotate(0) translate(4 40)\">\r\n",
       "<title>network&#45;0</title>\r\n",
       "<polygon fill=\"white\" stroke=\"none\" points=\"-4,4 -4,-40 245.564,-40 245.564,4 -4,4\"/>\r\n",
       "<!-- 0 -->\r\n",
       "<g id=\"node1\" class=\"node\"><title>0</title>\r\n",
       "<polygon fill=\"lightgrey\" stroke=\"black\" points=\"241.597,-18 216.064,-36 164.997,-36 139.464,-18 164.997,-2.13163e-014 216.064,-0 241.597,-18\"/>\r\n",
       "<text text-anchor=\"middle\" x=\"190.53\" y=\"-14.3\" font-family=\"Times New Roman,serif\" font-size=\"14.00\">SMPWR</text>\r\n",
       "</g>\r\n",
       "<!-- 1 -->\r\n",
       "<g id=\"node2\" class=\"node\"><title>1</title>\r\n",
       "<polygon fill=\"lightgrey\" stroke=\"black\" points=\"93.0909,-18 69.8106,-36 23.25,-36 -0.0303228,-18 23.25,-3.55271e-014 69.8106,-1.42109e-014 93.0909,-18\"/>\r\n",
       "<text text-anchor=\"middle\" x=\"46.5303\" y=\"-14.3\" font-family=\"Times New Roman,serif\" font-size=\"14.00\">Steamer</text>\r\n",
       "</g>\r\n",
       "<!-- 0&#45;&gt;1 -->\r\n",
       "<g id=\"edge1\" class=\"edge\"><title>0&#45;&gt;1</title>\r\n",
       "<path fill=\"none\" stroke=\"black\" d=\"M139.356,-18C127.726,-18 115.304,-18 103.452,-18\"/>\r\n",
       "<polygon fill=\"black\" stroke=\"black\" points=\"103.218,-14.5001 93.2177,-18 103.218,-21.5001 103.218,-14.5001\"/>\r\n",
       "</g>\r\n",
       "</g>\r\n",
       "</svg>\r\n"
      ],
      "text/plain": [
       "<graphviz.dot.Digraph at 0x1e7146518c8>"
      ]
     },
     "execution_count": 4,
     "metadata": {},
     "output_type": "execute_result"
    }
   ],
   "source": [
    "'''Balance of Plant Network Connectivity'''\n",
    "\n",
    "plant_net.connect([reactor, 'coolant-outflow'], [steamer, 'primary-inflow'])\n",
    "\n",
    "plant_net.draw()"
   ]
  },
  {
   "cell_type": "code",
   "execution_count": null,
   "metadata": {
    "scrolled": false
   },
   "outputs": [
    {
     "name": "stderr",
     "output_type": "stream",
     "text": [
      "[6404] 2020-11-16 20:10:07,136 - cortix - INFO - Launching Module <reactor.SMPWR object at 0x000001E714616C08>\n",
      "[6404] 2020-11-16 20:10:07,248 - cortix - INFO - Launching Module <steamer.Steamer object at 0x000001E71464C7C8>\n"
     ]
    }
   ],
   "source": [
    "'''Run'''\n",
    "\n",
    "plant.run()  # Run network dynamics simulation\n",
    "\n",
    "plant.close()  # Properly shutdow plant"
   ]
  },
  {
   "cell_type": "code",
   "execution_count": null,
   "metadata": {},
   "outputs": [],
   "source": [
    "reactor = plant_net.modules[0]"
   ]
  },
  {
   "cell_type": "code",
   "execution_count": null,
   "metadata": {},
   "outputs": [],
   "source": [
    "(quant, time_unit) = reactor.neutron_phase.get_quantity_history('neutron-dens')\n",
    "quant.plot(x_scaling=1/unit.minute, y_scaling=1/max(quant.value), x_label='Time [m]', y_label=quant.formal_name+' ['+quant.unit+']')"
   ]
  },
  {
   "cell_type": "code",
   "execution_count": null,
   "metadata": {},
   "outputs": [],
   "source": [
    "(quant, time_unit) = reactor.neutron_phase.get_quantity_history('delayed-neutrons-cc')\n",
    "quant.plot(x_scaling=1/unit.minute, x_label='Time [m]', y_label=quant.formal_name+' ['+quant.unit+']')"
   ]
  },
  {
   "cell_type": "code",
   "execution_count": null,
   "metadata": {},
   "outputs": [],
   "source": [
    "(quant, time_unit) = reactor.reactor_phase.get_quantity_history('fuel-temp')\n",
    "quant.plot(x_scaling=1/unit.minute, x_label='Time [m]', y_label=quant.formal_name+' ['+quant.unit+']')"
   ]
  },
  {
   "cell_type": "code",
   "execution_count": null,
   "metadata": {},
   "outputs": [],
   "source": [
    "(quant, time_unit) = reactor.coolant_outflow_phase.get_quantity_history('temp')\n",
    "quant.plot(x_scaling=1/unit.minute, x_label='Time [m]', y_label=quant.formal_name+' ['+quant.unit+']')"
   ]
  },
  {
   "cell_type": "markdown",
   "metadata": {},
   "source": [
    "## [References](#toc)<a id=\"refs\"></a>\n",
    "\n",
    "1. Nuclear Reactor Engineering, [Engy-4350](https://github.com/dpploy/engy-4350) UMass Lowell, Dept. Chemical Engineering."
   ]
  }
 ],
 "metadata": {
  "kernelspec": {
   "display_name": "Python 3",
   "language": "python",
   "name": "python3"
  },
  "language_info": {
   "codemirror_mode": {
    "name": "ipython",
    "version": 3
   },
   "file_extension": ".py",
   "mimetype": "text/x-python",
   "name": "python",
   "nbconvert_exporter": "python",
   "pygments_lexer": "ipython3",
   "version": "3.7.6"
  },
  "latex_envs": {
   "LaTeX_envs_menu_present": true,
   "autoclose": false,
   "autocomplete": true,
   "bibliofile": "biblio.bib",
   "cite_by": "apalike",
   "current_citInitial": 1,
   "eqLabelWithNumbers": true,
   "eqNumInitial": 1,
   "hotkeys": {
    "equation": "Ctrl-E",
    "itemize": "Ctrl-I"
   },
   "labels_anchors": false,
   "latex_user_defs": false,
   "report_style_numbering": false,
   "user_envs_cfg": false
  }
 },
 "nbformat": 4,
 "nbformat_minor": 2
}
