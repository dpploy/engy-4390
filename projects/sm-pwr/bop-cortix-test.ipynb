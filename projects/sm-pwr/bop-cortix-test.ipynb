{
 "cells": [
  {
   "cell_type": "markdown",
   "metadata": {},
   "source": [
    "**Engy-4390** Nuclear Systems Design and Analysis, UMass Lowell, Chem. Eng. Nuclear Program Fall 2020\n",
    "\n",
    "# NuScale 720 SMR BoP Cortix Testing\n",
    "$  \n",
    "  \\newcommand{\\Amtrx}{\\boldsymbol{\\mathsf{A}}}\n",
    "  \\newcommand{\\Bmtrx}{\\boldsymbol{\\mathsf{B}}}\n",
    "  \\newcommand{\\Mmtrx}{\\boldsymbol{\\mathsf{M}}}\n",
    "  \\newcommand{\\Imtrx}{\\boldsymbol{\\mathsf{I}}}\n",
    "  \\newcommand{\\Pmtrx}{\\boldsymbol{\\mathsf{P}}}\n",
    "  \\newcommand{\\Lmtrx}{\\boldsymbol{\\mathsf{L}}}\n",
    "  \\newcommand{\\Umtrx}{\\boldsymbol{\\mathsf{U}}}\n",
    "  \\newcommand{\\Smtrx}{\\boldsymbol{\\mathsf{S}}}\n",
    "  \\newcommand{\\xvec}{\\boldsymbol{\\mathsf{x}}}\n",
    "  \\newcommand{\\uvar}{\\boldsymbol{u}}\n",
    "  \\newcommand{\\fvar}{\\boldsymbol{f}}\n",
    "  \\newcommand{\\avec}{\\boldsymbol{\\mathsf{a}}}\n",
    "  \\newcommand{\\bvec}{\\boldsymbol{\\mathsf{b}}}\n",
    "  \\newcommand{\\cvec}{\\boldsymbol{\\mathsf{c}}}\n",
    "  \\newcommand{\\rvec}{\\boldsymbol{\\mathsf{r}}}\n",
    "  \\newcommand{\\mvec}{\\boldsymbol{\\mathsf{m}}}\n",
    "  \\newcommand{\\gvec}{\\boldsymbol{\\mathsf{g}}}\n",
    "  \\newcommand{\\zerovec}{\\boldsymbol{\\mathsf{0}}}\n",
    "  \\newcommand{\\norm}[1]{\\bigl\\lVert{#1}\\bigr\\rVert}\n",
    "  \\newcommand{\\transpose}[1]{{#1}^\\top}\n",
    "  \\DeclareMathOperator{\\rank}{rank}\n",
    "  \\newcommand{\\Power}{\\mathcal{P}}\n",
    "$"
   ]
  },
  {
   "cell_type": "markdown",
   "metadata": {},
   "source": [
    "**Students:** Jack and Nik <br>\n",
    "**Course:** Engy-4390 Nuclear Systems Design and Analysis  <br>\n",
    "**Mentor:** Prof. Valmor F. de Almeida\n",
    "\n",
    "UMass Lowell, Dept. of Chemical Engineering, Nuclear Energy Program \n",
    "<br>\n",
    "**11Dec2020**"
   ]
  },
  {
   "cell_type": "code",
   "execution_count": 12,
   "metadata": {},
   "outputs": [
    {
     "name": "stdout",
     "output_type": "stream",
     "text": [
      "Name: cortix\n",
      "Version: 1.1.11\n",
      "Summary: Cortix is a Python library for network dynamics            modeling and HPC simulation.\n",
      "Home-page: https://cortix.org\n",
      "Author: Cortix Computing\n",
      "Author-email: valmor_dealmeida@uml.edu\n",
      "License: UNKNOWN\n",
      "Location: c:\\users\\jjfk\\anaconda3\\lib\\site-packages\n",
      "Requires: scipy, pandas, pytest, numpy, matplotlib, graphviz\n",
      "Required-by: \n",
      "Note: you may need to restart the kernel to use updated packages.\n"
     ]
    }
   ],
   "source": [
    "pip show cortix"
   ]
  },
  {
   "cell_type": "code",
   "execution_count": 1,
   "metadata": {},
   "outputs": [
    {
     "name": "stderr",
     "output_type": "stream",
     "text": [
      "[2672] 2020-11-17 21:17:03,077 - cortix - INFO - Created Cortix object \n",
      "_____________________________________________________________________________\n",
      "                             L A U N C H I N G                               \n",
      "_____________________________________________________________________________\n",
      "      ...                                        s       .     (TAAG Fraktur)\n",
      "   xH88\"`~ .x8X                                 :8      @88>\n",
      " :8888   .f\"8888Hf        u.      .u    .      .88      %8P      uL   ..\n",
      ":8888>  X8L  ^\"\"`   ...ue888b   .d88B :@8c    :888ooo    .     .@88b  @88R\n",
      "X8888  X888h        888R Y888r =\"8888f8888r -*8888888  .@88u  \"\"Y888k/\"*P\n",
      "88888  !88888.      888R I888>   4888>\"88\"    8888    888E`    Y888L\n",
      "88888   %88888      888R I888>   4888> \"      8888      888E      8888\n",
      "88888 `> `8888>     888R I888>   4888>        8888      888E      `888N\n",
      "`8888L %  ?888   ! u8888cJ888   .d888L .+    .8888Lu=   888E   .u./\"888&\n",
      " `8888  `-*\"\"   /   \"*888*P\"    ^\"8888*\"     ^%888*     888&  d888\" Y888*\"\n",
      "   \"888.      :\"      \"Y\"          \"Y\"         \"Y\"      R888\" ` \"Y   Y\"\n",
      "     `\"\"***~\"`                                           \"\"\n",
      "                             https://cortix.org                              \n",
      "_____________________________________________________________________________\n"
     ]
    }
   ],
   "source": [
    "\n",
    "try:\n",
    "    import cortix, iapws\n",
    "except ImportError:\n",
    "    print('Installing missing packages...')\n",
    "    print('')\n",
    "    !pip install cortix iapws\n",
    "    import cortix, iapws\n",
    "\n",
    "from cortix import Cortix\n",
    "from cortix import Network\n",
    "\n",
    "from reactor import SMPWR\n",
    "from steamer import Steamer\n",
    "from condenser import Cond\n",
    "\n",
    "import scipy.constants as unit\n",
    "\n",
    "end_time = 1 * unit.hour \n",
    "unit.second = 1.0\n",
    "time_step = 30.0 * unit.second\n",
    "show_time = (True, 5*unit.minute)\n",
    "\n",
    "plant = Cortix(use_mpi=False, splash=True) # System top level\n",
    "\n",
    "plant_net = plant.network = Network() # Network"
   ]
  },
  {
   "cell_type": "code",
   "execution_count": 2,
   "metadata": {},
   "outputs": [],
   "source": [
    "'''Reactor'''\n",
    "\n",
    "reactor = SMPWR()  # Create reactor module\n",
    "\n",
    "reactor.name = 'SMPWR'\n",
    "reactor.save = True\n",
    "reactor.time_step = time_step\n",
    "reactor.end_time = end_time\n",
    "reactor.show_time = show_time\n",
    "\n",
    "plant_net.module(reactor)  # Add reactor module to network"
   ]
  },
  {
   "cell_type": "code",
   "execution_count": 3,
   "metadata": {},
   "outputs": [],
   "source": [
    "'''Steamer'''\n",
    "\n",
    "steamer = Steamer()  # Create reactor module\n",
    "\n",
    "steamer.name = 'Steamer'\n",
    "steamer.save = True\n",
    "steamer.time_step = time_step\n",
    "steamer.end_time = end_time\n",
    "steamer.show_time = show_time\n",
    "\n",
    "plant_net.module(steamer)  # Add steamer module to network"
   ]
  },
  {
   "cell_type": "code",
   "execution_count": 4,
   "metadata": {},
   "outputs": [
    {
     "data": {
      "image/svg+xml": [
       "<?xml version=\"1.0\" encoding=\"UTF-8\" standalone=\"no\"?>\r\n",
       "<!DOCTYPE svg PUBLIC \"-//W3C//DTD SVG 1.1//EN\"\r\n",
       " \"http://www.w3.org/Graphics/SVG/1.1/DTD/svg11.dtd\">\r\n",
       "<!-- Generated by graphviz version 2.38.0 (20140413.2041)\r\n",
       " -->\r\n",
       "<!-- Title: network&#45;0 Pages: 1 -->\r\n",
       "<svg width=\"250pt\" height=\"44pt\"\r\n",
       " viewBox=\"0.00 0.00 249.56 44.00\" xmlns=\"http://www.w3.org/2000/svg\" xmlns:xlink=\"http://www.w3.org/1999/xlink\">\r\n",
       "<g id=\"graph0\" class=\"graph\" transform=\"scale(1 1) rotate(0) translate(4 40)\">\r\n",
       "<title>network&#45;0</title>\r\n",
       "<polygon fill=\"white\" stroke=\"none\" points=\"-4,4 -4,-40 245.564,-40 245.564,4 -4,4\"/>\r\n",
       "<!-- 0 -->\r\n",
       "<g id=\"node1\" class=\"node\"><title>0</title>\r\n",
       "<polygon fill=\"lightgrey\" stroke=\"black\" points=\"241.597,-18 216.064,-36 164.997,-36 139.464,-18 164.997,-2.13163e-014 216.064,-0 241.597,-18\"/>\r\n",
       "<text text-anchor=\"middle\" x=\"190.53\" y=\"-14.3\" font-family=\"Times New Roman,serif\" font-size=\"14.00\">SMPWR</text>\r\n",
       "</g>\r\n",
       "<!-- 1 -->\r\n",
       "<g id=\"node2\" class=\"node\"><title>1</title>\r\n",
       "<polygon fill=\"lightgrey\" stroke=\"black\" points=\"93.0909,-18 69.8106,-36 23.25,-36 -0.0303228,-18 23.25,-3.55271e-014 69.8106,-1.42109e-014 93.0909,-18\"/>\r\n",
       "<text text-anchor=\"middle\" x=\"46.5303\" y=\"-14.3\" font-family=\"Times New Roman,serif\" font-size=\"14.00\">Steamer</text>\r\n",
       "</g>\r\n",
       "<!-- 0&#45;&gt;1 -->\r\n",
       "<g id=\"edge1\" class=\"edge\"><title>0&#45;&gt;1</title>\r\n",
       "<path fill=\"none\" stroke=\"black\" d=\"M148.104,-11.7839C131.753,-11.1597 112.939,-11.0828 95.9809,-11.5533\"/>\r\n",
       "<polygon fill=\"black\" stroke=\"black\" points=\"95.5706,-8.0655 85.7006,-11.9169 95.8181,-15.0611 95.5706,-8.0655\"/>\r\n",
       "</g>\r\n",
       "<!-- 1&#45;&gt;0 -->\r\n",
       "<g id=\"edge2\" class=\"edge\"><title>1&#45;&gt;0</title>\r\n",
       "<path fill=\"none\" stroke=\"black\" d=\"M85.4988,-24.0742C101.722,-24.7873 120.802,-24.936 138.217,-24.5205\"/>\r\n",
       "<polygon fill=\"black\" stroke=\"black\" points=\"138.358,-28.018 148.245,-24.2107 138.141,-21.0213 138.358,-28.018\"/>\r\n",
       "</g>\r\n",
       "</g>\r\n",
       "</svg>\r\n"
      ],
      "text/plain": [
       "<graphviz.dot.Digraph at 0x1cdbdfde9d0>"
      ]
     },
     "execution_count": 4,
     "metadata": {},
     "output_type": "execute_result"
    }
   ],
   "source": [
    "'''Condener'''\n",
    "\n",
    "cond = Cond()  # Create reactor module\n",
    "\n",
    "cond.name = 'Steamer'\n",
    "cond.save = True\n",
    "cond.time_step = time_step\n",
    "cond.end_time = end_time\n",
    "cond.show_time = show_time\n",
    "\n",
    "plant_net.module(cond)  # Add steamer module to network"
   ]
  },
  {
   "cell_type": "code",
<<<<<<< Updated upstream
   "execution_count": null,
   "metadata": {},
   "outputs": [],
=======
   "execution_count": 5,
   "metadata": {
    "scrolled": false
   },
   "outputs": [
    {
     "name": "stderr",
     "output_type": "stream",
     "text": [
      "[2672] 2020-11-17 21:17:10,399 - cortix - INFO - Launching Module <reactor.SMPWR object at 0x000001CDBA914910>\n",
      "[2672] 2020-11-17 21:17:10,490 - cortix - INFO - Launching Module <steamer.Steamer object at 0x000001CDBA9140D0>\n",
      "[2672] 2020-11-17 21:17:13,976 - cortix - INFO - run()::Elapsed wall clock time [s]: 10.9\n"
     ]
    }
   ],
>>>>>>> Stashed changes
   "source": [
    "'''Balance of Plant Network Connectivity'''\n",
    "\n",
    "plant_net.connect([reactor, 'coolant-outflow'], [steamer, 'primary-inflow'])\n",
    "plant_net.connect([steamer, 'primary-outflow'], [reactor, 'coolant-inflow'])\n",
    "plant_net.connect([steamer, 'secondary-outflow'], [cond, 'inflow'])\n",
    "plant_net.connect([cond, 'outflow'], [steamer, 'secondary-inflow'])\n",
    "plant_net.draw()"
   ]
  },
  {
   "cell_type": "code",
   "execution_count": 6,
   "metadata": {
    "scrolled": false
   },
   "outputs": [
    {
     "name": "stderr",
     "output_type": "stream",
     "text": [
      "[2672] 2020-11-17 21:17:18,896 - cortix - INFO - Closed Cortix object.\n",
      "_____________________________________________________________________________\n",
      "                           T E R M I N A T I N G                             \n",
      "_____________________________________________________________________________\n",
      "      ...                                        s       .     (TAAG Fraktur)\n",
      "   xH88\"`~ .x8X                                 :8      @88>\n",
      " :8888   .f\"8888Hf        u.      .u    .      .88      %8P      uL   ..\n",
      ":8888>  X8L  ^\"\"`   ...ue888b   .d88B :@8c    :888ooo    .     .@88b  @88R\n",
      "X8888  X888h        888R Y888r =\"8888f8888r -*8888888  .@88u  \"\"Y888k/\"*P\n",
      "88888  !88888.      888R I888>   4888>\"88\"    8888    888E`    Y888L\n",
      "88888   %88888      888R I888>   4888> \"      8888      888E      8888\n",
      "88888 `> `8888>     888R I888>   4888>        8888      888E      `888N\n",
      "`8888L %  ?888   ! u8888cJ888   .d888L .+    .8888Lu=   888E   .u./\"888&\n",
      " `8888  `-*\"\"   /   \"*888*P\"    ^\"8888*\"     ^%888*     888&  d888\" Y888*\"\n",
      "   \"888.      :\"      \"Y\"          \"Y\"         \"Y\"      R888\" ` \"Y   Y\"\n",
      "     `\"\"***~\"`                                           \"\"\n",
      "                             https://cortix.org                              \n",
      "_____________________________________________________________________________\n",
      "[2672] 2020-11-17 21:17:18,896 - cortix - INFO - close()::Elapsed wall clock time [s]: 15.82\n"
     ]
    }
   ],
   "source": [
    "'''Run'''\n",
    "\n",
    "plant.run()  # Run network dynamics simulation\n",
    "\n",
    "plant.close()  # Properly shutdow plant"
   ]
  },
  {
   "cell_type": "code",
   "execution_count": 7,
   "metadata": {},
   "outputs": [],
   "source": [
    "reactor = plant_net.modules[0]"
   ]
  },
  {
   "cell_type": "code",
   "execution_count": 8,
   "metadata": {},
   "outputs": [
    {
     "data": {
      "image/png": "iVBORw0KGgoAAAANSUhEUgAAAYIAAAEWCAYAAABrDZDcAAAABHNCSVQICAgIfAhkiAAAAAlwSFlzAAALEgAACxIB0t1+/AAAADh0RVh0U29mdHdhcmUAbWF0cGxvdGxpYiB2ZXJzaW9uMy4yLjIsIGh0dHA6Ly9tYXRwbG90bGliLm9yZy+WH4yJAAAgAElEQVR4nO3de5hddX3v8fdnJvcL5DYJIQkEMFxFbjFeqoKiNkFtWmtbqNpCRaSPtHpqrVhPq2J9jlpbsQc0cizFSx+pR61GjCBWA7YeNIMlhHANGJJJQjLJzITMJTOZ7O/5Y60hm81MZs9kr9mz9/q8nmc/s9dlr/39ZTL7s9dvrfVbigjMzCy/GqpdgJmZVZeDwMws5xwEZmY55yAwM8s5B4GZWc45CMzMcs5BYGajIukkSZ2SGqtdix0bB4GVTdJWST3pH/8zkm6TNCPj91wv6eoKb3OrpN2SphfNu1rS+gptPyS9qBLbKvP91ks6KOmApGcl3S/pekmTs3zfiNgWETMi4nBRHRX9XdnYcBDYSL0lImYA5wMXAB+ucj1DUmKo/+MTgPeNZT0DJE3IYLPXRcRMYCHwAeByYJ0kZfBeVmccBDYqEfEMcBdJIAAg6eWSfi6pQ9JGSZcULbtK0iPpt9anJL2neHuSVkt6IP1G+6SklZI+CbwauCndC7kpXfeVkjZI2p/+fGXRdtZL+qSk/wK6gVOHaMLfA38padZgCyWdKeluSW2SHpP0+yXvcXXR9JWS/jN9fm86e2Na8x9IukRSi6QPSXoG+BdJkyXdKGln+rhx4Bt80fofkLRH0i5JVw3zKwEgIroiYj3wW8ArgDel22xI9xKelLRP0jclzUmXLU33Yv5Y0jZJeyV9pKh9KyQ1p7+b3ZL+seR1Ewb7XUm6WdI/lPy7fl/S+8tpi42hiPDDj7IewFbg9enzxcAm4PPp9CJgH3AZyReMN6TTTenyNwGnAQIuJvmQvjBdtgLYn76mId3Wmemy9cDVRTXMAdqBd5J8q78inZ5btP424Jx0+cSh2gF8B/i7dN7VwPr0+XRgO3BVuo0Lgb3AOUPUdCXwn0XTAbyoaPoSoB/4NDAZmArcANwHzAeagJ8DnyhZ/wZgYvpv2g3MHuL38rx6iubfC3w6ff7+9P0WpzV8CfhGumxpWvP/SWs7D+gFzkqX/z/gnenzGcDLS143YYh/lxXATqAhnZ6XtmNBtf8v+/H8h/cIbKS+K+kAyQflHuCj6fx3AOsiYl1EFCLibqCZ5EOMiPhBRDwZiXuAH5F8gwR4F3BrRNydvnZHRDw6xPu/CXgiIr4WEf0R8Q3gUeAtRevcFhGb0+WHjtKWvwX+TFJTyfw3A1sj4l/SbfwK+DbwtuH/eYZUAD4aEb0R0QO8HbghIvZERCvwcZJwG3AoXX4oItYBncAZI3zPnSTBCfAe4CMR0RIRvcDHgLeVdFN9PCJ6ImIjsJEkEAZqeZGkeRHRGRH3lfPmEfFLkoC/NJ11OUnY7h5hOyxjDgIbqd+OpC/6EuBMkm95ACcDv5d2C3VI6gBeRdJnjaRVku5Lu1o6SAJi4LVLgCfLfP8TgadL5j1NshcxYHs5G4qIh4A7gOtLFp0MvKykLW8HTiizxsG0RsTBounSdjydzhuwLyL6i6a7Sb6Nj8QioC19fjLw70XteQQ4DCwoWv+ZId7vXcDpwKNpV9ybR1DDV0i+JJD+/NrImmBjwUFgo5J+q78N+Gw6azvwtYiYVfSYHhGfSvu+v52uuyAiZgHrSLqJBl572lBvVTK9k+RDrdhJwI6jvOZoPgq8mxcGyT0lbZkREX+aLu8CphWtX05ADNeOk9J5FSFpCXAR8LN01nZgVUmbpkTEjqG3koiIJyLiCpJurE8D3yo+46p41UHmfR1YLek84Czgu6Npj2XLQWDH4kbgDZLOJ/mDf4uk35TUKGlKetBzMTCJpF+6FeiXtAp4Y9F2/hm4StKl6UHNRZLOTJft5vkHfNcBp0v6w/Qg5R8AZ5N8sx+xiNgC/Bvw50Wz70jf452SJqaPl0o6K13+APBWSdOUnCb6rpLNltY8mG8A/1NSk6R5JN1UXx9NG4qlNV0MfA/4Jcm/F8Aa4JOSTk7Xa5K0usxtvkNSU0QUgI509uFBVn1BuyOiBdhAsifw7bRbzMYZB4GNWtq3/VXgbyJiO7Aa+GuSD/ztwAdJDhQeIPmg/SbJgd0/BNYWbeeXJAdmP0fSp3wPR74tf56kL7td0j9FxD6SPvwPkByM/ivgzRGx9xiacgPJAeKBeg6QBNXlJN/Sn+HIgV7SOvtIPvi+AvxryfY+Bnwl7Yb5fQb3dyTHUB4kOej+q3TeaN2UHrvZTRLQ3wZWph/ekPw7rgV+lK53H/CyMre9EtgsqTPdzuUl3VwDnve7Kpr/FeBc3C00binCN6Yxs+xIeg3J3s7SomCyccR7BGaWGUkTSS7c+7JDYPxyEJhZJtJjKh0kZ47dWOVy7CjcNWRmlnPeIzAzy7ksBr/K1Lx582Lp0qXVLsPMrKbcf//9eyOi9Cp6oAaDYOnSpTQ3N1e7DDOzmiKp9Ir857hryMws5xwEZmY55yAwM8s5B4GZWc45CMzMci6zIJB0a3qbvYeGWC5J/yRpi6QHJV2YVS1mZja0LPcIbiMZtXAoq4Bl6eMa4IsZ1mJmZkPI7DqCiLhX0tKjrLIa+GokY1zcJ2mWpIURsSurmurZocMFunsP09nXT09fPwcPFTh46DC9/QX6+gv09hfoLxToPxz0F4LDhQKHC6Q/g0JAIYIY+MmRaRi4t3X6HIqeHxmiZLjRSjIbzMTDpFhOLF86h9ecPug1YcekmheULeL5txRsSee9IAgkXUOy18BJJ500JsWNJ21dfTyx+wBb93Wxo+MgOzt6aD3Qy76uXto6+9jfc4iuvsHuE5If0vDrmNW6ay8+re6CYLA/3UG/2kXELcAtAMuXL6/rr3+FQvDgjv3815a9/Pe2Dh7Y3sHezt7nlkswf+ZkFhw3hfkzp3DmCcdx/NSJHDdlIjOmTGD6pEamTmpk2qQJTJnYwOQJjUya0MDERjGxsYEJDcnPhgbRKNHYkD4k1JD8UhokpOTnwHsKpT8H6lDRc4rq8yeyWa2pZhC0kNy0fMBiKnjP1lqzcXsHt2/Yzo8f2U3rgeSD/9R503nNsnmcfeJxnDZ/BqfNm8EJx09h0gSf7GVmlVPNIFgLXCfpdpJb5u3P2/GBiGDdpmdYc8+TbNqxn2mTGnntmfN5/Vnzufj0+cyZPqnaJZpZDmQWBJK+AVwCzJPUAnwUmAgQEWtIbqp9GbAF6Ca5Z21ubNzewSfueJjmp9s5rWk6N6w+h9+5YBEzp0ysdmlmljNZnjV0xTDLA3hvVu8/XhUKwRfWb+Ef7n6cudMn86m3nsvvLV9CY4P71s2sOmpuGOpa9uzBQ3zgmxu5++HdrD7/RP7ut1/sPQAzqzoHwRjp7O3nHV/+BQ/vfJaPvuVsrnzlUp9hY2bjgoNgDPT2H+Y9X2tm885nueWdF3HpWQuqXZKZ2XN8HmLGCoXgL/5tI/+1ZR+f+d2XOATMbNxxEGTs6794mh9s2sVfX3Ymv3vR4mqXY2b2Ag6CDG1v6+ZTP3yU15zexLtffWq1yzEzG5SDICMRwV//+yYE/K+3nusDw2Y2bjkIMvJ/72/hZ0/s5frLzmLRrKnVLsfMbEgOggz09Rf43N2Pc8FJs3j7ivyNlmpmtcVBkIG1G3eya/9B/vx1y2jwFcNmNs45CCqsUAi+dM+TnHnCTC45o/LjhpuZVZqDoMJ+8ugentjTybUXn+YDxGZWExwEFbbmnidZNGsqb37JwmqXYmZWFgdBBW1q2U/z0+28+9WnMKHR/7RmVhv8aVVBP9i0iwkN4rcvWFTtUszMyuYgqJDkbmO7eOWL5jFrmu8sZma1w0FQIZt3Psu2tm4ue/EJ1S7FzGxEHAQVsm7TLhobxBvPcRCYWW1xEFTAQLfQK06d6xvOm1nNcRBUwCO7DrB1XzeXnetTRs2s9jgIKuCHD+2iQfDGc3zTGTOrPQ6CCrj38VYuOnk282ZMrnYpZmYj5iA4Rt19/Ty081lWnDKn2qWYmY2Kg+AYPbCtg8OFYPlSB4GZ1SYHwTHasLUdCS48aXa1SzEzGxUHwTFqfrqNMxbM5PipE6tdipnZqDgIjkH/4QK/erqdl7pbyMxqmIPgGDz6zAG6+g6zfKm7hcysdjkIjkHz1jYAHyg2s5rmIDgGG55u58Tjp7Bo1tRql2JmNmoOglGKCJq3tnlvwMxqXqZBIGmlpMckbZF0/SDLj5f0fUkbJW2WdFWW9VRSS3sPu5/t5aU+PmBmNS6zIJDUCNwMrALOBq6QdHbJau8FHo6I84BLgH+QVBPDdz6861kAzl08q8qVmJkdmyz3CFYAWyLiqYjoA24HVpesE8BMSQJmAG1Af4Y1VcyWPZ0AvGj+jCpXYmZ2bLIMgkXA9qLplnResZuAs4CdwCbgfRFRKN2QpGskNUtqbm1tzareEXl89wEWzZrKjMkTql2KmdkxyTIINMi8KJn+TeAB4ETgfOAmSce94EURt0TE8ohY3tTUVPlKR+GJ3Z0sW+C9ATOrfVkGQQuwpGh6Mck3/2JXAd+JxBbg18CZGdZUEYcLwZOtnSxzt5CZ1YEsg2ADsEzSKekB4MuBtSXrbAMuBZC0ADgDeCrDmipie1s3vf0Fls2fWe1SzMyOWWYd3BHRL+k64C6gEbg1IjZLujZdvgb4BHCbpE0kXUkfioi9WdVUKU+kB4rdNWRm9SDTI50RsQ5YVzJvTdHzncAbs6whC4/vPgD4jCEzqw++sngUtuzpZOHxU5g5xUNPm1ntcxCMwhN7DrBsgY8PmFl9cBCMUKEQbNnjM4bMrH44CEaopb2Hg4cKnO4DxWZWJxwEI/TEnoEDxe4aMrP64CAYocd3e4whM6svDoIRemLPAU44bopvVm9mdcNBMEJb93Zxyrzp1S7DzKxiHAQjtKOjh8WzfWtKM6sfDoIR6OsvsOdALyf6HsVmVkccBCPwzP6DRMAi7xGYWR1xEIzAjo4eABZ5j8DM6oiDYAQcBGZWjxwEI7CjPQmChbOmVLkSM7PKcRCMwM6OHppmTmbyhMZql2JmVjEOghHY0dHjbiEzqzsOghHY6SAwszrkIChTRCR7BD511MzqjIOgTHs7++jtL3Di8T5QbGb1xUFQpp0Dp47OnlblSszMKstBUCZfQ2Bm9cpBUKadDgIzq1MOgjK1tPcwY/IEjps6odqlmJlVlIOgTDs6ejhx1hQkVbsUM7OKchCUydcQmFm9chCUKdkjcBCYWf1xEJShq7efju5DvpjMzOqSg6AMPmPIzOqZg6AMu/YfBGDh8Q4CM6s/DoIy7O3sBWDejElVrsTMrPKOelK8pLVlbKMtIq4c4vUrgc8DjcCXI+JTg6xzCXAjMBHYGxEXl/GeY+q5IJg5ucqVmJlV3nBXR50FXH2U5QJuHnSB1JguewPQAmyQtDYiHi5aZxbwBWBlRGyTNH8kxY+VvZ19TJrQwMzJvpjMzOrPcJ9sH4mIe462gqSPD7FoBbAlIp5K17sdWA08XLTOHwLfiYhtABGxp6yqx9jeA700zZjsi8nMrC4d9RhBRHxzuA0cZZ1FwPai6ZZ0XrHTgdmS1ku6X9IfDbYhSddIapbU3NraOlxJFdfa2evjA2ZWt44aBJKmSforSR+UNEXSlZLWSvqMpBnDbHuwr89RMj0BuAh4E/CbwN9IOv0FL4q4JSKWR8TypqamYd628vZ29jFvho8PmFl9Gu6soduABcApwA+A5cBnST7kvzjMa1uAJUXTi4Gdg6xzZ0R0RcRe4F7gvLIqH0N7O3sdBGZWt4Y7RnB6RPy+ks7xXcDrIyIk/QzYOMxrNwDLJJ0C7AAuJzkmUOx7wE2SJgCTgJcBnxtpI7JUKARtXX3Mm+muITOrT2WdBpN++K+LiCiaLu3mKX1Nv6TrgLtITh+9NSI2S7o2Xb4mIh6RdCfwIFAgOcX0oWNpUKW1d/dxuBDeIzCzujVcEDRLmhERnRHxJwMzJZ0GHBhu4xGxDlhXMm9NyfTfA39ffslja29nHwBNvobAzOrUUYMgIga9hiAinpT06mxKGl+OXFXsIDCz+lTWEBPpxWHPM9BNVO8cBGZW74YNAkkzSQ7q5lLrgSQImhwEZlanhruOYCHwY+CWsSln/Nnb2cekxgbfq9jM6tZwn24/Az4YEeUMPleX9nb2MnfGJA8vYWZ1a7iuoXZeOCxErvhiMjOrd8MFwSXAKknvHYNaxqW9HmfIzOrccIPOdQG/BVwwNuWMP60HvEdgZvVt2COgEXGYo9+ToG4VCsG+zj7fkMbM6tqIToWRdFzxayKireIVjSP7ew7R7+ElzKzOlRUEkt4D3AD0cGQo6QBOzaiuccH3KjazPCh3j+AvgXPSoaJzo7XTF5OZWf0ra4gJ4EmgO8tCxqOBAed8jMDM6lm5ewQfBn4u6RdA78DMiPjzTKoaJ/Ye8DhDZlb/yg2CLwE/ATaR3DcgF/Z29tLYIGZNnVjtUszMMlNuEPRHxF9kWsk4tLezl7nTJ9HQ4OElzKx+lXuM4KeSrpG0UNKcgUemlY0Dvmm9meVBuXsEA/ca/nDRvLo/fXRfVx9zfeqomdW5owaBpIURsSsiThmrgsaT9q4+ls6dVu0yzMwyNdwewa2SZgPrgTuB/4yI/syrGifau/uYPc17BGZW34a7Z/EqSVNIRiH9HeCzkraRhMKdEbEt+xKr49DhAgcO9jsIzKzulTPo3EHSD34ASacAq4CbJJ0QESuyLbE6OroPATB7uk8dNbP6NuL7L0bEr4EvAF+QVLdfl9u7k6uKvUdgZvWu3NNHX0DSpojoq2Qx40l7l4PAzPJhuLOG3jrUIuCEypczfrSnXUOzprlryMzq23BdQ/8G/CtHhp4uNqXy5YwfA11Dc6Z7j8DM6ttwQfAg8NmIeKh0gaTXZ1PS+OBjBGaWF8MdI3g/8OwQy36nwrWMK+1dfUyZ2MDUSY3VLsXMLFPDXUfws6Msa658OeNHe/ch7w2YWS4cdY9A0jXDbaCcdWpRe5evKjazfBjuGMH1ko52e0oB7wNuqVxJ40N7d58vJjOzXBguCO4B3jLMOncPtUDSSuDzQCPw5Yj41BDrvRS4D/iDiPjWMO83Jtq7D3HirKnVLsPMLHPDHSO4arQbltQI3Ay8AWgBNkhaGxEPD7Lep4G7RvteWfCAc2aWF6O+srgMK4AtEfFUegXy7cDqQdb7M+DbwJ4MaxmRw4Vgf88hZvsaAjPLgSyDYBGwvWi6JZ33HEmLSE5DXXO0DaV3R2uW1Nza2lrxQkvt7zlEBMz2VcVmlgNZBsFgN/otvUL5RuBDEXH4aBuKiFsiYnlELG9qaqpYgUPxxWRmlidljT4qaTLwu8DS4tdExA1HeVkLsKRoejGws2Sd5cDtkgDmAZdJ6o+I75ZTV1aeG3DOXUNmlgPlDkP9PWA/cD/QW+ZrNgDL0vsX7AAu58i9jwEovgWmpNuAO6odAnBkwDl3DZlZHpQbBIsjYuVINhwR/ZKuIzkbqBG4NSI2S7o2XX7U4wLV5CGozSxPyg2Cn0s6NyI2jWTjEbEOWFcyb9AAiIgrR7LtLD13jMBdQ2aWA+UGwauAKyX9mqRrSEBExEsyq6yK2rr7mNTYwHQPOGdmOVBuEKzKtIpxpqPrELOmTSQ9iG1mVtfKCoKIeDrrQsaTtu4+35DGzHIjy+sIalZHd59vUWlmueEgGER79yHvEZhZbjgIBtHe1ccsnzpqZjnhIChRKAQdPYd8MZmZ5YaDoMSBg/0cLoQvJjOz3HAQlPCAc2aWNw6CEm1pEPhgsZnlhYOgxMA4Qz591MzywkFQYl8aBHOnT65yJWZmY8NBUKJtIAhmuGvIzPLBQVCirauPyRMamOYB58wsJxwEJfZ19jF3+iQPOGdmueEgKNHW1cscdwuZWY44CEq0dfUxxweKzSxHHAQl9nUlXUNmZnnhICiR7BE4CMwsPxwERXr6DtPdd9hBYGa54iAosq+rF8BdQ2aWKw6CIgMXk3mPwMzyxEFQZJ+vKjazHHIQFGnrHNgj8OmjZpYfDoIiHmfIzPLIQVBkX1cfExvFzMkTql2KmdmYcRAUaevqZY7HGTKznHEQFPHwEmaWRw6CIh5ewszyyEFQxMNLmFkeZRoEklZKekzSFknXD7L87ZIeTB8/l3RelvUMp63TQWBm+ZNZEEhqBG4GVgFnA1dIOrtktV8DF0fES4BPALdkVc9wevsPc6C3311DZpY7We4RrAC2RMRTEdEH3A6sLl4hIn4eEe3p5H3A4gzrOarnhpfwNQRmljNZBsEiYHvRdEs6byjvAn442AJJ10hqltTc2tpawRKP2JdeVew9AjPLmyyDYLCT8WPQFaXXkgTBhwZbHhG3RMTyiFje1NRUwRKPODLgnE8fNbN8yfIS2hZgSdH0YmBn6UqSXgJ8GVgVEfsyrOeoPLyEmeVVlnsEG4Blkk6RNAm4HFhbvIKkk4DvAO+MiMczrGVYz4086q4hM8uZzPYIIqJf0nXAXUAjcGtEbJZ0bbp8DfC3wFzgC+mwDv0RsTyrmo6mrauXxgZx3JSJ1Xh7M7OqyXR0tYhYB6wrmbem6PnVwNVZ1lCutq4+Zk+bREODxxkys3zxlcWpfZ0eXsLM8slBkPLwEmaWVw6C1I6OHhbOmlLtMszMxpyDgGR4iWeePciS2dOqXYqZ2ZhzEAA7Ow4SASfNcRCYWf44CIBtbd0ALHEQmFkOOQiA7WkQeI/AzPLIQUASBJMmNDB/pscZMrP8cRAA29u7WTx7qi8mM7NcchAA29t6fMaQmeWWg4DkYPGSOVOrXYaZWVXkPgj29xxif88hHyg2s9zKfRAMnDHkriEzy6vcB0FLu68hMLN8y30Q+GIyM8u73AfB9rYejp86keOn+oY0ZpZPDoJ2nzFkZvmW+yDY1tbtM4bMLNdyHQSFQtDS7ovJzCzfch0Eew700tdfYLH3CMwsx3IdBNvbPeqomVmug6B5azsAZyyYWeVKzMyqJ9dB8JNHd3POicdxwvG+V7GZ5Vdug6C9q4/7n27n0rMWVLsUM7Oqym0QrH98D4WAS8+cX+1SzMyqKrdB8ONH9tA0czLnLjq+2qWYmVVVLoOgr7/AvY+18roz5vuuZGaWe7kMguatbRzo7efSs9wtZGaWyyD48SN7mDShgVctm1ftUszMqi53QdDV28/3H9zJb5w2l2mTJlS7HDOzqstdEHzpnidpPdDLda97UbVLMTMbFzINAkkrJT0maYuk6wdZLkn/lC5/UNKFWdazo6OHL937FG8570QuOnlOlm9lZlYzMgsCSY3AzcAq4GzgCklnl6y2CliWPq4BvphVPQCfufNRAD608ows38bMrKZkuUewAtgSEU9FRB9wO7C6ZJ3VwFcjcR8wS9LCLIr51bZ2vvfATt796lNZ7GGnzcyek2UQLAK2F023pPNGug6SrpHULKm5tbV1VMUIeM3pTfzpJaeN6vVmZvUqyyAY7EqtGMU6RMQtEbE8IpY3NTWNqpgLTprNV/9kBdMn+0whM7NiWQZBC7CkaHoxsHMU65iZWYayDIINwDJJp0iaBFwOrC1ZZy3wR+nZQy8H9kfErgxrMjOzEpn1k0REv6TrgLuARuDWiNgs6dp0+RpgHXAZsAXoBq7Kqh4zMxtcph3mEbGO5MO+eN6aoucBvDfLGszM7Ohyd2WxmZk9n4PAzCznHARmZjnnIDAzyzklx2trh6RW4OlRvnwesLeC5VRTvbTF7Rh/6qUtbsfznRwRg16RW3NBcCwkNUfE8mrXUQn10ha3Y/ypl7a4HeVz15CZWc45CMzMci5vQXBLtQuooHppi9sx/tRLW9yOMuXqGIGZmb1Q3vYIzMyshIPAzCznchMEklZKekzSFknXV7ueckm6VdIeSQ8VzZsj6W5JT6Q/Z1ezxnJIWiLpp5IekbRZ0vvS+bXYlimSfilpY9qWj6fza64tkNxfXNJ/S7ojna65dkjaKmmTpAckNafzaq4dAJJmSfqWpEfTv5dXZN2WXASBpEbgZmAVcDZwhaSzq1tV2W4DVpbMux74j4hYBvxHOj3e9QMfiIizgJcD701/B7XYll7gdRFxHnA+sDK9n0YttgXgfcAjRdO12o7XRsT5Refc12o7Pg/cGRFnAueR/G6ybUtE1P0DeAVwV9H0h4EPV7uuEdS/FHioaPoxYGH6fCHwWLVrHEWbvge8odbbAkwDfgW8rBbbQnJXwP8AXgfckc6rxXZsBeaVzKvFdhwH/Jr0RJ6xaksu9giARcD2oumWdF6tWhDpndzSn/OrXM+ISFoKXAD8ghptS9qd8gCwB7g7Imq1LTcCfwUUiubVYjsC+JGk+yVdk86rxXacCrQC/5J2131Z0nQybktegkCDzPN5s1UgaQbwbeD9EfFstesZrYg4HBHnk3yjXiHpxdWuaaQkvRnYExH3V7uWCviNiLiQpPv3vZJeU+2CRmkCcCHwxYi4AOhiDLq08hIELcCSounFwM4q1VIJuyUtBEh/7qlyPWWRNJEkBP41Ir6Tzq7JtgyIiA5gPclxnFpry28AvyVpK3A78DpJX6f22kFE7Ex/7gH+HVhBDbaD5LOqJd3DBPgWSTBk2pa8BMEGYJmkUyRNAi4H1la5pmOxFvjj9Pkfk/S3j2uSBPwz8EhE/GPRolpsS5OkWenzqcDrgUepsbZExIcjYnFELCX5m/hJRLyDGmuHpOmSZg48B94IPESNtQMgIp4Btks6I511KfAwWbel2gdHxvAgzGXA48CTwEeqXc8I6v4GsAs4RPJt4V3AXJIDfE+kP+dUu84y2vEqku64B4EH0sdlNdqWlwD/nbblIeBv0/k115aiNl3CkYPFNdUOkn71jelj88Dfd621o6g95wPN6f+v7wKzs26Lh5gwM8u5vHQNmZnZEBwEZmY55yAwM8s5B4GZWc45CMzMcs5BYGaWcw4Cyx1Jc9Phih+Q9IykHenzTklfyOD9bpP0a0nXjvB1P01rWj782majN6HaBZiNtYjYR3LRDpI+BnRGxMPlo8MAAAFtSURBVGczftsPRsS3RvKCiHitpPUZ1WP2HO8RmKUkXVJ0c5aPSfqKpB+lNz15q6TPpDc/uTMdNwlJF0m6Jx318q6B8WCGeZ/bJH0x/cb/lKSLldyA6BFJt2XcTLMXcBCYDe004E3AauDrwE8j4lygB3hTGgb/G3hbRFwE3Ap8ssxtzya5B8D/AL4PfA44BzhX0vkVbYXZMNw1ZDa0H0bEIUmbgEbgznT+JpKbBZ0BvBi4OxlTj0aScaHK8f2IiHTbuyNiE4Ckzem2H6hUI8yG4yAwG1ovQEQUJB2KIwNzFUj+dgRsjohXjHbb6bZ6i+YPbNtszLhryGz0HgOaJL0CkvstSDqnyjWZjZiDwGyUIqIPeBvwaUkbSbpzXlndqsxGzsNQm2UsPRPojpGePpq+dj3wlxHRXOm6zAZ4j8Ase/uBT4zmgjKSm64cyqQqs5T3CMzMcs57BGZmOecgMDPLOQeBmVnOOQjMzHLu/wNyU/jLMcSaDQAAAABJRU5ErkJggg==\n",
      "text/plain": [
       "<Figure size 432x288 with 1 Axes>"
      ]
     },
     "metadata": {
      "needs_background": "light"
     },
     "output_type": "display_data"
    }
   ],
   "source": [
    "(quant, time_unit) = reactor.neutron_phase.get_quantity_history('neutron-dens')\n",
    "quant.plot(x_scaling=1/unit.minute, y_scaling=1/max(quant.value), x_label='Time [m]', y_label=quant.formal_name+' ['+quant.unit+']')"
   ]
  },
  {
   "cell_type": "code",
   "execution_count": 9,
   "metadata": {},
   "outputs": [
    {
     "data": {
      "image/png": "iVBORw0KGgoAAAANSUhEUgAAAZkAAAEWCAYAAAC0Q+rDAAAABHNCSVQICAgIfAhkiAAAAAlwSFlzAAALEgAACxIB0t1+/AAAADh0RVh0U29mdHdhcmUAbWF0cGxvdGxpYiB2ZXJzaW9uMy4yLjIsIGh0dHA6Ly9tYXRwbG90bGliLm9yZy+WH4yJAAAgAElEQVR4nO3deXxddZ3/8dc7N2m676WULrTYVi2LIKUUUEFBQGEGZVALo4KiqIM/l3Fc0HEAHRTHBXdGGJBFZRFRKgKlgiwqFFoEWgpdoCtt05QmbZK2aZbP749zUm5Lmq25ubm37yeP+zj3fs853/P5NuF+8v1+z6KIwMzMLBdK8h2AmZkVLycZMzPLGScZMzPLGScZMzPLGScZMzPLGScZMzPLGScZ67UknSRpbR6Oe4Ok/+7p45oVIycZyxlJKyVtl1QjqVrS3yV9UlLB/t5JukBSSPriHuVrJZ3UDfVfJulX+1pPJ453kqRmSbXpz2mJpI/01PGt+BXs/+xWMP4pIgYBBwNXAl8GrstvSPtsM/BlSYN7+sBKdPf/t+siYiAwmOTnc62kaa0cu7Sbj9uq7jxOT8Vse+ckYz0iIrZExGzgA8D5kg4DkFQu6XuSVkuqkPS/kvq1Voekr0h6Mf2Le7Gk92bVsVnS4VnbHpD2okaln8+U9HRWj+qIrG2PkvRUWu9tQN92mvM88Bjw+b3EWZIV6yuSbpc0PF33miHAtMd3iqTTga8CH0h7Fs+k6x+SdIWkvwHbgEMkHS/pSUlb0uXxWfU9JOmbkv6Wtul+SSPbaROR+ANQBUxLe21/k3SVpM3AZe39vCSdlf47b03bf3p2G7O229VjkzQx7R1eKGk18KCkvpJ+lf77VadtHJ1uf5Ck2enPfLmkj+9R7x3pvluBCyTNkDQ/jalC0g/a+7ew7uMkYz0qIp4A1gJvTYu+A0wFjgQmA2OB/9rL7i+m+w0BLgd+JWlMRNQDtwIfzNr2XODPEVEp6c3A9cAngBHAL4DZ6RdmH+APwM3AcOC3wL90oClfBz7fkjz28BngPcCJwEEkX9o/a6/CiLgP+BZwW0QMjIg3Za3+EHARMAioAf4E/Dhtzw+AP0kakbX9ecBHgAOAPsB/tHf8NDm+FxgKLEyLjwVeSuu5gjZ+XpJmADcBX0zreBuwsr3jZjkReCNwGnA+yc95fNrGTwLb0+1uIfkdOgg4B/iWpJOz6jkLuCON4dfAj4AfRcRg4HXA7Z2IyfaRk4zlwzpguCQBHwc+HxGbI6KG5Et2Vms7RcRvI2JdRDRHxG3AMmBGuvpG4LysoaQPkSQO0mP8IiLmRURTRNwI1AMz01cZ8MOIaIiIO4An22tARDwN3E8yvLSnTwBfi4i1aQK8DDhnH4duboiI5yKiETgVWBYRN0dEY0TcArwA/FPW9r+MiKURsZ3kS/XINuo+SFI1sAm4FPhQRCxJ162LiJ+kx91B2z+vC4HrI2Ju+jN6OSJe6EQbL4uIujTmBpLkMjn9mS2IiK2SxgNvAb4cETvSn8P/kfy8WzwWEX9IY2ipa7KkkRFRGxGPdyIm20cer7R8GEsyrzEK6A8sSPINAAIyre0k6cPAvwMT06KBwEiAiJgnqQ44UdJ6kr+yZ6fbHUwyRPf/sqrrQ/KXcAAvx+53il3VwXb8F/CEpKv2KD8Y+L2k5qyyJmB0B+ttzZqs9wfx2hhXkfy7ttiQ9X4byb/V3qyLiHEdOG57P6/xwD1tHKc92ce6Oa3vVklDgV8BXyNpe0uCa7EKmL6XeiBJft8AXpC0Arg8Iu7ehzitE5xkrEdJOobky/CvJH85bwcOjYiX29nvYOBa4GSSv1SbJD1N8iXX4kaSIbMNwB0RsSMtXwNcERFXtFLvicBYScpKNBNIhubaFBEvSLqTZB4l2xrgoxHxt1aOdxDJF3XL5wzJl/euavd2uKz360gSWbYJwH3txdwF2cdt7+e1hmQ4qjV1ZLUbOLCtY0VEA8mQ6OWSJpIkryUkvcfhkgZlJZoJwMut1ZPWtQw4N+3lng3cIWlERNTtJVbrRh4usx4habCkM0nmTn4VEQsjopkkcVwl6YB0u7GSTmuligEkXx6V6XYfAQ7bY5ubgfeSJJqbssqvBT4p6VglBkg6Q9Igkgn8RuAzkkolnc2rQ3AdcTnJ3MfQrLL/Ba5IEyOSRkk6K123FOibHr8M+E+gPGvfCmCi2j6D7B5gqqTz0pg/AEwDcvrXeQd+XtcBH5F0cjq/M1bSG9J1TwOzJJVJmk4yl7JXkt4u6fA0CW8lGfJqiog1wN+Bb6cnBxxB0lP5dRt1fVDSqDT+6rS4qSv/BtZ5TjKWa3+UVEPyV+7XSCaps6/D+DKwHHg8PRvoz8Dr96wkIhYD3ydJChXA4cDf9thmLfAUSTJ6NKt8Pslcwk9JJuGXAxek63aS/HV7QbruA8CdHW1cRKwgSW4Dsop/RDJUd3/a9sdJJtCJiC3Av5HMI7xM8hd+9tlmv02Xr0h6ai/HfAU4E/gC8ArwJeDMiNjU0bj3wV5/XulJHR8BrgK2AA/zao/r6yS9nCqSxPybdo5zIMnk/VaSs/keJhkyg+SkjokkPbrfA5dGxNw26jodeE5SLcnPZlZWL9dyTH5omRUTSdeTzDH8Z75jMTPPyVgRScfuzwaOym8kZtbCw2VWFCR9E1gEfDcdwjKzXsDDZWZmljPuyZiZWc54TibLyJEjY+LEifkOw8ysoCxYsGBTRIxqbZ2TTJaJEycyf/78fIdhZlZQJO31LhkeLjMzs5xxkjEzs5xxkjEzs5xxkjEzs5xxkjEzs5xxkjEzs5xxkjEzs5zxdTLWORHQsA3qa2FnLTRsT16NO6CpHhp3QnMDNDVAc+Ory2hK9o3mvbwCaFm/2wFfXddaLK8tzEmz9348syIxcioc8b5urzanSSZ9HvdNJM+GaAauiYgfSbqM5PkelemmX42Ie9J9LiF5CFET8JmImJOWHw3cAPQjeWjTZyMiJJWnxzia5NkaH4iIlek+55M8FArgv9Nnu9veNDXCK8th84tQtRKqV0PNeqipgG2bYHsVbK9OEsZ+S+1vYlaI3nBG4SUZkicOfiEinkqfQrhAUsvDha6KiO9lbyxpGjALOJTkWd5/ljQ1IpqAq4GLSB4AdQ/Jg4juJUlIVRExWdIs4DvAByQNBy4lefZ3pMeeHRFVOW5z4ajbBCsegVV/hzXzoHJJ0htp0WcQDDoweR14OPQblrzKB0GfgcmyrB+U9oOyvpAph9I+kOkDJWWQKYWSUlAmWZZkQCXpS0m5BChrWfLq+xa7bbOH1srMrNfIaZKJiPXA+vR9jaTnSZ7vvjdnAbdGRD2wQtJyYIaklcDgiHgMQNJNwHtIksxZwGXp/ncAP5Uk4DRgbkRsTveZS5KYbunWRhaaHVtg0e9g0Z2w6m/J8FSfgTBuOhz7CRh9GIycAsMmJgnFX+Jmtg96bE4mfaDUUcA84ATg05I+DMwn6e1UkSSgx7N2W5uWNbD7I2pbykmXawAiolHSFmBEdnkr+2THdRFJD4kJEybsSxN7t5oN8PjPYf4voX4rjJgCb/0PmHoajDky6XWYmXWzHvlmkTQQ+B3wuYjYKulq4Jskw1jfJHl2+0dpfcA72iini/u8WhBxDXANwPTp04tvZre5Ceb9Lzz438nk/LT3wPH/Dw46yr0UM8u5nCcZSWUkCebXEXEnQERUZK2/Frg7/bgWGJ+1+zhgXVo+rpXy7H3WSioFhgCb0/KT9tjnoe5oU8HYtBzu/DisewqmnAanfxtGvC7fUZnZfiSn18mkcyPXAc9HxA+yysdkbfZeksfmAswGZkkqlzQJmAI8kc7t1Eiamdb5YeCurH3OT9+fAzwYyeM+5wCnShomaRhwalq2f1j9OFx3ClSvgnOuh/Nuc4Ixsx6X657MCcCHgIWSnk7LvgqcK+lIkuGrlcAnACLiOUm3A4tJzky7OD2zDOBTvHoK873pC5IkdnN6ksBmkrPTiIjN6XPfn0y3+0bLSQBFb/Fs+N3HYMg4+ODvYPikfEdkZvsphS8w22X69OlR8A8tW/Eo3HQWjD0azr0VBozId0RmVuQkLYiI6a2t8ylFxaR6Nfz2/GRY7IO/g76D8x2Rme3nfO+yYrFzG9x6XnLV/qxbnGDMrFdwT6ZYPHA5bFgE590OIyfnOxozM8A9meJQsRieuBamfxSmnprvaMzMdnGSKXQRcN9XoHwgvP1r+Y7GzGw3TjKF7oU/wYqHkwTjM8nMrJdxkilkTY1w/9dg1BuSoTIzs17GE/+FbOl9yXNf3n8zZMryHY2Z2Wu4J1PInrwWBo+D178735GYmbXKSaZQbVoGLz0E0y/wbfrNrNdykilUT16XPH3yqA/nOxIzs71ykilEO+vg6d/AtH+GQaPzHY2Z2V45yRSiRb+D+i1wzMfzHYmZWZucZArR4tkwbBJMmJnvSMzM2uQkU2h21sGKR+D17/Ljk82s13OSKTQvPQxN9TD1tHxHYmbWLieZQrP0XugzCCYcn+9IzMza5SRTSJqbYen9MPkdUNon39GYmbXLSaaQbHgGajfA1NPzHYmZWYc4yRSSpXMAwRQ/M8bMCoOTTCFZeh+MOwYGjMx3JGZmHeIkUyi2bYZ1/4Ap78x3JGZmHeYkUyheXpAsxx+b3zjMzDrBSaZQrJ0PCA46Kt+RmJl1mJNMoXh5PhzwRug7ON+RmJl1mJNMIYhIhsvGHp3vSMzMOsVJphBsfgm2V8G46fmOxMysU5xkCsHa+clyrJOMmRUWJ5lC8PJ8KBuQzMmYmRUQJ5lCsHZ+clZZSSbfkZiZdUpOk4yk8ZL+Iul5Sc9J+mxaPlzSXEnL0uWwrH0ukbRc0hJJp2WVHy1pYbrux1LyMBVJ5ZJuS8vnSZqYtc/56TGWSTo/l23NmYYdsGEhjPOkv5kVnlz3ZBqBL0TEG4GZwMWSpgFfAR6IiCnAA+ln0nWzgEOB04GfS2r58/1q4CJgSvpquUvkhUBVREwGrgK+k9Y1HLgUOBaYAVyancwKxoaF0Nzg+RgzK0g5TTIRsT4inkrf1wDPA2OBs4Ab081uBN6Tvj8LuDUi6iNiBbAcmCFpDDA4Ih6LiABu2mOflrruAE5OezmnAXMjYnNEVAFzeTUxFY6X00l/n1lmZgWox+Zk0mGso4B5wOiIWA9JIgIOSDcbC6zJ2m1tWjY2fb9n+W77REQjsAUY0UZde8Z1kaT5kuZXVlZ2vYG5UrEIBhwAgw/KdyRmZp3WI0lG0kDgd8DnImJrW5u2UhZtlHd1n1cLIq6JiOkRMX3UqFFthJYnlUth1OvzHYWZWZfkPMlIKiNJML+OiDvT4op0CIx0uTEtXwuMz9p9HLAuLR/XSvlu+0gqBYYAm9uoq3BEwKalMHJKviMxM+uSXJ9dJuA64PmI+EHWqtlAy9le5wN3ZZXPSs8Ym0Qywf9EOqRWI2lmWueH99inpa5zgAfTeZs5wKmShqUT/qemZYWjrhJ2VMNI92TMrDCV5rj+E4APAQslPZ2WfRW4Erhd0oXAauB9ABHxnKTbgcUkZ6ZdHBFN6X6fAm4A+gH3pi9IktjNkpaT9GBmpXVtlvRN4Ml0u29ExOZcNTQnNi1Nlu7JmFmBymmSiYi/0vrcCMDJe9nnCuCKVsrnA4e1Ur6DNEm1su564PqOxtvrVC5Jlp6TMbMC5Sv+e7NNy5LbyQzymWVmVpicZHqzTUtg5GQo8Y/JzAqTv716s03LPOlvZgXNSaa3qq+FLWtg5NR8R2Jm1mVOMr3VK8uT5SgnGTMrXE4yvdWmZcnSPRkzK2BOMr3VpiWgEhh+SL4jMTPrMieZ3mrTUhg2CUrL8x2JmVmXOcn0VpVLPVRmZgXPSaY3amqEzS960t/MCp6TTG9Usw6adno+xswKnpNMb1SdPmttyPi2tzMz6+WcZHqjLelDQJ1kzKzAOcn0RltWJ8sh49rezsysl3OS6Y2q10D/kdCnf74jMTPbJ04yvdGWte7FmFlRcJLpjbasgaGejzGzwuck09tEpD2ZCfmOxMxsnznJ9DbbNkPDNg+XmVlRcJLpbVrOLPNwmZkVASeZ3sbXyJhZEXGS6W18tb+ZFREnmd5myxoo6w/9h+c7EjOzfVba1kpJz3agjsqIOLmb4rEta5JejJTvSMzM9lmbSQbIAO9uY72A2d0XjlG9xmeWmVnRaC/JfCIiVrW1gaR/68Z4bMtaOOjIfEdhZtYt2pyTiYi/tldBR7axDtq5DbZtck/GzIqGJ/57k12nL/tqfzMrDk4yvcmW9PRlX4hpZkXCSaY3aUkyHi4zsyLRZpKR1F/SlyR9UVJfSRdImi3pfyQNbK9ySddL2ihpUVbZZZJelvR0+np31rpLJC2XtETSaVnlR0tamK77sZSc3yupXNJtafk8SROz9jlf0rL0dX7n/lnypHoNKAODDsp3JGZm3aK9nswNwGhgEvAnYDrwPZJTl6/uQP03AKe3Un5VRByZvu4BkDQNmAUcmu7zc0mZdPurgYuAKemrpc4LgaqImAxcBXwnrWs4cClwLDADuFTSsA7Em18162HgaMi0d9KfmVlhaO/bbGpEvD/tOawHTomIkPQo8Ex7lUfEI9m9i3acBdwaEfXACknLgRmSVgKDI+IxAEk3Ae8B7k33uSzd/w7gp2mspwFzI2Jzus9cksR0SwdjyY+aDTBodL6jMDPrNh2ak4mIAO5Jly2fYx+O+2lJz6bDaS09jLHAmqxt1qZlY9P3e5bvtk9ENAJbgBFt1PUaki6SNF/S/MrKyn1oUjeo3QgDD8xvDGZm3ai9JDO/Ze4lIj7aUijpdUBNF495NfA64EiS3tH3W6ptZdtoo7yr++xeGHFNREyPiOmjRo1qK+7cq90AAw/IbwxmZt2ovYsxPxYRta2Uvwi8tSsHjIiKiGiKiGbgWpI5E0h6G9nn7o4D1qXl41op320fSaXAEGBzG3X1Xk2NULcJBrknY2bFo0PDZVkT8Lu0DJ11lqQxWR/fC7SceTYbmJWeMTaJZIL/iYhYD9RImpnOt3wYuCtrn5Yzx84BHkzjmgOcKmlYOhx3alrWe9VVApFM/JuZFYl2T2OSNIhkwvzMzlYu6RbgJGCkpLUkZ3ydJOlIkuGrlcAnACLiOUm3A4uBRuDiiGhKq/oUyZlq/Ugm/O9Ny68Dbk5PEthMcnYaEbFZ0jeBJ9PtvtFyEkCvVbshWTrJmFkRae9W/2OAPwBXdKXyiDi3leLr2tj+itaOFRHzgcNaKd8BvG8vdV0PXN/hYPOtpiJZerjMzIpIez2ZR4EvRoRv559rtWmScU/GzIpIe3MyVezl1F/rZruSjM8uM7Pi0V6SOQl4l6SLeyCW/VvNBug3DErL8x2JmVm3ae8U5jrgn4Gjeiac/VhthS/ENLOi0+7ZZekZXh/rgVj2b7UVHiozs6LTqVv9SxosaXjLK1dB7ZdqKnxmmZkVnQ7d7lfSJ4BvANt59fYsARySo7j2LxFpT8ZnlplZcenoPeX/Azg0IjblMpj91o5qaKp3kjGzotPR4bIXgW25DGS/5gsxzaxIdbQncwnwd0nzgPqWwoj4TE6i2t/4ljJmVqQ6mmR+ATwILASacxfOfqp2Y7J0kjGzItPRJNMYEf+e00j2ZzVpT8ZPxTSzItPROZm/pE+QHONTmHOgtgJK+0H54HxHYmbWrTrakzkvXV6SVeZTmLtLy4WYau2BnmZmhavdW/1HxPqImNRTAe2Xajb4zDIzK0rt9WSuT58s+RBwH/DXiGjMeVT7m9oKGPWGfEdhZtbt2rtB5rtI7sT8EMmjkh+XdGc6PzMh9+HtJ3y1v5kVqY7cIHMHSS/mPgBJk4B3AT+VdGBEzMhtiEWuYTvs2OIzy8ysKHV04n+XiFgB/Bz4uaQ+3R/SfqauMlkO8B2Yzaz4dOouzNkkLYyInd0ZzH6pJcn4Nv9mVoTaO7vs7L2tAnw6VHeoS+85OmBUfuMwM8uB9obLbgN+zau398/Wt/vD2Q/tGi4bmd84zMxyoL0k8yzwvYhYtOcKSafkJqT9zK4k456MmRWf9uZkPgds3cu693ZzLPunuk1Q1h/6DMh3JGZm3a7NnkxEPNrGuvndH85+qK7SQ2VmVrTa7MlIuqi9CjqyjbWhbpOHysysaLU3J/MVSW09clnAZ4Frui+k/UxdJQw+KN9RmJnlRHtJ5mHgn9rZZm43xbJ/qtsEY47IdxRmZjnR3pzMR3oqkP1SRDon4+EyMytOXb7i37rBji3Q3AD9PfFvZsUpp0lG0vWSNkpalFU2XNJcScvS5bCsdZdIWi5piaTTssqPlrQwXfdjKXm6l6RySbel5fMkTcza5/z0GMsknZ/LdnaZr/Y3syKX657MDcDpe5R9BXggIqYAD6SfkTQNmAUcmu7zc0mZdJ+rgYuAKemrpc4LgaqImAxcBXwnrWs4cClwLDADuDQ7mfUavtrfzIpce/cu+2BE/ErSv7e2PiJ+0Nb+EfFIdu8idRbJM2oAbiR5Vs2X0/JbI6IeWCFpOTBD0kpgcEQ8lsZ0E/Ae4N50n8vSuu4gefyAgNOAuRGxOd1nLkliuqWteHucr/Y3syLX3tllLZehD+rGY46OiPUAEbFeUsvth8cCj2dttzYta0jf71ness+atK5GSVuAEdnlreyzm/Q6n4sAJkzo4eewOcmYWZFr7+yyX6TLy9vaTtIlEfHtfYxFrYXQRnlX99m9MOIa0ut8pk+f3uo2OdMyJ9N/RI8e1sysp3TXnMz7OrFthaQxAOlyY1q+Fhiftd04YF1aPq6V8t32kVQKDAE2t1FX71JXCX2HQqmf/WZmxanTT8bci9Z6DnszGzgfuDJd3pVV/htJPwAOIpngfyIimiTVSJoJzAM+DPxkj7oeA84BHoyIkDQH+FbWZP+pwCVdbl2ubNu/bikTETQHNEfQHEHsep+sCyCaIUjWQdL9bFn3aj2t1N16R7W1Dc2sFX1KSxjav/v/4O2uJNPq/7qSbiGZ5B8paS3JGV9XArdLuhBYTdoLiojnJN0OLAYagYsjoimt6lMkZ6r1I5nwvzctvw64OT1JYDPJ2WlExGZJ3wSeTLf7RstJAL1KL75vWUSwuW4nFVvrqajZwaaaeqq3NVC1bSc1Oxqp2dFAbX0T2xsa2b6ziR0NzdQ3NrGzqZmGxkiWTc00NgVNzUFTJEsz653eOW001354erfXm9OeTEScu5ftT97L9lcAV7RSPh84rJXyHexlqC4irgeu38vxe4e6Shg5Nd9RsKm2nn+sruaF9Vt5YUMNL1bWsmbzNup2Nr1m29ISMahvKYP6ljGgvJT+fTIMKC9l+IAM5WUllGdKKMuUUJoRZZkSyjKipESUlZRQUiIyEpkSkESJhAQlApG8l4QgeZ8eU+l2u/2S6bW/ch3tTreyq9l+b9yw/jmpt7uSzG+7qZ79S10lHHxCjx92Z2Mzj7/0CnMXV/D3FzfxYmXdrnUThvdn8gEDmXnICCYM78+YIX05YHA5owb2ZdiAMgaWlyJ/S5tZB3UoyUi6EfhsRFSnn4cB34+IjwJExLdyF2KRamqEbZt7dLhsWUUNNz++ij/842W27mikX1mGmYcM55yjxzN94jDeOGYwA8u76+8OM7OO92SOaEkwABFRJemoHMW0f9i+GYgeudr/mTXVfHfOEv66fBN9Sks44/AxvPvwMbx1ykj6lmXar8DMrIs6mmRKJA2LiCrYddsW/8m7L3rgQsz1W7bzrXte4I/PrGPEgD586fTXM+uYCQwf4FOmzaxndDRRfB/4u6Q7SM4kez+tTNBbJ+Q4ydyzcD2X3LmQ+sYmPvOOyXz8bYcwqG9ZTo5lZrY3HUoyEXGTpPnAO0hO4jk7IhbnNLJil6M7MO9sbOa/7lrErU+u4U3jh/KjDxzJxJED2t/RzCwHOjzklSYVJ5bukoM7MG/f2cSnfr2Ah5ZU8m8nvY7Pv3MqZRk/MsjM8sfzKvlSVwnKJLeV6QZbtjfw0Rue5B+rq/j22Ydz7owevtmnmVkrnGTypa4y6cWU7HtPY2djM5+4eT7Prq3mp+e9mXcfPqYbAjQz23dOMvlSWwkDDmh/u3ZEBP/5h4U8/tJmfjTrSCcYM+tVPGCfL7UVMHDfk8y1j77E7fPX8pmTp3DWka0+MsfMLG+cZPKlrnKfk8xTq6u48t4XOOOIMXz+lCndFJiZWfdxksmHCKjduE+nL+9oaOKLv32GAwf35cqzD/f9xMysV/KcTD7s2AJN9TBwdJeruOrPS3mxso6bPjrDF1maWa/lnkw+tFwj08XhsqfXVHPtIy8x65jxvG1q73wejZkZOMnkR236xOkuDJdFBN+8ezEjBpbz1TPe2M2BmZl1LyeZfKitSJZdGC574PmNLFhVxedOmcJgD5OZWS/nJJMPXRwua2oOvjtnCRNH9Of908fnIDAzs+7lJJMPtRuTW8r0G96p3e56+mWWVNTwhVNf73uSmVlB8DdVPtRWdPqWMg1Nzfxg7lIOPWgwZ/iqfjMrEE4y+dCFCzHvW7SBtVXb+dwpUykp8TUxZlYYnGTyoXZjp+9b9su/reDgEf05+Q37fisaM7Oe4osx86F2I4x6fYc3f2ZNNU+trua/zpzWrb2YpuYmtjduZ3vjdnY07qC+qZ76pnoamhuSV1MDjdFIQ3MDTc1NNEczTZEsW15B7FpGpK+W/yIACNJl+jm7LFv2+o5orQ4z65rxg8bzjgnv6PZ6nWR6WgTUbezUcNkv/7aCgeWlvG/6uA5t3xzNbNy2kZe2vMSarWvYsG0DFXUVbNq+iar6Kqrrq6nZWUNdQ11XW2FmRebt49/uJFMUdmyBpp0dHi7buHUHf1q4nn899uC93j6mobmBpyqeYt76eTxb+SyLXlm0WwIpVSmj+o9iVL9RjO4/mqnDpjK4z2AG9hnIgNIB9CvtR7+yfpRnyulT0ofyTDllmTJKS0opVSmlJaVkSjJklKFEJbuWLS+AEpUgtOseai3vxe6fs7V2v7WW7Tuqs9ubWesyJZmc1Osk09NarvbvYE/mlifW0NgcXHD8xN3KI4IFFQv47dLf8sjaR6htqKVUpUwZNoUzDzmTqcOmMmnIJCYMmgfqPxYAABG7SURBVMDIfiNz9gtkZtYWJ5meVtfxJBMR/O6ptRz/uhFMHDlgV9mcVXP4xTO/YHn1cgb1GcSpE0/lxHEnMnPMTPqX9c9l9GZmneIk09N23bes/SSzYFUVqzdv47MnJ8+KWVq1lCufuJInNzzJ5KGTufz4y3nXpHfRr7RfLiM2M+syJ5me1onhsjv/8TL9yjKcftiB/GH5H7j8scsZUDaAr8/8Ov8y5V88BGZmvZ6TTE+r69gtZeobm/jTs+s5ddoorn72h9y4+EZmjpnJd9/2XYb2HdpDwZqZ7Zu8XYwpaaWkhZKeljQ/LRsuaa6kZelyWNb2l0haLmmJpNOyyo9O61ku6cdKT1mSVC7ptrR8nqSJPd3GVrU8EbOdW8r85YWNbNm+k7oht3Dj4hs59w3ncvUpVzvBmFlByfcV/2+PiCMjYnr6+SvAAxExBXgg/YykacAs4FDgdODnklrGiq4GLgKmpK/T0/ILgaqImAxcBXynB9rTvtqNMLD958jc+dTLDDvoUeZVzuFTb/oUXz32q5SWuONpZoUl30lmT2cBN6bvbwTek1V+a0TUR8QKYDkwQ9IYYHBEPBbJ5eI37bFPS113ACertQszelrdxnafI7NlWwMPvzyXxiH3cOYhZ/KpN32qh4IzM+te+UwyAdwvaYGki9Ky0RGxHiBdtsyOjwXWZO27Ni0bm77fs3y3fSKiEdgCjNgzCEkXSZovaX5lZWW3NKxNtZXtnll2+zP/oOzA25k65AguP/7yVi9aNDMrBPkcfzkhItZJOgCYK+mFNrZt7Vs22ihva5/dCyKuAa4BmD59em5vhrXrljJ7Hy6LCG5a+kNEhp+d8gP6ZPrkNCQzs1zKW5KJiHXpcqOk3wMzgApJYyJifToUlp7vy1og+1GQ44B1afm4Vsqz91krqRQYAmzOVXs6ZEd1u7eUueel+6lmIUf0/xAHduHxzC2a6+tprKigceNGGquqaKqqormmhqaaGppr62jevo3YvoPm+nqivp7YuZNoaEheTU3Q2EA0NhHNTdDYREQzNAc0NSU3pmwOaG5OEmekt6pM3+96tdh1o8xWdPSmmJ28eaaZdc7Ak05i3A+v6vZ685JkJA0ASiKiJn1/KvANYDZwPnBlurwr3WU28BtJPwAOIpngfyIimiTVSJoJzAM+DPwka5/zgceAc4AHo7O3+e1uW9P8N7j1h45ta9jGlfO+Q9OOA/nk8ed3qMrmHTvYsfh5dixayI4XlrBz5Up2rlxJ0+a95NOSEkoGDKCkXz9K+vVDffui8nLUpwz1Ladk4EBUVoYyGSjNoEwpypRASQZKhEpKQCUgJZ8lQMnntAx4tbxFy5Bfa0N/HR0O9KihWc6UT56Sk3rz1ZMZDfw+nWsoBX4TEfdJehK4XdKFwGrgfQAR8Zyk24HFQCNwcUQ0pXV9CrgB6Afcm74ArgNulrScpAczqyca1qbq1cly6MRWV//yuV9S3VBJWfWnOe6QvQ+pNVRspGbOHGoffphtTzxBNDQAkBk5kvJJkxh08smUjR1L6ejRlB4witLhw8kMHUpm8GDUv7/neMysx+QlyUTES8CbWil/BTh5L/tcAVzRSvl84LBWyneQJqleo2pVshw64TWrtjdu55bnb4G6w3jnITMpzbz2nIy6x+dR9etfU/Pgg9DURJ9Jkxh23nn0n3EMfQ87nLLRfqCZmfUuvvCiJ1WvgrL+MGDka1b98cU/smXnFrZVzuL0kw7cbV39Sy9RceWV1D3yKJmhQxl+wfkMPeccyidN6qnIzcy6xEmmJ1WvTnoxewxXNUczNy++maGZQ2hqeh1vmZIkoWhu5pVf/ILKn/2ckr59OeBLX2LYv55HSXl5PqI3M+s0J5meVLUKhh78muK/vvxXVm5dSd+qD/HWKaPoW5ahua6OdZd8lZr772fwGWcw+quXUDriNZf5mJn1ak4yPal6NRx83GuKb1p8E8PLR7Fqwxs4+YTRNFVXs+qCj1C/dCkHfPnLDL/gfE/Wm1lBcpLpKduroH7Layb9V21dxbz185gx5IOsIsOJhwxh7acvZueLLzL+f69m4NvelqeAzcz2nZNMT9l1Ztnuw2X3rrgXISrXH8qbxg6i8YrL2TZ/Pgd9/3tOMGZW8HrbDTKLV8s1MsNeTTIRwb0r7uWIkUexcLW4cNUjbL3nHkZ94d8ZcsYZeQrUzKz7OMn0lOrXXiOzrHoZL215iXFlxzFuawWT77uNwe9+FyM+9rE8BWlm1r2cZHpK9WooHwL9dj2HjftW3EdGGV6pmMoXFt5Jpn9/Rn/ta57kN7Oi4STTU6pW7daLaRkqO+bAGQyY8wiv3/gio7/8JZ+mbGZFxUmmp1Sv2m0+ZtGmRaytXcuhMZ3znpnNjkPfxJCzz85jgGZm3c9JpidEpFf7v5pk7lt5H6UlpRz4xxUMatjOpMu/7mEyMys6TjI9oW4TNGzbNVwWETyw+gHeNuwYJj9yP8snH8XQww7Nc5BmZt3PSaYn7HH68rLqZbxc+zInzy9jwM5tNP/rBfmLzcwsh5xkekL1ymSZDpc9uPpB+jTC+D8t4KlRUzjuTF90aWbFyUmmJ+zxHJm/rPkL5700hr41W1jwlrM4YFDfPAZnZpY7TjI9oWol9B8B5QPZULeBxZue48S/17Jk6Hhe9073YsyseDnJ9ISXF8CBhwNJL+bQVcGA9VX88ZATOGXage3sbGZWuJxkcm3bZqhYBBPfAsBfVv+F9y7sx7a+A1hx2HFMHT0wzwGameWOk0yurfp7sjz4LWyp38LyZU9w2OJt3DP+GP7pmIm+NsbMipqTTK6t+huU9oWxb2bOyjmc9I+dKOCeiTM5+81j8x2dmVlOOcnk2spHYfwMKC3n7qV3cdozJSweN42x06Zw8IgB+Y7OzCynnGRyaXsVbFgEB7+FlVtWMvDhpxlc08RtY4/l7DePy3d0ZmY55ySTS6sfBwImvoXZy+/irHlB1eiDeHbsNM44Yky+ozMzyzknmVxa+VfIlNN80FG8eN9vmVAZ3HrIOzjl0DEM6VeW7+jMzHLOSSaXVv4Vxh3DE688y9seeoXaYYP506jDOW/GhPb3NTMrAk4yubJtM2x4ljj4BObe/VOmrYHfTjqJt7zhQE6YPDLf0ZmZ9YjSfAdQtB78JgBzBg/niFsWsK1fH+4eN5O7znhjngMzM+s57snkwup5MP96qo75KC/+5BqmroMfHfF+/uX4KUwZPSjf0ZmZ9Rj3ZLpb407442dh8Dhuf24975i3nQcOn8E/Jk3nh++c2qEqIoKd2xup39ZI/fZGGnY0snNHE407m2lqaKKxoZmmxqC5qZnmpnTZDNEcNDcH0RxEJPXQnCwDoDldBukyXj3ma97svv41MXbm38TMer2R4wZxxNu7/9KKok8ykk4HfgRkgP+LiCtzdrDmZvjzZayvXMqfao9ixpx/sOTAYVw/bRbXfng6wwf02bVp/bYGXllXR/WGbVRVbKPmle3UbK6nrrqe7TU7aW7qwte4oERCJUIlJLesUbKUkvWipaxlH2Xvvseb3d62cjzfEsesaOToL8eiTjKSMsDPgHcCa4EnJc2OiMXdfayorWTJdf/K8wuXM3zhaE7Yso6nxo7m98d/lmvPOoqBlQ089uyLbF5Xxytra9n6ynagCWgmkwkGDCtj4NA+jJ5YSt8B/Snvn6Gsb4ay8hLK+oiSMlFaWkJJRmQyUJIRyiTJoyQjhHZ950drvy1d+AWKNnoyZlZc+g7Mzc16VcxfJJKOAy6LiNPSz5cARMS3W9t++vTpMX/+/E4f5+6ff59ljyzY9TkQkXQYki/8aAaSl2giaErLzMx6h9dNn8l7vvifXdpX0oKImN7auqLuyQBjgTVZn9cCx2ZvIOki4CKACRO6dv3KQW+czkuPLqK5tAz1HUCfvn3p17eMTKaE0j6l9OlbRp9+feg/uB+ZslIyZWVkSsvIlJaSKS2lpLSUkkwpJZkSVFJCSUkGlSTvk6EupUNfWUtaPkP2oNauuzq3MpKltge/WuchMbP9Qv/BQ3JSb7Enmda+IXfrukXENcA1kPRkunKQN7/9RN789hO7squZWVEr9lOY1wLjsz6PA9blKRYzs/1OsSeZJ4EpkiZJ6gPMAmbnOSYzs/1GUQ+XRUSjpE8Dc0hOYb4+Ip7Lc1hmZvuNok4yABFxD3BPvuMwM9sfFftwmZmZ5ZGTjJmZ5YyTjJmZ5YyTjJmZ5UxR31amsyRVAqv2oYqRwKZuCief3I7epVjaAcXTFrdjdwdHxKjWVjjJdCNJ8/d2/55C4nb0LsXSDiietrgdHefhMjMzyxknGTMzyxknme51Tb4D6CZuR+9SLO2A4mmL29FBnpMxM7OccU/GzMxyxknGzMxyxkmmG0g6XdISScslfSXf8XSGpOslbZS0KKtsuKS5kpaly2H5jLEjJI2X9BdJz0t6TtJn0/KCaoukvpKekPRM2o7L0/KCakcLSRlJ/5B0d/q5UNuxUtJCSU9Lmp+WFVxbJA2VdIekF9L/V47LdTucZPaRpAzwM+BdwDTgXEnT8htVp9wAnL5H2VeAByJiCvBA+rm3awS+EBFvBGYCF6c/h0JrSz3wjoh4E3AkcLqkmRReO1p8Fng+63OhtgPg7RFxZNZ1JYXYlh8B90XEG4A3kfxsctuOiPBrH17AccCcrM+XAJfkO65OtmEisCjr8xJgTPp+DLAk3zF2oU13Ae8s5LYA/YGngGMLsR0kT6J9AHgHcHdaVnDtSGNdCYzco6yg2gIMBlaQnvDVU+1wT2bfjQXWZH1em5YVstERsR4gXR6Q53g6RdJE4ChgHgXYlnSI6WlgIzA3IgqyHcAPgS8BzVllhdgOgADul7RA0kVpWaG15RCgEvhlOoT5f5IGkON2OMnsO7VS5vPC80TSQOB3wOciYmu+4+mKiGiKiCNJegIzJB2W75g6S9KZwMaIWJDvWLrJCRHxZpJh8YslvS3fAXVBKfBm4OqIOAqooweG+Jxk9t1aYHzW53HAujzF0l0qJI0BSJcb8xxPh0gqI0kwv46IO9PigmwLQERUAw+RzJkVWjtOAP5Z0krgVuAdkn5F4bUDgIhYly43Ar8HZlB4bVkLrE17xgB3kCSdnLbDSWbfPQlMkTRJUh9gFjA7zzHtq9nA+en780nmN3o1SQKuA56PiB9krSqotkgaJWlo+r4fcArwAgXWjoi4JCLGRcREkv8nHoyID1Jg7QCQNEDSoJb3wKnAIgqsLRGxAVgj6fVp0cnAYnLcDl/x3w0kvZtk/DkDXB8RV+Q5pA6TdAtwEsktvyuAS4E/ALcDE4DVwPsiYnO+YuwISW8BHgUW8uocwFdJ5mUKpi2SjgBuJPldKgFuj4hvSBpBAbUjm6STgP+IiDMLsR2SDiHpvUAy5PSbiLiiQNtyJPB/QB/gJeAjpL9n5KgdTjJmZpYzHi4zM7OccZIxM7OccZIxM7OccZIxM7OccZIxM7OccZIxM7OccZIx60aSRqS3g39a0gZJL6fvayX9PAfHu0HSCkmf7OR+f0ljmt7+1mZdV5rvAMyKSUS8QnKLfiRdBtRGxPdyfNgvRsQdndkhIt4u6aEcxWO2i3syZj1A0klZD+66TNKNku5PH4Z1tqT/SR+KdV96DzYkHS3p4fTOv3Na7i/VznFukHR12lN5SdKJSh5M97ykG3LcTLPXcJIxy4/XAWcAZwG/Av4SEYcD24Ez0kTzE+CciDgauB7o6O2KhpE8w+XzwB+Bq4BDgcPT24qY9RgPl5nlx70R0SBpIcl9yu5LyxeSPETu9cBhwNzk3p9kgPUdrPuPERFp3RURsRBA0nNp3U93VyPM2uMkY5Yf9QAR0SypIV69iWAzyf+XAp6LiOO6WndaV31WeUvdZj3Gw2VmvdMSYJSk4yB5Vo6kQ/Mck1mnOcmY9UIRsRM4B/iOpGdIhriOz29UZp3nW/2bFbD0jLG7O3sKc7rvQyTPeZnf3XGZtXBPxqywbQG+2ZWLMYFDgIacRGWWck/GzMxyxj0ZMzPLGScZMzPLGScZMzPLGScZMzPLmf8PgT0Q+Smgwf8AAAAASUVORK5CYII=\n",
      "text/plain": [
       "<Figure size 432x288 with 1 Axes>"
      ]
     },
     "metadata": {
      "needs_background": "light"
     },
     "output_type": "display_data"
    }
   ],
   "source": [
    "(quant, time_unit) = reactor.neutron_phase.get_quantity_history('delayed-neutrons-cc')\n",
    "quant.plot(x_scaling=1/unit.minute, x_label='Time [m]', y_label=quant.formal_name+' ['+quant.unit+']')"
   ]
  },
  {
   "cell_type": "code",
   "execution_count": 10,
   "metadata": {},
   "outputs": [
    {
     "data": {
      "image/png": "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\n",
      "text/plain": [
       "<Figure size 432x288 with 1 Axes>"
      ]
     },
     "metadata": {
      "needs_background": "light"
     },
     "output_type": "display_data"
    }
   ],
   "source": [
    "(quant, time_unit) = reactor.reactor_phase.get_quantity_history('fuel-temp')\n",
    "quant.plot(x_scaling=1/unit.minute, x_label='Time [m]', y_label=quant.formal_name+' ['+quant.unit+']')"
   ]
  },
  {
   "cell_type": "code",
   "execution_count": 11,
   "metadata": {},
   "outputs": [
    {
     "data": {
      "image/png": "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\n",
      "text/plain": [
       "<Figure size 432x288 with 1 Axes>"
      ]
     },
     "metadata": {
      "needs_background": "light"
     },
     "output_type": "display_data"
    }
   ],
   "source": [
    "(quant, time_unit) = reactor.coolant_outflow_phase.get_quantity_history('temp')\n",
    "quant.plot(x_scaling=1/unit.minute, x_label='Time [m]', y_label=quant.formal_name+' ['+quant.unit+']')"
   ]
  },
  {
   "cell_type": "code",
   "execution_count": null,
   "metadata": {},
   "outputs": [],
   "source": [
    "(quant, time_unit) = cond.outflow_phase.get_quantity_history('temp')\n",
    "quant.plot(x_scaling=1/unit.minute, x_label='Time [m]', y_label=quant.formal_name+' ['+quant.unit+']')"
   ]
  },
  {
   "cell_type": "markdown",
   "metadata": {},
   "source": [
    "## [References](#toc)<a id=\"refs\"></a>\n",
    "\n",
    "1. Nuclear Reactor Engineering, [Engy-4350](https://github.com/dpploy/engy-4350) UMass Lowell, Dept. Chemical Engineering."
   ]
  },
  {
   "cell_type": "code",
   "execution_count": null,
   "metadata": {},
   "outputs": [],
   "source": []
  }
 ],
 "metadata": {
  "kernelspec": {
   "display_name": "Python 3",
   "language": "python",
   "name": "python3"
  },
  "language_info": {
   "codemirror_mode": {
    "name": "ipython",
    "version": 3
   },
   "file_extension": ".py",
   "mimetype": "text/x-python",
   "name": "python",
   "nbconvert_exporter": "python",
   "pygments_lexer": "ipython3",
   "version": "3.7.6"
  },
  "latex_envs": {
   "LaTeX_envs_menu_present": true,
   "autoclose": false,
   "autocomplete": true,
   "bibliofile": "biblio.bib",
   "cite_by": "apalike",
   "current_citInitial": 1,
   "eqLabelWithNumbers": true,
   "eqNumInitial": 1,
   "hotkeys": {
    "equation": "Ctrl-E",
    "itemize": "Ctrl-I"
   },
   "labels_anchors": false,
   "latex_user_defs": false,
   "report_style_numbering": false,
   "user_envs_cfg": false
  }
 },
 "nbformat": 4,
 "nbformat_minor": 2
}
