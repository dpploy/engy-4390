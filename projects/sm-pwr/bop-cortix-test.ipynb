{
 "cells": [
  {
   "cell_type": "markdown",
   "metadata": {},
   "source": [
    "**Engy-4390** Nuclear Systems Design and Analysis, UMass Lowell, Chem. Eng. Nuclear Program Fall 2020\n",
    "\n",
    "# NuScale 720 SMR BoP Cortix Testing\n",
    "$  \n",
    "  \\newcommand{\\Amtrx}{\\boldsymbol{\\mathsf{A}}}\n",
    "  \\newcommand{\\Bmtrx}{\\boldsymbol{\\mathsf{B}}}\n",
    "  \\newcommand{\\Mmtrx}{\\boldsymbol{\\mathsf{M}}}\n",
    "  \\newcommand{\\Imtrx}{\\boldsymbol{\\mathsf{I}}}\n",
    "  \\newcommand{\\Pmtrx}{\\boldsymbol{\\mathsf{P}}}\n",
    "  \\newcommand{\\Lmtrx}{\\boldsymbol{\\mathsf{L}}}\n",
    "  \\newcommand{\\Umtrx}{\\boldsymbol{\\mathsf{U}}}\n",
    "  \\newcommand{\\Smtrx}{\\boldsymbol{\\mathsf{S}}}\n",
    "  \\newcommand{\\xvec}{\\boldsymbol{\\mathsf{x}}}\n",
    "  \\newcommand{\\uvar}{\\boldsymbol{u}}\n",
    "  \\newcommand{\\fvar}{\\boldsymbol{f}}\n",
    "  \\newcommand{\\avec}{\\boldsymbol{\\mathsf{a}}}\n",
    "  \\newcommand{\\bvec}{\\boldsymbol{\\mathsf{b}}}\n",
    "  \\newcommand{\\cvec}{\\boldsymbol{\\mathsf{c}}}\n",
    "  \\newcommand{\\rvec}{\\boldsymbol{\\mathsf{r}}}\n",
    "  \\newcommand{\\mvec}{\\boldsymbol{\\mathsf{m}}}\n",
    "  \\newcommand{\\gvec}{\\boldsymbol{\\mathsf{g}}}\n",
    "  \\newcommand{\\zerovec}{\\boldsymbol{\\mathsf{0}}}\n",
    "  \\newcommand{\\norm}[1]{\\bigl\\lVert{#1}\\bigr\\rVert}\n",
    "  \\newcommand{\\transpose}[1]{{#1}^\\top}\n",
    "  \\DeclareMathOperator{\\rank}{rank}\n",
    "  \\newcommand{\\Power}{\\mathcal{P}}\n",
    "$"
   ]
  },
  {
   "cell_type": "markdown",
   "metadata": {},
   "source": [
    "**Students:** Jack and Nik <br>\n",
    "**Course:** Engy-4390 Nuclear Systems Design and Analysis  <br>\n",
    "**Mentor:** Prof. Valmor F. de Almeida\n",
    "\n",
    "UMass Lowell, Dept. of Chemical Engineering, Nuclear Energy Program \n",
    "<br>\n",
    "**11Dec2020**"
   ]
  },
  {
   "cell_type": "code",
   "execution_count": 1,
   "metadata": {},
   "outputs": [
    {
     "name": "stderr",
     "output_type": "stream",
     "text": [
      "[9428] 2020-11-20 13:05:14,329 - cortix - INFO - Created Cortix object \n",
      "_____________________________________________________________________________\n",
      "                             L A U N C H I N G                               \n",
      "_____________________________________________________________________________\n",
      "      ...                                        s       .     (TAAG Fraktur)\n",
      "   xH88\"`~ .x8X                                 :8      @88>\n",
      " :8888   .f\"8888Hf        u.      .u    .      .88      %8P      uL   ..\n",
      ":8888>  X8L  ^\"\"`   ...ue888b   .d88B :@8c    :888ooo    .     .@88b  @88R\n",
      "X8888  X888h        888R Y888r =\"8888f8888r -*8888888  .@88u  \"\"Y888k/\"*P\n",
      "88888  !88888.      888R I888>   4888>\"88\"    8888    888E`    Y888L\n",
      "88888   %88888      888R I888>   4888> \"      8888      888E      8888\n",
      "88888 `> `8888>     888R I888>   4888>        8888      888E      `888N\n",
      "`8888L %  ?888   ! u8888cJ888   .d888L .+    .8888Lu=   888E   .u./\"888&\n",
      " `8888  `-*\"\"   /   \"*888*P\"    ^\"8888*\"     ^%888*     888&  d888\" Y888*\"\n",
      "   \"888.      :\"      \"Y\"          \"Y\"         \"Y\"      R888\" ` \"Y   Y\"\n",
      "     `\"\"***~\"`                                           \"\"\n",
      "                             https://cortix.org                              \n",
      "_____________________________________________________________________________\n"
     ]
    }
   ],
   "source": [
    "try:\n",
    "    import cortix, iapws\n",
    "except ImportError:\n",
    "    print('Installing missing packages...')\n",
    "    print('')\n",
    "    !pip install cortix iapws\n",
    "    import cortix, iapws\n",
    "\n",
    "from cortix import Cortix\n",
    "from cortix import Network\n",
    "\n",
    "from reactor import SMPWR\n",
    "from steamer import Steamer\n",
    "from condenser import Condenser\n",
    "from turbine import Turbine\n",
    "from FWHS import FWHS\n",
    "\n",
    "import scipy.constants as unit\n",
    "\n",
    "end_time = 1 * unit.hour \n",
    "unit.second = 1.0\n",
    "time_step = 30.0 * unit.second\n",
    "show_time = (True, 5*unit.minute)\n",
    "\n",
    "plant = Cortix(use_mpi=False, splash=True) # System top level\n",
    "\n",
    "plant_net = plant.network = Network() # Network"
   ]
  },
  {
   "cell_type": "code",
   "execution_count": 2,
   "metadata": {},
   "outputs": [],
   "source": [
    "'''Reactor'''\n",
    "\n",
    "reactor = SMPWR()  # Create reactor module\n",
    "\n",
    "reactor.name = 'SMPWR'\n",
    "reactor.save = True\n",
    "reactor.time_step = time_step\n",
    "reactor.end_time = end_time\n",
    "reactor.show_time = show_time\n",
    "\n",
    "plant_net.module(reactor)  # Add reactor module to network"
   ]
  },
  {
   "cell_type": "code",
   "execution_count": 3,
   "metadata": {},
   "outputs": [],
   "source": [
    "'''Steamer'''\n",
    "\n",
    "steamer = Steamer()  # Create steamer module\n",
    "\n",
    "steamer.name = 'Steamer'\n",
    "steamer.save = True\n",
    "steamer.time_step = time_step\n",
    "steamer.end_time = end_time\n",
    "steamer.show_time = show_time\n",
    "\n",
    "plant_net.module(steamer)  # Add steamer module to network"
   ]
  },
  {
   "cell_type": "code",
   "execution_count": 4,
   "metadata": {},
   "outputs": [],
   "source": [
    "'''Turbine'''\n",
    "\n",
    "turbine = Turbine()  # Create turbine module\n",
    "\n",
    "turbine.name = 'Turbine'\n",
    "turbine.save = True\n",
    "turbine.time_step = time_step\n",
    "turbine.end_time = end_time\n",
    "turbine.show_time = show_time\n",
    "\n",
    "plant_net.module(turbine)  # Add turbine module to network"
   ]
  },
  {
   "cell_type": "code",
   "execution_count": 5,
   "metadata": {},
   "outputs": [],
   "source": [
    "'''Condenser'''\n",
    "\n",
    "condenser = Condenser()  # Create condenser module\n",
    "\n",
    "condenser.name = 'Condenser'\n",
    "condenser.save = True\n",
    "condenser.time_step = time_step\n",
    "condenser.end_time = end_time\n",
    "condenser.show_time = show_time\n",
    "\n",
    "plant_net.module(condenser)  # Add condenser module to network"
   ]
  },
  {
   "cell_type": "code",
   "execution_count": 6,
   "metadata": {},
   "outputs": [],
   "source": [
    "'''Feed Water Heating System'''\n",
    "\n",
    "FWHS = FWHS()  # Create condenser module\n",
    "\n",
    "FWHS.name = 'FWHS'\n",
    "FWHS.save = True\n",
    "FWHS.time_step = time_step\n",
    "FWHS.end_time = end_time\n",
    "FWHS.show_time = show_time\n",
    "\n",
    "plant_net.module(FWHS)  # Add condenser module to network"
   ]
  },
  {
   "cell_type": "code",
   "execution_count": 7,
   "metadata": {},
   "outputs": [
    {
     "data": {
      "image/svg+xml": [
       "<?xml version=\"1.0\" encoding=\"UTF-8\" standalone=\"no\"?>\r\n",
       "<!DOCTYPE svg PUBLIC \"-//W3C//DTD SVG 1.1//EN\"\r\n",
       " \"http://www.w3.org/Graphics/SVG/1.1/DTD/svg11.dtd\">\r\n",
       "<!-- Generated by graphviz version 2.38.0 (20140413.2041)\r\n",
       " -->\r\n",
       "<!-- Title: network&#45;0 Pages: 1 -->\r\n",
       "<svg width=\"130pt\" height=\"620pt\"\r\n",
       " viewBox=\"0.00 0.00 129.79 620.00\" xmlns=\"http://www.w3.org/2000/svg\" xmlns:xlink=\"http://www.w3.org/1999/xlink\">\r\n",
       "<g id=\"graph0\" class=\"graph\" transform=\"scale(1 1) rotate(0) translate(4 616)\">\r\n",
       "<title>network&#45;0</title>\r\n",
       "<polygon fill=\"white\" stroke=\"none\" points=\"-4,4 -4,-616 125.791,-616 125.791,4 -4,4\"/>\r\n",
       "<!-- 0 -->\r\n",
       "<g id=\"node1\" class=\"node\"><title>0</title>\r\n",
       "<polygon fill=\"lightgrey\" stroke=\"black\" points=\"115.07,-594 89.537,-612 38.4705,-612 12.9373,-594 38.4705,-576 89.537,-576 115.07,-594\"/>\r\n",
       "<text text-anchor=\"middle\" x=\"64.0038\" y=\"-590.3\" font-family=\"Times New Roman,serif\" font-size=\"14.00\">SMPWR</text>\r\n",
       "</g>\r\n",
       "<!-- 1 -->\r\n",
       "<g id=\"node2\" class=\"node\"><title>1</title>\r\n",
       "<polygon fill=\"lightgrey\" stroke=\"black\" points=\"110.564,-450 87.2841,-468 40.7234,-468 17.4431,-450 40.7234,-432 87.2841,-432 110.564,-450\"/>\r\n",
       "<text text-anchor=\"middle\" x=\"64.0038\" y=\"-446.3\" font-family=\"Times New Roman,serif\" font-size=\"14.00\">Steamer</text>\r\n",
       "</g>\r\n",
       "<!-- 0&#45;&gt;1 -->\r\n",
       "<g id=\"edge1\" class=\"edge\"><title>0&#45;&gt;1</title>\r\n",
       "<path fill=\"none\" stroke=\"black\" d=\"M68.6769,-575.762C71.1367,-551.201 71.4115,-507.247 69.5012,-478.354\"/>\r\n",
       "<polygon fill=\"black\" stroke=\"black\" points=\"72.9653,-477.771 68.6621,-468.09 65.9886,-478.342 72.9653,-477.771\"/>\r\n",
       "</g>\r\n",
       "<!-- 1&#45;&gt;0 -->\r\n",
       "<g id=\"edge2\" class=\"edge\"><title>1&#45;&gt;0</title>\r\n",
       "<path fill=\"none\" stroke=\"black\" d=\"M59.3306,-468.238C56.8708,-492.799 56.596,-536.753 58.5063,-565.646\"/>\r\n",
       "<polygon fill=\"black\" stroke=\"black\" points=\"55.0422,-566.229 59.3455,-575.91 62.019,-565.658 55.0422,-566.229\"/>\r\n",
       "</g>\r\n",
       "<!-- 2 -->\r\n",
       "<g id=\"node3\" class=\"node\"><title>2</title>\r\n",
       "<polygon fill=\"lightgrey\" stroke=\"black\" points=\"109.062,-18 86.5331,-36 41.4744,-36 18.9451,-18 41.4744,-2.13163e-014 86.5331,-0 109.062,-18\"/>\r\n",
       "<text text-anchor=\"middle\" x=\"64.0038\" y=\"-14.3\" font-family=\"Times New Roman,serif\" font-size=\"14.00\">Turbine</text>\r\n",
       "</g>\r\n",
       "<!-- 1&#45;&gt;2 -->\r\n",
       "<g id=\"edge3\" class=\"edge\"><title>1&#45;&gt;2</title>\r\n",
       "<path fill=\"none\" stroke=\"black\" d=\"M55.602,-431.947C35.59,-386.79 -12.1319,-265.156 3.01613,-162 9.35974,-118.801 31.8014,-73.0493 47.6119,-45.0003\"/>\r\n",
       "<polygon fill=\"black\" stroke=\"black\" points=\"50.7252,-46.6076 52.6867,-36.1959 44.6605,-43.1119 50.7252,-46.6076\"/>\r\n",
       "</g>\r\n",
       "<!-- 3 -->\r\n",
       "<g id=\"node4\" class=\"node\"><title>3</title>\r\n",
       "<polygon fill=\"lightgrey\" stroke=\"black\" points=\"121.58,-162 92.7918,-180 35.2157,-180 6.42772,-162 35.2157,-144 92.7918,-144 121.58,-162\"/>\r\n",
       "<text text-anchor=\"middle\" x=\"64.0038\" y=\"-158.3\" font-family=\"Times New Roman,serif\" font-size=\"14.00\">Condenser</text>\r\n",
       "</g>\r\n",
       "<!-- 2&#45;&gt;3 -->\r\n",
       "<g id=\"edge4\" class=\"edge\"><title>2&#45;&gt;3</title>\r\n",
       "<path fill=\"none\" stroke=\"black\" d=\"M64.0038,-36.2377C64.0038,-60.799 64.0038,-104.753 64.0038,-133.646\"/>\r\n",
       "<polygon fill=\"black\" stroke=\"black\" points=\"60.5039,-133.91 64.0038,-143.91 67.5039,-133.91 60.5039,-133.91\"/>\r\n",
       "</g>\r\n",
       "<!-- 4 -->\r\n",
       "<g id=\"node5\" class=\"node\"><title>4</title>\r\n",
       "<polygon fill=\"lightgrey\" stroke=\"black\" points=\"106.059,-306 85.0311,-324 42.9764,-324 21.949,-306 42.9764,-288 85.0311,-288 106.059,-306\"/>\r\n",
       "<text text-anchor=\"middle\" x=\"64.0038\" y=\"-302.3\" font-family=\"Times New Roman,serif\" font-size=\"14.00\">FWHS</text>\r\n",
       "</g>\r\n",
       "<!-- 3&#45;&gt;4 -->\r\n",
       "<g id=\"edge5\" class=\"edge\"><title>3&#45;&gt;4</title>\r\n",
       "<path fill=\"none\" stroke=\"black\" d=\"M64.0038,-180.238C64.0038,-204.799 64.0038,-248.753 64.0038,-277.646\"/>\r\n",
       "<polygon fill=\"black\" stroke=\"black\" points=\"60.5039,-277.91 64.0038,-287.91 67.5039,-277.91 60.5039,-277.91\"/>\r\n",
       "</g>\r\n",
       "<!-- 4&#45;&gt;1 -->\r\n",
       "<g id=\"edge6\" class=\"edge\"><title>4&#45;&gt;1</title>\r\n",
       "<path fill=\"none\" stroke=\"black\" d=\"M64.0038,-324.238C64.0038,-348.799 64.0038,-392.753 64.0038,-421.646\"/>\r\n",
       "<polygon fill=\"black\" stroke=\"black\" points=\"60.5039,-421.91 64.0038,-431.91 67.5039,-421.91 60.5039,-421.91\"/>\r\n",
       "</g>\r\n",
       "</g>\r\n",
       "</svg>\r\n"
      ],
      "text/plain": [
       "<graphviz.dot.Digraph at 0x24d33d9a748>"
      ]
     },
     "execution_count": 7,
     "metadata": {},
     "output_type": "execute_result"
    }
   ],
   "source": [
    "'''Balance of Plant Network Connectivity'''\n",
    "\n",
    "plant_net.connect([reactor, 'coolant-outflow'], [steamer, 'primary-inflow'])\n",
    "plant_net.connect([steamer, 'primary-outflow'], [reactor, 'coolant-inflow'])\n",
    "plant_net.connect([steamer, 'secondary-outflow'], [turbine, 'inflow'])\n",
    "plant_net.connect([turbine, 'outflow'], [condenser, 'inflow'])\n",
    "plant_net.connect([condenser, 'outflow'], [FWHS, 'incond'])\n",
    "plant_net.connect([FWHS, 'outflow'], [steamer, 'secondary-inflow'])\n",
    "plant_net.draw()"
   ]
  },
  {
   "cell_type": "code",
   "execution_count": null,
   "metadata": {
    "scrolled": false
   },
   "outputs": [
    {
     "name": "stderr",
     "output_type": "stream",
     "text": [
      "[9428] 2020-11-20 13:05:15,332 - cortix - INFO - Launching Module <reactor.SMPWR object at 0x0000024D3056A908>\n",
      "[9428] 2020-11-20 13:05:15,473 - cortix - INFO - Launching Module <steamer.Steamer object at 0x0000024D33D75A48>\n",
      "[9428] 2020-11-20 13:05:15,599 - cortix - INFO - Launching Module <turbine.Turbine object at 0x0000024D33D741C8>\n",
      "[9428] 2020-11-20 13:05:15,807 - cortix - INFO - Launching Module <condenser.Condenser object at 0x0000024D33D772C8>\n",
      "[9428] 2020-11-20 13:05:15,994 - cortix - INFO - Launching Module <FWHS.FWHS object at 0x0000024D33D7D308>\n"
     ]
    }
   ],
   "source": [
    "'''Run'''\n",
    "\n",
    "plant.run()  # Run network dynamics simulation"
   ]
  },
  {
   "cell_type": "code",
   "execution_count": null,
   "metadata": {
    "scrolled": false
   },
   "outputs": [],
   "source": [
    "'''Close'''\n",
    "\n",
    "plant.close()  # Properly shutdow plant"
   ]
  },
  {
   "cell_type": "code",
   "execution_count": null,
   "metadata": {},
   "outputs": [],
   "source": [
    "reactor = plant_net.modules[0]"
   ]
  },
  {
   "cell_type": "code",
   "execution_count": null,
   "metadata": {},
   "outputs": [],
   "source": [
    "(quant, time_unit) = reactor.neutron_phase.get_quantity_history('neutron-dens')\n",
    "quant.plot(x_scaling=1/unit.minute, y_scaling=1/max(quant.value), x_label='Time [m]', y_label=quant.formal_name+' ['+quant.unit+']')"
   ]
  },
  {
   "cell_type": "code",
   "execution_count": null,
   "metadata": {},
   "outputs": [],
   "source": [
    "(quant, time_unit) = reactor.neutron_phase.get_quantity_history('delayed-neutrons-cc')\n",
    "quant.plot(x_scaling=1/unit.minute, x_label='Time [m]', y_label=quant.formal_name+' ['+quant.unit+']')"
   ]
  },
  {
   "cell_type": "code",
   "execution_count": null,
   "metadata": {},
   "outputs": [],
   "source": [
    "(quant, time_unit) = reactor.reactor_phase.get_quantity_history('fuel-temp')\n",
    "quant.plot(x_scaling=1/unit.minute, x_label='Time [m]', y_label=quant.formal_name+' ['+quant.unit+']')"
   ]
  },
  {
   "cell_type": "code",
   "execution_count": null,
   "metadata": {},
   "outputs": [],
   "source": [
    "(quant, time_unit) = reactor.coolant_outflow_phase.get_quantity_history('temp')\n",
    "quant.plot(x_scaling=1/unit.minute, x_label='Time [m]', y_label=quant.formal_name+' ['+quant.unit+']')"
   ]
  },
  {
   "cell_type": "markdown",
   "metadata": {},
   "source": [
    "## [References](#toc)<a id=\"refs\"></a>\n",
    "\n",
    "1. Nuclear Reactor Engineering, [Engy-4350](https://github.com/dpploy/engy-4350) UMass Lowell, Dept. Chemical Engineering."
   ]
  },
  {
   "cell_type": "code",
   "execution_count": null,
   "metadata": {},
   "outputs": [],
   "source": []
  }
 ],
 "metadata": {
  "kernelspec": {
   "display_name": "Python 3",
   "language": "python",
   "name": "python3"
  },
  "language_info": {
   "codemirror_mode": {
    "name": "ipython",
    "version": 3
   },
   "file_extension": ".py",
   "mimetype": "text/x-python",
   "name": "python",
   "nbconvert_exporter": "python",
   "pygments_lexer": "ipython3",
   "version": "3.7.6"
  },
  "latex_envs": {
   "LaTeX_envs_menu_present": true,
   "autoclose": false,
   "autocomplete": true,
   "bibliofile": "biblio.bib",
   "cite_by": "apalike",
   "current_citInitial": 1,
   "eqLabelWithNumbers": true,
   "eqNumInitial": 1,
   "hotkeys": {
    "equation": "Ctrl-E",
    "itemize": "Ctrl-I"
   },
   "labels_anchors": false,
   "latex_user_defs": false,
   "report_style_numbering": false,
   "user_envs_cfg": false
  }
 },
 "nbformat": 4,
 "nbformat_minor": 2
}
