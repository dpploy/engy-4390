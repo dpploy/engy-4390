{
 "cells": [
  {
   "cell_type": "markdown",
   "metadata": {},
   "source": [
    "**Engy-4390** Nuclear Systems Design and Analysis, UMass Lowell, Chem. Eng. Nuclear Program Fall 2023\n",
    "\n",
    "# Uranium Mill Network Dynamics Simulation Report\n",
    "$  \n",
    "  \\newcommand{\\Amtrx}{\\boldsymbol{\\mathsf{A}}}\n",
    "  \\newcommand{\\Bmtrx}{\\boldsymbol{\\mathsf{B}}}\n",
    "  \\newcommand{\\Mmtrx}{\\boldsymbol{\\mathsf{M}}}\n",
    "  \\newcommand{\\Imtrx}{\\boldsymbol{\\mathsf{I}}}\n",
    "  \\newcommand{\\Pmtrx}{\\boldsymbol{\\mathsf{P}}}\n",
    "  \\newcommand{\\Lmtrx}{\\boldsymbol{\\mathsf{L}}}\n",
    "  \\newcommand{\\Umtrx}{\\boldsymbol{\\mathsf{U}}}\n",
    "  \\newcommand{\\Smtrx}{\\boldsymbol{\\mathsf{S}}}\n",
    "  \\newcommand{\\xvec}{\\boldsymbol{\\mathsf{x}}}\n",
    "  \\newcommand{\\uvar}{\\boldsymbol{u}}\n",
    "  \\newcommand{\\fvar}{\\boldsymbol{f}}\n",
    "  \\newcommand{\\avec}{\\boldsymbol{\\mathsf{a}}}\n",
    "  \\newcommand{\\bvec}{\\boldsymbol{\\mathsf{b}}}\n",
    "  \\newcommand{\\cvec}{\\boldsymbol{\\mathsf{c}}}\n",
    "  \\newcommand{\\rvec}{\\boldsymbol{\\mathsf{r}}}\n",
    "  \\newcommand{\\mvec}{\\boldsymbol{\\mathsf{m}}}\n",
    "  \\newcommand{\\gvec}{\\boldsymbol{\\mathsf{g}}}\n",
    "  \\newcommand{\\zerovec}{\\boldsymbol{\\mathsf{0}}}\n",
    "  \\newcommand{\\norm}[1]{\\bigl\\lVert{#1}\\bigr\\rVert}\n",
    "  \\newcommand{\\transpose}[1]{{#1}^\\top}\n",
    "  \\DeclareMathOperator{\\rank}{rank}\n",
    "  \\newcommand{\\Power}{\\mathcal{P}}\n",
    "$"
   ]
  },
  {
   "cell_type": "markdown",
   "metadata": {},
   "source": [
    "**Students:** Kyle Rizzuto, Robert Townsend, Jacob Duprey, Kevin McMenemy <br>\n",
    "**Course:** Engy-4390 Nuclear Systems Design and Analysis  <br>\n",
    "**Mentor:** Prof. Valmor F. de Almeida\n",
    "\n",
    "UMass Lowell, Dept. of Chemical Engineering, Nuclear Energy Program \n",
    "<br>\n",
    "**27Sep2023**"
   ]
  },
  {
   "cell_type": "markdown",
   "metadata": {},
   "source": [
    "<font color=\"red\">vfda: I strongly suggest you to have a project outline document with division of tasks and timeline for the members of the group. Who does what and what the deadlines are. What is the progress so far?</font>"
   ]
  },
  {
   "cell_type": "markdown",
   "metadata": {},
   "source": [
    "---\n",
    "## Table of Contents<a id=\"toc\"></a>\n",
    "* [Introduction](#intro)\n",
    "* [Objectives](#obj)\n",
    "* [Approach and Dynamics Equations](#app)\n",
    "* [Initialization of Process Modules](#IPM)\n",
    "  + [Leaching](#leach)\n",
    "  + [Solvent Extraction](#solvent)\n",
    "  + [Modified Denitration](#modified)\n",
    "  + [Evaporation](#evap)\n",
    "* [Startup](#su)\n",
    "* [Steady-State](#ss)\n",
    "* [Disturbance](#malfunction)\n",
    "* [References](#refs)\n",
    "---"
   ]
  },
  {
   "cell_type": "markdown",
   "metadata": {},
   "source": [
    "## [Introduction](#toc)<a id=\"intro\"></a>\n",
    "\n",
    "<font color=\"red\">vfda: This needs to be beefed up.</font>"
   ]
  },
  {
   "cell_type": "markdown",
   "metadata": {},
   "source": [
    "&nbsp;&nbsp; Yellowcake is a material produced from uranium during the milling process. It is a mixture of different types of uranium oxide that combine to form a yellow tinted compound. This material is vital in the formation of reactor fuel in the later steps of the process known as uranium conversion. The two main processes used to recover uranium from the ground are In-Situ leaching and open-pit mining. In-Situ mining, which involves the injection of acid into the ground that dissolves uranium before being brought back to the surface in a pipe, is vastly more used in the US than open-pit because it allows a direct recovery of uranium without the need for digging out uranium bearing rock and moving it to a separate facility for processing. This does limit the places that the method can be used because the acid can contaminate groundwater if it is allowed to travel too deep. Once the uranium is pulled from the ground, it undergoes chemical separations to isolate the oxides.\n",
    "\n",
    "&nbsp;&nbsp;The general unit operations that follow the mining of the ore are size reduction (crushing/grinding), then acid leaching. The acid leaching process uses acidic and alkaline aqueous solutions with agitation for four to 48 hours at ambient temperature. Usually sulfuric acid is used and results in a final liquor with a pH of 1.5. Manganese dioxide is typically then used with the liquor to result in [UO2(SO4)3]2- The resulting uranium-oxide containing ions must then be separated using either a solvent extraction or ion exchange. The ion exchange usually uses an ion-exchange resin along with any of a variety of processing equipment such as fixed or moving bed along with another chemical solution to “sorb” the complex ion from the leach solution. Solvent extraction involves using alkyl phosphoric acids and alkyl amides as solvents to remove the ions containing uranium from their leach solution. The uranium oxide must then be precipitated from the solutions created by the solvent extraction or ion exchange. The resulting “yellow cake” as it is commonly referred to is a mix of uranium oxides which is then shipped to a final purification facility.[4]\n",
    "\n",
    "&nbsp;&nbsp;Yellow cake, which is about 90% U3O8, is then chemically processed into uranium tetrafluoride (UF4) through a process called hydrofluorination. This reaction mechanism consists of heating beds of solid uranium oxide in an environment of gaseous hydrofluoric acid and stripping away the oxide layers until only UF4 remains. HF is typically used in a 20% stoichiometric excess to maximize the conversion percentage of U3O8 to at least 98%. Before the uranium can be enriched however, the UF4 must be further converted into UF6, also known as uranium hexafluoride. This is because enrichment is largely dependent on gaseous centrifugal separation, and UF6 does not possess a liquid form under standard pressure conditions. Uranium fluorides are also the preferred form for enrichment because fluorine only exists in one natural isotope, meaning that the heavier molecules will always contain the Uranium-238.\n"
   ]
  },
  {
   "cell_type": "markdown",
   "metadata": {},
   "source": [
    "<font color=\"red\">Where is the flowsheet? Which plant? How about the documents that needed to be reviewed? IAEA document with plants?</font>"
   ]
  },
  {
   "cell_type": "markdown",
   "metadata": {},
   "source": [
    "## [Objectives](#toc)<a id=\"obj\"></a>"
   ]
  },
  {
   "cell_type": "markdown",
   "metadata": {},
   "source": [
    "- Python code will be used to develop dynamic comprehensive systems that accurately represent the milling process as well as the complex parts of the plant that simulate a steady state reactor. This involves both mathematical models of the system’s material streams and visual representations of the data on a time dependent basis. \n",
    "- Deliverable content will be prepared using Jupyter notebooks to seamlessly integrate working code with descriptive markdown text.  \n",
    "\n"
   ]
  },
  {
   "cell_type": "markdown",
   "metadata": {},
   "source": [
    "## [Approach and Dynamics Equations](#toc)<a id=\"app\"></a>"
   ]
  },
  {
   "cell_type": "markdown",
   "metadata": {},
   "source": [
    "-  "
   ]
  },
  {
   "cell_type": "markdown",
   "metadata": {},
   "source": [
    "|     **Module**        |      **Inputs**      |      **Outputs**       |     **Legend**     |\n",
    "|:----------------------|:---------------------|:-----------------------|:-------------------|\n",
    "| Solvent Extraction             |        |           |        |\n"
   ]
  },
  {
   "cell_type": "markdown",
   "metadata": {},
   "source": [
    "## [Initialization of Process Modules](#toc)<a id=\"IPM\"></a>"
   ]
  },
  {
   "cell_type": "code",
   "execution_count": 1,
   "metadata": {
    "scrolled": true
   },
   "outputs": [
    {
     "name": "stderr",
     "output_type": "stream",
     "text": [
      "[4350] 2020-12-21 18:49:23,874 - cortix - INFO - Created Cortix object \n",
      "_____________________________________________________________________________\n",
      "                             L A U N C H I N G                               \n",
      "_____________________________________________________________________________\n",
      "      ...                                        s       .     (TAAG Fraktur)\n",
      "   xH88\"`~ .x8X                                 :8      @88>\n",
      " :8888   .f\"8888Hf        u.      .u    .      .88      %8P      uL   ..\n",
      ":8888>  X8L  ^\"\"`   ...ue888b   .d88B :@8c    :888ooo    .     .@88b  @88R\n",
      "X8888  X888h        888R Y888r =\"8888f8888r -*8888888  .@88u  \"\"Y888k/\"*P\n",
      "88888  !88888.      888R I888>   4888>\"88\"    8888    888E`    Y888L\n",
      "88888   %88888      888R I888>   4888> \"      8888      888E      8888\n",
      "88888 `> `8888>     888R I888>   4888>        8888      888E      `888N\n",
      "`8888L %  ?888   ! u8888cJ888   .d888L .+    .8888Lu=   888E   .u./\"888&\n",
      " `8888  `-*\"\"   /   \"*888*P\"    ^\"8888*\"     ^%888*     888&  d888\" Y888*\"\n",
      "   \"888.      :\"      \"Y\"          \"Y\"         \"Y\"      R888\" ` \"Y   Y\"\n",
      "     `\"\"***~\"`                                           \"\"\n",
      "                             https://cortix.org                              \n",
      "_____________________________________________________________________________\n"
     ]
    }
   ],
   "source": [
    "'''Setup a Cortix plant'''\n",
    "\n",
    "from cortix import Cortix\n",
    "from cortix import Network\n",
    "\n",
    "plant = Cortix(use_mpi=False, splash=True) # System top level\n",
    "plant_net = plant.network = Network() # Network"
   ]
  },
  {
   "cell_type": "markdown",
   "metadata": {},
   "source": [
    "### [Leaching](#toc)<a id=\"leach\"></a>"
   ]
  },
  {
   "cell_type": "markdown",
   "metadata": {},
   "source": [
    "### [Solvent Extraction](#toc)<a id=\"solvent\"></a>"
   ]
  },
  {
   "cell_type": "markdown",
   "metadata": {},
   "source": [
    "### [Modified Denitration](#toc)<a id=\"modified\"></a>"
   ]
  },
  {
   "cell_type": "markdown",
   "metadata": {},
   "source": [
    "Modified denitration consists of combining uranyl nitrate [UO<sub>2</sub>(NO<sub>3</sub>)<sub>2</sub>]  with ammonium nitrate in the presence of water with the end goal of producing uranium trioxide (UO<sub>3</sub>) powder. The mixture must be kept between the range of 280-350 Celsius. Uranyl nitrate should be added in excess at a ratio of 1.3-1 with the ammonium nitrate, as the product of the reaction, (NH<sub>4</sub>)<sub>2</sub>UO<sub>2</sub>(NO<sub>3</sub>)<sub>4</sub>, will decompose while still in the solid state, maintaining the ammonium cations for further reactions. \n",
    "\n",
    "This process, created and successfully operated at Oak Ridge National Laboratory on a pilot scale, was designed to produce on the order of 10s of kilograms of product, and requires the use of a rotary kiln with cylindrical heating elements entered vertically from the top and bottom rows. Feed is injected in liquid form to the 600 C furnace heated zone of the kiln with steam and decomposition gases running in a countercurrent to the feed. Stainless steel rods are stored inside the rotary kiln to continuosly break-up any forming solids to promote more efficient heat transfer. The oxide product is removed from the bottom of the kiln with an air purge to purify the output flow. Product can typically be stored in polyethylene bottles. [3]\n",
    "____\n"
   ]
  },
  {
   "cell_type": "markdown",
   "metadata": {},
   "source": [
    "### [Evaporation](#toc)<a id=\"evap\"></a>"
   ]
  },
  {
   "cell_type": "markdown",
   "metadata": {},
   "source": [
    "## [Startup](#toc)<a id=\"su\"></a>"
   ]
  },
  {
   "cell_type": "code",
   "execution_count": null,
   "metadata": {
    "scrolled": false
   },
   "outputs": [],
   "source": []
  },
  {
   "cell_type": "code",
   "execution_count": null,
   "metadata": {},
   "outputs": [],
   "source": []
  },
  {
   "cell_type": "code",
   "execution_count": null,
   "metadata": {},
   "outputs": [],
   "source": []
  },
  {
   "cell_type": "code",
   "execution_count": null,
   "metadata": {},
   "outputs": [],
   "source": []
  },
  {
   "cell_type": "markdown",
   "metadata": {},
   "source": [
    "## [Steady State](#toc)<a id=\"ss\"></a>"
   ]
  },
  {
   "cell_type": "code",
   "execution_count": null,
   "metadata": {},
   "outputs": [],
   "source": []
  },
  {
   "cell_type": "code",
   "execution_count": null,
   "metadata": {},
   "outputs": [],
   "source": []
  },
  {
   "cell_type": "markdown",
   "metadata": {},
   "source": [
    "## [Disturbance](#toc)<a id=\"malfunction\"></a>"
   ]
  },
  {
   "cell_type": "code",
   "execution_count": null,
   "metadata": {},
   "outputs": [],
   "source": []
  },
  {
   "cell_type": "code",
   "execution_count": null,
   "metadata": {},
   "outputs": [],
   "source": []
  },
  {
   "cell_type": "markdown",
   "metadata": {},
   "source": [
    "## [References](#toc)<a id=\"refs\"></a>\n",
    "\n",
    "\n",
    "\n",
    "- [1] V. F. de Almeida, [Cortix](https://cortix.org), *Network Dynamics Simulation*, University of Massachusetts Lowell, Dept. of Chemical Engineering (Nuclear program).\n",
    "- [2] V. F. de Almeida, [*Engy-4350: Nuclear Reactor Engineering*](https://github.com/dpploy/engy-4350), University of Massachusetts Lowell, Dept. of Chemical Engineering (Nuclear Program).\n",
    "- [3] Kitts, F.G. Pilot-Scale Demonstration of the Modified Direct Denitration Process To ..., 1994, www.ornl.gov/info/reports/1994/3445603813443.pdf. \n",
    "- [4] “NRC: Conventional Uranium Mills.” Www.nrc.gov, www.nrc.gov/materials/uranium-recovery/extraction-methods/conventional-mills.html.\n"
   ]
  },
  {
   "cell_type": "code",
   "execution_count": null,
   "metadata": {},
   "outputs": [],
   "source": []
  }
 ],
 "metadata": {
  "kernelspec": {
   "display_name": "Python 3 (ipykernel)",
   "language": "python",
   "name": "python3"
  },
  "language_info": {
   "codemirror_mode": {
    "name": "ipython",
    "version": 3
   },
   "file_extension": ".py",
   "mimetype": "text/x-python",
   "name": "python",
   "nbconvert_exporter": "python",
   "pygments_lexer": "ipython3",
   "version": "3.11.5"
  },
  "latex_envs": {
   "LaTeX_envs_menu_present": true,
   "autoclose": false,
   "autocomplete": true,
   "bibliofile": "biblio.bib",
   "cite_by": "apalike",
   "current_citInitial": 1,
   "eqLabelWithNumbers": true,
   "eqNumInitial": 1,
   "hotkeys": {
    "equation": "Ctrl-E",
    "itemize": "Ctrl-I"
   },
   "labels_anchors": false,
   "latex_user_defs": false,
   "report_style_numbering": false,
   "user_envs_cfg": false
  }
 },
 "nbformat": 4,
 "nbformat_minor": 2
}
