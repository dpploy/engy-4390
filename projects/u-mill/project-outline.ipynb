{
 "cells": [
  {
   "cell_type": "markdown",
   "metadata": {},
   "source": [
    "**Engy-4390** Nuclear Systems Design and Analysis, UMass Lowell, Chem. Eng. Nuclear Program Fall 2023\n",
    "\n",
    "# Uranium Mill Network Dynamics Outline\n",
    "$  \n",
    "  \\newcommand{\\Amtrx}{\\boldsymbol{\\mathsf{A}}}\n",
    "  \\newcommand{\\Bmtrx}{\\boldsymbol{\\mathsf{B}}}\n",
    "  \\newcommand{\\Mmtrx}{\\boldsymbol{\\mathsf{M}}}\n",
    "  \\newcommand{\\Imtrx}{\\boldsymbol{\\mathsf{I}}}\n",
    "  \\newcommand{\\Pmtrx}{\\boldsymbol{\\mathsf{P}}}\n",
    "  \\newcommand{\\Lmtrx}{\\boldsymbol{\\mathsf{L}}}\n",
    "  \\newcommand{\\Umtrx}{\\boldsymbol{\\mathsf{U}}}\n",
    "  \\newcommand{\\Smtrx}{\\boldsymbol{\\mathsf{S}}}\n",
    "  \\newcommand{\\xvec}{\\boldsymbol{\\mathsf{x}}}\n",
    "  \\newcommand{\\uvar}{\\boldsymbol{u}}\n",
    "  \\newcommand{\\fvar}{\\boldsymbol{f}}\n",
    "  \\newcommand{\\avec}{\\boldsymbol{\\mathsf{a}}}\n",
    "  \\newcommand{\\bvec}{\\boldsymbol{\\mathsf{b}}}\n",
    "  \\newcommand{\\cvec}{\\boldsymbol{\\mathsf{c}}}\n",
    "  \\newcommand{\\rvec}{\\boldsymbol{\\mathsf{r}}}\n",
    "  \\newcommand{\\mvec}{\\boldsymbol{\\mathsf{m}}}\n",
    "  \\newcommand{\\gvec}{\\boldsymbol{\\mathsf{g}}}\n",
    "  \\newcommand{\\zerovec}{\\boldsymbol{\\mathsf{0}}}\n",
    "  \\newcommand{\\norm}[1]{\\bigl\\lVert{#1}\\bigr\\rVert}\n",
    "  \\newcommand{\\transpose}[1]{{#1}^\\top}\n",
    "  \\DeclareMathOperator{\\rank}{rank}\n",
    "  \\newcommand{\\Power}{\\mathcal{P}}\n",
    "$"
   ]
  },
  {
   "cell_type": "markdown",
   "metadata": {},
   "source": [
    "**Students:** Kyle Rizzuto, Robert Townsend, Jacob Duprey, Kevin McMenemy <br>\n",
    "**Course:** Engy-4390 Nuclear Systems Design and Analysis  <br>\n",
    "**Mentor:** Prof. Valmor F. de Almeida\n",
    "\n",
    "UMass Lowell, Dept. of Chemical Engineering, Nuclear Energy Program \n",
    "<br>\n",
    "**27Sep2023**"
   ]
  },
  {
   "cell_type": "markdown",
   "metadata": {},
   "source": [
    "### Project Timeline\n",
    "----\n",
    "\n",
    "10-16-23 \n",
    "\n",
    "__Dr. Aghara__\n",
    "\n",
    "__Agenda:__ \n",
    "\n",
    "- Discuss project progress in terms of outlining the 4 modules  \n",
    "\n",
    "- Explain why lab scale is the optimal choice \n",
    "\n",
    "- Task timeline \n",
    "\n",
    "- Review best options for meeting times \n",
    "\n",
    "__Minutes:__\n",
    "\n",
    "- Possible module options besides denitration (Filtration, solid-liquid separation) \n",
    "\n",
    "- Evaporation is really drying/calcination \n",
    "\n",
    "- Find the quality of ore - Assume feed & assume product \n",
    "\n",
    "- Find the demand of ore at White Mesa and scale down \n",
    "\n",
    "- Make a math model before shrinking it down \n",
    "\n",
    "- Maybe figure out how much fuel is needed for the research reactors in the US \n",
    "\n",
    "- Find losses incurred by each step based on generalized text \n",
    "\n",
    "- First Status Report due in 1.5 weeks \n",
    "\n",
    "- Statement of work, motivation, math model, modules and how we are breaking them up \n",
    "\n",
    "- Gantt Chart \n",
    "\n",
    "- Using a 1 ton basis for Input material \n",
    "\n",
    "__Tasks:__\n",
    "\n",
    "- Kyle – Restart with Filtration or solid-liquid separation, get a mass balance and component balance with loss terms and input/output species \n",
    "\n",
    "- Robbie - get a mass balance and component balance with loss terms and input/output species \n",
    "\n",
    "- Jacob - get a mass balance and component balance with loss terms and input/output species \n",
    "\n",
    "- Kevin - get a mass balance and component balance with loss terms and input/output species \n",
    "----\n",
    "10-19-23\n",
    "\n",
    "__Dr. Almeida__ \n",
    "\n",
    "__Agenda__ \n",
    "\n",
    "- Discuss the 4 selected modules & related inputs and outputs \n",
    "\n",
    "- Expand on the mathematical modelling side \n",
    "\n",
    "- Establish meeting schedule (Wed 6pm, Thurs 12pm) \n",
    "\n",
    "- Mention ORNL mentor being added to meetings biweekly or so \n",
    "\n",
    "__Minutes__\n",
    "\n",
    "- Worked on version control of GitHub documents \n",
    "\n",
    "- Added a new image for the flowsheet \n",
    "\n",
    "- Confirmed changes to the modules \n",
    "\n",
    "- Informed Dr. Almeida of plans to get Briana Hiscox to attend future meetings \n",
    "\n",
    "- Confirmed weekly meetings via Outlook for Wed & Thurs \n",
    " \n",
    "\n",
    "__Tasks__\n",
    "\n",
    "- Kyle - continue adding to the math model of filtration and add company model \n",
    "\n",
    "- Robbie – Create heap leaching description and figure out mass balances of inputs and outputs. Figure out the type of leaching used and chemicals used at white mesa. Also create a new flowsheet photo.  \n",
    "\n",
    "- Jacob - continue compiling model of solvent extraction \n",
    "\n",
    "- Kevin - continue compiling model of evaporation/drying \n",
    "----\n",
    "10-25-23 \n",
    "\n",
    "__Dr. Aghara & Dr. Almeida (Both Absent)__\n",
    "\n",
    "__Agenda__ \n",
    "\n",
    "- Discuss progress on mathematics modelling \n",
    "\n",
    "- Discuss the addition of precipitation by Dr. Almeida \n",
    "\n",
    "- Confirm that Mentor(s) will be added to the channel for calls \n",
    "\n",
    "- Check on timeline for the first status report & confirm depth of scope for status report \n",
    "\n",
    "__Minutes__ \n",
    "\n",
    "- Figured out github a bit more.  \n",
    "\n",
    "- Discussed how to reach project goals for first status report \n",
    "\n",
    "- Add section talking about cortix \n",
    "\n",
    "- Challenges \n",
    "\n",
    "- Course corrections \n",
    "\n",
    "- Little bit more math modelling \n",
    "\n",
    "- More paragraphs describing modules \n",
    "\n",
    "- Started a rough draft \n",
    "\n",
    "__Tasks__ \n",
    "\n",
    "- Kyle - Add cortix description and challenges \n",
    "\n",
    "- Robbie – Find ore composition basis, still complete/redo chemical eqns.  \n",
    "\n",
    "- Jacob - finishing up module paragraphs and model eqns in basic form, chemical rxn based (mole balances), chemical kinetics for math model \n",
    "\n",
    "- Kevin - finishing up module paragraphs and model eqns in basic form, focusing on uranium diuranate and peroxides. Heat transfer and latent heats for math model \n",
    "\n",
    "- First Status report due Oct. 30th\n",
    "---"
   ]
  },
  {
   "cell_type": "markdown",
   "metadata": {},
   "source": [
    "|**Week**|Day| **Date**  |**Task**|**Owner**|**Note**|\n",
    "|:-------|:-:|:---------:|:-----------|:-------------|:------:|\n",
    "|-     |-  | <font color=\"blue\"><b>November</b></font>| - | - | - |\n",
    "|  9   | W |01Nov23| - | - | - |\n",
    "|**10**| **M** |**06Nov23**| - | - | - |\n",
    "| 10 | W |08Nov23| - | - | - |\n",
    "|**11**| **M** |**13Nov22**| - | - | - |\n",
    "| 11 |W|15Nov22| -  | - | - |\n",
    "|**12**| **M** |**20Nov22**| - | - | - |\n",
    "| 12   |  W  |22Nov22| - | - | - |\n",
    "|**13**| **M** |**27Nov22**| - | - | - |\n",
    "|  13  | W |29Nov22| - | - | - |"
   ]
  },
  {
   "cell_type": "markdown",
   "metadata": {},
   "source": [
    "### Introduction"
   ]
  },
  {
   "cell_type": "markdown",
   "metadata": {},
   "source": [
    "### White Mesa Flowsheet"
   ]
  },
  {
   "cell_type": "markdown",
   "metadata": {},
   "source": [
    "|  |\n",
    "|:---:|\n",
    "| <img width=\"600\" src=\"pics/white-mesa.png\" title=\"Plant Layout\"> |\n",
    "| <p style=\"text-align:center;\"><b>White Mesa Mill Plant Flowsheet.</b></p> |"
   ]
  },
  {
   "cell_type": "markdown",
   "metadata": {},
   "source": [
    "- Description and simplification. "
   ]
  },
  {
   "cell_type": "markdown",
   "metadata": {},
   "source": [
    "### Preliminary Project Approach"
   ]
  },
  {
   "cell_type": "markdown",
   "metadata": {},
   "source": [
    "|     **Module**        |      **Inputs**      |      **Outputs**       |     **Legend**     |\n",
    "|:----------------------|:---------------------|:-----------------------|:-------------------|\n",
    "| Mod 1 (CR)            |-F,T,P from SG        |-F,T,P, to SG           |-F: Flowrate        |\n",
    "|                       |-F,T,P from PR        |-F,T,P, to PR           |-T: Temperature     |\n",
    "|                       |-H from OWP           |-Q to OWP               |-P: Pressure        |\n",
    "| Mod 2 (PR)            |-F,T,P from CR        |-F,T,P to CR            |-Q: Heat rate       |\n",
    "|                       |                      |                        |-X: Steam quality   |\n",
    "|                       |                      |                        |-H: Height          |\n",
    "|                       |                      |                        |-E: Electrical power|\n",
    "| Mod 3 (SG)            |-F,T,P from CR and FWS|-F,T,P to CR            |                    |\n",
    "|                       |                      |-F,T,P,X to TU          |                    |\n",
    "| Mod 4 (TU)            |-F,T,P,X from TU      |-E output as electricity|                    |\n",
    "|                       |                      |-F,T,P,X to CD and FWS  |                    |\n",
    "| Mod 5 (CD)            |-F,T,P,X from TU      |-F,T,P to FWS           |                    |\n",
    "|                       |-Q from cooling tower |                        |                    |"
   ]
  },
  {
   "cell_type": "markdown",
   "metadata": {},
   "source": [
    "###  References"
   ]
  },
  {
   "cell_type": "markdown",
   "metadata": {},
   "source": [
    "- [1] Ref 1 \n",
    "- [2] V. F. de Almeida, [Cortix](https://cortix.org), *Network Dynamics Simulation*, University of Massachusetts Lowell, Dept. of Chemical Engineering (Nuclear program).\n",
    "- [3] V. F. de Almeida, [*Engy-4350: Nuclear Reactor Engineering*](https://github.com/dpploy/engy-4350), University of Massachusetts Lowell, Dept. of Chemical Engineering (Nuclear Program)."
   ]
  }
 ],
 "metadata": {
  "kernelspec": {
   "display_name": "Python 3 (ipykernel)",
   "language": "python",
   "name": "python3"
  },
  "language_info": {
   "codemirror_mode": {
    "name": "ipython",
    "version": 3
   },
   "file_extension": ".py",
   "mimetype": "text/x-python",
   "name": "python",
   "nbconvert_exporter": "python",
   "pygments_lexer": "ipython3",
   "version": "3.11.5"
  }
 },
 "nbformat": 4,
 "nbformat_minor": 4
}
